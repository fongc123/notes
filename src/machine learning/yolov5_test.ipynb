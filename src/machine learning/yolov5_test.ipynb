{
 "cells": [
  {
   "cell_type": "markdown",
   "metadata": {},
   "source": [
    "# Testing YOLOv5"
   ]
  },
  {
   "cell_type": "code",
   "execution_count": 9,
   "metadata": {},
   "outputs": [],
   "source": [
    "import torch\n",
    "import cv2\n",
    "import numpy as np\n",
    "import matplotlib.pyplot as plt"
   ]
  },
  {
   "cell_type": "code",
   "execution_count": 10,
   "metadata": {},
   "outputs": [],
   "source": [
    "PHOON = \"../image processing/image.png\"\n",
    "SAM = \"../image processing/sam.png\""
   ]
  },
  {
   "cell_type": "code",
   "execution_count": 11,
   "metadata": {},
   "outputs": [
    {
     "name": "stderr",
     "output_type": "stream",
     "text": [
      "Using cache found in C:\\Users\\fongc/.cache\\torch\\hub\\ultralytics_yolov5_master\n",
      "YOLOv5  2022-10-30 Python-3.10.4 torch-1.12.1 CUDA:0 (NVIDIA GeForce GTX 1080 Ti, 11264MiB)\n",
      "\n",
      "Fusing layers... \n",
      "YOLOv5s summary: 213 layers, 7225885 parameters, 0 gradients\n",
      "Adding AutoShape... \n"
     ]
    }
   ],
   "source": [
    "# load YOLOV5 model\n",
    "model = torch.hub.load('ultralytics/yolov5', 'yolov5s')"
   ]
  },
  {
   "cell_type": "code",
   "execution_count": 12,
   "metadata": {},
   "outputs": [
    {
     "data": {
      "text/plain": [
       "(4032, 3024, 3)"
      ]
     },
     "execution_count": 12,
     "metadata": {},
     "output_type": "execute_result"
    }
   ],
   "source": [
    "sample_image = cv2.imread(\"../image processing/sam.png\")\n",
    "sample_image.shape"
   ]
  },
  {
   "cell_type": "code",
   "execution_count": 13,
   "metadata": {},
   "outputs": [
    {
     "data": {
      "text/html": [
       "<div>\n",
       "<style scoped>\n",
       "    .dataframe tbody tr th:only-of-type {\n",
       "        vertical-align: middle;\n",
       "    }\n",
       "\n",
       "    .dataframe tbody tr th {\n",
       "        vertical-align: top;\n",
       "    }\n",
       "\n",
       "    .dataframe thead th {\n",
       "        text-align: right;\n",
       "    }\n",
       "</style>\n",
       "<table border=\"1\" class=\"dataframe\">\n",
       "  <thead>\n",
       "    <tr style=\"text-align: right;\">\n",
       "      <th></th>\n",
       "      <th>xmin</th>\n",
       "      <th>ymin</th>\n",
       "      <th>xmax</th>\n",
       "      <th>ymax</th>\n",
       "      <th>confidence</th>\n",
       "      <th>class</th>\n",
       "      <th>name</th>\n",
       "    </tr>\n",
       "  </thead>\n",
       "  <tbody>\n",
       "    <tr>\n",
       "      <th>0</th>\n",
       "      <td>54.050453</td>\n",
       "      <td>1025.465576</td>\n",
       "      <td>2545.255371</td>\n",
       "      <td>3470.399658</td>\n",
       "      <td>0.731696</td>\n",
       "      <td>0</td>\n",
       "      <td>person</td>\n",
       "    </tr>\n",
       "    <tr>\n",
       "      <th>1</th>\n",
       "      <td>2665.886475</td>\n",
       "      <td>2096.011475</td>\n",
       "      <td>3023.735840</td>\n",
       "      <td>3427.594482</td>\n",
       "      <td>0.708644</td>\n",
       "      <td>0</td>\n",
       "      <td>person</td>\n",
       "    </tr>\n",
       "    <tr>\n",
       "      <th>2</th>\n",
       "      <td>735.863037</td>\n",
       "      <td>3140.573242</td>\n",
       "      <td>1895.410156</td>\n",
       "      <td>3978.535645</td>\n",
       "      <td>0.705881</td>\n",
       "      <td>45</td>\n",
       "      <td>bowl</td>\n",
       "    </tr>\n",
       "    <tr>\n",
       "      <th>3</th>\n",
       "      <td>2574.321289</td>\n",
       "      <td>2310.937988</td>\n",
       "      <td>2846.752686</td>\n",
       "      <td>2959.952148</td>\n",
       "      <td>0.465850</td>\n",
       "      <td>56</td>\n",
       "      <td>chair</td>\n",
       "    </tr>\n",
       "    <tr>\n",
       "      <th>4</th>\n",
       "      <td>2134.381348</td>\n",
       "      <td>2043.901978</td>\n",
       "      <td>2955.666504</td>\n",
       "      <td>2247.975586</td>\n",
       "      <td>0.425565</td>\n",
       "      <td>60</td>\n",
       "      <td>dining table</td>\n",
       "    </tr>\n",
       "    <tr>\n",
       "      <th>5</th>\n",
       "      <td>1659.578491</td>\n",
       "      <td>2335.343994</td>\n",
       "      <td>2548.740479</td>\n",
       "      <td>2813.747559</td>\n",
       "      <td>0.326988</td>\n",
       "      <td>42</td>\n",
       "      <td>fork</td>\n",
       "    </tr>\n",
       "    <tr>\n",
       "      <th>6</th>\n",
       "      <td>782.294678</td>\n",
       "      <td>3004.326904</td>\n",
       "      <td>1148.543945</td>\n",
       "      <td>3736.178955</td>\n",
       "      <td>0.315197</td>\n",
       "      <td>44</td>\n",
       "      <td>spoon</td>\n",
       "    </tr>\n",
       "  </tbody>\n",
       "</table>\n",
       "</div>"
      ],
      "text/plain": [
       "          xmin         ymin         xmax         ymax  confidence  class  \\\n",
       "0    54.050453  1025.465576  2545.255371  3470.399658    0.731696      0   \n",
       "1  2665.886475  2096.011475  3023.735840  3427.594482    0.708644      0   \n",
       "2   735.863037  3140.573242  1895.410156  3978.535645    0.705881     45   \n",
       "3  2574.321289  2310.937988  2846.752686  2959.952148    0.465850     56   \n",
       "4  2134.381348  2043.901978  2955.666504  2247.975586    0.425565     60   \n",
       "5  1659.578491  2335.343994  2548.740479  2813.747559    0.326988     42   \n",
       "6   782.294678  3004.326904  1148.543945  3736.178955    0.315197     44   \n",
       "\n",
       "           name  \n",
       "0        person  \n",
       "1        person  \n",
       "2          bowl  \n",
       "3         chair  \n",
       "4  dining table  \n",
       "5          fork  \n",
       "6         spoon  "
      ]
     },
     "execution_count": 13,
     "metadata": {},
     "output_type": "execute_result"
    }
   ],
   "source": [
    "output = model(sample_image)\n",
    "locations = output.pandas().xyxy[0]\n",
    "locations"
   ]
  },
  {
   "cell_type": "code",
   "execution_count": null,
   "metadata": {},
   "outputs": [],
   "source": [
    "# draw bounding boxes and labels on the image\n",
    "for i in range(len(locations)):\n",
    "    x1 = int(locations.iloc[i]['xmin'])\n",
    "    y1 = int(locations.iloc[i]['ymin'])\n",
    "    x2 = int(locations.iloc[i]['xmax'])\n",
    "    y2 = int(locations.iloc[i]['ymax'])\n",
    "    cv2.rectangle(image, (x1, y1), (x2, y2), (0, 255, 0), 2)\n",
    "    cv2.putText(image, locations.iloc[i]['name'], (x1, y1), cv2.FONT_HERSHEY_SIMPLEX, 1, (0, 255, 0), 2)"
   ]
  },
  {
   "cell_type": "code",
   "execution_count": 14,
   "metadata": {},
   "outputs": [],
   "source": [
    "# show image in cv2\n",
    "cv2.imshow(\"sample\", sample_image)\n",
    "cv2.waitKey(0)\n",
    "cv2.destroyAllWindows()"
   ]
  }
 ],
 "metadata": {
  "kernelspec": {
   "display_name": "Python 3.10.4 ('ml')",
   "language": "python",
   "name": "python3"
  },
  "language_info": {
   "codemirror_mode": {
    "name": "ipython",
    "version": 3
   },
   "file_extension": ".py",
   "mimetype": "text/x-python",
   "name": "python",
   "nbconvert_exporter": "python",
   "pygments_lexer": "ipython3",
   "version": "3.10.4"
  },
  "orig_nbformat": 4,
  "vscode": {
   "interpreter": {
    "hash": "b13c84f26b03b81837babb7d6bb182b97bb46d822613cfd30489287e68eae110"
   }
  }
 },
 "nbformat": 4,
 "nbformat_minor": 2
}
