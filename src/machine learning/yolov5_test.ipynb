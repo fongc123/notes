{
 "cells": [
  {
   "cell_type": "markdown",
   "metadata": {},
   "source": [
    "# Testing YOLOv5"
   ]
  },
  {
   "cell_type": "code",
   "execution_count": 1,
   "metadata": {},
   "outputs": [],
   "source": [
    "import torch\n",
    "import cv2\n",
    "import numpy as np\n",
    "import matplotlib.pyplot as plt"
   ]
  },
  {
   "cell_type": "code",
   "execution_count": 28,
   "metadata": {},
   "outputs": [
    {
     "name": "stderr",
     "output_type": "stream",
     "text": [
      "Using cache found in C:\\Users\\fongc/.cache\\torch\\hub\\ultralytics_yolov5_master\n",
      "YOLOv5  2022-10-30 Python-3.10.4 torch-1.12.1 CUDA:0 (NVIDIA GeForce GTX 1080 Ti, 11264MiB)\n",
      "\n",
      "Fusing layers... \n",
      "YOLOv5s summary: 213 layers, 7225885 parameters, 0 gradients\n",
      "Adding AutoShape... \n"
     ]
    }
   ],
   "source": [
    "# load YOLOV5 model\n",
    "model = torch.hub.load('ultralytics/yolov5', 'yolov5s')"
   ]
  },
  {
   "cell_type": "code",
   "execution_count": 34,
   "metadata": {},
   "outputs": [
    {
     "data": {
      "text/plain": [
       "(4032, 3024, 3)"
      ]
     },
     "execution_count": 34,
     "metadata": {},
     "output_type": "execute_result"
    }
   ],
   "source": [
    "PATH = \"../image processing/image.png\"\n",
    "sample_image = cv2.imread(PATH)\n",
    "sample_image.shape"
   ]
  },
  {
   "cell_type": "code",
   "execution_count": 35,
   "metadata": {},
   "outputs": [
    {
     "data": {
      "text/html": [
       "<div>\n",
       "<style scoped>\n",
       "    .dataframe tbody tr th:only-of-type {\n",
       "        vertical-align: middle;\n",
       "    }\n",
       "\n",
       "    .dataframe tbody tr th {\n",
       "        vertical-align: top;\n",
       "    }\n",
       "\n",
       "    .dataframe thead th {\n",
       "        text-align: right;\n",
       "    }\n",
       "</style>\n",
       "<table border=\"1\" class=\"dataframe\">\n",
       "  <thead>\n",
       "    <tr style=\"text-align: right;\">\n",
       "      <th></th>\n",
       "      <th>xmin</th>\n",
       "      <th>ymin</th>\n",
       "      <th>xmax</th>\n",
       "      <th>ymax</th>\n",
       "      <th>confidence</th>\n",
       "      <th>class</th>\n",
       "      <th>name</th>\n",
       "    </tr>\n",
       "  </thead>\n",
       "  <tbody>\n",
       "    <tr>\n",
       "      <th>0</th>\n",
       "      <td>17.133507</td>\n",
       "      <td>1052.253906</td>\n",
       "      <td>3024.000000</td>\n",
       "      <td>4006.670166</td>\n",
       "      <td>0.912743</td>\n",
       "      <td>0</td>\n",
       "      <td>person</td>\n",
       "    </tr>\n",
       "    <tr>\n",
       "      <th>1</th>\n",
       "      <td>2248.325928</td>\n",
       "      <td>1584.324219</td>\n",
       "      <td>2893.812500</td>\n",
       "      <td>2311.958008</td>\n",
       "      <td>0.725131</td>\n",
       "      <td>0</td>\n",
       "      <td>person</td>\n",
       "    </tr>\n",
       "    <tr>\n",
       "      <th>2</th>\n",
       "      <td>1874.522217</td>\n",
       "      <td>1619.944702</td>\n",
       "      <td>2328.340576</td>\n",
       "      <td>2118.708984</td>\n",
       "      <td>0.644577</td>\n",
       "      <td>0</td>\n",
       "      <td>person</td>\n",
       "    </tr>\n",
       "    <tr>\n",
       "      <th>3</th>\n",
       "      <td>0.261799</td>\n",
       "      <td>735.589417</td>\n",
       "      <td>393.129517</td>\n",
       "      <td>2300.362305</td>\n",
       "      <td>0.472321</td>\n",
       "      <td>0</td>\n",
       "      <td>person</td>\n",
       "    </tr>\n",
       "    <tr>\n",
       "      <th>4</th>\n",
       "      <td>1898.208496</td>\n",
       "      <td>3832.242188</td>\n",
       "      <td>2218.631348</td>\n",
       "      <td>4032.000000</td>\n",
       "      <td>0.348972</td>\n",
       "      <td>67</td>\n",
       "      <td>cell phone</td>\n",
       "    </tr>\n",
       "  </tbody>\n",
       "</table>\n",
       "</div>"
      ],
      "text/plain": [
       "          xmin         ymin         xmax         ymax  confidence  class  \\\n",
       "0    17.133507  1052.253906  3024.000000  4006.670166    0.912743      0   \n",
       "1  2248.325928  1584.324219  2893.812500  2311.958008    0.725131      0   \n",
       "2  1874.522217  1619.944702  2328.340576  2118.708984    0.644577      0   \n",
       "3     0.261799   735.589417   393.129517  2300.362305    0.472321      0   \n",
       "4  1898.208496  3832.242188  2218.631348  4032.000000    0.348972     67   \n",
       "\n",
       "         name  \n",
       "0      person  \n",
       "1      person  \n",
       "2      person  \n",
       "3      person  \n",
       "4  cell phone  "
      ]
     },
     "execution_count": 35,
     "metadata": {},
     "output_type": "execute_result"
    }
   ],
   "source": [
    "output = model(sample_image)\n",
    "locations = output.pandas().xyxy[0]\n",
    "locations"
   ]
  },
  {
   "cell_type": "code",
   "execution_count": 36,
   "metadata": {},
   "outputs": [],
   "source": [
    "sample_image = cv2.imread(PATH)"
   ]
  },
  {
   "cell_type": "code",
   "execution_count": 37,
   "metadata": {},
   "outputs": [],
   "source": [
    "# draw bounding boxes and labels on the image\n",
    "for i in range(len(locations)):\n",
    "    loc = locations.iloc[i]\n",
    "    x1 = int(loc['xmin'])\n",
    "    y1 = int(loc['ymin'])\n",
    "    x2 = int(loc['xmax'])\n",
    "    y2 = int(loc['ymax'])\n",
    "    cv2.rectangle(sample_image, (x1, y1), (x2, y2), (255, 255, 255), 2)\n",
    "    cv2.putText(sample_image, \"{} ({})\".format(loc['name'], round(loc['confidence'], 2)), (x1, y1), cv2.FONT_HERSHEY_SIMPLEX, 2, (255, 255, 255), 3)"
   ]
  },
  {
   "cell_type": "code",
   "execution_count": 38,
   "metadata": {},
   "outputs": [
    {
     "data": {
      "text/plain": [
       "True"
      ]
     },
     "execution_count": 38,
     "metadata": {},
     "output_type": "execute_result"
    }
   ],
   "source": [
    "# save image\n",
    "cv2.imwrite(\"yolov5_test.png\", sample_image)"
   ]
  },
  {
   "cell_type": "code",
   "execution_count": null,
   "metadata": {},
   "outputs": [],
   "source": []
  }
 ],
 "metadata": {
  "kernelspec": {
   "display_name": "Python 3.10.4 ('ml')",
   "language": "python",
   "name": "python3"
  },
  "language_info": {
   "codemirror_mode": {
    "name": "ipython",
    "version": 3
   },
   "file_extension": ".py",
   "mimetype": "text/x-python",
   "name": "python",
   "nbconvert_exporter": "python",
   "pygments_lexer": "ipython3",
   "version": "3.10.4"
  },
  "orig_nbformat": 4,
  "vscode": {
   "interpreter": {
    "hash": "b13c84f26b03b81837babb7d6bb182b97bb46d822613cfd30489287e68eae110"
   }
  }
 },
 "nbformat": 4,
 "nbformat_minor": 2
}
