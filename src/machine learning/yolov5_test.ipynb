{
 "cells": [
  {
   "cell_type": "markdown",
   "metadata": {},
   "source": [
    "# Testing YOLOv5"
   ]
  },
  {
   "cell_type": "code",
   "execution_count": 1,
   "metadata": {},
   "outputs": [],
   "source": [
    "import torch\n",
    "import cv2\n",
    "import numpy as np\n",
    "import matplotlib.pyplot as plt"
   ]
  },
  {
   "cell_type": "code",
   "execution_count": 2,
   "metadata": {},
   "outputs": [],
   "source": [
    "PHOON = \"../image processing/image.png\"\n",
    "SAM = \"../image processing/sam.png\""
   ]
  },
  {
   "cell_type": "code",
   "execution_count": 3,
   "metadata": {},
   "outputs": [
    {
     "name": "stderr",
     "output_type": "stream",
     "text": [
      "Using cache found in C:\\Users\\fongc/.cache\\torch\\hub\\ultralytics_yolov5_master\n",
      "YOLOv5  2022-10-30 Python-3.10.4 torch-1.12.1 CUDA:0 (NVIDIA GeForce GTX 1080 Ti, 11264MiB)\n",
      "\n",
      "Fusing layers... \n",
      "YOLOv5s summary: 213 layers, 7225885 parameters, 0 gradients\n",
      "Adding AutoShape... \n"
     ]
    }
   ],
   "source": [
    "# load YOLOV5 model\n",
    "model = torch.hub.load('ultralytics/yolov5', 'yolov5s')"
   ]
  },
  {
   "cell_type": "code",
   "execution_count": 4,
   "metadata": {},
   "outputs": [
    {
     "data": {
      "text/plain": [
       "(4032, 3024, 3)"
      ]
     },
     "execution_count": 4,
     "metadata": {},
     "output_type": "execute_result"
    }
   ],
   "source": [
    "sample_image = cv2.imread(\"../image processing/image.png\")\n",
    "sample_image = cv2.cvtColor(sample_image, cv2.COLOR_BGR2RGB)\n",
    "sample_image.shape"
   ]
  },
  {
   "cell_type": "code",
   "execution_count": 5,
   "metadata": {},
   "outputs": [
    {
     "name": "stderr",
     "output_type": "stream",
     "text": [
      "C:\\Users\\fongc\\AppData\\Local\\Temp\\ipykernel_26528\\212207018.py:2: UserWarning: Matplotlib is currently using agg, which is a non-GUI backend, so cannot show the figure.\n",
      "  plt.show()\n"
     ]
    }
   ],
   "source": [
    "plt.imshow(sample_image)\n",
    "plt.show()"
   ]
  },
  {
   "cell_type": "code",
   "execution_count": 6,
   "metadata": {},
   "outputs": [
    {
     "data": {
      "text/html": [
       "<div>\n",
       "<style scoped>\n",
       "    .dataframe tbody tr th:only-of-type {\n",
       "        vertical-align: middle;\n",
       "    }\n",
       "\n",
       "    .dataframe tbody tr th {\n",
       "        vertical-align: top;\n",
       "    }\n",
       "\n",
       "    .dataframe thead th {\n",
       "        text-align: right;\n",
       "    }\n",
       "</style>\n",
       "<table border=\"1\" class=\"dataframe\">\n",
       "  <thead>\n",
       "    <tr style=\"text-align: right;\">\n",
       "      <th></th>\n",
       "      <th>xmin</th>\n",
       "      <th>ymin</th>\n",
       "      <th>xmax</th>\n",
       "      <th>ymax</th>\n",
       "      <th>confidence</th>\n",
       "      <th>class</th>\n",
       "      <th>name</th>\n",
       "    </tr>\n",
       "  </thead>\n",
       "  <tbody>\n",
       "    <tr>\n",
       "      <th>0</th>\n",
       "      <td>49.564529</td>\n",
       "      <td>1062.219849</td>\n",
       "      <td>3024.000000</td>\n",
       "      <td>4032.000000</td>\n",
       "      <td>0.854464</td>\n",
       "      <td>0</td>\n",
       "      <td>person</td>\n",
       "    </tr>\n",
       "    <tr>\n",
       "      <th>1</th>\n",
       "      <td>1879.117554</td>\n",
       "      <td>1625.366821</td>\n",
       "      <td>2317.291748</td>\n",
       "      <td>2117.424072</td>\n",
       "      <td>0.766876</td>\n",
       "      <td>0</td>\n",
       "      <td>person</td>\n",
       "    </tr>\n",
       "    <tr>\n",
       "      <th>2</th>\n",
       "      <td>0.303712</td>\n",
       "      <td>736.043335</td>\n",
       "      <td>388.209167</td>\n",
       "      <td>2295.257568</td>\n",
       "      <td>0.685770</td>\n",
       "      <td>0</td>\n",
       "      <td>person</td>\n",
       "    </tr>\n",
       "    <tr>\n",
       "      <th>3</th>\n",
       "      <td>1944.653442</td>\n",
       "      <td>1585.101929</td>\n",
       "      <td>2895.375977</td>\n",
       "      <td>2364.617920</td>\n",
       "      <td>0.630172</td>\n",
       "      <td>0</td>\n",
       "      <td>person</td>\n",
       "    </tr>\n",
       "    <tr>\n",
       "      <th>4</th>\n",
       "      <td>1898.086060</td>\n",
       "      <td>3834.170898</td>\n",
       "      <td>2215.537354</td>\n",
       "      <td>4032.000000</td>\n",
       "      <td>0.404695</td>\n",
       "      <td>67</td>\n",
       "      <td>cell phone</td>\n",
       "    </tr>\n",
       "    <tr>\n",
       "      <th>5</th>\n",
       "      <td>874.065247</td>\n",
       "      <td>3763.241943</td>\n",
       "      <td>1417.101807</td>\n",
       "      <td>4032.000000</td>\n",
       "      <td>0.392781</td>\n",
       "      <td>44</td>\n",
       "      <td>spoon</td>\n",
       "    </tr>\n",
       "    <tr>\n",
       "      <th>6</th>\n",
       "      <td>1901.326904</td>\n",
       "      <td>1536.620605</td>\n",
       "      <td>2161.326416</td>\n",
       "      <td>1995.842163</td>\n",
       "      <td>0.342522</td>\n",
       "      <td>0</td>\n",
       "      <td>person</td>\n",
       "    </tr>\n",
       "    <tr>\n",
       "      <th>7</th>\n",
       "      <td>2806.189453</td>\n",
       "      <td>1546.325073</td>\n",
       "      <td>3023.551025</td>\n",
       "      <td>1821.552002</td>\n",
       "      <td>0.293131</td>\n",
       "      <td>0</td>\n",
       "      <td>person</td>\n",
       "    </tr>\n",
       "  </tbody>\n",
       "</table>\n",
       "</div>"
      ],
      "text/plain": [
       "          xmin         ymin         xmax         ymax  confidence  class  \\\n",
       "0    49.564529  1062.219849  3024.000000  4032.000000    0.854464      0   \n",
       "1  1879.117554  1625.366821  2317.291748  2117.424072    0.766876      0   \n",
       "2     0.303712   736.043335   388.209167  2295.257568    0.685770      0   \n",
       "3  1944.653442  1585.101929  2895.375977  2364.617920    0.630172      0   \n",
       "4  1898.086060  3834.170898  2215.537354  4032.000000    0.404695     67   \n",
       "5   874.065247  3763.241943  1417.101807  4032.000000    0.392781     44   \n",
       "6  1901.326904  1536.620605  2161.326416  1995.842163    0.342522      0   \n",
       "7  2806.189453  1546.325073  3023.551025  1821.552002    0.293131      0   \n",
       "\n",
       "         name  \n",
       "0      person  \n",
       "1      person  \n",
       "2      person  \n",
       "3      person  \n",
       "4  cell phone  \n",
       "5       spoon  \n",
       "6      person  \n",
       "7      person  "
      ]
     },
     "execution_count": 6,
     "metadata": {},
     "output_type": "execute_result"
    }
   ],
   "source": [
    "output = model(sample_image)\n",
    "locations = output.pandas().xyxy[0]\n",
    "locations"
   ]
  },
  {
   "cell_type": "code",
   "execution_count": 7,
   "metadata": {},
   "outputs": [
    {
     "name": "stderr",
     "output_type": "stream",
     "text": [
      "C:\\Users\\fongc\\AppData\\Local\\Temp\\ipykernel_26528\\1485325813.py:4: UserWarning: Matplotlib is currently using agg, which is a non-GUI backend, so cannot show the figure.\n",
      "  plt.show()\n"
     ]
    }
   ],
   "source": [
    "p1, p2 = (int(locations.xmin[0]), int(locations.ymin[0])), (int(locations.xmax[0]), int(locations.ymax[0]))\n",
    "cv2.rectangle(sample_image, p1, p2, (0, 255, 0), 2)\n",
    "plt.imshow(sample_image)\n",
    "plt.show()"
   ]
  },
  {
   "cell_type": "code",
   "execution_count": 8,
   "metadata": {},
   "outputs": [],
   "source": [
    "cv2.imshow(\"sample_image\", sample_image)\n",
    "cv2.waitKey(0)\n",
    "cv2.destroyAllWindows()"
   ]
  }
 ],
 "metadata": {
  "kernelspec": {
   "display_name": "Python 3.10.4 ('ml')",
   "language": "python",
   "name": "python3"
  },
  "language_info": {
   "codemirror_mode": {
    "name": "ipython",
    "version": 3
   },
   "file_extension": ".py",
   "mimetype": "text/x-python",
   "name": "python",
   "nbconvert_exporter": "python",
   "pygments_lexer": "ipython3",
   "version": "3.10.4"
  },
  "orig_nbformat": 4,
  "vscode": {
   "interpreter": {
    "hash": "b13c84f26b03b81837babb7d6bb182b97bb46d822613cfd30489287e68eae110"
   }
  }
 },
 "nbformat": 4,
 "nbformat_minor": 2
}
