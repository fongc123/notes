{
 "cells": [
  {
   "cell_type": "markdown",
   "metadata": {},
   "source": [
    "# Testing YOLOv5"
   ]
  },
  {
   "cell_type": "code",
   "execution_count": 14,
   "metadata": {},
   "outputs": [],
   "source": [
    "import torch\n",
    "import cv2\n",
    "import numpy as np\n",
    "import matplotlib.pyplot as plt"
   ]
  },
  {
   "cell_type": "code",
   "execution_count": 15,
   "metadata": {},
   "outputs": [],
   "source": [
    "PHOON = \"../image processing/image.png\"\n",
    "SAM = \"../image processing/sam.png\""
   ]
  },
  {
   "cell_type": "code",
   "execution_count": 16,
   "metadata": {},
   "outputs": [
    {
     "name": "stderr",
     "output_type": "stream",
     "text": [
      "Using cache found in C:\\Users\\fongc/.cache\\torch\\hub\\ultralytics_yolov5_master\n",
      "YOLOv5  2022-10-30 Python-3.10.4 torch-1.12.1 CUDA:0 (NVIDIA GeForce GTX 1080 Ti, 11264MiB)\n",
      "\n",
      "Fusing layers... \n",
      "YOLOv5s summary: 213 layers, 7225885 parameters, 0 gradients\n",
      "Adding AutoShape... \n"
     ]
    }
   ],
   "source": [
    "# load YOLOV5 model\n",
    "model = torch.hub.load('ultralytics/yolov5', 'yolov5s')"
   ]
  },
  {
   "cell_type": "code",
   "execution_count": 17,
   "metadata": {},
   "outputs": [
    {
     "data": {
      "text/plain": [
       "(4032, 3024, 3)"
      ]
     },
     "execution_count": 17,
     "metadata": {},
     "output_type": "execute_result"
    }
   ],
   "source": [
    "sample_image = cv2.imread(\"../image processing/sam.png\")\n",
    "sample_image = cv2.cvtColor(sample_image, cv2.COLOR_BGR2RGB)\n",
    "sample_image.shape"
   ]
  },
  {
   "cell_type": "code",
   "execution_count": 18,
   "metadata": {},
   "outputs": [
    {
     "data": {
      "text/html": [
       "<div>\n",
       "<style scoped>\n",
       "    .dataframe tbody tr th:only-of-type {\n",
       "        vertical-align: middle;\n",
       "    }\n",
       "\n",
       "    .dataframe tbody tr th {\n",
       "        vertical-align: top;\n",
       "    }\n",
       "\n",
       "    .dataframe thead th {\n",
       "        text-align: right;\n",
       "    }\n",
       "</style>\n",
       "<table border=\"1\" class=\"dataframe\">\n",
       "  <thead>\n",
       "    <tr style=\"text-align: right;\">\n",
       "      <th></th>\n",
       "      <th>xmin</th>\n",
       "      <th>ymin</th>\n",
       "      <th>xmax</th>\n",
       "      <th>ymax</th>\n",
       "      <th>confidence</th>\n",
       "      <th>class</th>\n",
       "      <th>name</th>\n",
       "    </tr>\n",
       "  </thead>\n",
       "  <tbody>\n",
       "    <tr>\n",
       "      <th>0</th>\n",
       "      <td>2664.802979</td>\n",
       "      <td>2105.201416</td>\n",
       "      <td>3023.166504</td>\n",
       "      <td>3429.859131</td>\n",
       "      <td>0.708153</td>\n",
       "      <td>0</td>\n",
       "      <td>person</td>\n",
       "    </tr>\n",
       "    <tr>\n",
       "      <th>1</th>\n",
       "      <td>753.305603</td>\n",
       "      <td>3131.430664</td>\n",
       "      <td>1881.173462</td>\n",
       "      <td>3990.446777</td>\n",
       "      <td>0.604553</td>\n",
       "      <td>45</td>\n",
       "      <td>bowl</td>\n",
       "    </tr>\n",
       "    <tr>\n",
       "      <th>2</th>\n",
       "      <td>793.857910</td>\n",
       "      <td>2119.167236</td>\n",
       "      <td>2168.545410</td>\n",
       "      <td>2581.734131</td>\n",
       "      <td>0.541019</td>\n",
       "      <td>53</td>\n",
       "      <td>pizza</td>\n",
       "    </tr>\n",
       "    <tr>\n",
       "      <th>3</th>\n",
       "      <td>2577.572021</td>\n",
       "      <td>2309.634521</td>\n",
       "      <td>2851.037109</td>\n",
       "      <td>2957.665527</td>\n",
       "      <td>0.496329</td>\n",
       "      <td>56</td>\n",
       "      <td>chair</td>\n",
       "    </tr>\n",
       "    <tr>\n",
       "      <th>4</th>\n",
       "      <td>396.442200</td>\n",
       "      <td>1000.841919</td>\n",
       "      <td>2616.462646</td>\n",
       "      <td>3360.106201</td>\n",
       "      <td>0.439024</td>\n",
       "      <td>0</td>\n",
       "      <td>person</td>\n",
       "    </tr>\n",
       "    <tr>\n",
       "      <th>5</th>\n",
       "      <td>2134.939697</td>\n",
       "      <td>2047.931396</td>\n",
       "      <td>2958.225586</td>\n",
       "      <td>2244.889893</td>\n",
       "      <td>0.426364</td>\n",
       "      <td>60</td>\n",
       "      <td>dining table</td>\n",
       "    </tr>\n",
       "    <tr>\n",
       "      <th>6</th>\n",
       "      <td>788.001282</td>\n",
       "      <td>3007.595215</td>\n",
       "      <td>1159.466309</td>\n",
       "      <td>3734.685547</td>\n",
       "      <td>0.404437</td>\n",
       "      <td>44</td>\n",
       "      <td>spoon</td>\n",
       "    </tr>\n",
       "    <tr>\n",
       "      <th>7</th>\n",
       "      <td>2621.507324</td>\n",
       "      <td>3748.203857</td>\n",
       "      <td>3005.864990</td>\n",
       "      <td>4013.185303</td>\n",
       "      <td>0.272843</td>\n",
       "      <td>46</td>\n",
       "      <td>banana</td>\n",
       "    </tr>\n",
       "    <tr>\n",
       "      <th>8</th>\n",
       "      <td>171.344513</td>\n",
       "      <td>498.330505</td>\n",
       "      <td>322.336914</td>\n",
       "      <td>863.677307</td>\n",
       "      <td>0.267362</td>\n",
       "      <td>9</td>\n",
       "      <td>traffic light</td>\n",
       "    </tr>\n",
       "  </tbody>\n",
       "</table>\n",
       "</div>"
      ],
      "text/plain": [
       "          xmin         ymin         xmax         ymax  confidence  class  \\\n",
       "0  2664.802979  2105.201416  3023.166504  3429.859131    0.708153      0   \n",
       "1   753.305603  3131.430664  1881.173462  3990.446777    0.604553     45   \n",
       "2   793.857910  2119.167236  2168.545410  2581.734131    0.541019     53   \n",
       "3  2577.572021  2309.634521  2851.037109  2957.665527    0.496329     56   \n",
       "4   396.442200  1000.841919  2616.462646  3360.106201    0.439024      0   \n",
       "5  2134.939697  2047.931396  2958.225586  2244.889893    0.426364     60   \n",
       "6   788.001282  3007.595215  1159.466309  3734.685547    0.404437     44   \n",
       "7  2621.507324  3748.203857  3005.864990  4013.185303    0.272843     46   \n",
       "8   171.344513   498.330505   322.336914   863.677307    0.267362      9   \n",
       "\n",
       "            name  \n",
       "0         person  \n",
       "1           bowl  \n",
       "2          pizza  \n",
       "3          chair  \n",
       "4         person  \n",
       "5   dining table  \n",
       "6          spoon  \n",
       "7         banana  \n",
       "8  traffic light  "
      ]
     },
     "execution_count": 18,
     "metadata": {},
     "output_type": "execute_result"
    }
   ],
   "source": [
    "output = model(sample_image)\n",
    "locations = output.pandas().xyxy[0]\n",
    "locations"
   ]
  }
 ],
 "metadata": {
  "kernelspec": {
   "display_name": "Python 3.10.4 ('ml')",
   "language": "python",
   "name": "python3"
  },
  "language_info": {
   "codemirror_mode": {
    "name": "ipython",
    "version": 3
   },
   "file_extension": ".py",
   "mimetype": "text/x-python",
   "name": "python",
   "nbconvert_exporter": "python",
   "pygments_lexer": "ipython3",
   "version": "3.10.4"
  },
  "orig_nbformat": 4,
  "vscode": {
   "interpreter": {
    "hash": "b13c84f26b03b81837babb7d6bb182b97bb46d822613cfd30489287e68eae110"
   }
  }
 },
 "nbformat": 4,
 "nbformat_minor": 2
}
