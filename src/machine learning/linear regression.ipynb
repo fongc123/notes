{
 "cells": [
  {
   "cell_type": "markdown",
   "metadata": {},
   "source": [
    "# Linear Regression\n",
    "\n",
    "The code is obtained from a Udemy course (PyTorch: Deep Learning and Artificial Intelligence).\n",
    "\n",
    "The code is also complementary to notes found in Obsidian."
   ]
  },
  {
   "cell_type": "code",
   "execution_count": 513,
   "metadata": {},
   "outputs": [],
   "source": [
    "import torch\n",
    "import torch.nn as nn\n",
    "import numpy as np\n",
    "import matplotlib.pyplot as plt"
   ]
  },
  {
   "cell_type": "code",
   "execution_count": 514,
   "metadata": {},
   "outputs": [],
   "source": [
    "# constants (model will try to predict these values)\n",
    "N = 100\n",
    "m = 0.5\n",
    "b = -2"
   ]
  },
  {
   "cell_type": "code",
   "execution_count": 515,
   "metadata": {},
   "outputs": [],
   "source": [
    "# generate random data of size N\n",
    "X = np.random.random(N) * 10 - 5\n",
    "Y = m * X + b + np.random.randn(N) # Gaussian noise added to the Y values\n",
    "# Y = m * X + b"
   ]
  },
  {
   "cell_type": "code",
   "execution_count": 516,
   "metadata": {},
   "outputs": [
    {
     "data": {
      "image/png": "[encoded data removed]",
      "text/plain": [
       "<Figure size 640x480 with 1 Axes>"
      ]
     },
     "metadata": {},
     "output_type": "display_data"
    }
   ],
   "source": [
    "# plot the data\n",
    "f = plt.scatter(X, Y)"
   ]
  },
  {
   "cell_type": "code",
   "execution_count": 517,
   "metadata": {},
   "outputs": [],
   "source": [
    "# create a linear regression model\n",
    "model = nn.Linear(1, 1)\n",
    "\n",
    "# define the loss function and optimizer\n",
    "criterion = nn.MSELoss()\n",
    "optimizer = torch.optim.SGD(model.parameters(), lr = 0.01)"
   ]
  },
  {
   "cell_type": "code",
   "execution_count": 518,
   "metadata": {},
   "outputs": [],
   "source": [
    "# reshape the data to be `num_samples` by `num_dimensions`\n",
    "X = X.reshape(N, 1)\n",
    "Y = Y.reshape(N, 1)\n",
    "\n",
    "# cast the data type to float32 (PyTorch uses float32 by default; numpy uses float64)\n",
    "inputs = torch.from_numpy(X.astype(np.float32)) # X = torch.from_numpy(X).type(torch.FloatTensor)\n",
    "target = torch.from_numpy(Y.astype(np.float32)) # Y = torch.from_numpy(Y).type(torch.FloatTensor)"
   ]
  },
  {
   "cell_type": "code",
   "execution_count": 519,
   "metadata": {},
   "outputs": [
    {
     "name": "stdout",
     "output_type": "stream",
     "text": [
      "INPUTS: <class 'torch.Tensor'>\n",
      "TARGET: <class 'torch.Tensor'>\n"
     ]
    }
   ],
   "source": [
    "print(\"INPUTS:\", type(inputs))\n",
    "print(\"TARGET:\", type(target))"
   ]
  },
  {
   "cell_type": "markdown",
   "metadata": {},
   "source": [
    "An example of `reshape` is shown below. It changes the dimensions of an array."
   ]
  },
  {
   "cell_type": "code",
   "execution_count": 520,
   "metadata": {},
   "outputs": [
    {
     "name": "stdout",
     "output_type": "stream",
     "text": [
      "ARRAY: [-12.53193631  -0.50329308  -9.55257469   9.57015002 -27.24310553\n",
      " -48.98179702 -11.20291774   8.41176872 -24.73066769 -26.65591158]\n"
     ]
    }
   ],
   "source": [
    "arr = np.random.random(10) * 100 - 50\n",
    "print(\"ARRAY:\", arr)"
   ]
  },
  {
   "cell_type": "code",
   "execution_count": 521,
   "metadata": {},
   "outputs": [
    {
     "name": "stdout",
     "output_type": "stream",
     "text": [
      "[[-12.53193631  -0.50329308  -9.55257469   9.57015002 -27.24310553]\n",
      " [-48.98179702 -11.20291774   8.41176872 -24.73066769 -26.65591158]]\n"
     ]
    }
   ],
   "source": [
    "# reshape to 2 rows by 5 columns\n",
    "print(arr.reshape(2, 5))"
   ]
  },
  {
   "cell_type": "markdown",
   "metadata": {},
   "source": [
    "Both `inputs` and `target` variables are of type `torch.Tensor`."
   ]
  },
  {
   "cell_type": "code",
   "execution_count": 522,
   "metadata": {},
   "outputs": [
    {
     "name": "stdout",
     "output_type": "stream",
     "text": [
      "Epoch 1/40, Loss: 16.8201, Weight: [[-0.63571584]], Bias: [-0.97459847]\n",
      "Epoch 2/40, Loss: 12.2615, Weight: [[-0.4506799]], Bias: [-0.99927807]\n",
      "Epoch 3/40, Loss: 9.0582, Weight: [[-0.29588994]], Bias: [-1.0226622]\n",
      "Epoch 4/40, Loss: 6.8047, Weight: [[-0.16641377]], Bias: [-1.0449077]\n",
      "Epoch 5/40, Loss: 5.2171, Weight: [[-0.05812329]], Bias: [-1.0661471]\n",
      "Epoch 6/40, Loss: 4.0963, Weight: [[0.03243664]], Bias: [-1.0864924]\n",
      "Epoch 7/40, Loss: 3.3028, Weight: [[0.10815783]], Bias: [-1.1060383]\n",
      "Epoch 8/40, Loss: 2.7389, Weight: [[0.17146073]], Bias: [-1.1248652]\n",
      "Epoch 9/40, Loss: 2.3362, Weight: [[0.22437117]], Bias: [-1.1430411]\n",
      "Epoch 10/40, Loss: 2.0468, Weight: [[0.2685847]], Bias: [-1.1606243]\n",
      "Epoch 11/40, Loss: 1.8370, Weight: [[0.30552045]], Bias: [-1.177664]\n",
      "Epoch 12/40, Loss: 1.6832, Weight: [[0.33636618]], Bias: [-1.194203]\n",
      "Epoch 13/40, Loss: 1.5689, Weight: [[0.36211604]], Bias: [-1.2102774]\n",
      "Epoch 14/40, Loss: 1.4826, Weight: [[0.38360205]], Bias: [-1.2259188]\n",
      "Epoch 15/40, Loss: 1.4161, Weight: [[0.4015206]], Bias: [-1.2411542]\n",
      "Epoch 16/40, Loss: 1.3638, Weight: [[0.41645452]], Bias: [-1.2560073]\n",
      "Epoch 17/40, Loss: 1.3216, Weight: [[0.4288916]], Bias: [-1.2704986]\n",
      "Epoch 18/40, Loss: 1.2866, Weight: [[0.4392401]], Bias: [-1.2846462]\n",
      "Epoch 19/40, Loss: 1.2570, Weight: [[0.4478417]], Bias: [-1.298466]\n",
      "Epoch 20/40, Loss: 1.2314, Weight: [[0.45498237]], Bias: [-1.311972]\n",
      "Epoch 21/40, Loss: 1.2087, Weight: [[0.46090144]], Bias: [-1.3251771]\n",
      "Epoch 22/40, Loss: 1.1882, Weight: [[0.46579915]], Bias: [-1.3380923]\n",
      "Epoch 23/40, Loss: 1.1696, Weight: [[0.46984315]], Bias: [-1.350728]\n",
      "Epoch 24/40, Loss: 1.1523, Weight: [[0.4731737]], Bias: [-1.3630935]\n",
      "Epoch 25/40, Loss: 1.1361, Weight: [[0.47590816]], Bias: [-1.3751973]\n",
      "Epoch 26/40, Loss: 1.1209, Weight: [[0.47814476]], Bias: [-1.387047]\n",
      "Epoch 27/40, Loss: 1.1066, Weight: [[0.47996572]], Bias: [-1.3986502]\n",
      "Epoch 28/40, Loss: 1.0930, Weight: [[0.4814398]], Bias: [-1.4100133]\n",
      "Epoch 29/40, Loss: 1.0800, Weight: [[0.48262453]], Bias: [-1.4211428]\n",
      "Epoch 30/40, Loss: 1.0676, Weight: [[0.48356804]], Bias: [-1.4320446]\n",
      "Epoch 31/40, Loss: 1.0558, Weight: [[0.48431063]], Bias: [-1.4427243]\n",
      "Epoch 32/40, Loss: 1.0444, Weight: [[0.48488596]], Bias: [-1.4531872]\n",
      "Epoch 33/40, Loss: 1.0336, Weight: [[0.48532224]], Bias: [-1.4634383]\n",
      "Epoch 34/40, Loss: 1.0231, Weight: [[0.48564303]], Bias: [-1.4734825]\n",
      "Epoch 35/40, Loss: 1.0132, Weight: [[0.48586804]], Bias: [-1.4833244]\n",
      "Epoch 36/40, Loss: 1.0036, Weight: [[0.48601374]], Bias: [-1.4929686]\n",
      "Epoch 37/40, Loss: 0.9944, Weight: [[0.4860939]], Bias: [-1.5024191]\n",
      "Epoch 38/40, Loss: 0.9855, Weight: [[0.48612007]], Bias: [-1.5116804]\n",
      "Epoch 39/40, Loss: 0.9770, Weight: [[0.48610184]], Bias: [-1.5207562]\n",
      "Epoch 40/40, Loss: 0.9689, Weight: [[0.48604724]], Bias: [-1.5296507]\n"
     ]
    }
   ],
   "source": [
    "# train the model\n",
    "num_epochs = 40\n",
    "losses = []\n",
    "for it in range(num_epochs):\n",
    "    # zero the parameter gradients\n",
    "    optimizer.zero_grad()\n",
    "\n",
    "    # forward pass\n",
    "    outputs = model(inputs)\n",
    "    loss = criterion(outputs, target)\n",
    "\n",
    "    # store losses in an array for plotting\n",
    "    losses.append(loss.item())\n",
    "\n",
    "    # backward pass\n",
    "    loss.backward()\n",
    "    optimizer.step()\n",
    "\n",
    "    # store gradients in an array for plotting\n",
    "    w = model.weight.data.numpy()\n",
    "    b = model.bias.data.numpy()\n",
    "    print(f'Epoch {it + 1}/{num_epochs}, Loss: {loss.item():.4f}, Weight: {w}, Bias: {b}')"
   ]
  },
  {
   "cell_type": "code",
   "execution_count": 523,
   "metadata": {},
   "outputs": [
    {
     "data": {
      "text/plain": [
       "[<matplotlib.lines.Line2D at 0x29dba468670>]"
      ]
     },
     "execution_count": 523,
     "metadata": {},
     "output_type": "execute_result"
    },
    {
     "data": {
      "image/png": "[encoded data removed]",
      "text/plain": [
       "<Figure size 640x480 with 1 Axes>"
      ]
     },
     "metadata": {},
     "output_type": "display_data"
    }
   ],
   "source": [
    "# plot the loss\n",
    "plt.plot(losses)"
   ]
  },
  {
   "cell_type": "markdown",
   "metadata": {},
   "source": [
    "A decreasing (fast start, slow end) curve is **ideal** when training machine learning models. "
   ]
  },
  {
   "cell_type": "code",
   "execution_count": 524,
   "metadata": {},
   "outputs": [
    {
     "data": {
      "image/png": "[encoded data removed]",
      "text/plain": [
       "<Figure size 640x480 with 1 Axes>"
      ]
     },
     "metadata": {},
     "output_type": "display_data"
    }
   ],
   "source": [
    "# prediction and plot\n",
    "predicted = model(inputs).detach().numpy() # detach the tensor\n",
    "plt.plot(X, Y, 'ro', label = 'Original data')\n",
    "plt.plot(X, predicted, label = 'Fitted line')\n",
    "plt.legend()\n",
    "plt.show()"
   ]
  },
  {
   "cell_type": "markdown",
   "metadata": {},
   "source": [
    "Alternative way to make predictions without gradients is shown below."
   ]
  },
  {
   "cell_type": "code",
   "execution_count": 525,
   "metadata": {},
   "outputs": [
    {
     "name": "stdout",
     "output_type": "stream",
     "text": [
      "[[-2.8436601e+00]\n",
      " [-3.2489443e+00]\n",
      " [-3.6418951e+00]\n",
      " [-5.5582780e-01]\n",
      " [-3.9338424e+00]\n",
      " [-1.4584864e+00]\n",
      " [ 2.1006775e-01]\n",
      " [-2.7216592e+00]\n",
      " [ 1.0587931e-01]\n",
      " [-1.1208286e+00]\n",
      " [-1.5064524e+00]\n",
      " [-1.6197553e+00]\n",
      " [-2.5399899e-01]\n",
      " [-8.5806632e-01]\n",
      " [-4.8528683e-01]\n",
      " [-2.7589221e+00]\n",
      " [ 6.4924264e-01]\n",
      " [-2.2710409e+00]\n",
      " [-3.1359458e+00]\n",
      " [-3.5734158e+00]\n",
      " [-1.4775261e+00]\n",
      " [-5.3542960e-01]\n",
      " [-1.8734449e+00]\n",
      " [ 2.7737856e-02]\n",
      " [ 2.6409090e-01]\n",
      " [-8.9125055e-01]\n",
      " [-1.0029268e+00]\n",
      " [-2.3687959e+00]\n",
      " [-4.3362856e-01]\n",
      " [-1.9321414e+00]\n",
      " [-2.0830834e+00]\n",
      " [-2.1015675e+00]\n",
      " [ 8.0833673e-01]\n",
      " [-1.5242876e+00]\n",
      " [-1.4667612e+00]\n",
      " [-2.6102605e+00]\n",
      " [-3.1348891e+00]\n",
      " [-3.4263783e+00]\n",
      " [ 8.5169482e-01]\n",
      " [-3.4642804e-01]\n",
      " [-8.9034110e-01]\n",
      " [-3.5635293e+00]\n",
      " [-3.4909225e+00]\n",
      " [-1.9216228e-01]\n",
      " [-2.7727985e+00]\n",
      " [-3.3712535e+00]\n",
      " [ 4.2864704e-01]\n",
      " [-3.4671209e+00]\n",
      " [-3.8613200e+00]\n",
      " [-2.1269591e+00]\n",
      " [-1.7013744e+00]\n",
      " [-3.3791025e+00]\n",
      " [-3.6874845e+00]\n",
      " [-1.5107986e+00]\n",
      " [-2.1386662e+00]\n",
      " [-2.5376725e+00]\n",
      " [-5.4990959e-01]\n",
      " [ 1.0933876e-03]\n",
      " [-1.3880785e+00]\n",
      " [-7.2702169e-03]\n",
      " [-1.9689300e+00]\n",
      " [-1.1568891e+00]\n",
      " [-8.4419036e-01]\n",
      " [-4.5500648e-01]\n",
      " [ 1.5405381e-01]\n",
      " [-1.0247376e+00]\n",
      " [ 7.9643559e-01]\n",
      " [-1.7222376e+00]\n",
      " [-6.3815862e-01]\n",
      " [-9.1161984e-01]\n",
      " [-8.4138906e-01]\n",
      " [-3.3124404e+00]\n",
      " [-2.5988233e+00]\n",
      " [-1.6905265e+00]\n",
      " [-2.9003348e+00]\n",
      " [-3.5605729e+00]\n",
      " [-9.4782436e-01]\n",
      " [-2.5559187e+00]\n",
      " [-1.3806916e+00]\n",
      " [-3.4531918e+00]\n",
      " [-3.7821529e+00]\n",
      " [ 7.2677541e-01]\n",
      " [-4.8659205e-02]\n",
      " [-2.8506644e+00]\n",
      " [-3.9049830e+00]\n",
      " [-1.4319748e+00]\n",
      " [-2.2633739e+00]\n",
      " [-3.3042192e-02]\n",
      " [-2.3068380e-01]\n",
      " [ 1.5437210e-01]\n",
      " [-1.9010484e-01]\n",
      " [-2.3450813e+00]\n",
      " [-2.6103964e+00]\n",
      " [-3.8327098e+00]\n",
      " [-2.8036480e+00]\n",
      " [-3.4573166e+00]\n",
      " [ 2.9065669e-01]\n",
      " [-2.7285099e+00]\n",
      " [ 7.3412013e-01]\n",
      " [-1.3905966e+00]] <class 'numpy.ndarray'>\n"
     ]
    }
   ],
   "source": [
    "with torch.no_grad():\n",
    "    out = model(inputs).numpy()\n",
    "print(out, type(out))"
   ]
  },
  {
   "cell_type": "markdown",
   "metadata": {},
   "source": [
    "Inspect the parameters of the model to see if they match the original settings.\n",
    "- slope `m` $\\rightarrow$ weight `w`\n",
    "- intercept `b` $\\rightarrow$ bias `b`\n",
    "\n",
    "In this example, the original weight and bias is already known."
   ]
  },
  {
   "cell_type": "code",
   "execution_count": 526,
   "metadata": {},
   "outputs": [
    {
     "name": "stdout",
     "output_type": "stream",
     "text": [
      "[[0.48604724]] [-1.5296507]\n"
     ]
    }
   ],
   "source": [
    "w = model.weight.data.numpy()\n",
    "b = model.bias.data.numpy()\n",
    "print(w, b)"
   ]
  }
 ],
 "metadata": {
  "kernelspec": {
   "display_name": "Python 3.10.4 ('ml')",
   "language": "python",
   "name": "python3"
  },
  "language_info": {
   "codemirror_mode": {
    "name": "ipython",
    "version": 3
   },
   "file_extension": ".py",
   "mimetype": "text/x-python",
   "name": "python",
   "nbconvert_exporter": "python",
   "pygments_lexer": "ipython3",
   "version": "3.10.4"
  },
  "orig_nbformat": 4,
  "vscode": {
   "interpreter": {
    "hash": "b13c84f26b03b81837babb7d6bb182b97bb46d822613cfd30489287e68eae110"
   }
  }
 },
 "nbformat": 4,
 "nbformat_minor": 2
}
