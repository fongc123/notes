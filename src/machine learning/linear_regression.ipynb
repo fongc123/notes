{
 "cells": [
  {
   "cell_type": "markdown",
   "metadata": {},
   "source": [
    "# Linear Regression\n",
    "\n",
    "The code is obtained from a Udemy course (PyTorch: Deep Learning and Artificial Intelligence).\n",
    "\n",
    "The code is also complementary to notes found in Obsidian."
   ]
  },
  {
   "cell_type": "code",
   "execution_count": 3,
   "metadata": {},
   "outputs": [],
   "source": [
    "import torch\n",
    "import torch.nn as nn\n",
    "import numpy as np\n",
    "import matplotlib.pyplot as plt"
   ]
  },
  {
   "cell_type": "code",
   "execution_count": 4,
   "metadata": {},
   "outputs": [],
   "source": [
    "# constants (model will try to predict these values)\n",
    "N = 100\n",
    "m = 0.5\n",
    "b = -2"
   ]
  },
  {
   "cell_type": "code",
   "execution_count": 5,
   "metadata": {},
   "outputs": [],
   "source": [
    "# generate random data of size N\n",
    "X = np.random.random(N) * 10 - 5\n",
    "Y = m * X + b + np.random.randn(N) # Gaussian noise added to the Y values\n",
    "# Y = m * X + b"
   ]
  },
  {
   "cell_type": "code",
   "execution_count": 6,
   "metadata": {},
   "outputs": [
    {
     "data": {
      "image/png": "[encoded data removed]",
      "text/plain": [
       "<Figure size 640x480 with 1 Axes>"
      ]
     },
     "metadata": {},
     "output_type": "display_data"
    }
   ],
   "source": [
    "# plot the data\n",
    "f = plt.scatter(X, Y)"
   ]
  },
  {
   "cell_type": "code",
   "execution_count": 7,
   "metadata": {},
   "outputs": [],
   "source": [
    "# create a linear regression model\n",
    "model = nn.Linear(1, 1)\n",
    "\n",
    "# define the loss function and optimizer\n",
    "criterion = nn.MSELoss()\n",
    "optimizer = torch.optim.SGD(model.parameters(), lr = 0.01)"
   ]
  },
  {
   "cell_type": "code",
   "execution_count": 8,
   "metadata": {},
   "outputs": [],
   "source": [
    "# reshape the data to be `num_samples` by `num_dimensions`\n",
    "X = X.reshape(N, 1)\n",
    "Y = Y.reshape(N, 1)\n",
    "\n",
    "# cast the data type to float32 (PyTorch uses float32 by default; numpy uses float64)\n",
    "inputs = torch.from_numpy(X.astype(np.float32)) # X = torch.from_numpy(X).type(torch.FloatTensor)\n",
    "target = torch.from_numpy(Y.astype(np.float32)) # Y = torch.from_numpy(Y).type(torch.FloatTensor)"
   ]
  },
  {
   "cell_type": "code",
   "execution_count": 9,
   "metadata": {},
   "outputs": [
    {
     "name": "stdout",
     "output_type": "stream",
     "text": [
      "INPUTS: <class 'torch.Tensor'>\n",
      "TARGET: <class 'torch.Tensor'>\n"
     ]
    }
   ],
   "source": [
    "print(\"INPUTS:\", type(inputs))\n",
    "print(\"TARGET:\", type(target))"
   ]
  },
  {
   "cell_type": "markdown",
   "metadata": {},
   "source": [
    "An example of `reshape` is shown below. It changes the dimensions of an array."
   ]
  },
  {
   "cell_type": "code",
   "execution_count": 10,
   "metadata": {},
   "outputs": [
    {
     "name": "stdout",
     "output_type": "stream",
     "text": [
      "ARRAY: [-31.02563949  13.06501762  18.56783629  14.44294447  37.54585244\n",
      "   9.99045     37.67623977 -20.46570609 -14.01096746  37.99159712]\n"
     ]
    }
   ],
   "source": [
    "arr = np.random.random(10) * 100 - 50\n",
    "print(\"ARRAY:\", arr)"
   ]
  },
  {
   "cell_type": "code",
   "execution_count": 11,
   "metadata": {},
   "outputs": [
    {
     "name": "stdout",
     "output_type": "stream",
     "text": [
      "[[-31.02563949  13.06501762  18.56783629  14.44294447  37.54585244]\n",
      " [  9.99045     37.67623977 -20.46570609 -14.01096746  37.99159712]]\n"
     ]
    }
   ],
   "source": [
    "# reshape to 2 rows by 5 columns\n",
    "print(arr.reshape(2, 5))"
   ]
  },
  {
   "cell_type": "markdown",
   "metadata": {},
   "source": [
    "Both `inputs` and `target` variables are of type `torch.Tensor`."
   ]
  },
  {
   "cell_type": "code",
   "execution_count": 12,
   "metadata": {},
   "outputs": [
    {
     "name": "stdout",
     "output_type": "stream",
     "text": [
      "Epoch 1/40, Loss: 13.5141, Weight: [[-0.3108427]], Bias: [0.63425124]\n",
      "Epoch 2/40, Loss: 11.3310, Weight: [[-0.19049063]], Bias: [0.58862954]\n",
      "Epoch 3/40, Loss: 9.8074, Weight: [[-0.09227273]], Bias: [0.5429213]\n",
      "Epoch 4/40, Loss: 8.7224, Weight: [[-0.01204792]], Bias: [0.49731195]\n",
      "Epoch 5/40, Loss: 7.9300, Weight: [[0.05354875]], Bias: [0.45194888]\n",
      "Epoch 6/40, Loss: 7.3338, Weight: [[0.10725157]], Bias: [0.40694857]\n",
      "Epoch 7/40, Loss: 6.8699, Weight: [[0.15128234]], Bias: [0.3624025]\n",
      "Epoch 8/40, Loss: 6.4960, Weight: [[0.18744655]], Bias: [0.31838188]\n",
      "Epoch 9/40, Loss: 6.1843, Weight: [[0.21721134]], Bias: [0.27494147]\n",
      "Epoch 10/40, Loss: 5.9161, Weight: [[0.24176896]], Bias: [0.23212282]\n",
      "Epoch 11/40, Loss: 5.6791, Weight: [[0.2620883]], Bias: [0.1899567]\n",
      "Epoch 12/40, Loss: 5.4649, Weight: [[0.27895674]], Bias: [0.14846523]\n",
      "Epoch 13/40, Loss: 5.2681, Weight: [[0.2930142]], Bias: [0.10766358]\n",
      "Epoch 14/40, Loss: 5.0849, Weight: [[0.30478075]], Bias: [0.06756128]\n",
      "Epoch 15/40, Loss: 4.9127, Weight: [[0.31467915]], Bias: [0.02816335]\n",
      "Epoch 16/40, Loss: 4.7499, Weight: [[0.323053]], Bias: [-0.01052878]\n",
      "Epoch 17/40, Loss: 4.5950, Weight: [[0.33018163]], Bias: [-0.04851658]\n",
      "Epoch 18/40, Loss: 4.4473, Weight: [[0.3362921]], Bias: [-0.08580379]\n",
      "Epoch 19/40, Loss: 4.3061, Weight: [[0.34156904]], Bias: [-0.12239598]\n",
      "Epoch 20/40, Loss: 4.1709, Weight: [[0.34616265]], Bias: [-0.15830013]\n",
      "Epoch 21/40, Loss: 4.0412, Weight: [[0.350195]], Bias: [-0.19352433]\n",
      "Epoch 22/40, Loss: 3.9168, Weight: [[0.35376543]], Bias: [-0.22807752]\n",
      "Epoch 23/40, Loss: 3.7973, Weight: [[0.3569548]], Bias: [-0.26196927]\n",
      "Epoch 24/40, Loss: 3.6826, Weight: [[0.35982892]], Bias: [-0.29520965]\n",
      "Epoch 25/40, Loss: 3.5724, Weight: [[0.3624413]], Bias: [-0.3278091]\n",
      "Epoch 26/40, Loss: 3.4665, Weight: [[0.36483562]], Bias: [-0.35977823]\n",
      "Epoch 27/40, Loss: 3.3647, Weight: [[0.36704743]], Bias: [-0.39112785]\n",
      "Epoch 28/40, Loss: 3.2669, Weight: [[0.3691057]], Bias: [-0.42186886]\n",
      "Epoch 29/40, Loss: 3.1729, Weight: [[0.37103415]], Bias: [-0.45201212]\n",
      "Epoch 30/40, Loss: 3.0826, Weight: [[0.37285206]], Bias: [-0.48156852]\n",
      "Epoch 31/40, Loss: 2.9958, Weight: [[0.37457526]], Bias: [-0.5105489]\n",
      "Epoch 32/40, Loss: 2.9123, Weight: [[0.37621665]], Bias: [-0.538964]\n",
      "Epoch 33/40, Loss: 2.8321, Weight: [[0.37778687]], Bias: [-0.5668244]\n",
      "Epoch 34/40, Loss: 2.7550, Weight: [[0.37929463]], Bias: [-0.5941406]\n",
      "Epoch 35/40, Loss: 2.6809, Weight: [[0.3807471]], Bias: [-0.620923]\n",
      "Epoch 36/40, Loss: 2.6096, Weight: [[0.3821502]], Bias: [-0.6471818]\n",
      "Epoch 37/40, Loss: 2.5412, Weight: [[0.38350877]], Bias: [-0.6729271]\n",
      "Epoch 38/40, Loss: 2.4754, Weight: [[0.38482693]], Bias: [-0.69816875]\n",
      "Epoch 39/40, Loss: 2.4121, Weight: [[0.386108]], Bias: [-0.7229165]\n",
      "Epoch 40/40, Loss: 2.3513, Weight: [[0.38735488]], Bias: [-0.7471799]\n"
     ]
    }
   ],
   "source": [
    "# train the model\n",
    "num_epochs = 40\n",
    "losses = []\n",
    "for it in range(num_epochs):\n",
    "    # zero the parameter gradients\n",
    "    optimizer.zero_grad()\n",
    "\n",
    "    # forward pass\n",
    "    outputs = model(inputs)\n",
    "    loss = criterion(outputs, target)\n",
    "\n",
    "    # store losses in an array for plotting\n",
    "    losses.append(loss.item())\n",
    "\n",
    "    # backward pass\n",
    "    loss.backward()\n",
    "    optimizer.step()\n",
    "\n",
    "    # store gradients in an array for plotting\n",
    "    w = model.weight.data.numpy()\n",
    "    b = model.bias.data.numpy()\n",
    "    print(f'Epoch {it + 1}/{num_epochs}, Loss: {loss.item():.4f}, Weight: {w}, Bias: {b}')"
   ]
  },
  {
   "cell_type": "code",
   "execution_count": 13,
   "metadata": {},
   "outputs": [
    {
     "data": {
      "text/plain": [
       "[<matplotlib.lines.Line2D at 0x284631da5f0>]"
      ]
     },
     "execution_count": 13,
     "metadata": {},
     "output_type": "execute_result"
    },
    {
     "data": {
      "image/png": "[encoded data removed]",
      "text/plain": [
       "<Figure size 640x480 with 1 Axes>"
      ]
     },
     "metadata": {},
     "output_type": "display_data"
    }
   ],
   "source": [
    "# plot the loss\n",
    "plt.plot(losses)"
   ]
  },
  {
   "cell_type": "markdown",
   "metadata": {},
   "source": [
    "A decreasing (fast start, slow end) curve is **ideal** when training machine learning models. "
   ]
  },
  {
   "cell_type": "code",
   "execution_count": 14,
   "metadata": {},
   "outputs": [
    {
     "data": {
      "image/png": "[encoded data removed]",
      "text/plain": [
       "<Figure size 640x480 with 1 Axes>"
      ]
     },
     "metadata": {},
     "output_type": "display_data"
    }
   ],
   "source": [
    "# prediction and plot\n",
    "predicted = model(inputs).detach().numpy() # detach the tensor\n",
    "plt.plot(X, Y, 'ro', label = 'Original data')\n",
    "plt.plot(X, predicted, label = 'Fitted line')\n",
    "plt.legend()\n",
    "plt.show()"
   ]
  },
  {
   "cell_type": "markdown",
   "metadata": {},
   "source": [
    "Alternative way to make predictions without gradients is shown below."
   ]
  },
  {
   "cell_type": "code",
   "execution_count": 15,
   "metadata": {},
   "outputs": [
    {
     "name": "stdout",
     "output_type": "stream",
     "text": [
      "[[ 0.8727427 ]\n",
      " [ 0.81552047]\n",
      " [-2.1570542 ]\n",
      " [ 0.66194135]\n",
      " [-1.271511  ]\n",
      " [ 0.8833322 ]\n",
      " [ 0.59787554]\n",
      " [-2.16912   ]\n",
      " [-2.206954  ]\n",
      " [ 0.149674  ]\n",
      " [ 1.178617  ]\n",
      " [ 0.34449142]\n",
      " [-0.6376355 ]\n",
      " [-1.9906168 ]\n",
      " [-0.8695665 ]\n",
      " [-2.0540788 ]\n",
      " [ 0.1181618 ]\n",
      " [ 0.20095229]\n",
      " [-2.2576475 ]\n",
      " [ 0.8969564 ]\n",
      " [ 1.169589  ]\n",
      " [ 0.5337197 ]\n",
      " [-2.4369907 ]\n",
      " [ 0.08394349]\n",
      " [-1.8650222 ]\n",
      " [-0.4704053 ]\n",
      " [ 0.84438974]\n",
      " [-1.944504  ]\n",
      " [ 0.08501053]\n",
      " [-1.34068   ]\n",
      " [ 0.873149  ]\n",
      " [ 0.04796839]\n",
      " [ 0.58014923]\n",
      " [ 1.1809938 ]\n",
      " [-0.01463675]\n",
      " [ 0.5986132 ]\n",
      " [-0.6047957 ]\n",
      " [ 0.5774172 ]\n",
      " [-2.2821739 ]\n",
      " [-0.26003313]\n",
      " [-1.8223538 ]\n",
      " [ 0.80427486]\n",
      " [ 0.77417976]\n",
      " [-2.3653972 ]\n",
      " [-1.195883  ]\n",
      " [ 0.02228183]\n",
      " [ 0.23045516]\n",
      " [-1.9255731 ]\n",
      " [-2.2723181 ]\n",
      " [-0.48820075]\n",
      " [-0.6884971 ]\n",
      " [-2.5805886 ]\n",
      " [ 0.57743245]\n",
      " [-1.047667  ]\n",
      " [ 0.9831374 ]\n",
      " [ 1.0008061 ]\n",
      " [-0.17916828]\n",
      " [-1.736615  ]\n",
      " [-0.22583175]\n",
      " [-0.96922183]\n",
      " [-2.5009947 ]\n",
      " [ 0.7589732 ]\n",
      " [-0.88355416]\n",
      " [-1.0370624 ]\n",
      " [ 0.39745444]\n",
      " [ 0.8660379 ]\n",
      " [-1.696294  ]\n",
      " [ 1.1756024 ]\n",
      " [ 0.18285096]\n",
      " [-0.26901975]\n",
      " [ 0.5481506 ]\n",
      " [-2.1206686 ]\n",
      " [ 0.32965106]\n",
      " [-2.539939  ]\n",
      " [ 0.35735208]\n",
      " [-2.1845312 ]\n",
      " [ 0.6090862 ]\n",
      " [-1.8149402 ]\n",
      " [-1.9111338 ]\n",
      " [-0.7786955 ]\n",
      " [-0.7425668 ]\n",
      " [ 0.0901643 ]\n",
      " [ 0.03643566]\n",
      " [-1.1158375 ]\n",
      " [-0.8165596 ]\n",
      " [-2.5987444 ]\n",
      " [-2.261782  ]\n",
      " [-0.9370836 ]\n",
      " [-1.7745562 ]\n",
      " [ 0.47472614]\n",
      " [-0.6139278 ]\n",
      " [-1.3486469 ]\n",
      " [-2.2131753 ]\n",
      " [-0.73487645]\n",
      " [ 0.58534294]\n",
      " [-2.1704867 ]\n",
      " [-1.9634731 ]\n",
      " [ 0.06920487]\n",
      " [-0.29547754]\n",
      " [-1.1556927 ]] <class 'numpy.ndarray'>\n"
     ]
    }
   ],
   "source": [
    "with torch.no_grad():\n",
    "    out = model(inputs).numpy()\n",
    "print(out, type(out))"
   ]
  },
  {
   "cell_type": "markdown",
   "metadata": {},
   "source": [
    "Inspect the parameters of the model to see if they match the original settings.\n",
    "- slope `m` $\\rightarrow$ weight `w`\n",
    "- intercept `b` $\\rightarrow$ bias `b`\n",
    "\n",
    "In this example, the original weight and bias is already known."
   ]
  },
  {
   "cell_type": "code",
   "execution_count": 16,
   "metadata": {},
   "outputs": [
    {
     "name": "stdout",
     "output_type": "stream",
     "text": [
      "[[0.38735488]] [-0.7471799]\n"
     ]
    }
   ],
   "source": [
    "w = model.weight.data.numpy()\n",
    "b = model.bias.data.numpy()\n",
    "print(w, b)"
   ]
  }
 ],
 "metadata": {
  "kernelspec": {
   "display_name": "Python 3.10.4 ('ml')",
   "language": "python",
   "name": "python3"
  },
  "language_info": {
   "codemirror_mode": {
    "name": "ipython",
    "version": 3
   },
   "file_extension": ".py",
   "mimetype": "text/x-python",
   "name": "python",
   "nbconvert_exporter": "python",
   "pygments_lexer": "ipython3",
   "version": "3.10.4"
  },
  "orig_nbformat": 4,
  "vscode": {
   "interpreter": {
    "hash": "b13c84f26b03b81837babb7d6bb182b97bb46d822613cfd30489287e68eae110"
   }
  }
 },
 "nbformat": 4,
 "nbformat_minor": 2
}
