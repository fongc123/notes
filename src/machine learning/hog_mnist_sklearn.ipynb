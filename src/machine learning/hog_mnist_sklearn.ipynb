{
 "cells": [
  {
   "cell_type": "markdown",
   "metadata": {},
   "source": [
    "# Histogram of Oriented Gradients (HOG) with MNIST Dataset with `sklearn`"
   ]
  },
  {
   "cell_type": "code",
   "execution_count": 1,
   "metadata": {},
   "outputs": [],
   "source": [
    "import torch\n",
    "from torchvision.datasets import MNIST\n",
    "from torchvision import transforms\n",
    "from skimage.feature import hog\n",
    "from sklearn import metrics, svm\n",
    "import matplotlib.pyplot as plt\n",
    "import numpy as np\n",
    "import random"
   ]
  },
  {
   "cell_type": "code",
   "execution_count": 2,
   "metadata": {},
   "outputs": [],
   "source": [
    "def apply_hog(img, o = 9, ppc = (8, 8), cpb = (2, 2)):\n",
    "    # apply HOG to image\n",
    "    features = hog(\n",
    "        img,\n",
    "        orientations = o,\n",
    "        pixels_per_cell = ppc,\n",
    "        cells_per_block = cpb,\n",
    "    )\n",
    "\n",
    "    return features"
   ]
  },
  {
   "cell_type": "code",
   "execution_count": 3,
   "metadata": {},
   "outputs": [
    {
     "name": "stdout",
     "output_type": "stream",
     "text": [
      "cuda:0\n"
     ]
    }
   ],
   "source": [
    "device = torch.device(\"cuda:0\" if torch.cuda.is_available() else \"cpu\")\n",
    "print(device)"
   ]
  },
  {
   "cell_type": "markdown",
   "metadata": {},
   "source": [
    "The `MNIST` class loads in the data. Additionally, we extract HOG features.\n",
    "- Train set size: 60000\n",
    "- Test set size: 10000\n",
    "\n",
    "All **original** images have size $28\\times 28$ pixels."
   ]
  },
  {
   "cell_type": "code",
   "execution_count": 4,
   "metadata": {},
   "outputs": [
    {
     "name": "stdout",
     "output_type": "stream",
     "text": [
      "Train Set (Image): torch.Size([60000, 28, 28])\n",
      "Train Set (Target): torch.Size([60000])\n",
      "Test Set Size: 10000\n"
     ]
    }
   ],
   "source": [
    "# load datasets and transform to tensors\n",
    "# mnist_train = MNIST(\"./data/\", download = True, transform = transforms.ToTensor())\n",
    "mnist_train = MNIST(\"./data/\", download = True, transform = transforms.Lambda(apply_hog))\n",
    "mnist_test = MNIST(\"./data/\", train = False, download = True, transform = transforms.Lambda(apply_hog))\n",
    "\n",
    "print(\"Train Set (Image):\", mnist_train.data.shape)\n",
    "print(\"Train Set (Target):\", mnist_train.targets.shape)\n",
    "print(\"Test Set Size:\", len(mnist_test))"
   ]
  },
  {
   "cell_type": "markdown",
   "metadata": {},
   "source": [
    "After transformation, the data (with the extracted HOG features) is a 1D array and its label is a scalar."
   ]
  },
  {
   "cell_type": "code",
   "execution_count": 5,
   "metadata": {},
   "outputs": [
    {
     "name": "stdout",
     "output_type": "stream",
     "text": [
      "144\n",
      "5\n"
     ]
    }
   ],
   "source": [
    "print(len(mnist_train[0][0]))\n",
    "print(mnist_train[0][1])"
   ]
  },
  {
   "cell_type": "markdown",
   "metadata": {},
   "source": [
    "**NOTE:** The `ToTensor()` method transform a `PIL` image into a Torch tensor!"
   ]
  },
  {
   "cell_type": "code",
   "execution_count": 6,
   "metadata": {},
   "outputs": [
    {
     "name": "stdout",
     "output_type": "stream",
     "text": [
      "(60000, 144)\n"
     ]
    }
   ],
   "source": [
    "# split data and label\n",
    "train_data, train_label = zip(*mnist_train)\n",
    "train_data = np.vstack(train_data)\n",
    "print(train_data.shape)"
   ]
  },
  {
   "cell_type": "code",
   "execution_count": 7,
   "metadata": {},
   "outputs": [],
   "source": [
    "NUM_SAMPLES = 5000\n",
    "\n",
    "train_data = train_data[:NUM_SAMPLES]\n",
    "train_label = train_label[:NUM_SAMPLES]\n",
    "\n",
    "test_data, test_label = zip(*mnist_test)\n",
    "test_data = np.vstack(test_data)\n",
    "test_data = test_data[:int(0.1 * NUM_SAMPLES)]\n",
    "test_label = test_label[:int(0.1 * NUM_SAMPLES)]"
   ]
  },
  {
   "cell_type": "code",
   "execution_count": 8,
   "metadata": {},
   "outputs": [
    {
     "data": {
      "text/plain": [
       "SVC(gamma=0.001)"
      ]
     },
     "execution_count": 8,
     "metadata": {},
     "output_type": "execute_result"
    }
   ],
   "source": [
    "# create SVM classifier\n",
    "clf = svm.SVC(gamma = 0.001)\n",
    "clf.fit(train_data, train_label)"
   ]
  },
  {
   "cell_type": "code",
   "execution_count": 9,
   "metadata": {},
   "outputs": [
    {
     "name": "stdout",
     "output_type": "stream",
     "text": [
      "Accuracy: 0.442\n"
     ]
    }
   ],
   "source": [
    "predicted = clf.predict(test_data)\n",
    "print(\"Accuracy:\", metrics.accuracy_score(test_label, predicted))"
   ]
  }
 ],
 "metadata": {
  "kernelspec": {
   "display_name": "Python 3.10.4 ('ml')",
   "language": "python",
   "name": "python3"
  },
  "language_info": {
   "codemirror_mode": {
    "name": "ipython",
    "version": 3
   },
   "file_extension": ".py",
   "mimetype": "text/x-python",
   "name": "python",
   "nbconvert_exporter": "python",
   "pygments_lexer": "ipython3",
   "version": "3.10.4"
  },
  "orig_nbformat": 4,
  "vscode": {
   "interpreter": {
    "hash": "b13c84f26b03b81837babb7d6bb182b97bb46d822613cfd30489287e68eae110"
   }
  }
 },
 "nbformat": 4,
 "nbformat_minor": 2
}
