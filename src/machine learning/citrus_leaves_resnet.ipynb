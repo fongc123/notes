{
 "cells": [
  {
   "cell_type": "markdown",
   "metadata": {},
   "source": [
    "# Classification of Citrus Leaves with ResNet50"
   ]
  },
  {
   "cell_type": "markdown",
   "metadata": {},
   "source": [
    "## Create Dataloader"
   ]
  },
  {
   "cell_type": "code",
   "execution_count": 1,
   "metadata": {},
   "outputs": [],
   "source": [
    "import torch\n",
    "import torch.nn as nn\n",
    "from torch.utils.data import Dataset, DataLoader\n",
    "from torchvision.io import read_image\n",
    "from torchvision import transforms\n",
    "import cv2\n",
    "import numpy as np\n",
    "import pandas as pd\n",
    "import matplotlib.pyplot as plt\n",
    "import os"
   ]
  },
  {
   "cell_type": "code",
   "execution_count": 2,
   "metadata": {},
   "outputs": [],
   "source": [
    "encoder = {\n",
    "    \"healthy\" : 0,\n",
    "    \"black_spot\" : 1,\n",
    "    \"canker\" : 2,\n",
    "    \"greening\" : 3,\n",
    "    \"healthy\" : 4,\n",
    "    \"melanose\" : 5\n",
    "}\n",
    "\n",
    "# class label is name of sub directory, images are in sub directory\n",
    "class CitrusLeavesDataset(Dataset):\n",
    "    def __init__(self, img_dir, transform = None, target_transform = None):\n",
    "        # define main directory of images and transformations\n",
    "        self.img_dir = img_dir\n",
    "        self.transform = transform\n",
    "        self.target_transform = target_transform\n",
    "\n",
    "        # store paths and labels in DataFrame\n",
    "        data = { \"image_path\" : [], \"label\" : [] }\n",
    "        for sub_dir in os.listdir(img_dir):\n",
    "            for file in os.listdir(os.path.join(img_dir, sub_dir)):\n",
    "                data['image_path'].append(os.path.join(img_dir, sub_dir, file))\n",
    "                data['label'].append(sub_dir)\n",
    "\n",
    "        # store in annotations\n",
    "        self.annotations = pd.DataFrame(data)\n",
    "\n",
    "    def __len__(self):\n",
    "        return len(self.annotations)\n",
    "\n",
    "    def __getitem__(self, idx):\n",
    "        # get image path and label\n",
    "        image = read_image(self.annotations.iloc[idx, 0]).float()\n",
    "        label = encoder[self.annotations.iloc[idx, 1]]\n",
    "        if self.transform:\n",
    "            image = self.transform(image)\n",
    "        if self.target_transform:\n",
    "            label = self.target_transform(label)\n",
    "\n",
    "        return image, label"
   ]
  },
  {
   "cell_type": "code",
   "execution_count": 3,
   "metadata": {},
   "outputs": [],
   "source": [
    "TRAIN_PROPORTION = 0.8\n",
    "BATCH_SIZE = 32\n",
    "EPOCHS = 40\n",
    "SIZE = (256, 256)\n",
    "RESNET_MEAN = [0.485, 0.456, 0.406]\n",
    "RESNET_STD = [0.229, 0.224, 0.225]\n",
    "LEARNING_RATE = 0.001"
   ]
  },
  {
   "cell_type": "code",
   "execution_count": 4,
   "metadata": {},
   "outputs": [],
   "source": [
    "# load data\n",
    "transform = transforms.Compose([\n",
    "    transforms.Resize(SIZE),\n",
    "    transforms.Normalize(mean = RESNET_MEAN, std = RESNET_STD)\n",
    "])\n",
    "citrus_leaves_dataset = CitrusLeavesDataset(img_dir = \"./data_citrus_leaves/\", transform = transform)\n",
    "\n",
    "# get train size and test size\n",
    "train_size = int(TRAIN_PROPORTION * len(citrus_leaves_dataset))\n",
    "test_size = len(citrus_leaves_dataset) - train_size\n",
    "\n",
    "# split data\n",
    "train_dataset, test_dataset = torch.utils.data.random_split(citrus_leaves_dataset, [train_size, test_size])\n",
    "\n",
    "# create data loaders\n",
    "train_loader = DataLoader(dataset = train_dataset, batch_size = BATCH_SIZE, shuffle = True)\n",
    "test_loader = DataLoader(dataset = test_dataset, batch_size = BATCH_SIZE, shuffle = True)"
   ]
  },
  {
   "cell_type": "code",
   "execution_count": 5,
   "metadata": {},
   "outputs": [
    {
     "name": "stdout",
     "output_type": "stream",
     "text": [
      "cuda:0\n"
     ]
    }
   ],
   "source": [
    "device = torch.device(\"cuda:0\" if torch.cuda.is_available() else \"cpu\")\n",
    "print(device)"
   ]
  },
  {
   "cell_type": "code",
   "execution_count": 6,
   "metadata": {},
   "outputs": [
    {
     "name": "stdout",
     "output_type": "stream",
     "text": [
      "Classes: ['black_spot' 'canker' 'greening' 'healthy' 'melanose']\n",
      "Dataset length: 609\n"
     ]
    }
   ],
   "source": [
    "# get information on dataset\n",
    "class_names = citrus_leaves_dataset.annotations['label'].unique()\n",
    "print(\"Classes:\", class_names)\n",
    "print(\"Dataset length:\", len(citrus_leaves_dataset))"
   ]
  },
  {
   "cell_type": "markdown",
   "metadata": {},
   "source": [
    "The dataset contains $609$ images of healthy and unhealthy leaves. The images are in PNG format and have size $256\\times256$.\n",
    "\n",
    "There are five classes: `black_spot`, `canker`, `greening`, `healthy`, and `melanose`."
   ]
  },
  {
   "cell_type": "code",
   "execution_count": 7,
   "metadata": {},
   "outputs": [
    {
     "name": "stderr",
     "output_type": "stream",
     "text": [
      "Clipping input data to the valid range for imshow with RGB data ([0..1] for floats or [0..255] for integers).\n",
      "Clipping input data to the valid range for imshow with RGB data ([0..1] for floats or [0..255] for integers).\n",
      "Clipping input data to the valid range for imshow with RGB data ([0..1] for floats or [0..255] for integers).\n",
      "Clipping input data to the valid range for imshow with RGB data ([0..1] for floats or [0..255] for integers).\n"
     ]
    },
    {
     "data": {
      "image/png": "[encoded data removed]",
      "text/plain": [
       "<Figure size 1200x500 with 4 Axes>"
      ]
     },
     "metadata": {},
     "output_type": "display_data"
    }
   ],
   "source": [
    "# show random sample images\n",
    "fig, axes = plt.subplots(1, 4, figsize = (12, 5))\n",
    "for i in range(4):\n",
    "    image, label = citrus_leaves_dataset[np.random.randint(0, len(citrus_leaves_dataset))]\n",
    "    image = image.numpy().transpose(1, 2, 0)\n",
    "    axes[i].imshow(image)\n",
    "    axes[i].set_title(\"Label: {}\\nShape: {}\".format(label, image.shape))\n",
    "    axes[i].axis('off')\n",
    "plt.tight_layout()\n",
    "plt.show()"
   ]
  },
  {
   "cell_type": "code",
   "execution_count": 8,
   "metadata": {},
   "outputs": [
    {
     "name": "stderr",
     "output_type": "stream",
     "text": [
      "Using cache found in C:\\Users\\fongc/.cache\\torch\\hub\\pytorch_vision_v0.6.0\n",
      "c:\\Users\\fongc\\anaconda3\\envs\\ml\\lib\\site-packages\\torchvision\\models\\_utils.py:208: UserWarning: The parameter 'pretrained' is deprecated since 0.13 and will be removed in 0.15, please use 'weights' instead.\n",
      "  warnings.warn(\n",
      "c:\\Users\\fongc\\anaconda3\\envs\\ml\\lib\\site-packages\\torchvision\\models\\_utils.py:223: UserWarning: Arguments other than a weight enum or `None` for 'weights' are deprecated since 0.13 and will be removed in 0.15. The current behavior is equivalent to passing `weights=ResNet50_Weights.IMAGENET1K_V1`. You can also use `weights=ResNet50_Weights.DEFAULT` to get the most up-to-date weights.\n",
      "  warnings.warn(msg)\n"
     ]
    }
   ],
   "source": [
    "# load ResNet50 model\n",
    "model = torch.hub.load('pytorch/vision:v0.6.0', 'resnet50', pretrained = True)"
   ]
  },
  {
   "cell_type": "code",
   "execution_count": 9,
   "metadata": {},
   "outputs": [
    {
     "name": "stdout",
     "output_type": "stream",
     "text": [
      "Shape of feature extraction part: torch.Size([1, 2048, 1, 1])\n"
     ]
    }
   ],
   "source": [
    "# create feature extraction model\n",
    "feature_extraction = nn.Sequential(*list(model.children())[:-1])\n",
    "sample = feature_extraction(torch.rand(1, 3, SIZE[0], SIZE[1]))\n",
    "print(\"Shape of feature extraction part:\", sample.shape)\n",
    "\n",
    "# freeze parameters\n",
    "for param in feature_extraction.parameters():\n",
    "    param.requires_grad = False"
   ]
  },
  {
   "cell_type": "code",
   "execution_count": 10,
   "metadata": {},
   "outputs": [],
   "source": [
    "# create classifier\n",
    "model = nn.Sequential(\n",
    "    feature_extraction,\n",
    "    nn.Flatten(),\n",
    "    nn.Linear(2048, 6),\n",
    ").to(device)"
   ]
  },
  {
   "cell_type": "code",
   "execution_count": 11,
   "metadata": {},
   "outputs": [],
   "source": [
    "# define loss function and optimizer\n",
    "criterion = torch.nn.CrossEntropyLoss()\n",
    "optimizer = torch.optim.Adam(model.parameters(), lr = LEARNING_RATE)"
   ]
  },
  {
   "cell_type": "code",
   "execution_count": 12,
   "metadata": {},
   "outputs": [],
   "source": [
    "# train model\n",
    "for epoch in range(EPOCHS):\n",
    "    running_loss = 0.0\n",
    "    for i, data in enumerate(train_loader, 0):\n",
    "        inputs, labels = data\n",
    "        inputs = inputs.float()\n",
    "        inputs, labels = inputs.to(device), labels.to(device)\n",
    "        optimizer.zero_grad()\n",
    "        outputs = model(inputs)\n",
    "        loss = criterion(outputs, labels)\n",
    "        loss.backward()\n",
    "        optimizer.step()\n",
    "        running_loss += loss.item()\n",
    "        if i % 100 == 99:\n",
    "            print('[%d, %5d] loss: %.3f' % (epoch + 1, i + 1, running_loss / 100))\n",
    "            running_loss = 0.0"
   ]
  },
  {
   "cell_type": "code",
   "execution_count": 14,
   "metadata": {},
   "outputs": [],
   "source": [
    "# make predictions\n",
    "correct = 0\n",
    "total = 0\n",
    "with torch.no_grad():\n",
    "    for data in test_loader:\n",
    "        images, labels = data\n",
    "        images = images.float()\n",
    "        images, labels = images.to(device), labels.to(device)\n",
    "        outputs = model(images)\n",
    "        _, predicted = torch.max(outputs.data, 1)\n",
    "        total += labels.size(0)\n",
    "        correct += (predicted == labels).sum().item()"
   ]
  },
  {
   "cell_type": "code",
   "execution_count": 15,
   "metadata": {},
   "outputs": [
    {
     "name": "stdout",
     "output_type": "stream",
     "text": [
      "Accuracy: 0.9508196721311475\n"
     ]
    }
   ],
   "source": [
    "print(\"Accuracy:\", correct / total)"
   ]
  },
  {
   "cell_type": "code",
   "execution_count": 25,
   "metadata": {},
   "outputs": [
    {
     "name": "stderr",
     "output_type": "stream",
     "text": [
      "Clipping input data to the valid range for imshow with RGB data ([0..1] for floats or [0..255] for integers).\n"
     ]
    },
    {
     "data": {
      "text/plain": [
       "<matplotlib.image.AxesImage at 0x1d4a4cace80>"
      ]
     },
     "execution_count": 25,
     "metadata": {},
     "output_type": "execute_result"
    },
    {
     "data": {
      "image/png": "[encoded data removed]",
      "text/plain": [
       "<Figure size 640x480 with 1 Axes>"
      ]
     },
     "metadata": {},
     "output_type": "display_data"
    }
   ],
   "source": [
    "plt.imshow(images.detach().cpu().numpy()[0, :, :].transpose(1, 2, 0))"
   ]
  },
  {
   "cell_type": "code",
   "execution_count": null,
   "metadata": {},
   "outputs": [],
   "source": []
  }
 ],
 "metadata": {
  "kernelspec": {
   "display_name": "Python 3.10.4 ('ml')",
   "language": "python",
   "name": "python3"
  },
  "language_info": {
   "codemirror_mode": {
    "name": "ipython",
    "version": 3
   },
   "file_extension": ".py",
   "mimetype": "text/x-python",
   "name": "python",
   "nbconvert_exporter": "python",
   "pygments_lexer": "ipython3",
   "version": "3.10.4"
  },
  "orig_nbformat": 4,
  "vscode": {
   "interpreter": {
    "hash": "b13c84f26b03b81837babb7d6bb182b97bb46d822613cfd30489287e68eae110"
   }
  }
 },
 "nbformat": 4,
 "nbformat_minor": 2
}
