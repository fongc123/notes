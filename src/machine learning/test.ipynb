{
 "cells": [
  {
   "cell_type": "code",
   "execution_count": 1,
   "metadata": {},
   "outputs": [],
   "source": [
    "import torch\n",
    "import time"
   ]
  },
  {
   "cell_type": "code",
   "execution_count": 2,
   "metadata": {},
   "outputs": [
    {
     "data": {
      "text/plain": [
       "True"
      ]
     },
     "execution_count": 2,
     "metadata": {},
     "output_type": "execute_result"
    }
   ],
   "source": [
    "torch.cuda.is_available()"
   ]
  },
  {
   "cell_type": "code",
   "execution_count": 3,
   "metadata": {},
   "outputs": [],
   "source": [
    "device = torch.device(\"cuda:0\" if torch.cuda.is_available() else \"cpu\")"
   ]
  },
  {
   "cell_type": "code",
   "execution_count": 20,
   "metadata": {},
   "outputs": [
    {
     "name": "stdout",
     "output_type": "stream",
     "text": [
      "CPU Time (4): 0.003499746322631836\n",
      "GPU Time (4): 0.00500035285949707\n",
      "\n",
      "CPU Time (40): 0.0015006065368652344\n",
      "GPU Time (40): 0.004498958587646484\n",
      "\n",
      "CPU Time (400): 0.006999492645263672\n",
      "GPU Time (400): 0.005000591278076172\n",
      "\n",
      "CPU Time (4000): 4.817999839782715\n",
      "GPU Time (4000): 0.021498680114746094\n",
      "\n"
     ]
    }
   ],
   "source": [
    "SIZE = 4\n",
    "for i in range(0, 5):\n",
    "    cpu_start = time.time()\n",
    "    cpu_arr = torch.ones(4 * (10 ** i), 4 * (10 ** i))\n",
    "    for _ in range(1000):\n",
    "        cpu_arr += cpu_arr\n",
    "    print(\"CPU Time ({}): {}\".format(4 * (10 ** i), time.time() - cpu_start))\n",
    "\n",
    "    gpu_start = time.time()\n",
    "    gpu_arr = torch.ones(4 * (10 ** i), 4 * (10 ** i)).to(device)\n",
    "    for _ in range(1000):\n",
    "        gpu_arr += gpu_arr\n",
    "    print(\"GPU Time ({}): {}\".format(4 * (10 ** i), time.time() - gpu_start))\n",
    "    print()"
   ]
  },
  {
   "cell_type": "code",
   "execution_count": null,
   "metadata": {},
   "outputs": [],
   "source": []
  }
 ],
 "metadata": {
  "kernelspec": {
   "display_name": "Python 3.10.4 ('ml')",
   "language": "python",
   "name": "python3"
  },
  "language_info": {
   "codemirror_mode": {
    "name": "ipython",
    "version": 3
   },
   "file_extension": ".py",
   "mimetype": "text/x-python",
   "name": "python",
   "nbconvert_exporter": "python",
   "pygments_lexer": "ipython3",
   "version": "3.10.4"
  },
  "orig_nbformat": 4,
  "vscode": {
   "interpreter": {
    "hash": "b13c84f26b03b81837babb7d6bb182b97bb46d822613cfd30489287e68eae110"
   }
  }
 },
 "nbformat": 4,
 "nbformat_minor": 2
}
