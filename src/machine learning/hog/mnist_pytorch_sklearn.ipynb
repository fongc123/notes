{
 "cells": [
  {
   "cell_type": "markdown",
   "metadata": {},
   "source": [
    "# Histogram of Oriented Gradients (HOG) with MNIST Dataset with `pytorch` and Linear Classifiers from `sklearn`"
   ]
  },
  {
   "cell_type": "code",
   "execution_count": 1,
   "metadata": {},
   "outputs": [],
   "source": [
    "import torch\n",
    "from torchvision.datasets import MNIST\n",
    "from torchvision import transforms\n",
    "from torch.utils.data import Subset\n",
    "from skimage.feature import hog\n",
    "from sklearn import metrics, svm\n",
    "from sklearn.linear_model import LogisticRegression\n",
    "import matplotlib.pyplot as plt\n",
    "import numpy as np\n",
    "import random"
   ]
  },
  {
   "cell_type": "code",
   "execution_count": 2,
   "metadata": {},
   "outputs": [],
   "source": [
    "def apply_hog(img, o = 9, ppc = (8, 8), cpb = (2, 2)):\n",
    "    # apply HOG to image\n",
    "    features = hog(\n",
    "        img,\n",
    "        orientations = o,\n",
    "        pixels_per_cell = ppc,\n",
    "        cells_per_block = cpb,\n",
    "    )\n",
    "\n",
    "    return features"
   ]
  },
  {
   "cell_type": "code",
   "execution_count": 3,
   "metadata": {},
   "outputs": [
    {
     "name": "stdout",
     "output_type": "stream",
     "text": [
      "cuda:0\n"
     ]
    }
   ],
   "source": [
    "device = torch.device(\"cuda:0\" if torch.cuda.is_available() else \"cpu\")\n",
    "print(device)"
   ]
  },
  {
   "cell_type": "markdown",
   "metadata": {},
   "source": [
    "The `MNIST` class loads in the data. Additionally, we extract HOG features.\n",
    "- Train set size: 60000\n",
    "- Test set size: 10000\n",
    "\n",
    "All **original** images have size $28\\times 28$ pixels."
   ]
  },
  {
   "cell_type": "code",
   "execution_count": 4,
   "metadata": {},
   "outputs": [
    {
     "name": "stdout",
     "output_type": "stream",
     "text": [
      "Train Set (Image): torch.Size([60000, 28, 28])\n",
      "Train Set (Target): torch.Size([60000])\n",
      "Test Set Size: 10000\n"
     ]
    }
   ],
   "source": [
    "# load datasets and transform to tensors\n",
    "# mnist_train = MNIST(\"./data/\", download = True, transform = transforms.ToTensor())\n",
    "mnist_train = MNIST(\"./data_mnist/\", download = True, transform = transforms.Lambda(apply_hog))\n",
    "mnist_test = MNIST(\"./data_mnist/\", train = False, download = True, transform = transforms.Lambda(apply_hog))\n",
    "\n",
    "print(\"Train Set (Image):\", mnist_train.data.shape)\n",
    "print(\"Train Set (Target):\", mnist_train.targets.shape)\n",
    "print(\"Test Set Size:\", len(mnist_test))"
   ]
  },
  {
   "cell_type": "markdown",
   "metadata": {},
   "source": [
    "After transformation, the data (with the extracted HOG features) is a 1D array and its label is a scalar."
   ]
  },
  {
   "cell_type": "code",
   "execution_count": 5,
   "metadata": {},
   "outputs": [
    {
     "name": "stdout",
     "output_type": "stream",
     "text": [
      "144\n",
      "5\n"
     ]
    }
   ],
   "source": [
    "print(len(mnist_train[0][0]))\n",
    "print(mnist_train[0][1])"
   ]
  },
  {
   "cell_type": "markdown",
   "metadata": {},
   "source": [
    "**NOTE:** The `ToTensor()` method transform a `PIL` image into a Torch tensor!"
   ]
  },
  {
   "cell_type": "code",
   "execution_count": 6,
   "metadata": {},
   "outputs": [],
   "source": [
    "NUM_SAMPLES = 10000\n",
    "indices = torch.arange(NUM_SAMPLES)"
   ]
  },
  {
   "cell_type": "code",
   "execution_count": 7,
   "metadata": {},
   "outputs": [
    {
     "name": "stdout",
     "output_type": "stream",
     "text": [
      "(10000, 144)\n"
     ]
    }
   ],
   "source": [
    "# split data and label\n",
    "train_data, train_label = zip(*Subset(mnist_train, indices))\n",
    "train_data = np.vstack(train_data)\n",
    "print(train_data.shape)"
   ]
  },
  {
   "cell_type": "code",
   "execution_count": 8,
   "metadata": {},
   "outputs": [
    {
     "name": "stdout",
     "output_type": "stream",
     "text": [
      "(10000, 144)\n"
     ]
    }
   ],
   "source": [
    "test_data, test_label = zip(*Subset(mnist_test, indices))\n",
    "test_data = np.vstack(test_data)\n",
    "print(test_data.shape)"
   ]
  },
  {
   "cell_type": "markdown",
   "metadata": {},
   "source": [
    "## SVM"
   ]
  },
  {
   "cell_type": "code",
   "execution_count": 9,
   "metadata": {},
   "outputs": [
    {
     "data": {
      "text/plain": [
       "SVC(gamma=0.001)"
      ]
     },
     "execution_count": 9,
     "metadata": {},
     "output_type": "execute_result"
    }
   ],
   "source": [
    "# create SVM classifier\n",
    "svm = svm.SVC(gamma = 0.001)\n",
    "svm.fit(train_data, train_label)"
   ]
  },
  {
   "cell_type": "code",
   "execution_count": 10,
   "metadata": {},
   "outputs": [
    {
     "name": "stdout",
     "output_type": "stream",
     "text": [
      "Accuracy: 0.7351\n"
     ]
    }
   ],
   "source": [
    "predicted_svm = svm.predict(test_data)\n",
    "print(\"Accuracy:\", metrics.accuracy_score(test_label, predicted_svm))"
   ]
  },
  {
   "cell_type": "markdown",
   "metadata": {},
   "source": [
    "## Logistic Regression"
   ]
  },
  {
   "cell_type": "code",
   "execution_count": 11,
   "metadata": {},
   "outputs": [],
   "source": [
    "# split data and label for train\n",
    "train_data, train_label = zip(*mnist_train)\n",
    "train_data = np.vstack(train_data)\n",
    "\n",
    "# split data and label for test\n",
    "test_data, test_label = zip(*mnist_test)\n",
    "test_data = np.vstack(test_data)"
   ]
  },
  {
   "cell_type": "code",
   "execution_count": 12,
   "metadata": {},
   "outputs": [
    {
     "data": {
      "text/plain": [
       "LogisticRegression(C=0.005, tol=0.1)"
      ]
     },
     "execution_count": 12,
     "metadata": {},
     "output_type": "execute_result"
    }
   ],
   "source": [
    "linear = LogisticRegression(C = 50.0 / NUM_SAMPLES, tol = 0.1)\n",
    "linear.fit(train_data, train_label)"
   ]
  },
  {
   "cell_type": "code",
   "execution_count": 13,
   "metadata": {},
   "outputs": [
    {
     "name": "stdout",
     "output_type": "stream",
     "text": [
      "Accuracy: 0.9018\n"
     ]
    }
   ],
   "source": [
    "predicted_linear = linear.predict(test_data)\n",
    "print(\"Accuracy:\", metrics.accuracy_score(test_label, predicted_linear))"
   ]
  }
 ],
 "metadata": {
  "kernelspec": {
   "display_name": "Python 3.10.4 ('ml')",
   "language": "python",
   "name": "python3"
  },
  "language_info": {
   "codemirror_mode": {
    "name": "ipython",
    "version": 3
   },
   "file_extension": ".py",
   "mimetype": "text/x-python",
   "name": "python",
   "nbconvert_exporter": "python",
   "pygments_lexer": "ipython3",
   "version": "3.10.4"
  },
  "orig_nbformat": 4,
  "vscode": {
   "interpreter": {
    "hash": "b13c84f26b03b81837babb7d6bb182b97bb46d822613cfd30489287e68eae110"
   }
  }
 },
 "nbformat": 4,
 "nbformat_minor": 2
}
