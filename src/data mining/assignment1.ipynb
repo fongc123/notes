{
 "cells": [
  {
   "cell_type": "markdown",
   "metadata": {},
   "source": [
    "# COMP4331 Assignment 1"
   ]
  },
  {
   "cell_type": "markdown",
   "metadata": {},
   "source": [
    "## Preparing the dataset"
   ]
  },
  {
   "cell_type": "code",
   "execution_count": 100,
   "metadata": {},
   "outputs": [],
   "source": [
    "import seaborn as sns\n",
    "import numpy as np\n",
    "import pandas as pd\n",
    "import matplotlib.pyplot as plt\n",
    "import scipy\n",
    "import sklearn"
   ]
  },
  {
   "cell_type": "code",
   "execution_count": 101,
   "metadata": {},
   "outputs": [],
   "source": [
    "# load \"forestfires.csv\" into a pandas dataframe\n",
    "df = pd.read_csv(\"forestfires.csv\", sep = ',')"
   ]
  },
  {
   "cell_type": "code",
   "execution_count": 102,
   "metadata": {},
   "outputs": [
    {
     "data": {
      "text/html": [
       "<div>\n",
       "<style scoped>\n",
       "    .dataframe tbody tr th:only-of-type {\n",
       "        vertical-align: middle;\n",
       "    }\n",
       "\n",
       "    .dataframe tbody tr th {\n",
       "        vertical-align: top;\n",
       "    }\n",
       "\n",
       "    .dataframe thead th {\n",
       "        text-align: right;\n",
       "    }\n",
       "</style>\n",
       "<table border=\"1\" class=\"dataframe\">\n",
       "  <thead>\n",
       "    <tr style=\"text-align: right;\">\n",
       "      <th></th>\n",
       "      <th>X</th>\n",
       "      <th>Y</th>\n",
       "      <th>month</th>\n",
       "      <th>day</th>\n",
       "      <th>FFMC</th>\n",
       "      <th>DMC</th>\n",
       "      <th>DC</th>\n",
       "      <th>ISI</th>\n",
       "      <th>temp</th>\n",
       "      <th>RH</th>\n",
       "      <th>wind</th>\n",
       "      <th>rain</th>\n",
       "      <th>area</th>\n",
       "    </tr>\n",
       "  </thead>\n",
       "  <tbody>\n",
       "    <tr>\n",
       "      <th>0</th>\n",
       "      <td>7</td>\n",
       "      <td>5</td>\n",
       "      <td>mar</td>\n",
       "      <td>fri</td>\n",
       "      <td>86.2</td>\n",
       "      <td>26.2</td>\n",
       "      <td>94.3</td>\n",
       "      <td>5.1</td>\n",
       "      <td>8.2</td>\n",
       "      <td>51</td>\n",
       "      <td>6.7</td>\n",
       "      <td>0.0</td>\n",
       "      <td>0.0</td>\n",
       "    </tr>\n",
       "    <tr>\n",
       "      <th>1</th>\n",
       "      <td>7</td>\n",
       "      <td>4</td>\n",
       "      <td>oct</td>\n",
       "      <td>tue</td>\n",
       "      <td>90.6</td>\n",
       "      <td>35.4</td>\n",
       "      <td>669.1</td>\n",
       "      <td>6.7</td>\n",
       "      <td>18.0</td>\n",
       "      <td>33</td>\n",
       "      <td>0.9</td>\n",
       "      <td>0.0</td>\n",
       "      <td>0.0</td>\n",
       "    </tr>\n",
       "    <tr>\n",
       "      <th>2</th>\n",
       "      <td>7</td>\n",
       "      <td>4</td>\n",
       "      <td>oct</td>\n",
       "      <td>sat</td>\n",
       "      <td>90.6</td>\n",
       "      <td>43.7</td>\n",
       "      <td>686.9</td>\n",
       "      <td>6.7</td>\n",
       "      <td>14.6</td>\n",
       "      <td>33</td>\n",
       "      <td>1.3</td>\n",
       "      <td>0.0</td>\n",
       "      <td>0.0</td>\n",
       "    </tr>\n",
       "    <tr>\n",
       "      <th>3</th>\n",
       "      <td>8</td>\n",
       "      <td>6</td>\n",
       "      <td>mar</td>\n",
       "      <td>fri</td>\n",
       "      <td>91.7</td>\n",
       "      <td>33.3</td>\n",
       "      <td>77.5</td>\n",
       "      <td>9.0</td>\n",
       "      <td>8.3</td>\n",
       "      <td>97</td>\n",
       "      <td>4.0</td>\n",
       "      <td>0.2</td>\n",
       "      <td>0.0</td>\n",
       "    </tr>\n",
       "    <tr>\n",
       "      <th>4</th>\n",
       "      <td>8</td>\n",
       "      <td>6</td>\n",
       "      <td>mar</td>\n",
       "      <td>sun</td>\n",
       "      <td>89.3</td>\n",
       "      <td>51.3</td>\n",
       "      <td>102.2</td>\n",
       "      <td>9.6</td>\n",
       "      <td>11.4</td>\n",
       "      <td>99</td>\n",
       "      <td>1.8</td>\n",
       "      <td>0.0</td>\n",
       "      <td>0.0</td>\n",
       "    </tr>\n",
       "    <tr>\n",
       "      <th>5</th>\n",
       "      <td>8</td>\n",
       "      <td>6</td>\n",
       "      <td>aug</td>\n",
       "      <td>sun</td>\n",
       "      <td>92.3</td>\n",
       "      <td>85.3</td>\n",
       "      <td>488.0</td>\n",
       "      <td>14.7</td>\n",
       "      <td>22.2</td>\n",
       "      <td>29</td>\n",
       "      <td>5.4</td>\n",
       "      <td>0.0</td>\n",
       "      <td>0.0</td>\n",
       "    </tr>\n",
       "    <tr>\n",
       "      <th>6</th>\n",
       "      <td>8</td>\n",
       "      <td>6</td>\n",
       "      <td>aug</td>\n",
       "      <td>mon</td>\n",
       "      <td>92.3</td>\n",
       "      <td>88.9</td>\n",
       "      <td>495.6</td>\n",
       "      <td>8.5</td>\n",
       "      <td>24.1</td>\n",
       "      <td>27</td>\n",
       "      <td>3.1</td>\n",
       "      <td>0.0</td>\n",
       "      <td>0.0</td>\n",
       "    </tr>\n",
       "    <tr>\n",
       "      <th>7</th>\n",
       "      <td>8</td>\n",
       "      <td>6</td>\n",
       "      <td>aug</td>\n",
       "      <td>mon</td>\n",
       "      <td>91.5</td>\n",
       "      <td>145.4</td>\n",
       "      <td>608.2</td>\n",
       "      <td>10.7</td>\n",
       "      <td>8.0</td>\n",
       "      <td>86</td>\n",
       "      <td>2.2</td>\n",
       "      <td>0.0</td>\n",
       "      <td>0.0</td>\n",
       "    </tr>\n",
       "    <tr>\n",
       "      <th>8</th>\n",
       "      <td>8</td>\n",
       "      <td>6</td>\n",
       "      <td>sep</td>\n",
       "      <td>tue</td>\n",
       "      <td>91.0</td>\n",
       "      <td>129.5</td>\n",
       "      <td>692.6</td>\n",
       "      <td>7.0</td>\n",
       "      <td>13.1</td>\n",
       "      <td>63</td>\n",
       "      <td>5.4</td>\n",
       "      <td>0.0</td>\n",
       "      <td>0.0</td>\n",
       "    </tr>\n",
       "    <tr>\n",
       "      <th>9</th>\n",
       "      <td>7</td>\n",
       "      <td>5</td>\n",
       "      <td>sep</td>\n",
       "      <td>sat</td>\n",
       "      <td>92.5</td>\n",
       "      <td>88.0</td>\n",
       "      <td>698.6</td>\n",
       "      <td>7.1</td>\n",
       "      <td>22.8</td>\n",
       "      <td>40</td>\n",
       "      <td>4.0</td>\n",
       "      <td>0.0</td>\n",
       "      <td>0.0</td>\n",
       "    </tr>\n",
       "  </tbody>\n",
       "</table>\n",
       "</div>"
      ],
      "text/plain": [
       "   X  Y month  day  FFMC    DMC     DC   ISI  temp  RH  wind  rain  area\n",
       "0  7  5   mar  fri  86.2   26.2   94.3   5.1   8.2  51   6.7   0.0   0.0\n",
       "1  7  4   oct  tue  90.6   35.4  669.1   6.7  18.0  33   0.9   0.0   0.0\n",
       "2  7  4   oct  sat  90.6   43.7  686.9   6.7  14.6  33   1.3   0.0   0.0\n",
       "3  8  6   mar  fri  91.7   33.3   77.5   9.0   8.3  97   4.0   0.2   0.0\n",
       "4  8  6   mar  sun  89.3   51.3  102.2   9.6  11.4  99   1.8   0.0   0.0\n",
       "5  8  6   aug  sun  92.3   85.3  488.0  14.7  22.2  29   5.4   0.0   0.0\n",
       "6  8  6   aug  mon  92.3   88.9  495.6   8.5  24.1  27   3.1   0.0   0.0\n",
       "7  8  6   aug  mon  91.5  145.4  608.2  10.7   8.0  86   2.2   0.0   0.0\n",
       "8  8  6   sep  tue  91.0  129.5  692.6   7.0  13.1  63   5.4   0.0   0.0\n",
       "9  7  5   sep  sat  92.5   88.0  698.6   7.1  22.8  40   4.0   0.0   0.0"
      ]
     },
     "execution_count": 102,
     "metadata": {},
     "output_type": "execute_result"
    }
   ],
   "source": [
    "df.head(10)"
   ]
  },
  {
   "cell_type": "markdown",
   "metadata": {},
   "source": [
    "## Task 1. Basic Summary"
   ]
  },
  {
   "cell_type": "markdown",
   "metadata": {},
   "source": [
    "The mean, standard deviation, mode, median, and five-number summary of the `RH` attribute is reported."
   ]
  },
  {
   "cell_type": "code",
   "execution_count": 103,
   "metadata": {},
   "outputs": [
    {
     "name": "stdout",
     "output_type": "stream",
     "text": [
      "RH mean:  44.28820116054158\n",
      "RH standard deviation:  16.317469239378394\n",
      "RH mode:  0    27\n",
      "Name: RH, dtype: int64\n",
      "RH median:  42.0\n",
      "RH five-number summary:  count    517.000000\n",
      "mean      44.288201\n",
      "std       16.317469\n",
      "min       15.000000\n",
      "25%       33.000000\n",
      "50%       42.000000\n",
      "75%       53.000000\n",
      "max      100.000000\n",
      "Name: RH, dtype: float64\n"
     ]
    }
   ],
   "source": [
    "print(\"RH mean: \", df['RH'].mean())\n",
    "print(\"RH standard deviation: \", df['RH'].std())\n",
    "print(\"RH mode: \", df['RH'].mode())\n",
    "print(\"RH median: \", df['RH'].median())\n",
    "print(\"RH five-number summary: \", df['RH'].describe())"
   ]
  },
  {
   "cell_type": "markdown",
   "metadata": {},
   "source": [
    "The mean, standard deviation, mode, median, and five-number summary of the `wind` attribute is reported."
   ]
  },
  {
   "cell_type": "code",
   "execution_count": 104,
   "metadata": {},
   "outputs": [
    {
     "name": "stdout",
     "output_type": "stream",
     "text": [
      "wind mean:  4.017601547388782\n",
      "wind standard deviation:  1.7916526009464604\n",
      "wind mode:  0    2.2\n",
      "1    3.1\n",
      "Name: wind, dtype: float64\n",
      "wind median:  4.0\n",
      "wind five-number summary:  count    517.000000\n",
      "mean       4.017602\n",
      "std        1.791653\n",
      "min        0.400000\n",
      "25%        2.700000\n",
      "50%        4.000000\n",
      "75%        4.900000\n",
      "max        9.400000\n",
      "Name: wind, dtype: float64\n"
     ]
    }
   ],
   "source": [
    "print(\"wind mean: \", df['wind'].mean())\n",
    "print(\"wind standard deviation: \", df['wind'].std())\n",
    "print(\"wind mode: \", df['wind'].mode())\n",
    "print(\"wind median: \", df['wind'].median())\n",
    "print(\"wind five-number summary: \", df['wind'].describe())"
   ]
  },
  {
   "cell_type": "markdown",
   "metadata": {},
   "source": [
    "## Task 2. Box Plot"
   ]
  },
  {
   "cell_type": "markdown",
   "metadata": {},
   "source": [
    "### Part A: Boxplot for `RH` attribute"
   ]
  },
  {
   "cell_type": "code",
   "execution_count": 105,
   "metadata": {},
   "outputs": [
    {
     "data": {
      "text/plain": [
       "{'whiskers': [<matplotlib.lines.Line2D at 0x1ac85a96350>,\n",
       "  <matplotlib.lines.Line2D at 0x1ac85a96620>],\n",
       " 'caps': [<matplotlib.lines.Line2D at 0x1ac85a968f0>,\n",
       "  <matplotlib.lines.Line2D at 0x1ac85a96bc0>],\n",
       " 'boxes': [<matplotlib.lines.Line2D at 0x1ac85a96080>],\n",
       " 'medians': [<matplotlib.lines.Line2D at 0x1ac85a96e90>],\n",
       " 'fliers': [<matplotlib.lines.Line2D at 0x1ac85a97160>],\n",
       " 'means': []}"
      ]
     },
     "execution_count": 105,
     "metadata": {},
     "output_type": "execute_result"
    },
    {
     "data": {
      "image/png": "[encoded data removed]",
      "text/plain": [
       "<Figure size 640x480 with 1 Axes>"
      ]
     },
     "metadata": {},
     "output_type": "display_data"
    }
   ],
   "source": [
    "# generate boxplot for `RH` attribute with matplotlib\n",
    "plt.boxplot(df['RH'])"
   ]
  },
  {
   "cell_type": "markdown",
   "metadata": {},
   "source": [
    "### Part B: Boxplot for `RH` attribute for various values of month"
   ]
  },
  {
   "cell_type": "code",
   "execution_count": 106,
   "metadata": {},
   "outputs": [
    {
     "data": {
      "text/plain": [
       "{'whiskers': [<matplotlib.lines.Line2D at 0x1ac85afa1a0>,\n",
       "  <matplotlib.lines.Line2D at 0x1ac85afa470>,\n",
       "  <matplotlib.lines.Line2D at 0x1ac85afb430>,\n",
       "  <matplotlib.lines.Line2D at 0x1ac85afb700>,\n",
       "  <matplotlib.lines.Line2D at 0x1ac85b34820>,\n",
       "  <matplotlib.lines.Line2D at 0x1ac85b34af0>,\n",
       "  <matplotlib.lines.Line2D at 0x1ac85b35bd0>,\n",
       "  <matplotlib.lines.Line2D at 0x1ac85b35ea0>,\n",
       "  <matplotlib.lines.Line2D at 0x1ac85b36f80>,\n",
       "  <matplotlib.lines.Line2D at 0x1ac85b37250>,\n",
       "  <matplotlib.lines.Line2D at 0x1ac85b5c370>,\n",
       "  <matplotlib.lines.Line2D at 0x1ac85b5c640>,\n",
       "  <matplotlib.lines.Line2D at 0x1ac85b5d720>,\n",
       "  <matplotlib.lines.Line2D at 0x1ac85b5d9f0>,\n",
       "  <matplotlib.lines.Line2D at 0x1ac85b5ead0>,\n",
       "  <matplotlib.lines.Line2D at 0x1ac85b5eda0>,\n",
       "  <matplotlib.lines.Line2D at 0x1ac85b5fe80>,\n",
       "  <matplotlib.lines.Line2D at 0x1ac85b9c190>,\n",
       "  <matplotlib.lines.Line2D at 0x1ac85b9d270>,\n",
       "  <matplotlib.lines.Line2D at 0x1ac85b9d540>,\n",
       "  <matplotlib.lines.Line2D at 0x1ac85b9e650>,\n",
       "  <matplotlib.lines.Line2D at 0x1ac85b9e920>,\n",
       "  <matplotlib.lines.Line2D at 0x1ac85b9fa00>,\n",
       "  <matplotlib.lines.Line2D at 0x1ac85b9fcd0>],\n",
       " 'caps': [<matplotlib.lines.Line2D at 0x1ac85afa620>,\n",
       "  <matplotlib.lines.Line2D at 0x1ac85afa8f0>,\n",
       "  <matplotlib.lines.Line2D at 0x1ac85afb9d0>,\n",
       "  <matplotlib.lines.Line2D at 0x1ac85afbca0>,\n",
       "  <matplotlib.lines.Line2D at 0x1ac85b34dc0>,\n",
       "  <matplotlib.lines.Line2D at 0x1ac85b35090>,\n",
       "  <matplotlib.lines.Line2D at 0x1ac85b36170>,\n",
       "  <matplotlib.lines.Line2D at 0x1ac85b36440>,\n",
       "  <matplotlib.lines.Line2D at 0x1ac85b37520>,\n",
       "  <matplotlib.lines.Line2D at 0x1ac85b377f0>,\n",
       "  <matplotlib.lines.Line2D at 0x1ac85b5c910>,\n",
       "  <matplotlib.lines.Line2D at 0x1ac85b5cbe0>,\n",
       "  <matplotlib.lines.Line2D at 0x1ac85b5dcc0>,\n",
       "  <matplotlib.lines.Line2D at 0x1ac85b5df90>,\n",
       "  <matplotlib.lines.Line2D at 0x1ac85b5f070>,\n",
       "  <matplotlib.lines.Line2D at 0x1ac85b5f340>,\n",
       "  <matplotlib.lines.Line2D at 0x1ac85b9c460>,\n",
       "  <matplotlib.lines.Line2D at 0x1ac85b9c730>,\n",
       "  <matplotlib.lines.Line2D at 0x1ac85b9d840>,\n",
       "  <matplotlib.lines.Line2D at 0x1ac85b9db10>,\n",
       "  <matplotlib.lines.Line2D at 0x1ac85b9ebf0>,\n",
       "  <matplotlib.lines.Line2D at 0x1ac85b9eec0>,\n",
       "  <matplotlib.lines.Line2D at 0x1ac85b9ffa0>,\n",
       "  <matplotlib.lines.Line2D at 0x1ac85bd02b0>],\n",
       " 'boxes': [<matplotlib.lines.Line2D at 0x1ac85af9ed0>,\n",
       "  <matplotlib.lines.Line2D at 0x1ac85afb160>,\n",
       "  <matplotlib.lines.Line2D at 0x1ac85b34550>,\n",
       "  <matplotlib.lines.Line2D at 0x1ac85b35900>,\n",
       "  <matplotlib.lines.Line2D at 0x1ac85b36cb0>,\n",
       "  <matplotlib.lines.Line2D at 0x1ac85b5c0a0>,\n",
       "  <matplotlib.lines.Line2D at 0x1ac85b5d450>,\n",
       "  <matplotlib.lines.Line2D at 0x1ac85b5e800>,\n",
       "  <matplotlib.lines.Line2D at 0x1ac85b5fbb0>,\n",
       "  <matplotlib.lines.Line2D at 0x1ac85b9cfa0>,\n",
       "  <matplotlib.lines.Line2D at 0x1ac85b9e380>,\n",
       "  <matplotlib.lines.Line2D at 0x1ac85b9f730>],\n",
       " 'medians': [<matplotlib.lines.Line2D at 0x1ac85afabc0>,\n",
       "  <matplotlib.lines.Line2D at 0x1ac85afbf70>,\n",
       "  <matplotlib.lines.Line2D at 0x1ac85b35360>,\n",
       "  <matplotlib.lines.Line2D at 0x1ac85b36710>,\n",
       "  <matplotlib.lines.Line2D at 0x1ac85b37ac0>,\n",
       "  <matplotlib.lines.Line2D at 0x1ac85b5ceb0>,\n",
       "  <matplotlib.lines.Line2D at 0x1ac85b5e260>,\n",
       "  <matplotlib.lines.Line2D at 0x1ac85b5f610>,\n",
       "  <matplotlib.lines.Line2D at 0x1ac85b9ca00>,\n",
       "  <matplotlib.lines.Line2D at 0x1ac85b9dde0>,\n",
       "  <matplotlib.lines.Line2D at 0x1ac85b9f190>,\n",
       "  <matplotlib.lines.Line2D at 0x1ac85bd0580>],\n",
       " 'fliers': [<matplotlib.lines.Line2D at 0x1ac85afae90>,\n",
       "  <matplotlib.lines.Line2D at 0x1ac85b34280>,\n",
       "  <matplotlib.lines.Line2D at 0x1ac85b35630>,\n",
       "  <matplotlib.lines.Line2D at 0x1ac85b369e0>,\n",
       "  <matplotlib.lines.Line2D at 0x1ac85b37d90>,\n",
       "  <matplotlib.lines.Line2D at 0x1ac85b5d180>,\n",
       "  <matplotlib.lines.Line2D at 0x1ac85b5e530>,\n",
       "  <matplotlib.lines.Line2D at 0x1ac85b5f8e0>,\n",
       "  <matplotlib.lines.Line2D at 0x1ac85b9ccd0>,\n",
       "  <matplotlib.lines.Line2D at 0x1ac85b9e0b0>,\n",
       "  <matplotlib.lines.Line2D at 0x1ac85b9f460>,\n",
       "  <matplotlib.lines.Line2D at 0x1ac85bd0850>],\n",
       " 'means': []}"
      ]
     },
     "execution_count": 106,
     "metadata": {},
     "output_type": "execute_result"
    },
    {
     "data": {
      "image/png": "[encoded data removed]",
      "text/plain": [
       "<Figure size 640x480 with 1 Axes>"
      ]
     },
     "metadata": {},
     "output_type": "display_data"
    }
   ],
   "source": [
    "# generate boxplot for `RH` attribute with matplotlib for various values of months\n",
    "plt.boxplot([df['RH'][df['month'] == 'jan'], df['RH'][df['month'] == 'feb'], df['RH'][df['month'] == 'mar'], df['RH'][df['month'] == 'apr'], df['RH'][df['month'] == 'may'], df['RH'][df['month'] == 'jun'], df['RH'][df['month'] == 'jul'], df['RH'][df['month'] == 'aug'], df['RH'][df['month'] == 'sep'], df['RH'][df['month'] == 'oct'], df['RH'][df['month'] == 'nov'], df['RH'][df['month'] == 'dec']])"
   ]
  },
  {
   "cell_type": "markdown",
   "metadata": {},
   "source": [
    "### Part C: Boxplot for `RH` attribute with various values of day"
   ]
  },
  {
   "cell_type": "code",
   "execution_count": 107,
   "metadata": {},
   "outputs": [
    {
     "data": {
      "text/plain": [
       "{'whiskers': [<matplotlib.lines.Line2D at 0x1ac85c49b70>,\n",
       "  <matplotlib.lines.Line2D at 0x1ac85c49e40>,\n",
       "  <matplotlib.lines.Line2D at 0x1ac85c4af20>,\n",
       "  <matplotlib.lines.Line2D at 0x1ac85c4b1f0>,\n",
       "  <matplotlib.lines.Line2D at 0x1ac85c78310>,\n",
       "  <matplotlib.lines.Line2D at 0x1ac85c785e0>,\n",
       "  <matplotlib.lines.Line2D at 0x1ac85c796c0>,\n",
       "  <matplotlib.lines.Line2D at 0x1ac85c79990>,\n",
       "  <matplotlib.lines.Line2D at 0x1ac85c7aa70>,\n",
       "  <matplotlib.lines.Line2D at 0x1ac85c7ad40>,\n",
       "  <matplotlib.lines.Line2D at 0x1ac85c7be20>,\n",
       "  <matplotlib.lines.Line2D at 0x1ac85cb4130>,\n",
       "  <matplotlib.lines.Line2D at 0x1ac85cb5210>,\n",
       "  <matplotlib.lines.Line2D at 0x1ac85cb54e0>],\n",
       " 'caps': [<matplotlib.lines.Line2D at 0x1ac85c4a110>,\n",
       "  <matplotlib.lines.Line2D at 0x1ac85c4a3e0>,\n",
       "  <matplotlib.lines.Line2D at 0x1ac85c4b4c0>,\n",
       "  <matplotlib.lines.Line2D at 0x1ac85c4b790>,\n",
       "  <matplotlib.lines.Line2D at 0x1ac85c788b0>,\n",
       "  <matplotlib.lines.Line2D at 0x1ac85c78b80>,\n",
       "  <matplotlib.lines.Line2D at 0x1ac85c79c60>,\n",
       "  <matplotlib.lines.Line2D at 0x1ac85c79f30>,\n",
       "  <matplotlib.lines.Line2D at 0x1ac85c7b010>,\n",
       "  <matplotlib.lines.Line2D at 0x1ac85c7b2e0>,\n",
       "  <matplotlib.lines.Line2D at 0x1ac85cb4400>,\n",
       "  <matplotlib.lines.Line2D at 0x1ac85cb46d0>,\n",
       "  <matplotlib.lines.Line2D at 0x1ac85cb57b0>,\n",
       "  <matplotlib.lines.Line2D at 0x1ac85cb5a80>],\n",
       " 'boxes': [<matplotlib.lines.Line2D at 0x1ac85c498a0>,\n",
       "  <matplotlib.lines.Line2D at 0x1ac85c4ac50>,\n",
       "  <matplotlib.lines.Line2D at 0x1ac85c78040>,\n",
       "  <matplotlib.lines.Line2D at 0x1ac85c793f0>,\n",
       "  <matplotlib.lines.Line2D at 0x1ac85c7a7a0>,\n",
       "  <matplotlib.lines.Line2D at 0x1ac85c7bb50>,\n",
       "  <matplotlib.lines.Line2D at 0x1ac85cb4f40>],\n",
       " 'medians': [<matplotlib.lines.Line2D at 0x1ac85c4a6b0>,\n",
       "  <matplotlib.lines.Line2D at 0x1ac85c4ba60>,\n",
       "  <matplotlib.lines.Line2D at 0x1ac85c78e50>,\n",
       "  <matplotlib.lines.Line2D at 0x1ac85c7a200>,\n",
       "  <matplotlib.lines.Line2D at 0x1ac85c7b5b0>,\n",
       "  <matplotlib.lines.Line2D at 0x1ac85cb49a0>,\n",
       "  <matplotlib.lines.Line2D at 0x1ac85cb5d50>],\n",
       " 'fliers': [<matplotlib.lines.Line2D at 0x1ac85c4a980>,\n",
       "  <matplotlib.lines.Line2D at 0x1ac85c4bd30>,\n",
       "  <matplotlib.lines.Line2D at 0x1ac85c79120>,\n",
       "  <matplotlib.lines.Line2D at 0x1ac85c7a4d0>,\n",
       "  <matplotlib.lines.Line2D at 0x1ac85c7b880>,\n",
       "  <matplotlib.lines.Line2D at 0x1ac85cb4c70>,\n",
       "  <matplotlib.lines.Line2D at 0x1ac85cb6020>],\n",
       " 'means': []}"
      ]
     },
     "execution_count": 107,
     "metadata": {},
     "output_type": "execute_result"
    },
    {
     "data": {
      "image/png": "[encoded data removed]",
      "text/plain": [
       "<Figure size 640x480 with 1 Axes>"
      ]
     },
     "metadata": {},
     "output_type": "display_data"
    }
   ],
   "source": [
    "# generate boxplot for `RH` attribute with various values of day\n",
    "plt.boxplot([df['RH'][df['day'] == 'mon'], df['RH'][df['day'] == 'tue'], df['RH'][df['day'] == 'wed'], df['RH'][df['day'] == 'thu'], df['RH'][df['day'] == 'fri'], df['RH'][df['day'] == 'sat'], df['RH'][df['day'] == 'sun']])"
   ]
  },
  {
   "cell_type": "markdown",
   "metadata": {},
   "source": [
    "## Task 3. Hist Plot"
   ]
  },
  {
   "cell_type": "code",
   "execution_count": 108,
   "metadata": {},
   "outputs": [
    {
     "data": {
      "text/plain": [
       "(array([ 21.,  96., 130., 104.,  63.,  40.,  31.,  20.,   7.,   5.]),\n",
       " array([ 15. ,  23.5,  32. ,  40.5,  49. ,  57.5,  66. ,  74.5,  83. ,\n",
       "         91.5, 100. ]),\n",
       " <BarContainer object of 10 artists>)"
      ]
     },
     "execution_count": 108,
     "metadata": {},
     "output_type": "execute_result"
    },
    {
     "data": {
      "image/png": "[encoded data removed]",
      "text/plain": [
       "<Figure size 640x480 with 2 Axes>"
      ]
     },
     "metadata": {},
     "output_type": "display_data"
    }
   ],
   "source": [
    "# generate histogram for attributes `wind` and `RH` with matplotlib in separate subplots\n",
    "plt.subplot(1, 2, 1)\n",
    "plt.hist(df['wind'])\n",
    "plt.subplot(1, 2, 2)\n",
    "plt.hist(df['RH'])"
   ]
  },
  {
   "cell_type": "markdown",
   "metadata": {},
   "source": [
    "## Task 4. Scatter Plot"
   ]
  },
  {
   "cell_type": "code",
   "execution_count": 109,
   "metadata": {},
   "outputs": [
    {
     "data": {
      "text/plain": [
       "<matplotlib.collections.PathCollection at 0x1ac85f325c0>"
      ]
     },
     "execution_count": 109,
     "metadata": {},
     "output_type": "execute_result"
    },
    {
     "data": {
      "image/png": "[encoded data removed]",
      "text/plain": [
       "<Figure size 640x480 with 1 Axes>"
      ]
     },
     "metadata": {},
     "output_type": "display_data"
    }
   ],
   "source": [
    "# generate scatter plot for `wind` and `area` attributes, where `area` is the x-axis in matplotlib\n",
    "plt.scatter(df['area'], df['wind'])"
   ]
  },
  {
   "cell_type": "code",
   "execution_count": 110,
   "metadata": {},
   "outputs": [
    {
     "name": "stdout",
     "output_type": "stream",
     "text": [
      "Correlation coefficient: 0.012317276888673111\n"
     ]
    }
   ],
   "source": [
    "# calculate the correlation coefficient between the `wind` and `area` attribute\n",
    "print(\"Correlation coefficient:\", df['wind'].corr(df['area']))"
   ]
  },
  {
   "cell_type": "markdown",
   "metadata": {},
   "source": [
    "## Task 5. Correlation"
   ]
  },
  {
   "cell_type": "code",
   "execution_count": 111,
   "metadata": {},
   "outputs": [
    {
     "name": "stdout",
     "output_type": "stream",
     "text": [
      "Correlation coefficients: {'FFMC': 0.04012200415862081, 'DMC': 0.07299429625105726, 'DC': 0.04938322529891625, 'ISI': 0.008257687841226793, 'RH': -0.07551856346988917, 'wind': 0.012317276888673111}\n",
      "Top three correlation coefficients: [('RH', -0.07551856346988917), ('DMC', 0.07299429625105726), ('DC', 0.04938322529891625)]\n"
     ]
    }
   ],
   "source": [
    "# find the correlation coefficients between the attributes `FFMC`, `DMC`, `DC`, `ISI`, `RH` and `wind` with `area`\n",
    "coefficients = {}\n",
    "for attribute in ['FFMC', 'DMC', 'DC', 'ISI', 'RH', 'wind']:\n",
    "    coefficients[attribute] = df[attribute].corr(df['area'])\n",
    "print(\"Correlation coefficients:\", coefficients)\n",
    "\n",
    "# find the magnitude of the correlation coefficients and sort them by decreasing order\n",
    "sorted_coefficients = sorted(coefficients.items(), key = lambda x: abs(x[1]), reverse = True)\n",
    "\n",
    "# print the top three elements of the sorted array\n",
    "print(\"Top three correlation coefficients:\", sorted_coefficients[:3])"
   ]
  },
  {
   "cell_type": "markdown",
   "metadata": {},
   "source": [
    "## Task 6. $\\chi^2$-Test"
   ]
  },
  {
   "cell_type": "code",
   "execution_count": 112,
   "metadata": {},
   "outputs": [],
   "source": [
    "significance_level = 0.01"
   ]
  },
  {
   "cell_type": "markdown",
   "metadata": {},
   "source": [
    "### Part A: Dependency between `temp` and `wind` attributes"
   ]
  },
  {
   "cell_type": "code",
   "execution_count": 113,
   "metadata": {},
   "outputs": [
    {
     "name": "stdout",
     "output_type": "stream",
     "text": [
      "Chi square test for independence between `temp` and `wind` attributes:\n",
      "Chi square statistic: 4252.987444941122\n",
      "p-value: 8.525582794455281e-07\n",
      "The `temp` and `wind` attributes are dependent of each other.\n"
     ]
    }
   ],
   "source": [
    "# perform chi square test for independence between `temp` and `wind` attributes\n",
    "contingency_table = pd.crosstab(df['temp'], df['wind'])\n",
    "chi2, p, dof, expected = scipy.stats.chi2_contingency(contingency_table)\n",
    "print(\"Chi square test for independence between `temp` and `wind` attributes:\")\n",
    "print(\"Chi square statistic:\", chi2)\n",
    "print(\"p-value:\", p)\n",
    "\n",
    "# are the `temp` and `wind` attributes independent of each other?\n",
    "if p < significance_level:\n",
    "    print(\"The `temp` and `wind` attributes are dependent of each other.\")\n",
    "else:\n",
    "    print(\"The `temp` and `wind` attributes are independent of each other.\")\n"
   ]
  },
  {
   "cell_type": "markdown",
   "metadata": {},
   "source": [
    "### Part B: Dependency between `X` and `Y` attributes"
   ]
  },
  {
   "cell_type": "code",
   "execution_count": 114,
   "metadata": {},
   "outputs": [
    {
     "name": "stdout",
     "output_type": "stream",
     "text": [
      "Chi square test for independence between `X` and `Y` attributes:\n",
      "Chi square statistic: 840.8944600618115\n",
      "p-value: 2.287321236581469e-145\n",
      "The `X` and `Y` attributes are dependent of each other.\n"
     ]
    }
   ],
   "source": [
    "# perform chi square test for independence between `X` and `Y` attributes\n",
    "contingency_table = pd.crosstab(df['X'], df['Y'])\n",
    "chi2, p, dof, expected = scipy.stats.chi2_contingency(contingency_table)\n",
    "print(\"Chi square test for independence between `X` and `Y` attributes:\")\n",
    "print(\"Chi square statistic:\", chi2)\n",
    "print(\"p-value:\", p)\n",
    "\n",
    "# are the `X` and `Y` attributes independent of each other?\n",
    "if p < significance_level:\n",
    "    print(\"The `X` and `Y` attributes are dependent of each other.\")\n",
    "else:\n",
    "    print(\"The `X` and `Y` attributes are independent of each other.\")"
   ]
  },
  {
   "cell_type": "markdown",
   "metadata": {},
   "source": [
    "## Task 7. Normalization"
   ]
  },
  {
   "cell_type": "markdown",
   "metadata": {},
   "source": [
    "### Part A: Normalize attribute `FFMC`"
   ]
  },
  {
   "cell_type": "code",
   "execution_count": 115,
   "metadata": {},
   "outputs": [
    {
     "data": {
      "text/html": [
       "<div>\n",
       "<style scoped>\n",
       "    .dataframe tbody tr th:only-of-type {\n",
       "        vertical-align: middle;\n",
       "    }\n",
       "\n",
       "    .dataframe tbody tr th {\n",
       "        vertical-align: top;\n",
       "    }\n",
       "\n",
       "    .dataframe thead th {\n",
       "        text-align: right;\n",
       "    }\n",
       "</style>\n",
       "<table border=\"1\" class=\"dataframe\">\n",
       "  <thead>\n",
       "    <tr style=\"text-align: right;\">\n",
       "      <th></th>\n",
       "      <th>X</th>\n",
       "      <th>Y</th>\n",
       "      <th>month</th>\n",
       "      <th>day</th>\n",
       "      <th>FFMC</th>\n",
       "      <th>DMC</th>\n",
       "      <th>DC</th>\n",
       "      <th>ISI</th>\n",
       "      <th>temp</th>\n",
       "      <th>RH</th>\n",
       "      <th>wind</th>\n",
       "      <th>rain</th>\n",
       "      <th>area</th>\n",
       "    </tr>\n",
       "  </thead>\n",
       "  <tbody>\n",
       "    <tr>\n",
       "      <th>0</th>\n",
       "      <td>7</td>\n",
       "      <td>5</td>\n",
       "      <td>mar</td>\n",
       "      <td>fri</td>\n",
       "      <td>86.2</td>\n",
       "      <td>26.2</td>\n",
       "      <td>94.3</td>\n",
       "      <td>5.1</td>\n",
       "      <td>8.2</td>\n",
       "      <td>51</td>\n",
       "      <td>6.7</td>\n",
       "      <td>0.0</td>\n",
       "      <td>0.0</td>\n",
       "    </tr>\n",
       "    <tr>\n",
       "      <th>1</th>\n",
       "      <td>7</td>\n",
       "      <td>4</td>\n",
       "      <td>oct</td>\n",
       "      <td>tue</td>\n",
       "      <td>90.6</td>\n",
       "      <td>35.4</td>\n",
       "      <td>669.1</td>\n",
       "      <td>6.7</td>\n",
       "      <td>18.0</td>\n",
       "      <td>33</td>\n",
       "      <td>0.9</td>\n",
       "      <td>0.0</td>\n",
       "      <td>0.0</td>\n",
       "    </tr>\n",
       "    <tr>\n",
       "      <th>2</th>\n",
       "      <td>7</td>\n",
       "      <td>4</td>\n",
       "      <td>oct</td>\n",
       "      <td>sat</td>\n",
       "      <td>90.6</td>\n",
       "      <td>43.7</td>\n",
       "      <td>686.9</td>\n",
       "      <td>6.7</td>\n",
       "      <td>14.6</td>\n",
       "      <td>33</td>\n",
       "      <td>1.3</td>\n",
       "      <td>0.0</td>\n",
       "      <td>0.0</td>\n",
       "    </tr>\n",
       "    <tr>\n",
       "      <th>3</th>\n",
       "      <td>8</td>\n",
       "      <td>6</td>\n",
       "      <td>mar</td>\n",
       "      <td>fri</td>\n",
       "      <td>91.7</td>\n",
       "      <td>33.3</td>\n",
       "      <td>77.5</td>\n",
       "      <td>9.0</td>\n",
       "      <td>8.3</td>\n",
       "      <td>97</td>\n",
       "      <td>4.0</td>\n",
       "      <td>0.2</td>\n",
       "      <td>0.0</td>\n",
       "    </tr>\n",
       "    <tr>\n",
       "      <th>4</th>\n",
       "      <td>8</td>\n",
       "      <td>6</td>\n",
       "      <td>mar</td>\n",
       "      <td>sun</td>\n",
       "      <td>89.3</td>\n",
       "      <td>51.3</td>\n",
       "      <td>102.2</td>\n",
       "      <td>9.6</td>\n",
       "      <td>11.4</td>\n",
       "      <td>99</td>\n",
       "      <td>1.8</td>\n",
       "      <td>0.0</td>\n",
       "      <td>0.0</td>\n",
       "    </tr>\n",
       "    <tr>\n",
       "      <th>5</th>\n",
       "      <td>8</td>\n",
       "      <td>6</td>\n",
       "      <td>aug</td>\n",
       "      <td>sun</td>\n",
       "      <td>92.3</td>\n",
       "      <td>85.3</td>\n",
       "      <td>488.0</td>\n",
       "      <td>14.7</td>\n",
       "      <td>22.2</td>\n",
       "      <td>29</td>\n",
       "      <td>5.4</td>\n",
       "      <td>0.0</td>\n",
       "      <td>0.0</td>\n",
       "    </tr>\n",
       "    <tr>\n",
       "      <th>6</th>\n",
       "      <td>8</td>\n",
       "      <td>6</td>\n",
       "      <td>aug</td>\n",
       "      <td>mon</td>\n",
       "      <td>92.3</td>\n",
       "      <td>88.9</td>\n",
       "      <td>495.6</td>\n",
       "      <td>8.5</td>\n",
       "      <td>24.1</td>\n",
       "      <td>27</td>\n",
       "      <td>3.1</td>\n",
       "      <td>0.0</td>\n",
       "      <td>0.0</td>\n",
       "    </tr>\n",
       "    <tr>\n",
       "      <th>7</th>\n",
       "      <td>8</td>\n",
       "      <td>6</td>\n",
       "      <td>aug</td>\n",
       "      <td>mon</td>\n",
       "      <td>91.5</td>\n",
       "      <td>145.4</td>\n",
       "      <td>608.2</td>\n",
       "      <td>10.7</td>\n",
       "      <td>8.0</td>\n",
       "      <td>86</td>\n",
       "      <td>2.2</td>\n",
       "      <td>0.0</td>\n",
       "      <td>0.0</td>\n",
       "    </tr>\n",
       "    <tr>\n",
       "      <th>8</th>\n",
       "      <td>8</td>\n",
       "      <td>6</td>\n",
       "      <td>sep</td>\n",
       "      <td>tue</td>\n",
       "      <td>91.0</td>\n",
       "      <td>129.5</td>\n",
       "      <td>692.6</td>\n",
       "      <td>7.0</td>\n",
       "      <td>13.1</td>\n",
       "      <td>63</td>\n",
       "      <td>5.4</td>\n",
       "      <td>0.0</td>\n",
       "      <td>0.0</td>\n",
       "    </tr>\n",
       "    <tr>\n",
       "      <th>9</th>\n",
       "      <td>7</td>\n",
       "      <td>5</td>\n",
       "      <td>sep</td>\n",
       "      <td>sat</td>\n",
       "      <td>92.5</td>\n",
       "      <td>88.0</td>\n",
       "      <td>698.6</td>\n",
       "      <td>7.1</td>\n",
       "      <td>22.8</td>\n",
       "      <td>40</td>\n",
       "      <td>4.0</td>\n",
       "      <td>0.0</td>\n",
       "      <td>0.0</td>\n",
       "    </tr>\n",
       "  </tbody>\n",
       "</table>\n",
       "</div>"
      ],
      "text/plain": [
       "   X  Y month  day  FFMC    DMC     DC   ISI  temp  RH  wind  rain  area\n",
       "0  7  5   mar  fri  86.2   26.2   94.3   5.1   8.2  51   6.7   0.0   0.0\n",
       "1  7  4   oct  tue  90.6   35.4  669.1   6.7  18.0  33   0.9   0.0   0.0\n",
       "2  7  4   oct  sat  90.6   43.7  686.9   6.7  14.6  33   1.3   0.0   0.0\n",
       "3  8  6   mar  fri  91.7   33.3   77.5   9.0   8.3  97   4.0   0.2   0.0\n",
       "4  8  6   mar  sun  89.3   51.3  102.2   9.6  11.4  99   1.8   0.0   0.0\n",
       "5  8  6   aug  sun  92.3   85.3  488.0  14.7  22.2  29   5.4   0.0   0.0\n",
       "6  8  6   aug  mon  92.3   88.9  495.6   8.5  24.1  27   3.1   0.0   0.0\n",
       "7  8  6   aug  mon  91.5  145.4  608.2  10.7   8.0  86   2.2   0.0   0.0\n",
       "8  8  6   sep  tue  91.0  129.5  692.6   7.0  13.1  63   5.4   0.0   0.0\n",
       "9  7  5   sep  sat  92.5   88.0  698.6   7.1  22.8  40   4.0   0.0   0.0"
      ]
     },
     "execution_count": 115,
     "metadata": {},
     "output_type": "execute_result"
    }
   ],
   "source": [
    "# original dataframe\n",
    "df.head(10)"
   ]
  },
  {
   "cell_type": "code",
   "execution_count": 116,
   "metadata": {},
   "outputs": [],
   "source": [
    "# normalize attribute `FFMC` between 0 and 1 with min-max normalization using the built-in function from scikit-learn\n",
    "from sklearn.preprocessing import MinMaxScaler\n",
    "scaler = MinMaxScaler()\n",
    "df['FFMC'] = scaler.fit_transform(df['FFMC'].values.reshape(-1, 1))\n"
   ]
  },
  {
   "cell_type": "code",
   "execution_count": 117,
   "metadata": {},
   "outputs": [
    {
     "data": {
      "text/html": [
       "<div>\n",
       "<style scoped>\n",
       "    .dataframe tbody tr th:only-of-type {\n",
       "        vertical-align: middle;\n",
       "    }\n",
       "\n",
       "    .dataframe tbody tr th {\n",
       "        vertical-align: top;\n",
       "    }\n",
       "\n",
       "    .dataframe thead th {\n",
       "        text-align: right;\n",
       "    }\n",
       "</style>\n",
       "<table border=\"1\" class=\"dataframe\">\n",
       "  <thead>\n",
       "    <tr style=\"text-align: right;\">\n",
       "      <th></th>\n",
       "      <th>X</th>\n",
       "      <th>Y</th>\n",
       "      <th>month</th>\n",
       "      <th>day</th>\n",
       "      <th>FFMC</th>\n",
       "      <th>DMC</th>\n",
       "      <th>DC</th>\n",
       "      <th>ISI</th>\n",
       "      <th>temp</th>\n",
       "      <th>RH</th>\n",
       "      <th>wind</th>\n",
       "      <th>rain</th>\n",
       "      <th>area</th>\n",
       "    </tr>\n",
       "  </thead>\n",
       "  <tbody>\n",
       "    <tr>\n",
       "      <th>0</th>\n",
       "      <td>7</td>\n",
       "      <td>5</td>\n",
       "      <td>mar</td>\n",
       "      <td>fri</td>\n",
       "      <td>0.870968</td>\n",
       "      <td>26.2</td>\n",
       "      <td>94.3</td>\n",
       "      <td>5.1</td>\n",
       "      <td>8.2</td>\n",
       "      <td>51</td>\n",
       "      <td>6.7</td>\n",
       "      <td>0.0</td>\n",
       "      <td>0.0</td>\n",
       "    </tr>\n",
       "    <tr>\n",
       "      <th>1</th>\n",
       "      <td>7</td>\n",
       "      <td>4</td>\n",
       "      <td>oct</td>\n",
       "      <td>tue</td>\n",
       "      <td>0.927742</td>\n",
       "      <td>35.4</td>\n",
       "      <td>669.1</td>\n",
       "      <td>6.7</td>\n",
       "      <td>18.0</td>\n",
       "      <td>33</td>\n",
       "      <td>0.9</td>\n",
       "      <td>0.0</td>\n",
       "      <td>0.0</td>\n",
       "    </tr>\n",
       "    <tr>\n",
       "      <th>2</th>\n",
       "      <td>7</td>\n",
       "      <td>4</td>\n",
       "      <td>oct</td>\n",
       "      <td>sat</td>\n",
       "      <td>0.927742</td>\n",
       "      <td>43.7</td>\n",
       "      <td>686.9</td>\n",
       "      <td>6.7</td>\n",
       "      <td>14.6</td>\n",
       "      <td>33</td>\n",
       "      <td>1.3</td>\n",
       "      <td>0.0</td>\n",
       "      <td>0.0</td>\n",
       "    </tr>\n",
       "    <tr>\n",
       "      <th>3</th>\n",
       "      <td>8</td>\n",
       "      <td>6</td>\n",
       "      <td>mar</td>\n",
       "      <td>fri</td>\n",
       "      <td>0.941935</td>\n",
       "      <td>33.3</td>\n",
       "      <td>77.5</td>\n",
       "      <td>9.0</td>\n",
       "      <td>8.3</td>\n",
       "      <td>97</td>\n",
       "      <td>4.0</td>\n",
       "      <td>0.2</td>\n",
       "      <td>0.0</td>\n",
       "    </tr>\n",
       "    <tr>\n",
       "      <th>4</th>\n",
       "      <td>8</td>\n",
       "      <td>6</td>\n",
       "      <td>mar</td>\n",
       "      <td>sun</td>\n",
       "      <td>0.910968</td>\n",
       "      <td>51.3</td>\n",
       "      <td>102.2</td>\n",
       "      <td>9.6</td>\n",
       "      <td>11.4</td>\n",
       "      <td>99</td>\n",
       "      <td>1.8</td>\n",
       "      <td>0.0</td>\n",
       "      <td>0.0</td>\n",
       "    </tr>\n",
       "    <tr>\n",
       "      <th>5</th>\n",
       "      <td>8</td>\n",
       "      <td>6</td>\n",
       "      <td>aug</td>\n",
       "      <td>sun</td>\n",
       "      <td>0.949677</td>\n",
       "      <td>85.3</td>\n",
       "      <td>488.0</td>\n",
       "      <td>14.7</td>\n",
       "      <td>22.2</td>\n",
       "      <td>29</td>\n",
       "      <td>5.4</td>\n",
       "      <td>0.0</td>\n",
       "      <td>0.0</td>\n",
       "    </tr>\n",
       "    <tr>\n",
       "      <th>6</th>\n",
       "      <td>8</td>\n",
       "      <td>6</td>\n",
       "      <td>aug</td>\n",
       "      <td>mon</td>\n",
       "      <td>0.949677</td>\n",
       "      <td>88.9</td>\n",
       "      <td>495.6</td>\n",
       "      <td>8.5</td>\n",
       "      <td>24.1</td>\n",
       "      <td>27</td>\n",
       "      <td>3.1</td>\n",
       "      <td>0.0</td>\n",
       "      <td>0.0</td>\n",
       "    </tr>\n",
       "    <tr>\n",
       "      <th>7</th>\n",
       "      <td>8</td>\n",
       "      <td>6</td>\n",
       "      <td>aug</td>\n",
       "      <td>mon</td>\n",
       "      <td>0.939355</td>\n",
       "      <td>145.4</td>\n",
       "      <td>608.2</td>\n",
       "      <td>10.7</td>\n",
       "      <td>8.0</td>\n",
       "      <td>86</td>\n",
       "      <td>2.2</td>\n",
       "      <td>0.0</td>\n",
       "      <td>0.0</td>\n",
       "    </tr>\n",
       "    <tr>\n",
       "      <th>8</th>\n",
       "      <td>8</td>\n",
       "      <td>6</td>\n",
       "      <td>sep</td>\n",
       "      <td>tue</td>\n",
       "      <td>0.932903</td>\n",
       "      <td>129.5</td>\n",
       "      <td>692.6</td>\n",
       "      <td>7.0</td>\n",
       "      <td>13.1</td>\n",
       "      <td>63</td>\n",
       "      <td>5.4</td>\n",
       "      <td>0.0</td>\n",
       "      <td>0.0</td>\n",
       "    </tr>\n",
       "    <tr>\n",
       "      <th>9</th>\n",
       "      <td>7</td>\n",
       "      <td>5</td>\n",
       "      <td>sep</td>\n",
       "      <td>sat</td>\n",
       "      <td>0.952258</td>\n",
       "      <td>88.0</td>\n",
       "      <td>698.6</td>\n",
       "      <td>7.1</td>\n",
       "      <td>22.8</td>\n",
       "      <td>40</td>\n",
       "      <td>4.0</td>\n",
       "      <td>0.0</td>\n",
       "      <td>0.0</td>\n",
       "    </tr>\n",
       "  </tbody>\n",
       "</table>\n",
       "</div>"
      ],
      "text/plain": [
       "   X  Y month  day      FFMC    DMC     DC   ISI  temp  RH  wind  rain  area\n",
       "0  7  5   mar  fri  0.870968   26.2   94.3   5.1   8.2  51   6.7   0.0   0.0\n",
       "1  7  4   oct  tue  0.927742   35.4  669.1   6.7  18.0  33   0.9   0.0   0.0\n",
       "2  7  4   oct  sat  0.927742   43.7  686.9   6.7  14.6  33   1.3   0.0   0.0\n",
       "3  8  6   mar  fri  0.941935   33.3   77.5   9.0   8.3  97   4.0   0.2   0.0\n",
       "4  8  6   mar  sun  0.910968   51.3  102.2   9.6  11.4  99   1.8   0.0   0.0\n",
       "5  8  6   aug  sun  0.949677   85.3  488.0  14.7  22.2  29   5.4   0.0   0.0\n",
       "6  8  6   aug  mon  0.949677   88.9  495.6   8.5  24.1  27   3.1   0.0   0.0\n",
       "7  8  6   aug  mon  0.939355  145.4  608.2  10.7   8.0  86   2.2   0.0   0.0\n",
       "8  8  6   sep  tue  0.932903  129.5  692.6   7.0  13.1  63   5.4   0.0   0.0\n",
       "9  7  5   sep  sat  0.952258   88.0  698.6   7.1  22.8  40   4.0   0.0   0.0"
      ]
     },
     "execution_count": 117,
     "metadata": {},
     "output_type": "execute_result"
    }
   ],
   "source": [
    "# dataframe after normalization of `FFMC` attribute\n",
    "df.head(10)"
   ]
  },
  {
   "cell_type": "markdown",
   "metadata": {},
   "source": [
    "### Part B: Normalize attributes `DC`, `ISI`, `temp`, `RH`, and `wind`"
   ]
  },
  {
   "cell_type": "code",
   "execution_count": 118,
   "metadata": {},
   "outputs": [],
   "source": [
    "# normalize attributes `DC`, `ISI`, `temp`, `RH`, and `wind` to mean zero and standard deviation one using z-score normalization using the built-in function from scikit-learn\n",
    "from sklearn.preprocessing import StandardScaler\n",
    "scaler = StandardScaler()\n",
    "df['DC'] = scaler.fit_transform(df['DC'].values.reshape(-1, 1))\n",
    "df['ISI'] = scaler.fit_transform(df['ISI'].values.reshape(-1, 1))\n",
    "df['temp'] = scaler.fit_transform(df['temp'].values.reshape(-1, 1))\n",
    "df['RH'] = scaler.fit_transform(df['RH'].values.reshape(-1, 1))\n",
    "df['wind'] = scaler.fit_transform(df['wind'].values.reshape(-1, 1))"
   ]
  },
  {
   "cell_type": "code",
   "execution_count": 119,
   "metadata": {},
   "outputs": [
    {
     "data": {
      "text/html": [
       "<div>\n",
       "<style scoped>\n",
       "    .dataframe tbody tr th:only-of-type {\n",
       "        vertical-align: middle;\n",
       "    }\n",
       "\n",
       "    .dataframe tbody tr th {\n",
       "        vertical-align: top;\n",
       "    }\n",
       "\n",
       "    .dataframe thead th {\n",
       "        text-align: right;\n",
       "    }\n",
       "</style>\n",
       "<table border=\"1\" class=\"dataframe\">\n",
       "  <thead>\n",
       "    <tr style=\"text-align: right;\">\n",
       "      <th></th>\n",
       "      <th>X</th>\n",
       "      <th>Y</th>\n",
       "      <th>month</th>\n",
       "      <th>day</th>\n",
       "      <th>FFMC</th>\n",
       "      <th>DMC</th>\n",
       "      <th>DC</th>\n",
       "      <th>ISI</th>\n",
       "      <th>temp</th>\n",
       "      <th>RH</th>\n",
       "      <th>wind</th>\n",
       "      <th>rain</th>\n",
       "      <th>area</th>\n",
       "    </tr>\n",
       "  </thead>\n",
       "  <tbody>\n",
       "    <tr>\n",
       "      <th>0</th>\n",
       "      <td>7</td>\n",
       "      <td>5</td>\n",
       "      <td>mar</td>\n",
       "      <td>fri</td>\n",
       "      <td>0.870968</td>\n",
       "      <td>26.2</td>\n",
       "      <td>-1.830477</td>\n",
       "      <td>-0.860946</td>\n",
       "      <td>-1.842640</td>\n",
       "      <td>0.411724</td>\n",
       "      <td>1.498614</td>\n",
       "      <td>0.0</td>\n",
       "      <td>0.0</td>\n",
       "    </tr>\n",
       "    <tr>\n",
       "      <th>1</th>\n",
       "      <td>7</td>\n",
       "      <td>4</td>\n",
       "      <td>oct</td>\n",
       "      <td>tue</td>\n",
       "      <td>0.927742</td>\n",
       "      <td>35.4</td>\n",
       "      <td>0.488891</td>\n",
       "      <td>-0.509688</td>\n",
       "      <td>-0.153278</td>\n",
       "      <td>-0.692456</td>\n",
       "      <td>-1.741756</td>\n",
       "      <td>0.0</td>\n",
       "      <td>0.0</td>\n",
       "    </tr>\n",
       "    <tr>\n",
       "      <th>2</th>\n",
       "      <td>7</td>\n",
       "      <td>4</td>\n",
       "      <td>oct</td>\n",
       "      <td>sat</td>\n",
       "      <td>0.927742</td>\n",
       "      <td>43.7</td>\n",
       "      <td>0.560715</td>\n",
       "      <td>-0.509688</td>\n",
       "      <td>-0.739383</td>\n",
       "      <td>-0.692456</td>\n",
       "      <td>-1.518282</td>\n",
       "      <td>0.0</td>\n",
       "      <td>0.0</td>\n",
       "    </tr>\n",
       "    <tr>\n",
       "      <th>3</th>\n",
       "      <td>8</td>\n",
       "      <td>6</td>\n",
       "      <td>mar</td>\n",
       "      <td>fri</td>\n",
       "      <td>0.941935</td>\n",
       "      <td>33.3</td>\n",
       "      <td>-1.898266</td>\n",
       "      <td>-0.004756</td>\n",
       "      <td>-1.825402</td>\n",
       "      <td>3.233519</td>\n",
       "      <td>-0.009834</td>\n",
       "      <td>0.2</td>\n",
       "      <td>0.0</td>\n",
       "    </tr>\n",
       "    <tr>\n",
       "      <th>4</th>\n",
       "      <td>8</td>\n",
       "      <td>6</td>\n",
       "      <td>mar</td>\n",
       "      <td>sun</td>\n",
       "      <td>0.910968</td>\n",
       "      <td>51.3</td>\n",
       "      <td>-1.798600</td>\n",
       "      <td>0.126966</td>\n",
       "      <td>-1.291012</td>\n",
       "      <td>3.356206</td>\n",
       "      <td>-1.238940</td>\n",
       "      <td>0.0</td>\n",
       "      <td>0.0</td>\n",
       "    </tr>\n",
       "    <tr>\n",
       "      <th>5</th>\n",
       "      <td>8</td>\n",
       "      <td>6</td>\n",
       "      <td>aug</td>\n",
       "      <td>sun</td>\n",
       "      <td>0.949677</td>\n",
       "      <td>85.3</td>\n",
       "      <td>-0.241863</td>\n",
       "      <td>1.246598</td>\n",
       "      <td>0.570734</td>\n",
       "      <td>-0.937830</td>\n",
       "      <td>0.772325</td>\n",
       "      <td>0.0</td>\n",
       "      <td>0.0</td>\n",
       "    </tr>\n",
       "    <tr>\n",
       "      <th>6</th>\n",
       "      <td>8</td>\n",
       "      <td>6</td>\n",
       "      <td>aug</td>\n",
       "      <td>mon</td>\n",
       "      <td>0.949677</td>\n",
       "      <td>88.9</td>\n",
       "      <td>-0.211197</td>\n",
       "      <td>-0.114524</td>\n",
       "      <td>0.898263</td>\n",
       "      <td>-1.060516</td>\n",
       "      <td>-0.512650</td>\n",
       "      <td>0.0</td>\n",
       "      <td>0.0</td>\n",
       "    </tr>\n",
       "    <tr>\n",
       "      <th>7</th>\n",
       "      <td>8</td>\n",
       "      <td>6</td>\n",
       "      <td>aug</td>\n",
       "      <td>mon</td>\n",
       "      <td>0.939355</td>\n",
       "      <td>145.4</td>\n",
       "      <td>0.243154</td>\n",
       "      <td>0.368455</td>\n",
       "      <td>-1.877117</td>\n",
       "      <td>2.558742</td>\n",
       "      <td>-1.015466</td>\n",
       "      <td>0.0</td>\n",
       "      <td>0.0</td>\n",
       "    </tr>\n",
       "    <tr>\n",
       "      <th>8</th>\n",
       "      <td>8</td>\n",
       "      <td>6</td>\n",
       "      <td>sep</td>\n",
       "      <td>tue</td>\n",
       "      <td>0.932903</td>\n",
       "      <td>129.5</td>\n",
       "      <td>0.583715</td>\n",
       "      <td>-0.443828</td>\n",
       "      <td>-0.997959</td>\n",
       "      <td>1.147845</td>\n",
       "      <td>0.772325</td>\n",
       "      <td>0.0</td>\n",
       "      <td>0.0</td>\n",
       "    </tr>\n",
       "    <tr>\n",
       "      <th>9</th>\n",
       "      <td>7</td>\n",
       "      <td>5</td>\n",
       "      <td>sep</td>\n",
       "      <td>sat</td>\n",
       "      <td>0.952258</td>\n",
       "      <td>88.0</td>\n",
       "      <td>0.607926</td>\n",
       "      <td>-0.421874</td>\n",
       "      <td>0.674164</td>\n",
       "      <td>-0.263053</td>\n",
       "      <td>-0.009834</td>\n",
       "      <td>0.0</td>\n",
       "      <td>0.0</td>\n",
       "    </tr>\n",
       "  </tbody>\n",
       "</table>\n",
       "</div>"
      ],
      "text/plain": [
       "   X  Y month  day      FFMC    DMC        DC       ISI      temp        RH  \\\n",
       "0  7  5   mar  fri  0.870968   26.2 -1.830477 -0.860946 -1.842640  0.411724   \n",
       "1  7  4   oct  tue  0.927742   35.4  0.488891 -0.509688 -0.153278 -0.692456   \n",
       "2  7  4   oct  sat  0.927742   43.7  0.560715 -0.509688 -0.739383 -0.692456   \n",
       "3  8  6   mar  fri  0.941935   33.3 -1.898266 -0.004756 -1.825402  3.233519   \n",
       "4  8  6   mar  sun  0.910968   51.3 -1.798600  0.126966 -1.291012  3.356206   \n",
       "5  8  6   aug  sun  0.949677   85.3 -0.241863  1.246598  0.570734 -0.937830   \n",
       "6  8  6   aug  mon  0.949677   88.9 -0.211197 -0.114524  0.898263 -1.060516   \n",
       "7  8  6   aug  mon  0.939355  145.4  0.243154  0.368455 -1.877117  2.558742   \n",
       "8  8  6   sep  tue  0.932903  129.5  0.583715 -0.443828 -0.997959  1.147845   \n",
       "9  7  5   sep  sat  0.952258   88.0  0.607926 -0.421874  0.674164 -0.263053   \n",
       "\n",
       "       wind  rain  area  \n",
       "0  1.498614   0.0   0.0  \n",
       "1 -1.741756   0.0   0.0  \n",
       "2 -1.518282   0.0   0.0  \n",
       "3 -0.009834   0.2   0.0  \n",
       "4 -1.238940   0.0   0.0  \n",
       "5  0.772325   0.0   0.0  \n",
       "6 -0.512650   0.0   0.0  \n",
       "7 -1.015466   0.0   0.0  \n",
       "8  0.772325   0.0   0.0  \n",
       "9 -0.009834   0.0   0.0  "
      ]
     },
     "execution_count": 119,
     "metadata": {},
     "output_type": "execute_result"
    }
   ],
   "source": [
    "# dataframe after normalization of `DC`, `ISI`, `temp`, `RH`, and `wind` attributes\n",
    "df.head(10)"
   ]
  },
  {
   "cell_type": "markdown",
   "metadata": {},
   "source": [
    "### Part C: Export to CSV file"
   ]
  },
  {
   "cell_type": "code",
   "execution_count": 120,
   "metadata": {},
   "outputs": [],
   "source": [
    "# output dataframe to CSV file named \"data_normalized.csv\"\n",
    "df.to_csv(\"data_normalized.csv\", index = False)"
   ]
  },
  {
   "cell_type": "markdown",
   "metadata": {},
   "source": [
    "## Task 8. PCA"
   ]
  },
  {
   "cell_type": "code",
   "execution_count": 121,
   "metadata": {},
   "outputs": [
    {
     "data": {
      "text/html": [
       "<div>\n",
       "<style scoped>\n",
       "    .dataframe tbody tr th:only-of-type {\n",
       "        vertical-align: middle;\n",
       "    }\n",
       "\n",
       "    .dataframe tbody tr th {\n",
       "        vertical-align: top;\n",
       "    }\n",
       "\n",
       "    .dataframe thead th {\n",
       "        text-align: right;\n",
       "    }\n",
       "</style>\n",
       "<table border=\"1\" class=\"dataframe\">\n",
       "  <thead>\n",
       "    <tr style=\"text-align: right;\">\n",
       "      <th></th>\n",
       "      <th>DC</th>\n",
       "      <th>ISI</th>\n",
       "      <th>temp</th>\n",
       "      <th>RH</th>\n",
       "      <th>wind</th>\n",
       "    </tr>\n",
       "  </thead>\n",
       "  <tbody>\n",
       "    <tr>\n",
       "      <th>0</th>\n",
       "      <td>-1.830477</td>\n",
       "      <td>-0.860946</td>\n",
       "      <td>-1.842640</td>\n",
       "      <td>0.411724</td>\n",
       "      <td>1.498614</td>\n",
       "    </tr>\n",
       "    <tr>\n",
       "      <th>1</th>\n",
       "      <td>0.488891</td>\n",
       "      <td>-0.509688</td>\n",
       "      <td>-0.153278</td>\n",
       "      <td>-0.692456</td>\n",
       "      <td>-1.741756</td>\n",
       "    </tr>\n",
       "    <tr>\n",
       "      <th>2</th>\n",
       "      <td>0.560715</td>\n",
       "      <td>-0.509688</td>\n",
       "      <td>-0.739383</td>\n",
       "      <td>-0.692456</td>\n",
       "      <td>-1.518282</td>\n",
       "    </tr>\n",
       "    <tr>\n",
       "      <th>3</th>\n",
       "      <td>-1.898266</td>\n",
       "      <td>-0.004756</td>\n",
       "      <td>-1.825402</td>\n",
       "      <td>3.233519</td>\n",
       "      <td>-0.009834</td>\n",
       "    </tr>\n",
       "    <tr>\n",
       "      <th>4</th>\n",
       "      <td>-1.798600</td>\n",
       "      <td>0.126966</td>\n",
       "      <td>-1.291012</td>\n",
       "      <td>3.356206</td>\n",
       "      <td>-1.238940</td>\n",
       "    </tr>\n",
       "    <tr>\n",
       "      <th>5</th>\n",
       "      <td>-0.241863</td>\n",
       "      <td>1.246598</td>\n",
       "      <td>0.570734</td>\n",
       "      <td>-0.937830</td>\n",
       "      <td>0.772325</td>\n",
       "    </tr>\n",
       "    <tr>\n",
       "      <th>6</th>\n",
       "      <td>-0.211197</td>\n",
       "      <td>-0.114524</td>\n",
       "      <td>0.898263</td>\n",
       "      <td>-1.060516</td>\n",
       "      <td>-0.512650</td>\n",
       "    </tr>\n",
       "    <tr>\n",
       "      <th>7</th>\n",
       "      <td>0.243154</td>\n",
       "      <td>0.368455</td>\n",
       "      <td>-1.877117</td>\n",
       "      <td>2.558742</td>\n",
       "      <td>-1.015466</td>\n",
       "    </tr>\n",
       "    <tr>\n",
       "      <th>8</th>\n",
       "      <td>0.583715</td>\n",
       "      <td>-0.443828</td>\n",
       "      <td>-0.997959</td>\n",
       "      <td>1.147845</td>\n",
       "      <td>0.772325</td>\n",
       "    </tr>\n",
       "    <tr>\n",
       "      <th>9</th>\n",
       "      <td>0.607926</td>\n",
       "      <td>-0.421874</td>\n",
       "      <td>0.674164</td>\n",
       "      <td>-0.263053</td>\n",
       "      <td>-0.009834</td>\n",
       "    </tr>\n",
       "  </tbody>\n",
       "</table>\n",
       "</div>"
      ],
      "text/plain": [
       "         DC       ISI      temp        RH      wind\n",
       "0 -1.830477 -0.860946 -1.842640  0.411724  1.498614\n",
       "1  0.488891 -0.509688 -0.153278 -0.692456 -1.741756\n",
       "2  0.560715 -0.509688 -0.739383 -0.692456 -1.518282\n",
       "3 -1.898266 -0.004756 -1.825402  3.233519 -0.009834\n",
       "4 -1.798600  0.126966 -1.291012  3.356206 -1.238940\n",
       "5 -0.241863  1.246598  0.570734 -0.937830  0.772325\n",
       "6 -0.211197 -0.114524  0.898263 -1.060516 -0.512650\n",
       "7  0.243154  0.368455 -1.877117  2.558742 -1.015466\n",
       "8  0.583715 -0.443828 -0.997959  1.147845  0.772325\n",
       "9  0.607926 -0.421874  0.674164 -0.263053 -0.009834"
      ]
     },
     "execution_count": 121,
     "metadata": {},
     "output_type": "execute_result"
    }
   ],
   "source": [
    "# only the attributes `DC`, `ISI`, `temp`, `RH`, and `wind` are used\n",
    "pca_df = df[['DC', 'ISI', 'temp', 'RH', 'wind']]\n",
    "pca_df.head(10)"
   ]
  },
  {
   "cell_type": "code",
   "execution_count": 128,
   "metadata": {},
   "outputs": [
    {
     "data": {
      "image/png": "[encoded data removed]",
      "text/plain": [
       "<Figure size 640x480 with 1 Axes>"
      ]
     },
     "metadata": {},
     "output_type": "display_data"
    }
   ],
   "source": [
    "# plot the cumulative explained variance ratio with the number of principal components\n",
    "from sklearn.decomposition import PCA\n",
    "pca = PCA()\n",
    "pca.fit(pca_df)\n",
    "plt.plot(np.cumsum(pca.explained_variance_ratio_))\n",
    "plt.xlabel('Number of components')\n",
    "plt.ylabel('Cumulative explained variance');\n"
   ]
  },
  {
   "cell_type": "code",
   "execution_count": 130,
   "metadata": {},
   "outputs": [
    {
     "data": {
      "text/plain": [
       "array([0.42579912, 0.23487047, 0.2077909 , 0.13153951])"
      ]
     },
     "execution_count": 130,
     "metadata": {},
     "output_type": "execute_result"
    }
   ],
   "source": [
    "pca.explained_variance_ratio_"
   ]
  },
  {
   "cell_type": "code",
   "execution_count": 127,
   "metadata": {},
   "outputs": [
    {
     "data": {
      "text/plain": [
       "array([[ 2.8707736 ,  1.03818095, -0.7376921 , -0.14817976],\n",
       "       [-0.61154381, -1.67368952, -0.50651348,  0.29561033],\n",
       "       [-0.21779758, -1.52025609, -0.39796623,  0.19105366],\n",
       "       ...,\n",
       "       [ 1.12143505,  0.01778857,  0.94673927, -1.87987336],\n",
       "       [-1.1215933 ,  0.24343415,  0.10343671,  0.0450668 ],\n",
       "       [ 1.99853102, -0.24129206, -2.0624634 , -0.27181027]])"
      ]
     },
     "execution_count": 127,
     "metadata": {},
     "output_type": "execute_result"
    }
   ],
   "source": [
    "pca_df"
   ]
  },
  {
   "cell_type": "markdown",
   "metadata": {},
   "source": [
    "## Task 9. Missing Values"
   ]
  },
  {
   "cell_type": "markdown",
   "metadata": {},
   "source": [
    "The dataset is reloaded."
   ]
  },
  {
   "cell_type": "code",
   "execution_count": 122,
   "metadata": {},
   "outputs": [],
   "source": [
    "# reload the dataset\n",
    "df = pd.read_csv(\"forestfires.csv\", sep = ',')"
   ]
  },
  {
   "cell_type": "code",
   "execution_count": null,
   "metadata": {},
   "outputs": [],
   "source": []
  }
 ],
 "metadata": {
  "kernelspec": {
   "display_name": "Python 3.10.4 ('ml')",
   "language": "python",
   "name": "python3"
  },
  "language_info": {
   "codemirror_mode": {
    "name": "ipython",
    "version": 3
   },
   "file_extension": ".py",
   "mimetype": "text/x-python",
   "name": "python",
   "nbconvert_exporter": "python",
   "pygments_lexer": "ipython3",
   "version": "3.10.4"
  },
  "orig_nbformat": 2,
  "vscode": {
   "interpreter": {
    "hash": "b13c84f26b03b81837babb7d6bb182b97bb46d822613cfd30489287e68eae110"
   }
  }
 },
 "nbformat": 4,
 "nbformat_minor": 2
}
