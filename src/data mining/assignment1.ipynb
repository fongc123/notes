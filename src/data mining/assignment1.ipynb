{
 "cells": [
  {
   "cell_type": "markdown",
   "metadata": {},
   "source": [
    "# COMP4331 Assignment 1"
   ]
  },
  {
   "cell_type": "markdown",
   "metadata": {},
   "source": [
    "## Preparing the dataset"
   ]
  },
  {
   "cell_type": "code",
   "execution_count": 1,
   "metadata": {},
   "outputs": [],
   "source": [
    "import seaborn as sns\n",
    "import numpy as np\n",
    "import pandas as pd\n",
    "import matplotlib.pyplot as plt\n",
    "import scipy\n",
    "import sklearn"
   ]
  },
  {
   "cell_type": "code",
   "execution_count": 2,
   "metadata": {},
   "outputs": [],
   "source": [
    "# load \"forestfires.csv\" into a pandas dataframe\n",
    "df = pd.read_csv(\"forestfires.csv\", sep = ',')"
   ]
  },
  {
   "cell_type": "code",
   "execution_count": 3,
   "metadata": {},
   "outputs": [
    {
     "data": {
      "text/html": [
       "<div>\n",
       "<style scoped>\n",
       "    .dataframe tbody tr th:only-of-type {\n",
       "        vertical-align: middle;\n",
       "    }\n",
       "\n",
       "    .dataframe tbody tr th {\n",
       "        vertical-align: top;\n",
       "    }\n",
       "\n",
       "    .dataframe thead th {\n",
       "        text-align: right;\n",
       "    }\n",
       "</style>\n",
       "<table border=\"1\" class=\"dataframe\">\n",
       "  <thead>\n",
       "    <tr style=\"text-align: right;\">\n",
       "      <th></th>\n",
       "      <th>X</th>\n",
       "      <th>Y</th>\n",
       "      <th>month</th>\n",
       "      <th>day</th>\n",
       "      <th>FFMC</th>\n",
       "      <th>DMC</th>\n",
       "      <th>DC</th>\n",
       "      <th>ISI</th>\n",
       "      <th>temp</th>\n",
       "      <th>RH</th>\n",
       "      <th>wind</th>\n",
       "      <th>rain</th>\n",
       "      <th>area</th>\n",
       "    </tr>\n",
       "  </thead>\n",
       "  <tbody>\n",
       "    <tr>\n",
       "      <th>0</th>\n",
       "      <td>7</td>\n",
       "      <td>5</td>\n",
       "      <td>mar</td>\n",
       "      <td>fri</td>\n",
       "      <td>86.2</td>\n",
       "      <td>26.2</td>\n",
       "      <td>94.3</td>\n",
       "      <td>5.1</td>\n",
       "      <td>8.2</td>\n",
       "      <td>51</td>\n",
       "      <td>6.7</td>\n",
       "      <td>0.0</td>\n",
       "      <td>0.0</td>\n",
       "    </tr>\n",
       "    <tr>\n",
       "      <th>1</th>\n",
       "      <td>7</td>\n",
       "      <td>4</td>\n",
       "      <td>oct</td>\n",
       "      <td>tue</td>\n",
       "      <td>90.6</td>\n",
       "      <td>35.4</td>\n",
       "      <td>669.1</td>\n",
       "      <td>6.7</td>\n",
       "      <td>18.0</td>\n",
       "      <td>33</td>\n",
       "      <td>0.9</td>\n",
       "      <td>0.0</td>\n",
       "      <td>0.0</td>\n",
       "    </tr>\n",
       "    <tr>\n",
       "      <th>2</th>\n",
       "      <td>7</td>\n",
       "      <td>4</td>\n",
       "      <td>oct</td>\n",
       "      <td>sat</td>\n",
       "      <td>90.6</td>\n",
       "      <td>43.7</td>\n",
       "      <td>686.9</td>\n",
       "      <td>6.7</td>\n",
       "      <td>14.6</td>\n",
       "      <td>33</td>\n",
       "      <td>1.3</td>\n",
       "      <td>0.0</td>\n",
       "      <td>0.0</td>\n",
       "    </tr>\n",
       "    <tr>\n",
       "      <th>3</th>\n",
       "      <td>8</td>\n",
       "      <td>6</td>\n",
       "      <td>mar</td>\n",
       "      <td>fri</td>\n",
       "      <td>91.7</td>\n",
       "      <td>33.3</td>\n",
       "      <td>77.5</td>\n",
       "      <td>9.0</td>\n",
       "      <td>8.3</td>\n",
       "      <td>97</td>\n",
       "      <td>4.0</td>\n",
       "      <td>0.2</td>\n",
       "      <td>0.0</td>\n",
       "    </tr>\n",
       "    <tr>\n",
       "      <th>4</th>\n",
       "      <td>8</td>\n",
       "      <td>6</td>\n",
       "      <td>mar</td>\n",
       "      <td>sun</td>\n",
       "      <td>89.3</td>\n",
       "      <td>51.3</td>\n",
       "      <td>102.2</td>\n",
       "      <td>9.6</td>\n",
       "      <td>11.4</td>\n",
       "      <td>99</td>\n",
       "      <td>1.8</td>\n",
       "      <td>0.0</td>\n",
       "      <td>0.0</td>\n",
       "    </tr>\n",
       "    <tr>\n",
       "      <th>5</th>\n",
       "      <td>8</td>\n",
       "      <td>6</td>\n",
       "      <td>aug</td>\n",
       "      <td>sun</td>\n",
       "      <td>92.3</td>\n",
       "      <td>85.3</td>\n",
       "      <td>488.0</td>\n",
       "      <td>14.7</td>\n",
       "      <td>22.2</td>\n",
       "      <td>29</td>\n",
       "      <td>5.4</td>\n",
       "      <td>0.0</td>\n",
       "      <td>0.0</td>\n",
       "    </tr>\n",
       "    <tr>\n",
       "      <th>6</th>\n",
       "      <td>8</td>\n",
       "      <td>6</td>\n",
       "      <td>aug</td>\n",
       "      <td>mon</td>\n",
       "      <td>92.3</td>\n",
       "      <td>88.9</td>\n",
       "      <td>495.6</td>\n",
       "      <td>8.5</td>\n",
       "      <td>24.1</td>\n",
       "      <td>27</td>\n",
       "      <td>3.1</td>\n",
       "      <td>0.0</td>\n",
       "      <td>0.0</td>\n",
       "    </tr>\n",
       "    <tr>\n",
       "      <th>7</th>\n",
       "      <td>8</td>\n",
       "      <td>6</td>\n",
       "      <td>aug</td>\n",
       "      <td>mon</td>\n",
       "      <td>91.5</td>\n",
       "      <td>145.4</td>\n",
       "      <td>608.2</td>\n",
       "      <td>10.7</td>\n",
       "      <td>8.0</td>\n",
       "      <td>86</td>\n",
       "      <td>2.2</td>\n",
       "      <td>0.0</td>\n",
       "      <td>0.0</td>\n",
       "    </tr>\n",
       "    <tr>\n",
       "      <th>8</th>\n",
       "      <td>8</td>\n",
       "      <td>6</td>\n",
       "      <td>sep</td>\n",
       "      <td>tue</td>\n",
       "      <td>91.0</td>\n",
       "      <td>129.5</td>\n",
       "      <td>692.6</td>\n",
       "      <td>7.0</td>\n",
       "      <td>13.1</td>\n",
       "      <td>63</td>\n",
       "      <td>5.4</td>\n",
       "      <td>0.0</td>\n",
       "      <td>0.0</td>\n",
       "    </tr>\n",
       "    <tr>\n",
       "      <th>9</th>\n",
       "      <td>7</td>\n",
       "      <td>5</td>\n",
       "      <td>sep</td>\n",
       "      <td>sat</td>\n",
       "      <td>92.5</td>\n",
       "      <td>88.0</td>\n",
       "      <td>698.6</td>\n",
       "      <td>7.1</td>\n",
       "      <td>22.8</td>\n",
       "      <td>40</td>\n",
       "      <td>4.0</td>\n",
       "      <td>0.0</td>\n",
       "      <td>0.0</td>\n",
       "    </tr>\n",
       "  </tbody>\n",
       "</table>\n",
       "</div>"
      ],
      "text/plain": [
       "   X  Y month  day  FFMC    DMC     DC   ISI  temp  RH  wind  rain  area\n",
       "0  7  5   mar  fri  86.2   26.2   94.3   5.1   8.2  51   6.7   0.0   0.0\n",
       "1  7  4   oct  tue  90.6   35.4  669.1   6.7  18.0  33   0.9   0.0   0.0\n",
       "2  7  4   oct  sat  90.6   43.7  686.9   6.7  14.6  33   1.3   0.0   0.0\n",
       "3  8  6   mar  fri  91.7   33.3   77.5   9.0   8.3  97   4.0   0.2   0.0\n",
       "4  8  6   mar  sun  89.3   51.3  102.2   9.6  11.4  99   1.8   0.0   0.0\n",
       "5  8  6   aug  sun  92.3   85.3  488.0  14.7  22.2  29   5.4   0.0   0.0\n",
       "6  8  6   aug  mon  92.3   88.9  495.6   8.5  24.1  27   3.1   0.0   0.0\n",
       "7  8  6   aug  mon  91.5  145.4  608.2  10.7   8.0  86   2.2   0.0   0.0\n",
       "8  8  6   sep  tue  91.0  129.5  692.6   7.0  13.1  63   5.4   0.0   0.0\n",
       "9  7  5   sep  sat  92.5   88.0  698.6   7.1  22.8  40   4.0   0.0   0.0"
      ]
     },
     "execution_count": 3,
     "metadata": {},
     "output_type": "execute_result"
    }
   ],
   "source": [
    "df.head(10)"
   ]
  },
  {
   "cell_type": "markdown",
   "metadata": {},
   "source": [
    "## Task 1. Basic Summary"
   ]
  },
  {
   "cell_type": "markdown",
   "metadata": {},
   "source": [
    "The mean, standard deviation, mode, median, and five-number summary of the `RH` attribute is reported."
   ]
  },
  {
   "cell_type": "code",
   "execution_count": 4,
   "metadata": {},
   "outputs": [
    {
     "name": "stdout",
     "output_type": "stream",
     "text": [
      "RH mean:  44.28820116054158\n",
      "RH standard deviation:  16.317469239378394\n",
      "RH mode:  0    27\n",
      "dtype: int64\n",
      "RH median:  42.0\n",
      "RH five-number summary:  count    517.000000\n",
      "mean      44.288201\n",
      "std       16.317469\n",
      "min       15.000000\n",
      "25%       33.000000\n",
      "50%       42.000000\n",
      "75%       53.000000\n",
      "max      100.000000\n",
      "Name: RH, dtype: float64\n"
     ]
    }
   ],
   "source": [
    "print(\"RH mean: \", df['RH'].mean())\n",
    "print(\"RH standard deviation: \", df['RH'].std())\n",
    "print(\"RH mode: \", df['RH'].mode())\n",
    "print(\"RH median: \", df['RH'].median())\n",
    "print(\"RH five-number summary: \", df['RH'].describe())"
   ]
  },
  {
   "cell_type": "code",
   "execution_count": 5,
   "metadata": {},
   "outputs": [
    {
     "data": {
      "text/plain": [
       "27    33\n",
       "Name: RH, dtype: int64"
      ]
     },
     "execution_count": 5,
     "metadata": {},
     "output_type": "execute_result"
    }
   ],
   "source": [
    "# find the highest occurrence of RH\n",
    "df['RH'].value_counts().head(1)"
   ]
  },
  {
   "cell_type": "markdown",
   "metadata": {},
   "source": [
    "The mean, standard deviation, mode, median, and five-number summary of the `wind` attribute is reported."
   ]
  },
  {
   "cell_type": "code",
   "execution_count": 6,
   "metadata": {},
   "outputs": [
    {
     "name": "stdout",
     "output_type": "stream",
     "text": [
      "wind mean:  4.017601547388782\n",
      "wind standard deviation:  1.7916526009464604\n",
      "wind mode:  0    2.2\n",
      "1    3.1\n",
      "dtype: float64\n",
      "wind median:  4.0\n",
      "wind five-number summary:  count    517.000000\n",
      "mean       4.017602\n",
      "std        1.791653\n",
      "min        0.400000\n",
      "25%        2.700000\n",
      "50%        4.000000\n",
      "75%        4.900000\n",
      "max        9.400000\n",
      "Name: wind, dtype: float64\n"
     ]
    }
   ],
   "source": [
    "print(\"wind mean: \", df['wind'].mean())\n",
    "print(\"wind standard deviation: \", df['wind'].std())\n",
    "print(\"wind mode: \", df['wind'].mode())\n",
    "print(\"wind median: \", df['wind'].median())\n",
    "print(\"wind five-number summary: \", df['wind'].describe())"
   ]
  },
  {
   "cell_type": "markdown",
   "metadata": {},
   "source": [
    "## Task 2. Box Plot"
   ]
  },
  {
   "cell_type": "markdown",
   "metadata": {},
   "source": [
    "### Part A: Boxplot for `RH` attribute"
   ]
  },
  {
   "cell_type": "code",
   "execution_count": 7,
   "metadata": {},
   "outputs": [
    {
     "data": {
      "image/png": "[encoded data removed]",
      "image/svg+xml": "<?xml version=\"1.0\" encoding=\"utf-8\" standalone=\"no\"?>\n<!DOCTYPE svg PUBLIC \"-//W3C//DTD SVG 1.1//EN\"\n  \"http://www.w3.org/Graphics/SVG/1.1/DTD/svg11.dtd\">\n<svg xmlns:xlink=\"http://www.w3.org/1999/xlink\" width=\"388.965625pt\" height=\"263.63625pt\" viewBox=\"0 0 388.965625 263.63625\" xmlns=\"http://www.w3.org/2000/svg\" version=\"1.1\">\n <metadata>\n  <rdf:RDF xmlns:dc=\"http://purl.org/dc/elements/1.1/\" xmlns:cc=\"http://creativecommons.org/ns#\" xmlns:rdf=\"http://www.w3.org/1999/02/22-rdf-syntax-ns#\">\n   <cc:Work>\n    <dc:type rdf:resource=\"http://purl.org/dc/dcmitype/StillImage\"/>\n    <dc:date>2022-10-06T15:03:35.732887</dc:date>\n    <dc:format>image/svg+xml</dc:format>\n    <dc:creator>\n     <cc:Agent>\n      <dc:title>Matplotlib v3.5.0, https://matplotlib.org/</dc:title>\n     </cc:Agent>\n    </dc:creator>\n   </cc:Work>\n  </rdf:RDF>\n </metadata>\n <defs>\n  <style type=\"text/css\">*{stroke-linejoin: round; stroke-linecap: butt}</style>\n </defs>\n <g id=\"figure_1\">\n  <g id=\"patch_1\">\n   <path d=\"M -0 263.63625 \nL 388.965625 263.63625 \nL 388.965625 0 \nL -0 0 \nL -0 263.63625 \nz\n\" style=\"fill: none\"/>\n  </g>\n  <g id=\"axes_1\">\n   <g id=\"patch_2\">\n    <path d=\"M 46.965625 239.758125 \nL 381.765625 239.758125 \nL 381.765625 22.318125 \nL 46.965625 22.318125 \nz\n\" style=\"fill: #ffffff\"/>\n   </g>\n   <g id=\"matplotlib.axis_1\">\n    <g id=\"xtick_1\">\n     <g id=\"line2d_1\">\n      <defs>\n       <path id=\"mf838d93f5a\" d=\"M 0 0 \nL 0 3.5 \n\" style=\"stroke: #000000; stroke-width: 0.8\"/>\n      </defs>\n      <g>\n       <use xlink:href=\"#mf838d93f5a\" x=\"214.365625\" y=\"239.758125\" style=\"stroke: #000000; stroke-width: 0.8\"/>\n      </g>\n     </g>\n     <g id=\"text_1\">\n      <!-- 1 -->\n      <g transform=\"translate(211.184375 254.356563)scale(0.1 -0.1)\">\n       <defs>\n        <path id=\"DejaVuSans-31\" d=\"M 794 531 \nL 1825 531 \nL 1825 4091 \nL 703 3866 \nL 703 4441 \nL 1819 4666 \nL 2450 4666 \nL 2450 531 \nL 3481 531 \nL 3481 0 \nL 794 0 \nL 794 531 \nz\n\" transform=\"scale(0.015625)\"/>\n       </defs>\n       <use xlink:href=\"#DejaVuSans-31\"/>\n      </g>\n     </g>\n    </g>\n   </g>\n   <g id=\"matplotlib.axis_2\">\n    <g id=\"ytick_1\">\n     <g id=\"line2d_2\">\n      <defs>\n       <path id=\"m66747c4a1d\" d=\"M 0 0 \nL -3.5 0 \n\" style=\"stroke: #000000; stroke-width: 0.8\"/>\n      </defs>\n      <g>\n       <use xlink:href=\"#m66747c4a1d\" x=\"46.965625\" y=\"218.246681\" style=\"stroke: #000000; stroke-width: 0.8\"/>\n      </g>\n     </g>\n     <g id=\"text_2\">\n      <!-- 20 -->\n      <g transform=\"translate(27.240625 222.0459)scale(0.1 -0.1)\">\n       <defs>\n        <path id=\"DejaVuSans-32\" d=\"M 1228 531 \nL 3431 531 \nL 3431 0 \nL 469 0 \nL 469 531 \nQ 828 903 1448 1529 \nQ 2069 2156 2228 2338 \nQ 2531 2678 2651 2914 \nQ 2772 3150 2772 3378 \nQ 2772 3750 2511 3984 \nQ 2250 4219 1831 4219 \nQ 1534 4219 1204 4116 \nQ 875 4013 500 3803 \nL 500 4441 \nQ 881 4594 1212 4672 \nQ 1544 4750 1819 4750 \nQ 2544 4750 2975 4387 \nQ 3406 4025 3406 3419 \nQ 3406 3131 3298 2873 \nQ 3191 2616 2906 2266 \nQ 2828 2175 2409 1742 \nQ 1991 1309 1228 531 \nz\n\" transform=\"scale(0.015625)\"/>\n        <path id=\"DejaVuSans-30\" d=\"M 2034 4250 \nQ 1547 4250 1301 3770 \nQ 1056 3291 1056 2328 \nQ 1056 1369 1301 889 \nQ 1547 409 2034 409 \nQ 2525 409 2770 889 \nQ 3016 1369 3016 2328 \nQ 3016 3291 2770 3770 \nQ 2525 4250 2034 4250 \nz\nM 2034 4750 \nQ 2819 4750 3233 4129 \nQ 3647 3509 3647 2328 \nQ 3647 1150 3233 529 \nQ 2819 -91 2034 -91 \nQ 1250 -91 836 529 \nQ 422 1150 422 2328 \nQ 422 3509 836 4129 \nQ 1250 4750 2034 4750 \nz\n\" transform=\"scale(0.015625)\"/>\n       </defs>\n       <use xlink:href=\"#DejaVuSans-32\"/>\n       <use xlink:href=\"#DejaVuSans-30\" x=\"63.623047\"/>\n      </g>\n     </g>\n    </g>\n    <g id=\"ytick_2\">\n     <g id=\"line2d_3\">\n      <g>\n       <use xlink:href=\"#m66747c4a1d\" x=\"46.965625\" y=\"171.735451\" style=\"stroke: #000000; stroke-width: 0.8\"/>\n      </g>\n     </g>\n     <g id=\"text_3\">\n      <!-- 40 -->\n      <g transform=\"translate(27.240625 175.53467)scale(0.1 -0.1)\">\n       <defs>\n        <path id=\"DejaVuSans-34\" d=\"M 2419 4116 \nL 825 1625 \nL 2419 1625 \nL 2419 4116 \nz\nM 2253 4666 \nL 3047 4666 \nL 3047 1625 \nL 3713 1625 \nL 3713 1100 \nL 3047 1100 \nL 3047 0 \nL 2419 0 \nL 2419 1100 \nL 313 1100 \nL 313 1709 \nL 2253 4666 \nz\n\" transform=\"scale(0.015625)\"/>\n       </defs>\n       <use xlink:href=\"#DejaVuSans-34\"/>\n       <use xlink:href=\"#DejaVuSans-30\" x=\"63.623047\"/>\n      </g>\n     </g>\n    </g>\n    <g id=\"ytick_3\">\n     <g id=\"line2d_4\">\n      <g>\n       <use xlink:href=\"#m66747c4a1d\" x=\"46.965625\" y=\"125.224221\" style=\"stroke: #000000; stroke-width: 0.8\"/>\n      </g>\n     </g>\n     <g id=\"text_4\">\n      <!-- 60 -->\n      <g transform=\"translate(27.240625 129.02344)scale(0.1 -0.1)\">\n       <defs>\n        <path id=\"DejaVuSans-36\" d=\"M 2113 2584 \nQ 1688 2584 1439 2293 \nQ 1191 2003 1191 1497 \nQ 1191 994 1439 701 \nQ 1688 409 2113 409 \nQ 2538 409 2786 701 \nQ 3034 994 3034 1497 \nQ 3034 2003 2786 2293 \nQ 2538 2584 2113 2584 \nz\nM 3366 4563 \nL 3366 3988 \nQ 3128 4100 2886 4159 \nQ 2644 4219 2406 4219 \nQ 1781 4219 1451 3797 \nQ 1122 3375 1075 2522 \nQ 1259 2794 1537 2939 \nQ 1816 3084 2150 3084 \nQ 2853 3084 3261 2657 \nQ 3669 2231 3669 1497 \nQ 3669 778 3244 343 \nQ 2819 -91 2113 -91 \nQ 1303 -91 875 529 \nQ 447 1150 447 2328 \nQ 447 3434 972 4092 \nQ 1497 4750 2381 4750 \nQ 2619 4750 2861 4703 \nQ 3103 4656 3366 4563 \nz\n\" transform=\"scale(0.015625)\"/>\n       </defs>\n       <use xlink:href=\"#DejaVuSans-36\"/>\n       <use xlink:href=\"#DejaVuSans-30\" x=\"63.623047\"/>\n      </g>\n     </g>\n    </g>\n    <g id=\"ytick_4\">\n     <g id=\"line2d_5\">\n      <g>\n       <use xlink:href=\"#m66747c4a1d\" x=\"46.965625\" y=\"78.712991\" style=\"stroke: #000000; stroke-width: 0.8\"/>\n      </g>\n     </g>\n     <g id=\"text_5\">\n      <!-- 80 -->\n      <g transform=\"translate(27.240625 82.51221)scale(0.1 -0.1)\">\n       <defs>\n        <path id=\"DejaVuSans-38\" d=\"M 2034 2216 \nQ 1584 2216 1326 1975 \nQ 1069 1734 1069 1313 \nQ 1069 891 1326 650 \nQ 1584 409 2034 409 \nQ 2484 409 2743 651 \nQ 3003 894 3003 1313 \nQ 3003 1734 2745 1975 \nQ 2488 2216 2034 2216 \nz\nM 1403 2484 \nQ 997 2584 770 2862 \nQ 544 3141 544 3541 \nQ 544 4100 942 4425 \nQ 1341 4750 2034 4750 \nQ 2731 4750 3128 4425 \nQ 3525 4100 3525 3541 \nQ 3525 3141 3298 2862 \nQ 3072 2584 2669 2484 \nQ 3125 2378 3379 2068 \nQ 3634 1759 3634 1313 \nQ 3634 634 3220 271 \nQ 2806 -91 2034 -91 \nQ 1263 -91 848 271 \nQ 434 634 434 1313 \nQ 434 1759 690 2068 \nQ 947 2378 1403 2484 \nz\nM 1172 3481 \nQ 1172 3119 1398 2916 \nQ 1625 2713 2034 2713 \nQ 2441 2713 2670 2916 \nQ 2900 3119 2900 3481 \nQ 2900 3844 2670 4047 \nQ 2441 4250 2034 4250 \nQ 1625 4250 1398 4047 \nQ 1172 3844 1172 3481 \nz\n\" transform=\"scale(0.015625)\"/>\n       </defs>\n       <use xlink:href=\"#DejaVuSans-38\"/>\n       <use xlink:href=\"#DejaVuSans-30\" x=\"63.623047\"/>\n      </g>\n     </g>\n    </g>\n    <g id=\"ytick_5\">\n     <g id=\"line2d_6\">\n      <g>\n       <use xlink:href=\"#m66747c4a1d\" x=\"46.965625\" y=\"32.201761\" style=\"stroke: #000000; stroke-width: 0.8\"/>\n      </g>\n     </g>\n     <g id=\"text_6\">\n      <!-- 100 -->\n      <g transform=\"translate(20.878125 36.00098)scale(0.1 -0.1)\">\n       <use xlink:href=\"#DejaVuSans-31\"/>\n       <use xlink:href=\"#DejaVuSans-30\" x=\"63.623047\"/>\n       <use xlink:href=\"#DejaVuSans-30\" x=\"127.246094\"/>\n      </g>\n     </g>\n    </g>\n    <g id=\"text_7\">\n     <!-- RH -->\n     <g transform=\"translate(14.798438 138.2725)rotate(-90)scale(0.1 -0.1)\">\n      <defs>\n       <path id=\"DejaVuSans-52\" d=\"M 2841 2188 \nQ 3044 2119 3236 1894 \nQ 3428 1669 3622 1275 \nL 4263 0 \nL 3584 0 \nL 2988 1197 \nQ 2756 1666 2539 1819 \nQ 2322 1972 1947 1972 \nL 1259 1972 \nL 1259 0 \nL 628 0 \nL 628 4666 \nL 2053 4666 \nQ 2853 4666 3247 4331 \nQ 3641 3997 3641 3322 \nQ 3641 2881 3436 2590 \nQ 3231 2300 2841 2188 \nz\nM 1259 4147 \nL 1259 2491 \nL 2053 2491 \nQ 2509 2491 2742 2702 \nQ 2975 2913 2975 3322 \nQ 2975 3731 2742 3939 \nQ 2509 4147 2053 4147 \nL 1259 4147 \nz\n\" transform=\"scale(0.015625)\"/>\n       <path id=\"DejaVuSans-48\" d=\"M 628 4666 \nL 1259 4666 \nL 1259 2753 \nL 3553 2753 \nL 3553 4666 \nL 4184 4666 \nL 4184 0 \nL 3553 0 \nL 3553 2222 \nL 1259 2222 \nL 1259 0 \nL 628 0 \nL 628 4666 \nz\n\" transform=\"scale(0.015625)\"/>\n      </defs>\n      <use xlink:href=\"#DejaVuSans-52\"/>\n      <use xlink:href=\"#DejaVuSans-48\" x=\"69.482422\"/>\n     </g>\n    </g>\n   </g>\n   <g id=\"line2d_7\">\n    <path d=\"M 189.255625 188.014382 \nL 239.475625 188.014382 \nL 239.475625 141.503152 \nL 189.255625 141.503152 \nL 189.255625 188.014382 \n\" clip-path=\"url(#p7e6c532e68)\" style=\"fill: none; stroke: #000000; stroke-linecap: square\"/>\n   </g>\n   <g id=\"line2d_8\">\n    <path d=\"M 214.365625 188.014382 \nL 214.365625 229.874489 \n\" clip-path=\"url(#p7e6c532e68)\" style=\"fill: none; stroke: #000000; stroke-linecap: square\"/>\n   </g>\n   <g id=\"line2d_9\">\n    <path d=\"M 214.365625 141.503152 \nL 214.365625 74.061868 \n\" clip-path=\"url(#p7e6c532e68)\" style=\"fill: none; stroke: #000000; stroke-linecap: square\"/>\n   </g>\n   <g id=\"line2d_10\">\n    <path d=\"M 201.810625 229.874489 \nL 226.920625 229.874489 \n\" clip-path=\"url(#p7e6c532e68)\" style=\"fill: none; stroke: #000000; stroke-linecap: square\"/>\n   </g>\n   <g id=\"line2d_11\">\n    <path d=\"M 201.810625 74.061868 \nL 226.920625 74.061868 \n\" clip-path=\"url(#p7e6c532e68)\" style=\"fill: none; stroke: #000000; stroke-linecap: square\"/>\n   </g>\n   <g id=\"line2d_12\">\n    <defs>\n     <path id=\"me615714580\" d=\"M 0 3 \nC 0.795609 3 1.55874 2.683901 2.12132 2.12132 \nC 2.683901 1.55874 3 0.795609 3 0 \nC 3 -0.795609 2.683901 -1.55874 2.12132 -2.12132 \nC 1.55874 -2.683901 0.795609 -3 0 -3 \nC -0.795609 -3 -1.55874 -2.683901 -2.12132 -2.12132 \nC -2.683901 -1.55874 -3 -0.795609 -3 0 \nC -3 0.795609 -2.683901 1.55874 -2.12132 2.12132 \nC -1.55874 2.683901 -0.795609 3 0 3 \nz\n\" style=\"stroke: #000000\"/>\n    </defs>\n    <g clip-path=\"url(#p7e6c532e68)\">\n     <use xlink:href=\"#me615714580\" x=\"214.365625\" y=\"39.178446\" style=\"fill-opacity: 0; stroke: #000000\"/>\n     <use xlink:href=\"#me615714580\" x=\"214.365625\" y=\"34.527323\" style=\"fill-opacity: 0; stroke: #000000\"/>\n     <use xlink:href=\"#me615714580\" x=\"214.365625\" y=\"64.759622\" style=\"fill-opacity: 0; stroke: #000000\"/>\n     <use xlink:href=\"#me615714580\" x=\"214.365625\" y=\"62.434061\" style=\"fill-opacity: 0; stroke: #000000\"/>\n     <use xlink:href=\"#me615714580\" x=\"214.365625\" y=\"41.504007\" style=\"fill-opacity: 0; stroke: #000000\"/>\n     <use xlink:href=\"#me615714580\" x=\"214.365625\" y=\"69.410745\" style=\"fill-opacity: 0; stroke: #000000\"/>\n     <use xlink:href=\"#me615714580\" x=\"214.365625\" y=\"55.457376\" style=\"fill-opacity: 0; stroke: #000000\"/>\n     <use xlink:href=\"#me615714580\" x=\"214.365625\" y=\"55.457376\" style=\"fill-opacity: 0; stroke: #000000\"/>\n     <use xlink:href=\"#me615714580\" x=\"214.365625\" y=\"46.15513\" style=\"fill-opacity: 0; stroke: #000000\"/>\n     <use xlink:href=\"#me615714580\" x=\"214.365625\" y=\"64.759622\" style=\"fill-opacity: 0; stroke: #000000\"/>\n     <use xlink:href=\"#me615714580\" x=\"214.365625\" y=\"32.201761\" style=\"fill-opacity: 0; stroke: #000000\"/>\n     <use xlink:href=\"#me615714580\" x=\"214.365625\" y=\"60.108499\" style=\"fill-opacity: 0; stroke: #000000\"/>\n    </g>\n   </g>\n   <g id=\"line2d_13\">\n    <path d=\"M 189.255625 167.084328 \nL 239.475625 167.084328 \n\" clip-path=\"url(#p7e6c532e68)\" style=\"fill: none; stroke: #ff7f0e; stroke-linecap: square\"/>\n   </g>\n   <g id=\"patch_3\">\n    <path d=\"M 46.965625 239.758125 \nL 46.965625 22.318125 \n\" style=\"fill: none; stroke: #000000; stroke-width: 0.8; stroke-linejoin: miter; stroke-linecap: square\"/>\n   </g>\n   <g id=\"patch_4\">\n    <path d=\"M 381.765625 239.758125 \nL 381.765625 22.318125 \n\" style=\"fill: none; stroke: #000000; stroke-width: 0.8; stroke-linejoin: miter; stroke-linecap: square\"/>\n   </g>\n   <g id=\"patch_5\">\n    <path d=\"M 46.965625 239.758125 \nL 381.765625 239.758125 \n\" style=\"fill: none; stroke: #000000; stroke-width: 0.8; stroke-linejoin: miter; stroke-linecap: square\"/>\n   </g>\n   <g id=\"patch_6\">\n    <path d=\"M 46.965625 22.318125 \nL 381.765625 22.318125 \n\" style=\"fill: none; stroke: #000000; stroke-width: 0.8; stroke-linejoin: miter; stroke-linecap: square\"/>\n   </g>\n   <g id=\"text_8\">\n    <!-- Part A: Boxplot of RH attribute -->\n    <g transform=\"translate(123.68125 16.318125)scale(0.12 -0.12)\">\n     <defs>\n      <path id=\"DejaVuSans-50\" d=\"M 1259 4147 \nL 1259 2394 \nL 2053 2394 \nQ 2494 2394 2734 2622 \nQ 2975 2850 2975 3272 \nQ 2975 3691 2734 3919 \nQ 2494 4147 2053 4147 \nL 1259 4147 \nz\nM 628 4666 \nL 2053 4666 \nQ 2838 4666 3239 4311 \nQ 3641 3956 3641 3272 \nQ 3641 2581 3239 2228 \nQ 2838 1875 2053 1875 \nL 1259 1875 \nL 1259 0 \nL 628 0 \nL 628 4666 \nz\n\" transform=\"scale(0.015625)\"/>\n      <path id=\"DejaVuSans-61\" d=\"M 2194 1759 \nQ 1497 1759 1228 1600 \nQ 959 1441 959 1056 \nQ 959 750 1161 570 \nQ 1363 391 1709 391 \nQ 2188 391 2477 730 \nQ 2766 1069 2766 1631 \nL 2766 1759 \nL 2194 1759 \nz\nM 3341 1997 \nL 3341 0 \nL 2766 0 \nL 2766 531 \nQ 2569 213 2275 61 \nQ 1981 -91 1556 -91 \nQ 1019 -91 701 211 \nQ 384 513 384 1019 \nQ 384 1609 779 1909 \nQ 1175 2209 1959 2209 \nL 2766 2209 \nL 2766 2266 \nQ 2766 2663 2505 2880 \nQ 2244 3097 1772 3097 \nQ 1472 3097 1187 3025 \nQ 903 2953 641 2809 \nL 641 3341 \nQ 956 3463 1253 3523 \nQ 1550 3584 1831 3584 \nQ 2591 3584 2966 3190 \nQ 3341 2797 3341 1997 \nz\n\" transform=\"scale(0.015625)\"/>\n      <path id=\"DejaVuSans-72\" d=\"M 2631 2963 \nQ 2534 3019 2420 3045 \nQ 2306 3072 2169 3072 \nQ 1681 3072 1420 2755 \nQ 1159 2438 1159 1844 \nL 1159 0 \nL 581 0 \nL 581 3500 \nL 1159 3500 \nL 1159 2956 \nQ 1341 3275 1631 3429 \nQ 1922 3584 2338 3584 \nQ 2397 3584 2469 3576 \nQ 2541 3569 2628 3553 \nL 2631 2963 \nz\n\" transform=\"scale(0.015625)\"/>\n      <path id=\"DejaVuSans-74\" d=\"M 1172 4494 \nL 1172 3500 \nL 2356 3500 \nL 2356 3053 \nL 1172 3053 \nL 1172 1153 \nQ 1172 725 1289 603 \nQ 1406 481 1766 481 \nL 2356 481 \nL 2356 0 \nL 1766 0 \nQ 1100 0 847 248 \nQ 594 497 594 1153 \nL 594 3053 \nL 172 3053 \nL 172 3500 \nL 594 3500 \nL 594 4494 \nL 1172 4494 \nz\n\" transform=\"scale(0.015625)\"/>\n      <path id=\"DejaVuSans-20\" transform=\"scale(0.015625)\"/>\n      <path id=\"DejaVuSans-41\" d=\"M 2188 4044 \nL 1331 1722 \nL 3047 1722 \nL 2188 4044 \nz\nM 1831 4666 \nL 2547 4666 \nL 4325 0 \nL 3669 0 \nL 3244 1197 \nL 1141 1197 \nL 716 0 \nL 50 0 \nL 1831 4666 \nz\n\" transform=\"scale(0.015625)\"/>\n      <path id=\"DejaVuSans-3a\" d=\"M 750 794 \nL 1409 794 \nL 1409 0 \nL 750 0 \nL 750 794 \nz\nM 750 3309 \nL 1409 3309 \nL 1409 2516 \nL 750 2516 \nL 750 3309 \nz\n\" transform=\"scale(0.015625)\"/>\n      <path id=\"DejaVuSans-42\" d=\"M 1259 2228 \nL 1259 519 \nL 2272 519 \nQ 2781 519 3026 730 \nQ 3272 941 3272 1375 \nQ 3272 1813 3026 2020 \nQ 2781 2228 2272 2228 \nL 1259 2228 \nz\nM 1259 4147 \nL 1259 2741 \nL 2194 2741 \nQ 2656 2741 2882 2914 \nQ 3109 3088 3109 3444 \nQ 3109 3797 2882 3972 \nQ 2656 4147 2194 4147 \nL 1259 4147 \nz\nM 628 4666 \nL 2241 4666 \nQ 2963 4666 3353 4366 \nQ 3744 4066 3744 3513 \nQ 3744 3084 3544 2831 \nQ 3344 2578 2956 2516 \nQ 3422 2416 3680 2098 \nQ 3938 1781 3938 1306 \nQ 3938 681 3513 340 \nQ 3088 0 2303 0 \nL 628 0 \nL 628 4666 \nz\n\" transform=\"scale(0.015625)\"/>\n      <path id=\"DejaVuSans-6f\" d=\"M 1959 3097 \nQ 1497 3097 1228 2736 \nQ 959 2375 959 1747 \nQ 959 1119 1226 758 \nQ 1494 397 1959 397 \nQ 2419 397 2687 759 \nQ 2956 1122 2956 1747 \nQ 2956 2369 2687 2733 \nQ 2419 3097 1959 3097 \nz\nM 1959 3584 \nQ 2709 3584 3137 3096 \nQ 3566 2609 3566 1747 \nQ 3566 888 3137 398 \nQ 2709 -91 1959 -91 \nQ 1206 -91 779 398 \nQ 353 888 353 1747 \nQ 353 2609 779 3096 \nQ 1206 3584 1959 3584 \nz\n\" transform=\"scale(0.015625)\"/>\n      <path id=\"DejaVuSans-78\" d=\"M 3513 3500 \nL 2247 1797 \nL 3578 0 \nL 2900 0 \nL 1881 1375 \nL 863 0 \nL 184 0 \nL 1544 1831 \nL 300 3500 \nL 978 3500 \nL 1906 2253 \nL 2834 3500 \nL 3513 3500 \nz\n\" transform=\"scale(0.015625)\"/>\n      <path id=\"DejaVuSans-70\" d=\"M 1159 525 \nL 1159 -1331 \nL 581 -1331 \nL 581 3500 \nL 1159 3500 \nL 1159 2969 \nQ 1341 3281 1617 3432 \nQ 1894 3584 2278 3584 \nQ 2916 3584 3314 3078 \nQ 3713 2572 3713 1747 \nQ 3713 922 3314 415 \nQ 2916 -91 2278 -91 \nQ 1894 -91 1617 61 \nQ 1341 213 1159 525 \nz\nM 3116 1747 \nQ 3116 2381 2855 2742 \nQ 2594 3103 2138 3103 \nQ 1681 3103 1420 2742 \nQ 1159 2381 1159 1747 \nQ 1159 1113 1420 752 \nQ 1681 391 2138 391 \nQ 2594 391 2855 752 \nQ 3116 1113 3116 1747 \nz\n\" transform=\"scale(0.015625)\"/>\n      <path id=\"DejaVuSans-6c\" d=\"M 603 4863 \nL 1178 4863 \nL 1178 0 \nL 603 0 \nL 603 4863 \nz\n\" transform=\"scale(0.015625)\"/>\n      <path id=\"DejaVuSans-66\" d=\"M 2375 4863 \nL 2375 4384 \nL 1825 4384 \nQ 1516 4384 1395 4259 \nQ 1275 4134 1275 3809 \nL 1275 3500 \nL 2222 3500 \nL 2222 3053 \nL 1275 3053 \nL 1275 0 \nL 697 0 \nL 697 3053 \nL 147 3053 \nL 147 3500 \nL 697 3500 \nL 697 3744 \nQ 697 4328 969 4595 \nQ 1241 4863 1831 4863 \nL 2375 4863 \nz\n\" transform=\"scale(0.015625)\"/>\n      <path id=\"DejaVuSans-69\" d=\"M 603 3500 \nL 1178 3500 \nL 1178 0 \nL 603 0 \nL 603 3500 \nz\nM 603 4863 \nL 1178 4863 \nL 1178 4134 \nL 603 4134 \nL 603 4863 \nz\n\" transform=\"scale(0.015625)\"/>\n      <path id=\"DejaVuSans-62\" d=\"M 3116 1747 \nQ 3116 2381 2855 2742 \nQ 2594 3103 2138 3103 \nQ 1681 3103 1420 2742 \nQ 1159 2381 1159 1747 \nQ 1159 1113 1420 752 \nQ 1681 391 2138 391 \nQ 2594 391 2855 752 \nQ 3116 1113 3116 1747 \nz\nM 1159 2969 \nQ 1341 3281 1617 3432 \nQ 1894 3584 2278 3584 \nQ 2916 3584 3314 3078 \nQ 3713 2572 3713 1747 \nQ 3713 922 3314 415 \nQ 2916 -91 2278 -91 \nQ 1894 -91 1617 61 \nQ 1341 213 1159 525 \nL 1159 0 \nL 581 0 \nL 581 4863 \nL 1159 4863 \nL 1159 2969 \nz\n\" transform=\"scale(0.015625)\"/>\n      <path id=\"DejaVuSans-75\" d=\"M 544 1381 \nL 544 3500 \nL 1119 3500 \nL 1119 1403 \nQ 1119 906 1312 657 \nQ 1506 409 1894 409 \nQ 2359 409 2629 706 \nQ 2900 1003 2900 1516 \nL 2900 3500 \nL 3475 3500 \nL 3475 0 \nL 2900 0 \nL 2900 538 \nQ 2691 219 2414 64 \nQ 2138 -91 1772 -91 \nQ 1169 -91 856 284 \nQ 544 659 544 1381 \nz\nM 1991 3584 \nL 1991 3584 \nz\n\" transform=\"scale(0.015625)\"/>\n      <path id=\"DejaVuSans-65\" d=\"M 3597 1894 \nL 3597 1613 \nL 953 1613 \nQ 991 1019 1311 708 \nQ 1631 397 2203 397 \nQ 2534 397 2845 478 \nQ 3156 559 3463 722 \nL 3463 178 \nQ 3153 47 2828 -22 \nQ 2503 -91 2169 -91 \nQ 1331 -91 842 396 \nQ 353 884 353 1716 \nQ 353 2575 817 3079 \nQ 1281 3584 2069 3584 \nQ 2775 3584 3186 3129 \nQ 3597 2675 3597 1894 \nz\nM 3022 2063 \nQ 3016 2534 2758 2815 \nQ 2500 3097 2075 3097 \nQ 1594 3097 1305 2825 \nQ 1016 2553 972 2059 \nL 3022 2063 \nz\n\" transform=\"scale(0.015625)\"/>\n     </defs>\n     <use xlink:href=\"#DejaVuSans-50\"/>\n     <use xlink:href=\"#DejaVuSans-61\" x=\"55.802734\"/>\n     <use xlink:href=\"#DejaVuSans-72\" x=\"117.082031\"/>\n     <use xlink:href=\"#DejaVuSans-74\" x=\"158.195312\"/>\n     <use xlink:href=\"#DejaVuSans-20\" x=\"197.404297\"/>\n     <use xlink:href=\"#DejaVuSans-41\" x=\"229.191406\"/>\n     <use xlink:href=\"#DejaVuSans-3a\" x=\"295.849609\"/>\n     <use xlink:href=\"#DejaVuSans-20\" x=\"329.541016\"/>\n     <use xlink:href=\"#DejaVuSans-42\" x=\"361.328125\"/>\n     <use xlink:href=\"#DejaVuSans-6f\" x=\"429.931641\"/>\n     <use xlink:href=\"#DejaVuSans-78\" x=\"487.988281\"/>\n     <use xlink:href=\"#DejaVuSans-70\" x=\"547.167969\"/>\n     <use xlink:href=\"#DejaVuSans-6c\" x=\"610.644531\"/>\n     <use xlink:href=\"#DejaVuSans-6f\" x=\"638.427734\"/>\n     <use xlink:href=\"#DejaVuSans-74\" x=\"699.609375\"/>\n     <use xlink:href=\"#DejaVuSans-20\" x=\"738.818359\"/>\n     <use xlink:href=\"#DejaVuSans-6f\" x=\"770.605469\"/>\n     <use xlink:href=\"#DejaVuSans-66\" x=\"831.787109\"/>\n     <use xlink:href=\"#DejaVuSans-20\" x=\"866.992188\"/>\n     <use xlink:href=\"#DejaVuSans-52\" x=\"898.779297\"/>\n     <use xlink:href=\"#DejaVuSans-48\" x=\"968.261719\"/>\n     <use xlink:href=\"#DejaVuSans-20\" x=\"1043.457031\"/>\n     <use xlink:href=\"#DejaVuSans-61\" x=\"1075.244141\"/>\n     <use xlink:href=\"#DejaVuSans-74\" x=\"1136.523438\"/>\n     <use xlink:href=\"#DejaVuSans-74\" x=\"1175.732422\"/>\n     <use xlink:href=\"#DejaVuSans-72\" x=\"1214.941406\"/>\n     <use xlink:href=\"#DejaVuSans-69\" x=\"1256.054688\"/>\n     <use xlink:href=\"#DejaVuSans-62\" x=\"1283.837891\"/>\n     <use xlink:href=\"#DejaVuSans-75\" x=\"1347.314453\"/>\n     <use xlink:href=\"#DejaVuSans-74\" x=\"1410.693359\"/>\n     <use xlink:href=\"#DejaVuSans-65\" x=\"1449.902344\"/>\n    </g>\n   </g>\n  </g>\n </g>\n <defs>\n  <clipPath id=\"p7e6c532e68\">\n   <rect x=\"46.965625\" y=\"22.318125\" width=\"334.8\" height=\"217.44\"/>\n  </clipPath>\n </defs>\n</svg>\n",
      "text/plain": [
       "<Figure size 432x288 with 1 Axes>"
      ]
     },
     "metadata": {
      "needs_background": "light"
     },
     "output_type": "display_data"
    }
   ],
   "source": [
    "# boxplot for RH attribute\n",
    "plt.boxplot(df['RH'])\n",
    "plt.title(\"Part A: Boxplot of RH attribute\")\n",
    "plt.ylabel(\"RH\")\n",
    "plt.show()"
   ]
  },
  {
   "cell_type": "markdown",
   "metadata": {},
   "source": [
    "### Part B: Boxplot for `RH` attribute for various values of month"
   ]
  },
  {
   "cell_type": "code",
   "execution_count": 8,
   "metadata": {},
   "outputs": [
    {
     "data": {
      "image/png": "[encoded data removed]",
      "image/svg+xml": "<?xml version=\"1.0\" encoding=\"utf-8\" standalone=\"no\"?>\n<!DOCTYPE svg PUBLIC \"-//W3C//DTD SVG 1.1//EN\"\n  \"http://www.w3.org/Graphics/SVG/1.1/DTD/svg11.dtd\">\n<svg xmlns:xlink=\"http://www.w3.org/1999/xlink\" width=\"388.965625pt\" height=\"277.314375pt\" viewBox=\"0 0 388.965625 277.314375\" xmlns=\"http://www.w3.org/2000/svg\" version=\"1.1\">\n <metadata>\n  <rdf:RDF xmlns:dc=\"http://purl.org/dc/elements/1.1/\" xmlns:cc=\"http://creativecommons.org/ns#\" xmlns:rdf=\"http://www.w3.org/1999/02/22-rdf-syntax-ns#\">\n   <cc:Work>\n    <dc:type rdf:resource=\"http://purl.org/dc/dcmitype/StillImage\"/>\n    <dc:date>2022-10-06T15:03:36.232076</dc:date>\n    <dc:format>image/svg+xml</dc:format>\n    <dc:creator>\n     <cc:Agent>\n      <dc:title>Matplotlib v3.5.0, https://matplotlib.org/</dc:title>\n     </cc:Agent>\n    </dc:creator>\n   </cc:Work>\n  </rdf:RDF>\n </metadata>\n <defs>\n  <style type=\"text/css\">*{stroke-linejoin: round; stroke-linecap: butt}</style>\n </defs>\n <g id=\"figure_1\">\n  <g id=\"patch_1\">\n   <path d=\"M -0 277.314375 \nL 388.965625 277.314375 \nL 388.965625 0 \nL -0 0 \nL -0 277.314375 \nz\n\" style=\"fill: none\"/>\n  </g>\n  <g id=\"axes_1\">\n   <g id=\"patch_2\">\n    <path d=\"M 46.965625 239.758125 \nL 381.765625 239.758125 \nL 381.765625 22.318125 \nL 46.965625 22.318125 \nz\n\" style=\"fill: #ffffff\"/>\n   </g>\n   <g id=\"matplotlib.axis_1\">\n    <g id=\"xtick_1\">\n     <g id=\"line2d_1\">\n      <defs>\n       <path id=\"maa75f974aa\" d=\"M 0 0 \nL 0 3.5 \n\" style=\"stroke: #000000; stroke-width: 0.8\"/>\n      </defs>\n      <g>\n       <use xlink:href=\"#maa75f974aa\" x=\"60.915625\" y=\"239.758125\" style=\"stroke: #000000; stroke-width: 0.8\"/>\n      </g>\n     </g>\n     <g id=\"text_1\">\n      <!-- Jan -->\n      <g transform=\"translate(53.207812 254.356562)scale(0.1 -0.1)\">\n       <defs>\n        <path id=\"DejaVuSans-4a\" d=\"M 628 4666 \nL 1259 4666 \nL 1259 325 \nQ 1259 -519 939 -900 \nQ 619 -1281 -91 -1281 \nL -331 -1281 \nL -331 -750 \nL -134 -750 \nQ 284 -750 456 -515 \nQ 628 -281 628 325 \nL 628 4666 \nz\n\" transform=\"scale(0.015625)\"/>\n        <path id=\"DejaVuSans-61\" d=\"M 2194 1759 \nQ 1497 1759 1228 1600 \nQ 959 1441 959 1056 \nQ 959 750 1161 570 \nQ 1363 391 1709 391 \nQ 2188 391 2477 730 \nQ 2766 1069 2766 1631 \nL 2766 1759 \nL 2194 1759 \nz\nM 3341 1997 \nL 3341 0 \nL 2766 0 \nL 2766 531 \nQ 2569 213 2275 61 \nQ 1981 -91 1556 -91 \nQ 1019 -91 701 211 \nQ 384 513 384 1019 \nQ 384 1609 779 1909 \nQ 1175 2209 1959 2209 \nL 2766 2209 \nL 2766 2266 \nQ 2766 2663 2505 2880 \nQ 2244 3097 1772 3097 \nQ 1472 3097 1187 3025 \nQ 903 2953 641 2809 \nL 641 3341 \nQ 956 3463 1253 3523 \nQ 1550 3584 1831 3584 \nQ 2591 3584 2966 3190 \nQ 3341 2797 3341 1997 \nz\n\" transform=\"scale(0.015625)\"/>\n        <path id=\"DejaVuSans-6e\" d=\"M 3513 2113 \nL 3513 0 \nL 2938 0 \nL 2938 2094 \nQ 2938 2591 2744 2837 \nQ 2550 3084 2163 3084 \nQ 1697 3084 1428 2787 \nQ 1159 2491 1159 1978 \nL 1159 0 \nL 581 0 \nL 581 3500 \nL 1159 3500 \nL 1159 2956 \nQ 1366 3272 1645 3428 \nQ 1925 3584 2291 3584 \nQ 2894 3584 3203 3211 \nQ 3513 2838 3513 2113 \nz\n\" transform=\"scale(0.015625)\"/>\n       </defs>\n       <use xlink:href=\"#DejaVuSans-4a\"/>\n       <use xlink:href=\"#DejaVuSans-61\" x=\"29.492188\"/>\n       <use xlink:href=\"#DejaVuSans-6e\" x=\"90.771484\"/>\n      </g>\n     </g>\n    </g>\n    <g id=\"xtick_2\">\n     <g id=\"line2d_2\">\n      <g>\n       <use xlink:href=\"#maa75f974aa\" x=\"88.815625\" y=\"239.758125\" style=\"stroke: #000000; stroke-width: 0.8\"/>\n      </g>\n     </g>\n     <g id=\"text_2\">\n      <!-- Feb -->\n      <g transform=\"translate(79.964062 254.356562)scale(0.1 -0.1)\">\n       <defs>\n        <path id=\"DejaVuSans-46\" d=\"M 628 4666 \nL 3309 4666 \nL 3309 4134 \nL 1259 4134 \nL 1259 2759 \nL 3109 2759 \nL 3109 2228 \nL 1259 2228 \nL 1259 0 \nL 628 0 \nL 628 4666 \nz\n\" transform=\"scale(0.015625)\"/>\n        <path id=\"DejaVuSans-65\" d=\"M 3597 1894 \nL 3597 1613 \nL 953 1613 \nQ 991 1019 1311 708 \nQ 1631 397 2203 397 \nQ 2534 397 2845 478 \nQ 3156 559 3463 722 \nL 3463 178 \nQ 3153 47 2828 -22 \nQ 2503 -91 2169 -91 \nQ 1331 -91 842 396 \nQ 353 884 353 1716 \nQ 353 2575 817 3079 \nQ 1281 3584 2069 3584 \nQ 2775 3584 3186 3129 \nQ 3597 2675 3597 1894 \nz\nM 3022 2063 \nQ 3016 2534 2758 2815 \nQ 2500 3097 2075 3097 \nQ 1594 3097 1305 2825 \nQ 1016 2553 972 2059 \nL 3022 2063 \nz\n\" transform=\"scale(0.015625)\"/>\n        <path id=\"DejaVuSans-62\" d=\"M 3116 1747 \nQ 3116 2381 2855 2742 \nQ 2594 3103 2138 3103 \nQ 1681 3103 1420 2742 \nQ 1159 2381 1159 1747 \nQ 1159 1113 1420 752 \nQ 1681 391 2138 391 \nQ 2594 391 2855 752 \nQ 3116 1113 3116 1747 \nz\nM 1159 2969 \nQ 1341 3281 1617 3432 \nQ 1894 3584 2278 3584 \nQ 2916 3584 3314 3078 \nQ 3713 2572 3713 1747 \nQ 3713 922 3314 415 \nQ 2916 -91 2278 -91 \nQ 1894 -91 1617 61 \nQ 1341 213 1159 525 \nL 1159 0 \nL 581 0 \nL 581 4863 \nL 1159 4863 \nL 1159 2969 \nz\n\" transform=\"scale(0.015625)\"/>\n       </defs>\n       <use xlink:href=\"#DejaVuSans-46\"/>\n       <use xlink:href=\"#DejaVuSans-65\" x=\"52.019531\"/>\n       <use xlink:href=\"#DejaVuSans-62\" x=\"113.542969\"/>\n      </g>\n     </g>\n    </g>\n    <g id=\"xtick_3\">\n     <g id=\"line2d_3\">\n      <g>\n       <use xlink:href=\"#maa75f974aa\" x=\"116.715625\" y=\"239.758125\" style=\"stroke: #000000; stroke-width: 0.8\"/>\n      </g>\n     </g>\n     <g id=\"text_3\">\n      <!-- Mar -->\n      <g transform=\"translate(107.282031 254.356562)scale(0.1 -0.1)\">\n       <defs>\n        <path id=\"DejaVuSans-4d\" d=\"M 628 4666 \nL 1569 4666 \nL 2759 1491 \nL 3956 4666 \nL 4897 4666 \nL 4897 0 \nL 4281 0 \nL 4281 4097 \nL 3078 897 \nL 2444 897 \nL 1241 4097 \nL 1241 0 \nL 628 0 \nL 628 4666 \nz\n\" transform=\"scale(0.015625)\"/>\n        <path id=\"DejaVuSans-72\" d=\"M 2631 2963 \nQ 2534 3019 2420 3045 \nQ 2306 3072 2169 3072 \nQ 1681 3072 1420 2755 \nQ 1159 2438 1159 1844 \nL 1159 0 \nL 581 0 \nL 581 3500 \nL 1159 3500 \nL 1159 2956 \nQ 1341 3275 1631 3429 \nQ 1922 3584 2338 3584 \nQ 2397 3584 2469 3576 \nQ 2541 3569 2628 3553 \nL 2631 2963 \nz\n\" transform=\"scale(0.015625)\"/>\n       </defs>\n       <use xlink:href=\"#DejaVuSans-4d\"/>\n       <use xlink:href=\"#DejaVuSans-61\" x=\"86.279297\"/>\n       <use xlink:href=\"#DejaVuSans-72\" x=\"147.558594\"/>\n      </g>\n     </g>\n    </g>\n    <g id=\"xtick_4\">\n     <g id=\"line2d_4\">\n      <g>\n       <use xlink:href=\"#maa75f974aa\" x=\"144.615625\" y=\"239.758125\" style=\"stroke: #000000; stroke-width: 0.8\"/>\n      </g>\n     </g>\n     <g id=\"text_4\">\n      <!-- Apr -->\n      <g transform=\"translate(135.965625 254.356562)scale(0.1 -0.1)\">\n       <defs>\n        <path id=\"DejaVuSans-41\" d=\"M 2188 4044 \nL 1331 1722 \nL 3047 1722 \nL 2188 4044 \nz\nM 1831 4666 \nL 2547 4666 \nL 4325 0 \nL 3669 0 \nL 3244 1197 \nL 1141 1197 \nL 716 0 \nL 50 0 \nL 1831 4666 \nz\n\" transform=\"scale(0.015625)\"/>\n        <path id=\"DejaVuSans-70\" d=\"M 1159 525 \nL 1159 -1331 \nL 581 -1331 \nL 581 3500 \nL 1159 3500 \nL 1159 2969 \nQ 1341 3281 1617 3432 \nQ 1894 3584 2278 3584 \nQ 2916 3584 3314 3078 \nQ 3713 2572 3713 1747 \nQ 3713 922 3314 415 \nQ 2916 -91 2278 -91 \nQ 1894 -91 1617 61 \nQ 1341 213 1159 525 \nz\nM 3116 1747 \nQ 3116 2381 2855 2742 \nQ 2594 3103 2138 3103 \nQ 1681 3103 1420 2742 \nQ 1159 2381 1159 1747 \nQ 1159 1113 1420 752 \nQ 1681 391 2138 391 \nQ 2594 391 2855 752 \nQ 3116 1113 3116 1747 \nz\n\" transform=\"scale(0.015625)\"/>\n       </defs>\n       <use xlink:href=\"#DejaVuSans-41\"/>\n       <use xlink:href=\"#DejaVuSans-70\" x=\"68.408203\"/>\n       <use xlink:href=\"#DejaVuSans-72\" x=\"131.884766\"/>\n      </g>\n     </g>\n    </g>\n    <g id=\"xtick_5\">\n     <g id=\"line2d_5\">\n      <g>\n       <use xlink:href=\"#maa75f974aa\" x=\"172.515625\" y=\"239.758125\" style=\"stroke: #000000; stroke-width: 0.8\"/>\n      </g>\n     </g>\n     <g id=\"text_5\">\n      <!-- May -->\n      <g transform=\"translate(162.178125 254.356562)scale(0.1 -0.1)\">\n       <defs>\n        <path id=\"DejaVuSans-79\" d=\"M 2059 -325 \nQ 1816 -950 1584 -1140 \nQ 1353 -1331 966 -1331 \nL 506 -1331 \nL 506 -850 \nL 844 -850 \nQ 1081 -850 1212 -737 \nQ 1344 -625 1503 -206 \nL 1606 56 \nL 191 3500 \nL 800 3500 \nL 1894 763 \nL 2988 3500 \nL 3597 3500 \nL 2059 -325 \nz\n\" transform=\"scale(0.015625)\"/>\n       </defs>\n       <use xlink:href=\"#DejaVuSans-4d\"/>\n       <use xlink:href=\"#DejaVuSans-61\" x=\"86.279297\"/>\n       <use xlink:href=\"#DejaVuSans-79\" x=\"147.558594\"/>\n      </g>\n     </g>\n    </g>\n    <g id=\"xtick_6\">\n     <g id=\"line2d_6\">\n      <g>\n       <use xlink:href=\"#maa75f974aa\" x=\"200.415625\" y=\"239.758125\" style=\"stroke: #000000; stroke-width: 0.8\"/>\n      </g>\n     </g>\n     <g id=\"text_6\">\n      <!-- Jun -->\n      <g transform=\"translate(192.603125 254.356562)scale(0.1 -0.1)\">\n       <defs>\n        <path id=\"DejaVuSans-75\" d=\"M 544 1381 \nL 544 3500 \nL 1119 3500 \nL 1119 1403 \nQ 1119 906 1312 657 \nQ 1506 409 1894 409 \nQ 2359 409 2629 706 \nQ 2900 1003 2900 1516 \nL 2900 3500 \nL 3475 3500 \nL 3475 0 \nL 2900 0 \nL 2900 538 \nQ 2691 219 2414 64 \nQ 2138 -91 1772 -91 \nQ 1169 -91 856 284 \nQ 544 659 544 1381 \nz\nM 1991 3584 \nL 1991 3584 \nz\n\" transform=\"scale(0.015625)\"/>\n       </defs>\n       <use xlink:href=\"#DejaVuSans-4a\"/>\n       <use xlink:href=\"#DejaVuSans-75\" x=\"29.492188\"/>\n       <use xlink:href=\"#DejaVuSans-6e\" x=\"92.871094\"/>\n      </g>\n     </g>\n    </g>\n    <g id=\"xtick_7\">\n     <g id=\"line2d_7\">\n      <g>\n       <use xlink:href=\"#maa75f974aa\" x=\"228.315625\" y=\"239.758125\" style=\"stroke: #000000; stroke-width: 0.8\"/>\n      </g>\n     </g>\n     <g id=\"text_7\">\n      <!-- Jul -->\n      <g transform=\"translate(222.282812 254.356562)scale(0.1 -0.1)\">\n       <defs>\n        <path id=\"DejaVuSans-6c\" d=\"M 603 4863 \nL 1178 4863 \nL 1178 0 \nL 603 0 \nL 603 4863 \nz\n\" transform=\"scale(0.015625)\"/>\n       </defs>\n       <use xlink:href=\"#DejaVuSans-4a\"/>\n       <use xlink:href=\"#DejaVuSans-75\" x=\"29.492188\"/>\n       <use xlink:href=\"#DejaVuSans-6c\" x=\"92.871094\"/>\n      </g>\n     </g>\n    </g>\n    <g id=\"xtick_8\">\n     <g id=\"line2d_8\">\n      <g>\n       <use xlink:href=\"#maa75f974aa\" x=\"256.215625\" y=\"239.758125\" style=\"stroke: #000000; stroke-width: 0.8\"/>\n      </g>\n     </g>\n     <g id=\"text_8\">\n      <!-- Aug -->\n      <g transform=\"translate(246.452344 254.356562)scale(0.1 -0.1)\">\n       <defs>\n        <path id=\"DejaVuSans-67\" d=\"M 2906 1791 \nQ 2906 2416 2648 2759 \nQ 2391 3103 1925 3103 \nQ 1463 3103 1205 2759 \nQ 947 2416 947 1791 \nQ 947 1169 1205 825 \nQ 1463 481 1925 481 \nQ 2391 481 2648 825 \nQ 2906 1169 2906 1791 \nz\nM 3481 434 \nQ 3481 -459 3084 -895 \nQ 2688 -1331 1869 -1331 \nQ 1566 -1331 1297 -1286 \nQ 1028 -1241 775 -1147 \nL 775 -588 \nQ 1028 -725 1275 -790 \nQ 1522 -856 1778 -856 \nQ 2344 -856 2625 -561 \nQ 2906 -266 2906 331 \nL 2906 616 \nQ 2728 306 2450 153 \nQ 2172 0 1784 0 \nQ 1141 0 747 490 \nQ 353 981 353 1791 \nQ 353 2603 747 3093 \nQ 1141 3584 1784 3584 \nQ 2172 3584 2450 3431 \nQ 2728 3278 2906 2969 \nL 2906 3500 \nL 3481 3500 \nL 3481 434 \nz\n\" transform=\"scale(0.015625)\"/>\n       </defs>\n       <use xlink:href=\"#DejaVuSans-41\"/>\n       <use xlink:href=\"#DejaVuSans-75\" x=\"68.408203\"/>\n       <use xlink:href=\"#DejaVuSans-67\" x=\"131.787109\"/>\n      </g>\n     </g>\n    </g>\n    <g id=\"xtick_9\">\n     <g id=\"line2d_9\">\n      <g>\n       <use xlink:href=\"#maa75f974aa\" x=\"284.115625\" y=\"239.758125\" style=\"stroke: #000000; stroke-width: 0.8\"/>\n      </g>\n     </g>\n     <g id=\"text_9\">\n      <!-- Sep -->\n      <g transform=\"translate(274.690625 254.356562)scale(0.1 -0.1)\">\n       <defs>\n        <path id=\"DejaVuSans-53\" d=\"M 3425 4513 \nL 3425 3897 \nQ 3066 4069 2747 4153 \nQ 2428 4238 2131 4238 \nQ 1616 4238 1336 4038 \nQ 1056 3838 1056 3469 \nQ 1056 3159 1242 3001 \nQ 1428 2844 1947 2747 \nL 2328 2669 \nQ 3034 2534 3370 2195 \nQ 3706 1856 3706 1288 \nQ 3706 609 3251 259 \nQ 2797 -91 1919 -91 \nQ 1588 -91 1214 -16 \nQ 841 59 441 206 \nL 441 856 \nQ 825 641 1194 531 \nQ 1563 422 1919 422 \nQ 2459 422 2753 634 \nQ 3047 847 3047 1241 \nQ 3047 1584 2836 1778 \nQ 2625 1972 2144 2069 \nL 1759 2144 \nQ 1053 2284 737 2584 \nQ 422 2884 422 3419 \nQ 422 4038 858 4394 \nQ 1294 4750 2059 4750 \nQ 2388 4750 2728 4690 \nQ 3069 4631 3425 4513 \nz\n\" transform=\"scale(0.015625)\"/>\n       </defs>\n       <use xlink:href=\"#DejaVuSans-53\"/>\n       <use xlink:href=\"#DejaVuSans-65\" x=\"63.476562\"/>\n       <use xlink:href=\"#DejaVuSans-70\" x=\"125\"/>\n      </g>\n     </g>\n    </g>\n    <g id=\"xtick_10\">\n     <g id=\"line2d_10\">\n      <g>\n       <use xlink:href=\"#maa75f974aa\" x=\"312.015625\" y=\"239.758125\" style=\"stroke: #000000; stroke-width: 0.8\"/>\n      </g>\n     </g>\n     <g id=\"text_10\">\n      <!-- Oct -->\n      <g transform=\"translate(303.370313 254.356562)scale(0.1 -0.1)\">\n       <defs>\n        <path id=\"DejaVuSans-4f\" d=\"M 2522 4238 \nQ 1834 4238 1429 3725 \nQ 1025 3213 1025 2328 \nQ 1025 1447 1429 934 \nQ 1834 422 2522 422 \nQ 3209 422 3611 934 \nQ 4013 1447 4013 2328 \nQ 4013 3213 3611 3725 \nQ 3209 4238 2522 4238 \nz\nM 2522 4750 \nQ 3503 4750 4090 4092 \nQ 4678 3434 4678 2328 \nQ 4678 1225 4090 567 \nQ 3503 -91 2522 -91 \nQ 1538 -91 948 565 \nQ 359 1222 359 2328 \nQ 359 3434 948 4092 \nQ 1538 4750 2522 4750 \nz\n\" transform=\"scale(0.015625)\"/>\n        <path id=\"DejaVuSans-63\" d=\"M 3122 3366 \nL 3122 2828 \nQ 2878 2963 2633 3030 \nQ 2388 3097 2138 3097 \nQ 1578 3097 1268 2742 \nQ 959 2388 959 1747 \nQ 959 1106 1268 751 \nQ 1578 397 2138 397 \nQ 2388 397 2633 464 \nQ 2878 531 3122 666 \nL 3122 134 \nQ 2881 22 2623 -34 \nQ 2366 -91 2075 -91 \nQ 1284 -91 818 406 \nQ 353 903 353 1747 \nQ 353 2603 823 3093 \nQ 1294 3584 2113 3584 \nQ 2378 3584 2631 3529 \nQ 2884 3475 3122 3366 \nz\n\" transform=\"scale(0.015625)\"/>\n        <path id=\"DejaVuSans-74\" d=\"M 1172 4494 \nL 1172 3500 \nL 2356 3500 \nL 2356 3053 \nL 1172 3053 \nL 1172 1153 \nQ 1172 725 1289 603 \nQ 1406 481 1766 481 \nL 2356 481 \nL 2356 0 \nL 1766 0 \nQ 1100 0 847 248 \nQ 594 497 594 1153 \nL 594 3053 \nL 172 3053 \nL 172 3500 \nL 594 3500 \nL 594 4494 \nL 1172 4494 \nz\n\" transform=\"scale(0.015625)\"/>\n       </defs>\n       <use xlink:href=\"#DejaVuSans-4f\"/>\n       <use xlink:href=\"#DejaVuSans-63\" x=\"78.710938\"/>\n       <use xlink:href=\"#DejaVuSans-74\" x=\"133.691406\"/>\n      </g>\n     </g>\n    </g>\n    <g id=\"xtick_11\">\n     <g id=\"line2d_11\">\n      <g>\n       <use xlink:href=\"#maa75f974aa\" x=\"339.915625\" y=\"239.758125\" style=\"stroke: #000000; stroke-width: 0.8\"/>\n      </g>\n     </g>\n     <g id=\"text_11\">\n      <!-- Nov -->\n      <g transform=\"translate(330.15625 254.356562)scale(0.1 -0.1)\">\n       <defs>\n        <path id=\"DejaVuSans-4e\" d=\"M 628 4666 \nL 1478 4666 \nL 3547 763 \nL 3547 4666 \nL 4159 4666 \nL 4159 0 \nL 3309 0 \nL 1241 3903 \nL 1241 0 \nL 628 0 \nL 628 4666 \nz\n\" transform=\"scale(0.015625)\"/>\n        <path id=\"DejaVuSans-6f\" d=\"M 1959 3097 \nQ 1497 3097 1228 2736 \nQ 959 2375 959 1747 \nQ 959 1119 1226 758 \nQ 1494 397 1959 397 \nQ 2419 397 2687 759 \nQ 2956 1122 2956 1747 \nQ 2956 2369 2687 2733 \nQ 2419 3097 1959 3097 \nz\nM 1959 3584 \nQ 2709 3584 3137 3096 \nQ 3566 2609 3566 1747 \nQ 3566 888 3137 398 \nQ 2709 -91 1959 -91 \nQ 1206 -91 779 398 \nQ 353 888 353 1747 \nQ 353 2609 779 3096 \nQ 1206 3584 1959 3584 \nz\n\" transform=\"scale(0.015625)\"/>\n        <path id=\"DejaVuSans-76\" d=\"M 191 3500 \nL 800 3500 \nL 1894 563 \nL 2988 3500 \nL 3597 3500 \nL 2284 0 \nL 1503 0 \nL 191 3500 \nz\n\" transform=\"scale(0.015625)\"/>\n       </defs>\n       <use xlink:href=\"#DejaVuSans-4e\"/>\n       <use xlink:href=\"#DejaVuSans-6f\" x=\"74.804688\"/>\n       <use xlink:href=\"#DejaVuSans-76\" x=\"135.986328\"/>\n      </g>\n     </g>\n    </g>\n    <g id=\"xtick_12\">\n     <g id=\"line2d_12\">\n      <g>\n       <use xlink:href=\"#maa75f974aa\" x=\"367.815625\" y=\"239.758125\" style=\"stroke: #000000; stroke-width: 0.8\"/>\n      </g>\n     </g>\n     <g id=\"text_12\">\n      <!-- Dec -->\n      <g transform=\"translate(358.139844 254.356562)scale(0.1 -0.1)\">\n       <defs>\n        <path id=\"DejaVuSans-44\" d=\"M 1259 4147 \nL 1259 519 \nL 2022 519 \nQ 2988 519 3436 956 \nQ 3884 1394 3884 2338 \nQ 3884 3275 3436 3711 \nQ 2988 4147 2022 4147 \nL 1259 4147 \nz\nM 628 4666 \nL 1925 4666 \nQ 3281 4666 3915 4102 \nQ 4550 3538 4550 2338 \nQ 4550 1131 3912 565 \nQ 3275 0 1925 0 \nL 628 0 \nL 628 4666 \nz\n\" transform=\"scale(0.015625)\"/>\n       </defs>\n       <use xlink:href=\"#DejaVuSans-44\"/>\n       <use xlink:href=\"#DejaVuSans-65\" x=\"77.001953\"/>\n       <use xlink:href=\"#DejaVuSans-63\" x=\"138.525391\"/>\n      </g>\n     </g>\n    </g>\n    <g id=\"text_13\">\n     <!-- Month -->\n     <g transform=\"translate(198.694531 268.034687)scale(0.1 -0.1)\">\n      <defs>\n       <path id=\"DejaVuSans-68\" d=\"M 3513 2113 \nL 3513 0 \nL 2938 0 \nL 2938 2094 \nQ 2938 2591 2744 2837 \nQ 2550 3084 2163 3084 \nQ 1697 3084 1428 2787 \nQ 1159 2491 1159 1978 \nL 1159 0 \nL 581 0 \nL 581 4863 \nL 1159 4863 \nL 1159 2956 \nQ 1366 3272 1645 3428 \nQ 1925 3584 2291 3584 \nQ 2894 3584 3203 3211 \nQ 3513 2838 3513 2113 \nz\n\" transform=\"scale(0.015625)\"/>\n      </defs>\n      <use xlink:href=\"#DejaVuSans-4d\"/>\n      <use xlink:href=\"#DejaVuSans-6f\" x=\"86.279297\"/>\n      <use xlink:href=\"#DejaVuSans-6e\" x=\"147.460938\"/>\n      <use xlink:href=\"#DejaVuSans-74\" x=\"210.839844\"/>\n      <use xlink:href=\"#DejaVuSans-68\" x=\"250.048828\"/>\n     </g>\n    </g>\n   </g>\n   <g id=\"matplotlib.axis_2\">\n    <g id=\"ytick_1\">\n     <g id=\"line2d_13\">\n      <defs>\n       <path id=\"mee6584c6e3\" d=\"M 0 0 \nL -3.5 0 \n\" style=\"stroke: #000000; stroke-width: 0.8\"/>\n      </defs>\n      <g>\n       <use xlink:href=\"#mee6584c6e3\" x=\"46.965625\" y=\"218.246681\" style=\"stroke: #000000; stroke-width: 0.8\"/>\n      </g>\n     </g>\n     <g id=\"text_14\">\n      <!-- 20 -->\n      <g transform=\"translate(27.240625 222.0459)scale(0.1 -0.1)\">\n       <defs>\n        <path id=\"DejaVuSans-32\" d=\"M 1228 531 \nL 3431 531 \nL 3431 0 \nL 469 0 \nL 469 531 \nQ 828 903 1448 1529 \nQ 2069 2156 2228 2338 \nQ 2531 2678 2651 2914 \nQ 2772 3150 2772 3378 \nQ 2772 3750 2511 3984 \nQ 2250 4219 1831 4219 \nQ 1534 4219 1204 4116 \nQ 875 4013 500 3803 \nL 500 4441 \nQ 881 4594 1212 4672 \nQ 1544 4750 1819 4750 \nQ 2544 4750 2975 4387 \nQ 3406 4025 3406 3419 \nQ 3406 3131 3298 2873 \nQ 3191 2616 2906 2266 \nQ 2828 2175 2409 1742 \nQ 1991 1309 1228 531 \nz\n\" transform=\"scale(0.015625)\"/>\n        <path id=\"DejaVuSans-30\" d=\"M 2034 4250 \nQ 1547 4250 1301 3770 \nQ 1056 3291 1056 2328 \nQ 1056 1369 1301 889 \nQ 1547 409 2034 409 \nQ 2525 409 2770 889 \nQ 3016 1369 3016 2328 \nQ 3016 3291 2770 3770 \nQ 2525 4250 2034 4250 \nz\nM 2034 4750 \nQ 2819 4750 3233 4129 \nQ 3647 3509 3647 2328 \nQ 3647 1150 3233 529 \nQ 2819 -91 2034 -91 \nQ 1250 -91 836 529 \nQ 422 1150 422 2328 \nQ 422 3509 836 4129 \nQ 1250 4750 2034 4750 \nz\n\" transform=\"scale(0.015625)\"/>\n       </defs>\n       <use xlink:href=\"#DejaVuSans-32\"/>\n       <use xlink:href=\"#DejaVuSans-30\" x=\"63.623047\"/>\n      </g>\n     </g>\n    </g>\n    <g id=\"ytick_2\">\n     <g id=\"line2d_14\">\n      <g>\n       <use xlink:href=\"#mee6584c6e3\" x=\"46.965625\" y=\"171.735451\" style=\"stroke: #000000; stroke-width: 0.8\"/>\n      </g>\n     </g>\n     <g id=\"text_15\">\n      <!-- 40 -->\n      <g transform=\"translate(27.240625 175.53467)scale(0.1 -0.1)\">\n       <defs>\n        <path id=\"DejaVuSans-34\" d=\"M 2419 4116 \nL 825 1625 \nL 2419 1625 \nL 2419 4116 \nz\nM 2253 4666 \nL 3047 4666 \nL 3047 1625 \nL 3713 1625 \nL 3713 1100 \nL 3047 1100 \nL 3047 0 \nL 2419 0 \nL 2419 1100 \nL 313 1100 \nL 313 1709 \nL 2253 4666 \nz\n\" transform=\"scale(0.015625)\"/>\n       </defs>\n       <use xlink:href=\"#DejaVuSans-34\"/>\n       <use xlink:href=\"#DejaVuSans-30\" x=\"63.623047\"/>\n      </g>\n     </g>\n    </g>\n    <g id=\"ytick_3\">\n     <g id=\"line2d_15\">\n      <g>\n       <use xlink:href=\"#mee6584c6e3\" x=\"46.965625\" y=\"125.224221\" style=\"stroke: #000000; stroke-width: 0.8\"/>\n      </g>\n     </g>\n     <g id=\"text_16\">\n      <!-- 60 -->\n      <g transform=\"translate(27.240625 129.02344)scale(0.1 -0.1)\">\n       <defs>\n        <path id=\"DejaVuSans-36\" d=\"M 2113 2584 \nQ 1688 2584 1439 2293 \nQ 1191 2003 1191 1497 \nQ 1191 994 1439 701 \nQ 1688 409 2113 409 \nQ 2538 409 2786 701 \nQ 3034 994 3034 1497 \nQ 3034 2003 2786 2293 \nQ 2538 2584 2113 2584 \nz\nM 3366 4563 \nL 3366 3988 \nQ 3128 4100 2886 4159 \nQ 2644 4219 2406 4219 \nQ 1781 4219 1451 3797 \nQ 1122 3375 1075 2522 \nQ 1259 2794 1537 2939 \nQ 1816 3084 2150 3084 \nQ 2853 3084 3261 2657 \nQ 3669 2231 3669 1497 \nQ 3669 778 3244 343 \nQ 2819 -91 2113 -91 \nQ 1303 -91 875 529 \nQ 447 1150 447 2328 \nQ 447 3434 972 4092 \nQ 1497 4750 2381 4750 \nQ 2619 4750 2861 4703 \nQ 3103 4656 3366 4563 \nz\n\" transform=\"scale(0.015625)\"/>\n       </defs>\n       <use xlink:href=\"#DejaVuSans-36\"/>\n       <use xlink:href=\"#DejaVuSans-30\" x=\"63.623047\"/>\n      </g>\n     </g>\n    </g>\n    <g id=\"ytick_4\">\n     <g id=\"line2d_16\">\n      <g>\n       <use xlink:href=\"#mee6584c6e3\" x=\"46.965625\" y=\"78.712991\" style=\"stroke: #000000; stroke-width: 0.8\"/>\n      </g>\n     </g>\n     <g id=\"text_17\">\n      <!-- 80 -->\n      <g transform=\"translate(27.240625 82.51221)scale(0.1 -0.1)\">\n       <defs>\n        <path id=\"DejaVuSans-38\" d=\"M 2034 2216 \nQ 1584 2216 1326 1975 \nQ 1069 1734 1069 1313 \nQ 1069 891 1326 650 \nQ 1584 409 2034 409 \nQ 2484 409 2743 651 \nQ 3003 894 3003 1313 \nQ 3003 1734 2745 1975 \nQ 2488 2216 2034 2216 \nz\nM 1403 2484 \nQ 997 2584 770 2862 \nQ 544 3141 544 3541 \nQ 544 4100 942 4425 \nQ 1341 4750 2034 4750 \nQ 2731 4750 3128 4425 \nQ 3525 4100 3525 3541 \nQ 3525 3141 3298 2862 \nQ 3072 2584 2669 2484 \nQ 3125 2378 3379 2068 \nQ 3634 1759 3634 1313 \nQ 3634 634 3220 271 \nQ 2806 -91 2034 -91 \nQ 1263 -91 848 271 \nQ 434 634 434 1313 \nQ 434 1759 690 2068 \nQ 947 2378 1403 2484 \nz\nM 1172 3481 \nQ 1172 3119 1398 2916 \nQ 1625 2713 2034 2713 \nQ 2441 2713 2670 2916 \nQ 2900 3119 2900 3481 \nQ 2900 3844 2670 4047 \nQ 2441 4250 2034 4250 \nQ 1625 4250 1398 4047 \nQ 1172 3844 1172 3481 \nz\n\" transform=\"scale(0.015625)\"/>\n       </defs>\n       <use xlink:href=\"#DejaVuSans-38\"/>\n       <use xlink:href=\"#DejaVuSans-30\" x=\"63.623047\"/>\n      </g>\n     </g>\n    </g>\n    <g id=\"ytick_5\">\n     <g id=\"line2d_17\">\n      <g>\n       <use xlink:href=\"#mee6584c6e3\" x=\"46.965625\" y=\"32.201761\" style=\"stroke: #000000; stroke-width: 0.8\"/>\n      </g>\n     </g>\n     <g id=\"text_18\">\n      <!-- 100 -->\n      <g transform=\"translate(20.878125 36.00098)scale(0.1 -0.1)\">\n       <defs>\n        <path id=\"DejaVuSans-31\" d=\"M 794 531 \nL 1825 531 \nL 1825 4091 \nL 703 3866 \nL 703 4441 \nL 1819 4666 \nL 2450 4666 \nL 2450 531 \nL 3481 531 \nL 3481 0 \nL 794 0 \nL 794 531 \nz\n\" transform=\"scale(0.015625)\"/>\n       </defs>\n       <use xlink:href=\"#DejaVuSans-31\"/>\n       <use xlink:href=\"#DejaVuSans-30\" x=\"63.623047\"/>\n       <use xlink:href=\"#DejaVuSans-30\" x=\"127.246094\"/>\n      </g>\n     </g>\n    </g>\n    <g id=\"text_19\">\n     <!-- RH -->\n     <g transform=\"translate(14.798438 138.2725)rotate(-90)scale(0.1 -0.1)\">\n      <defs>\n       <path id=\"DejaVuSans-52\" d=\"M 2841 2188 \nQ 3044 2119 3236 1894 \nQ 3428 1669 3622 1275 \nL 4263 0 \nL 3584 0 \nL 2988 1197 \nQ 2756 1666 2539 1819 \nQ 2322 1972 1947 1972 \nL 1259 1972 \nL 1259 0 \nL 628 0 \nL 628 4666 \nL 2053 4666 \nQ 2853 4666 3247 4331 \nQ 3641 3997 3641 3322 \nQ 3641 2881 3436 2590 \nQ 3231 2300 2841 2188 \nz\nM 1259 4147 \nL 1259 2491 \nL 2053 2491 \nQ 2509 2491 2742 2702 \nQ 2975 2913 2975 3322 \nQ 2975 3731 2742 3939 \nQ 2509 4147 2053 4147 \nL 1259 4147 \nz\n\" transform=\"scale(0.015625)\"/>\n       <path id=\"DejaVuSans-48\" d=\"M 628 4666 \nL 1259 4666 \nL 1259 2753 \nL 3553 2753 \nL 3553 4666 \nL 4184 4666 \nL 4184 0 \nL 3553 0 \nL 3553 2222 \nL 1259 2222 \nL 1259 0 \nL 628 0 \nL 628 4666 \nz\n\" transform=\"scale(0.015625)\"/>\n      </defs>\n      <use xlink:href=\"#DejaVuSans-52\"/>\n      <use xlink:href=\"#DejaVuSans-48\" x=\"69.482422\"/>\n     </g>\n    </g>\n   </g>\n   <g id=\"line2d_18\">\n    <path d=\"M 53.940625 70.573526 \nL 67.890625 70.573526 \nL 67.890625 44.99235 \nL 53.940625 44.99235 \nL 53.940625 70.573526 \n\" clip-path=\"url(#p9e0ec49144)\" style=\"fill: none; stroke: #000000; stroke-linecap: square\"/>\n   </g>\n   <g id=\"line2d_19\">\n    <path d=\"M 60.915625 70.573526 \nL 60.915625 83.364114 \n\" clip-path=\"url(#p9e0ec49144)\" style=\"fill: none; stroke: #000000; stroke-linecap: square\"/>\n   </g>\n   <g id=\"line2d_20\">\n    <path d=\"M 60.915625 44.99235 \nL 60.915625 32.201761 \n\" clip-path=\"url(#p9e0ec49144)\" style=\"fill: none; stroke: #000000; stroke-linecap: square\"/>\n   </g>\n   <g id=\"line2d_21\">\n    <path d=\"M 57.428125 83.364114 \nL 64.403125 83.364114 \n\" clip-path=\"url(#p9e0ec49144)\" style=\"fill: none; stroke: #000000; stroke-linecap: square\"/>\n   </g>\n   <g id=\"line2d_22\">\n    <path d=\"M 57.428125 32.201761 \nL 64.403125 32.201761 \n\" clip-path=\"url(#p9e0ec49144)\" style=\"fill: none; stroke: #000000; stroke-linecap: square\"/>\n   </g>\n   <g id=\"line2d_23\"/>\n   <g id=\"line2d_24\">\n    <path d=\"M 81.840625 159.526253 \nL 95.790625 159.526253 \nL 95.790625 106.619729 \nL 81.840625 106.619729 \nL 81.840625 159.526253 \n\" clip-path=\"url(#p9e0ec49144)\" style=\"fill: none; stroke: #000000; stroke-linecap: square\"/>\n   </g>\n   <g id=\"line2d_25\">\n    <path d=\"M 88.815625 159.526253 \nL 88.815625 183.363259 \n\" clip-path=\"url(#p9e0ec49144)\" style=\"fill: none; stroke: #000000; stroke-linecap: square\"/>\n   </g>\n   <g id=\"line2d_26\">\n    <path d=\"M 88.815625 106.619729 \nL 88.815625 74.061868 \n\" clip-path=\"url(#p9e0ec49144)\" style=\"fill: none; stroke: #000000; stroke-linecap: square\"/>\n   </g>\n   <g id=\"line2d_27\">\n    <path d=\"M 85.328125 183.363259 \nL 92.303125 183.363259 \n\" clip-path=\"url(#p9e0ec49144)\" style=\"fill: none; stroke: #000000; stroke-linecap: square\"/>\n   </g>\n   <g id=\"line2d_28\">\n    <path d=\"M 85.328125 74.061868 \nL 92.303125 74.061868 \n\" clip-path=\"url(#p9e0ec49144)\" style=\"fill: none; stroke: #000000; stroke-linecap: square\"/>\n   </g>\n   <g id=\"line2d_29\"/>\n   <g id=\"line2d_30\">\n    <path d=\"M 109.740625 201.967751 \nL 123.690625 201.967751 \nL 123.690625 157.782082 \nL 109.740625 157.782082 \nL 109.740625 201.967751 \n\" clip-path=\"url(#p9e0ec49144)\" style=\"fill: none; stroke: #000000; stroke-linecap: square\"/>\n   </g>\n   <g id=\"line2d_31\">\n    <path d=\"M 116.715625 201.967751 \nL 116.715625 222.897804 \n\" clip-path=\"url(#p9e0ec49144)\" style=\"fill: none; stroke: #000000; stroke-linecap: square\"/>\n   </g>\n   <g id=\"line2d_32\">\n    <path d=\"M 116.715625 157.782082 \nL 116.715625 97.317483 \n\" clip-path=\"url(#p9e0ec49144)\" style=\"fill: none; stroke: #000000; stroke-linecap: square\"/>\n   </g>\n   <g id=\"line2d_33\">\n    <path d=\"M 113.228125 222.897804 \nL 120.203125 222.897804 \n\" clip-path=\"url(#p9e0ec49144)\" style=\"fill: none; stroke: #000000; stroke-linecap: square\"/>\n   </g>\n   <g id=\"line2d_34\">\n    <path d=\"M 113.228125 97.317483 \nL 120.203125 97.317483 \n\" clip-path=\"url(#p9e0ec49144)\" style=\"fill: none; stroke: #000000; stroke-linecap: square\"/>\n   </g>\n   <g id=\"line2d_35\">\n    <defs>\n     <path id=\"m8ee8f430f7\" d=\"M 0 3 \nC 0.795609 3 1.55874 2.683901 2.12132 2.12132 \nC 2.683901 1.55874 3 0.795609 3 0 \nC 3 -0.795609 2.683901 -1.55874 2.12132 -2.12132 \nC 1.55874 -2.683901 0.795609 -3 0 -3 \nC -0.795609 -3 -1.55874 -2.683901 -2.12132 -2.12132 \nC -2.683901 -1.55874 -3 -0.795609 -3 0 \nC -3 0.795609 -2.683901 1.55874 -2.12132 2.12132 \nC -1.55874 2.683901 -0.795609 3 0 3 \nz\n\" style=\"stroke: #000000\"/>\n    </defs>\n    <g clip-path=\"url(#p9e0ec49144)\">\n     <use xlink:href=\"#m8ee8f430f7\" x=\"116.715625\" y=\"39.178446\" style=\"fill-opacity: 0; stroke: #000000\"/>\n     <use xlink:href=\"#m8ee8f430f7\" x=\"116.715625\" y=\"34.527323\" style=\"fill-opacity: 0; stroke: #000000\"/>\n    </g>\n   </g>\n   <g id=\"line2d_36\">\n    <path d=\"M 137.640625 188.014382 \nL 151.590625 188.014382 \nL 151.590625 139.17759 \nL 137.640625 139.17759 \nL 137.640625 188.014382 \n\" clip-path=\"url(#p9e0ec49144)\" style=\"fill: none; stroke: #000000; stroke-linecap: square\"/>\n   </g>\n   <g id=\"line2d_37\">\n    <path d=\"M 144.615625 188.014382 \nL 144.615625 218.246681 \n\" clip-path=\"url(#p9e0ec49144)\" style=\"fill: none; stroke: #000000; stroke-linecap: square\"/>\n   </g>\n   <g id=\"line2d_38\">\n    <path d=\"M 144.615625 139.17759 \nL 144.615625 90.340799 \n\" clip-path=\"url(#p9e0ec49144)\" style=\"fill: none; stroke: #000000; stroke-linecap: square\"/>\n   </g>\n   <g id=\"line2d_39\">\n    <path d=\"M 141.128125 218.246681 \nL 148.103125 218.246681 \n\" clip-path=\"url(#p9e0ec49144)\" style=\"fill: none; stroke: #000000; stroke-linecap: square\"/>\n   </g>\n   <g id=\"line2d_40\">\n    <path d=\"M 141.128125 90.340799 \nL 148.103125 90.340799 \n\" clip-path=\"url(#p9e0ec49144)\" style=\"fill: none; stroke: #000000; stroke-linecap: square\"/>\n   </g>\n   <g id=\"line2d_41\"/>\n   <g id=\"line2d_42\">\n    <path d=\"M 165.540625 140.340371 \nL 179.490625 140.340371 \nL 179.490625 77.550211 \nL 165.540625 77.550211 \nL 165.540625 140.340371 \n\" clip-path=\"url(#p9e0ec49144)\" style=\"fill: none; stroke: #000000; stroke-linecap: square\"/>\n   </g>\n   <g id=\"line2d_43\">\n    <path d=\"M 172.515625 140.340371 \nL 172.515625 171.735451 \n\" clip-path=\"url(#p9e0ec49144)\" style=\"fill: none; stroke: #000000; stroke-linecap: square\"/>\n   </g>\n   <g id=\"line2d_44\">\n    <path d=\"M 172.515625 77.550211 \nL 172.515625 46.15513 \n\" clip-path=\"url(#p9e0ec49144)\" style=\"fill: none; stroke: #000000; stroke-linecap: square\"/>\n   </g>\n   <g id=\"line2d_45\">\n    <path d=\"M 169.028125 171.735451 \nL 176.003125 171.735451 \n\" clip-path=\"url(#p9e0ec49144)\" style=\"fill: none; stroke: #000000; stroke-linecap: square\"/>\n   </g>\n   <g id=\"line2d_46\">\n    <path d=\"M 169.028125 46.15513 \nL 176.003125 46.15513 \n\" clip-path=\"url(#p9e0ec49144)\" style=\"fill: none; stroke: #000000; stroke-linecap: square\"/>\n   </g>\n   <g id=\"line2d_47\"/>\n   <g id=\"line2d_48\">\n    <path d=\"M 193.440625 176.386574 \nL 207.390625 176.386574 \nL 207.390625 157.782082 \nL 193.440625 157.782082 \nL 193.440625 176.386574 \n\" clip-path=\"url(#p9e0ec49144)\" style=\"fill: none; stroke: #000000; stroke-linecap: square\"/>\n   </g>\n   <g id=\"line2d_49\">\n    <path d=\"M 200.415625 176.386574 \nL 200.415625 185.68882 \n\" clip-path=\"url(#p9e0ec49144)\" style=\"fill: none; stroke: #000000; stroke-linecap: square\"/>\n   </g>\n   <g id=\"line2d_50\">\n    <path d=\"M 200.415625 157.782082 \nL 200.415625 148.479836 \n\" clip-path=\"url(#p9e0ec49144)\" style=\"fill: none; stroke: #000000; stroke-linecap: square\"/>\n   </g>\n   <g id=\"line2d_51\">\n    <path d=\"M 196.928125 185.68882 \nL 203.903125 185.68882 \n\" clip-path=\"url(#p9e0ec49144)\" style=\"fill: none; stroke: #000000; stroke-linecap: square\"/>\n   </g>\n   <g id=\"line2d_52\">\n    <path d=\"M 196.928125 148.479836 \nL 203.903125 148.479836 \n\" clip-path=\"url(#p9e0ec49144)\" style=\"fill: none; stroke: #000000; stroke-linecap: square\"/>\n   </g>\n   <g id=\"line2d_53\">\n    <g clip-path=\"url(#p9e0ec49144)\">\n     <use xlink:href=\"#m8ee8f430f7\" x=\"200.415625\" y=\"206.618874\" style=\"fill-opacity: 0; stroke: #000000\"/>\n     <use xlink:href=\"#m8ee8f430f7\" x=\"200.415625\" y=\"55.457376\" style=\"fill-opacity: 0; stroke: #000000\"/>\n     <use xlink:href=\"#m8ee8f430f7\" x=\"200.415625\" y=\"81.038553\" style=\"fill-opacity: 0; stroke: #000000\"/>\n    </g>\n   </g>\n   <g id=\"line2d_54\">\n    <path d=\"M 221.340625 193.246895 \nL 235.290625 193.246895 \nL 235.290625 141.503152 \nL 221.340625 141.503152 \nL 221.340625 193.246895 \n\" clip-path=\"url(#p9e0ec49144)\" style=\"fill: none; stroke: #000000; stroke-linecap: square\"/>\n   </g>\n   <g id=\"line2d_55\">\n    <path d=\"M 228.315625 193.246895 \nL 228.315625 213.595558 \n\" clip-path=\"url(#p9e0ec49144)\" style=\"fill: none; stroke: #000000; stroke-linecap: square\"/>\n   </g>\n   <g id=\"line2d_56\">\n    <path d=\"M 228.315625 141.503152 \nL 228.315625 74.061868 \n\" clip-path=\"url(#p9e0ec49144)\" style=\"fill: none; stroke: #000000; stroke-linecap: square\"/>\n   </g>\n   <g id=\"line2d_57\">\n    <path d=\"M 224.828125 213.595558 \nL 231.803125 213.595558 \n\" clip-path=\"url(#p9e0ec49144)\" style=\"fill: none; stroke: #000000; stroke-linecap: square\"/>\n   </g>\n   <g id=\"line2d_58\">\n    <path d=\"M 224.828125 74.061868 \nL 231.803125 74.061868 \n\" clip-path=\"url(#p9e0ec49144)\" style=\"fill: none; stroke: #000000; stroke-linecap: square\"/>\n   </g>\n   <g id=\"line2d_59\">\n    <g clip-path=\"url(#p9e0ec49144)\">\n     <use xlink:href=\"#m8ee8f430f7\" x=\"228.315625\" y=\"55.457376\" style=\"fill-opacity: 0; stroke: #000000\"/>\n    </g>\n   </g>\n   <g id=\"line2d_60\">\n    <path d=\"M 249.240625 186.270211 \nL 263.190625 186.270211 \nL 263.190625 134.526467 \nL 249.240625 134.526467 \nL 249.240625 186.270211 \n\" clip-path=\"url(#p9e0ec49144)\" style=\"fill: none; stroke: #000000; stroke-linecap: square\"/>\n   </g>\n   <g id=\"line2d_61\">\n    <path d=\"M 256.215625 186.270211 \nL 256.215625 220.572243 \n\" clip-path=\"url(#p9e0ec49144)\" style=\"fill: none; stroke: #000000; stroke-linecap: square\"/>\n   </g>\n   <g id=\"line2d_62\">\n    <path d=\"M 256.215625 134.526467 \nL 256.215625 60.108499 \n\" clip-path=\"url(#p9e0ec49144)\" style=\"fill: none; stroke: #000000; stroke-linecap: square\"/>\n   </g>\n   <g id=\"line2d_63\">\n    <path d=\"M 252.728125 220.572243 \nL 259.703125 220.572243 \n\" clip-path=\"url(#p9e0ec49144)\" style=\"fill: none; stroke: #000000; stroke-linecap: square\"/>\n   </g>\n   <g id=\"line2d_64\">\n    <path d=\"M 252.728125 60.108499 \nL 259.703125 60.108499 \n\" clip-path=\"url(#p9e0ec49144)\" style=\"fill: none; stroke: #000000; stroke-linecap: square\"/>\n   </g>\n   <g id=\"line2d_65\">\n    <g clip-path=\"url(#p9e0ec49144)\">\n     <use xlink:href=\"#m8ee8f430f7\" x=\"256.215625\" y=\"41.504007\" style=\"fill-opacity: 0; stroke: #000000\"/>\n    </g>\n   </g>\n   <g id=\"line2d_66\">\n    <path d=\"M 277.140625 188.595772 \nL 291.090625 188.595772 \nL 291.090625 146.154275 \nL 277.140625 146.154275 \nL 277.140625 188.595772 \n\" clip-path=\"url(#p9e0ec49144)\" style=\"fill: none; stroke: #000000; stroke-linecap: square\"/>\n   </g>\n   <g id=\"line2d_67\">\n    <path d=\"M 284.115625 188.595772 \nL 284.115625 229.874489 \n\" clip-path=\"url(#p9e0ec49144)\" style=\"fill: none; stroke: #000000; stroke-linecap: square\"/>\n   </g>\n   <g id=\"line2d_68\">\n    <path d=\"M 284.115625 146.154275 \nL 284.115625 83.364114 \n\" clip-path=\"url(#p9e0ec49144)\" style=\"fill: none; stroke: #000000; stroke-linecap: square\"/>\n   </g>\n   <g id=\"line2d_69\">\n    <path d=\"M 280.628125 229.874489 \nL 287.603125 229.874489 \n\" clip-path=\"url(#p9e0ec49144)\" style=\"fill: none; stroke: #000000; stroke-linecap: square\"/>\n   </g>\n   <g id=\"line2d_70\">\n    <path d=\"M 280.628125 83.364114 \nL 287.603125 83.364114 \n\" clip-path=\"url(#p9e0ec49144)\" style=\"fill: none; stroke: #000000; stroke-linecap: square\"/>\n   </g>\n   <g id=\"line2d_71\">\n    <g clip-path=\"url(#p9e0ec49144)\">\n     <use xlink:href=\"#m8ee8f430f7\" x=\"284.115625\" y=\"64.759622\" style=\"fill-opacity: 0; stroke: #000000\"/>\n    </g>\n   </g>\n   <g id=\"line2d_72\">\n    <path d=\"M 305.040625 196.153847 \nL 318.990625 196.153847 \nL 318.990625 158.944863 \nL 305.040625 158.944863 \nL 305.040625 196.153847 \n\" clip-path=\"url(#p9e0ec49144)\" style=\"fill: none; stroke: #000000; stroke-linecap: square\"/>\n   </g>\n   <g id=\"line2d_73\">\n    <path d=\"M 312.015625 196.153847 \nL 312.015625 208.944435 \n\" clip-path=\"url(#p9e0ec49144)\" style=\"fill: none; stroke: #000000; stroke-linecap: square\"/>\n   </g>\n   <g id=\"line2d_74\">\n    <path d=\"M 312.015625 158.944863 \nL 312.015625 125.224221 \n\" clip-path=\"url(#p9e0ec49144)\" style=\"fill: none; stroke: #000000; stroke-linecap: square\"/>\n   </g>\n   <g id=\"line2d_75\">\n    <path d=\"M 308.528125 208.944435 \nL 315.503125 208.944435 \n\" clip-path=\"url(#p9e0ec49144)\" style=\"fill: none; stroke: #000000; stroke-linecap: square\"/>\n   </g>\n   <g id=\"line2d_76\">\n    <path d=\"M 308.528125 125.224221 \nL 315.503125 125.224221 \n\" clip-path=\"url(#p9e0ec49144)\" style=\"fill: none; stroke: #000000; stroke-linecap: square\"/>\n   </g>\n   <g id=\"line2d_77\"/>\n   <g id=\"line2d_78\">\n    <path d=\"M 332.940625 192.665505 \nL 346.890625 192.665505 \nL 346.890625 192.665505 \nL 332.940625 192.665505 \nL 332.940625 192.665505 \n\" clip-path=\"url(#p9e0ec49144)\" style=\"fill: none; stroke: #000000; stroke-linecap: square\"/>\n   </g>\n   <g id=\"line2d_79\">\n    <path d=\"M 339.915625 192.665505 \nL 339.915625 192.665505 \n\" clip-path=\"url(#p9e0ec49144)\" style=\"fill: none; stroke: #000000; stroke-linecap: square\"/>\n   </g>\n   <g id=\"line2d_80\">\n    <path d=\"M 339.915625 192.665505 \nL 339.915625 192.665505 \n\" clip-path=\"url(#p9e0ec49144)\" style=\"fill: none; stroke: #000000; stroke-linecap: square\"/>\n   </g>\n   <g id=\"line2d_81\">\n    <path d=\"M 336.428125 192.665505 \nL 343.403125 192.665505 \n\" clip-path=\"url(#p9e0ec49144)\" style=\"fill: none; stroke: #000000; stroke-linecap: square\"/>\n   </g>\n   <g id=\"line2d_82\">\n    <path d=\"M 336.428125 192.665505 \nL 343.403125 192.665505 \n\" clip-path=\"url(#p9e0ec49144)\" style=\"fill: none; stroke: #000000; stroke-linecap: square\"/>\n   </g>\n   <g id=\"line2d_83\"/>\n   <g id=\"line2d_84\">\n    <path d=\"M 360.840625 215.92112 \nL 374.790625 215.92112 \nL 374.790625 127.549783 \nL 360.840625 127.549783 \nL 360.840625 215.92112 \n\" clip-path=\"url(#p9e0ec49144)\" style=\"fill: none; stroke: #000000; stroke-linecap: square\"/>\n   </g>\n   <g id=\"line2d_85\">\n    <path d=\"M 367.815625 215.92112 \nL 367.815625 215.92112 \n\" clip-path=\"url(#p9e0ec49144)\" style=\"fill: none; stroke: #000000; stroke-linecap: square\"/>\n   </g>\n   <g id=\"line2d_86\">\n    <path d=\"M 367.815625 127.549783 \nL 367.815625 122.89866 \n\" clip-path=\"url(#p9e0ec49144)\" style=\"fill: none; stroke: #000000; stroke-linecap: square\"/>\n   </g>\n   <g id=\"line2d_87\">\n    <path d=\"M 364.328125 215.92112 \nL 371.303125 215.92112 \n\" clip-path=\"url(#p9e0ec49144)\" style=\"fill: none; stroke: #000000; stroke-linecap: square\"/>\n   </g>\n   <g id=\"line2d_88\">\n    <path d=\"M 364.328125 122.89866 \nL 371.303125 122.89866 \n\" clip-path=\"url(#p9e0ec49144)\" style=\"fill: none; stroke: #000000; stroke-linecap: square\"/>\n   </g>\n   <g id=\"line2d_89\"/>\n   <g id=\"line2d_90\">\n    <path d=\"M 53.940625 57.782938 \nL 67.890625 57.782938 \n\" clip-path=\"url(#p9e0ec49144)\" style=\"fill: none; stroke: #ff7f0e; stroke-linecap: square\"/>\n   </g>\n   <g id=\"line2d_91\">\n    <path d=\"M 81.840625 143.828713 \nL 95.790625 143.828713 \n\" clip-path=\"url(#p9e0ec49144)\" style=\"fill: none; stroke: #ff7f0e; stroke-linecap: square\"/>\n   </g>\n   <g id=\"line2d_92\">\n    <path d=\"M 109.740625 179.874916 \nL 123.690625 179.874916 \n\" clip-path=\"url(#p9e0ec49144)\" style=\"fill: none; stroke: #ff7f0e; stroke-linecap: square\"/>\n   </g>\n   <g id=\"line2d_93\">\n    <path d=\"M 137.640625 146.154275 \nL 151.590625 146.154275 \n\" clip-path=\"url(#p9e0ec49144)\" style=\"fill: none; stroke: #ff7f0e; stroke-linecap: square\"/>\n   </g>\n   <g id=\"line2d_94\">\n    <path d=\"M 165.540625 108.945291 \nL 179.490625 108.945291 \n\" clip-path=\"url(#p9e0ec49144)\" style=\"fill: none; stroke: #ff7f0e; stroke-linecap: square\"/>\n   </g>\n   <g id=\"line2d_95\">\n    <path d=\"M 193.440625 171.735451 \nL 207.390625 171.735451 \n\" clip-path=\"url(#p9e0ec49144)\" style=\"fill: none; stroke: #ff7f0e; stroke-linecap: square\"/>\n   </g>\n   <g id=\"line2d_96\">\n    <path d=\"M 221.340625 171.735451 \nL 235.290625 171.735451 \n\" clip-path=\"url(#p9e0ec49144)\" style=\"fill: none; stroke: #ff7f0e; stroke-linecap: square\"/>\n   </g>\n   <g id=\"line2d_97\">\n    <path d=\"M 249.240625 167.084328 \nL 263.190625 167.084328 \n\" clip-path=\"url(#p9e0ec49144)\" style=\"fill: none; stroke: #ff7f0e; stroke-linecap: square\"/>\n   </g>\n   <g id=\"line2d_98\">\n    <path d=\"M 277.140625 171.735451 \nL 291.090625 171.735451 \n\" clip-path=\"url(#p9e0ec49144)\" style=\"fill: none; stroke: #ff7f0e; stroke-linecap: square\"/>\n   </g>\n   <g id=\"line2d_99\">\n    <path d=\"M 305.040625 183.363259 \nL 318.990625 183.363259 \n\" clip-path=\"url(#p9e0ec49144)\" style=\"fill: none; stroke: #ff7f0e; stroke-linecap: square\"/>\n   </g>\n   <g id=\"line2d_100\">\n    <path d=\"M 332.940625 192.665505 \nL 346.890625 192.665505 \n\" clip-path=\"url(#p9e0ec49144)\" style=\"fill: none; stroke: #ff7f0e; stroke-linecap: square\"/>\n   </g>\n   <g id=\"line2d_101\">\n    <path d=\"M 360.840625 208.944435 \nL 374.790625 208.944435 \n\" clip-path=\"url(#p9e0ec49144)\" style=\"fill: none; stroke: #ff7f0e; stroke-linecap: square\"/>\n   </g>\n   <g id=\"patch_3\">\n    <path d=\"M 46.965625 239.758125 \nL 46.965625 22.318125 \n\" style=\"fill: none; stroke: #000000; stroke-width: 0.8; stroke-linejoin: miter; stroke-linecap: square\"/>\n   </g>\n   <g id=\"patch_4\">\n    <path d=\"M 381.765625 239.758125 \nL 381.765625 22.318125 \n\" style=\"fill: none; stroke: #000000; stroke-width: 0.8; stroke-linejoin: miter; stroke-linecap: square\"/>\n   </g>\n   <g id=\"patch_5\">\n    <path d=\"M 46.965625 239.758125 \nL 381.765625 239.758125 \n\" style=\"fill: none; stroke: #000000; stroke-width: 0.8; stroke-linejoin: miter; stroke-linecap: square\"/>\n   </g>\n   <g id=\"patch_6\">\n    <path d=\"M 46.965625 22.318125 \nL 381.765625 22.318125 \n\" style=\"fill: none; stroke: #000000; stroke-width: 0.8; stroke-linejoin: miter; stroke-linecap: square\"/>\n   </g>\n   <g id=\"text_20\">\n    <!-- Part B: Boxplot of RH attribute by month -->\n    <g transform=\"translate(92.917188 16.318125)scale(0.12 -0.12)\">\n     <defs>\n      <path id=\"DejaVuSans-50\" d=\"M 1259 4147 \nL 1259 2394 \nL 2053 2394 \nQ 2494 2394 2734 2622 \nQ 2975 2850 2975 3272 \nQ 2975 3691 2734 3919 \nQ 2494 4147 2053 4147 \nL 1259 4147 \nz\nM 628 4666 \nL 2053 4666 \nQ 2838 4666 3239 4311 \nQ 3641 3956 3641 3272 \nQ 3641 2581 3239 2228 \nQ 2838 1875 2053 1875 \nL 1259 1875 \nL 1259 0 \nL 628 0 \nL 628 4666 \nz\n\" transform=\"scale(0.015625)\"/>\n      <path id=\"DejaVuSans-20\" transform=\"scale(0.015625)\"/>\n      <path id=\"DejaVuSans-42\" d=\"M 1259 2228 \nL 1259 519 \nL 2272 519 \nQ 2781 519 3026 730 \nQ 3272 941 3272 1375 \nQ 3272 1813 3026 2020 \nQ 2781 2228 2272 2228 \nL 1259 2228 \nz\nM 1259 4147 \nL 1259 2741 \nL 2194 2741 \nQ 2656 2741 2882 2914 \nQ 3109 3088 3109 3444 \nQ 3109 3797 2882 3972 \nQ 2656 4147 2194 4147 \nL 1259 4147 \nz\nM 628 4666 \nL 2241 4666 \nQ 2963 4666 3353 4366 \nQ 3744 4066 3744 3513 \nQ 3744 3084 3544 2831 \nQ 3344 2578 2956 2516 \nQ 3422 2416 3680 2098 \nQ 3938 1781 3938 1306 \nQ 3938 681 3513 340 \nQ 3088 0 2303 0 \nL 628 0 \nL 628 4666 \nz\n\" transform=\"scale(0.015625)\"/>\n      <path id=\"DejaVuSans-3a\" d=\"M 750 794 \nL 1409 794 \nL 1409 0 \nL 750 0 \nL 750 794 \nz\nM 750 3309 \nL 1409 3309 \nL 1409 2516 \nL 750 2516 \nL 750 3309 \nz\n\" transform=\"scale(0.015625)\"/>\n      <path id=\"DejaVuSans-78\" d=\"M 3513 3500 \nL 2247 1797 \nL 3578 0 \nL 2900 0 \nL 1881 1375 \nL 863 0 \nL 184 0 \nL 1544 1831 \nL 300 3500 \nL 978 3500 \nL 1906 2253 \nL 2834 3500 \nL 3513 3500 \nz\n\" transform=\"scale(0.015625)\"/>\n      <path id=\"DejaVuSans-66\" d=\"M 2375 4863 \nL 2375 4384 \nL 1825 4384 \nQ 1516 4384 1395 4259 \nQ 1275 4134 1275 3809 \nL 1275 3500 \nL 2222 3500 \nL 2222 3053 \nL 1275 3053 \nL 1275 0 \nL 697 0 \nL 697 3053 \nL 147 3053 \nL 147 3500 \nL 697 3500 \nL 697 3744 \nQ 697 4328 969 4595 \nQ 1241 4863 1831 4863 \nL 2375 4863 \nz\n\" transform=\"scale(0.015625)\"/>\n      <path id=\"DejaVuSans-69\" d=\"M 603 3500 \nL 1178 3500 \nL 1178 0 \nL 603 0 \nL 603 3500 \nz\nM 603 4863 \nL 1178 4863 \nL 1178 4134 \nL 603 4134 \nL 603 4863 \nz\n\" transform=\"scale(0.015625)\"/>\n      <path id=\"DejaVuSans-6d\" d=\"M 3328 2828 \nQ 3544 3216 3844 3400 \nQ 4144 3584 4550 3584 \nQ 5097 3584 5394 3201 \nQ 5691 2819 5691 2113 \nL 5691 0 \nL 5113 0 \nL 5113 2094 \nQ 5113 2597 4934 2840 \nQ 4756 3084 4391 3084 \nQ 3944 3084 3684 2787 \nQ 3425 2491 3425 1978 \nL 3425 0 \nL 2847 0 \nL 2847 2094 \nQ 2847 2600 2669 2842 \nQ 2491 3084 2119 3084 \nQ 1678 3084 1418 2786 \nQ 1159 2488 1159 1978 \nL 1159 0 \nL 581 0 \nL 581 3500 \nL 1159 3500 \nL 1159 2956 \nQ 1356 3278 1631 3431 \nQ 1906 3584 2284 3584 \nQ 2666 3584 2933 3390 \nQ 3200 3197 3328 2828 \nz\n\" transform=\"scale(0.015625)\"/>\n     </defs>\n     <use xlink:href=\"#DejaVuSans-50\"/>\n     <use xlink:href=\"#DejaVuSans-61\" x=\"55.802734\"/>\n     <use xlink:href=\"#DejaVuSans-72\" x=\"117.082031\"/>\n     <use xlink:href=\"#DejaVuSans-74\" x=\"158.195312\"/>\n     <use xlink:href=\"#DejaVuSans-20\" x=\"197.404297\"/>\n     <use xlink:href=\"#DejaVuSans-42\" x=\"229.191406\"/>\n     <use xlink:href=\"#DejaVuSans-3a\" x=\"297.794922\"/>\n     <use xlink:href=\"#DejaVuSans-20\" x=\"331.486328\"/>\n     <use xlink:href=\"#DejaVuSans-42\" x=\"363.273438\"/>\n     <use xlink:href=\"#DejaVuSans-6f\" x=\"431.876953\"/>\n     <use xlink:href=\"#DejaVuSans-78\" x=\"489.933594\"/>\n     <use xlink:href=\"#DejaVuSans-70\" x=\"549.113281\"/>\n     <use xlink:href=\"#DejaVuSans-6c\" x=\"612.589844\"/>\n     <use xlink:href=\"#DejaVuSans-6f\" x=\"640.373047\"/>\n     <use xlink:href=\"#DejaVuSans-74\" x=\"701.554688\"/>\n     <use xlink:href=\"#DejaVuSans-20\" x=\"740.763672\"/>\n     <use xlink:href=\"#DejaVuSans-6f\" x=\"772.550781\"/>\n     <use xlink:href=\"#DejaVuSans-66\" x=\"833.732422\"/>\n     <use xlink:href=\"#DejaVuSans-20\" x=\"868.9375\"/>\n     <use xlink:href=\"#DejaVuSans-52\" x=\"900.724609\"/>\n     <use xlink:href=\"#DejaVuSans-48\" x=\"970.207031\"/>\n     <use xlink:href=\"#DejaVuSans-20\" x=\"1045.402344\"/>\n     <use xlink:href=\"#DejaVuSans-61\" x=\"1077.189453\"/>\n     <use xlink:href=\"#DejaVuSans-74\" x=\"1138.46875\"/>\n     <use xlink:href=\"#DejaVuSans-74\" x=\"1177.677734\"/>\n     <use xlink:href=\"#DejaVuSans-72\" x=\"1216.886719\"/>\n     <use xlink:href=\"#DejaVuSans-69\" x=\"1258\"/>\n     <use xlink:href=\"#DejaVuSans-62\" x=\"1285.783203\"/>\n     <use xlink:href=\"#DejaVuSans-75\" x=\"1349.259766\"/>\n     <use xlink:href=\"#DejaVuSans-74\" x=\"1412.638672\"/>\n     <use xlink:href=\"#DejaVuSans-65\" x=\"1451.847656\"/>\n     <use xlink:href=\"#DejaVuSans-20\" x=\"1513.371094\"/>\n     <use xlink:href=\"#DejaVuSans-62\" x=\"1545.158203\"/>\n     <use xlink:href=\"#DejaVuSans-79\" x=\"1608.634766\"/>\n     <use xlink:href=\"#DejaVuSans-20\" x=\"1667.814453\"/>\n     <use xlink:href=\"#DejaVuSans-6d\" x=\"1699.601562\"/>\n     <use xlink:href=\"#DejaVuSans-6f\" x=\"1797.013672\"/>\n     <use xlink:href=\"#DejaVuSans-6e\" x=\"1858.195312\"/>\n     <use xlink:href=\"#DejaVuSans-74\" x=\"1921.574219\"/>\n     <use xlink:href=\"#DejaVuSans-68\" x=\"1960.783203\"/>\n    </g>\n   </g>\n  </g>\n </g>\n <defs>\n  <clipPath id=\"p9e0ec49144\">\n   <rect x=\"46.965625\" y=\"22.318125\" width=\"334.8\" height=\"217.44\"/>\n  </clipPath>\n </defs>\n</svg>\n",
      "text/plain": [
       "<Figure size 432x288 with 1 Axes>"
      ]
     },
     "metadata": {
      "needs_background": "light"
     },
     "output_type": "display_data"
    }
   ],
   "source": [
    "months = ['jan', 'feb', 'mar', 'apr', 'may', 'jun', 'jul', 'aug', 'sep', 'oct', 'nov', 'dec']\n",
    "\n",
    "# iterate through months\n",
    "plt.figure()\n",
    "plt.boxplot([ df['RH'][df.month == m ] for m in months ])\n",
    "plt.title(\"Part B: Boxplot of RH attribute by month\")\n",
    "plt.xticks(range(1,13), [ m.capitalize() for m in months ])\n",
    "plt.xlabel(\"Month\")\n",
    "plt.ylabel(\"RH\")\n",
    "plt.show()"
   ]
  },
  {
   "cell_type": "markdown",
   "metadata": {},
   "source": [
    "### Part C: Boxplot for `RH` attribute with various values of day"
   ]
  },
  {
   "cell_type": "code",
   "execution_count": 9,
   "metadata": {},
   "outputs": [
    {
     "data": {
      "image/png": "[encoded data removed]",
      "image/svg+xml": "<?xml version=\"1.0\" encoding=\"utf-8\" standalone=\"no\"?>\n<!DOCTYPE svg PUBLIC \"-//W3C//DTD SVG 1.1//EN\"\n  \"http://www.w3.org/Graphics/SVG/1.1/DTD/svg11.dtd\">\n<svg xmlns:xlink=\"http://www.w3.org/1999/xlink\" width=\"388.965625pt\" height=\"277.314375pt\" viewBox=\"0 0 388.965625 277.314375\" xmlns=\"http://www.w3.org/2000/svg\" version=\"1.1\">\n <metadata>\n  <rdf:RDF xmlns:dc=\"http://purl.org/dc/elements/1.1/\" xmlns:cc=\"http://creativecommons.org/ns#\" xmlns:rdf=\"http://www.w3.org/1999/02/22-rdf-syntax-ns#\">\n   <cc:Work>\n    <dc:type rdf:resource=\"http://purl.org/dc/dcmitype/StillImage\"/>\n    <dc:date>2022-10-06T15:03:36.649853</dc:date>\n    <dc:format>image/svg+xml</dc:format>\n    <dc:creator>\n     <cc:Agent>\n      <dc:title>Matplotlib v3.5.0, https://matplotlib.org/</dc:title>\n     </cc:Agent>\n    </dc:creator>\n   </cc:Work>\n  </rdf:RDF>\n </metadata>\n <defs>\n  <style type=\"text/css\">*{stroke-linejoin: round; stroke-linecap: butt}</style>\n </defs>\n <g id=\"figure_1\">\n  <g id=\"patch_1\">\n   <path d=\"M -0 277.314375 \nL 388.965625 277.314375 \nL 388.965625 0 \nL -0 0 \nL -0 277.314375 \nz\n\" style=\"fill: none\"/>\n  </g>\n  <g id=\"axes_1\">\n   <g id=\"patch_2\">\n    <path d=\"M 46.965625 239.758125 \nL 381.765625 239.758125 \nL 381.765625 22.318125 \nL 46.965625 22.318125 \nz\n\" style=\"fill: #ffffff\"/>\n   </g>\n   <g id=\"matplotlib.axis_1\">\n    <g id=\"xtick_1\">\n     <g id=\"line2d_1\">\n      <defs>\n       <path id=\"mb37cad6c34\" d=\"M 0 0 \nL 0 3.5 \n\" style=\"stroke: #000000; stroke-width: 0.8\"/>\n      </defs>\n      <g>\n       <use xlink:href=\"#mb37cad6c34\" x=\"70.879911\" y=\"239.758125\" style=\"stroke: #000000; stroke-width: 0.8\"/>\n      </g>\n     </g>\n     <g id=\"text_1\">\n      <!-- Mon -->\n      <g transform=\"translate(60.337723 254.356562)scale(0.1 -0.1)\">\n       <defs>\n        <path id=\"DejaVuSans-4d\" d=\"M 628 4666 \nL 1569 4666 \nL 2759 1491 \nL 3956 4666 \nL 4897 4666 \nL 4897 0 \nL 4281 0 \nL 4281 4097 \nL 3078 897 \nL 2444 897 \nL 1241 4097 \nL 1241 0 \nL 628 0 \nL 628 4666 \nz\n\" transform=\"scale(0.015625)\"/>\n        <path id=\"DejaVuSans-6f\" d=\"M 1959 3097 \nQ 1497 3097 1228 2736 \nQ 959 2375 959 1747 \nQ 959 1119 1226 758 \nQ 1494 397 1959 397 \nQ 2419 397 2687 759 \nQ 2956 1122 2956 1747 \nQ 2956 2369 2687 2733 \nQ 2419 3097 1959 3097 \nz\nM 1959 3584 \nQ 2709 3584 3137 3096 \nQ 3566 2609 3566 1747 \nQ 3566 888 3137 398 \nQ 2709 -91 1959 -91 \nQ 1206 -91 779 398 \nQ 353 888 353 1747 \nQ 353 2609 779 3096 \nQ 1206 3584 1959 3584 \nz\n\" transform=\"scale(0.015625)\"/>\n        <path id=\"DejaVuSans-6e\" d=\"M 3513 2113 \nL 3513 0 \nL 2938 0 \nL 2938 2094 \nQ 2938 2591 2744 2837 \nQ 2550 3084 2163 3084 \nQ 1697 3084 1428 2787 \nQ 1159 2491 1159 1978 \nL 1159 0 \nL 581 0 \nL 581 3500 \nL 1159 3500 \nL 1159 2956 \nQ 1366 3272 1645 3428 \nQ 1925 3584 2291 3584 \nQ 2894 3584 3203 3211 \nQ 3513 2838 3513 2113 \nz\n\" transform=\"scale(0.015625)\"/>\n       </defs>\n       <use xlink:href=\"#DejaVuSans-4d\"/>\n       <use xlink:href=\"#DejaVuSans-6f\" x=\"86.279297\"/>\n       <use xlink:href=\"#DejaVuSans-6e\" x=\"147.460938\"/>\n      </g>\n     </g>\n    </g>\n    <g id=\"xtick_2\">\n     <g id=\"line2d_2\">\n      <g>\n       <use xlink:href=\"#mb37cad6c34\" x=\"118.708482\" y=\"239.758125\" style=\"stroke: #000000; stroke-width: 0.8\"/>\n      </g>\n     </g>\n     <g id=\"text_2\">\n      <!-- Tue -->\n      <g transform=\"translate(110.165513 254.356562)scale(0.1 -0.1)\">\n       <defs>\n        <path id=\"DejaVuSans-54\" d=\"M -19 4666 \nL 3928 4666 \nL 3928 4134 \nL 2272 4134 \nL 2272 0 \nL 1638 0 \nL 1638 4134 \nL -19 4134 \nL -19 4666 \nz\n\" transform=\"scale(0.015625)\"/>\n        <path id=\"DejaVuSans-75\" d=\"M 544 1381 \nL 544 3500 \nL 1119 3500 \nL 1119 1403 \nQ 1119 906 1312 657 \nQ 1506 409 1894 409 \nQ 2359 409 2629 706 \nQ 2900 1003 2900 1516 \nL 2900 3500 \nL 3475 3500 \nL 3475 0 \nL 2900 0 \nL 2900 538 \nQ 2691 219 2414 64 \nQ 2138 -91 1772 -91 \nQ 1169 -91 856 284 \nQ 544 659 544 1381 \nz\nM 1991 3584 \nL 1991 3584 \nz\n\" transform=\"scale(0.015625)\"/>\n        <path id=\"DejaVuSans-65\" d=\"M 3597 1894 \nL 3597 1613 \nL 953 1613 \nQ 991 1019 1311 708 \nQ 1631 397 2203 397 \nQ 2534 397 2845 478 \nQ 3156 559 3463 722 \nL 3463 178 \nQ 3153 47 2828 -22 \nQ 2503 -91 2169 -91 \nQ 1331 -91 842 396 \nQ 353 884 353 1716 \nQ 353 2575 817 3079 \nQ 1281 3584 2069 3584 \nQ 2775 3584 3186 3129 \nQ 3597 2675 3597 1894 \nz\nM 3022 2063 \nQ 3016 2534 2758 2815 \nQ 2500 3097 2075 3097 \nQ 1594 3097 1305 2825 \nQ 1016 2553 972 2059 \nL 3022 2063 \nz\n\" transform=\"scale(0.015625)\"/>\n       </defs>\n       <use xlink:href=\"#DejaVuSans-54\"/>\n       <use xlink:href=\"#DejaVuSans-75\" x=\"45.958984\"/>\n       <use xlink:href=\"#DejaVuSans-65\" x=\"109.337891\"/>\n      </g>\n     </g>\n    </g>\n    <g id=\"xtick_3\">\n     <g id=\"line2d_3\">\n      <g>\n       <use xlink:href=\"#mb37cad6c34\" x=\"166.537054\" y=\"239.758125\" style=\"stroke: #000000; stroke-width: 0.8\"/>\n      </g>\n     </g>\n     <g id=\"text_3\">\n      <!-- Wed -->\n      <g transform=\"translate(155.636272 254.356562)scale(0.1 -0.1)\">\n       <defs>\n        <path id=\"DejaVuSans-57\" d=\"M 213 4666 \nL 850 4666 \nL 1831 722 \nL 2809 4666 \nL 3519 4666 \nL 4500 722 \nL 5478 4666 \nL 6119 4666 \nL 4947 0 \nL 4153 0 \nL 3169 4050 \nL 2175 0 \nL 1381 0 \nL 213 4666 \nz\n\" transform=\"scale(0.015625)\"/>\n        <path id=\"DejaVuSans-64\" d=\"M 2906 2969 \nL 2906 4863 \nL 3481 4863 \nL 3481 0 \nL 2906 0 \nL 2906 525 \nQ 2725 213 2448 61 \nQ 2172 -91 1784 -91 \nQ 1150 -91 751 415 \nQ 353 922 353 1747 \nQ 353 2572 751 3078 \nQ 1150 3584 1784 3584 \nQ 2172 3584 2448 3432 \nQ 2725 3281 2906 2969 \nz\nM 947 1747 \nQ 947 1113 1208 752 \nQ 1469 391 1925 391 \nQ 2381 391 2643 752 \nQ 2906 1113 2906 1747 \nQ 2906 2381 2643 2742 \nQ 2381 3103 1925 3103 \nQ 1469 3103 1208 2742 \nQ 947 2381 947 1747 \nz\n\" transform=\"scale(0.015625)\"/>\n       </defs>\n       <use xlink:href=\"#DejaVuSans-57\"/>\n       <use xlink:href=\"#DejaVuSans-65\" x=\"93.001953\"/>\n       <use xlink:href=\"#DejaVuSans-64\" x=\"154.525391\"/>\n      </g>\n     </g>\n    </g>\n    <g id=\"xtick_4\">\n     <g id=\"line2d_4\">\n      <g>\n       <use xlink:href=\"#mb37cad6c34\" x=\"214.365625\" y=\"239.758125\" style=\"stroke: #000000; stroke-width: 0.8\"/>\n      </g>\n     </g>\n     <g id=\"text_4\">\n      <!-- Thu -->\n      <g transform=\"translate(204.974219 254.356562)scale(0.1 -0.1)\">\n       <defs>\n        <path id=\"DejaVuSans-68\" d=\"M 3513 2113 \nL 3513 0 \nL 2938 0 \nL 2938 2094 \nQ 2938 2591 2744 2837 \nQ 2550 3084 2163 3084 \nQ 1697 3084 1428 2787 \nQ 1159 2491 1159 1978 \nL 1159 0 \nL 581 0 \nL 581 4863 \nL 1159 4863 \nL 1159 2956 \nQ 1366 3272 1645 3428 \nQ 1925 3584 2291 3584 \nQ 2894 3584 3203 3211 \nQ 3513 2838 3513 2113 \nz\n\" transform=\"scale(0.015625)\"/>\n       </defs>\n       <use xlink:href=\"#DejaVuSans-54\"/>\n       <use xlink:href=\"#DejaVuSans-68\" x=\"61.083984\"/>\n       <use xlink:href=\"#DejaVuSans-75\" x=\"124.462891\"/>\n      </g>\n     </g>\n    </g>\n    <g id=\"xtick_5\">\n     <g id=\"line2d_5\">\n      <g>\n       <use xlink:href=\"#mb37cad6c34\" x=\"262.194196\" y=\"239.758125\" style=\"stroke: #000000; stroke-width: 0.8\"/>\n      </g>\n     </g>\n     <g id=\"text_5\">\n      <!-- Fri -->\n      <g transform=\"translate(256.236384 254.356562)scale(0.1 -0.1)\">\n       <defs>\n        <path id=\"DejaVuSans-46\" d=\"M 628 4666 \nL 3309 4666 \nL 3309 4134 \nL 1259 4134 \nL 1259 2759 \nL 3109 2759 \nL 3109 2228 \nL 1259 2228 \nL 1259 0 \nL 628 0 \nL 628 4666 \nz\n\" transform=\"scale(0.015625)\"/>\n        <path id=\"DejaVuSans-72\" d=\"M 2631 2963 \nQ 2534 3019 2420 3045 \nQ 2306 3072 2169 3072 \nQ 1681 3072 1420 2755 \nQ 1159 2438 1159 1844 \nL 1159 0 \nL 581 0 \nL 581 3500 \nL 1159 3500 \nL 1159 2956 \nQ 1341 3275 1631 3429 \nQ 1922 3584 2338 3584 \nQ 2397 3584 2469 3576 \nQ 2541 3569 2628 3553 \nL 2631 2963 \nz\n\" transform=\"scale(0.015625)\"/>\n        <path id=\"DejaVuSans-69\" d=\"M 603 3500 \nL 1178 3500 \nL 1178 0 \nL 603 0 \nL 603 3500 \nz\nM 603 4863 \nL 1178 4863 \nL 1178 4134 \nL 603 4134 \nL 603 4863 \nz\n\" transform=\"scale(0.015625)\"/>\n       </defs>\n       <use xlink:href=\"#DejaVuSans-46\"/>\n       <use xlink:href=\"#DejaVuSans-72\" x=\"50.269531\"/>\n       <use xlink:href=\"#DejaVuSans-69\" x=\"91.382812\"/>\n      </g>\n     </g>\n    </g>\n    <g id=\"xtick_6\">\n     <g id=\"line2d_6\">\n      <g>\n       <use xlink:href=\"#mb37cad6c34\" x=\"310.022768\" y=\"239.758125\" style=\"stroke: #000000; stroke-width: 0.8\"/>\n      </g>\n     </g>\n     <g id=\"text_6\">\n      <!-- Sat -->\n      <g transform=\"translate(301.82433 254.356562)scale(0.1 -0.1)\">\n       <defs>\n        <path id=\"DejaVuSans-53\" d=\"M 3425 4513 \nL 3425 3897 \nQ 3066 4069 2747 4153 \nQ 2428 4238 2131 4238 \nQ 1616 4238 1336 4038 \nQ 1056 3838 1056 3469 \nQ 1056 3159 1242 3001 \nQ 1428 2844 1947 2747 \nL 2328 2669 \nQ 3034 2534 3370 2195 \nQ 3706 1856 3706 1288 \nQ 3706 609 3251 259 \nQ 2797 -91 1919 -91 \nQ 1588 -91 1214 -16 \nQ 841 59 441 206 \nL 441 856 \nQ 825 641 1194 531 \nQ 1563 422 1919 422 \nQ 2459 422 2753 634 \nQ 3047 847 3047 1241 \nQ 3047 1584 2836 1778 \nQ 2625 1972 2144 2069 \nL 1759 2144 \nQ 1053 2284 737 2584 \nQ 422 2884 422 3419 \nQ 422 4038 858 4394 \nQ 1294 4750 2059 4750 \nQ 2388 4750 2728 4690 \nQ 3069 4631 3425 4513 \nz\n\" transform=\"scale(0.015625)\"/>\n        <path id=\"DejaVuSans-61\" d=\"M 2194 1759 \nQ 1497 1759 1228 1600 \nQ 959 1441 959 1056 \nQ 959 750 1161 570 \nQ 1363 391 1709 391 \nQ 2188 391 2477 730 \nQ 2766 1069 2766 1631 \nL 2766 1759 \nL 2194 1759 \nz\nM 3341 1997 \nL 3341 0 \nL 2766 0 \nL 2766 531 \nQ 2569 213 2275 61 \nQ 1981 -91 1556 -91 \nQ 1019 -91 701 211 \nQ 384 513 384 1019 \nQ 384 1609 779 1909 \nQ 1175 2209 1959 2209 \nL 2766 2209 \nL 2766 2266 \nQ 2766 2663 2505 2880 \nQ 2244 3097 1772 3097 \nQ 1472 3097 1187 3025 \nQ 903 2953 641 2809 \nL 641 3341 \nQ 956 3463 1253 3523 \nQ 1550 3584 1831 3584 \nQ 2591 3584 2966 3190 \nQ 3341 2797 3341 1997 \nz\n\" transform=\"scale(0.015625)\"/>\n        <path id=\"DejaVuSans-74\" d=\"M 1172 4494 \nL 1172 3500 \nL 2356 3500 \nL 2356 3053 \nL 1172 3053 \nL 1172 1153 \nQ 1172 725 1289 603 \nQ 1406 481 1766 481 \nL 2356 481 \nL 2356 0 \nL 1766 0 \nQ 1100 0 847 248 \nQ 594 497 594 1153 \nL 594 3053 \nL 172 3053 \nL 172 3500 \nL 594 3500 \nL 594 4494 \nL 1172 4494 \nz\n\" transform=\"scale(0.015625)\"/>\n       </defs>\n       <use xlink:href=\"#DejaVuSans-53\"/>\n       <use xlink:href=\"#DejaVuSans-61\" x=\"63.476562\"/>\n       <use xlink:href=\"#DejaVuSans-74\" x=\"124.755859\"/>\n      </g>\n     </g>\n    </g>\n    <g id=\"xtick_7\">\n     <g id=\"line2d_7\">\n      <g>\n       <use xlink:href=\"#mb37cad6c34\" x=\"357.851339\" y=\"239.758125\" style=\"stroke: #000000; stroke-width: 0.8\"/>\n      </g>\n     </g>\n     <g id=\"text_7\">\n      <!-- Sun -->\n      <g transform=\"translate(348.339621 254.356562)scale(0.1 -0.1)\">\n       <use xlink:href=\"#DejaVuSans-53\"/>\n       <use xlink:href=\"#DejaVuSans-75\" x=\"63.476562\"/>\n       <use xlink:href=\"#DejaVuSans-6e\" x=\"126.855469\"/>\n      </g>\n     </g>\n    </g>\n    <g id=\"text_8\">\n     <!-- Day -->\n     <g transform=\"translate(204.492188 268.034687)scale(0.1 -0.1)\">\n      <defs>\n       <path id=\"DejaVuSans-44\" d=\"M 1259 4147 \nL 1259 519 \nL 2022 519 \nQ 2988 519 3436 956 \nQ 3884 1394 3884 2338 \nQ 3884 3275 3436 3711 \nQ 2988 4147 2022 4147 \nL 1259 4147 \nz\nM 628 4666 \nL 1925 4666 \nQ 3281 4666 3915 4102 \nQ 4550 3538 4550 2338 \nQ 4550 1131 3912 565 \nQ 3275 0 1925 0 \nL 628 0 \nL 628 4666 \nz\n\" transform=\"scale(0.015625)\"/>\n       <path id=\"DejaVuSans-79\" d=\"M 2059 -325 \nQ 1816 -950 1584 -1140 \nQ 1353 -1331 966 -1331 \nL 506 -1331 \nL 506 -850 \nL 844 -850 \nQ 1081 -850 1212 -737 \nQ 1344 -625 1503 -206 \nL 1606 56 \nL 191 3500 \nL 800 3500 \nL 1894 763 \nL 2988 3500 \nL 3597 3500 \nL 2059 -325 \nz\n\" transform=\"scale(0.015625)\"/>\n      </defs>\n      <use xlink:href=\"#DejaVuSans-44\"/>\n      <use xlink:href=\"#DejaVuSans-61\" x=\"77.001953\"/>\n      <use xlink:href=\"#DejaVuSans-79\" x=\"138.28125\"/>\n     </g>\n    </g>\n   </g>\n   <g id=\"matplotlib.axis_2\">\n    <g id=\"ytick_1\">\n     <g id=\"line2d_8\">\n      <defs>\n       <path id=\"me653af32c8\" d=\"M 0 0 \nL -3.5 0 \n\" style=\"stroke: #000000; stroke-width: 0.8\"/>\n      </defs>\n      <g>\n       <use xlink:href=\"#me653af32c8\" x=\"46.965625\" y=\"218.246681\" style=\"stroke: #000000; stroke-width: 0.8\"/>\n      </g>\n     </g>\n     <g id=\"text_9\">\n      <!-- 20 -->\n      <g transform=\"translate(27.240625 222.0459)scale(0.1 -0.1)\">\n       <defs>\n        <path id=\"DejaVuSans-32\" d=\"M 1228 531 \nL 3431 531 \nL 3431 0 \nL 469 0 \nL 469 531 \nQ 828 903 1448 1529 \nQ 2069 2156 2228 2338 \nQ 2531 2678 2651 2914 \nQ 2772 3150 2772 3378 \nQ 2772 3750 2511 3984 \nQ 2250 4219 1831 4219 \nQ 1534 4219 1204 4116 \nQ 875 4013 500 3803 \nL 500 4441 \nQ 881 4594 1212 4672 \nQ 1544 4750 1819 4750 \nQ 2544 4750 2975 4387 \nQ 3406 4025 3406 3419 \nQ 3406 3131 3298 2873 \nQ 3191 2616 2906 2266 \nQ 2828 2175 2409 1742 \nQ 1991 1309 1228 531 \nz\n\" transform=\"scale(0.015625)\"/>\n        <path id=\"DejaVuSans-30\" d=\"M 2034 4250 \nQ 1547 4250 1301 3770 \nQ 1056 3291 1056 2328 \nQ 1056 1369 1301 889 \nQ 1547 409 2034 409 \nQ 2525 409 2770 889 \nQ 3016 1369 3016 2328 \nQ 3016 3291 2770 3770 \nQ 2525 4250 2034 4250 \nz\nM 2034 4750 \nQ 2819 4750 3233 4129 \nQ 3647 3509 3647 2328 \nQ 3647 1150 3233 529 \nQ 2819 -91 2034 -91 \nQ 1250 -91 836 529 \nQ 422 1150 422 2328 \nQ 422 3509 836 4129 \nQ 1250 4750 2034 4750 \nz\n\" transform=\"scale(0.015625)\"/>\n       </defs>\n       <use xlink:href=\"#DejaVuSans-32\"/>\n       <use xlink:href=\"#DejaVuSans-30\" x=\"63.623047\"/>\n      </g>\n     </g>\n    </g>\n    <g id=\"ytick_2\">\n     <g id=\"line2d_9\">\n      <g>\n       <use xlink:href=\"#me653af32c8\" x=\"46.965625\" y=\"171.735451\" style=\"stroke: #000000; stroke-width: 0.8\"/>\n      </g>\n     </g>\n     <g id=\"text_10\">\n      <!-- 40 -->\n      <g transform=\"translate(27.240625 175.53467)scale(0.1 -0.1)\">\n       <defs>\n        <path id=\"DejaVuSans-34\" d=\"M 2419 4116 \nL 825 1625 \nL 2419 1625 \nL 2419 4116 \nz\nM 2253 4666 \nL 3047 4666 \nL 3047 1625 \nL 3713 1625 \nL 3713 1100 \nL 3047 1100 \nL 3047 0 \nL 2419 0 \nL 2419 1100 \nL 313 1100 \nL 313 1709 \nL 2253 4666 \nz\n\" transform=\"scale(0.015625)\"/>\n       </defs>\n       <use xlink:href=\"#DejaVuSans-34\"/>\n       <use xlink:href=\"#DejaVuSans-30\" x=\"63.623047\"/>\n      </g>\n     </g>\n    </g>\n    <g id=\"ytick_3\">\n     <g id=\"line2d_10\">\n      <g>\n       <use xlink:href=\"#me653af32c8\" x=\"46.965625\" y=\"125.224221\" style=\"stroke: #000000; stroke-width: 0.8\"/>\n      </g>\n     </g>\n     <g id=\"text_11\">\n      <!-- 60 -->\n      <g transform=\"translate(27.240625 129.02344)scale(0.1 -0.1)\">\n       <defs>\n        <path id=\"DejaVuSans-36\" d=\"M 2113 2584 \nQ 1688 2584 1439 2293 \nQ 1191 2003 1191 1497 \nQ 1191 994 1439 701 \nQ 1688 409 2113 409 \nQ 2538 409 2786 701 \nQ 3034 994 3034 1497 \nQ 3034 2003 2786 2293 \nQ 2538 2584 2113 2584 \nz\nM 3366 4563 \nL 3366 3988 \nQ 3128 4100 2886 4159 \nQ 2644 4219 2406 4219 \nQ 1781 4219 1451 3797 \nQ 1122 3375 1075 2522 \nQ 1259 2794 1537 2939 \nQ 1816 3084 2150 3084 \nQ 2853 3084 3261 2657 \nQ 3669 2231 3669 1497 \nQ 3669 778 3244 343 \nQ 2819 -91 2113 -91 \nQ 1303 -91 875 529 \nQ 447 1150 447 2328 \nQ 447 3434 972 4092 \nQ 1497 4750 2381 4750 \nQ 2619 4750 2861 4703 \nQ 3103 4656 3366 4563 \nz\n\" transform=\"scale(0.015625)\"/>\n       </defs>\n       <use xlink:href=\"#DejaVuSans-36\"/>\n       <use xlink:href=\"#DejaVuSans-30\" x=\"63.623047\"/>\n      </g>\n     </g>\n    </g>\n    <g id=\"ytick_4\">\n     <g id=\"line2d_11\">\n      <g>\n       <use xlink:href=\"#me653af32c8\" x=\"46.965625\" y=\"78.712991\" style=\"stroke: #000000; stroke-width: 0.8\"/>\n      </g>\n     </g>\n     <g id=\"text_12\">\n      <!-- 80 -->\n      <g transform=\"translate(27.240625 82.51221)scale(0.1 -0.1)\">\n       <defs>\n        <path id=\"DejaVuSans-38\" d=\"M 2034 2216 \nQ 1584 2216 1326 1975 \nQ 1069 1734 1069 1313 \nQ 1069 891 1326 650 \nQ 1584 409 2034 409 \nQ 2484 409 2743 651 \nQ 3003 894 3003 1313 \nQ 3003 1734 2745 1975 \nQ 2488 2216 2034 2216 \nz\nM 1403 2484 \nQ 997 2584 770 2862 \nQ 544 3141 544 3541 \nQ 544 4100 942 4425 \nQ 1341 4750 2034 4750 \nQ 2731 4750 3128 4425 \nQ 3525 4100 3525 3541 \nQ 3525 3141 3298 2862 \nQ 3072 2584 2669 2484 \nQ 3125 2378 3379 2068 \nQ 3634 1759 3634 1313 \nQ 3634 634 3220 271 \nQ 2806 -91 2034 -91 \nQ 1263 -91 848 271 \nQ 434 634 434 1313 \nQ 434 1759 690 2068 \nQ 947 2378 1403 2484 \nz\nM 1172 3481 \nQ 1172 3119 1398 2916 \nQ 1625 2713 2034 2713 \nQ 2441 2713 2670 2916 \nQ 2900 3119 2900 3481 \nQ 2900 3844 2670 4047 \nQ 2441 4250 2034 4250 \nQ 1625 4250 1398 4047 \nQ 1172 3844 1172 3481 \nz\n\" transform=\"scale(0.015625)\"/>\n       </defs>\n       <use xlink:href=\"#DejaVuSans-38\"/>\n       <use xlink:href=\"#DejaVuSans-30\" x=\"63.623047\"/>\n      </g>\n     </g>\n    </g>\n    <g id=\"ytick_5\">\n     <g id=\"line2d_12\">\n      <g>\n       <use xlink:href=\"#me653af32c8\" x=\"46.965625\" y=\"32.201761\" style=\"stroke: #000000; stroke-width: 0.8\"/>\n      </g>\n     </g>\n     <g id=\"text_13\">\n      <!-- 100 -->\n      <g transform=\"translate(20.878125 36.00098)scale(0.1 -0.1)\">\n       <defs>\n        <path id=\"DejaVuSans-31\" d=\"M 794 531 \nL 1825 531 \nL 1825 4091 \nL 703 3866 \nL 703 4441 \nL 1819 4666 \nL 2450 4666 \nL 2450 531 \nL 3481 531 \nL 3481 0 \nL 794 0 \nL 794 531 \nz\n\" transform=\"scale(0.015625)\"/>\n       </defs>\n       <use xlink:href=\"#DejaVuSans-31\"/>\n       <use xlink:href=\"#DejaVuSans-30\" x=\"63.623047\"/>\n       <use xlink:href=\"#DejaVuSans-30\" x=\"127.246094\"/>\n      </g>\n     </g>\n    </g>\n    <g id=\"text_14\">\n     <!-- RH -->\n     <g transform=\"translate(14.798438 138.2725)rotate(-90)scale(0.1 -0.1)\">\n      <defs>\n       <path id=\"DejaVuSans-52\" d=\"M 2841 2188 \nQ 3044 2119 3236 1894 \nQ 3428 1669 3622 1275 \nL 4263 0 \nL 3584 0 \nL 2988 1197 \nQ 2756 1666 2539 1819 \nQ 2322 1972 1947 1972 \nL 1259 1972 \nL 1259 0 \nL 628 0 \nL 628 4666 \nL 2053 4666 \nQ 2853 4666 3247 4331 \nQ 3641 3997 3641 3322 \nQ 3641 2881 3436 2590 \nQ 3231 2300 2841 2188 \nz\nM 1259 4147 \nL 1259 2491 \nL 2053 2491 \nQ 2509 2491 2742 2702 \nQ 2975 2913 2975 3322 \nQ 2975 3731 2742 3939 \nQ 2509 4147 2053 4147 \nL 1259 4147 \nz\n\" transform=\"scale(0.015625)\"/>\n       <path id=\"DejaVuSans-48\" d=\"M 628 4666 \nL 1259 4666 \nL 1259 2753 \nL 3553 2753 \nL 3553 4666 \nL 4184 4666 \nL 4184 0 \nL 3553 0 \nL 3553 2222 \nL 1259 2222 \nL 1259 0 \nL 628 0 \nL 628 4666 \nz\n\" transform=\"scale(0.015625)\"/>\n      </defs>\n      <use xlink:href=\"#DejaVuSans-52\"/>\n      <use xlink:href=\"#DejaVuSans-48\" x=\"69.482422\"/>\n     </g>\n    </g>\n   </g>\n   <g id=\"line2d_13\">\n    <path d=\"M 58.922768 187.432991 \nL 82.837054 187.432991 \nL 82.837054 146.154275 \nL 58.922768 146.154275 \nL 58.922768 187.432991 \n\" clip-path=\"url(#p00945e8b3f)\" style=\"fill: none; stroke: #000000; stroke-linecap: square\"/>\n   </g>\n   <g id=\"line2d_14\">\n    <path d=\"M 70.879911 187.432991 \nL 70.879911 215.92112 \n\" clip-path=\"url(#p00945e8b3f)\" style=\"fill: none; stroke: #000000; stroke-linecap: square\"/>\n   </g>\n   <g id=\"line2d_15\">\n    <path d=\"M 70.879911 146.154275 \nL 70.879911 92.66636 \n\" clip-path=\"url(#p00945e8b3f)\" style=\"fill: none; stroke: #000000; stroke-linecap: square\"/>\n   </g>\n   <g id=\"line2d_16\">\n    <path d=\"M 64.901339 215.92112 \nL 76.858482 215.92112 \n\" clip-path=\"url(#p00945e8b3f)\" style=\"fill: none; stroke: #000000; stroke-linecap: square\"/>\n   </g>\n   <g id=\"line2d_17\">\n    <path d=\"M 64.901339 92.66636 \nL 76.858482 92.66636 \n\" clip-path=\"url(#p00945e8b3f)\" style=\"fill: none; stroke: #000000; stroke-linecap: square\"/>\n   </g>\n   <g id=\"line2d_18\">\n    <defs>\n     <path id=\"mf912930068\" d=\"M 0 3 \nC 0.795609 3 1.55874 2.683901 2.12132 2.12132 \nC 2.683901 1.55874 3 0.795609 3 0 \nC 3 -0.795609 2.683901 -1.55874 2.12132 -2.12132 \nC 1.55874 -2.683901 0.795609 -3 0 -3 \nC -0.795609 -3 -1.55874 -2.683901 -2.12132 -2.12132 \nC -2.683901 -1.55874 -3 -0.795609 -3 0 \nC -3 0.795609 -2.683901 1.55874 -2.12132 2.12132 \nC -1.55874 2.683901 -0.795609 3 0 3 \nz\n\" style=\"stroke: #000000\"/>\n    </defs>\n    <g clip-path=\"url(#p00945e8b3f)\">\n     <use xlink:href=\"#mf912930068\" x=\"70.879911\" y=\"64.759622\" style=\"fill-opacity: 0; stroke: #000000\"/>\n     <use xlink:href=\"#mf912930068\" x=\"70.879911\" y=\"83.364114\" style=\"fill-opacity: 0; stroke: #000000\"/>\n     <use xlink:href=\"#mf912930068\" x=\"70.879911\" y=\"64.759622\" style=\"fill-opacity: 0; stroke: #000000\"/>\n     <use xlink:href=\"#mf912930068\" x=\"70.879911\" y=\"81.038553\" style=\"fill-opacity: 0; stroke: #000000\"/>\n    </g>\n   </g>\n   <g id=\"line2d_19\">\n    <path d=\"M 106.751339 192.665505 \nL 130.665625 192.665505 \nL 130.665625 136.270638 \nL 106.751339 136.270638 \nL 106.751339 192.665505 \n\" clip-path=\"url(#p00945e8b3f)\" style=\"fill: none; stroke: #000000; stroke-linecap: square\"/>\n   </g>\n   <g id=\"line2d_20\">\n    <path d=\"M 118.708482 192.665505 \nL 118.708482 220.572243 \n\" clip-path=\"url(#p00945e8b3f)\" style=\"fill: none; stroke: #000000; stroke-linecap: square\"/>\n   </g>\n   <g id=\"line2d_21\">\n    <path d=\"M 118.708482 136.270638 \nL 118.708482 74.061868 \n\" clip-path=\"url(#p00945e8b3f)\" style=\"fill: none; stroke: #000000; stroke-linecap: square\"/>\n   </g>\n   <g id=\"line2d_22\">\n    <path d=\"M 112.729911 220.572243 \nL 124.687054 220.572243 \n\" clip-path=\"url(#p00945e8b3f)\" style=\"fill: none; stroke: #000000; stroke-linecap: square\"/>\n   </g>\n   <g id=\"line2d_23\">\n    <path d=\"M 112.729911 74.061868 \nL 124.687054 74.061868 \n\" clip-path=\"url(#p00945e8b3f)\" style=\"fill: none; stroke: #000000; stroke-linecap: square\"/>\n   </g>\n   <g id=\"line2d_24\"/>\n   <g id=\"line2d_25\">\n    <path d=\"M 154.579911 194.409676 \nL 178.494196 194.409676 \nL 178.494196 156.037911 \nL 154.579911 156.037911 \nL 154.579911 194.409676 \n\" clip-path=\"url(#p00945e8b3f)\" style=\"fill: none; stroke: #000000; stroke-linecap: square\"/>\n   </g>\n   <g id=\"line2d_26\">\n    <path d=\"M 166.537054 194.409676 \nL 166.537054 220.572243 \n\" clip-path=\"url(#p00945e8b3f)\" style=\"fill: none; stroke: #000000; stroke-linecap: square\"/>\n   </g>\n   <g id=\"line2d_27\">\n    <path d=\"M 166.537054 156.037911 \nL 166.537054 101.968606 \n\" clip-path=\"url(#p00945e8b3f)\" style=\"fill: none; stroke: #000000; stroke-linecap: square\"/>\n   </g>\n   <g id=\"line2d_28\">\n    <path d=\"M 160.558482 220.572243 \nL 172.515625 220.572243 \n\" clip-path=\"url(#p00945e8b3f)\" style=\"fill: none; stroke: #000000; stroke-linecap: square\"/>\n   </g>\n   <g id=\"line2d_29\">\n    <path d=\"M 160.558482 101.968606 \nL 172.515625 101.968606 \n\" clip-path=\"url(#p00945e8b3f)\" style=\"fill: none; stroke: #000000; stroke-linecap: square\"/>\n   </g>\n   <g id=\"line2d_30\">\n    <g clip-path=\"url(#p00945e8b3f)\">\n     <use xlink:href=\"#mf912930068\" x=\"166.537054\" y=\"92.66636\" style=\"fill-opacity: 0; stroke: #000000\"/>\n     <use xlink:href=\"#mf912930068\" x=\"166.537054\" y=\"55.457376\" style=\"fill-opacity: 0; stroke: #000000\"/>\n     <use xlink:href=\"#mf912930068\" x=\"166.537054\" y=\"85.689676\" style=\"fill-opacity: 0; stroke: #000000\"/>\n    </g>\n   </g>\n   <g id=\"line2d_31\">\n    <path d=\"M 202.408482 201.967751 \nL 226.322768 201.967751 \nL 226.322768 157.782082 \nL 202.408482 157.782082 \nL 202.408482 201.967751 \n\" clip-path=\"url(#p00945e8b3f)\" style=\"fill: none; stroke: #000000; stroke-linecap: square\"/>\n   </g>\n   <g id=\"line2d_32\">\n    <path d=\"M 214.365625 201.967751 \nL 214.365625 229.874489 \n\" clip-path=\"url(#p00945e8b3f)\" style=\"fill: none; stroke: #000000; stroke-linecap: square\"/>\n   </g>\n   <g id=\"line2d_33\">\n    <path d=\"M 214.365625 157.782082 \nL 214.365625 101.968606 \n\" clip-path=\"url(#p00945e8b3f)\" style=\"fill: none; stroke: #000000; stroke-linecap: square\"/>\n   </g>\n   <g id=\"line2d_34\">\n    <path d=\"M 208.387054 229.874489 \nL 220.344196 229.874489 \n\" clip-path=\"url(#p00945e8b3f)\" style=\"fill: none; stroke: #000000; stroke-linecap: square\"/>\n   </g>\n   <g id=\"line2d_35\">\n    <path d=\"M 208.387054 101.968606 \nL 220.344196 101.968606 \n\" clip-path=\"url(#p00945e8b3f)\" style=\"fill: none; stroke: #000000; stroke-linecap: square\"/>\n   </g>\n   <g id=\"line2d_36\">\n    <g clip-path=\"url(#p00945e8b3f)\">\n     <use xlink:href=\"#mf912930068\" x=\"214.365625\" y=\"81.038553\" style=\"fill-opacity: 0; stroke: #000000\"/>\n    </g>\n   </g>\n   <g id=\"line2d_37\">\n    <path d=\"M 250.237054 183.363259 \nL 274.151339 183.363259 \nL 274.151339 141.503152 \nL 250.237054 141.503152 \nL 250.237054 183.363259 \n\" clip-path=\"url(#p00945e8b3f)\" style=\"fill: none; stroke: #000000; stroke-linecap: square\"/>\n   </g>\n   <g id=\"line2d_38\">\n    <path d=\"M 262.194196 183.363259 \nL 262.194196 222.897804 \n\" clip-path=\"url(#p00945e8b3f)\" style=\"fill: none; stroke: #000000; stroke-linecap: square\"/>\n   </g>\n   <g id=\"line2d_39\">\n    <path d=\"M 262.194196 141.503152 \nL 262.194196 81.038553 \n\" clip-path=\"url(#p00945e8b3f)\" style=\"fill: none; stroke: #000000; stroke-linecap: square\"/>\n   </g>\n   <g id=\"line2d_40\">\n    <path d=\"M 256.215625 222.897804 \nL 268.172768 222.897804 \n\" clip-path=\"url(#p00945e8b3f)\" style=\"fill: none; stroke: #000000; stroke-linecap: square\"/>\n   </g>\n   <g id=\"line2d_41\">\n    <path d=\"M 256.215625 81.038553 \nL 268.172768 81.038553 \n\" clip-path=\"url(#p00945e8b3f)\" style=\"fill: none; stroke: #000000; stroke-linecap: square\"/>\n   </g>\n   <g id=\"line2d_42\">\n    <g clip-path=\"url(#p00945e8b3f)\">\n     <use xlink:href=\"#mf912930068\" x=\"262.194196\" y=\"39.178446\" style=\"fill-opacity: 0; stroke: #000000\"/>\n     <use xlink:href=\"#mf912930068\" x=\"262.194196\" y=\"69.410745\" style=\"fill-opacity: 0; stroke: #000000\"/>\n     <use xlink:href=\"#mf912930068\" x=\"262.194196\" y=\"60.108499\" style=\"fill-opacity: 0; stroke: #000000\"/>\n    </g>\n   </g>\n   <g id=\"line2d_43\">\n    <path d=\"M 298.065625 194.991066 \nL 321.979911 194.991066 \nL 321.979911 145.572884 \nL 298.065625 145.572884 \nL 298.065625 194.991066 \n\" clip-path=\"url(#p00945e8b3f)\" style=\"fill: none; stroke: #000000; stroke-linecap: square\"/>\n   </g>\n   <g id=\"line2d_44\">\n    <path d=\"M 310.022768 194.991066 \nL 310.022768 208.944435 \n\" clip-path=\"url(#p00945e8b3f)\" style=\"fill: none; stroke: #000000; stroke-linecap: square\"/>\n   </g>\n   <g id=\"line2d_45\">\n    <path d=\"M 310.022768 145.572884 \nL 310.022768 83.364114 \n\" clip-path=\"url(#p00945e8b3f)\" style=\"fill: none; stroke: #000000; stroke-linecap: square\"/>\n   </g>\n   <g id=\"line2d_46\">\n    <path d=\"M 304.044196 208.944435 \nL 316.001339 208.944435 \n\" clip-path=\"url(#p00945e8b3f)\" style=\"fill: none; stroke: #000000; stroke-linecap: square\"/>\n   </g>\n   <g id=\"line2d_47\">\n    <path d=\"M 304.044196 83.364114 \nL 316.001339 83.364114 \n\" clip-path=\"url(#p00945e8b3f)\" style=\"fill: none; stroke: #000000; stroke-linecap: square\"/>\n   </g>\n   <g id=\"line2d_48\">\n    <g clip-path=\"url(#p00945e8b3f)\">\n     <use xlink:href=\"#mf912930068\" x=\"310.022768\" y=\"41.504007\" style=\"fill-opacity: 0; stroke: #000000\"/>\n     <use xlink:href=\"#mf912930068\" x=\"310.022768\" y=\"55.457376\" style=\"fill-opacity: 0; stroke: #000000\"/>\n     <use xlink:href=\"#mf912930068\" x=\"310.022768\" y=\"46.15513\" style=\"fill-opacity: 0; stroke: #000000\"/>\n    </g>\n   </g>\n   <g id=\"line2d_49\">\n    <path d=\"M 345.894196 181.037697 \nL 369.808482 181.037697 \nL 369.808482 125.224221 \nL 345.894196 125.224221 \nL 345.894196 181.037697 \n\" clip-path=\"url(#p00945e8b3f)\" style=\"fill: none; stroke: #000000; stroke-linecap: square\"/>\n   </g>\n   <g id=\"line2d_50\">\n    <path d=\"M 357.851339 181.037697 \nL 357.851339 208.944435 \n\" clip-path=\"url(#p00945e8b3f)\" style=\"fill: none; stroke: #000000; stroke-linecap: square\"/>\n   </g>\n   <g id=\"line2d_51\">\n    <path d=\"M 357.851339 125.224221 \nL 357.851339 62.434061 \n\" clip-path=\"url(#p00945e8b3f)\" style=\"fill: none; stroke: #000000; stroke-linecap: square\"/>\n   </g>\n   <g id=\"line2d_52\">\n    <path d=\"M 351.872768 208.944435 \nL 363.829911 208.944435 \n\" clip-path=\"url(#p00945e8b3f)\" style=\"fill: none; stroke: #000000; stroke-linecap: square\"/>\n   </g>\n   <g id=\"line2d_53\">\n    <path d=\"M 351.872768 62.434061 \nL 363.829911 62.434061 \n\" clip-path=\"url(#p00945e8b3f)\" style=\"fill: none; stroke: #000000; stroke-linecap: square\"/>\n   </g>\n   <g id=\"line2d_54\">\n    <g clip-path=\"url(#p00945e8b3f)\">\n     <use xlink:href=\"#mf912930068\" x=\"357.851339\" y=\"34.527323\" style=\"fill-opacity: 0; stroke: #000000\"/>\n     <use xlink:href=\"#mf912930068\" x=\"357.851339\" y=\"32.201761\" style=\"fill-opacity: 0; stroke: #000000\"/>\n    </g>\n   </g>\n   <g id=\"line2d_55\">\n    <path d=\"M 58.922768 167.084328 \nL 82.837054 167.084328 \n\" clip-path=\"url(#p00945e8b3f)\" style=\"fill: none; stroke: #ff7f0e; stroke-linecap: square\"/>\n   </g>\n   <g id=\"line2d_56\">\n    <path d=\"M 106.751339 169.40989 \nL 130.665625 169.40989 \n\" clip-path=\"url(#p00945e8b3f)\" style=\"fill: none; stroke: #ff7f0e; stroke-linecap: square\"/>\n   </g>\n   <g id=\"line2d_57\">\n    <path d=\"M 154.579911 181.037697 \nL 178.494196 181.037697 \n\" clip-path=\"url(#p00945e8b3f)\" style=\"fill: none; stroke: #ff7f0e; stroke-linecap: square\"/>\n   </g>\n   <g id=\"line2d_58\">\n    <path d=\"M 202.408482 176.386574 \nL 226.322768 176.386574 \n\" clip-path=\"url(#p00945e8b3f)\" style=\"fill: none; stroke: #ff7f0e; stroke-linecap: square\"/>\n   </g>\n   <g id=\"line2d_59\">\n    <path d=\"M 250.237054 164.758767 \nL 274.151339 164.758767 \n\" clip-path=\"url(#p00945e8b3f)\" style=\"fill: none; stroke: #ff7f0e; stroke-linecap: square\"/>\n   </g>\n   <g id=\"line2d_60\">\n    <path d=\"M 298.065625 168.247109 \nL 321.979911 168.247109 \n\" clip-path=\"url(#p00945e8b3f)\" style=\"fill: none; stroke: #ff7f0e; stroke-linecap: square\"/>\n   </g>\n   <g id=\"line2d_61\">\n    <path d=\"M 345.894196 162.433205 \nL 369.808482 162.433205 \n\" clip-path=\"url(#p00945e8b3f)\" style=\"fill: none; stroke: #ff7f0e; stroke-linecap: square\"/>\n   </g>\n   <g id=\"patch_3\">\n    <path d=\"M 46.965625 239.758125 \nL 46.965625 22.318125 \n\" style=\"fill: none; stroke: #000000; stroke-width: 0.8; stroke-linejoin: miter; stroke-linecap: square\"/>\n   </g>\n   <g id=\"patch_4\">\n    <path d=\"M 381.765625 239.758125 \nL 381.765625 22.318125 \n\" style=\"fill: none; stroke: #000000; stroke-width: 0.8; stroke-linejoin: miter; stroke-linecap: square\"/>\n   </g>\n   <g id=\"patch_5\">\n    <path d=\"M 46.965625 239.758125 \nL 381.765625 239.758125 \n\" style=\"fill: none; stroke: #000000; stroke-width: 0.8; stroke-linejoin: miter; stroke-linecap: square\"/>\n   </g>\n   <g id=\"patch_6\">\n    <path d=\"M 46.965625 22.318125 \nL 381.765625 22.318125 \n\" style=\"fill: none; stroke: #000000; stroke-width: 0.8; stroke-linejoin: miter; stroke-linecap: square\"/>\n   </g>\n   <g id=\"text_15\">\n    <!-- Part C: Boxplot of RH attribute by day -->\n    <g transform=\"translate(101.279688 16.318125)scale(0.12 -0.12)\">\n     <defs>\n      <path id=\"DejaVuSans-50\" d=\"M 1259 4147 \nL 1259 2394 \nL 2053 2394 \nQ 2494 2394 2734 2622 \nQ 2975 2850 2975 3272 \nQ 2975 3691 2734 3919 \nQ 2494 4147 2053 4147 \nL 1259 4147 \nz\nM 628 4666 \nL 2053 4666 \nQ 2838 4666 3239 4311 \nQ 3641 3956 3641 3272 \nQ 3641 2581 3239 2228 \nQ 2838 1875 2053 1875 \nL 1259 1875 \nL 1259 0 \nL 628 0 \nL 628 4666 \nz\n\" transform=\"scale(0.015625)\"/>\n      <path id=\"DejaVuSans-20\" transform=\"scale(0.015625)\"/>\n      <path id=\"DejaVuSans-43\" d=\"M 4122 4306 \nL 4122 3641 \nQ 3803 3938 3442 4084 \nQ 3081 4231 2675 4231 \nQ 1875 4231 1450 3742 \nQ 1025 3253 1025 2328 \nQ 1025 1406 1450 917 \nQ 1875 428 2675 428 \nQ 3081 428 3442 575 \nQ 3803 722 4122 1019 \nL 4122 359 \nQ 3791 134 3420 21 \nQ 3050 -91 2638 -91 \nQ 1578 -91 968 557 \nQ 359 1206 359 2328 \nQ 359 3453 968 4101 \nQ 1578 4750 2638 4750 \nQ 3056 4750 3426 4639 \nQ 3797 4528 4122 4306 \nz\n\" transform=\"scale(0.015625)\"/>\n      <path id=\"DejaVuSans-3a\" d=\"M 750 794 \nL 1409 794 \nL 1409 0 \nL 750 0 \nL 750 794 \nz\nM 750 3309 \nL 1409 3309 \nL 1409 2516 \nL 750 2516 \nL 750 3309 \nz\n\" transform=\"scale(0.015625)\"/>\n      <path id=\"DejaVuSans-42\" d=\"M 1259 2228 \nL 1259 519 \nL 2272 519 \nQ 2781 519 3026 730 \nQ 3272 941 3272 1375 \nQ 3272 1813 3026 2020 \nQ 2781 2228 2272 2228 \nL 1259 2228 \nz\nM 1259 4147 \nL 1259 2741 \nL 2194 2741 \nQ 2656 2741 2882 2914 \nQ 3109 3088 3109 3444 \nQ 3109 3797 2882 3972 \nQ 2656 4147 2194 4147 \nL 1259 4147 \nz\nM 628 4666 \nL 2241 4666 \nQ 2963 4666 3353 4366 \nQ 3744 4066 3744 3513 \nQ 3744 3084 3544 2831 \nQ 3344 2578 2956 2516 \nQ 3422 2416 3680 2098 \nQ 3938 1781 3938 1306 \nQ 3938 681 3513 340 \nQ 3088 0 2303 0 \nL 628 0 \nL 628 4666 \nz\n\" transform=\"scale(0.015625)\"/>\n      <path id=\"DejaVuSans-78\" d=\"M 3513 3500 \nL 2247 1797 \nL 3578 0 \nL 2900 0 \nL 1881 1375 \nL 863 0 \nL 184 0 \nL 1544 1831 \nL 300 3500 \nL 978 3500 \nL 1906 2253 \nL 2834 3500 \nL 3513 3500 \nz\n\" transform=\"scale(0.015625)\"/>\n      <path id=\"DejaVuSans-70\" d=\"M 1159 525 \nL 1159 -1331 \nL 581 -1331 \nL 581 3500 \nL 1159 3500 \nL 1159 2969 \nQ 1341 3281 1617 3432 \nQ 1894 3584 2278 3584 \nQ 2916 3584 3314 3078 \nQ 3713 2572 3713 1747 \nQ 3713 922 3314 415 \nQ 2916 -91 2278 -91 \nQ 1894 -91 1617 61 \nQ 1341 213 1159 525 \nz\nM 3116 1747 \nQ 3116 2381 2855 2742 \nQ 2594 3103 2138 3103 \nQ 1681 3103 1420 2742 \nQ 1159 2381 1159 1747 \nQ 1159 1113 1420 752 \nQ 1681 391 2138 391 \nQ 2594 391 2855 752 \nQ 3116 1113 3116 1747 \nz\n\" transform=\"scale(0.015625)\"/>\n      <path id=\"DejaVuSans-6c\" d=\"M 603 4863 \nL 1178 4863 \nL 1178 0 \nL 603 0 \nL 603 4863 \nz\n\" transform=\"scale(0.015625)\"/>\n      <path id=\"DejaVuSans-66\" d=\"M 2375 4863 \nL 2375 4384 \nL 1825 4384 \nQ 1516 4384 1395 4259 \nQ 1275 4134 1275 3809 \nL 1275 3500 \nL 2222 3500 \nL 2222 3053 \nL 1275 3053 \nL 1275 0 \nL 697 0 \nL 697 3053 \nL 147 3053 \nL 147 3500 \nL 697 3500 \nL 697 3744 \nQ 697 4328 969 4595 \nQ 1241 4863 1831 4863 \nL 2375 4863 \nz\n\" transform=\"scale(0.015625)\"/>\n      <path id=\"DejaVuSans-62\" d=\"M 3116 1747 \nQ 3116 2381 2855 2742 \nQ 2594 3103 2138 3103 \nQ 1681 3103 1420 2742 \nQ 1159 2381 1159 1747 \nQ 1159 1113 1420 752 \nQ 1681 391 2138 391 \nQ 2594 391 2855 752 \nQ 3116 1113 3116 1747 \nz\nM 1159 2969 \nQ 1341 3281 1617 3432 \nQ 1894 3584 2278 3584 \nQ 2916 3584 3314 3078 \nQ 3713 2572 3713 1747 \nQ 3713 922 3314 415 \nQ 2916 -91 2278 -91 \nQ 1894 -91 1617 61 \nQ 1341 213 1159 525 \nL 1159 0 \nL 581 0 \nL 581 4863 \nL 1159 4863 \nL 1159 2969 \nz\n\" transform=\"scale(0.015625)\"/>\n     </defs>\n     <use xlink:href=\"#DejaVuSans-50\"/>\n     <use xlink:href=\"#DejaVuSans-61\" x=\"55.802734\"/>\n     <use xlink:href=\"#DejaVuSans-72\" x=\"117.082031\"/>\n     <use xlink:href=\"#DejaVuSans-74\" x=\"158.195312\"/>\n     <use xlink:href=\"#DejaVuSans-20\" x=\"197.404297\"/>\n     <use xlink:href=\"#DejaVuSans-43\" x=\"229.191406\"/>\n     <use xlink:href=\"#DejaVuSans-3a\" x=\"299.015625\"/>\n     <use xlink:href=\"#DejaVuSans-20\" x=\"332.707031\"/>\n     <use xlink:href=\"#DejaVuSans-42\" x=\"364.494141\"/>\n     <use xlink:href=\"#DejaVuSans-6f\" x=\"433.097656\"/>\n     <use xlink:href=\"#DejaVuSans-78\" x=\"491.154297\"/>\n     <use xlink:href=\"#DejaVuSans-70\" x=\"550.333984\"/>\n     <use xlink:href=\"#DejaVuSans-6c\" x=\"613.810547\"/>\n     <use xlink:href=\"#DejaVuSans-6f\" x=\"641.59375\"/>\n     <use xlink:href=\"#DejaVuSans-74\" x=\"702.775391\"/>\n     <use xlink:href=\"#DejaVuSans-20\" x=\"741.984375\"/>\n     <use xlink:href=\"#DejaVuSans-6f\" x=\"773.771484\"/>\n     <use xlink:href=\"#DejaVuSans-66\" x=\"834.953125\"/>\n     <use xlink:href=\"#DejaVuSans-20\" x=\"870.158203\"/>\n     <use xlink:href=\"#DejaVuSans-52\" x=\"901.945312\"/>\n     <use xlink:href=\"#DejaVuSans-48\" x=\"971.427734\"/>\n     <use xlink:href=\"#DejaVuSans-20\" x=\"1046.623047\"/>\n     <use xlink:href=\"#DejaVuSans-61\" x=\"1078.410156\"/>\n     <use xlink:href=\"#DejaVuSans-74\" x=\"1139.689453\"/>\n     <use xlink:href=\"#DejaVuSans-74\" x=\"1178.898438\"/>\n     <use xlink:href=\"#DejaVuSans-72\" x=\"1218.107422\"/>\n     <use xlink:href=\"#DejaVuSans-69\" x=\"1259.220703\"/>\n     <use xlink:href=\"#DejaVuSans-62\" x=\"1287.003906\"/>\n     <use xlink:href=\"#DejaVuSans-75\" x=\"1350.480469\"/>\n     <use xlink:href=\"#DejaVuSans-74\" x=\"1413.859375\"/>\n     <use xlink:href=\"#DejaVuSans-65\" x=\"1453.068359\"/>\n     <use xlink:href=\"#DejaVuSans-20\" x=\"1514.591797\"/>\n     <use xlink:href=\"#DejaVuSans-62\" x=\"1546.378906\"/>\n     <use xlink:href=\"#DejaVuSans-79\" x=\"1609.855469\"/>\n     <use xlink:href=\"#DejaVuSans-20\" x=\"1669.035156\"/>\n     <use xlink:href=\"#DejaVuSans-64\" x=\"1700.822266\"/>\n     <use xlink:href=\"#DejaVuSans-61\" x=\"1764.298828\"/>\n     <use xlink:href=\"#DejaVuSans-79\" x=\"1825.578125\"/>\n    </g>\n   </g>\n  </g>\n </g>\n <defs>\n  <clipPath id=\"p00945e8b3f\">\n   <rect x=\"46.965625\" y=\"22.318125\" width=\"334.8\" height=\"217.44\"/>\n  </clipPath>\n </defs>\n</svg>\n",
      "text/plain": [
       "<Figure size 432x288 with 1 Axes>"
      ]
     },
     "metadata": {
      "needs_background": "light"
     },
     "output_type": "display_data"
    }
   ],
   "source": [
    "# create list of days\n",
    "days = ['mon', 'tue', 'wed', 'thu', 'fri', 'sat', 'sun']\n",
    "\n",
    "# iterate through days\n",
    "plt.figure()\n",
    "plt.boxplot([ df['RH'][df.day == d] for d in days ])\n",
    "plt.title(\"Part C: Boxplot of RH attribute by day\")\n",
    "plt.xticks(range(1,8), [ d.capitalize() for d in days ])\n",
    "plt.xlabel(\"Day\")\n",
    "plt.ylabel(\"RH\")\n",
    "plt.show()"
   ]
  },
  {
   "cell_type": "markdown",
   "metadata": {},
   "source": [
    "## Task 3. Hist Plot"
   ]
  },
  {
   "cell_type": "code",
   "execution_count": 10,
   "metadata": {},
   "outputs": [
    {
     "data": {
      "image/png": "[encoded data removed]",
      "image/svg+xml": "<?xml version=\"1.0\" encoding=\"utf-8\" standalone=\"no\"?>\n<!DOCTYPE svg PUBLIC \"-//W3C//DTD SVG 1.1//EN\"\n  \"http://www.w3.org/Graphics/SVG/1.1/DTD/svg11.dtd\">\n<svg xmlns:xlink=\"http://www.w3.org/1999/xlink\" width=\"424.141393pt\" height=\"279.274375pt\" viewBox=\"0 0 424.141393 279.274375\" xmlns=\"http://www.w3.org/2000/svg\" version=\"1.1\">\n <metadata>\n  <rdf:RDF xmlns:dc=\"http://purl.org/dc/elements/1.1/\" xmlns:cc=\"http://creativecommons.org/ns#\" xmlns:rdf=\"http://www.w3.org/1999/02/22-rdf-syntax-ns#\">\n   <cc:Work>\n    <dc:type rdf:resource=\"http://purl.org/dc/dcmitype/StillImage\"/>\n    <dc:date>2022-10-06T15:03:37.086779</dc:date>\n    <dc:format>image/svg+xml</dc:format>\n    <dc:creator>\n     <cc:Agent>\n      <dc:title>Matplotlib v3.5.0, https://matplotlib.org/</dc:title>\n     </cc:Agent>\n    </dc:creator>\n   </cc:Work>\n  </rdf:RDF>\n </metadata>\n <defs>\n  <style type=\"text/css\">*{stroke-linejoin: round; stroke-linecap: butt}</style>\n </defs>\n <g id=\"figure_1\">\n  <g id=\"patch_1\">\n   <path d=\"M 0 279.274375 \nL 424.141393 279.274375 \nL 424.141393 0 \nL 0 0 \nL 0 279.274375 \nz\n\" style=\"fill: none\"/>\n  </g>\n  <g id=\"axes_1\">\n   <g id=\"patch_2\">\n    <path d=\"M 46.965625 241.718125 \nL 205.318053 241.718125 \nL 205.318053 22.318125 \nL 46.965625 22.318125 \nz\n\" style=\"fill: #ffffff\"/>\n   </g>\n   <g id=\"patch_3\">\n    <path d=\"M 54.163463 241.718125 \nL 72.158057 241.718125 \nL 72.158057 199.012529 \nL 54.163463 199.012529 \nz\n\" clip-path=\"url(#p0ff8dfe99e)\" style=\"fill: #ffe4e1; stroke: #000000; stroke-linejoin: miter\"/>\n   </g>\n   <g id=\"patch_4\">\n    <path d=\"M 72.158057 241.718125 \nL 90.152651 241.718125 \nL 90.152651 113.601337 \nL 72.158057 113.601337 \nz\n\" clip-path=\"url(#p0ff8dfe99e)\" style=\"fill: #ffe4e1; stroke: #000000; stroke-linejoin: miter\"/>\n   </g>\n   <g id=\"patch_5\">\n    <path d=\"M 90.152651 241.718125 \nL 108.147245 241.718125 \nL 108.147245 32.765744 \nL 90.152651 32.765744 \nz\n\" clip-path=\"url(#p0ff8dfe99e)\" style=\"fill: #ffe4e1; stroke: #000000; stroke-linejoin: miter\"/>\n   </g>\n   <g id=\"patch_6\">\n    <path d=\"M 108.147245 241.718125 \nL 126.141839 241.718125 \nL 126.141839 101.399738 \nL 108.147245 101.399738 \nz\n\" clip-path=\"url(#p0ff8dfe99e)\" style=\"fill: #ffe4e1; stroke: #000000; stroke-linejoin: miter\"/>\n   </g>\n   <g id=\"patch_7\">\n    <path d=\"M 126.141839 241.718125 \nL 144.136433 241.718125 \nL 144.136433 69.370541 \nL 126.141839 69.370541 \nz\n\" clip-path=\"url(#p0ff8dfe99e)\" style=\"fill: #ffe4e1; stroke: #000000; stroke-linejoin: miter\"/>\n   </g>\n   <g id=\"patch_8\">\n    <path d=\"M 144.136433 241.718125 \nL 162.131027 241.718125 \nL 162.131027 200.537729 \nL 144.136433 200.537729 \nz\n\" clip-path=\"url(#p0ff8dfe99e)\" style=\"fill: #ffe4e1; stroke: #000000; stroke-linejoin: miter\"/>\n   </g>\n   <g id=\"patch_9\">\n    <path d=\"M 162.131027 241.718125 \nL 180.125621 241.718125 \nL 180.125621 206.638528 \nL 162.131027 206.638528 \nz\n\" clip-path=\"url(#p0ff8dfe99e)\" style=\"fill: #ffe4e1; stroke: #000000; stroke-linejoin: miter\"/>\n   </g>\n   <g id=\"patch_10\">\n    <path d=\"M 180.125621 241.718125 \nL 198.120215 241.718125 \nL 198.120215 221.890527 \nL 180.125621 221.890527 \nz\n\" clip-path=\"url(#p0ff8dfe99e)\" style=\"fill: #ffe4e1; stroke: #000000; stroke-linejoin: miter\"/>\n   </g>\n   <g id=\"matplotlib.axis_1\">\n    <g id=\"xtick_1\">\n     <g id=\"line2d_1\">\n      <defs>\n       <path id=\"mb466de657b\" d=\"M 0 0 \nL 0 3.5 \n\" style=\"stroke: #000000; stroke-width: 0.8\"/>\n      </defs>\n      <g>\n       <use xlink:href=\"#mb466de657b\" x=\"47.765385\" y=\"241.718125\" style=\"stroke: #000000; stroke-width: 0.8\"/>\n      </g>\n     </g>\n     <g id=\"text_1\">\n      <!-- 0 -->\n      <g transform=\"translate(44.584135 256.316563)scale(0.1 -0.1)\">\n       <defs>\n        <path id=\"DejaVuSans-30\" d=\"M 2034 4250 \nQ 1547 4250 1301 3770 \nQ 1056 3291 1056 2328 \nQ 1056 1369 1301 889 \nQ 1547 409 2034 409 \nQ 2525 409 2770 889 \nQ 3016 1369 3016 2328 \nQ 3016 3291 2770 3770 \nQ 2525 4250 2034 4250 \nz\nM 2034 4750 \nQ 2819 4750 3233 4129 \nQ 3647 3509 3647 2328 \nQ 3647 1150 3233 529 \nQ 2819 -91 2034 -91 \nQ 1250 -91 836 529 \nQ 422 1150 422 2328 \nQ 422 3509 836 4129 \nQ 1250 4750 2034 4750 \nz\n\" transform=\"scale(0.015625)\"/>\n       </defs>\n       <use xlink:href=\"#DejaVuSans-30\"/>\n      </g>\n     </g>\n    </g>\n    <g id=\"xtick_2\">\n     <g id=\"line2d_2\">\n      <g>\n       <use xlink:href=\"#mb466de657b\" x=\"79.755774\" y=\"241.718125\" style=\"stroke: #000000; stroke-width: 0.8\"/>\n      </g>\n     </g>\n     <g id=\"text_2\">\n      <!-- 2 -->\n      <g transform=\"translate(76.574524 256.316563)scale(0.1 -0.1)\">\n       <defs>\n        <path id=\"DejaVuSans-32\" d=\"M 1228 531 \nL 3431 531 \nL 3431 0 \nL 469 0 \nL 469 531 \nQ 828 903 1448 1529 \nQ 2069 2156 2228 2338 \nQ 2531 2678 2651 2914 \nQ 2772 3150 2772 3378 \nQ 2772 3750 2511 3984 \nQ 2250 4219 1831 4219 \nQ 1534 4219 1204 4116 \nQ 875 4013 500 3803 \nL 500 4441 \nQ 881 4594 1212 4672 \nQ 1544 4750 1819 4750 \nQ 2544 4750 2975 4387 \nQ 3406 4025 3406 3419 \nQ 3406 3131 3298 2873 \nQ 3191 2616 2906 2266 \nQ 2828 2175 2409 1742 \nQ 1991 1309 1228 531 \nz\n\" transform=\"scale(0.015625)\"/>\n       </defs>\n       <use xlink:href=\"#DejaVuSans-32\"/>\n      </g>\n     </g>\n    </g>\n    <g id=\"xtick_3\">\n     <g id=\"line2d_3\">\n      <g>\n       <use xlink:href=\"#mb466de657b\" x=\"111.746164\" y=\"241.718125\" style=\"stroke: #000000; stroke-width: 0.8\"/>\n      </g>\n     </g>\n     <g id=\"text_3\">\n      <!-- 4 -->\n      <g transform=\"translate(108.564914 256.316563)scale(0.1 -0.1)\">\n       <defs>\n        <path id=\"DejaVuSans-34\" d=\"M 2419 4116 \nL 825 1625 \nL 2419 1625 \nL 2419 4116 \nz\nM 2253 4666 \nL 3047 4666 \nL 3047 1625 \nL 3713 1625 \nL 3713 1100 \nL 3047 1100 \nL 3047 0 \nL 2419 0 \nL 2419 1100 \nL 313 1100 \nL 313 1709 \nL 2253 4666 \nz\n\" transform=\"scale(0.015625)\"/>\n       </defs>\n       <use xlink:href=\"#DejaVuSans-34\"/>\n      </g>\n     </g>\n    </g>\n    <g id=\"xtick_4\">\n     <g id=\"line2d_4\">\n      <g>\n       <use xlink:href=\"#mb466de657b\" x=\"143.736553\" y=\"241.718125\" style=\"stroke: #000000; stroke-width: 0.8\"/>\n      </g>\n     </g>\n     <g id=\"text_4\">\n      <!-- 6 -->\n      <g transform=\"translate(140.555303 256.316563)scale(0.1 -0.1)\">\n       <defs>\n        <path id=\"DejaVuSans-36\" d=\"M 2113 2584 \nQ 1688 2584 1439 2293 \nQ 1191 2003 1191 1497 \nQ 1191 994 1439 701 \nQ 1688 409 2113 409 \nQ 2538 409 2786 701 \nQ 3034 994 3034 1497 \nQ 3034 2003 2786 2293 \nQ 2538 2584 2113 2584 \nz\nM 3366 4563 \nL 3366 3988 \nQ 3128 4100 2886 4159 \nQ 2644 4219 2406 4219 \nQ 1781 4219 1451 3797 \nQ 1122 3375 1075 2522 \nQ 1259 2794 1537 2939 \nQ 1816 3084 2150 3084 \nQ 2853 3084 3261 2657 \nQ 3669 2231 3669 1497 \nQ 3669 778 3244 343 \nQ 2819 -91 2113 -91 \nQ 1303 -91 875 529 \nQ 447 1150 447 2328 \nQ 447 3434 972 4092 \nQ 1497 4750 2381 4750 \nQ 2619 4750 2861 4703 \nQ 3103 4656 3366 4563 \nz\n\" transform=\"scale(0.015625)\"/>\n       </defs>\n       <use xlink:href=\"#DejaVuSans-36\"/>\n      </g>\n     </g>\n    </g>\n    <g id=\"xtick_5\">\n     <g id=\"line2d_5\">\n      <g>\n       <use xlink:href=\"#mb466de657b\" x=\"175.726942\" y=\"241.718125\" style=\"stroke: #000000; stroke-width: 0.8\"/>\n      </g>\n     </g>\n     <g id=\"text_5\">\n      <!-- 8 -->\n      <g transform=\"translate(172.545692 256.316563)scale(0.1 -0.1)\">\n       <defs>\n        <path id=\"DejaVuSans-38\" d=\"M 2034 2216 \nQ 1584 2216 1326 1975 \nQ 1069 1734 1069 1313 \nQ 1069 891 1326 650 \nQ 1584 409 2034 409 \nQ 2484 409 2743 651 \nQ 3003 894 3003 1313 \nQ 3003 1734 2745 1975 \nQ 2488 2216 2034 2216 \nz\nM 1403 2484 \nQ 997 2584 770 2862 \nQ 544 3141 544 3541 \nQ 544 4100 942 4425 \nQ 1341 4750 2034 4750 \nQ 2731 4750 3128 4425 \nQ 3525 4100 3525 3541 \nQ 3525 3141 3298 2862 \nQ 3072 2584 2669 2484 \nQ 3125 2378 3379 2068 \nQ 3634 1759 3634 1313 \nQ 3634 634 3220 271 \nQ 2806 -91 2034 -91 \nQ 1263 -91 848 271 \nQ 434 634 434 1313 \nQ 434 1759 690 2068 \nQ 947 2378 1403 2484 \nz\nM 1172 3481 \nQ 1172 3119 1398 2916 \nQ 1625 2713 2034 2713 \nQ 2441 2713 2670 2916 \nQ 2900 3119 2900 3481 \nQ 2900 3844 2670 4047 \nQ 2441 4250 2034 4250 \nQ 1625 4250 1398 4047 \nQ 1172 3844 1172 3481 \nz\n\" transform=\"scale(0.015625)\"/>\n       </defs>\n       <use xlink:href=\"#DejaVuSans-38\"/>\n      </g>\n     </g>\n    </g>\n    <g id=\"text_6\">\n     <!-- Wind -->\n     <g transform=\"translate(113.578558 269.994688)scale(0.1 -0.1)\">\n      <defs>\n       <path id=\"DejaVuSans-57\" d=\"M 213 4666 \nL 850 4666 \nL 1831 722 \nL 2809 4666 \nL 3519 4666 \nL 4500 722 \nL 5478 4666 \nL 6119 4666 \nL 4947 0 \nL 4153 0 \nL 3169 4050 \nL 2175 0 \nL 1381 0 \nL 213 4666 \nz\n\" transform=\"scale(0.015625)\"/>\n       <path id=\"DejaVuSans-69\" d=\"M 603 3500 \nL 1178 3500 \nL 1178 0 \nL 603 0 \nL 603 3500 \nz\nM 603 4863 \nL 1178 4863 \nL 1178 4134 \nL 603 4134 \nL 603 4863 \nz\n\" transform=\"scale(0.015625)\"/>\n       <path id=\"DejaVuSans-6e\" d=\"M 3513 2113 \nL 3513 0 \nL 2938 0 \nL 2938 2094 \nQ 2938 2591 2744 2837 \nQ 2550 3084 2163 3084 \nQ 1697 3084 1428 2787 \nQ 1159 2491 1159 1978 \nL 1159 0 \nL 581 0 \nL 581 3500 \nL 1159 3500 \nL 1159 2956 \nQ 1366 3272 1645 3428 \nQ 1925 3584 2291 3584 \nQ 2894 3584 3203 3211 \nQ 3513 2838 3513 2113 \nz\n\" transform=\"scale(0.015625)\"/>\n       <path id=\"DejaVuSans-64\" d=\"M 2906 2969 \nL 2906 4863 \nL 3481 4863 \nL 3481 0 \nL 2906 0 \nL 2906 525 \nQ 2725 213 2448 61 \nQ 2172 -91 1784 -91 \nQ 1150 -91 751 415 \nQ 353 922 353 1747 \nQ 353 2572 751 3078 \nQ 1150 3584 1784 3584 \nQ 2172 3584 2448 3432 \nQ 2725 3281 2906 2969 \nz\nM 947 1747 \nQ 947 1113 1208 752 \nQ 1469 391 1925 391 \nQ 2381 391 2643 752 \nQ 2906 1113 2906 1747 \nQ 2906 2381 2643 2742 \nQ 2381 3103 1925 3103 \nQ 1469 3103 1208 2742 \nQ 947 2381 947 1747 \nz\n\" transform=\"scale(0.015625)\"/>\n      </defs>\n      <use xlink:href=\"#DejaVuSans-57\"/>\n      <use xlink:href=\"#DejaVuSans-69\" x=\"96.626953\"/>\n      <use xlink:href=\"#DejaVuSans-6e\" x=\"124.410156\"/>\n      <use xlink:href=\"#DejaVuSans-64\" x=\"187.789062\"/>\n     </g>\n    </g>\n   </g>\n   <g id=\"matplotlib.axis_2\">\n    <g id=\"ytick_1\">\n     <g id=\"line2d_6\">\n      <defs>\n       <path id=\"mdc125baf34\" d=\"M 0 0 \nL -3.5 0 \n\" style=\"stroke: #000000; stroke-width: 0.8\"/>\n      </defs>\n      <g>\n       <use xlink:href=\"#mdc125baf34\" x=\"46.965625\" y=\"241.718125\" style=\"stroke: #000000; stroke-width: 0.8\"/>\n      </g>\n     </g>\n     <g id=\"text_7\">\n      <!-- 0 -->\n      <g transform=\"translate(33.603125 245.517344)scale(0.1 -0.1)\">\n       <use xlink:href=\"#DejaVuSans-30\"/>\n      </g>\n     </g>\n    </g>\n    <g id=\"ytick_2\">\n     <g id=\"line2d_7\">\n      <g>\n       <use xlink:href=\"#mdc125baf34\" x=\"46.965625\" y=\"211.214128\" style=\"stroke: #000000; stroke-width: 0.8\"/>\n      </g>\n     </g>\n     <g id=\"text_8\">\n      <!-- 20 -->\n      <g transform=\"translate(27.240625 215.013347)scale(0.1 -0.1)\">\n       <use xlink:href=\"#DejaVuSans-32\"/>\n       <use xlink:href=\"#DejaVuSans-30\" x=\"63.623047\"/>\n      </g>\n     </g>\n    </g>\n    <g id=\"ytick_3\">\n     <g id=\"line2d_8\">\n      <g>\n       <use xlink:href=\"#mdc125baf34\" x=\"46.965625\" y=\"180.710131\" style=\"stroke: #000000; stroke-width: 0.8\"/>\n      </g>\n     </g>\n     <g id=\"text_9\">\n      <!-- 40 -->\n      <g transform=\"translate(27.240625 184.509349)scale(0.1 -0.1)\">\n       <use xlink:href=\"#DejaVuSans-34\"/>\n       <use xlink:href=\"#DejaVuSans-30\" x=\"63.623047\"/>\n      </g>\n     </g>\n    </g>\n    <g id=\"ytick_4\">\n     <g id=\"line2d_9\">\n      <g>\n       <use xlink:href=\"#mdc125baf34\" x=\"46.965625\" y=\"150.206133\" style=\"stroke: #000000; stroke-width: 0.8\"/>\n      </g>\n     </g>\n     <g id=\"text_10\">\n      <!-- 60 -->\n      <g transform=\"translate(27.240625 154.005352)scale(0.1 -0.1)\">\n       <use xlink:href=\"#DejaVuSans-36\"/>\n       <use xlink:href=\"#DejaVuSans-30\" x=\"63.623047\"/>\n      </g>\n     </g>\n    </g>\n    <g id=\"ytick_5\">\n     <g id=\"line2d_10\">\n      <g>\n       <use xlink:href=\"#mdc125baf34\" x=\"46.965625\" y=\"119.702136\" style=\"stroke: #000000; stroke-width: 0.8\"/>\n      </g>\n     </g>\n     <g id=\"text_11\">\n      <!-- 80 -->\n      <g transform=\"translate(27.240625 123.501355)scale(0.1 -0.1)\">\n       <use xlink:href=\"#DejaVuSans-38\"/>\n       <use xlink:href=\"#DejaVuSans-30\" x=\"63.623047\"/>\n      </g>\n     </g>\n    </g>\n    <g id=\"ytick_6\">\n     <g id=\"line2d_11\">\n      <g>\n       <use xlink:href=\"#mdc125baf34\" x=\"46.965625\" y=\"89.198139\" style=\"stroke: #000000; stroke-width: 0.8\"/>\n      </g>\n     </g>\n     <g id=\"text_12\">\n      <!-- 100 -->\n      <g transform=\"translate(20.878125 92.997358)scale(0.1 -0.1)\">\n       <defs>\n        <path id=\"DejaVuSans-31\" d=\"M 794 531 \nL 1825 531 \nL 1825 4091 \nL 703 3866 \nL 703 4441 \nL 1819 4666 \nL 2450 4666 \nL 2450 531 \nL 3481 531 \nL 3481 0 \nL 794 0 \nL 794 531 \nz\n\" transform=\"scale(0.015625)\"/>\n       </defs>\n       <use xlink:href=\"#DejaVuSans-31\"/>\n       <use xlink:href=\"#DejaVuSans-30\" x=\"63.623047\"/>\n       <use xlink:href=\"#DejaVuSans-30\" x=\"127.246094\"/>\n      </g>\n     </g>\n    </g>\n    <g id=\"ytick_7\">\n     <g id=\"line2d_12\">\n      <g>\n       <use xlink:href=\"#mdc125baf34\" x=\"46.965625\" y=\"58.694142\" style=\"stroke: #000000; stroke-width: 0.8\"/>\n      </g>\n     </g>\n     <g id=\"text_13\">\n      <!-- 120 -->\n      <g transform=\"translate(20.878125 62.49336)scale(0.1 -0.1)\">\n       <use xlink:href=\"#DejaVuSans-31\"/>\n       <use xlink:href=\"#DejaVuSans-32\" x=\"63.623047\"/>\n       <use xlink:href=\"#DejaVuSans-30\" x=\"127.246094\"/>\n      </g>\n     </g>\n    </g>\n    <g id=\"ytick_8\">\n     <g id=\"line2d_13\">\n      <g>\n       <use xlink:href=\"#mdc125baf34\" x=\"46.965625\" y=\"28.190144\" style=\"stroke: #000000; stroke-width: 0.8\"/>\n      </g>\n     </g>\n     <g id=\"text_14\">\n      <!-- 140 -->\n      <g transform=\"translate(20.878125 31.989363)scale(0.1 -0.1)\">\n       <use xlink:href=\"#DejaVuSans-31\"/>\n       <use xlink:href=\"#DejaVuSans-34\" x=\"63.623047\"/>\n       <use xlink:href=\"#DejaVuSans-30\" x=\"127.246094\"/>\n      </g>\n     </g>\n    </g>\n    <g id=\"text_15\">\n     <!-- Frequency -->\n     <g transform=\"translate(14.798438 157.847813)rotate(-90)scale(0.1 -0.1)\">\n      <defs>\n       <path id=\"DejaVuSans-46\" d=\"M 628 4666 \nL 3309 4666 \nL 3309 4134 \nL 1259 4134 \nL 1259 2759 \nL 3109 2759 \nL 3109 2228 \nL 1259 2228 \nL 1259 0 \nL 628 0 \nL 628 4666 \nz\n\" transform=\"scale(0.015625)\"/>\n       <path id=\"DejaVuSans-72\" d=\"M 2631 2963 \nQ 2534 3019 2420 3045 \nQ 2306 3072 2169 3072 \nQ 1681 3072 1420 2755 \nQ 1159 2438 1159 1844 \nL 1159 0 \nL 581 0 \nL 581 3500 \nL 1159 3500 \nL 1159 2956 \nQ 1341 3275 1631 3429 \nQ 1922 3584 2338 3584 \nQ 2397 3584 2469 3576 \nQ 2541 3569 2628 3553 \nL 2631 2963 \nz\n\" transform=\"scale(0.015625)\"/>\n       <path id=\"DejaVuSans-65\" d=\"M 3597 1894 \nL 3597 1613 \nL 953 1613 \nQ 991 1019 1311 708 \nQ 1631 397 2203 397 \nQ 2534 397 2845 478 \nQ 3156 559 3463 722 \nL 3463 178 \nQ 3153 47 2828 -22 \nQ 2503 -91 2169 -91 \nQ 1331 -91 842 396 \nQ 353 884 353 1716 \nQ 353 2575 817 3079 \nQ 1281 3584 2069 3584 \nQ 2775 3584 3186 3129 \nQ 3597 2675 3597 1894 \nz\nM 3022 2063 \nQ 3016 2534 2758 2815 \nQ 2500 3097 2075 3097 \nQ 1594 3097 1305 2825 \nQ 1016 2553 972 2059 \nL 3022 2063 \nz\n\" transform=\"scale(0.015625)\"/>\n       <path id=\"DejaVuSans-71\" d=\"M 947 1747 \nQ 947 1113 1208 752 \nQ 1469 391 1925 391 \nQ 2381 391 2643 752 \nQ 2906 1113 2906 1747 \nQ 2906 2381 2643 2742 \nQ 2381 3103 1925 3103 \nQ 1469 3103 1208 2742 \nQ 947 2381 947 1747 \nz\nM 2906 525 \nQ 2725 213 2448 61 \nQ 2172 -91 1784 -91 \nQ 1150 -91 751 415 \nQ 353 922 353 1747 \nQ 353 2572 751 3078 \nQ 1150 3584 1784 3584 \nQ 2172 3584 2448 3432 \nQ 2725 3281 2906 2969 \nL 2906 3500 \nL 3481 3500 \nL 3481 -1331 \nL 2906 -1331 \nL 2906 525 \nz\n\" transform=\"scale(0.015625)\"/>\n       <path id=\"DejaVuSans-75\" d=\"M 544 1381 \nL 544 3500 \nL 1119 3500 \nL 1119 1403 \nQ 1119 906 1312 657 \nQ 1506 409 1894 409 \nQ 2359 409 2629 706 \nQ 2900 1003 2900 1516 \nL 2900 3500 \nL 3475 3500 \nL 3475 0 \nL 2900 0 \nL 2900 538 \nQ 2691 219 2414 64 \nQ 2138 -91 1772 -91 \nQ 1169 -91 856 284 \nQ 544 659 544 1381 \nz\nM 1991 3584 \nL 1991 3584 \nz\n\" transform=\"scale(0.015625)\"/>\n       <path id=\"DejaVuSans-63\" d=\"M 3122 3366 \nL 3122 2828 \nQ 2878 2963 2633 3030 \nQ 2388 3097 2138 3097 \nQ 1578 3097 1268 2742 \nQ 959 2388 959 1747 \nQ 959 1106 1268 751 \nQ 1578 397 2138 397 \nQ 2388 397 2633 464 \nQ 2878 531 3122 666 \nL 3122 134 \nQ 2881 22 2623 -34 \nQ 2366 -91 2075 -91 \nQ 1284 -91 818 406 \nQ 353 903 353 1747 \nQ 353 2603 823 3093 \nQ 1294 3584 2113 3584 \nQ 2378 3584 2631 3529 \nQ 2884 3475 3122 3366 \nz\n\" transform=\"scale(0.015625)\"/>\n       <path id=\"DejaVuSans-79\" d=\"M 2059 -325 \nQ 1816 -950 1584 -1140 \nQ 1353 -1331 966 -1331 \nL 506 -1331 \nL 506 -850 \nL 844 -850 \nQ 1081 -850 1212 -737 \nQ 1344 -625 1503 -206 \nL 1606 56 \nL 191 3500 \nL 800 3500 \nL 1894 763 \nL 2988 3500 \nL 3597 3500 \nL 2059 -325 \nz\n\" transform=\"scale(0.015625)\"/>\n      </defs>\n      <use xlink:href=\"#DejaVuSans-46\"/>\n      <use xlink:href=\"#DejaVuSans-72\" x=\"50.269531\"/>\n      <use xlink:href=\"#DejaVuSans-65\" x=\"89.132812\"/>\n      <use xlink:href=\"#DejaVuSans-71\" x=\"150.65625\"/>\n      <use xlink:href=\"#DejaVuSans-75\" x=\"214.132812\"/>\n      <use xlink:href=\"#DejaVuSans-65\" x=\"277.511719\"/>\n      <use xlink:href=\"#DejaVuSans-6e\" x=\"339.035156\"/>\n      <use xlink:href=\"#DejaVuSans-63\" x=\"402.414062\"/>\n      <use xlink:href=\"#DejaVuSans-79\" x=\"457.394531\"/>\n     </g>\n    </g>\n   </g>\n   <g id=\"patch_11\">\n    <path d=\"M 46.965625 241.718125 \nL 46.965625 22.318125 \n\" style=\"fill: none; stroke: #000000; stroke-width: 0.8; stroke-linejoin: miter; stroke-linecap: square\"/>\n   </g>\n   <g id=\"patch_12\">\n    <path d=\"M 205.318053 241.718125 \nL 205.318053 22.318125 \n\" style=\"fill: none; stroke: #000000; stroke-width: 0.8; stroke-linejoin: miter; stroke-linecap: square\"/>\n   </g>\n   <g id=\"patch_13\">\n    <path d=\"M 46.965625 241.718125 \nL 205.318053 241.718125 \n\" style=\"fill: none; stroke: #000000; stroke-width: 0.8; stroke-linejoin: miter; stroke-linecap: square\"/>\n   </g>\n   <g id=\"patch_14\">\n    <path d=\"M 46.965625 22.318125 \nL 205.318053 22.318125 \n\" style=\"fill: none; stroke: #000000; stroke-width: 0.8; stroke-linejoin: miter; stroke-linecap: square\"/>\n   </g>\n   <g id=\"text_16\">\n    <!-- Distribution of wind attribute -->\n    <g transform=\"translate(39.279651 16.318125)scale(0.12 -0.12)\">\n     <defs>\n      <path id=\"DejaVuSans-44\" d=\"M 1259 4147 \nL 1259 519 \nL 2022 519 \nQ 2988 519 3436 956 \nQ 3884 1394 3884 2338 \nQ 3884 3275 3436 3711 \nQ 2988 4147 2022 4147 \nL 1259 4147 \nz\nM 628 4666 \nL 1925 4666 \nQ 3281 4666 3915 4102 \nQ 4550 3538 4550 2338 \nQ 4550 1131 3912 565 \nQ 3275 0 1925 0 \nL 628 0 \nL 628 4666 \nz\n\" transform=\"scale(0.015625)\"/>\n      <path id=\"DejaVuSans-73\" d=\"M 2834 3397 \nL 2834 2853 \nQ 2591 2978 2328 3040 \nQ 2066 3103 1784 3103 \nQ 1356 3103 1142 2972 \nQ 928 2841 928 2578 \nQ 928 2378 1081 2264 \nQ 1234 2150 1697 2047 \nL 1894 2003 \nQ 2506 1872 2764 1633 \nQ 3022 1394 3022 966 \nQ 3022 478 2636 193 \nQ 2250 -91 1575 -91 \nQ 1294 -91 989 -36 \nQ 684 19 347 128 \nL 347 722 \nQ 666 556 975 473 \nQ 1284 391 1588 391 \nQ 1994 391 2212 530 \nQ 2431 669 2431 922 \nQ 2431 1156 2273 1281 \nQ 2116 1406 1581 1522 \nL 1381 1569 \nQ 847 1681 609 1914 \nQ 372 2147 372 2553 \nQ 372 3047 722 3315 \nQ 1072 3584 1716 3584 \nQ 2034 3584 2315 3537 \nQ 2597 3491 2834 3397 \nz\n\" transform=\"scale(0.015625)\"/>\n      <path id=\"DejaVuSans-74\" d=\"M 1172 4494 \nL 1172 3500 \nL 2356 3500 \nL 2356 3053 \nL 1172 3053 \nL 1172 1153 \nQ 1172 725 1289 603 \nQ 1406 481 1766 481 \nL 2356 481 \nL 2356 0 \nL 1766 0 \nQ 1100 0 847 248 \nQ 594 497 594 1153 \nL 594 3053 \nL 172 3053 \nL 172 3500 \nL 594 3500 \nL 594 4494 \nL 1172 4494 \nz\n\" transform=\"scale(0.015625)\"/>\n      <path id=\"DejaVuSans-62\" d=\"M 3116 1747 \nQ 3116 2381 2855 2742 \nQ 2594 3103 2138 3103 \nQ 1681 3103 1420 2742 \nQ 1159 2381 1159 1747 \nQ 1159 1113 1420 752 \nQ 1681 391 2138 391 \nQ 2594 391 2855 752 \nQ 3116 1113 3116 1747 \nz\nM 1159 2969 \nQ 1341 3281 1617 3432 \nQ 1894 3584 2278 3584 \nQ 2916 3584 3314 3078 \nQ 3713 2572 3713 1747 \nQ 3713 922 3314 415 \nQ 2916 -91 2278 -91 \nQ 1894 -91 1617 61 \nQ 1341 213 1159 525 \nL 1159 0 \nL 581 0 \nL 581 4863 \nL 1159 4863 \nL 1159 2969 \nz\n\" transform=\"scale(0.015625)\"/>\n      <path id=\"DejaVuSans-6f\" d=\"M 1959 3097 \nQ 1497 3097 1228 2736 \nQ 959 2375 959 1747 \nQ 959 1119 1226 758 \nQ 1494 397 1959 397 \nQ 2419 397 2687 759 \nQ 2956 1122 2956 1747 \nQ 2956 2369 2687 2733 \nQ 2419 3097 1959 3097 \nz\nM 1959 3584 \nQ 2709 3584 3137 3096 \nQ 3566 2609 3566 1747 \nQ 3566 888 3137 398 \nQ 2709 -91 1959 -91 \nQ 1206 -91 779 398 \nQ 353 888 353 1747 \nQ 353 2609 779 3096 \nQ 1206 3584 1959 3584 \nz\n\" transform=\"scale(0.015625)\"/>\n      <path id=\"DejaVuSans-20\" transform=\"scale(0.015625)\"/>\n      <path id=\"DejaVuSans-66\" d=\"M 2375 4863 \nL 2375 4384 \nL 1825 4384 \nQ 1516 4384 1395 4259 \nQ 1275 4134 1275 3809 \nL 1275 3500 \nL 2222 3500 \nL 2222 3053 \nL 1275 3053 \nL 1275 0 \nL 697 0 \nL 697 3053 \nL 147 3053 \nL 147 3500 \nL 697 3500 \nL 697 3744 \nQ 697 4328 969 4595 \nQ 1241 4863 1831 4863 \nL 2375 4863 \nz\n\" transform=\"scale(0.015625)\"/>\n      <path id=\"DejaVuSans-77\" d=\"M 269 3500 \nL 844 3500 \nL 1563 769 \nL 2278 3500 \nL 2956 3500 \nL 3675 769 \nL 4391 3500 \nL 4966 3500 \nL 4050 0 \nL 3372 0 \nL 2619 2869 \nL 1863 0 \nL 1184 0 \nL 269 3500 \nz\n\" transform=\"scale(0.015625)\"/>\n      <path id=\"DejaVuSans-61\" d=\"M 2194 1759 \nQ 1497 1759 1228 1600 \nQ 959 1441 959 1056 \nQ 959 750 1161 570 \nQ 1363 391 1709 391 \nQ 2188 391 2477 730 \nQ 2766 1069 2766 1631 \nL 2766 1759 \nL 2194 1759 \nz\nM 3341 1997 \nL 3341 0 \nL 2766 0 \nL 2766 531 \nQ 2569 213 2275 61 \nQ 1981 -91 1556 -91 \nQ 1019 -91 701 211 \nQ 384 513 384 1019 \nQ 384 1609 779 1909 \nQ 1175 2209 1959 2209 \nL 2766 2209 \nL 2766 2266 \nQ 2766 2663 2505 2880 \nQ 2244 3097 1772 3097 \nQ 1472 3097 1187 3025 \nQ 903 2953 641 2809 \nL 641 3341 \nQ 956 3463 1253 3523 \nQ 1550 3584 1831 3584 \nQ 2591 3584 2966 3190 \nQ 3341 2797 3341 1997 \nz\n\" transform=\"scale(0.015625)\"/>\n     </defs>\n     <use xlink:href=\"#DejaVuSans-44\"/>\n     <use xlink:href=\"#DejaVuSans-69\" x=\"77.001953\"/>\n     <use xlink:href=\"#DejaVuSans-73\" x=\"104.785156\"/>\n     <use xlink:href=\"#DejaVuSans-74\" x=\"156.884766\"/>\n     <use xlink:href=\"#DejaVuSans-72\" x=\"196.09375\"/>\n     <use xlink:href=\"#DejaVuSans-69\" x=\"237.207031\"/>\n     <use xlink:href=\"#DejaVuSans-62\" x=\"264.990234\"/>\n     <use xlink:href=\"#DejaVuSans-75\" x=\"328.466797\"/>\n     <use xlink:href=\"#DejaVuSans-74\" x=\"391.845703\"/>\n     <use xlink:href=\"#DejaVuSans-69\" x=\"431.054688\"/>\n     <use xlink:href=\"#DejaVuSans-6f\" x=\"458.837891\"/>\n     <use xlink:href=\"#DejaVuSans-6e\" x=\"520.019531\"/>\n     <use xlink:href=\"#DejaVuSans-20\" x=\"583.398438\"/>\n     <use xlink:href=\"#DejaVuSans-6f\" x=\"615.185547\"/>\n     <use xlink:href=\"#DejaVuSans-66\" x=\"676.367188\"/>\n     <use xlink:href=\"#DejaVuSans-20\" x=\"711.572266\"/>\n     <use xlink:href=\"#DejaVuSans-77\" x=\"743.359375\"/>\n     <use xlink:href=\"#DejaVuSans-69\" x=\"825.146484\"/>\n     <use xlink:href=\"#DejaVuSans-6e\" x=\"852.929688\"/>\n     <use xlink:href=\"#DejaVuSans-64\" x=\"916.308594\"/>\n     <use xlink:href=\"#DejaVuSans-20\" x=\"979.785156\"/>\n     <use xlink:href=\"#DejaVuSans-61\" x=\"1011.572266\"/>\n     <use xlink:href=\"#DejaVuSans-74\" x=\"1072.851562\"/>\n     <use xlink:href=\"#DejaVuSans-74\" x=\"1112.060547\"/>\n     <use xlink:href=\"#DejaVuSans-72\" x=\"1151.269531\"/>\n     <use xlink:href=\"#DejaVuSans-69\" x=\"1192.382812\"/>\n     <use xlink:href=\"#DejaVuSans-62\" x=\"1220.166016\"/>\n     <use xlink:href=\"#DejaVuSans-75\" x=\"1283.642578\"/>\n     <use xlink:href=\"#DejaVuSans-74\" x=\"1347.021484\"/>\n     <use xlink:href=\"#DejaVuSans-65\" x=\"1386.230469\"/>\n    </g>\n   </g>\n  </g>\n  <g id=\"axes_2\">\n   <g id=\"patch_15\">\n    <path d=\"M 256.243053 241.718125 \nL 414.59548 241.718125 \nL 414.59548 22.318125 \nL 256.243053 22.318125 \nz\n\" style=\"fill: #ffffff\"/>\n   </g>\n   <g id=\"patch_16\">\n    <path d=\"M 263.44089 241.718125 \nL 281.435484 241.718125 \nL 281.435484 178.746175 \nL 263.44089 178.746175 \nz\n\" clip-path=\"url(#pd50a62dc0a)\" style=\"fill: #f0ffff; stroke: #000000; stroke-linejoin: miter\"/>\n   </g>\n   <g id=\"patch_17\">\n    <path d=\"M 281.435484 241.718125 \nL 299.430078 241.718125 \nL 299.430078 34.196925 \nL 281.435484 34.196925 \nz\n\" clip-path=\"url(#pd50a62dc0a)\" style=\"fill: #f0ffff; stroke: #000000; stroke-linejoin: miter\"/>\n   </g>\n   <g id=\"patch_18\">\n    <path d=\"M 299.430078 241.718125 \nL 317.424672 241.718125 \nL 317.424672 32.765744 \nL 299.430078 32.765744 \nz\n\" clip-path=\"url(#pd50a62dc0a)\" style=\"fill: #f0ffff; stroke: #000000; stroke-linejoin: miter\"/>\n   </g>\n   <g id=\"patch_19\">\n    <path d=\"M 317.424672 241.718125 \nL 335.419267 241.718125 \nL 335.419267 128.65485 \nL 317.424672 128.65485 \nz\n\" clip-path=\"url(#pd50a62dc0a)\" style=\"fill: #f0ffff; stroke: #000000; stroke-linejoin: miter\"/>\n   </g>\n   <g id=\"patch_20\">\n    <path d=\"M 335.419267 241.718125 \nL 353.413861 241.718125 \nL 353.413861 167.296729 \nL 335.419267 167.296729 \nz\n\" clip-path=\"url(#pd50a62dc0a)\" style=\"fill: #f0ffff; stroke: #000000; stroke-linejoin: miter\"/>\n   </g>\n   <g id=\"patch_21\">\n    <path d=\"M 353.413861 241.718125 \nL 371.408455 241.718125 \nL 371.408455 194.489162 \nL 353.413861 194.489162 \nz\n\" clip-path=\"url(#pd50a62dc0a)\" style=\"fill: #f0ffff; stroke: #000000; stroke-linejoin: miter\"/>\n   </g>\n   <g id=\"patch_22\">\n    <path d=\"M 371.408455 241.718125 \nL 389.403049 241.718125 \nL 389.403049 225.975137 \nL 371.408455 225.975137 \nz\n\" clip-path=\"url(#pd50a62dc0a)\" style=\"fill: #f0ffff; stroke: #000000; stroke-linejoin: miter\"/>\n   </g>\n   <g id=\"patch_23\">\n    <path d=\"M 389.403049 241.718125 \nL 407.397643 241.718125 \nL 407.397643 231.69986 \nL 389.403049 231.69986 \nz\n\" clip-path=\"url(#pd50a62dc0a)\" style=\"fill: #f0ffff; stroke: #000000; stroke-linejoin: miter\"/>\n   </g>\n   <g id=\"matplotlib.axis_3\">\n    <g id=\"xtick_6\">\n     <g id=\"line2d_14\">\n      <g>\n       <use xlink:href=\"#mb466de657b\" x=\"271.908935\" y=\"241.718125\" style=\"stroke: #000000; stroke-width: 0.8\"/>\n      </g>\n     </g>\n     <g id=\"text_17\">\n      <!-- 20 -->\n      <g transform=\"translate(265.546435 256.316563)scale(0.1 -0.1)\">\n       <use xlink:href=\"#DejaVuSans-32\"/>\n       <use xlink:href=\"#DejaVuSans-30\" x=\"63.623047\"/>\n      </g>\n     </g>\n    </g>\n    <g id=\"xtick_7\">\n     <g id=\"line2d_15\">\n      <g>\n       <use xlink:href=\"#mb466de657b\" x=\"305.781112\" y=\"241.718125\" style=\"stroke: #000000; stroke-width: 0.8\"/>\n      </g>\n     </g>\n     <g id=\"text_18\">\n      <!-- 40 -->\n      <g transform=\"translate(299.418612 256.316563)scale(0.1 -0.1)\">\n       <use xlink:href=\"#DejaVuSans-34\"/>\n       <use xlink:href=\"#DejaVuSans-30\" x=\"63.623047\"/>\n      </g>\n     </g>\n    </g>\n    <g id=\"xtick_8\">\n     <g id=\"line2d_16\">\n      <g>\n       <use xlink:href=\"#mb466de657b\" x=\"339.653289\" y=\"241.718125\" style=\"stroke: #000000; stroke-width: 0.8\"/>\n      </g>\n     </g>\n     <g id=\"text_19\">\n      <!-- 60 -->\n      <g transform=\"translate(333.290789 256.316563)scale(0.1 -0.1)\">\n       <use xlink:href=\"#DejaVuSans-36\"/>\n       <use xlink:href=\"#DejaVuSans-30\" x=\"63.623047\"/>\n      </g>\n     </g>\n    </g>\n    <g id=\"xtick_9\">\n     <g id=\"line2d_17\">\n      <g>\n       <use xlink:href=\"#mb466de657b\" x=\"373.525466\" y=\"241.718125\" style=\"stroke: #000000; stroke-width: 0.8\"/>\n      </g>\n     </g>\n     <g id=\"text_20\">\n      <!-- 80 -->\n      <g transform=\"translate(367.162966 256.316563)scale(0.1 -0.1)\">\n       <use xlink:href=\"#DejaVuSans-38\"/>\n       <use xlink:href=\"#DejaVuSans-30\" x=\"63.623047\"/>\n      </g>\n     </g>\n    </g>\n    <g id=\"xtick_10\">\n     <g id=\"line2d_18\">\n      <g>\n       <use xlink:href=\"#mb466de657b\" x=\"407.397643\" y=\"241.718125\" style=\"stroke: #000000; stroke-width: 0.8\"/>\n      </g>\n     </g>\n     <g id=\"text_21\">\n      <!-- 100 -->\n      <g transform=\"translate(397.853893 256.316563)scale(0.1 -0.1)\">\n       <use xlink:href=\"#DejaVuSans-31\"/>\n       <use xlink:href=\"#DejaVuSans-30\" x=\"63.623047\"/>\n       <use xlink:href=\"#DejaVuSans-30\" x=\"127.246094\"/>\n      </g>\n     </g>\n    </g>\n    <g id=\"text_22\">\n     <!-- RH -->\n     <g transform=\"translate(328.184892 269.994688)scale(0.1 -0.1)\">\n      <defs>\n       <path id=\"DejaVuSans-52\" d=\"M 2841 2188 \nQ 3044 2119 3236 1894 \nQ 3428 1669 3622 1275 \nL 4263 0 \nL 3584 0 \nL 2988 1197 \nQ 2756 1666 2539 1819 \nQ 2322 1972 1947 1972 \nL 1259 1972 \nL 1259 0 \nL 628 0 \nL 628 4666 \nL 2053 4666 \nQ 2853 4666 3247 4331 \nQ 3641 3997 3641 3322 \nQ 3641 2881 3436 2590 \nQ 3231 2300 2841 2188 \nz\nM 1259 4147 \nL 1259 2491 \nL 2053 2491 \nQ 2509 2491 2742 2702 \nQ 2975 2913 2975 3322 \nQ 2975 3731 2742 3939 \nQ 2509 4147 2053 4147 \nL 1259 4147 \nz\n\" transform=\"scale(0.015625)\"/>\n       <path id=\"DejaVuSans-48\" d=\"M 628 4666 \nL 1259 4666 \nL 1259 2753 \nL 3553 2753 \nL 3553 4666 \nL 4184 4666 \nL 4184 0 \nL 3553 0 \nL 3553 2222 \nL 1259 2222 \nL 1259 0 \nL 628 0 \nL 628 4666 \nz\n\" transform=\"scale(0.015625)\"/>\n      </defs>\n      <use xlink:href=\"#DejaVuSans-52\"/>\n      <use xlink:href=\"#DejaVuSans-48\" x=\"69.482422\"/>\n     </g>\n    </g>\n   </g>\n   <g id=\"matplotlib.axis_4\">\n    <g id=\"ytick_9\">\n     <g id=\"line2d_19\">\n      <g>\n       <use xlink:href=\"#mdc125baf34\" x=\"256.243053\" y=\"241.718125\" style=\"stroke: #000000; stroke-width: 0.8\"/>\n      </g>\n     </g>\n     <g id=\"text_23\">\n      <!-- 0 -->\n      <g transform=\"translate(242.880553 245.517344)scale(0.1 -0.1)\">\n       <use xlink:href=\"#DejaVuSans-30\"/>\n      </g>\n     </g>\n    </g>\n    <g id=\"ytick_10\">\n     <g id=\"line2d_20\">\n      <g>\n       <use xlink:href=\"#mdc125baf34\" x=\"256.243053\" y=\"213.094511\" style=\"stroke: #000000; stroke-width: 0.8\"/>\n      </g>\n     </g>\n     <g id=\"text_24\">\n      <!-- 20 -->\n      <g transform=\"translate(236.518053 216.89373)scale(0.1 -0.1)\">\n       <use xlink:href=\"#DejaVuSans-32\"/>\n       <use xlink:href=\"#DejaVuSans-30\" x=\"63.623047\"/>\n      </g>\n     </g>\n    </g>\n    <g id=\"ytick_11\">\n     <g id=\"line2d_21\">\n      <g>\n       <use xlink:href=\"#mdc125baf34\" x=\"256.243053\" y=\"184.470897\" style=\"stroke: #000000; stroke-width: 0.8\"/>\n      </g>\n     </g>\n     <g id=\"text_25\">\n      <!-- 40 -->\n      <g transform=\"translate(236.518053 188.270116)scale(0.1 -0.1)\">\n       <use xlink:href=\"#DejaVuSans-34\"/>\n       <use xlink:href=\"#DejaVuSans-30\" x=\"63.623047\"/>\n      </g>\n     </g>\n    </g>\n    <g id=\"ytick_12\">\n     <g id=\"line2d_22\">\n      <g>\n       <use xlink:href=\"#mdc125baf34\" x=\"256.243053\" y=\"155.847284\" style=\"stroke: #000000; stroke-width: 0.8\"/>\n      </g>\n     </g>\n     <g id=\"text_26\">\n      <!-- 60 -->\n      <g transform=\"translate(236.518053 159.646502)scale(0.1 -0.1)\">\n       <use xlink:href=\"#DejaVuSans-36\"/>\n       <use xlink:href=\"#DejaVuSans-30\" x=\"63.623047\"/>\n      </g>\n     </g>\n    </g>\n    <g id=\"ytick_13\">\n     <g id=\"line2d_23\">\n      <g>\n       <use xlink:href=\"#mdc125baf34\" x=\"256.243053\" y=\"127.22367\" style=\"stroke: #000000; stroke-width: 0.8\"/>\n      </g>\n     </g>\n     <g id=\"text_27\">\n      <!-- 80 -->\n      <g transform=\"translate(236.518053 131.022888)scale(0.1 -0.1)\">\n       <use xlink:href=\"#DejaVuSans-38\"/>\n       <use xlink:href=\"#DejaVuSans-30\" x=\"63.623047\"/>\n      </g>\n     </g>\n    </g>\n    <g id=\"ytick_14\">\n     <g id=\"line2d_24\">\n      <g>\n       <use xlink:href=\"#mdc125baf34\" x=\"256.243053\" y=\"98.600056\" style=\"stroke: #000000; stroke-width: 0.8\"/>\n      </g>\n     </g>\n     <g id=\"text_28\">\n      <!-- 100 -->\n      <g transform=\"translate(230.155553 102.399275)scale(0.1 -0.1)\">\n       <use xlink:href=\"#DejaVuSans-31\"/>\n       <use xlink:href=\"#DejaVuSans-30\" x=\"63.623047\"/>\n       <use xlink:href=\"#DejaVuSans-30\" x=\"127.246094\"/>\n      </g>\n     </g>\n    </g>\n    <g id=\"ytick_15\">\n     <g id=\"line2d_25\">\n      <g>\n       <use xlink:href=\"#mdc125baf34\" x=\"256.243053\" y=\"69.976442\" style=\"stroke: #000000; stroke-width: 0.8\"/>\n      </g>\n     </g>\n     <g id=\"text_29\">\n      <!-- 120 -->\n      <g transform=\"translate(230.155553 73.775661)scale(0.1 -0.1)\">\n       <use xlink:href=\"#DejaVuSans-31\"/>\n       <use xlink:href=\"#DejaVuSans-32\" x=\"63.623047\"/>\n       <use xlink:href=\"#DejaVuSans-30\" x=\"127.246094\"/>\n      </g>\n     </g>\n    </g>\n    <g id=\"ytick_16\">\n     <g id=\"line2d_26\">\n      <g>\n       <use xlink:href=\"#mdc125baf34\" x=\"256.243053\" y=\"41.352828\" style=\"stroke: #000000; stroke-width: 0.8\"/>\n      </g>\n     </g>\n     <g id=\"text_30\">\n      <!-- 140 -->\n      <g transform=\"translate(230.155553 45.152047)scale(0.1 -0.1)\">\n       <use xlink:href=\"#DejaVuSans-31\"/>\n       <use xlink:href=\"#DejaVuSans-34\" x=\"63.623047\"/>\n       <use xlink:href=\"#DejaVuSans-30\" x=\"127.246094\"/>\n      </g>\n     </g>\n    </g>\n    <g id=\"text_31\">\n     <!-- Frequency -->\n     <g transform=\"translate(224.075865 157.847813)rotate(-90)scale(0.1 -0.1)\">\n      <use xlink:href=\"#DejaVuSans-46\"/>\n      <use xlink:href=\"#DejaVuSans-72\" x=\"50.269531\"/>\n      <use xlink:href=\"#DejaVuSans-65\" x=\"89.132812\"/>\n      <use xlink:href=\"#DejaVuSans-71\" x=\"150.65625\"/>\n      <use xlink:href=\"#DejaVuSans-75\" x=\"214.132812\"/>\n      <use xlink:href=\"#DejaVuSans-65\" x=\"277.511719\"/>\n      <use xlink:href=\"#DejaVuSans-6e\" x=\"339.035156\"/>\n      <use xlink:href=\"#DejaVuSans-63\" x=\"402.414062\"/>\n      <use xlink:href=\"#DejaVuSans-79\" x=\"457.394531\"/>\n     </g>\n    </g>\n   </g>\n   <g id=\"patch_24\">\n    <path d=\"M 256.243053 241.718125 \nL 256.243053 22.318125 \n\" style=\"fill: none; stroke: #000000; stroke-width: 0.8; stroke-linejoin: miter; stroke-linecap: square\"/>\n   </g>\n   <g id=\"patch_25\">\n    <path d=\"M 414.59548 241.718125 \nL 414.59548 22.318125 \n\" style=\"fill: none; stroke: #000000; stroke-width: 0.8; stroke-linejoin: miter; stroke-linecap: square\"/>\n   </g>\n   <g id=\"patch_26\">\n    <path d=\"M 256.243053 241.718125 \nL 414.59548 241.718125 \n\" style=\"fill: none; stroke: #000000; stroke-width: 0.8; stroke-linejoin: miter; stroke-linecap: square\"/>\n   </g>\n   <g id=\"patch_27\">\n    <path d=\"M 256.243053 22.318125 \nL 414.59548 22.318125 \n\" style=\"fill: none; stroke: #000000; stroke-width: 0.8; stroke-linejoin: miter; stroke-linecap: square\"/>\n   </g>\n   <g id=\"text_32\">\n    <!-- Distribution of RH attribute -->\n    <g transform=\"translate(254.061142 16.318125)scale(0.12 -0.12)\">\n     <use xlink:href=\"#DejaVuSans-44\"/>\n     <use xlink:href=\"#DejaVuSans-69\" x=\"77.001953\"/>\n     <use xlink:href=\"#DejaVuSans-73\" x=\"104.785156\"/>\n     <use xlink:href=\"#DejaVuSans-74\" x=\"156.884766\"/>\n     <use xlink:href=\"#DejaVuSans-72\" x=\"196.09375\"/>\n     <use xlink:href=\"#DejaVuSans-69\" x=\"237.207031\"/>\n     <use xlink:href=\"#DejaVuSans-62\" x=\"264.990234\"/>\n     <use xlink:href=\"#DejaVuSans-75\" x=\"328.466797\"/>\n     <use xlink:href=\"#DejaVuSans-74\" x=\"391.845703\"/>\n     <use xlink:href=\"#DejaVuSans-69\" x=\"431.054688\"/>\n     <use xlink:href=\"#DejaVuSans-6f\" x=\"458.837891\"/>\n     <use xlink:href=\"#DejaVuSans-6e\" x=\"520.019531\"/>\n     <use xlink:href=\"#DejaVuSans-20\" x=\"583.398438\"/>\n     <use xlink:href=\"#DejaVuSans-6f\" x=\"615.185547\"/>\n     <use xlink:href=\"#DejaVuSans-66\" x=\"676.367188\"/>\n     <use xlink:href=\"#DejaVuSans-20\" x=\"711.572266\"/>\n     <use xlink:href=\"#DejaVuSans-52\" x=\"743.359375\"/>\n     <use xlink:href=\"#DejaVuSans-48\" x=\"812.841797\"/>\n     <use xlink:href=\"#DejaVuSans-20\" x=\"888.037109\"/>\n     <use xlink:href=\"#DejaVuSans-61\" x=\"919.824219\"/>\n     <use xlink:href=\"#DejaVuSans-74\" x=\"981.103516\"/>\n     <use xlink:href=\"#DejaVuSans-74\" x=\"1020.3125\"/>\n     <use xlink:href=\"#DejaVuSans-72\" x=\"1059.521484\"/>\n     <use xlink:href=\"#DejaVuSans-69\" x=\"1100.634766\"/>\n     <use xlink:href=\"#DejaVuSans-62\" x=\"1128.417969\"/>\n     <use xlink:href=\"#DejaVuSans-75\" x=\"1191.894531\"/>\n     <use xlink:href=\"#DejaVuSans-74\" x=\"1255.273438\"/>\n     <use xlink:href=\"#DejaVuSans-65\" x=\"1294.482422\"/>\n    </g>\n   </g>\n  </g>\n </g>\n <defs>\n  <clipPath id=\"p0ff8dfe99e\">\n   <rect x=\"46.965625\" y=\"22.318125\" width=\"158.352428\" height=\"219.4\"/>\n  </clipPath>\n  <clipPath id=\"pd50a62dc0a\">\n   <rect x=\"256.243053\" y=\"22.318125\" width=\"158.352428\" height=\"219.4\"/>\n  </clipPath>\n </defs>\n</svg>\n",
      "text/plain": [
       "<Figure size 432x288 with 2 Axes>"
      ]
     },
     "metadata": {
      "needs_background": "light"
     },
     "output_type": "display_data"
    }
   ],
   "source": [
    "plt.figure()\n",
    "\n",
    "# create histogram for wind attribute\n",
    "plt.subplot(1, 2, 1)\n",
    "plt.hist(df['wind'], bins = 8, color = \"mistyrose\", ec = \"black\")\n",
    "plt.title(\"Distribution of wind attribute\")\n",
    "plt.xlabel(\"Wind\")\n",
    "plt.ylabel(\"Frequency\")\n",
    "\n",
    "# create histogram for RH attribute\n",
    "plt.subplot(1, 2, 2)\n",
    "plt.hist(df['RH'], bins = 8, color = \"azure\", ec = \"black\")\n",
    "plt.title(\"Distribution of RH attribute\")\n",
    "plt.xlabel(\"RH\")\n",
    "plt.ylabel(\"Frequency\")\n",
    "plt.tight_layout()\n",
    "plt.show()"
   ]
  },
  {
   "cell_type": "markdown",
   "metadata": {},
   "source": [
    "## Task 4. Scatter Plot"
   ]
  },
  {
   "cell_type": "code",
   "execution_count": 11,
   "metadata": {},
   "outputs": [
    {
     "data": {
      "image/png": "[encoded data removed]",
      "image/svg+xml": "<?xml version=\"1.0\" encoding=\"utf-8\" standalone=\"no\"?>\n<!DOCTYPE svg PUBLIC \"-//W3C//DTD SVG 1.1//EN\"\n  \"http://www.w3.org/Graphics/SVG/1.1/DTD/svg11.dtd\">\n<svg xmlns:xlink=\"http://www.w3.org/1999/xlink\" width=\"376.240625pt\" height=\"277.314375pt\" viewBox=\"0 0 376.240625 277.314375\" xmlns=\"http://www.w3.org/2000/svg\" version=\"1.1\">\n <metadata>\n  <rdf:RDF xmlns:dc=\"http://purl.org/dc/elements/1.1/\" xmlns:cc=\"http://creativecommons.org/ns#\" xmlns:rdf=\"http://www.w3.org/1999/02/22-rdf-syntax-ns#\">\n   <cc:Work>\n    <dc:type rdf:resource=\"http://purl.org/dc/dcmitype/StillImage\"/>\n    <dc:date>2022-10-06T15:03:37.456459</dc:date>\n    <dc:format>image/svg+xml</dc:format>\n    <dc:creator>\n     <cc:Agent>\n      <dc:title>Matplotlib v3.5.0, https://matplotlib.org/</dc:title>\n     </cc:Agent>\n    </dc:creator>\n   </cc:Work>\n  </rdf:RDF>\n </metadata>\n <defs>\n  <style type=\"text/css\">*{stroke-linejoin: round; stroke-linecap: butt}</style>\n </defs>\n <g id=\"figure_1\">\n  <g id=\"patch_1\">\n   <path d=\"M 0 277.314375 \nL 376.240625 277.314375 \nL 376.240625 0 \nL 0 0 \nL 0 277.314375 \nz\n\" style=\"fill: none\"/>\n  </g>\n  <g id=\"axes_1\">\n   <g id=\"patch_2\">\n    <path d=\"M 34.240625 239.758125 \nL 369.040625 239.758125 \nL 369.040625 22.318125 \nL 34.240625 22.318125 \nz\n\" style=\"fill: #ffffff\"/>\n   </g>\n   <g id=\"PathCollection_1\">\n    <defs>\n     <path id=\"m8f422c17a9\" d=\"M 0 3 \nC 0.795609 3 1.55874 2.683901 2.12132 2.12132 \nC 2.683901 1.55874 3 0.795609 3 0 \nC 3 -0.795609 2.683901 -1.55874 2.12132 -2.12132 \nC 1.55874 -2.683901 0.795609 -3 0 -3 \nC -0.795609 -3 -1.55874 -2.683901 -2.12132 -2.12132 \nC -2.683901 -1.55874 -3 -0.795609 -3 0 \nC -3 0.795609 -2.683901 1.55874 -2.12132 2.12132 \nC -1.55874 2.683901 -0.795609 3 0 3 \nz\n\" style=\"stroke: #800080; stroke-opacity: 0.5\"/>\n    </defs>\n    <g clip-path=\"url(#p5b25f81627)\">\n     <use xlink:href=\"#m8f422c17a9\" x=\"49.458807\" y=\"91.50358\" style=\"fill: #800080; fill-opacity: 0.5; stroke: #800080; stroke-opacity: 0.5\"/>\n     <use xlink:href=\"#m8f422c17a9\" x=\"49.458807\" y=\"218.89267\" style=\"fill: #800080; fill-opacity: 0.5; stroke: #800080; stroke-opacity: 0.5\"/>\n     <use xlink:href=\"#m8f422c17a9\" x=\"49.458807\" y=\"210.107216\" style=\"fill: #800080; fill-opacity: 0.5; stroke: #800080; stroke-opacity: 0.5\"/>\n     <use xlink:href=\"#m8f422c17a9\" x=\"49.458807\" y=\"150.805398\" style=\"fill: #800080; fill-opacity: 0.5; stroke: #800080; stroke-opacity: 0.5\"/>\n     <use xlink:href=\"#m8f422c17a9\" x=\"49.458807\" y=\"199.125398\" style=\"fill: #800080; fill-opacity: 0.5; stroke: #800080; stroke-opacity: 0.5\"/>\n     <use xlink:href=\"#m8f422c17a9\" x=\"49.458807\" y=\"120.056307\" style=\"fill: #800080; fill-opacity: 0.5; stroke: #800080; stroke-opacity: 0.5\"/>\n     <use xlink:href=\"#m8f422c17a9\" x=\"49.458807\" y=\"170.57267\" style=\"fill: #800080; fill-opacity: 0.5; stroke: #800080; stroke-opacity: 0.5\"/>\n     <use xlink:href=\"#m8f422c17a9\" x=\"49.458807\" y=\"190.339943\" style=\"fill: #800080; fill-opacity: 0.5; stroke: #800080; stroke-opacity: 0.5\"/>\n     <use xlink:href=\"#m8f422c17a9\" x=\"49.458807\" y=\"120.056307\" style=\"fill: #800080; fill-opacity: 0.5; stroke: #800080; stroke-opacity: 0.5\"/>\n     <use xlink:href=\"#m8f422c17a9\" x=\"49.458807\" y=\"150.805398\" style=\"fill: #800080; fill-opacity: 0.5; stroke: #800080; stroke-opacity: 0.5\"/>\n     <use xlink:href=\"#m8f422c17a9\" x=\"49.458807\" y=\"80.521761\" style=\"fill: #800080; fill-opacity: 0.5; stroke: #800080; stroke-opacity: 0.5\"/>\n     <use xlink:href=\"#m8f422c17a9\" x=\"49.458807\" y=\"150.805398\" style=\"fill: #800080; fill-opacity: 0.5; stroke: #800080; stroke-opacity: 0.5\"/>\n     <use xlink:href=\"#m8f422c17a9\" x=\"49.458807\" y=\"91.50358\" style=\"fill: #800080; fill-opacity: 0.5; stroke: #800080; stroke-opacity: 0.5\"/>\n     <use xlink:href=\"#m8f422c17a9\" x=\"49.458807\" y=\"190.339943\" style=\"fill: #800080; fill-opacity: 0.5; stroke: #800080; stroke-opacity: 0.5\"/>\n     <use xlink:href=\"#m8f422c17a9\" x=\"49.458807\" y=\"139.82358\" style=\"fill: #800080; fill-opacity: 0.5; stroke: #800080; stroke-opacity: 0.5\"/>\n     <use xlink:href=\"#m8f422c17a9\" x=\"49.458807\" y=\"120.056307\" style=\"fill: #800080; fill-opacity: 0.5; stroke: #800080; stroke-opacity: 0.5\"/>\n     <use xlink:href=\"#m8f422c17a9\" x=\"49.458807\" y=\"120.056307\" style=\"fill: #800080; fill-opacity: 0.5; stroke: #800080; stroke-opacity: 0.5\"/>\n     <use xlink:href=\"#m8f422c17a9\" x=\"49.458807\" y=\"131.038125\" style=\"fill: #800080; fill-opacity: 0.5; stroke: #800080; stroke-opacity: 0.5\"/>\n     <use xlink:href=\"#m8f422c17a9\" x=\"49.458807\" y=\"150.805398\" style=\"fill: #800080; fill-opacity: 0.5; stroke: #800080; stroke-opacity: 0.5\"/>\n     <use xlink:href=\"#m8f422c17a9\" x=\"49.458807\" y=\"139.82358\" style=\"fill: #800080; fill-opacity: 0.5; stroke: #800080; stroke-opacity: 0.5\"/>\n     <use xlink:href=\"#m8f422c17a9\" x=\"49.458807\" y=\"179.358125\" style=\"fill: #800080; fill-opacity: 0.5; stroke: #800080; stroke-opacity: 0.5\"/>\n     <use xlink:href=\"#m8f422c17a9\" x=\"49.458807\" y=\"179.358125\" style=\"fill: #800080; fill-opacity: 0.5; stroke: #800080; stroke-opacity: 0.5\"/>\n     <use xlink:href=\"#m8f422c17a9\" x=\"49.458807\" y=\"139.82358\" style=\"fill: #800080; fill-opacity: 0.5; stroke: #800080; stroke-opacity: 0.5\"/>\n     <use xlink:href=\"#m8f422c17a9\" x=\"49.458807\" y=\"111.270852\" style=\"fill: #800080; fill-opacity: 0.5; stroke: #800080; stroke-opacity: 0.5\"/>\n     <use xlink:href=\"#m8f422c17a9\" x=\"49.458807\" y=\"111.270852\" style=\"fill: #800080; fill-opacity: 0.5; stroke: #800080; stroke-opacity: 0.5\"/>\n     <use xlink:href=\"#m8f422c17a9\" x=\"49.458807\" y=\"120.056307\" style=\"fill: #800080; fill-opacity: 0.5; stroke: #800080; stroke-opacity: 0.5\"/>\n     <use xlink:href=\"#m8f422c17a9\" x=\"49.458807\" y=\"111.270852\" style=\"fill: #800080; fill-opacity: 0.5; stroke: #800080; stroke-opacity: 0.5\"/>\n     <use xlink:href=\"#m8f422c17a9\" x=\"49.458807\" y=\"210.107216\" style=\"fill: #800080; fill-opacity: 0.5; stroke: #800080; stroke-opacity: 0.5\"/>\n     <use xlink:href=\"#m8f422c17a9\" x=\"49.458807\" y=\"179.358125\" style=\"fill: #800080; fill-opacity: 0.5; stroke: #800080; stroke-opacity: 0.5\"/>\n     <use xlink:href=\"#m8f422c17a9\" x=\"49.458807\" y=\"159.590852\" style=\"fill: #800080; fill-opacity: 0.5; stroke: #800080; stroke-opacity: 0.5\"/>\n     <use xlink:href=\"#m8f422c17a9\" x=\"49.458807\" y=\"159.590852\" style=\"fill: #800080; fill-opacity: 0.5; stroke: #800080; stroke-opacity: 0.5\"/>\n     <use xlink:href=\"#m8f422c17a9\" x=\"49.458807\" y=\"71.736307\" style=\"fill: #800080; fill-opacity: 0.5; stroke: #800080; stroke-opacity: 0.5\"/>\n     <use xlink:href=\"#m8f422c17a9\" x=\"49.458807\" y=\"199.125398\" style=\"fill: #800080; fill-opacity: 0.5; stroke: #800080; stroke-opacity: 0.5\"/>\n     <use xlink:href=\"#m8f422c17a9\" x=\"49.458807\" y=\"159.590852\" style=\"fill: #800080; fill-opacity: 0.5; stroke: #800080; stroke-opacity: 0.5\"/>\n     <use xlink:href=\"#m8f422c17a9\" x=\"49.458807\" y=\"179.358125\" style=\"fill: #800080; fill-opacity: 0.5; stroke: #800080; stroke-opacity: 0.5\"/>\n     <use xlink:href=\"#m8f422c17a9\" x=\"49.458807\" y=\"139.82358\" style=\"fill: #800080; fill-opacity: 0.5; stroke: #800080; stroke-opacity: 0.5\"/>\n     <use xlink:href=\"#m8f422c17a9\" x=\"49.458807\" y=\"139.82358\" style=\"fill: #800080; fill-opacity: 0.5; stroke: #800080; stroke-opacity: 0.5\"/>\n     <use xlink:href=\"#m8f422c17a9\" x=\"49.458807\" y=\"120.056307\" style=\"fill: #800080; fill-opacity: 0.5; stroke: #800080; stroke-opacity: 0.5\"/>\n     <use xlink:href=\"#m8f422c17a9\" x=\"49.458807\" y=\"150.805398\" style=\"fill: #800080; fill-opacity: 0.5; stroke: #800080; stroke-opacity: 0.5\"/>\n     <use xlink:href=\"#m8f422c17a9\" x=\"49.458807\" y=\"179.358125\" style=\"fill: #800080; fill-opacity: 0.5; stroke: #800080; stroke-opacity: 0.5\"/>\n     <use xlink:href=\"#m8f422c17a9\" x=\"49.458807\" y=\"170.57267\" style=\"fill: #800080; fill-opacity: 0.5; stroke: #800080; stroke-opacity: 0.5\"/>\n     <use xlink:href=\"#m8f422c17a9\" x=\"49.458807\" y=\"91.50358\" style=\"fill: #800080; fill-opacity: 0.5; stroke: #800080; stroke-opacity: 0.5\"/>\n     <use xlink:href=\"#m8f422c17a9\" x=\"49.458807\" y=\"120.056307\" style=\"fill: #800080; fill-opacity: 0.5; stroke: #800080; stroke-opacity: 0.5\"/>\n     <use xlink:href=\"#m8f422c17a9\" x=\"49.458807\" y=\"179.358125\" style=\"fill: #800080; fill-opacity: 0.5; stroke: #800080; stroke-opacity: 0.5\"/>\n     <use xlink:href=\"#m8f422c17a9\" x=\"49.458807\" y=\"131.038125\" style=\"fill: #800080; fill-opacity: 0.5; stroke: #800080; stroke-opacity: 0.5\"/>\n     <use xlink:href=\"#m8f422c17a9\" x=\"49.458807\" y=\"150.805398\" style=\"fill: #800080; fill-opacity: 0.5; stroke: #800080; stroke-opacity: 0.5\"/>\n     <use xlink:href=\"#m8f422c17a9\" x=\"49.458807\" y=\"159.590852\" style=\"fill: #800080; fill-opacity: 0.5; stroke: #800080; stroke-opacity: 0.5\"/>\n     <use xlink:href=\"#m8f422c17a9\" x=\"49.458807\" y=\"170.57267\" style=\"fill: #800080; fill-opacity: 0.5; stroke: #800080; stroke-opacity: 0.5\"/>\n     <use xlink:href=\"#m8f422c17a9\" x=\"49.458807\" y=\"199.125398\" style=\"fill: #800080; fill-opacity: 0.5; stroke: #800080; stroke-opacity: 0.5\"/>\n     <use xlink:href=\"#m8f422c17a9\" x=\"49.458807\" y=\"111.270852\" style=\"fill: #800080; fill-opacity: 0.5; stroke: #800080; stroke-opacity: 0.5\"/>\n     <use xlink:href=\"#m8f422c17a9\" x=\"49.458807\" y=\"210.107216\" style=\"fill: #800080; fill-opacity: 0.5; stroke: #800080; stroke-opacity: 0.5\"/>\n     <use xlink:href=\"#m8f422c17a9\" x=\"49.458807\" y=\"190.339943\" style=\"fill: #800080; fill-opacity: 0.5; stroke: #800080; stroke-opacity: 0.5\"/>\n     <use xlink:href=\"#m8f422c17a9\" x=\"49.458807\" y=\"131.038125\" style=\"fill: #800080; fill-opacity: 0.5; stroke: #800080; stroke-opacity: 0.5\"/>\n     <use xlink:href=\"#m8f422c17a9\" x=\"49.458807\" y=\"131.038125\" style=\"fill: #800080; fill-opacity: 0.5; stroke: #800080; stroke-opacity: 0.5\"/>\n     <use xlink:href=\"#m8f422c17a9\" x=\"49.458807\" y=\"159.590852\" style=\"fill: #800080; fill-opacity: 0.5; stroke: #800080; stroke-opacity: 0.5\"/>\n     <use xlink:href=\"#m8f422c17a9\" x=\"49.458807\" y=\"190.339943\" style=\"fill: #800080; fill-opacity: 0.5; stroke: #800080; stroke-opacity: 0.5\"/>\n     <use xlink:href=\"#m8f422c17a9\" x=\"49.458807\" y=\"131.038125\" style=\"fill: #800080; fill-opacity: 0.5; stroke: #800080; stroke-opacity: 0.5\"/>\n     <use xlink:href=\"#m8f422c17a9\" x=\"49.458807\" y=\"179.358125\" style=\"fill: #800080; fill-opacity: 0.5; stroke: #800080; stroke-opacity: 0.5\"/>\n     <use xlink:href=\"#m8f422c17a9\" x=\"49.458807\" y=\"120.056307\" style=\"fill: #800080; fill-opacity: 0.5; stroke: #800080; stroke-opacity: 0.5\"/>\n     <use xlink:href=\"#m8f422c17a9\" x=\"49.458807\" y=\"218.89267\" style=\"fill: #800080; fill-opacity: 0.5; stroke: #800080; stroke-opacity: 0.5\"/>\n     <use xlink:href=\"#m8f422c17a9\" x=\"49.458807\" y=\"111.270852\" style=\"fill: #800080; fill-opacity: 0.5; stroke: #800080; stroke-opacity: 0.5\"/>\n     <use xlink:href=\"#m8f422c17a9\" x=\"49.458807\" y=\"100.289034\" style=\"fill: #800080; fill-opacity: 0.5; stroke: #800080; stroke-opacity: 0.5\"/>\n     <use xlink:href=\"#m8f422c17a9\" x=\"49.458807\" y=\"131.038125\" style=\"fill: #800080; fill-opacity: 0.5; stroke: #800080; stroke-opacity: 0.5\"/>\n     <use xlink:href=\"#m8f422c17a9\" x=\"49.458807\" y=\"179.358125\" style=\"fill: #800080; fill-opacity: 0.5; stroke: #800080; stroke-opacity: 0.5\"/>\n     <use xlink:href=\"#m8f422c17a9\" x=\"49.458807\" y=\"170.57267\" style=\"fill: #800080; fill-opacity: 0.5; stroke: #800080; stroke-opacity: 0.5\"/>\n     <use xlink:href=\"#m8f422c17a9\" x=\"49.458807\" y=\"139.82358\" style=\"fill: #800080; fill-opacity: 0.5; stroke: #800080; stroke-opacity: 0.5\"/>\n     <use xlink:href=\"#m8f422c17a9\" x=\"49.458807\" y=\"139.82358\" style=\"fill: #800080; fill-opacity: 0.5; stroke: #800080; stroke-opacity: 0.5\"/>\n     <use xlink:href=\"#m8f422c17a9\" x=\"49.458807\" y=\"120.056307\" style=\"fill: #800080; fill-opacity: 0.5; stroke: #800080; stroke-opacity: 0.5\"/>\n     <use xlink:href=\"#m8f422c17a9\" x=\"49.458807\" y=\"100.289034\" style=\"fill: #800080; fill-opacity: 0.5; stroke: #800080; stroke-opacity: 0.5\"/>\n     <use xlink:href=\"#m8f422c17a9\" x=\"49.458807\" y=\"139.82358\" style=\"fill: #800080; fill-opacity: 0.5; stroke: #800080; stroke-opacity: 0.5\"/>\n     <use xlink:href=\"#m8f422c17a9\" x=\"49.458807\" y=\"71.736307\" style=\"fill: #800080; fill-opacity: 0.5; stroke: #800080; stroke-opacity: 0.5\"/>\n     <use xlink:href=\"#m8f422c17a9\" x=\"49.458807\" y=\"159.590852\" style=\"fill: #800080; fill-opacity: 0.5; stroke: #800080; stroke-opacity: 0.5\"/>\n     <use xlink:href=\"#m8f422c17a9\" x=\"49.458807\" y=\"100.289034\" style=\"fill: #800080; fill-opacity: 0.5; stroke: #800080; stroke-opacity: 0.5\"/>\n     <use xlink:href=\"#m8f422c17a9\" x=\"49.458807\" y=\"139.82358\" style=\"fill: #800080; fill-opacity: 0.5; stroke: #800080; stroke-opacity: 0.5\"/>\n     <use xlink:href=\"#m8f422c17a9\" x=\"49.458807\" y=\"210.107216\" style=\"fill: #800080; fill-opacity: 0.5; stroke: #800080; stroke-opacity: 0.5\"/>\n     <use xlink:href=\"#m8f422c17a9\" x=\"49.458807\" y=\"170.57267\" style=\"fill: #800080; fill-opacity: 0.5; stroke: #800080; stroke-opacity: 0.5\"/>\n     <use xlink:href=\"#m8f422c17a9\" x=\"49.458807\" y=\"170.57267\" style=\"fill: #800080; fill-opacity: 0.5; stroke: #800080; stroke-opacity: 0.5\"/>\n     <use xlink:href=\"#m8f422c17a9\" x=\"49.458807\" y=\"170.57267\" style=\"fill: #800080; fill-opacity: 0.5; stroke: #800080; stroke-opacity: 0.5\"/>\n     <use xlink:href=\"#m8f422c17a9\" x=\"49.458807\" y=\"179.358125\" style=\"fill: #800080; fill-opacity: 0.5; stroke: #800080; stroke-opacity: 0.5\"/>\n     <use xlink:href=\"#m8f422c17a9\" x=\"49.458807\" y=\"91.50358\" style=\"fill: #800080; fill-opacity: 0.5; stroke: #800080; stroke-opacity: 0.5\"/>\n     <use xlink:href=\"#m8f422c17a9\" x=\"49.458807\" y=\"100.289034\" style=\"fill: #800080; fill-opacity: 0.5; stroke: #800080; stroke-opacity: 0.5\"/>\n     <use xlink:href=\"#m8f422c17a9\" x=\"49.458807\" y=\"190.339943\" style=\"fill: #800080; fill-opacity: 0.5; stroke: #800080; stroke-opacity: 0.5\"/>\n     <use xlink:href=\"#m8f422c17a9\" x=\"49.458807\" y=\"139.82358\" style=\"fill: #800080; fill-opacity: 0.5; stroke: #800080; stroke-opacity: 0.5\"/>\n     <use xlink:href=\"#m8f422c17a9\" x=\"49.458807\" y=\"218.89267\" style=\"fill: #800080; fill-opacity: 0.5; stroke: #800080; stroke-opacity: 0.5\"/>\n     <use xlink:href=\"#m8f422c17a9\" x=\"49.458807\" y=\"159.590852\" style=\"fill: #800080; fill-opacity: 0.5; stroke: #800080; stroke-opacity: 0.5\"/>\n     <use xlink:href=\"#m8f422c17a9\" x=\"49.458807\" y=\"218.89267\" style=\"fill: #800080; fill-opacity: 0.5; stroke: #800080; stroke-opacity: 0.5\"/>\n     <use xlink:href=\"#m8f422c17a9\" x=\"49.458807\" y=\"190.339943\" style=\"fill: #800080; fill-opacity: 0.5; stroke: #800080; stroke-opacity: 0.5\"/>\n     <use xlink:href=\"#m8f422c17a9\" x=\"49.458807\" y=\"190.339943\" style=\"fill: #800080; fill-opacity: 0.5; stroke: #800080; stroke-opacity: 0.5\"/>\n     <use xlink:href=\"#m8f422c17a9\" x=\"49.458807\" y=\"159.590852\" style=\"fill: #800080; fill-opacity: 0.5; stroke: #800080; stroke-opacity: 0.5\"/>\n     <use xlink:href=\"#m8f422c17a9\" x=\"49.458807\" y=\"131.038125\" style=\"fill: #800080; fill-opacity: 0.5; stroke: #800080; stroke-opacity: 0.5\"/>\n     <use xlink:href=\"#m8f422c17a9\" x=\"49.458807\" y=\"111.270852\" style=\"fill: #800080; fill-opacity: 0.5; stroke: #800080; stroke-opacity: 0.5\"/>\n     <use xlink:href=\"#m8f422c17a9\" x=\"49.458807\" y=\"120.056307\" style=\"fill: #800080; fill-opacity: 0.5; stroke: #800080; stroke-opacity: 0.5\"/>\n     <use xlink:href=\"#m8f422c17a9\" x=\"49.458807\" y=\"100.289034\" style=\"fill: #800080; fill-opacity: 0.5; stroke: #800080; stroke-opacity: 0.5\"/>\n     <use xlink:href=\"#m8f422c17a9\" x=\"49.458807\" y=\"131.038125\" style=\"fill: #800080; fill-opacity: 0.5; stroke: #800080; stroke-opacity: 0.5\"/>\n     <use xlink:href=\"#m8f422c17a9\" x=\"49.458807\" y=\"179.358125\" style=\"fill: #800080; fill-opacity: 0.5; stroke: #800080; stroke-opacity: 0.5\"/>\n     <use xlink:href=\"#m8f422c17a9\" x=\"49.458807\" y=\"210.107216\" style=\"fill: #800080; fill-opacity: 0.5; stroke: #800080; stroke-opacity: 0.5\"/>\n     <use xlink:href=\"#m8f422c17a9\" x=\"49.458807\" y=\"199.125398\" style=\"fill: #800080; fill-opacity: 0.5; stroke: #800080; stroke-opacity: 0.5\"/>\n     <use xlink:href=\"#m8f422c17a9\" x=\"49.458807\" y=\"120.056307\" style=\"fill: #800080; fill-opacity: 0.5; stroke: #800080; stroke-opacity: 0.5\"/>\n     <use xlink:href=\"#m8f422c17a9\" x=\"49.458807\" y=\"139.82358\" style=\"fill: #800080; fill-opacity: 0.5; stroke: #800080; stroke-opacity: 0.5\"/>\n     <use xlink:href=\"#m8f422c17a9\" x=\"49.458807\" y=\"120.056307\" style=\"fill: #800080; fill-opacity: 0.5; stroke: #800080; stroke-opacity: 0.5\"/>\n     <use xlink:href=\"#m8f422c17a9\" x=\"49.458807\" y=\"120.056307\" style=\"fill: #800080; fill-opacity: 0.5; stroke: #800080; stroke-opacity: 0.5\"/>\n     <use xlink:href=\"#m8f422c17a9\" x=\"49.458807\" y=\"120.056307\" style=\"fill: #800080; fill-opacity: 0.5; stroke: #800080; stroke-opacity: 0.5\"/>\n     <use xlink:href=\"#m8f422c17a9\" x=\"49.458807\" y=\"150.805398\" style=\"fill: #800080; fill-opacity: 0.5; stroke: #800080; stroke-opacity: 0.5\"/>\n     <use xlink:href=\"#m8f422c17a9\" x=\"49.458807\" y=\"139.82358\" style=\"fill: #800080; fill-opacity: 0.5; stroke: #800080; stroke-opacity: 0.5\"/>\n     <use xlink:href=\"#m8f422c17a9\" x=\"49.458807\" y=\"170.57267\" style=\"fill: #800080; fill-opacity: 0.5; stroke: #800080; stroke-opacity: 0.5\"/>\n     <use xlink:href=\"#m8f422c17a9\" x=\"49.458807\" y=\"100.289034\" style=\"fill: #800080; fill-opacity: 0.5; stroke: #800080; stroke-opacity: 0.5\"/>\n     <use xlink:href=\"#m8f422c17a9\" x=\"49.458807\" y=\"170.57267\" style=\"fill: #800080; fill-opacity: 0.5; stroke: #800080; stroke-opacity: 0.5\"/>\n     <use xlink:href=\"#m8f422c17a9\" x=\"49.458807\" y=\"170.57267\" style=\"fill: #800080; fill-opacity: 0.5; stroke: #800080; stroke-opacity: 0.5\"/>\n     <use xlink:href=\"#m8f422c17a9\" x=\"49.458807\" y=\"170.57267\" style=\"fill: #800080; fill-opacity: 0.5; stroke: #800080; stroke-opacity: 0.5\"/>\n     <use xlink:href=\"#m8f422c17a9\" x=\"49.458807\" y=\"120.056307\" style=\"fill: #800080; fill-opacity: 0.5; stroke: #800080; stroke-opacity: 0.5\"/>\n     <use xlink:href=\"#m8f422c17a9\" x=\"49.458807\" y=\"111.270852\" style=\"fill: #800080; fill-opacity: 0.5; stroke: #800080; stroke-opacity: 0.5\"/>\n     <use xlink:href=\"#m8f422c17a9\" x=\"49.458807\" y=\"139.82358\" style=\"fill: #800080; fill-opacity: 0.5; stroke: #800080; stroke-opacity: 0.5\"/>\n     <use xlink:href=\"#m8f422c17a9\" x=\"49.458807\" y=\"159.590852\" style=\"fill: #800080; fill-opacity: 0.5; stroke: #800080; stroke-opacity: 0.5\"/>\n     <use xlink:href=\"#m8f422c17a9\" x=\"49.458807\" y=\"179.358125\" style=\"fill: #800080; fill-opacity: 0.5; stroke: #800080; stroke-opacity: 0.5\"/>\n     <use xlink:href=\"#m8f422c17a9\" x=\"49.458807\" y=\"71.736307\" style=\"fill: #800080; fill-opacity: 0.5; stroke: #800080; stroke-opacity: 0.5\"/>\n     <use xlink:href=\"#m8f422c17a9\" x=\"49.458807\" y=\"100.289034\" style=\"fill: #800080; fill-opacity: 0.5; stroke: #800080; stroke-opacity: 0.5\"/>\n     <use xlink:href=\"#m8f422c17a9\" x=\"49.458807\" y=\"100.289034\" style=\"fill: #800080; fill-opacity: 0.5; stroke: #800080; stroke-opacity: 0.5\"/>\n     <use xlink:href=\"#m8f422c17a9\" x=\"49.458807\" y=\"131.038125\" style=\"fill: #800080; fill-opacity: 0.5; stroke: #800080; stroke-opacity: 0.5\"/>\n     <use xlink:href=\"#m8f422c17a9\" x=\"49.458807\" y=\"150.805398\" style=\"fill: #800080; fill-opacity: 0.5; stroke: #800080; stroke-opacity: 0.5\"/>\n     <use xlink:href=\"#m8f422c17a9\" x=\"49.458807\" y=\"170.57267\" style=\"fill: #800080; fill-opacity: 0.5; stroke: #800080; stroke-opacity: 0.5\"/>\n     <use xlink:href=\"#m8f422c17a9\" x=\"49.458807\" y=\"190.339943\" style=\"fill: #800080; fill-opacity: 0.5; stroke: #800080; stroke-opacity: 0.5\"/>\n     <use xlink:href=\"#m8f422c17a9\" x=\"49.458807\" y=\"120.056307\" style=\"fill: #800080; fill-opacity: 0.5; stroke: #800080; stroke-opacity: 0.5\"/>\n     <use xlink:href=\"#m8f422c17a9\" x=\"49.458807\" y=\"120.056307\" style=\"fill: #800080; fill-opacity: 0.5; stroke: #800080; stroke-opacity: 0.5\"/>\n     <use xlink:href=\"#m8f422c17a9\" x=\"49.458807\" y=\"170.57267\" style=\"fill: #800080; fill-opacity: 0.5; stroke: #800080; stroke-opacity: 0.5\"/>\n     <use xlink:href=\"#m8f422c17a9\" x=\"49.458807\" y=\"120.056307\" style=\"fill: #800080; fill-opacity: 0.5; stroke: #800080; stroke-opacity: 0.5\"/>\n     <use xlink:href=\"#m8f422c17a9\" x=\"49.458807\" y=\"120.056307\" style=\"fill: #800080; fill-opacity: 0.5; stroke: #800080; stroke-opacity: 0.5\"/>\n     <use xlink:href=\"#m8f422c17a9\" x=\"49.458807\" y=\"190.339943\" style=\"fill: #800080; fill-opacity: 0.5; stroke: #800080; stroke-opacity: 0.5\"/>\n     <use xlink:href=\"#m8f422c17a9\" x=\"49.458807\" y=\"170.57267\" style=\"fill: #800080; fill-opacity: 0.5; stroke: #800080; stroke-opacity: 0.5\"/>\n     <use xlink:href=\"#m8f422c17a9\" x=\"49.458807\" y=\"159.590852\" style=\"fill: #800080; fill-opacity: 0.5; stroke: #800080; stroke-opacity: 0.5\"/>\n     <use xlink:href=\"#m8f422c17a9\" x=\"49.458807\" y=\"218.89267\" style=\"fill: #800080; fill-opacity: 0.5; stroke: #800080; stroke-opacity: 0.5\"/>\n     <use xlink:href=\"#m8f422c17a9\" x=\"49.458807\" y=\"179.358125\" style=\"fill: #800080; fill-opacity: 0.5; stroke: #800080; stroke-opacity: 0.5\"/>\n     <use xlink:href=\"#m8f422c17a9\" x=\"49.458807\" y=\"170.57267\" style=\"fill: #800080; fill-opacity: 0.5; stroke: #800080; stroke-opacity: 0.5\"/>\n     <use xlink:href=\"#m8f422c17a9\" x=\"49.458807\" y=\"131.038125\" style=\"fill: #800080; fill-opacity: 0.5; stroke: #800080; stroke-opacity: 0.5\"/>\n     <use xlink:href=\"#m8f422c17a9\" x=\"49.458807\" y=\"170.57267\" style=\"fill: #800080; fill-opacity: 0.5; stroke: #800080; stroke-opacity: 0.5\"/>\n     <use xlink:href=\"#m8f422c17a9\" x=\"49.458807\" y=\"179.358125\" style=\"fill: #800080; fill-opacity: 0.5; stroke: #800080; stroke-opacity: 0.5\"/>\n     <use xlink:href=\"#m8f422c17a9\" x=\"49.458807\" y=\"111.270852\" style=\"fill: #800080; fill-opacity: 0.5; stroke: #800080; stroke-opacity: 0.5\"/>\n     <use xlink:href=\"#m8f422c17a9\" x=\"49.458807\" y=\"210.107216\" style=\"fill: #800080; fill-opacity: 0.5; stroke: #800080; stroke-opacity: 0.5\"/>\n     <use xlink:href=\"#m8f422c17a9\" x=\"49.458807\" y=\"170.57267\" style=\"fill: #800080; fill-opacity: 0.5; stroke: #800080; stroke-opacity: 0.5\"/>\n     <use xlink:href=\"#m8f422c17a9\" x=\"49.559253\" y=\"179.358125\" style=\"fill: #800080; fill-opacity: 0.5; stroke: #800080; stroke-opacity: 0.5\"/>\n     <use xlink:href=\"#m8f422c17a9\" x=\"49.578784\" y=\"190.339943\" style=\"fill: #800080; fill-opacity: 0.5; stroke: #800080; stroke-opacity: 0.5\"/>\n     <use xlink:href=\"#m8f422c17a9\" x=\"49.589945\" y=\"199.125398\" style=\"fill: #800080; fill-opacity: 0.5; stroke: #800080; stroke-opacity: 0.5\"/>\n     <use xlink:href=\"#m8f422c17a9\" x=\"49.612267\" y=\"139.82358\" style=\"fill: #800080; fill-opacity: 0.5; stroke: #800080; stroke-opacity: 0.5\"/>\n     <use xlink:href=\"#m8f422c17a9\" x=\"49.629008\" y=\"43.18358\" style=\"fill: #800080; fill-opacity: 0.5; stroke: #800080; stroke-opacity: 0.5\"/>\n     <use xlink:href=\"#m8f422c17a9\" x=\"49.656909\" y=\"120.056307\" style=\"fill: #800080; fill-opacity: 0.5; stroke: #800080; stroke-opacity: 0.5\"/>\n     <use xlink:href=\"#m8f422c17a9\" x=\"49.67365\" y=\"120.056307\" style=\"fill: #800080; fill-opacity: 0.5; stroke: #800080; stroke-opacity: 0.5\"/>\n     <use xlink:href=\"#m8f422c17a9\" x=\"49.709923\" y=\"150.805398\" style=\"fill: #800080; fill-opacity: 0.5; stroke: #800080; stroke-opacity: 0.5\"/>\n     <use xlink:href=\"#m8f422c17a9\" x=\"49.723874\" y=\"120.056307\" style=\"fill: #800080; fill-opacity: 0.5; stroke: #800080; stroke-opacity: 0.5\"/>\n     <use xlink:href=\"#m8f422c17a9\" x=\"49.726664\" y=\"159.590852\" style=\"fill: #800080; fill-opacity: 0.5; stroke: #800080; stroke-opacity: 0.5\"/>\n     <use xlink:href=\"#m8f422c17a9\" x=\"49.757356\" y=\"91.50358\" style=\"fill: #800080; fill-opacity: 0.5; stroke: #800080; stroke-opacity: 0.5\"/>\n     <use xlink:href=\"#m8f422c17a9\" x=\"49.771307\" y=\"139.82358\" style=\"fill: #800080; fill-opacity: 0.5; stroke: #800080; stroke-opacity: 0.5\"/>\n     <use xlink:href=\"#m8f422c17a9\" x=\"49.790838\" y=\"120.056307\" style=\"fill: #800080; fill-opacity: 0.5; stroke: #800080; stroke-opacity: 0.5\"/>\n     <use xlink:href=\"#m8f422c17a9\" x=\"49.838271\" y=\"190.339943\" style=\"fill: #800080; fill-opacity: 0.5; stroke: #800080; stroke-opacity: 0.5\"/>\n     <use xlink:href=\"#m8f422c17a9\" x=\"49.857802\" y=\"199.125398\" style=\"fill: #800080; fill-opacity: 0.5; stroke: #800080; stroke-opacity: 0.5\"/>\n     <use xlink:href=\"#m8f422c17a9\" x=\"49.866173\" y=\"131.038125\" style=\"fill: #800080; fill-opacity: 0.5; stroke: #800080; stroke-opacity: 0.5\"/>\n     <use xlink:href=\"#m8f422c17a9\" x=\"49.866173\" y=\"179.358125\" style=\"fill: #800080; fill-opacity: 0.5; stroke: #800080; stroke-opacity: 0.5\"/>\n     <use xlink:href=\"#m8f422c17a9\" x=\"49.894074\" y=\"210.107216\" style=\"fill: #800080; fill-opacity: 0.5; stroke: #800080; stroke-opacity: 0.5\"/>\n     <use xlink:href=\"#m8f422c17a9\" x=\"49.908025\" y=\"190.339943\" style=\"fill: #800080; fill-opacity: 0.5; stroke: #800080; stroke-opacity: 0.5\"/>\n     <use xlink:href=\"#m8f422c17a9\" x=\"49.913606\" y=\"159.590852\" style=\"fill: #800080; fill-opacity: 0.5; stroke: #800080; stroke-opacity: 0.5\"/>\n     <use xlink:href=\"#m8f422c17a9\" x=\"49.916396\" y=\"150.805398\" style=\"fill: #800080; fill-opacity: 0.5; stroke: #800080; stroke-opacity: 0.5\"/>\n     <use xlink:href=\"#m8f422c17a9\" x=\"49.930347\" y=\"111.270852\" style=\"fill: #800080; fill-opacity: 0.5; stroke: #800080; stroke-opacity: 0.5\"/>\n     <use xlink:href=\"#m8f422c17a9\" x=\"49.947088\" y=\"170.57267\" style=\"fill: #800080; fill-opacity: 0.5; stroke: #800080; stroke-opacity: 0.5\"/>\n     <use xlink:href=\"#m8f422c17a9\" x=\"49.98894\" y=\"150.805398\" style=\"fill: #800080; fill-opacity: 0.5; stroke: #800080; stroke-opacity: 0.5\"/>\n     <use xlink:href=\"#m8f422c17a9\" x=\"50.000101\" y=\"51.969034\" style=\"fill: #800080; fill-opacity: 0.5; stroke: #800080; stroke-opacity: 0.5\"/>\n     <use xlink:href=\"#m8f422c17a9\" x=\"50.002891\" y=\"199.125398\" style=\"fill: #800080; fill-opacity: 0.5; stroke: #800080; stroke-opacity: 0.5\"/>\n     <use xlink:href=\"#m8f422c17a9\" x=\"50.019632\" y=\"190.339943\" style=\"fill: #800080; fill-opacity: 0.5; stroke: #800080; stroke-opacity: 0.5\"/>\n     <use xlink:href=\"#m8f422c17a9\" x=\"50.055905\" y=\"139.82358\" style=\"fill: #800080; fill-opacity: 0.5; stroke: #800080; stroke-opacity: 0.5\"/>\n     <use xlink:href=\"#m8f422c17a9\" x=\"50.097757\" y=\"218.89267\" style=\"fill: #800080; fill-opacity: 0.5; stroke: #800080; stroke-opacity: 0.5\"/>\n     <use xlink:href=\"#m8f422c17a9\" x=\"50.159141\" y=\"139.82358\" style=\"fill: #800080; fill-opacity: 0.5; stroke: #800080; stroke-opacity: 0.5\"/>\n     <use xlink:href=\"#m8f422c17a9\" x=\"50.164722\" y=\"32.201761\" style=\"fill: #800080; fill-opacity: 0.5; stroke: #800080; stroke-opacity: 0.5\"/>\n     <use xlink:href=\"#m8f422c17a9\" x=\"50.170302\" y=\"190.339943\" style=\"fill: #800080; fill-opacity: 0.5; stroke: #800080; stroke-opacity: 0.5\"/>\n     <use xlink:href=\"#m8f422c17a9\" x=\"50.175882\" y=\"199.125398\" style=\"fill: #800080; fill-opacity: 0.5; stroke: #800080; stroke-opacity: 0.5\"/>\n     <use xlink:href=\"#m8f422c17a9\" x=\"50.209364\" y=\"150.805398\" style=\"fill: #800080; fill-opacity: 0.5; stroke: #800080; stroke-opacity: 0.5\"/>\n     <use xlink:href=\"#m8f422c17a9\" x=\"50.223315\" y=\"120.056307\" style=\"fill: #800080; fill-opacity: 0.5; stroke: #800080; stroke-opacity: 0.5\"/>\n     <use xlink:href=\"#m8f422c17a9\" x=\"50.315391\" y=\"190.339943\" style=\"fill: #800080; fill-opacity: 0.5; stroke: #800080; stroke-opacity: 0.5\"/>\n     <use xlink:href=\"#m8f422c17a9\" x=\"50.435369\" y=\"199.125398\" style=\"fill: #800080; fill-opacity: 0.5; stroke: #800080; stroke-opacity: 0.5\"/>\n     <use xlink:href=\"#m8f422c17a9\" x=\"50.722757\" y=\"131.038125\" style=\"fill: #800080; fill-opacity: 0.5; stroke: #800080; stroke-opacity: 0.5\"/>\n     <use xlink:href=\"#m8f422c17a9\" x=\"50.745078\" y=\"111.270852\" style=\"fill: #800080; fill-opacity: 0.5; stroke: #800080; stroke-opacity: 0.5\"/>\n     <use xlink:href=\"#m8f422c17a9\" x=\"50.7674\" y=\"179.358125\" style=\"fill: #800080; fill-opacity: 0.5; stroke: #800080; stroke-opacity: 0.5\"/>\n     <use xlink:href=\"#m8f422c17a9\" x=\"50.820413\" y=\"190.339943\" style=\"fill: #800080; fill-opacity: 0.5; stroke: #800080; stroke-opacity: 0.5\"/>\n     <use xlink:href=\"#m8f422c17a9\" x=\"50.918069\" y=\"120.056307\" style=\"fill: #800080; fill-opacity: 0.5; stroke: #800080; stroke-opacity: 0.5\"/>\n     <use xlink:href=\"#m8f422c17a9\" x=\"50.945971\" y=\"91.50358\" style=\"fill: #800080; fill-opacity: 0.5; stroke: #800080; stroke-opacity: 0.5\"/>\n     <use xlink:href=\"#m8f422c17a9\" x=\"50.976663\" y=\"150.805398\" style=\"fill: #800080; fill-opacity: 0.5; stroke: #800080; stroke-opacity: 0.5\"/>\n     <use xlink:href=\"#m8f422c17a9\" x=\"51.23894\" y=\"190.339943\" style=\"fill: #800080; fill-opacity: 0.5; stroke: #800080; stroke-opacity: 0.5\"/>\n     <use xlink:href=\"#m8f422c17a9\" x=\"51.364498\" y=\"139.82358\" style=\"fill: #800080; fill-opacity: 0.5; stroke: #800080; stroke-opacity: 0.5\"/>\n     <use xlink:href=\"#m8f422c17a9\" x=\"51.40077\" y=\"131.038125\" style=\"fill: #800080; fill-opacity: 0.5; stroke: #800080; stroke-opacity: 0.5\"/>\n     <use xlink:href=\"#m8f422c17a9\" x=\"51.423091\" y=\"170.57267\" style=\"fill: #800080; fill-opacity: 0.5; stroke: #800080; stroke-opacity: 0.5\"/>\n     <use xlink:href=\"#m8f422c17a9\" x=\"51.464944\" y=\"111.270852\" style=\"fill: #800080; fill-opacity: 0.5; stroke: #800080; stroke-opacity: 0.5\"/>\n     <use xlink:href=\"#m8f422c17a9\" x=\"51.495636\" y=\"190.339943\" style=\"fill: #800080; fill-opacity: 0.5; stroke: #800080; stroke-opacity: 0.5\"/>\n     <use xlink:href=\"#m8f422c17a9\" x=\"51.523538\" y=\"218.89267\" style=\"fill: #800080; fill-opacity: 0.5; stroke: #800080; stroke-opacity: 0.5\"/>\n     <use xlink:href=\"#m8f422c17a9\" x=\"51.757912\" y=\"150.805398\" style=\"fill: #800080; fill-opacity: 0.5; stroke: #800080; stroke-opacity: 0.5\"/>\n     <use xlink:href=\"#m8f422c17a9\" x=\"51.777444\" y=\"150.805398\" style=\"fill: #800080; fill-opacity: 0.5; stroke: #800080; stroke-opacity: 0.5\"/>\n     <use xlink:href=\"#m8f422c17a9\" x=\"51.88068\" y=\"179.358125\" style=\"fill: #800080; fill-opacity: 0.5; stroke: #800080; stroke-opacity: 0.5\"/>\n     <use xlink:href=\"#m8f422c17a9\" x=\"51.889051\" y=\"139.82358\" style=\"fill: #800080; fill-opacity: 0.5; stroke: #800080; stroke-opacity: 0.5\"/>\n     <use xlink:href=\"#m8f422c17a9\" x=\"52.084363\" y=\"150.805398\" style=\"fill: #800080; fill-opacity: 0.5; stroke: #800080; stroke-opacity: 0.5\"/>\n     <use xlink:href=\"#m8f422c17a9\" x=\"52.251774\" y=\"139.82358\" style=\"fill: #800080; fill-opacity: 0.5; stroke: #800080; stroke-opacity: 0.5\"/>\n     <use xlink:href=\"#m8f422c17a9\" x=\"52.254564\" y=\"120.056307\" style=\"fill: #800080; fill-opacity: 0.5; stroke: #800080; stroke-opacity: 0.5\"/>\n     <use xlink:href=\"#m8f422c17a9\" x=\"52.50847\" y=\"111.270852\" style=\"fill: #800080; fill-opacity: 0.5; stroke: #800080; stroke-opacity: 0.5\"/>\n     <use xlink:href=\"#m8f422c17a9\" x=\"52.544742\" y=\"218.89267\" style=\"fill: #800080; fill-opacity: 0.5; stroke: #800080; stroke-opacity: 0.5\"/>\n     <use xlink:href=\"#m8f422c17a9\" x=\"52.594965\" y=\"100.289034\" style=\"fill: #800080; fill-opacity: 0.5; stroke: #800080; stroke-opacity: 0.5\"/>\n     <use xlink:href=\"#m8f422c17a9\" x=\"52.617287\" y=\"159.590852\" style=\"fill: #800080; fill-opacity: 0.5; stroke: #800080; stroke-opacity: 0.5\"/>\n     <use xlink:href=\"#m8f422c17a9\" x=\"52.675881\" y=\"190.339943\" style=\"fill: #800080; fill-opacity: 0.5; stroke: #800080; stroke-opacity: 0.5\"/>\n     <use xlink:href=\"#m8f422c17a9\" x=\"52.834921\" y=\"159.590852\" style=\"fill: #800080; fill-opacity: 0.5; stroke: #800080; stroke-opacity: 0.5\"/>\n     <use xlink:href=\"#m8f422c17a9\" x=\"53.099987\" y=\"190.339943\" style=\"fill: #800080; fill-opacity: 0.5; stroke: #800080; stroke-opacity: 0.5\"/>\n     <use xlink:href=\"#m8f422c17a9\" x=\"53.281349\" y=\"179.358125\" style=\"fill: #800080; fill-opacity: 0.5; stroke: #800080; stroke-opacity: 0.5\"/>\n     <use xlink:href=\"#m8f422c17a9\" x=\"53.362264\" y=\"150.805398\" style=\"fill: #800080; fill-opacity: 0.5; stroke: #800080; stroke-opacity: 0.5\"/>\n     <use xlink:href=\"#m8f422c17a9\" x=\"53.524094\" y=\"199.125398\" style=\"fill: #800080; fill-opacity: 0.5; stroke: #800080; stroke-opacity: 0.5\"/>\n     <use xlink:href=\"#m8f422c17a9\" x=\"53.76963\" y=\"80.521761\" style=\"fill: #800080; fill-opacity: 0.5; stroke: #800080; stroke-opacity: 0.5\"/>\n     <use xlink:href=\"#m8f422c17a9\" x=\"54.257911\" y=\"190.339943\" style=\"fill: #800080; fill-opacity: 0.5; stroke: #800080; stroke-opacity: 0.5\"/>\n     <use xlink:href=\"#m8f422c17a9\" x=\"54.824317\" y=\"100.289034\" style=\"fill: #800080; fill-opacity: 0.5; stroke: #800080; stroke-opacity: 0.5\"/>\n     <use xlink:href=\"#m8f422c17a9\" x=\"55.99061\" y=\"131.038125\" style=\"fill: #800080; fill-opacity: 0.5; stroke: #800080; stroke-opacity: 0.5\"/>\n     <use xlink:href=\"#m8f422c17a9\" x=\"56.219405\" y=\"170.57267\" style=\"fill: #800080; fill-opacity: 0.5; stroke: #800080; stroke-opacity: 0.5\"/>\n     <use xlink:href=\"#m8f422c17a9\" x=\"56.713266\" y=\"111.270852\" style=\"fill: #800080; fill-opacity: 0.5; stroke: #800080; stroke-opacity: 0.5\"/>\n     <use xlink:href=\"#m8f422c17a9\" x=\"56.749539\" y=\"131.038125\" style=\"fill: #800080; fill-opacity: 0.5; stroke: #800080; stroke-opacity: 0.5\"/>\n     <use xlink:href=\"#m8f422c17a9\" x=\"57.08994\" y=\"111.270852\" style=\"fill: #800080; fill-opacity: 0.5; stroke: #800080; stroke-opacity: 0.5\"/>\n     <use xlink:href=\"#m8f422c17a9\" x=\"57.455453\" y=\"131.038125\" style=\"fill: #800080; fill-opacity: 0.5; stroke: #800080; stroke-opacity: 0.5\"/>\n     <use xlink:href=\"#m8f422c17a9\" x=\"57.455453\" y=\"131.038125\" style=\"fill: #800080; fill-opacity: 0.5; stroke: #800080; stroke-opacity: 0.5\"/>\n     <use xlink:href=\"#m8f422c17a9\" x=\"57.684248\" y=\"210.107216\" style=\"fill: #800080; fill-opacity: 0.5; stroke: #800080; stroke-opacity: 0.5\"/>\n     <use xlink:href=\"#m8f422c17a9\" x=\"57.918623\" y=\"100.289034\" style=\"fill: #800080; fill-opacity: 0.5; stroke: #800080; stroke-opacity: 0.5\"/>\n     <use xlink:href=\"#m8f422c17a9\" x=\"58.309247\" y=\"210.107216\" style=\"fill: #800080; fill-opacity: 0.5; stroke: #800080; stroke-opacity: 0.5\"/>\n     <use xlink:href=\"#m8f422c17a9\" x=\"58.34831\" y=\"170.57267\" style=\"fill: #800080; fill-opacity: 0.5; stroke: #800080; stroke-opacity: 0.5\"/>\n     <use xlink:href=\"#m8f422c17a9\" x=\"58.406904\" y=\"170.57267\" style=\"fill: #800080; fill-opacity: 0.5; stroke: #800080; stroke-opacity: 0.5\"/>\n     <use xlink:href=\"#m8f422c17a9\" x=\"59.469961\" y=\"159.590852\" style=\"fill: #800080; fill-opacity: 0.5; stroke: #800080; stroke-opacity: 0.5\"/>\n     <use xlink:href=\"#m8f422c17a9\" x=\"59.740608\" y=\"111.270852\" style=\"fill: #800080; fill-opacity: 0.5; stroke: #800080; stroke-opacity: 0.5\"/>\n     <use xlink:href=\"#m8f422c17a9\" x=\"59.788041\" y=\"159.590852\" style=\"fill: #800080; fill-opacity: 0.5; stroke: #800080; stroke-opacity: 0.5\"/>\n     <use xlink:href=\"#m8f422c17a9\" x=\"59.980563\" y=\"139.82358\" style=\"fill: #800080; fill-opacity: 0.5; stroke: #800080; stroke-opacity: 0.5\"/>\n     <use xlink:href=\"#m8f422c17a9\" x=\"63.005115\" y=\"131.038125\" style=\"fill: #800080; fill-opacity: 0.5; stroke: #800080; stroke-opacity: 0.5\"/>\n     <use xlink:href=\"#m8f422c17a9\" x=\"63.233909\" y=\"150.805398\" style=\"fill: #800080; fill-opacity: 0.5; stroke: #800080; stroke-opacity: 0.5\"/>\n     <use xlink:href=\"#m8f422c17a9\" x=\"65.725537\" y=\"139.82358\" style=\"fill: #800080; fill-opacity: 0.5; stroke: #800080; stroke-opacity: 0.5\"/>\n     <use xlink:href=\"#m8f422c17a9\" x=\"67.34384\" y=\"170.57267\" style=\"fill: #800080; fill-opacity: 0.5; stroke: #800080; stroke-opacity: 0.5\"/>\n     <use xlink:href=\"#m8f422c17a9\" x=\"69.352767\" y=\"150.805398\" style=\"fill: #800080; fill-opacity: 0.5; stroke: #800080; stroke-opacity: 0.5\"/>\n     <use xlink:href=\"#m8f422c17a9\" x=\"74.149081\" y=\"139.82358\" style=\"fill: #800080; fill-opacity: 0.5; stroke: #800080; stroke-opacity: 0.5\"/>\n     <use xlink:href=\"#m8f422c17a9\" x=\"76.015709\" y=\"170.57267\" style=\"fill: #800080; fill-opacity: 0.5; stroke: #800080; stroke-opacity: 0.5\"/>\n     <use xlink:href=\"#m8f422c17a9\" x=\"78.306444\" y=\"179.358125\" style=\"fill: #800080; fill-opacity: 0.5; stroke: #800080; stroke-opacity: 0.5\"/>\n     <use xlink:href=\"#m8f422c17a9\" x=\"78.939814\" y=\"170.57267\" style=\"fill: #800080; fill-opacity: 0.5; stroke: #800080; stroke-opacity: 0.5\"/>\n     <use xlink:href=\"#m8f422c17a9\" x=\"92.673064\" y=\"170.57267\" style=\"fill: #800080; fill-opacity: 0.5; stroke: #800080; stroke-opacity: 0.5\"/>\n     <use xlink:href=\"#m8f422c17a9\" x=\"104.280199\" y=\"111.270852\" style=\"fill: #800080; fill-opacity: 0.5; stroke: #800080; stroke-opacity: 0.5\"/>\n     <use xlink:href=\"#m8f422c17a9\" x=\"105.524618\" y=\"199.125398\" style=\"fill: #800080; fill-opacity: 0.5; stroke: #800080; stroke-opacity: 0.5\"/>\n     <use xlink:href=\"#m8f422c17a9\" x=\"108.856089\" y=\"190.339943\" style=\"fill: #800080; fill-opacity: 0.5; stroke: #800080; stroke-opacity: 0.5\"/>\n     <use xlink:href=\"#m8f422c17a9\" x=\"353.822443\" y=\"150.805398\" style=\"fill: #800080; fill-opacity: 0.5; stroke: #800080; stroke-opacity: 0.5\"/>\n     <use xlink:href=\"#m8f422c17a9\" x=\"49.458807\" y=\"199.125398\" style=\"fill: #800080; fill-opacity: 0.5; stroke: #800080; stroke-opacity: 0.5\"/>\n     <use xlink:href=\"#m8f422c17a9\" x=\"49.458807\" y=\"179.358125\" style=\"fill: #800080; fill-opacity: 0.5; stroke: #800080; stroke-opacity: 0.5\"/>\n     <use xlink:href=\"#m8f422c17a9\" x=\"49.458807\" y=\"170.57267\" style=\"fill: #800080; fill-opacity: 0.5; stroke: #800080; stroke-opacity: 0.5\"/>\n     <use xlink:href=\"#m8f422c17a9\" x=\"52.285256\" y=\"150.805398\" style=\"fill: #800080; fill-opacity: 0.5; stroke: #800080; stroke-opacity: 0.5\"/>\n     <use xlink:href=\"#m8f422c17a9\" x=\"49.458807\" y=\"71.736307\" style=\"fill: #800080; fill-opacity: 0.5; stroke: #800080; stroke-opacity: 0.5\"/>\n     <use xlink:href=\"#m8f422c17a9\" x=\"50.259588\" y=\"71.736307\" style=\"fill: #800080; fill-opacity: 0.5; stroke: #800080; stroke-opacity: 0.5\"/>\n     <use xlink:href=\"#m8f422c17a9\" x=\"49.67086\" y=\"100.289034\" style=\"fill: #800080; fill-opacity: 0.5; stroke: #800080; stroke-opacity: 0.5\"/>\n     <use xlink:href=\"#m8f422c17a9\" x=\"49.483918\" y=\"120.056307\" style=\"fill: #800080; fill-opacity: 0.5; stroke: #800080; stroke-opacity: 0.5\"/>\n     <use xlink:href=\"#m8f422c17a9\" x=\"49.66807\" y=\"190.339943\" style=\"fill: #800080; fill-opacity: 0.5; stroke: #800080; stroke-opacity: 0.5\"/>\n     <use xlink:href=\"#m8f422c17a9\" x=\"49.458807\" y=\"179.358125\" style=\"fill: #800080; fill-opacity: 0.5; stroke: #800080; stroke-opacity: 0.5\"/>\n     <use xlink:href=\"#m8f422c17a9\" x=\"50.14798\" y=\"229.874489\" style=\"fill: #800080; fill-opacity: 0.5; stroke: #800080; stroke-opacity: 0.5\"/>\n     <use xlink:href=\"#m8f422c17a9\" x=\"49.648539\" y=\"170.57267\" style=\"fill: #800080; fill-opacity: 0.5; stroke: #800080; stroke-opacity: 0.5\"/>\n     <use xlink:href=\"#m8f422c17a9\" x=\"49.525771\" y=\"170.57267\" style=\"fill: #800080; fill-opacity: 0.5; stroke: #800080; stroke-opacity: 0.5\"/>\n     <use xlink:href=\"#m8f422c17a9\" x=\"49.517401\" y=\"159.590852\" style=\"fill: #800080; fill-opacity: 0.5; stroke: #800080; stroke-opacity: 0.5\"/>\n     <use xlink:href=\"#m8f422c17a9\" x=\"49.882914\" y=\"179.358125\" style=\"fill: #800080; fill-opacity: 0.5; stroke: #800080; stroke-opacity: 0.5\"/>\n     <use xlink:href=\"#m8f422c17a9\" x=\"52.34385\" y=\"170.57267\" style=\"fill: #800080; fill-opacity: 0.5; stroke: #800080; stroke-opacity: 0.5\"/>\n     <use xlink:href=\"#m8f422c17a9\" x=\"49.458807\" y=\"150.805398\" style=\"fill: #800080; fill-opacity: 0.5; stroke: #800080; stroke-opacity: 0.5\"/>\n     <use xlink:href=\"#m8f422c17a9\" x=\"51.696529\" y=\"190.339943\" style=\"fill: #800080; fill-opacity: 0.5; stroke: #800080; stroke-opacity: 0.5\"/>\n     <use xlink:href=\"#m8f422c17a9\" x=\"49.648539\" y=\"179.358125\" style=\"fill: #800080; fill-opacity: 0.5; stroke: #800080; stroke-opacity: 0.5\"/>\n     <use xlink:href=\"#m8f422c17a9\" x=\"49.458807\" y=\"218.89267\" style=\"fill: #800080; fill-opacity: 0.5; stroke: #800080; stroke-opacity: 0.5\"/>\n     <use xlink:href=\"#m8f422c17a9\" x=\"49.843851\" y=\"199.125398\" style=\"fill: #800080; fill-opacity: 0.5; stroke: #800080; stroke-opacity: 0.5\"/>\n     <use xlink:href=\"#m8f422c17a9\" x=\"51.928113\" y=\"150.805398\" style=\"fill: #800080; fill-opacity: 0.5; stroke: #800080; stroke-opacity: 0.5\"/>\n     <use xlink:href=\"#m8f422c17a9\" x=\"50.379565\" y=\"71.736307\" style=\"fill: #800080; fill-opacity: 0.5; stroke: #800080; stroke-opacity: 0.5\"/>\n     <use xlink:href=\"#m8f422c17a9\" x=\"50.644632\" y=\"170.57267\" style=\"fill: #800080; fill-opacity: 0.5; stroke: #800080; stroke-opacity: 0.5\"/>\n     <use xlink:href=\"#m8f422c17a9\" x=\"49.894074\" y=\"159.590852\" style=\"fill: #800080; fill-opacity: 0.5; stroke: #800080; stroke-opacity: 0.5\"/>\n     <use xlink:href=\"#m8f422c17a9\" x=\"51.283582\" y=\"170.57267\" style=\"fill: #800080; fill-opacity: 0.5; stroke: #800080; stroke-opacity: 0.5\"/>\n     <use xlink:href=\"#m8f422c17a9\" x=\"49.679231\" y=\"71.736307\" style=\"fill: #800080; fill-opacity: 0.5; stroke: #800080; stroke-opacity: 0.5\"/>\n     <use xlink:href=\"#m8f422c17a9\" x=\"49.50624\" y=\"150.805398\" style=\"fill: #800080; fill-opacity: 0.5; stroke: #800080; stroke-opacity: 0.5\"/>\n     <use xlink:href=\"#m8f422c17a9\" x=\"49.458807\" y=\"170.57267\" style=\"fill: #800080; fill-opacity: 0.5; stroke: #800080; stroke-opacity: 0.5\"/>\n     <use xlink:href=\"#m8f422c17a9\" x=\"49.458807\" y=\"170.57267\" style=\"fill: #800080; fill-opacity: 0.5; stroke: #800080; stroke-opacity: 0.5\"/>\n     <use xlink:href=\"#m8f422c17a9\" x=\"50.686485\" y=\"179.358125\" style=\"fill: #800080; fill-opacity: 0.5; stroke: #800080; stroke-opacity: 0.5\"/>\n     <use xlink:href=\"#m8f422c17a9\" x=\"49.603896\" y=\"170.57267\" style=\"fill: #800080; fill-opacity: 0.5; stroke: #800080; stroke-opacity: 0.5\"/>\n     <use xlink:href=\"#m8f422c17a9\" x=\"52.045301\" y=\"139.82358\" style=\"fill: #800080; fill-opacity: 0.5; stroke: #800080; stroke-opacity: 0.5\"/>\n     <use xlink:href=\"#m8f422c17a9\" x=\"50.320971\" y=\"150.805398\" style=\"fill: #800080; fill-opacity: 0.5; stroke: #800080; stroke-opacity: 0.5\"/>\n     <use xlink:href=\"#m8f422c17a9\" x=\"51.964386\" y=\"51.969034\" style=\"fill: #800080; fill-opacity: 0.5; stroke: #800080; stroke-opacity: 0.5\"/>\n     <use xlink:href=\"#m8f422c17a9\" x=\"52.581015\" y=\"62.950852\" style=\"fill: #800080; fill-opacity: 0.5; stroke: #800080; stroke-opacity: 0.5\"/>\n     <use xlink:href=\"#m8f422c17a9\" x=\"50.959922\" y=\"131.038125\" style=\"fill: #800080; fill-opacity: 0.5; stroke: #800080; stroke-opacity: 0.5\"/>\n     <use xlink:href=\"#m8f422c17a9\" x=\"54.439272\" y=\"51.969034\" style=\"fill: #800080; fill-opacity: 0.5; stroke: #800080; stroke-opacity: 0.5\"/>\n     <use xlink:href=\"#m8f422c17a9\" x=\"52.452666\" y=\"51.969034\" style=\"fill: #800080; fill-opacity: 0.5; stroke: #800080; stroke-opacity: 0.5\"/>\n     <use xlink:href=\"#m8f422c17a9\" x=\"55.605566\" y=\"51.969034\" style=\"fill: #800080; fill-opacity: 0.5; stroke: #800080; stroke-opacity: 0.5\"/>\n     <use xlink:href=\"#m8f422c17a9\" x=\"52.184809\" y=\"51.969034\" style=\"fill: #800080; fill-opacity: 0.5; stroke: #800080; stroke-opacity: 0.5\"/>\n     <use xlink:href=\"#m8f422c17a9\" x=\"52.045301\" y=\"131.038125\" style=\"fill: #800080; fill-opacity: 0.5; stroke: #800080; stroke-opacity: 0.5\"/>\n     <use xlink:href=\"#m8f422c17a9\" x=\"56.370075\" y=\"51.969034\" style=\"fill: #800080; fill-opacity: 0.5; stroke: #800080; stroke-opacity: 0.5\"/>\n     <use xlink:href=\"#m8f422c17a9\" x=\"49.458807\" y=\"150.805398\" style=\"fill: #800080; fill-opacity: 0.5; stroke: #800080; stroke-opacity: 0.5\"/>\n     <use xlink:href=\"#m8f422c17a9\" x=\"49.765726\" y=\"170.57267\" style=\"fill: #800080; fill-opacity: 0.5; stroke: #800080; stroke-opacity: 0.5\"/>\n     <use xlink:href=\"#m8f422c17a9\" x=\"56.222195\" y=\"62.950852\" style=\"fill: #800080; fill-opacity: 0.5; stroke: #800080; stroke-opacity: 0.5\"/>\n     <use xlink:href=\"#m8f422c17a9\" x=\"49.458807\" y=\"100.289034\" style=\"fill: #800080; fill-opacity: 0.5; stroke: #800080; stroke-opacity: 0.5\"/>\n     <use xlink:href=\"#m8f422c17a9\" x=\"49.458807\" y=\"71.736307\" style=\"fill: #800080; fill-opacity: 0.5; stroke: #800080; stroke-opacity: 0.5\"/>\n     <use xlink:href=\"#m8f422c17a9\" x=\"49.458807\" y=\"179.358125\" style=\"fill: #800080; fill-opacity: 0.5; stroke: #800080; stroke-opacity: 0.5\"/>\n     <use xlink:href=\"#m8f422c17a9\" x=\"49.458807\" y=\"199.125398\" style=\"fill: #800080; fill-opacity: 0.5; stroke: #800080; stroke-opacity: 0.5\"/>\n     <use xlink:href=\"#m8f422c17a9\" x=\"49.458807\" y=\"199.125398\" style=\"fill: #800080; fill-opacity: 0.5; stroke: #800080; stroke-opacity: 0.5\"/>\n     <use xlink:href=\"#m8f422c17a9\" x=\"49.458807\" y=\"199.125398\" style=\"fill: #800080; fill-opacity: 0.5; stroke: #800080; stroke-opacity: 0.5\"/>\n     <use xlink:href=\"#m8f422c17a9\" x=\"51.690948\" y=\"218.89267\" style=\"fill: #800080; fill-opacity: 0.5; stroke: #800080; stroke-opacity: 0.5\"/>\n     <use xlink:href=\"#m8f422c17a9\" x=\"50.195413\" y=\"210.107216\" style=\"fill: #800080; fill-opacity: 0.5; stroke: #800080; stroke-opacity: 0.5\"/>\n     <use xlink:href=\"#m8f422c17a9\" x=\"73.579884\" y=\"120.056307\" style=\"fill: #800080; fill-opacity: 0.5; stroke: #800080; stroke-opacity: 0.5\"/>\n     <use xlink:href=\"#m8f422c17a9\" x=\"51.291953\" y=\"159.590852\" style=\"fill: #800080; fill-opacity: 0.5; stroke: #800080; stroke-opacity: 0.5\"/>\n     <use xlink:href=\"#m8f422c17a9\" x=\"49.458807\" y=\"210.107216\" style=\"fill: #800080; fill-opacity: 0.5; stroke: #800080; stroke-opacity: 0.5\"/>\n     <use xlink:href=\"#m8f422c17a9\" x=\"49.709923\" y=\"199.125398\" style=\"fill: #800080; fill-opacity: 0.5; stroke: #800080; stroke-opacity: 0.5\"/>\n     <use xlink:href=\"#m8f422c17a9\" x=\"49.458807\" y=\"190.339943\" style=\"fill: #800080; fill-opacity: 0.5; stroke: #800080; stroke-opacity: 0.5\"/>\n     <use xlink:href=\"#m8f422c17a9\" x=\"49.458807\" y=\"131.038125\" style=\"fill: #800080; fill-opacity: 0.5; stroke: #800080; stroke-opacity: 0.5\"/>\n     <use xlink:href=\"#m8f422c17a9\" x=\"49.458807\" y=\"179.358125\" style=\"fill: #800080; fill-opacity: 0.5; stroke: #800080; stroke-opacity: 0.5\"/>\n     <use xlink:href=\"#m8f422c17a9\" x=\"49.458807\" y=\"131.038125\" style=\"fill: #800080; fill-opacity: 0.5; stroke: #800080; stroke-opacity: 0.5\"/>\n     <use xlink:href=\"#m8f422c17a9\" x=\"50.440949\" y=\"120.056307\" style=\"fill: #800080; fill-opacity: 0.5; stroke: #800080; stroke-opacity: 0.5\"/>\n     <use xlink:href=\"#m8f422c17a9\" x=\"49.458807\" y=\"139.82358\" style=\"fill: #800080; fill-opacity: 0.5; stroke: #800080; stroke-opacity: 0.5\"/>\n     <use xlink:href=\"#m8f422c17a9\" x=\"49.458807\" y=\"139.82358\" style=\"fill: #800080; fill-opacity: 0.5; stroke: #800080; stroke-opacity: 0.5\"/>\n     <use xlink:href=\"#m8f422c17a9\" x=\"49.458807\" y=\"131.038125\" style=\"fill: #800080; fill-opacity: 0.5; stroke: #800080; stroke-opacity: 0.5\"/>\n     <use xlink:href=\"#m8f422c17a9\" x=\"49.458807\" y=\"190.339943\" style=\"fill: #800080; fill-opacity: 0.5; stroke: #800080; stroke-opacity: 0.5\"/>\n     <use xlink:href=\"#m8f422c17a9\" x=\"49.573204\" y=\"120.056307\" style=\"fill: #800080; fill-opacity: 0.5; stroke: #800080; stroke-opacity: 0.5\"/>\n     <use xlink:href=\"#m8f422c17a9\" x=\"50.904118\" y=\"159.590852\" style=\"fill: #800080; fill-opacity: 0.5; stroke: #800080; stroke-opacity: 0.5\"/>\n     <use xlink:href=\"#m8f422c17a9\" x=\"49.458807\" y=\"199.125398\" style=\"fill: #800080; fill-opacity: 0.5; stroke: #800080; stroke-opacity: 0.5\"/>\n     <use xlink:href=\"#m8f422c17a9\" x=\"49.458807\" y=\"190.339943\" style=\"fill: #800080; fill-opacity: 0.5; stroke: #800080; stroke-opacity: 0.5\"/>\n     <use xlink:href=\"#m8f422c17a9\" x=\"49.458807\" y=\"179.358125\" style=\"fill: #800080; fill-opacity: 0.5; stroke: #800080; stroke-opacity: 0.5\"/>\n     <use xlink:href=\"#m8f422c17a9\" x=\"53.445969\" y=\"199.125398\" style=\"fill: #800080; fill-opacity: 0.5; stroke: #800080; stroke-opacity: 0.5\"/>\n     <use xlink:href=\"#m8f422c17a9\" x=\"49.458807\" y=\"100.289034\" style=\"fill: #800080; fill-opacity: 0.5; stroke: #800080; stroke-opacity: 0.5\"/>\n     <use xlink:href=\"#m8f422c17a9\" x=\"49.458807\" y=\"131.038125\" style=\"fill: #800080; fill-opacity: 0.5; stroke: #800080; stroke-opacity: 0.5\"/>\n     <use xlink:href=\"#m8f422c17a9\" x=\"49.899655\" y=\"199.125398\" style=\"fill: #800080; fill-opacity: 0.5; stroke: #800080; stroke-opacity: 0.5\"/>\n     <use xlink:href=\"#m8f422c17a9\" x=\"49.458807\" y=\"179.358125\" style=\"fill: #800080; fill-opacity: 0.5; stroke: #800080; stroke-opacity: 0.5\"/>\n     <use xlink:href=\"#m8f422c17a9\" x=\"49.458807\" y=\"111.270852\" style=\"fill: #800080; fill-opacity: 0.5; stroke: #800080; stroke-opacity: 0.5\"/>\n     <use xlink:href=\"#m8f422c17a9\" x=\"50.513494\" y=\"131.038125\" style=\"fill: #800080; fill-opacity: 0.5; stroke: #800080; stroke-opacity: 0.5\"/>\n     <use xlink:href=\"#m8f422c17a9\" x=\"49.458807\" y=\"190.339943\" style=\"fill: #800080; fill-opacity: 0.5; stroke: #800080; stroke-opacity: 0.5\"/>\n     <use xlink:href=\"#m8f422c17a9\" x=\"50.689275\" y=\"100.289034\" style=\"fill: #800080; fill-opacity: 0.5; stroke: #800080; stroke-opacity: 0.5\"/>\n     <use xlink:href=\"#m8f422c17a9\" x=\"59.045854\" y=\"80.521761\" style=\"fill: #800080; fill-opacity: 0.5; stroke: #800080; stroke-opacity: 0.5\"/>\n     <use xlink:href=\"#m8f422c17a9\" x=\"51.470524\" y=\"150.805398\" style=\"fill: #800080; fill-opacity: 0.5; stroke: #800080; stroke-opacity: 0.5\"/>\n     <use xlink:href=\"#m8f422c17a9\" x=\"49.740615\" y=\"150.805398\" style=\"fill: #800080; fill-opacity: 0.5; stroke: #800080; stroke-opacity: 0.5\"/>\n     <use xlink:href=\"#m8f422c17a9\" x=\"50.067065\" y=\"179.358125\" style=\"fill: #800080; fill-opacity: 0.5; stroke: #800080; stroke-opacity: 0.5\"/>\n     <use xlink:href=\"#m8f422c17a9\" x=\"50.692065\" y=\"199.125398\" style=\"fill: #800080; fill-opacity: 0.5; stroke: #800080; stroke-opacity: 0.5\"/>\n     <use xlink:href=\"#m8f422c17a9\" x=\"49.458807\" y=\"170.57267\" style=\"fill: #800080; fill-opacity: 0.5; stroke: #800080; stroke-opacity: 0.5\"/>\n     <use xlink:href=\"#m8f422c17a9\" x=\"49.458807\" y=\"170.57267\" style=\"fill: #800080; fill-opacity: 0.5; stroke: #800080; stroke-opacity: 0.5\"/>\n     <use xlink:href=\"#m8f422c17a9\" x=\"49.458807\" y=\"190.339943\" style=\"fill: #800080; fill-opacity: 0.5; stroke: #800080; stroke-opacity: 0.5\"/>\n     <use xlink:href=\"#m8f422c17a9\" x=\"49.458807\" y=\"199.125398\" style=\"fill: #800080; fill-opacity: 0.5; stroke: #800080; stroke-opacity: 0.5\"/>\n     <use xlink:href=\"#m8f422c17a9\" x=\"50.387936\" y=\"150.805398\" style=\"fill: #800080; fill-opacity: 0.5; stroke: #800080; stroke-opacity: 0.5\"/>\n     <use xlink:href=\"#m8f422c17a9\" x=\"51.294743\" y=\"170.57267\" style=\"fill: #800080; fill-opacity: 0.5; stroke: #800080; stroke-opacity: 0.5\"/>\n     <use xlink:href=\"#m8f422c17a9\" x=\"53.822643\" y=\"139.82358\" style=\"fill: #800080; fill-opacity: 0.5; stroke: #800080; stroke-opacity: 0.5\"/>\n     <use xlink:href=\"#m8f422c17a9\" x=\"52.589385\" y=\"190.339943\" style=\"fill: #800080; fill-opacity: 0.5; stroke: #800080; stroke-opacity: 0.5\"/>\n     <use xlink:href=\"#m8f422c17a9\" x=\"50.053114\" y=\"170.57267\" style=\"fill: #800080; fill-opacity: 0.5; stroke: #800080; stroke-opacity: 0.5\"/>\n     <use xlink:href=\"#m8f422c17a9\" x=\"49.458807\" y=\"120.056307\" style=\"fill: #800080; fill-opacity: 0.5; stroke: #800080; stroke-opacity: 0.5\"/>\n     <use xlink:href=\"#m8f422c17a9\" x=\"49.458807\" y=\"199.125398\" style=\"fill: #800080; fill-opacity: 0.5; stroke: #800080; stroke-opacity: 0.5\"/>\n     <use xlink:href=\"#m8f422c17a9\" x=\"49.458807\" y=\"190.339943\" style=\"fill: #800080; fill-opacity: 0.5; stroke: #800080; stroke-opacity: 0.5\"/>\n     <use xlink:href=\"#m8f422c17a9\" x=\"65.094957\" y=\"190.339943\" style=\"fill: #800080; fill-opacity: 0.5; stroke: #800080; stroke-opacity: 0.5\"/>\n     <use xlink:href=\"#m8f422c17a9\" x=\"51.545859\" y=\"190.339943\" style=\"fill: #800080; fill-opacity: 0.5; stroke: #800080; stroke-opacity: 0.5\"/>\n     <use xlink:href=\"#m8f422c17a9\" x=\"49.868963\" y=\"199.125398\" style=\"fill: #800080; fill-opacity: 0.5; stroke: #800080; stroke-opacity: 0.5\"/>\n     <use xlink:href=\"#m8f422c17a9\" x=\"50.555346\" y=\"190.339943\" style=\"fill: #800080; fill-opacity: 0.5; stroke: #800080; stroke-opacity: 0.5\"/>\n     <use xlink:href=\"#m8f422c17a9\" x=\"49.458807\" y=\"190.339943\" style=\"fill: #800080; fill-opacity: 0.5; stroke: #800080; stroke-opacity: 0.5\"/>\n     <use xlink:href=\"#m8f422c17a9\" x=\"49.458807\" y=\"199.125398\" style=\"fill: #800080; fill-opacity: 0.5; stroke: #800080; stroke-opacity: 0.5\"/>\n     <use xlink:href=\"#m8f422c17a9\" x=\"50.067065\" y=\"139.82358\" style=\"fill: #800080; fill-opacity: 0.5; stroke: #800080; stroke-opacity: 0.5\"/>\n     <use xlink:href=\"#m8f422c17a9\" x=\"51.160815\" y=\"131.038125\" style=\"fill: #800080; fill-opacity: 0.5; stroke: #800080; stroke-opacity: 0.5\"/>\n     <use xlink:href=\"#m8f422c17a9\" x=\"51.08548\" y=\"170.57267\" style=\"fill: #800080; fill-opacity: 0.5; stroke: #800080; stroke-opacity: 0.5\"/>\n     <use xlink:href=\"#m8f422c17a9\" x=\"57.324315\" y=\"190.339943\" style=\"fill: #800080; fill-opacity: 0.5; stroke: #800080; stroke-opacity: 0.5\"/>\n     <use xlink:href=\"#m8f422c17a9\" x=\"49.458807\" y=\"159.590852\" style=\"fill: #800080; fill-opacity: 0.5; stroke: #800080; stroke-opacity: 0.5\"/>\n     <use xlink:href=\"#m8f422c17a9\" x=\"49.458807\" y=\"139.82358\" style=\"fill: #800080; fill-opacity: 0.5; stroke: #800080; stroke-opacity: 0.5\"/>\n     <use xlink:href=\"#m8f422c17a9\" x=\"49.916396\" y=\"159.590852\" style=\"fill: #800080; fill-opacity: 0.5; stroke: #800080; stroke-opacity: 0.5\"/>\n     <use xlink:href=\"#m8f422c17a9\" x=\"50.493962\" y=\"159.590852\" style=\"fill: #800080; fill-opacity: 0.5; stroke: #800080; stroke-opacity: 0.5\"/>\n     <use xlink:href=\"#m8f422c17a9\" x=\"51.498426\" y=\"100.289034\" style=\"fill: #800080; fill-opacity: 0.5; stroke: #800080; stroke-opacity: 0.5\"/>\n     <use xlink:href=\"#m8f422c17a9\" x=\"50.025213\" y=\"159.590852\" style=\"fill: #800080; fill-opacity: 0.5; stroke: #800080; stroke-opacity: 0.5\"/>\n     <use xlink:href=\"#m8f422c17a9\" x=\"49.938717\" y=\"179.358125\" style=\"fill: #800080; fill-opacity: 0.5; stroke: #800080; stroke-opacity: 0.5\"/>\n     <use xlink:href=\"#m8f422c17a9\" x=\"51.124542\" y=\"190.339943\" style=\"fill: #800080; fill-opacity: 0.5; stroke: #800080; stroke-opacity: 0.5\"/>\n     <use xlink:href=\"#m8f422c17a9\" x=\"53.102778\" y=\"131.038125\" style=\"fill: #800080; fill-opacity: 0.5; stroke: #800080; stroke-opacity: 0.5\"/>\n     <use xlink:href=\"#m8f422c17a9\" x=\"49.810369\" y=\"131.038125\" style=\"fill: #800080; fill-opacity: 0.5; stroke: #800080; stroke-opacity: 0.5\"/>\n     <use xlink:href=\"#m8f422c17a9\" x=\"49.458807\" y=\"159.590852\" style=\"fill: #800080; fill-opacity: 0.5; stroke: #800080; stroke-opacity: 0.5\"/>\n     <use xlink:href=\"#m8f422c17a9\" x=\"49.458807\" y=\"179.358125\" style=\"fill: #800080; fill-opacity: 0.5; stroke: #800080; stroke-opacity: 0.5\"/>\n     <use xlink:href=\"#m8f422c17a9\" x=\"51.72443\" y=\"190.339943\" style=\"fill: #800080; fill-opacity: 0.5; stroke: #800080; stroke-opacity: 0.5\"/>\n     <use xlink:href=\"#m8f422c17a9\" x=\"49.762936\" y=\"190.339943\" style=\"fill: #800080; fill-opacity: 0.5; stroke: #800080; stroke-opacity: 0.5\"/>\n     <use xlink:href=\"#m8f422c17a9\" x=\"50.558136\" y=\"150.805398\" style=\"fill: #800080; fill-opacity: 0.5; stroke: #800080; stroke-opacity: 0.5\"/>\n     <use xlink:href=\"#m8f422c17a9\" x=\"49.603896\" y=\"170.57267\" style=\"fill: #800080; fill-opacity: 0.5; stroke: #800080; stroke-opacity: 0.5\"/>\n     <use xlink:href=\"#m8f422c17a9\" x=\"50.276329\" y=\"190.339943\" style=\"fill: #800080; fill-opacity: 0.5; stroke: #800080; stroke-opacity: 0.5\"/>\n     <use xlink:href=\"#m8f422c17a9\" x=\"51.035257\" y=\"179.358125\" style=\"fill: #800080; fill-opacity: 0.5; stroke: #800080; stroke-opacity: 0.5\"/>\n     <use xlink:href=\"#m8f422c17a9\" x=\"55.047531\" y=\"170.57267\" style=\"fill: #800080; fill-opacity: 0.5; stroke: #800080; stroke-opacity: 0.5\"/>\n     <use xlink:href=\"#m8f422c17a9\" x=\"49.947088\" y=\"120.056307\" style=\"fill: #800080; fill-opacity: 0.5; stroke: #800080; stroke-opacity: 0.5\"/>\n     <use xlink:href=\"#m8f422c17a9\" x=\"49.458807\" y=\"159.590852\" style=\"fill: #800080; fill-opacity: 0.5; stroke: #800080; stroke-opacity: 0.5\"/>\n     <use xlink:href=\"#m8f422c17a9\" x=\"52.98559\" y=\"131.038125\" style=\"fill: #800080; fill-opacity: 0.5; stroke: #800080; stroke-opacity: 0.5\"/>\n     <use xlink:href=\"#m8f422c17a9\" x=\"49.458807\" y=\"71.736307\" style=\"fill: #800080; fill-opacity: 0.5; stroke: #800080; stroke-opacity: 0.5\"/>\n     <use xlink:href=\"#m8f422c17a9\" x=\"52.544742\" y=\"71.736307\" style=\"fill: #800080; fill-opacity: 0.5; stroke: #800080; stroke-opacity: 0.5\"/>\n     <use xlink:href=\"#m8f422c17a9\" x=\"49.458807\" y=\"150.805398\" style=\"fill: #800080; fill-opacity: 0.5; stroke: #800080; stroke-opacity: 0.5\"/>\n     <use xlink:href=\"#m8f422c17a9\" x=\"49.458807\" y=\"218.89267\" style=\"fill: #800080; fill-opacity: 0.5; stroke: #800080; stroke-opacity: 0.5\"/>\n     <use xlink:href=\"#m8f422c17a9\" x=\"49.458807\" y=\"179.358125\" style=\"fill: #800080; fill-opacity: 0.5; stroke: #800080; stroke-opacity: 0.5\"/>\n     <use xlink:href=\"#m8f422c17a9\" x=\"54.56483\" y=\"150.805398\" style=\"fill: #800080; fill-opacity: 0.5; stroke: #800080; stroke-opacity: 0.5\"/>\n     <use xlink:href=\"#m8f422c17a9\" x=\"60.438152\" y=\"131.038125\" style=\"fill: #800080; fill-opacity: 0.5; stroke: #800080; stroke-opacity: 0.5\"/>\n     <use xlink:href=\"#m8f422c17a9\" x=\"49.458807\" y=\"190.339943\" style=\"fill: #800080; fill-opacity: 0.5; stroke: #800080; stroke-opacity: 0.5\"/>\n     <use xlink:href=\"#m8f422c17a9\" x=\"98.183663\" y=\"190.339943\" style=\"fill: #800080; fill-opacity: 0.5; stroke: #800080; stroke-opacity: 0.5\"/>\n     <use xlink:href=\"#m8f422c17a9\" x=\"49.458807\" y=\"111.270852\" style=\"fill: #800080; fill-opacity: 0.5; stroke: #800080; stroke-opacity: 0.5\"/>\n     <use xlink:href=\"#m8f422c17a9\" x=\"49.458807\" y=\"218.89267\" style=\"fill: #800080; fill-opacity: 0.5; stroke: #800080; stroke-opacity: 0.5\"/>\n     <use xlink:href=\"#m8f422c17a9\" x=\"51.615613\" y=\"80.521761\" style=\"fill: #800080; fill-opacity: 0.5; stroke: #800080; stroke-opacity: 0.5\"/>\n     <use xlink:href=\"#m8f422c17a9\" x=\"54.015165\" y=\"179.358125\" style=\"fill: #800080; fill-opacity: 0.5; stroke: #800080; stroke-opacity: 0.5\"/>\n     <use xlink:href=\"#m8f422c17a9\" x=\"51.09385\" y=\"199.125398\" style=\"fill: #800080; fill-opacity: 0.5; stroke: #800080; stroke-opacity: 0.5\"/>\n     <use xlink:href=\"#m8f422c17a9\" x=\"61.420294\" y=\"179.358125\" style=\"fill: #800080; fill-opacity: 0.5; stroke: #800080; stroke-opacity: 0.5\"/>\n     <use xlink:href=\"#m8f422c17a9\" x=\"52.857242\" y=\"139.82358\" style=\"fill: #800080; fill-opacity: 0.5; stroke: #800080; stroke-opacity: 0.5\"/>\n     <use xlink:href=\"#m8f422c17a9\" x=\"53.92309\" y=\"190.339943\" style=\"fill: #800080; fill-opacity: 0.5; stroke: #800080; stroke-opacity: 0.5\"/>\n     <use xlink:href=\"#m8f422c17a9\" x=\"56.319851\" y=\"120.056307\" style=\"fill: #800080; fill-opacity: 0.5; stroke: #800080; stroke-opacity: 0.5\"/>\n     <use xlink:href=\"#m8f422c17a9\" x=\"49.458807\" y=\"120.056307\" style=\"fill: #800080; fill-opacity: 0.5; stroke: #800080; stroke-opacity: 0.5\"/>\n     <use xlink:href=\"#m8f422c17a9\" x=\"57.477775\" y=\"170.57267\" style=\"fill: #800080; fill-opacity: 0.5; stroke: #800080; stroke-opacity: 0.5\"/>\n     <use xlink:href=\"#m8f422c17a9\" x=\"49.458807\" y=\"170.57267\" style=\"fill: #800080; fill-opacity: 0.5; stroke: #800080; stroke-opacity: 0.5\"/>\n     <use xlink:href=\"#m8f422c17a9\" x=\"52.237823\" y=\"100.289034\" style=\"fill: #800080; fill-opacity: 0.5; stroke: #800080; stroke-opacity: 0.5\"/>\n     <use xlink:href=\"#m8f422c17a9\" x=\"57.87956\" y=\"179.358125\" style=\"fill: #800080; fill-opacity: 0.5; stroke: #800080; stroke-opacity: 0.5\"/>\n     <use xlink:href=\"#m8f422c17a9\" x=\"69.202097\" y=\"150.805398\" style=\"fill: #800080; fill-opacity: 0.5; stroke: #800080; stroke-opacity: 0.5\"/>\n     <use xlink:href=\"#m8f422c17a9\" x=\"49.458807\" y=\"71.736307\" style=\"fill: #800080; fill-opacity: 0.5; stroke: #800080; stroke-opacity: 0.5\"/>\n     <use xlink:href=\"#m8f422c17a9\" x=\"49.458807\" y=\"199.125398\" style=\"fill: #800080; fill-opacity: 0.5; stroke: #800080; stroke-opacity: 0.5\"/>\n     <use xlink:href=\"#m8f422c17a9\" x=\"63.906342\" y=\"199.125398\" style=\"fill: #800080; fill-opacity: 0.5; stroke: #800080; stroke-opacity: 0.5\"/>\n     <use xlink:href=\"#m8f422c17a9\" x=\"50.474431\" y=\"131.038125\" style=\"fill: #800080; fill-opacity: 0.5; stroke: #800080; stroke-opacity: 0.5\"/>\n     <use xlink:href=\"#m8f422c17a9\" x=\"50.471641\" y=\"159.590852\" style=\"fill: #800080; fill-opacity: 0.5; stroke: #800080; stroke-opacity: 0.5\"/>\n     <use xlink:href=\"#m8f422c17a9\" x=\"49.458807\" y=\"170.57267\" style=\"fill: #800080; fill-opacity: 0.5; stroke: #800080; stroke-opacity: 0.5\"/>\n     <use xlink:href=\"#m8f422c17a9\" x=\"49.458807\" y=\"139.82358\" style=\"fill: #800080; fill-opacity: 0.5; stroke: #800080; stroke-opacity: 0.5\"/>\n     <use xlink:href=\"#m8f422c17a9\" x=\"51.735591\" y=\"139.82358\" style=\"fill: #800080; fill-opacity: 0.5; stroke: #800080; stroke-opacity: 0.5\"/>\n     <use xlink:href=\"#m8f422c17a9\" x=\"50.839944\" y=\"150.805398\" style=\"fill: #800080; fill-opacity: 0.5; stroke: #800080; stroke-opacity: 0.5\"/>\n     <use xlink:href=\"#m8f422c17a9\" x=\"49.458807\" y=\"150.805398\" style=\"fill: #800080; fill-opacity: 0.5; stroke: #800080; stroke-opacity: 0.5\"/>\n     <use xlink:href=\"#m8f422c17a9\" x=\"49.458807\" y=\"159.590852\" style=\"fill: #800080; fill-opacity: 0.5; stroke: #800080; stroke-opacity: 0.5\"/>\n     <use xlink:href=\"#m8f422c17a9\" x=\"51.144074\" y=\"190.339943\" style=\"fill: #800080; fill-opacity: 0.5; stroke: #800080; stroke-opacity: 0.5\"/>\n     <use xlink:href=\"#m8f422c17a9\" x=\"49.458807\" y=\"190.339943\" style=\"fill: #800080; fill-opacity: 0.5; stroke: #800080; stroke-opacity: 0.5\"/>\n     <use xlink:href=\"#m8f422c17a9\" x=\"50.560927\" y=\"131.038125\" style=\"fill: #800080; fill-opacity: 0.5; stroke: #800080; stroke-opacity: 0.5\"/>\n     <use xlink:href=\"#m8f422c17a9\" x=\"49.458807\" y=\"150.805398\" style=\"fill: #800080; fill-opacity: 0.5; stroke: #800080; stroke-opacity: 0.5\"/>\n     <use xlink:href=\"#m8f422c17a9\" x=\"51.635145\" y=\"170.57267\" style=\"fill: #800080; fill-opacity: 0.5; stroke: #800080; stroke-opacity: 0.5\"/>\n     <use xlink:href=\"#m8f422c17a9\" x=\"49.458807\" y=\"120.056307\" style=\"fill: #800080; fill-opacity: 0.5; stroke: #800080; stroke-opacity: 0.5\"/>\n     <use xlink:href=\"#m8f422c17a9\" x=\"49.458807\" y=\"179.358125\" style=\"fill: #800080; fill-opacity: 0.5; stroke: #800080; stroke-opacity: 0.5\"/>\n     <use xlink:href=\"#m8f422c17a9\" x=\"50.747868\" y=\"32.201761\" style=\"fill: #800080; fill-opacity: 0.5; stroke: #800080; stroke-opacity: 0.5\"/>\n     <use xlink:href=\"#m8f422c17a9\" x=\"49.913606\" y=\"139.82358\" style=\"fill: #800080; fill-opacity: 0.5; stroke: #800080; stroke-opacity: 0.5\"/>\n     <use xlink:href=\"#m8f422c17a9\" x=\"49.458807\" y=\"159.590852\" style=\"fill: #800080; fill-opacity: 0.5; stroke: #800080; stroke-opacity: 0.5\"/>\n     <use xlink:href=\"#m8f422c17a9\" x=\"49.458807\" y=\"150.805398\" style=\"fill: #800080; fill-opacity: 0.5; stroke: #800080; stroke-opacity: 0.5\"/>\n     <use xlink:href=\"#m8f422c17a9\" x=\"257.684114\" y=\"131.038125\" style=\"fill: #800080; fill-opacity: 0.5; stroke: #800080; stroke-opacity: 0.5\"/>\n     <use xlink:href=\"#m8f422c17a9\" x=\"51.417511\" y=\"170.57267\" style=\"fill: #800080; fill-opacity: 0.5; stroke: #800080; stroke-opacity: 0.5\"/>\n     <use xlink:href=\"#m8f422c17a9\" x=\"49.458807\" y=\"111.270852\" style=\"fill: #800080; fill-opacity: 0.5; stroke: #800080; stroke-opacity: 0.5\"/>\n     <use xlink:href=\"#m8f422c17a9\" x=\"50.13961\" y=\"120.056307\" style=\"fill: #800080; fill-opacity: 0.5; stroke: #800080; stroke-opacity: 0.5\"/>\n     <use xlink:href=\"#m8f422c17a9\" x=\"50.309811\" y=\"150.805398\" style=\"fill: #800080; fill-opacity: 0.5; stroke: #800080; stroke-opacity: 0.5\"/>\n     <use xlink:href=\"#m8f422c17a9\" x=\"101.289129\" y=\"139.82358\" style=\"fill: #800080; fill-opacity: 0.5; stroke: #800080; stroke-opacity: 0.5\"/>\n     <use xlink:href=\"#m8f422c17a9\" x=\"49.458807\" y=\"139.82358\" style=\"fill: #800080; fill-opacity: 0.5; stroke: #800080; stroke-opacity: 0.5\"/>\n     <use xlink:href=\"#m8f422c17a9\" x=\"51.216618\" y=\"159.590852\" style=\"fill: #800080; fill-opacity: 0.5; stroke: #800080; stroke-opacity: 0.5\"/>\n     <use xlink:href=\"#m8f422c17a9\" x=\"49.6597\" y=\"150.805398\" style=\"fill: #800080; fill-opacity: 0.5; stroke: #800080; stroke-opacity: 0.5\"/>\n     <use xlink:href=\"#m8f422c17a9\" x=\"50.842734\" y=\"159.590852\" style=\"fill: #800080; fill-opacity: 0.5; stroke: #800080; stroke-opacity: 0.5\"/>\n     <use xlink:href=\"#m8f422c17a9\" x=\"49.458807\" y=\"190.339943\" style=\"fill: #800080; fill-opacity: 0.5; stroke: #800080; stroke-opacity: 0.5\"/>\n     <use xlink:href=\"#m8f422c17a9\" x=\"49.458807\" y=\"190.339943\" style=\"fill: #800080; fill-opacity: 0.5; stroke: #800080; stroke-opacity: 0.5\"/>\n     <use xlink:href=\"#m8f422c17a9\" x=\"50.114498\" y=\"190.339943\" style=\"fill: #800080; fill-opacity: 0.5; stroke: #800080; stroke-opacity: 0.5\"/>\n     <use xlink:href=\"#m8f422c17a9\" x=\"49.458807\" y=\"111.270852\" style=\"fill: #800080; fill-opacity: 0.5; stroke: #800080; stroke-opacity: 0.5\"/>\n     <use xlink:href=\"#m8f422c17a9\" x=\"50.351663\" y=\"150.805398\" style=\"fill: #800080; fill-opacity: 0.5; stroke: #800080; stroke-opacity: 0.5\"/>\n     <use xlink:href=\"#m8f422c17a9\" x=\"49.458807\" y=\"159.590852\" style=\"fill: #800080; fill-opacity: 0.5; stroke: #800080; stroke-opacity: 0.5\"/>\n     <use xlink:href=\"#m8f422c17a9\" x=\"51.233359\" y=\"150.805398\" style=\"fill: #800080; fill-opacity: 0.5; stroke: #800080; stroke-opacity: 0.5\"/>\n     <use xlink:href=\"#m8f422c17a9\" x=\"49.458807\" y=\"91.50358\" style=\"fill: #800080; fill-opacity: 0.5; stroke: #800080; stroke-opacity: 0.5\"/>\n     <use xlink:href=\"#m8f422c17a9\" x=\"53.738938\" y=\"131.038125\" style=\"fill: #800080; fill-opacity: 0.5; stroke: #800080; stroke-opacity: 0.5\"/>\n     <use xlink:href=\"#m8f422c17a9\" x=\"49.458807\" y=\"159.590852\" style=\"fill: #800080; fill-opacity: 0.5; stroke: #800080; stroke-opacity: 0.5\"/>\n     <use xlink:href=\"#m8f422c17a9\" x=\"49.458807\" y=\"199.125398\" style=\"fill: #800080; fill-opacity: 0.5; stroke: #800080; stroke-opacity: 0.5\"/>\n     <use xlink:href=\"#m8f422c17a9\" x=\"49.609476\" y=\"210.107216\" style=\"fill: #800080; fill-opacity: 0.5; stroke: #800080; stroke-opacity: 0.5\"/>\n     <use xlink:href=\"#m8f422c17a9\" x=\"49.458807\" y=\"179.358125\" style=\"fill: #800080; fill-opacity: 0.5; stroke: #800080; stroke-opacity: 0.5\"/>\n     <use xlink:href=\"#m8f422c17a9\" x=\"51.25289\" y=\"150.805398\" style=\"fill: #800080; fill-opacity: 0.5; stroke: #800080; stroke-opacity: 0.5\"/>\n     <use xlink:href=\"#m8f422c17a9\" x=\"49.550883\" y=\"190.339943\" style=\"fill: #800080; fill-opacity: 0.5; stroke: #800080; stroke-opacity: 0.5\"/>\n     <use xlink:href=\"#m8f422c17a9\" x=\"49.458807\" y=\"159.590852\" style=\"fill: #800080; fill-opacity: 0.5; stroke: #800080; stroke-opacity: 0.5\"/>\n     <use xlink:href=\"#m8f422c17a9\" x=\"49.801999\" y=\"199.125398\" style=\"fill: #800080; fill-opacity: 0.5; stroke: #800080; stroke-opacity: 0.5\"/>\n     <use xlink:href=\"#m8f422c17a9\" x=\"50.393516\" y=\"170.57267\" style=\"fill: #800080; fill-opacity: 0.5; stroke: #800080; stroke-opacity: 0.5\"/>\n     <use xlink:href=\"#m8f422c17a9\" x=\"49.458807\" y=\"62.950852\" style=\"fill: #800080; fill-opacity: 0.5; stroke: #800080; stroke-opacity: 0.5\"/>\n     <use xlink:href=\"#m8f422c17a9\" x=\"52.237823\" y=\"159.590852\" style=\"fill: #800080; fill-opacity: 0.5; stroke: #800080; stroke-opacity: 0.5\"/>\n     <use xlink:href=\"#m8f422c17a9\" x=\"49.458807\" y=\"139.82358\" style=\"fill: #800080; fill-opacity: 0.5; stroke: #800080; stroke-opacity: 0.5\"/>\n     <use xlink:href=\"#m8f422c17a9\" x=\"49.458807\" y=\"190.339943\" style=\"fill: #800080; fill-opacity: 0.5; stroke: #800080; stroke-opacity: 0.5\"/>\n     <use xlink:href=\"#m8f422c17a9\" x=\"49.458807\" y=\"62.950852\" style=\"fill: #800080; fill-opacity: 0.5; stroke: #800080; stroke-opacity: 0.5\"/>\n     <use xlink:href=\"#m8f422c17a9\" x=\"49.458807\" y=\"150.805398\" style=\"fill: #800080; fill-opacity: 0.5; stroke: #800080; stroke-opacity: 0.5\"/>\n     <use xlink:href=\"#m8f422c17a9\" x=\"49.458807\" y=\"131.038125\" style=\"fill: #800080; fill-opacity: 0.5; stroke: #800080; stroke-opacity: 0.5\"/>\n     <use xlink:href=\"#m8f422c17a9\" x=\"51.25289\" y=\"120.056307\" style=\"fill: #800080; fill-opacity: 0.5; stroke: #800080; stroke-opacity: 0.5\"/>\n     <use xlink:href=\"#m8f422c17a9\" x=\"52.168068\" y=\"131.038125\" style=\"fill: #800080; fill-opacity: 0.5; stroke: #800080; stroke-opacity: 0.5\"/>\n     <use xlink:href=\"#m8f422c17a9\" x=\"49.458807\" y=\"150.805398\" style=\"fill: #800080; fill-opacity: 0.5; stroke: #800080; stroke-opacity: 0.5\"/>\n     <use xlink:href=\"#m8f422c17a9\" x=\"49.458807\" y=\"170.57267\" style=\"fill: #800080; fill-opacity: 0.5; stroke: #800080; stroke-opacity: 0.5\"/>\n     <use xlink:href=\"#m8f422c17a9\" x=\"49.458807\" y=\"170.57267\" style=\"fill: #800080; fill-opacity: 0.5; stroke: #800080; stroke-opacity: 0.5\"/>\n     <use xlink:href=\"#m8f422c17a9\" x=\"49.458807\" y=\"179.358125\" style=\"fill: #800080; fill-opacity: 0.5; stroke: #800080; stroke-opacity: 0.5\"/>\n     <use xlink:href=\"#m8f422c17a9\" x=\"49.458807\" y=\"179.358125\" style=\"fill: #800080; fill-opacity: 0.5; stroke: #800080; stroke-opacity: 0.5\"/>\n     <use xlink:href=\"#m8f422c17a9\" x=\"72.547519\" y=\"150.805398\" style=\"fill: #800080; fill-opacity: 0.5; stroke: #800080; stroke-opacity: 0.5\"/>\n     <use xlink:href=\"#m8f422c17a9\" x=\"50.385145\" y=\"131.038125\" style=\"fill: #800080; fill-opacity: 0.5; stroke: #800080; stroke-opacity: 0.5\"/>\n     <use xlink:href=\"#m8f422c17a9\" x=\"50.000101\" y=\"62.950852\" style=\"fill: #800080; fill-opacity: 0.5; stroke: #800080; stroke-opacity: 0.5\"/>\n     <use xlink:href=\"#m8f422c17a9\" x=\"49.458807\" y=\"131.038125\" style=\"fill: #800080; fill-opacity: 0.5; stroke: #800080; stroke-opacity: 0.5\"/>\n     <use xlink:href=\"#m8f422c17a9\" x=\"49.458807\" y=\"131.038125\" style=\"fill: #800080; fill-opacity: 0.5; stroke: #800080; stroke-opacity: 0.5\"/>\n     <use xlink:href=\"#m8f422c17a9\" x=\"50.493962\" y=\"71.736307\" style=\"fill: #800080; fill-opacity: 0.5; stroke: #800080; stroke-opacity: 0.5\"/>\n     <use xlink:href=\"#m8f422c17a9\" x=\"50.962712\" y=\"100.289034\" style=\"fill: #800080; fill-opacity: 0.5; stroke: #800080; stroke-opacity: 0.5\"/>\n     <use xlink:href=\"#m8f422c17a9\" x=\"50.055905\" y=\"120.056307\" style=\"fill: #800080; fill-opacity: 0.5; stroke: #800080; stroke-opacity: 0.5\"/>\n     <use xlink:href=\"#m8f422c17a9\" x=\"51.367288\" y=\"218.89267\" style=\"fill: #800080; fill-opacity: 0.5; stroke: #800080; stroke-opacity: 0.5\"/>\n     <use xlink:href=\"#m8f422c17a9\" x=\"50.346083\" y=\"111.270852\" style=\"fill: #800080; fill-opacity: 0.5; stroke: #800080; stroke-opacity: 0.5\"/>\n     <use xlink:href=\"#m8f422c17a9\" x=\"51.007355\" y=\"120.056307\" style=\"fill: #800080; fill-opacity: 0.5; stroke: #800080; stroke-opacity: 0.5\"/>\n     <use xlink:href=\"#m8f422c17a9\" x=\"51.303114\" y=\"159.590852\" style=\"fill: #800080; fill-opacity: 0.5; stroke: #800080; stroke-opacity: 0.5\"/>\n     <use xlink:href=\"#m8f422c17a9\" x=\"66.515157\" y=\"32.201761\" style=\"fill: #800080; fill-opacity: 0.5; stroke: #800080; stroke-opacity: 0.5\"/>\n     <use xlink:href=\"#m8f422c17a9\" x=\"49.458807\" y=\"111.270852\" style=\"fill: #800080; fill-opacity: 0.5; stroke: #800080; stroke-opacity: 0.5\"/>\n     <use xlink:href=\"#m8f422c17a9\" x=\"60.195407\" y=\"150.805398\" style=\"fill: #800080; fill-opacity: 0.5; stroke: #800080; stroke-opacity: 0.5\"/>\n     <use xlink:href=\"#m8f422c17a9\" x=\"50.000101\" y=\"150.805398\" style=\"fill: #800080; fill-opacity: 0.5; stroke: #800080; stroke-opacity: 0.5\"/>\n     <use xlink:href=\"#m8f422c17a9\" x=\"69.079329\" y=\"170.57267\" style=\"fill: #800080; fill-opacity: 0.5; stroke: #800080; stroke-opacity: 0.5\"/>\n     <use xlink:href=\"#m8f422c17a9\" x=\"52.271305\" y=\"179.358125\" style=\"fill: #800080; fill-opacity: 0.5; stroke: #800080; stroke-opacity: 0.5\"/>\n     <use xlink:href=\"#m8f422c17a9\" x=\"50.348873\" y=\"32.201761\" style=\"fill: #800080; fill-opacity: 0.5; stroke: #800080; stroke-opacity: 0.5\"/>\n     <use xlink:href=\"#m8f422c17a9\" x=\"49.949878\" y=\"210.107216\" style=\"fill: #800080; fill-opacity: 0.5; stroke: #800080; stroke-opacity: 0.5\"/>\n     <use xlink:href=\"#m8f422c17a9\" x=\"51.512377\" y=\"150.805398\" style=\"fill: #800080; fill-opacity: 0.5; stroke: #800080; stroke-opacity: 0.5\"/>\n     <use xlink:href=\"#m8f422c17a9\" x=\"50.075436\" y=\"139.82358\" style=\"fill: #800080; fill-opacity: 0.5; stroke: #800080; stroke-opacity: 0.5\"/>\n     <use xlink:href=\"#m8f422c17a9\" x=\"127.173599\" y=\"131.038125\" style=\"fill: #800080; fill-opacity: 0.5; stroke: #800080; stroke-opacity: 0.5\"/>\n     <use xlink:href=\"#m8f422c17a9\" x=\"50.226105\" y=\"139.82358\" style=\"fill: #800080; fill-opacity: 0.5; stroke: #800080; stroke-opacity: 0.5\"/>\n     <use xlink:href=\"#m8f422c17a9\" x=\"49.458807\" y=\"131.038125\" style=\"fill: #800080; fill-opacity: 0.5; stroke: #800080; stroke-opacity: 0.5\"/>\n     <use xlink:href=\"#m8f422c17a9\" x=\"49.81874\" y=\"111.270852\" style=\"fill: #800080; fill-opacity: 0.5; stroke: #800080; stroke-opacity: 0.5\"/>\n     <use xlink:href=\"#m8f422c17a9\" x=\"49.458807\" y=\"120.056307\" style=\"fill: #800080; fill-opacity: 0.5; stroke: #800080; stroke-opacity: 0.5\"/>\n     <use xlink:href=\"#m8f422c17a9\" x=\"56.833244\" y=\"150.805398\" style=\"fill: #800080; fill-opacity: 0.5; stroke: #800080; stroke-opacity: 0.5\"/>\n     <use xlink:href=\"#m8f422c17a9\" x=\"50.036373\" y=\"159.590852\" style=\"fill: #800080; fill-opacity: 0.5; stroke: #800080; stroke-opacity: 0.5\"/>\n     <use xlink:href=\"#m8f422c17a9\" x=\"50.016842\" y=\"100.289034\" style=\"fill: #800080; fill-opacity: 0.5; stroke: #800080; stroke-opacity: 0.5\"/>\n     <use xlink:href=\"#m8f422c17a9\" x=\"54.034697\" y=\"159.590852\" style=\"fill: #800080; fill-opacity: 0.5; stroke: #800080; stroke-opacity: 0.5\"/>\n     <use xlink:href=\"#m8f422c17a9\" x=\"62.488932\" y=\"71.736307\" style=\"fill: #800080; fill-opacity: 0.5; stroke: #800080; stroke-opacity: 0.5\"/>\n     <use xlink:href=\"#m8f422c17a9\" x=\"49.458807\" y=\"210.107216\" style=\"fill: #800080; fill-opacity: 0.5; stroke: #800080; stroke-opacity: 0.5\"/>\n     <use xlink:href=\"#m8f422c17a9\" x=\"49.458807\" y=\"150.805398\" style=\"fill: #800080; fill-opacity: 0.5; stroke: #800080; stroke-opacity: 0.5\"/>\n     <use xlink:href=\"#m8f422c17a9\" x=\"49.458807\" y=\"139.82358\" style=\"fill: #800080; fill-opacity: 0.5; stroke: #800080; stroke-opacity: 0.5\"/>\n     <use xlink:href=\"#m8f422c17a9\" x=\"49.458807\" y=\"190.339943\" style=\"fill: #800080; fill-opacity: 0.5; stroke: #800080; stroke-opacity: 0.5\"/>\n     <use xlink:href=\"#m8f422c17a9\" x=\"61.545852\" y=\"139.82358\" style=\"fill: #800080; fill-opacity: 0.5; stroke: #800080; stroke-opacity: 0.5\"/>\n     <use xlink:href=\"#m8f422c17a9\" x=\"51.855569\" y=\"131.038125\" style=\"fill: #800080; fill-opacity: 0.5; stroke: #800080; stroke-opacity: 0.5\"/>\n     <use xlink:href=\"#m8f422c17a9\" x=\"49.458807\" y=\"190.339943\" style=\"fill: #800080; fill-opacity: 0.5; stroke: #800080; stroke-opacity: 0.5\"/>\n     <use xlink:href=\"#m8f422c17a9\" x=\"50.231686\" y=\"170.57267\" style=\"fill: #800080; fill-opacity: 0.5; stroke: #800080; stroke-opacity: 0.5\"/>\n     <use xlink:href=\"#m8f422c17a9\" x=\"53.554786\" y=\"190.339943\" style=\"fill: #800080; fill-opacity: 0.5; stroke: #800080; stroke-opacity: 0.5\"/>\n     <use xlink:href=\"#m8f422c17a9\" x=\"60.770183\" y=\"179.358125\" style=\"fill: #800080; fill-opacity: 0.5; stroke: #800080; stroke-opacity: 0.5\"/>\n     <use xlink:href=\"#m8f422c17a9\" x=\"52.477778\" y=\"131.038125\" style=\"fill: #800080; fill-opacity: 0.5; stroke: #800080; stroke-opacity: 0.5\"/>\n     <use xlink:href=\"#m8f422c17a9\" x=\"49.458807\" y=\"131.038125\" style=\"fill: #800080; fill-opacity: 0.5; stroke: #800080; stroke-opacity: 0.5\"/>\n     <use xlink:href=\"#m8f422c17a9\" x=\"49.458807\" y=\"131.038125\" style=\"fill: #800080; fill-opacity: 0.5; stroke: #800080; stroke-opacity: 0.5\"/>\n     <use xlink:href=\"#m8f422c17a9\" x=\"49.458807\" y=\"131.038125\" style=\"fill: #800080; fill-opacity: 0.5; stroke: #800080; stroke-opacity: 0.5\"/>\n     <use xlink:href=\"#m8f422c17a9\" x=\"50.002891\" y=\"131.038125\" style=\"fill: #800080; fill-opacity: 0.5; stroke: #800080; stroke-opacity: 0.5\"/>\n     <use xlink:href=\"#m8f422c17a9\" x=\"63.295293\" y=\"131.038125\" style=\"fill: #800080; fill-opacity: 0.5; stroke: #800080; stroke-opacity: 0.5\"/>\n     <use xlink:href=\"#m8f422c17a9\" x=\"51.077109\" y=\"199.125398\" style=\"fill: #800080; fill-opacity: 0.5; stroke: #800080; stroke-opacity: 0.5\"/>\n     <use xlink:href=\"#m8f422c17a9\" x=\"49.458807\" y=\"51.969034\" style=\"fill: #800080; fill-opacity: 0.5; stroke: #800080; stroke-opacity: 0.5\"/>\n     <use xlink:href=\"#m8f422c17a9\" x=\"49.458807\" y=\"159.590852\" style=\"fill: #800080; fill-opacity: 0.5; stroke: #800080; stroke-opacity: 0.5\"/>\n     <use xlink:href=\"#m8f422c17a9\" x=\"49.458807\" y=\"159.590852\" style=\"fill: #800080; fill-opacity: 0.5; stroke: #800080; stroke-opacity: 0.5\"/>\n     <use xlink:href=\"#m8f422c17a9\" x=\"50.064275\" y=\"71.736307\" style=\"fill: #800080; fill-opacity: 0.5; stroke: #800080; stroke-opacity: 0.5\"/>\n     <use xlink:href=\"#m8f422c17a9\" x=\"49.578784\" y=\"120.056307\" style=\"fill: #800080; fill-opacity: 0.5; stroke: #800080; stroke-opacity: 0.5\"/>\n     <use xlink:href=\"#m8f422c17a9\" x=\"49.458807\" y=\"179.358125\" style=\"fill: #800080; fill-opacity: 0.5; stroke: #800080; stroke-opacity: 0.5\"/>\n     <use xlink:href=\"#m8f422c17a9\" x=\"51.255681\" y=\"179.358125\" style=\"fill: #800080; fill-opacity: 0.5; stroke: #800080; stroke-opacity: 0.5\"/>\n     <use xlink:href=\"#m8f422c17a9\" x=\"64.606676\" y=\"111.270852\" style=\"fill: #800080; fill-opacity: 0.5; stroke: #800080; stroke-opacity: 0.5\"/>\n     <use xlink:href=\"#m8f422c17a9\" x=\"52.572644\" y=\"91.50358\" style=\"fill: #800080; fill-opacity: 0.5; stroke: #800080; stroke-opacity: 0.5\"/>\n     <use xlink:href=\"#m8f422c17a9\" x=\"49.458807\" y=\"150.805398\" style=\"fill: #800080; fill-opacity: 0.5; stroke: #800080; stroke-opacity: 0.5\"/>\n     <use xlink:href=\"#m8f422c17a9\" x=\"49.458807\" y=\"139.82358\" style=\"fill: #800080; fill-opacity: 0.5; stroke: #800080; stroke-opacity: 0.5\"/>\n    </g>\n   </g>\n   <g id=\"matplotlib.axis_1\">\n    <g id=\"xtick_1\">\n     <g id=\"line2d_1\">\n      <defs>\n       <path id=\"md265ba8c2f\" d=\"M 0 0 \nL 0 3.5 \n\" style=\"stroke: #000000; stroke-width: 0.8\"/>\n      </defs>\n      <g>\n       <use xlink:href=\"#md265ba8c2f\" x=\"49.458807\" y=\"239.758125\" style=\"stroke: #000000; stroke-width: 0.8\"/>\n      </g>\n     </g>\n     <g id=\"text_1\">\n      <!-- 0 -->\n      <g transform=\"translate(46.277557 254.356562)scale(0.1 -0.1)\">\n       <defs>\n        <path id=\"DejaVuSans-30\" d=\"M 2034 4250 \nQ 1547 4250 1301 3770 \nQ 1056 3291 1056 2328 \nQ 1056 1369 1301 889 \nQ 1547 409 2034 409 \nQ 2525 409 2770 889 \nQ 3016 1369 3016 2328 \nQ 3016 3291 2770 3770 \nQ 2525 4250 2034 4250 \nz\nM 2034 4750 \nQ 2819 4750 3233 4129 \nQ 3647 3509 3647 2328 \nQ 3647 1150 3233 529 \nQ 2819 -91 2034 -91 \nQ 1250 -91 836 529 \nQ 422 1150 422 2328 \nQ 422 3509 836 4129 \nQ 1250 4750 2034 4750 \nz\n\" transform=\"scale(0.015625)\"/>\n       </defs>\n       <use xlink:href=\"#DejaVuSans-30\"/>\n      </g>\n     </g>\n    </g>\n    <g id=\"xtick_2\">\n     <g id=\"line2d_2\">\n      <g>\n       <use xlink:href=\"#md265ba8c2f\" x=\"105.262341\" y=\"239.758125\" style=\"stroke: #000000; stroke-width: 0.8\"/>\n      </g>\n     </g>\n     <g id=\"text_2\">\n      <!-- 200 -->\n      <g transform=\"translate(95.718591 254.356562)scale(0.1 -0.1)\">\n       <defs>\n        <path id=\"DejaVuSans-32\" d=\"M 1228 531 \nL 3431 531 \nL 3431 0 \nL 469 0 \nL 469 531 \nQ 828 903 1448 1529 \nQ 2069 2156 2228 2338 \nQ 2531 2678 2651 2914 \nQ 2772 3150 2772 3378 \nQ 2772 3750 2511 3984 \nQ 2250 4219 1831 4219 \nQ 1534 4219 1204 4116 \nQ 875 4013 500 3803 \nL 500 4441 \nQ 881 4594 1212 4672 \nQ 1544 4750 1819 4750 \nQ 2544 4750 2975 4387 \nQ 3406 4025 3406 3419 \nQ 3406 3131 3298 2873 \nQ 3191 2616 2906 2266 \nQ 2828 2175 2409 1742 \nQ 1991 1309 1228 531 \nz\n\" transform=\"scale(0.015625)\"/>\n       </defs>\n       <use xlink:href=\"#DejaVuSans-32\"/>\n       <use xlink:href=\"#DejaVuSans-30\" x=\"63.623047\"/>\n       <use xlink:href=\"#DejaVuSans-30\" x=\"127.246094\"/>\n      </g>\n     </g>\n    </g>\n    <g id=\"xtick_3\">\n     <g id=\"line2d_3\">\n      <g>\n       <use xlink:href=\"#md265ba8c2f\" x=\"161.065875\" y=\"239.758125\" style=\"stroke: #000000; stroke-width: 0.8\"/>\n      </g>\n     </g>\n     <g id=\"text_3\">\n      <!-- 400 -->\n      <g transform=\"translate(151.522125 254.356562)scale(0.1 -0.1)\">\n       <defs>\n        <path id=\"DejaVuSans-34\" d=\"M 2419 4116 \nL 825 1625 \nL 2419 1625 \nL 2419 4116 \nz\nM 2253 4666 \nL 3047 4666 \nL 3047 1625 \nL 3713 1625 \nL 3713 1100 \nL 3047 1100 \nL 3047 0 \nL 2419 0 \nL 2419 1100 \nL 313 1100 \nL 313 1709 \nL 2253 4666 \nz\n\" transform=\"scale(0.015625)\"/>\n       </defs>\n       <use xlink:href=\"#DejaVuSans-34\"/>\n       <use xlink:href=\"#DejaVuSans-30\" x=\"63.623047\"/>\n       <use xlink:href=\"#DejaVuSans-30\" x=\"127.246094\"/>\n      </g>\n     </g>\n    </g>\n    <g id=\"xtick_4\">\n     <g id=\"line2d_4\">\n      <g>\n       <use xlink:href=\"#md265ba8c2f\" x=\"216.869409\" y=\"239.758125\" style=\"stroke: #000000; stroke-width: 0.8\"/>\n      </g>\n     </g>\n     <g id=\"text_4\">\n      <!-- 600 -->\n      <g transform=\"translate(207.325659 254.356562)scale(0.1 -0.1)\">\n       <defs>\n        <path id=\"DejaVuSans-36\" d=\"M 2113 2584 \nQ 1688 2584 1439 2293 \nQ 1191 2003 1191 1497 \nQ 1191 994 1439 701 \nQ 1688 409 2113 409 \nQ 2538 409 2786 701 \nQ 3034 994 3034 1497 \nQ 3034 2003 2786 2293 \nQ 2538 2584 2113 2584 \nz\nM 3366 4563 \nL 3366 3988 \nQ 3128 4100 2886 4159 \nQ 2644 4219 2406 4219 \nQ 1781 4219 1451 3797 \nQ 1122 3375 1075 2522 \nQ 1259 2794 1537 2939 \nQ 1816 3084 2150 3084 \nQ 2853 3084 3261 2657 \nQ 3669 2231 3669 1497 \nQ 3669 778 3244 343 \nQ 2819 -91 2113 -91 \nQ 1303 -91 875 529 \nQ 447 1150 447 2328 \nQ 447 3434 972 4092 \nQ 1497 4750 2381 4750 \nQ 2619 4750 2861 4703 \nQ 3103 4656 3366 4563 \nz\n\" transform=\"scale(0.015625)\"/>\n       </defs>\n       <use xlink:href=\"#DejaVuSans-36\"/>\n       <use xlink:href=\"#DejaVuSans-30\" x=\"63.623047\"/>\n       <use xlink:href=\"#DejaVuSans-30\" x=\"127.246094\"/>\n      </g>\n     </g>\n    </g>\n    <g id=\"xtick_5\">\n     <g id=\"line2d_5\">\n      <g>\n       <use xlink:href=\"#md265ba8c2f\" x=\"272.672944\" y=\"239.758125\" style=\"stroke: #000000; stroke-width: 0.8\"/>\n      </g>\n     </g>\n     <g id=\"text_5\">\n      <!-- 800 -->\n      <g transform=\"translate(263.129194 254.356562)scale(0.1 -0.1)\">\n       <defs>\n        <path id=\"DejaVuSans-38\" d=\"M 2034 2216 \nQ 1584 2216 1326 1975 \nQ 1069 1734 1069 1313 \nQ 1069 891 1326 650 \nQ 1584 409 2034 409 \nQ 2484 409 2743 651 \nQ 3003 894 3003 1313 \nQ 3003 1734 2745 1975 \nQ 2488 2216 2034 2216 \nz\nM 1403 2484 \nQ 997 2584 770 2862 \nQ 544 3141 544 3541 \nQ 544 4100 942 4425 \nQ 1341 4750 2034 4750 \nQ 2731 4750 3128 4425 \nQ 3525 4100 3525 3541 \nQ 3525 3141 3298 2862 \nQ 3072 2584 2669 2484 \nQ 3125 2378 3379 2068 \nQ 3634 1759 3634 1313 \nQ 3634 634 3220 271 \nQ 2806 -91 2034 -91 \nQ 1263 -91 848 271 \nQ 434 634 434 1313 \nQ 434 1759 690 2068 \nQ 947 2378 1403 2484 \nz\nM 1172 3481 \nQ 1172 3119 1398 2916 \nQ 1625 2713 2034 2713 \nQ 2441 2713 2670 2916 \nQ 2900 3119 2900 3481 \nQ 2900 3844 2670 4047 \nQ 2441 4250 2034 4250 \nQ 1625 4250 1398 4047 \nQ 1172 3844 1172 3481 \nz\n\" transform=\"scale(0.015625)\"/>\n       </defs>\n       <use xlink:href=\"#DejaVuSans-38\"/>\n       <use xlink:href=\"#DejaVuSans-30\" x=\"63.623047\"/>\n       <use xlink:href=\"#DejaVuSans-30\" x=\"127.246094\"/>\n      </g>\n     </g>\n    </g>\n    <g id=\"xtick_6\">\n     <g id=\"line2d_6\">\n      <g>\n       <use xlink:href=\"#md265ba8c2f\" x=\"328.476478\" y=\"239.758125\" style=\"stroke: #000000; stroke-width: 0.8\"/>\n      </g>\n     </g>\n     <g id=\"text_6\">\n      <!-- 1000 -->\n      <g transform=\"translate(315.751478 254.356562)scale(0.1 -0.1)\">\n       <defs>\n        <path id=\"DejaVuSans-31\" d=\"M 794 531 \nL 1825 531 \nL 1825 4091 \nL 703 3866 \nL 703 4441 \nL 1819 4666 \nL 2450 4666 \nL 2450 531 \nL 3481 531 \nL 3481 0 \nL 794 0 \nL 794 531 \nz\n\" transform=\"scale(0.015625)\"/>\n       </defs>\n       <use xlink:href=\"#DejaVuSans-31\"/>\n       <use xlink:href=\"#DejaVuSans-30\" x=\"63.623047\"/>\n       <use xlink:href=\"#DejaVuSans-30\" x=\"127.246094\"/>\n       <use xlink:href=\"#DejaVuSans-30\" x=\"190.869141\"/>\n      </g>\n     </g>\n    </g>\n    <g id=\"text_7\">\n     <!-- Area -->\n     <g transform=\"translate(190.136719 268.034687)scale(0.1 -0.1)\">\n      <defs>\n       <path id=\"DejaVuSans-41\" d=\"M 2188 4044 \nL 1331 1722 \nL 3047 1722 \nL 2188 4044 \nz\nM 1831 4666 \nL 2547 4666 \nL 4325 0 \nL 3669 0 \nL 3244 1197 \nL 1141 1197 \nL 716 0 \nL 50 0 \nL 1831 4666 \nz\n\" transform=\"scale(0.015625)\"/>\n       <path id=\"DejaVuSans-72\" d=\"M 2631 2963 \nQ 2534 3019 2420 3045 \nQ 2306 3072 2169 3072 \nQ 1681 3072 1420 2755 \nQ 1159 2438 1159 1844 \nL 1159 0 \nL 581 0 \nL 581 3500 \nL 1159 3500 \nL 1159 2956 \nQ 1341 3275 1631 3429 \nQ 1922 3584 2338 3584 \nQ 2397 3584 2469 3576 \nQ 2541 3569 2628 3553 \nL 2631 2963 \nz\n\" transform=\"scale(0.015625)\"/>\n       <path id=\"DejaVuSans-65\" d=\"M 3597 1894 \nL 3597 1613 \nL 953 1613 \nQ 991 1019 1311 708 \nQ 1631 397 2203 397 \nQ 2534 397 2845 478 \nQ 3156 559 3463 722 \nL 3463 178 \nQ 3153 47 2828 -22 \nQ 2503 -91 2169 -91 \nQ 1331 -91 842 396 \nQ 353 884 353 1716 \nQ 353 2575 817 3079 \nQ 1281 3584 2069 3584 \nQ 2775 3584 3186 3129 \nQ 3597 2675 3597 1894 \nz\nM 3022 2063 \nQ 3016 2534 2758 2815 \nQ 2500 3097 2075 3097 \nQ 1594 3097 1305 2825 \nQ 1016 2553 972 2059 \nL 3022 2063 \nz\n\" transform=\"scale(0.015625)\"/>\n       <path id=\"DejaVuSans-61\" d=\"M 2194 1759 \nQ 1497 1759 1228 1600 \nQ 959 1441 959 1056 \nQ 959 750 1161 570 \nQ 1363 391 1709 391 \nQ 2188 391 2477 730 \nQ 2766 1069 2766 1631 \nL 2766 1759 \nL 2194 1759 \nz\nM 3341 1997 \nL 3341 0 \nL 2766 0 \nL 2766 531 \nQ 2569 213 2275 61 \nQ 1981 -91 1556 -91 \nQ 1019 -91 701 211 \nQ 384 513 384 1019 \nQ 384 1609 779 1909 \nQ 1175 2209 1959 2209 \nL 2766 2209 \nL 2766 2266 \nQ 2766 2663 2505 2880 \nQ 2244 3097 1772 3097 \nQ 1472 3097 1187 3025 \nQ 903 2953 641 2809 \nL 641 3341 \nQ 956 3463 1253 3523 \nQ 1550 3584 1831 3584 \nQ 2591 3584 2966 3190 \nQ 3341 2797 3341 1997 \nz\n\" transform=\"scale(0.015625)\"/>\n      </defs>\n      <use xlink:href=\"#DejaVuSans-41\"/>\n      <use xlink:href=\"#DejaVuSans-72\" x=\"68.408203\"/>\n      <use xlink:href=\"#DejaVuSans-65\" x=\"107.271484\"/>\n      <use xlink:href=\"#DejaVuSans-61\" x=\"168.794922\"/>\n     </g>\n    </g>\n   </g>\n   <g id=\"matplotlib.axis_2\">\n    <g id=\"ytick_1\">\n     <g id=\"line2d_7\">\n      <defs>\n       <path id=\"m5bf5a8e8f6\" d=\"M 0 0 \nL -3.5 0 \n\" style=\"stroke: #000000; stroke-width: 0.8\"/>\n      </defs>\n      <g>\n       <use xlink:href=\"#m5bf5a8e8f6\" x=\"34.240625\" y=\"238.659943\" style=\"stroke: #000000; stroke-width: 0.8\"/>\n      </g>\n     </g>\n     <g id=\"text_8\">\n      <!-- 0 -->\n      <g transform=\"translate(20.878125 242.459162)scale(0.1 -0.1)\">\n       <use xlink:href=\"#DejaVuSans-30\"/>\n      </g>\n     </g>\n    </g>\n    <g id=\"ytick_2\">\n     <g id=\"line2d_8\">\n      <g>\n       <use xlink:href=\"#m5bf5a8e8f6\" x=\"34.240625\" y=\"194.73267\" style=\"stroke: #000000; stroke-width: 0.8\"/>\n      </g>\n     </g>\n     <g id=\"text_9\">\n      <!-- 2 -->\n      <g transform=\"translate(20.878125 198.531889)scale(0.1 -0.1)\">\n       <use xlink:href=\"#DejaVuSans-32\"/>\n      </g>\n     </g>\n    </g>\n    <g id=\"ytick_3\">\n     <g id=\"line2d_9\">\n      <g>\n       <use xlink:href=\"#m5bf5a8e8f6\" x=\"34.240625\" y=\"150.805398\" style=\"stroke: #000000; stroke-width: 0.8\"/>\n      </g>\n     </g>\n     <g id=\"text_10\">\n      <!-- 4 -->\n      <g transform=\"translate(20.878125 154.604616)scale(0.1 -0.1)\">\n       <use xlink:href=\"#DejaVuSans-34\"/>\n      </g>\n     </g>\n    </g>\n    <g id=\"ytick_4\">\n     <g id=\"line2d_10\">\n      <g>\n       <use xlink:href=\"#m5bf5a8e8f6\" x=\"34.240625\" y=\"106.878125\" style=\"stroke: #000000; stroke-width: 0.8\"/>\n      </g>\n     </g>\n     <g id=\"text_11\">\n      <!-- 6 -->\n      <g transform=\"translate(20.878125 110.677344)scale(0.1 -0.1)\">\n       <use xlink:href=\"#DejaVuSans-36\"/>\n      </g>\n     </g>\n    </g>\n    <g id=\"ytick_5\">\n     <g id=\"line2d_11\">\n      <g>\n       <use xlink:href=\"#m5bf5a8e8f6\" x=\"34.240625\" y=\"62.950852\" style=\"stroke: #000000; stroke-width: 0.8\"/>\n      </g>\n     </g>\n     <g id=\"text_12\">\n      <!-- 8 -->\n      <g transform=\"translate(20.878125 66.750071)scale(0.1 -0.1)\">\n       <use xlink:href=\"#DejaVuSans-38\"/>\n      </g>\n     </g>\n    </g>\n    <g id=\"text_13\">\n     <!-- Wind -->\n     <g transform=\"translate(14.798437 143.601406)rotate(-90)scale(0.1 -0.1)\">\n      <defs>\n       <path id=\"DejaVuSans-57\" d=\"M 213 4666 \nL 850 4666 \nL 1831 722 \nL 2809 4666 \nL 3519 4666 \nL 4500 722 \nL 5478 4666 \nL 6119 4666 \nL 4947 0 \nL 4153 0 \nL 3169 4050 \nL 2175 0 \nL 1381 0 \nL 213 4666 \nz\n\" transform=\"scale(0.015625)\"/>\n       <path id=\"DejaVuSans-69\" d=\"M 603 3500 \nL 1178 3500 \nL 1178 0 \nL 603 0 \nL 603 3500 \nz\nM 603 4863 \nL 1178 4863 \nL 1178 4134 \nL 603 4134 \nL 603 4863 \nz\n\" transform=\"scale(0.015625)\"/>\n       <path id=\"DejaVuSans-6e\" d=\"M 3513 2113 \nL 3513 0 \nL 2938 0 \nL 2938 2094 \nQ 2938 2591 2744 2837 \nQ 2550 3084 2163 3084 \nQ 1697 3084 1428 2787 \nQ 1159 2491 1159 1978 \nL 1159 0 \nL 581 0 \nL 581 3500 \nL 1159 3500 \nL 1159 2956 \nQ 1366 3272 1645 3428 \nQ 1925 3584 2291 3584 \nQ 2894 3584 3203 3211 \nQ 3513 2838 3513 2113 \nz\n\" transform=\"scale(0.015625)\"/>\n       <path id=\"DejaVuSans-64\" d=\"M 2906 2969 \nL 2906 4863 \nL 3481 4863 \nL 3481 0 \nL 2906 0 \nL 2906 525 \nQ 2725 213 2448 61 \nQ 2172 -91 1784 -91 \nQ 1150 -91 751 415 \nQ 353 922 353 1747 \nQ 353 2572 751 3078 \nQ 1150 3584 1784 3584 \nQ 2172 3584 2448 3432 \nQ 2725 3281 2906 2969 \nz\nM 947 1747 \nQ 947 1113 1208 752 \nQ 1469 391 1925 391 \nQ 2381 391 2643 752 \nQ 2906 1113 2906 1747 \nQ 2906 2381 2643 2742 \nQ 2381 3103 1925 3103 \nQ 1469 3103 1208 2742 \nQ 947 2381 947 1747 \nz\n\" transform=\"scale(0.015625)\"/>\n      </defs>\n      <use xlink:href=\"#DejaVuSans-57\"/>\n      <use xlink:href=\"#DejaVuSans-69\" x=\"96.626953\"/>\n      <use xlink:href=\"#DejaVuSans-6e\" x=\"124.410156\"/>\n      <use xlink:href=\"#DejaVuSans-64\" x=\"187.789062\"/>\n     </g>\n    </g>\n   </g>\n   <g id=\"patch_3\">\n    <path d=\"M 34.240625 239.758125 \nL 34.240625 22.318125 \n\" style=\"fill: none; stroke: #000000; stroke-width: 0.8; stroke-linejoin: miter; stroke-linecap: square\"/>\n   </g>\n   <g id=\"patch_4\">\n    <path d=\"M 369.040625 239.758125 \nL 369.040625 22.318125 \n\" style=\"fill: none; stroke: #000000; stroke-width: 0.8; stroke-linejoin: miter; stroke-linecap: square\"/>\n   </g>\n   <g id=\"patch_5\">\n    <path d=\"M 34.240625 239.758125 \nL 369.040625 239.758125 \n\" style=\"fill: none; stroke: #000000; stroke-width: 0.8; stroke-linejoin: miter; stroke-linecap: square\"/>\n   </g>\n   <g id=\"patch_6\">\n    <path d=\"M 34.240625 22.318125 \nL 369.040625 22.318125 \n\" style=\"fill: none; stroke: #000000; stroke-width: 0.8; stroke-linejoin: miter; stroke-linecap: square\"/>\n   </g>\n   <g id=\"text_14\">\n    <!-- Scatter plot of area and wind attributes -->\n    <g transform=\"translate(83.121875 16.318125)scale(0.12 -0.12)\">\n     <defs>\n      <path id=\"DejaVuSans-53\" d=\"M 3425 4513 \nL 3425 3897 \nQ 3066 4069 2747 4153 \nQ 2428 4238 2131 4238 \nQ 1616 4238 1336 4038 \nQ 1056 3838 1056 3469 \nQ 1056 3159 1242 3001 \nQ 1428 2844 1947 2747 \nL 2328 2669 \nQ 3034 2534 3370 2195 \nQ 3706 1856 3706 1288 \nQ 3706 609 3251 259 \nQ 2797 -91 1919 -91 \nQ 1588 -91 1214 -16 \nQ 841 59 441 206 \nL 441 856 \nQ 825 641 1194 531 \nQ 1563 422 1919 422 \nQ 2459 422 2753 634 \nQ 3047 847 3047 1241 \nQ 3047 1584 2836 1778 \nQ 2625 1972 2144 2069 \nL 1759 2144 \nQ 1053 2284 737 2584 \nQ 422 2884 422 3419 \nQ 422 4038 858 4394 \nQ 1294 4750 2059 4750 \nQ 2388 4750 2728 4690 \nQ 3069 4631 3425 4513 \nz\n\" transform=\"scale(0.015625)\"/>\n      <path id=\"DejaVuSans-63\" d=\"M 3122 3366 \nL 3122 2828 \nQ 2878 2963 2633 3030 \nQ 2388 3097 2138 3097 \nQ 1578 3097 1268 2742 \nQ 959 2388 959 1747 \nQ 959 1106 1268 751 \nQ 1578 397 2138 397 \nQ 2388 397 2633 464 \nQ 2878 531 3122 666 \nL 3122 134 \nQ 2881 22 2623 -34 \nQ 2366 -91 2075 -91 \nQ 1284 -91 818 406 \nQ 353 903 353 1747 \nQ 353 2603 823 3093 \nQ 1294 3584 2113 3584 \nQ 2378 3584 2631 3529 \nQ 2884 3475 3122 3366 \nz\n\" transform=\"scale(0.015625)\"/>\n      <path id=\"DejaVuSans-74\" d=\"M 1172 4494 \nL 1172 3500 \nL 2356 3500 \nL 2356 3053 \nL 1172 3053 \nL 1172 1153 \nQ 1172 725 1289 603 \nQ 1406 481 1766 481 \nL 2356 481 \nL 2356 0 \nL 1766 0 \nQ 1100 0 847 248 \nQ 594 497 594 1153 \nL 594 3053 \nL 172 3053 \nL 172 3500 \nL 594 3500 \nL 594 4494 \nL 1172 4494 \nz\n\" transform=\"scale(0.015625)\"/>\n      <path id=\"DejaVuSans-20\" transform=\"scale(0.015625)\"/>\n      <path id=\"DejaVuSans-70\" d=\"M 1159 525 \nL 1159 -1331 \nL 581 -1331 \nL 581 3500 \nL 1159 3500 \nL 1159 2969 \nQ 1341 3281 1617 3432 \nQ 1894 3584 2278 3584 \nQ 2916 3584 3314 3078 \nQ 3713 2572 3713 1747 \nQ 3713 922 3314 415 \nQ 2916 -91 2278 -91 \nQ 1894 -91 1617 61 \nQ 1341 213 1159 525 \nz\nM 3116 1747 \nQ 3116 2381 2855 2742 \nQ 2594 3103 2138 3103 \nQ 1681 3103 1420 2742 \nQ 1159 2381 1159 1747 \nQ 1159 1113 1420 752 \nQ 1681 391 2138 391 \nQ 2594 391 2855 752 \nQ 3116 1113 3116 1747 \nz\n\" transform=\"scale(0.015625)\"/>\n      <path id=\"DejaVuSans-6c\" d=\"M 603 4863 \nL 1178 4863 \nL 1178 0 \nL 603 0 \nL 603 4863 \nz\n\" transform=\"scale(0.015625)\"/>\n      <path id=\"DejaVuSans-6f\" d=\"M 1959 3097 \nQ 1497 3097 1228 2736 \nQ 959 2375 959 1747 \nQ 959 1119 1226 758 \nQ 1494 397 1959 397 \nQ 2419 397 2687 759 \nQ 2956 1122 2956 1747 \nQ 2956 2369 2687 2733 \nQ 2419 3097 1959 3097 \nz\nM 1959 3584 \nQ 2709 3584 3137 3096 \nQ 3566 2609 3566 1747 \nQ 3566 888 3137 398 \nQ 2709 -91 1959 -91 \nQ 1206 -91 779 398 \nQ 353 888 353 1747 \nQ 353 2609 779 3096 \nQ 1206 3584 1959 3584 \nz\n\" transform=\"scale(0.015625)\"/>\n      <path id=\"DejaVuSans-66\" d=\"M 2375 4863 \nL 2375 4384 \nL 1825 4384 \nQ 1516 4384 1395 4259 \nQ 1275 4134 1275 3809 \nL 1275 3500 \nL 2222 3500 \nL 2222 3053 \nL 1275 3053 \nL 1275 0 \nL 697 0 \nL 697 3053 \nL 147 3053 \nL 147 3500 \nL 697 3500 \nL 697 3744 \nQ 697 4328 969 4595 \nQ 1241 4863 1831 4863 \nL 2375 4863 \nz\n\" transform=\"scale(0.015625)\"/>\n      <path id=\"DejaVuSans-77\" d=\"M 269 3500 \nL 844 3500 \nL 1563 769 \nL 2278 3500 \nL 2956 3500 \nL 3675 769 \nL 4391 3500 \nL 4966 3500 \nL 4050 0 \nL 3372 0 \nL 2619 2869 \nL 1863 0 \nL 1184 0 \nL 269 3500 \nz\n\" transform=\"scale(0.015625)\"/>\n      <path id=\"DejaVuSans-62\" d=\"M 3116 1747 \nQ 3116 2381 2855 2742 \nQ 2594 3103 2138 3103 \nQ 1681 3103 1420 2742 \nQ 1159 2381 1159 1747 \nQ 1159 1113 1420 752 \nQ 1681 391 2138 391 \nQ 2594 391 2855 752 \nQ 3116 1113 3116 1747 \nz\nM 1159 2969 \nQ 1341 3281 1617 3432 \nQ 1894 3584 2278 3584 \nQ 2916 3584 3314 3078 \nQ 3713 2572 3713 1747 \nQ 3713 922 3314 415 \nQ 2916 -91 2278 -91 \nQ 1894 -91 1617 61 \nQ 1341 213 1159 525 \nL 1159 0 \nL 581 0 \nL 581 4863 \nL 1159 4863 \nL 1159 2969 \nz\n\" transform=\"scale(0.015625)\"/>\n      <path id=\"DejaVuSans-75\" d=\"M 544 1381 \nL 544 3500 \nL 1119 3500 \nL 1119 1403 \nQ 1119 906 1312 657 \nQ 1506 409 1894 409 \nQ 2359 409 2629 706 \nQ 2900 1003 2900 1516 \nL 2900 3500 \nL 3475 3500 \nL 3475 0 \nL 2900 0 \nL 2900 538 \nQ 2691 219 2414 64 \nQ 2138 -91 1772 -91 \nQ 1169 -91 856 284 \nQ 544 659 544 1381 \nz\nM 1991 3584 \nL 1991 3584 \nz\n\" transform=\"scale(0.015625)\"/>\n      <path id=\"DejaVuSans-73\" d=\"M 2834 3397 \nL 2834 2853 \nQ 2591 2978 2328 3040 \nQ 2066 3103 1784 3103 \nQ 1356 3103 1142 2972 \nQ 928 2841 928 2578 \nQ 928 2378 1081 2264 \nQ 1234 2150 1697 2047 \nL 1894 2003 \nQ 2506 1872 2764 1633 \nQ 3022 1394 3022 966 \nQ 3022 478 2636 193 \nQ 2250 -91 1575 -91 \nQ 1294 -91 989 -36 \nQ 684 19 347 128 \nL 347 722 \nQ 666 556 975 473 \nQ 1284 391 1588 391 \nQ 1994 391 2212 530 \nQ 2431 669 2431 922 \nQ 2431 1156 2273 1281 \nQ 2116 1406 1581 1522 \nL 1381 1569 \nQ 847 1681 609 1914 \nQ 372 2147 372 2553 \nQ 372 3047 722 3315 \nQ 1072 3584 1716 3584 \nQ 2034 3584 2315 3537 \nQ 2597 3491 2834 3397 \nz\n\" transform=\"scale(0.015625)\"/>\n     </defs>\n     <use xlink:href=\"#DejaVuSans-53\"/>\n     <use xlink:href=\"#DejaVuSans-63\" x=\"63.476562\"/>\n     <use xlink:href=\"#DejaVuSans-61\" x=\"118.457031\"/>\n     <use xlink:href=\"#DejaVuSans-74\" x=\"179.736328\"/>\n     <use xlink:href=\"#DejaVuSans-74\" x=\"218.945312\"/>\n     <use xlink:href=\"#DejaVuSans-65\" x=\"258.154297\"/>\n     <use xlink:href=\"#DejaVuSans-72\" x=\"319.677734\"/>\n     <use xlink:href=\"#DejaVuSans-20\" x=\"360.791016\"/>\n     <use xlink:href=\"#DejaVuSans-70\" x=\"392.578125\"/>\n     <use xlink:href=\"#DejaVuSans-6c\" x=\"456.054688\"/>\n     <use xlink:href=\"#DejaVuSans-6f\" x=\"483.837891\"/>\n     <use xlink:href=\"#DejaVuSans-74\" x=\"545.019531\"/>\n     <use xlink:href=\"#DejaVuSans-20\" x=\"584.228516\"/>\n     <use xlink:href=\"#DejaVuSans-6f\" x=\"616.015625\"/>\n     <use xlink:href=\"#DejaVuSans-66\" x=\"677.197266\"/>\n     <use xlink:href=\"#DejaVuSans-20\" x=\"712.402344\"/>\n     <use xlink:href=\"#DejaVuSans-61\" x=\"744.189453\"/>\n     <use xlink:href=\"#DejaVuSans-72\" x=\"805.46875\"/>\n     <use xlink:href=\"#DejaVuSans-65\" x=\"844.332031\"/>\n     <use xlink:href=\"#DejaVuSans-61\" x=\"905.855469\"/>\n     <use xlink:href=\"#DejaVuSans-20\" x=\"967.134766\"/>\n     <use xlink:href=\"#DejaVuSans-61\" x=\"998.921875\"/>\n     <use xlink:href=\"#DejaVuSans-6e\" x=\"1060.201172\"/>\n     <use xlink:href=\"#DejaVuSans-64\" x=\"1123.580078\"/>\n     <use xlink:href=\"#DejaVuSans-20\" x=\"1187.056641\"/>\n     <use xlink:href=\"#DejaVuSans-77\" x=\"1218.84375\"/>\n     <use xlink:href=\"#DejaVuSans-69\" x=\"1300.630859\"/>\n     <use xlink:href=\"#DejaVuSans-6e\" x=\"1328.414062\"/>\n     <use xlink:href=\"#DejaVuSans-64\" x=\"1391.792969\"/>\n     <use xlink:href=\"#DejaVuSans-20\" x=\"1455.269531\"/>\n     <use xlink:href=\"#DejaVuSans-61\" x=\"1487.056641\"/>\n     <use xlink:href=\"#DejaVuSans-74\" x=\"1548.335938\"/>\n     <use xlink:href=\"#DejaVuSans-74\" x=\"1587.544922\"/>\n     <use xlink:href=\"#DejaVuSans-72\" x=\"1626.753906\"/>\n     <use xlink:href=\"#DejaVuSans-69\" x=\"1667.867188\"/>\n     <use xlink:href=\"#DejaVuSans-62\" x=\"1695.650391\"/>\n     <use xlink:href=\"#DejaVuSans-75\" x=\"1759.126953\"/>\n     <use xlink:href=\"#DejaVuSans-74\" x=\"1822.505859\"/>\n     <use xlink:href=\"#DejaVuSans-65\" x=\"1861.714844\"/>\n     <use xlink:href=\"#DejaVuSans-73\" x=\"1923.238281\"/>\n    </g>\n   </g>\n  </g>\n </g>\n <defs>\n  <clipPath id=\"p5b25f81627\">\n   <rect x=\"34.240625\" y=\"22.318125\" width=\"334.8\" height=\"217.44\"/>\n  </clipPath>\n </defs>\n</svg>\n",
      "text/plain": [
       "<Figure size 432x288 with 1 Axes>"
      ]
     },
     "metadata": {
      "needs_background": "light"
     },
     "output_type": "display_data"
    }
   ],
   "source": [
    "# create scatter plot between area and wind attributes\n",
    "plt.scatter(df['area'], df['wind'], color = \"purple\", marker = \"o\", alpha = 0.5)\n",
    "plt.title(\"Scatter plot of area and wind attributes\")\n",
    "plt.xlabel(\"Area\")\n",
    "plt.ylabel(\"Wind\")\n",
    "plt.show()"
   ]
  },
  {
   "cell_type": "code",
   "execution_count": 12,
   "metadata": {},
   "outputs": [
    {
     "name": "stdout",
     "output_type": "stream",
     "text": [
      "Correlation coefficient: 0.012317276888673111\n"
     ]
    }
   ],
   "source": [
    "# calculate correlation coefficient between area and wind attributes\n",
    "print(\"Correlation coefficient:\", df['area'].corr(df['wind']))"
   ]
  },
  {
   "cell_type": "markdown",
   "metadata": {},
   "source": [
    "## Task 5. Correlation"
   ]
  },
  {
   "cell_type": "code",
   "execution_count": 13,
   "metadata": {},
   "outputs": [
    {
     "data": {
      "text/plain": [
       "RH     0.075519\n",
       "DMC    0.072994\n",
       "DC     0.049383\n",
       "dtype: float64"
      ]
     },
     "execution_count": 13,
     "metadata": {},
     "output_type": "execute_result"
    }
   ],
   "source": [
    "attributes = [ \"FFMC\", \"DMC\", \"DC\", \"ISI\", \"RH\", \"wind\" ]\n",
    "df[attributes].corrwith(df['area']).apply(abs).sort_values(ascending = False).head(3)"
   ]
  },
  {
   "cell_type": "code",
   "execution_count": 14,
   "metadata": {},
   "outputs": [
    {
     "data": {
      "text/plain": [
       "FFMC    0.040122\n",
       "DMC     0.072994\n",
       "DC      0.049383\n",
       "ISI     0.008258\n",
       "RH     -0.075519\n",
       "wind    0.012317\n",
       "dtype: float64"
      ]
     },
     "execution_count": 14,
     "metadata": {},
     "output_type": "execute_result"
    }
   ],
   "source": [
    "df[attributes].corrwith(df['area'])"
   ]
  },
  {
   "cell_type": "markdown",
   "metadata": {},
   "source": [
    "## Task 6. $\\chi^2$-Test"
   ]
  },
  {
   "cell_type": "code",
   "execution_count": 15,
   "metadata": {},
   "outputs": [],
   "source": [
    "significance_level = 0.01"
   ]
  },
  {
   "cell_type": "markdown",
   "metadata": {},
   "source": [
    "### Part A: Dependency between `temp` and `wind` attributes"
   ]
  },
  {
   "cell_type": "code",
   "execution_count": 16,
   "metadata": {},
   "outputs": [
    {
     "data": {
      "text/html": [
       "<div>\n",
       "<style scoped>\n",
       "    .dataframe tbody tr th:only-of-type {\n",
       "        vertical-align: middle;\n",
       "    }\n",
       "\n",
       "    .dataframe tbody tr th {\n",
       "        vertical-align: top;\n",
       "    }\n",
       "\n",
       "    .dataframe thead th {\n",
       "        text-align: right;\n",
       "    }\n",
       "</style>\n",
       "<table border=\"1\" class=\"dataframe\">\n",
       "  <thead>\n",
       "    <tr style=\"text-align: right;\">\n",
       "      <th></th>\n",
       "      <th>temp_ge_mean</th>\n",
       "      <th>wind_ge_mean</th>\n",
       "    </tr>\n",
       "  </thead>\n",
       "  <tbody>\n",
       "    <tr>\n",
       "      <th>0</th>\n",
       "      <td>False</td>\n",
       "      <td>True</td>\n",
       "    </tr>\n",
       "    <tr>\n",
       "      <th>1</th>\n",
       "      <td>False</td>\n",
       "      <td>False</td>\n",
       "    </tr>\n",
       "    <tr>\n",
       "      <th>2</th>\n",
       "      <td>False</td>\n",
       "      <td>False</td>\n",
       "    </tr>\n",
       "    <tr>\n",
       "      <th>3</th>\n",
       "      <td>False</td>\n",
       "      <td>False</td>\n",
       "    </tr>\n",
       "    <tr>\n",
       "      <th>4</th>\n",
       "      <td>False</td>\n",
       "      <td>False</td>\n",
       "    </tr>\n",
       "  </tbody>\n",
       "</table>\n",
       "</div>"
      ],
      "text/plain": [
       "   temp_ge_mean  wind_ge_mean\n",
       "0         False          True\n",
       "1         False         False\n",
       "2         False         False\n",
       "3         False         False\n",
       "4         False         False"
      ]
     },
     "execution_count": 16,
     "metadata": {},
     "output_type": "execute_result"
    }
   ],
   "source": [
    "# split entries into whether `temp` and `wind` are greater than or equal to their respective means\n",
    "df_temp_wind = pd.DataFrame()\n",
    "df_temp_wind['temp_ge_mean'] = df['temp'] >= df['temp'].mean()\n",
    "df_temp_wind['wind_ge_mean'] = df['wind'] >= df['wind'].mean()\n",
    "df_temp_wind.head()"
   ]
  },
  {
   "cell_type": "code",
   "execution_count": 17,
   "metadata": {},
   "outputs": [
    {
     "data": {
      "text/html": [
       "<div>\n",
       "<style scoped>\n",
       "    .dataframe tbody tr th:only-of-type {\n",
       "        vertical-align: middle;\n",
       "    }\n",
       "\n",
       "    .dataframe tbody tr th {\n",
       "        vertical-align: top;\n",
       "    }\n",
       "\n",
       "    .dataframe thead th {\n",
       "        text-align: right;\n",
       "    }\n",
       "</style>\n",
       "<table border=\"1\" class=\"dataframe\">\n",
       "  <thead>\n",
       "    <tr style=\"text-align: right;\">\n",
       "      <th>wind_ge_mean</th>\n",
       "      <th>False</th>\n",
       "      <th>True</th>\n",
       "    </tr>\n",
       "    <tr>\n",
       "      <th>temp_ge_mean</th>\n",
       "      <th></th>\n",
       "      <th></th>\n",
       "    </tr>\n",
       "  </thead>\n",
       "  <tbody>\n",
       "    <tr>\n",
       "      <th>False</th>\n",
       "      <td>125</td>\n",
       "      <td>112</td>\n",
       "    </tr>\n",
       "    <tr>\n",
       "      <th>True</th>\n",
       "      <td>175</td>\n",
       "      <td>105</td>\n",
       "    </tr>\n",
       "  </tbody>\n",
       "</table>\n",
       "</div>"
      ],
      "text/plain": [
       "wind_ge_mean  False  True\n",
       "temp_ge_mean             \n",
       "False           125   112\n",
       "True            175   105"
      ]
     },
     "execution_count": 17,
     "metadata": {},
     "output_type": "execute_result"
    }
   ],
   "source": [
    "# create crosstab of `temp_ge_mean` and `wind_ge_mean`\n",
    "crosstab = pd.crosstab(df_temp_wind['temp_ge_mean'], df_temp_wind['wind_ge_mean'])\n",
    "crosstab"
   ]
  },
  {
   "cell_type": "code",
   "execution_count": 18,
   "metadata": {},
   "outputs": [
    {
     "name": "stdout",
     "output_type": "stream",
     "text": [
      "Chi-squared test:\n",
      "\tchi2: 4.6248223286218\n",
      "\tp: 0.031512524845180044\n",
      "\tdof: 1\n"
     ]
    }
   ],
   "source": [
    "# perform chi square test for independence between `temp` and `wind` attributes\n",
    "chi2, p, dof, expected = scipy.stats.chi2_contingency(crosstab)\n",
    "print(\"Chi-squared test:\")\n",
    "print(\"\\tchi2:\", chi2)\n",
    "print(\"\\tp:\", p)\n",
    "print(\"\\tdof:\", dof)"
   ]
  },
  {
   "cell_type": "code",
   "execution_count": 19,
   "metadata": {},
   "outputs": [
    {
     "data": {
      "text/plain": [
       "array([[137.52417795,  99.47582205],\n",
       "       [162.47582205, 117.52417795]])"
      ]
     },
     "execution_count": 19,
     "metadata": {},
     "output_type": "execute_result"
    }
   ],
   "source": [
    "expected"
   ]
  },
  {
   "cell_type": "code",
   "execution_count": 52,
   "metadata": {},
   "outputs": [
    {
     "name": "stdout",
     "output_type": "stream",
     "text": [
      "Critical value: 6.6348966010212145\n",
      "Null hypothesis is rejected. There is a relationship between `temp` and `wind` attributes.\n"
     ]
    }
   ],
   "source": [
    "# find critical value\n",
    "critical_value = scipy.stats.chi2.ppf(q = 1 - significance_level, df = dof)\n",
    "print(\"Critical value:\", critical_value)\n",
    "\n",
    "# determine if null hypothesis is rejected\n",
    "if chi2 >= critical_value:\n",
    "    print(\"Null hypothesis is rejected. There is a relationship between `temp` and `wind` attributes.\")\n",
    "else:\n",
    "    print(\"Null hypothesis is not rejected. There is no significant relationship between `temp` and `wind` attributes.\")"
   ]
  },
  {
   "cell_type": "markdown",
   "metadata": {},
   "source": [
    "### Part B: Dependency between `X` and `Y` attributes"
   ]
  },
  {
   "cell_type": "code",
   "execution_count": 21,
   "metadata": {},
   "outputs": [
    {
     "data": {
      "text/html": [
       "<div>\n",
       "<style scoped>\n",
       "    .dataframe tbody tr th:only-of-type {\n",
       "        vertical-align: middle;\n",
       "    }\n",
       "\n",
       "    .dataframe tbody tr th {\n",
       "        vertical-align: top;\n",
       "    }\n",
       "\n",
       "    .dataframe thead th {\n",
       "        text-align: right;\n",
       "    }\n",
       "</style>\n",
       "<table border=\"1\" class=\"dataframe\">\n",
       "  <thead>\n",
       "    <tr style=\"text-align: right;\">\n",
       "      <th></th>\n",
       "      <th>X_ge_mean</th>\n",
       "      <th>Y_ge_mean</th>\n",
       "    </tr>\n",
       "  </thead>\n",
       "  <tbody>\n",
       "    <tr>\n",
       "      <th>0</th>\n",
       "      <td>True</td>\n",
       "      <td>True</td>\n",
       "    </tr>\n",
       "    <tr>\n",
       "      <th>1</th>\n",
       "      <td>True</td>\n",
       "      <td>False</td>\n",
       "    </tr>\n",
       "    <tr>\n",
       "      <th>2</th>\n",
       "      <td>True</td>\n",
       "      <td>False</td>\n",
       "    </tr>\n",
       "    <tr>\n",
       "      <th>3</th>\n",
       "      <td>True</td>\n",
       "      <td>True</td>\n",
       "    </tr>\n",
       "    <tr>\n",
       "      <th>4</th>\n",
       "      <td>True</td>\n",
       "      <td>True</td>\n",
       "    </tr>\n",
       "  </tbody>\n",
       "</table>\n",
       "</div>"
      ],
      "text/plain": [
       "   X_ge_mean  Y_ge_mean\n",
       "0       True       True\n",
       "1       True      False\n",
       "2       True      False\n",
       "3       True       True\n",
       "4       True       True"
      ]
     },
     "execution_count": 21,
     "metadata": {},
     "output_type": "execute_result"
    }
   ],
   "source": [
    "# split entries into whether `X` and `Y` are greater than or equal to their respective means\n",
    "df_X_Y = pd.DataFrame()\n",
    "df_X_Y['X_ge_mean'] = df['X'] >= df['X'].mean()\n",
    "df_X_Y['Y_ge_mean'] = df['Y'] >= df['Y'].mean()\n",
    "df_X_Y.head()"
   ]
  },
  {
   "cell_type": "code",
   "execution_count": 22,
   "metadata": {},
   "outputs": [
    {
     "data": {
      "text/html": [
       "<div>\n",
       "<style scoped>\n",
       "    .dataframe tbody tr th:only-of-type {\n",
       "        vertical-align: middle;\n",
       "    }\n",
       "\n",
       "    .dataframe tbody tr th {\n",
       "        vertical-align: top;\n",
       "    }\n",
       "\n",
       "    .dataframe thead th {\n",
       "        text-align: right;\n",
       "    }\n",
       "</style>\n",
       "<table border=\"1\" class=\"dataframe\">\n",
       "  <thead>\n",
       "    <tr style=\"text-align: right;\">\n",
       "      <th>Y_ge_mean</th>\n",
       "      <th>False</th>\n",
       "      <th>True</th>\n",
       "    </tr>\n",
       "    <tr>\n",
       "      <th>X_ge_mean</th>\n",
       "      <th></th>\n",
       "      <th></th>\n",
       "    </tr>\n",
       "  </thead>\n",
       "  <tbody>\n",
       "    <tr>\n",
       "      <th>False</th>\n",
       "      <td>199</td>\n",
       "      <td>68</td>\n",
       "    </tr>\n",
       "    <tr>\n",
       "      <th>True</th>\n",
       "      <td>112</td>\n",
       "      <td>138</td>\n",
       "    </tr>\n",
       "  </tbody>\n",
       "</table>\n",
       "</div>"
      ],
      "text/plain": [
       "Y_ge_mean  False  True\n",
       "X_ge_mean             \n",
       "False        199    68\n",
       "True         112   138"
      ]
     },
     "execution_count": 22,
     "metadata": {},
     "output_type": "execute_result"
    }
   ],
   "source": [
    "# create crosstab of `X_ge_mean` and `Y_ge_mean`\n",
    "crosstab = pd.crosstab(df_X_Y['X_ge_mean'], df_X_Y['Y_ge_mean'])\n",
    "crosstab"
   ]
  },
  {
   "cell_type": "code",
   "execution_count": 23,
   "metadata": {},
   "outputs": [
    {
     "name": "stdout",
     "output_type": "stream",
     "text": [
      "Chi-squared test:\n",
      "\tchi2: 46.3841585605598\n",
      "\tp: 9.719816977512204e-12\n",
      "\tdof: 1\n"
     ]
    }
   ],
   "source": [
    "# perform chi square test for independence between `X` and `Y` attributes\n",
    "chi2, p, dof, expected = scipy.stats.chi2_contingency(crosstab)\n",
    "print(\"Chi-squared test:\")\n",
    "print(\"\\tchi2:\", chi2)\n",
    "print(\"\\tp:\", p)\n",
    "print(\"\\tdof:\", dof)"
   ]
  },
  {
   "cell_type": "code",
   "execution_count": 24,
   "metadata": {},
   "outputs": [
    {
     "data": {
      "text/plain": [
       "array([[160.6131528, 106.3868472],\n",
       "       [150.3868472,  99.6131528]])"
      ]
     },
     "execution_count": 24,
     "metadata": {},
     "output_type": "execute_result"
    }
   ],
   "source": [
    "expected"
   ]
  },
  {
   "cell_type": "code",
   "execution_count": 25,
   "metadata": {},
   "outputs": [
    {
     "name": "stdout",
     "output_type": "stream",
     "text": [
      "Critical value: 6.6348966010212145\n",
      "Null hypothesis is rejected. There is a relationship between `X` and `Y` attributes.\n"
     ]
    }
   ],
   "source": [
    "# find critical value\n",
    "critical_value = scipy.stats.chi2.ppf(q = 1 - significance_level, df = dof)\n",
    "print(\"Critical value:\", critical_value)\n",
    "\n",
    "# determine if null hypothesis is rejected\n",
    "if chi2 >= critical_value:\n",
    "    print(\"Null hypothesis is rejected. There is a relationship between `X` and `Y` attributes.\")\n",
    "else:\n",
    "    print(\"Null hypothesis is not rejected. There is no significant relationship between `X` and `Y` attributes.\")"
   ]
  },
  {
   "cell_type": "markdown",
   "metadata": {},
   "source": [
    "## Task 7. Normalization"
   ]
  },
  {
   "cell_type": "code",
   "execution_count": 26,
   "metadata": {},
   "outputs": [],
   "source": [
    "from sklearn.preprocessing import MinMaxScaler, StandardScaler"
   ]
  },
  {
   "cell_type": "markdown",
   "metadata": {},
   "source": [
    "### Part A: Normalize attribute `FFMC`"
   ]
  },
  {
   "cell_type": "code",
   "execution_count": 27,
   "metadata": {},
   "outputs": [
    {
     "data": {
      "text/html": [
       "<div>\n",
       "<style scoped>\n",
       "    .dataframe tbody tr th:only-of-type {\n",
       "        vertical-align: middle;\n",
       "    }\n",
       "\n",
       "    .dataframe tbody tr th {\n",
       "        vertical-align: top;\n",
       "    }\n",
       "\n",
       "    .dataframe thead th {\n",
       "        text-align: right;\n",
       "    }\n",
       "</style>\n",
       "<table border=\"1\" class=\"dataframe\">\n",
       "  <thead>\n",
       "    <tr style=\"text-align: right;\">\n",
       "      <th></th>\n",
       "      <th>X</th>\n",
       "      <th>Y</th>\n",
       "      <th>month</th>\n",
       "      <th>day</th>\n",
       "      <th>FFMC</th>\n",
       "      <th>DMC</th>\n",
       "      <th>DC</th>\n",
       "      <th>ISI</th>\n",
       "      <th>temp</th>\n",
       "      <th>RH</th>\n",
       "      <th>wind</th>\n",
       "      <th>rain</th>\n",
       "      <th>area</th>\n",
       "    </tr>\n",
       "  </thead>\n",
       "  <tbody>\n",
       "    <tr>\n",
       "      <th>0</th>\n",
       "      <td>7</td>\n",
       "      <td>5</td>\n",
       "      <td>mar</td>\n",
       "      <td>fri</td>\n",
       "      <td>86.2</td>\n",
       "      <td>26.2</td>\n",
       "      <td>94.3</td>\n",
       "      <td>5.1</td>\n",
       "      <td>8.2</td>\n",
       "      <td>51</td>\n",
       "      <td>6.7</td>\n",
       "      <td>0.0</td>\n",
       "      <td>0.0</td>\n",
       "    </tr>\n",
       "    <tr>\n",
       "      <th>1</th>\n",
       "      <td>7</td>\n",
       "      <td>4</td>\n",
       "      <td>oct</td>\n",
       "      <td>tue</td>\n",
       "      <td>90.6</td>\n",
       "      <td>35.4</td>\n",
       "      <td>669.1</td>\n",
       "      <td>6.7</td>\n",
       "      <td>18.0</td>\n",
       "      <td>33</td>\n",
       "      <td>0.9</td>\n",
       "      <td>0.0</td>\n",
       "      <td>0.0</td>\n",
       "    </tr>\n",
       "    <tr>\n",
       "      <th>2</th>\n",
       "      <td>7</td>\n",
       "      <td>4</td>\n",
       "      <td>oct</td>\n",
       "      <td>sat</td>\n",
       "      <td>90.6</td>\n",
       "      <td>43.7</td>\n",
       "      <td>686.9</td>\n",
       "      <td>6.7</td>\n",
       "      <td>14.6</td>\n",
       "      <td>33</td>\n",
       "      <td>1.3</td>\n",
       "      <td>0.0</td>\n",
       "      <td>0.0</td>\n",
       "    </tr>\n",
       "    <tr>\n",
       "      <th>3</th>\n",
       "      <td>8</td>\n",
       "      <td>6</td>\n",
       "      <td>mar</td>\n",
       "      <td>fri</td>\n",
       "      <td>91.7</td>\n",
       "      <td>33.3</td>\n",
       "      <td>77.5</td>\n",
       "      <td>9.0</td>\n",
       "      <td>8.3</td>\n",
       "      <td>97</td>\n",
       "      <td>4.0</td>\n",
       "      <td>0.2</td>\n",
       "      <td>0.0</td>\n",
       "    </tr>\n",
       "    <tr>\n",
       "      <th>4</th>\n",
       "      <td>8</td>\n",
       "      <td>6</td>\n",
       "      <td>mar</td>\n",
       "      <td>sun</td>\n",
       "      <td>89.3</td>\n",
       "      <td>51.3</td>\n",
       "      <td>102.2</td>\n",
       "      <td>9.6</td>\n",
       "      <td>11.4</td>\n",
       "      <td>99</td>\n",
       "      <td>1.8</td>\n",
       "      <td>0.0</td>\n",
       "      <td>0.0</td>\n",
       "    </tr>\n",
       "    <tr>\n",
       "      <th>5</th>\n",
       "      <td>8</td>\n",
       "      <td>6</td>\n",
       "      <td>aug</td>\n",
       "      <td>sun</td>\n",
       "      <td>92.3</td>\n",
       "      <td>85.3</td>\n",
       "      <td>488.0</td>\n",
       "      <td>14.7</td>\n",
       "      <td>22.2</td>\n",
       "      <td>29</td>\n",
       "      <td>5.4</td>\n",
       "      <td>0.0</td>\n",
       "      <td>0.0</td>\n",
       "    </tr>\n",
       "    <tr>\n",
       "      <th>6</th>\n",
       "      <td>8</td>\n",
       "      <td>6</td>\n",
       "      <td>aug</td>\n",
       "      <td>mon</td>\n",
       "      <td>92.3</td>\n",
       "      <td>88.9</td>\n",
       "      <td>495.6</td>\n",
       "      <td>8.5</td>\n",
       "      <td>24.1</td>\n",
       "      <td>27</td>\n",
       "      <td>3.1</td>\n",
       "      <td>0.0</td>\n",
       "      <td>0.0</td>\n",
       "    </tr>\n",
       "    <tr>\n",
       "      <th>7</th>\n",
       "      <td>8</td>\n",
       "      <td>6</td>\n",
       "      <td>aug</td>\n",
       "      <td>mon</td>\n",
       "      <td>91.5</td>\n",
       "      <td>145.4</td>\n",
       "      <td>608.2</td>\n",
       "      <td>10.7</td>\n",
       "      <td>8.0</td>\n",
       "      <td>86</td>\n",
       "      <td>2.2</td>\n",
       "      <td>0.0</td>\n",
       "      <td>0.0</td>\n",
       "    </tr>\n",
       "    <tr>\n",
       "      <th>8</th>\n",
       "      <td>8</td>\n",
       "      <td>6</td>\n",
       "      <td>sep</td>\n",
       "      <td>tue</td>\n",
       "      <td>91.0</td>\n",
       "      <td>129.5</td>\n",
       "      <td>692.6</td>\n",
       "      <td>7.0</td>\n",
       "      <td>13.1</td>\n",
       "      <td>63</td>\n",
       "      <td>5.4</td>\n",
       "      <td>0.0</td>\n",
       "      <td>0.0</td>\n",
       "    </tr>\n",
       "    <tr>\n",
       "      <th>9</th>\n",
       "      <td>7</td>\n",
       "      <td>5</td>\n",
       "      <td>sep</td>\n",
       "      <td>sat</td>\n",
       "      <td>92.5</td>\n",
       "      <td>88.0</td>\n",
       "      <td>698.6</td>\n",
       "      <td>7.1</td>\n",
       "      <td>22.8</td>\n",
       "      <td>40</td>\n",
       "      <td>4.0</td>\n",
       "      <td>0.0</td>\n",
       "      <td>0.0</td>\n",
       "    </tr>\n",
       "  </tbody>\n",
       "</table>\n",
       "</div>"
      ],
      "text/plain": [
       "   X  Y month  day  FFMC    DMC     DC   ISI  temp  RH  wind  rain  area\n",
       "0  7  5   mar  fri  86.2   26.2   94.3   5.1   8.2  51   6.7   0.0   0.0\n",
       "1  7  4   oct  tue  90.6   35.4  669.1   6.7  18.0  33   0.9   0.0   0.0\n",
       "2  7  4   oct  sat  90.6   43.7  686.9   6.7  14.6  33   1.3   0.0   0.0\n",
       "3  8  6   mar  fri  91.7   33.3   77.5   9.0   8.3  97   4.0   0.2   0.0\n",
       "4  8  6   mar  sun  89.3   51.3  102.2   9.6  11.4  99   1.8   0.0   0.0\n",
       "5  8  6   aug  sun  92.3   85.3  488.0  14.7  22.2  29   5.4   0.0   0.0\n",
       "6  8  6   aug  mon  92.3   88.9  495.6   8.5  24.1  27   3.1   0.0   0.0\n",
       "7  8  6   aug  mon  91.5  145.4  608.2  10.7   8.0  86   2.2   0.0   0.0\n",
       "8  8  6   sep  tue  91.0  129.5  692.6   7.0  13.1  63   5.4   0.0   0.0\n",
       "9  7  5   sep  sat  92.5   88.0  698.6   7.1  22.8  40   4.0   0.0   0.0"
      ]
     },
     "execution_count": 27,
     "metadata": {},
     "output_type": "execute_result"
    }
   ],
   "source": [
    "# original dataframe\n",
    "df.head(10)"
   ]
  },
  {
   "cell_type": "code",
   "execution_count": 28,
   "metadata": {},
   "outputs": [],
   "source": [
    "# normalize attribute `FFMC` between 0 and 1 with min-max normalization\n",
    "min_max_scaler = MinMaxScaler()\n",
    "df['FFMC'] = min_max_scaler.fit_transform(df['FFMC'].values.reshape(-1, 1))\n"
   ]
  },
  {
   "cell_type": "code",
   "execution_count": 29,
   "metadata": {},
   "outputs": [
    {
     "data": {
      "text/html": [
       "<div>\n",
       "<style scoped>\n",
       "    .dataframe tbody tr th:only-of-type {\n",
       "        vertical-align: middle;\n",
       "    }\n",
       "\n",
       "    .dataframe tbody tr th {\n",
       "        vertical-align: top;\n",
       "    }\n",
       "\n",
       "    .dataframe thead th {\n",
       "        text-align: right;\n",
       "    }\n",
       "</style>\n",
       "<table border=\"1\" class=\"dataframe\">\n",
       "  <thead>\n",
       "    <tr style=\"text-align: right;\">\n",
       "      <th></th>\n",
       "      <th>X</th>\n",
       "      <th>Y</th>\n",
       "      <th>month</th>\n",
       "      <th>day</th>\n",
       "      <th>FFMC</th>\n",
       "      <th>DMC</th>\n",
       "      <th>DC</th>\n",
       "      <th>ISI</th>\n",
       "      <th>temp</th>\n",
       "      <th>RH</th>\n",
       "      <th>wind</th>\n",
       "      <th>rain</th>\n",
       "      <th>area</th>\n",
       "    </tr>\n",
       "  </thead>\n",
       "  <tbody>\n",
       "    <tr>\n",
       "      <th>0</th>\n",
       "      <td>7</td>\n",
       "      <td>5</td>\n",
       "      <td>mar</td>\n",
       "      <td>fri</td>\n",
       "      <td>0.870968</td>\n",
       "      <td>26.2</td>\n",
       "      <td>94.3</td>\n",
       "      <td>5.1</td>\n",
       "      <td>8.2</td>\n",
       "      <td>51</td>\n",
       "      <td>6.7</td>\n",
       "      <td>0.0</td>\n",
       "      <td>0.0</td>\n",
       "    </tr>\n",
       "    <tr>\n",
       "      <th>1</th>\n",
       "      <td>7</td>\n",
       "      <td>4</td>\n",
       "      <td>oct</td>\n",
       "      <td>tue</td>\n",
       "      <td>0.927742</td>\n",
       "      <td>35.4</td>\n",
       "      <td>669.1</td>\n",
       "      <td>6.7</td>\n",
       "      <td>18.0</td>\n",
       "      <td>33</td>\n",
       "      <td>0.9</td>\n",
       "      <td>0.0</td>\n",
       "      <td>0.0</td>\n",
       "    </tr>\n",
       "    <tr>\n",
       "      <th>2</th>\n",
       "      <td>7</td>\n",
       "      <td>4</td>\n",
       "      <td>oct</td>\n",
       "      <td>sat</td>\n",
       "      <td>0.927742</td>\n",
       "      <td>43.7</td>\n",
       "      <td>686.9</td>\n",
       "      <td>6.7</td>\n",
       "      <td>14.6</td>\n",
       "      <td>33</td>\n",
       "      <td>1.3</td>\n",
       "      <td>0.0</td>\n",
       "      <td>0.0</td>\n",
       "    </tr>\n",
       "    <tr>\n",
       "      <th>3</th>\n",
       "      <td>8</td>\n",
       "      <td>6</td>\n",
       "      <td>mar</td>\n",
       "      <td>fri</td>\n",
       "      <td>0.941935</td>\n",
       "      <td>33.3</td>\n",
       "      <td>77.5</td>\n",
       "      <td>9.0</td>\n",
       "      <td>8.3</td>\n",
       "      <td>97</td>\n",
       "      <td>4.0</td>\n",
       "      <td>0.2</td>\n",
       "      <td>0.0</td>\n",
       "    </tr>\n",
       "    <tr>\n",
       "      <th>4</th>\n",
       "      <td>8</td>\n",
       "      <td>6</td>\n",
       "      <td>mar</td>\n",
       "      <td>sun</td>\n",
       "      <td>0.910968</td>\n",
       "      <td>51.3</td>\n",
       "      <td>102.2</td>\n",
       "      <td>9.6</td>\n",
       "      <td>11.4</td>\n",
       "      <td>99</td>\n",
       "      <td>1.8</td>\n",
       "      <td>0.0</td>\n",
       "      <td>0.0</td>\n",
       "    </tr>\n",
       "    <tr>\n",
       "      <th>5</th>\n",
       "      <td>8</td>\n",
       "      <td>6</td>\n",
       "      <td>aug</td>\n",
       "      <td>sun</td>\n",
       "      <td>0.949677</td>\n",
       "      <td>85.3</td>\n",
       "      <td>488.0</td>\n",
       "      <td>14.7</td>\n",
       "      <td>22.2</td>\n",
       "      <td>29</td>\n",
       "      <td>5.4</td>\n",
       "      <td>0.0</td>\n",
       "      <td>0.0</td>\n",
       "    </tr>\n",
       "    <tr>\n",
       "      <th>6</th>\n",
       "      <td>8</td>\n",
       "      <td>6</td>\n",
       "      <td>aug</td>\n",
       "      <td>mon</td>\n",
       "      <td>0.949677</td>\n",
       "      <td>88.9</td>\n",
       "      <td>495.6</td>\n",
       "      <td>8.5</td>\n",
       "      <td>24.1</td>\n",
       "      <td>27</td>\n",
       "      <td>3.1</td>\n",
       "      <td>0.0</td>\n",
       "      <td>0.0</td>\n",
       "    </tr>\n",
       "    <tr>\n",
       "      <th>7</th>\n",
       "      <td>8</td>\n",
       "      <td>6</td>\n",
       "      <td>aug</td>\n",
       "      <td>mon</td>\n",
       "      <td>0.939355</td>\n",
       "      <td>145.4</td>\n",
       "      <td>608.2</td>\n",
       "      <td>10.7</td>\n",
       "      <td>8.0</td>\n",
       "      <td>86</td>\n",
       "      <td>2.2</td>\n",
       "      <td>0.0</td>\n",
       "      <td>0.0</td>\n",
       "    </tr>\n",
       "    <tr>\n",
       "      <th>8</th>\n",
       "      <td>8</td>\n",
       "      <td>6</td>\n",
       "      <td>sep</td>\n",
       "      <td>tue</td>\n",
       "      <td>0.932903</td>\n",
       "      <td>129.5</td>\n",
       "      <td>692.6</td>\n",
       "      <td>7.0</td>\n",
       "      <td>13.1</td>\n",
       "      <td>63</td>\n",
       "      <td>5.4</td>\n",
       "      <td>0.0</td>\n",
       "      <td>0.0</td>\n",
       "    </tr>\n",
       "    <tr>\n",
       "      <th>9</th>\n",
       "      <td>7</td>\n",
       "      <td>5</td>\n",
       "      <td>sep</td>\n",
       "      <td>sat</td>\n",
       "      <td>0.952258</td>\n",
       "      <td>88.0</td>\n",
       "      <td>698.6</td>\n",
       "      <td>7.1</td>\n",
       "      <td>22.8</td>\n",
       "      <td>40</td>\n",
       "      <td>4.0</td>\n",
       "      <td>0.0</td>\n",
       "      <td>0.0</td>\n",
       "    </tr>\n",
       "  </tbody>\n",
       "</table>\n",
       "</div>"
      ],
      "text/plain": [
       "   X  Y month  day      FFMC    DMC     DC   ISI  temp  RH  wind  rain  area\n",
       "0  7  5   mar  fri  0.870968   26.2   94.3   5.1   8.2  51   6.7   0.0   0.0\n",
       "1  7  4   oct  tue  0.927742   35.4  669.1   6.7  18.0  33   0.9   0.0   0.0\n",
       "2  7  4   oct  sat  0.927742   43.7  686.9   6.7  14.6  33   1.3   0.0   0.0\n",
       "3  8  6   mar  fri  0.941935   33.3   77.5   9.0   8.3  97   4.0   0.2   0.0\n",
       "4  8  6   mar  sun  0.910968   51.3  102.2   9.6  11.4  99   1.8   0.0   0.0\n",
       "5  8  6   aug  sun  0.949677   85.3  488.0  14.7  22.2  29   5.4   0.0   0.0\n",
       "6  8  6   aug  mon  0.949677   88.9  495.6   8.5  24.1  27   3.1   0.0   0.0\n",
       "7  8  6   aug  mon  0.939355  145.4  608.2  10.7   8.0  86   2.2   0.0   0.0\n",
       "8  8  6   sep  tue  0.932903  129.5  692.6   7.0  13.1  63   5.4   0.0   0.0\n",
       "9  7  5   sep  sat  0.952258   88.0  698.6   7.1  22.8  40   4.0   0.0   0.0"
      ]
     },
     "execution_count": 29,
     "metadata": {},
     "output_type": "execute_result"
    }
   ],
   "source": [
    "# dataframe after normalization of `FFMC` attribute\n",
    "df.head(10)"
   ]
  },
  {
   "cell_type": "code",
   "execution_count": 30,
   "metadata": {},
   "outputs": [
    {
     "name": "stdout",
     "output_type": "stream",
     "text": [
      "Max: 1.0\tMin: 0.0\n"
     ]
    }
   ],
   "source": [
    "print(\"Max: {}\\tMin: {}\".format(df['FFMC'].max(), df['FFMC'].min()))"
   ]
  },
  {
   "cell_type": "markdown",
   "metadata": {},
   "source": [
    "### Part B: Normalize attributes `DC`, `ISI`, `temp`, `RH`, and `wind`"
   ]
  },
  {
   "cell_type": "code",
   "execution_count": 31,
   "metadata": {},
   "outputs": [],
   "source": [
    "# normalize attributes `DC`, `ISI`, `temp`, `RH`, and `wind` to mean zero and standard deviation one using z-score normalization\n",
    "standard_scaler = StandardScaler()\n",
    "for attribute in [ \"DC\", \"ISI\", \"temp\", \"RH\", \"wind\" ]:\n",
    "    df[attribute] = standard_scaler.fit_transform(df[attribute].values.reshape(-1, 1))"
   ]
  },
  {
   "cell_type": "code",
   "execution_count": 32,
   "metadata": {},
   "outputs": [
    {
     "data": {
      "text/html": [
       "<div>\n",
       "<style scoped>\n",
       "    .dataframe tbody tr th:only-of-type {\n",
       "        vertical-align: middle;\n",
       "    }\n",
       "\n",
       "    .dataframe tbody tr th {\n",
       "        vertical-align: top;\n",
       "    }\n",
       "\n",
       "    .dataframe thead th {\n",
       "        text-align: right;\n",
       "    }\n",
       "</style>\n",
       "<table border=\"1\" class=\"dataframe\">\n",
       "  <thead>\n",
       "    <tr style=\"text-align: right;\">\n",
       "      <th></th>\n",
       "      <th>X</th>\n",
       "      <th>Y</th>\n",
       "      <th>month</th>\n",
       "      <th>day</th>\n",
       "      <th>FFMC</th>\n",
       "      <th>DMC</th>\n",
       "      <th>DC</th>\n",
       "      <th>ISI</th>\n",
       "      <th>temp</th>\n",
       "      <th>RH</th>\n",
       "      <th>wind</th>\n",
       "      <th>rain</th>\n",
       "      <th>area</th>\n",
       "    </tr>\n",
       "  </thead>\n",
       "  <tbody>\n",
       "    <tr>\n",
       "      <th>0</th>\n",
       "      <td>7</td>\n",
       "      <td>5</td>\n",
       "      <td>mar</td>\n",
       "      <td>fri</td>\n",
       "      <td>0.870968</td>\n",
       "      <td>26.2</td>\n",
       "      <td>-1.830477</td>\n",
       "      <td>-0.860946</td>\n",
       "      <td>-1.842640</td>\n",
       "      <td>0.411724</td>\n",
       "      <td>1.498614</td>\n",
       "      <td>0.0</td>\n",
       "      <td>0.0</td>\n",
       "    </tr>\n",
       "    <tr>\n",
       "      <th>1</th>\n",
       "      <td>7</td>\n",
       "      <td>4</td>\n",
       "      <td>oct</td>\n",
       "      <td>tue</td>\n",
       "      <td>0.927742</td>\n",
       "      <td>35.4</td>\n",
       "      <td>0.488891</td>\n",
       "      <td>-0.509688</td>\n",
       "      <td>-0.153278</td>\n",
       "      <td>-0.692456</td>\n",
       "      <td>-1.741756</td>\n",
       "      <td>0.0</td>\n",
       "      <td>0.0</td>\n",
       "    </tr>\n",
       "    <tr>\n",
       "      <th>2</th>\n",
       "      <td>7</td>\n",
       "      <td>4</td>\n",
       "      <td>oct</td>\n",
       "      <td>sat</td>\n",
       "      <td>0.927742</td>\n",
       "      <td>43.7</td>\n",
       "      <td>0.560715</td>\n",
       "      <td>-0.509688</td>\n",
       "      <td>-0.739383</td>\n",
       "      <td>-0.692456</td>\n",
       "      <td>-1.518282</td>\n",
       "      <td>0.0</td>\n",
       "      <td>0.0</td>\n",
       "    </tr>\n",
       "    <tr>\n",
       "      <th>3</th>\n",
       "      <td>8</td>\n",
       "      <td>6</td>\n",
       "      <td>mar</td>\n",
       "      <td>fri</td>\n",
       "      <td>0.941935</td>\n",
       "      <td>33.3</td>\n",
       "      <td>-1.898266</td>\n",
       "      <td>-0.004756</td>\n",
       "      <td>-1.825402</td>\n",
       "      <td>3.233519</td>\n",
       "      <td>-0.009834</td>\n",
       "      <td>0.2</td>\n",
       "      <td>0.0</td>\n",
       "    </tr>\n",
       "    <tr>\n",
       "      <th>4</th>\n",
       "      <td>8</td>\n",
       "      <td>6</td>\n",
       "      <td>mar</td>\n",
       "      <td>sun</td>\n",
       "      <td>0.910968</td>\n",
       "      <td>51.3</td>\n",
       "      <td>-1.798600</td>\n",
       "      <td>0.126966</td>\n",
       "      <td>-1.291012</td>\n",
       "      <td>3.356206</td>\n",
       "      <td>-1.238940</td>\n",
       "      <td>0.0</td>\n",
       "      <td>0.0</td>\n",
       "    </tr>\n",
       "    <tr>\n",
       "      <th>5</th>\n",
       "      <td>8</td>\n",
       "      <td>6</td>\n",
       "      <td>aug</td>\n",
       "      <td>sun</td>\n",
       "      <td>0.949677</td>\n",
       "      <td>85.3</td>\n",
       "      <td>-0.241863</td>\n",
       "      <td>1.246598</td>\n",
       "      <td>0.570734</td>\n",
       "      <td>-0.937830</td>\n",
       "      <td>0.772325</td>\n",
       "      <td>0.0</td>\n",
       "      <td>0.0</td>\n",
       "    </tr>\n",
       "    <tr>\n",
       "      <th>6</th>\n",
       "      <td>8</td>\n",
       "      <td>6</td>\n",
       "      <td>aug</td>\n",
       "      <td>mon</td>\n",
       "      <td>0.949677</td>\n",
       "      <td>88.9</td>\n",
       "      <td>-0.211197</td>\n",
       "      <td>-0.114524</td>\n",
       "      <td>0.898263</td>\n",
       "      <td>-1.060516</td>\n",
       "      <td>-0.512650</td>\n",
       "      <td>0.0</td>\n",
       "      <td>0.0</td>\n",
       "    </tr>\n",
       "    <tr>\n",
       "      <th>7</th>\n",
       "      <td>8</td>\n",
       "      <td>6</td>\n",
       "      <td>aug</td>\n",
       "      <td>mon</td>\n",
       "      <td>0.939355</td>\n",
       "      <td>145.4</td>\n",
       "      <td>0.243154</td>\n",
       "      <td>0.368455</td>\n",
       "      <td>-1.877117</td>\n",
       "      <td>2.558742</td>\n",
       "      <td>-1.015466</td>\n",
       "      <td>0.0</td>\n",
       "      <td>0.0</td>\n",
       "    </tr>\n",
       "    <tr>\n",
       "      <th>8</th>\n",
       "      <td>8</td>\n",
       "      <td>6</td>\n",
       "      <td>sep</td>\n",
       "      <td>tue</td>\n",
       "      <td>0.932903</td>\n",
       "      <td>129.5</td>\n",
       "      <td>0.583715</td>\n",
       "      <td>-0.443828</td>\n",
       "      <td>-0.997959</td>\n",
       "      <td>1.147845</td>\n",
       "      <td>0.772325</td>\n",
       "      <td>0.0</td>\n",
       "      <td>0.0</td>\n",
       "    </tr>\n",
       "    <tr>\n",
       "      <th>9</th>\n",
       "      <td>7</td>\n",
       "      <td>5</td>\n",
       "      <td>sep</td>\n",
       "      <td>sat</td>\n",
       "      <td>0.952258</td>\n",
       "      <td>88.0</td>\n",
       "      <td>0.607926</td>\n",
       "      <td>-0.421874</td>\n",
       "      <td>0.674164</td>\n",
       "      <td>-0.263053</td>\n",
       "      <td>-0.009834</td>\n",
       "      <td>0.0</td>\n",
       "      <td>0.0</td>\n",
       "    </tr>\n",
       "  </tbody>\n",
       "</table>\n",
       "</div>"
      ],
      "text/plain": [
       "   X  Y month  day      FFMC    DMC        DC       ISI      temp        RH  \\\n",
       "0  7  5   mar  fri  0.870968   26.2 -1.830477 -0.860946 -1.842640  0.411724   \n",
       "1  7  4   oct  tue  0.927742   35.4  0.488891 -0.509688 -0.153278 -0.692456   \n",
       "2  7  4   oct  sat  0.927742   43.7  0.560715 -0.509688 -0.739383 -0.692456   \n",
       "3  8  6   mar  fri  0.941935   33.3 -1.898266 -0.004756 -1.825402  3.233519   \n",
       "4  8  6   mar  sun  0.910968   51.3 -1.798600  0.126966 -1.291012  3.356206   \n",
       "5  8  6   aug  sun  0.949677   85.3 -0.241863  1.246598  0.570734 -0.937830   \n",
       "6  8  6   aug  mon  0.949677   88.9 -0.211197 -0.114524  0.898263 -1.060516   \n",
       "7  8  6   aug  mon  0.939355  145.4  0.243154  0.368455 -1.877117  2.558742   \n",
       "8  8  6   sep  tue  0.932903  129.5  0.583715 -0.443828 -0.997959  1.147845   \n",
       "9  7  5   sep  sat  0.952258   88.0  0.607926 -0.421874  0.674164 -0.263053   \n",
       "\n",
       "       wind  rain  area  \n",
       "0  1.498614   0.0   0.0  \n",
       "1 -1.741756   0.0   0.0  \n",
       "2 -1.518282   0.0   0.0  \n",
       "3 -0.009834   0.2   0.0  \n",
       "4 -1.238940   0.0   0.0  \n",
       "5  0.772325   0.0   0.0  \n",
       "6 -0.512650   0.0   0.0  \n",
       "7 -1.015466   0.0   0.0  \n",
       "8  0.772325   0.0   0.0  \n",
       "9 -0.009834   0.0   0.0  "
      ]
     },
     "execution_count": 32,
     "metadata": {},
     "output_type": "execute_result"
    }
   ],
   "source": [
    "# dataframe after normalization of `DC`, `ISI`, `temp`, `RH`, and `wind` attributes\n",
    "df.head(10)"
   ]
  },
  {
   "cell_type": "markdown",
   "metadata": {},
   "source": [
    "### Part C: Export to CSV file"
   ]
  },
  {
   "cell_type": "code",
   "execution_count": 33,
   "metadata": {},
   "outputs": [],
   "source": [
    "# output dataframe to CSV file titled \"data_normalized.csv\" with ',' as delimitter\n",
    "df.to_csv(\"data_normalized.csv\", sep = \",\", index = False)"
   ]
  },
  {
   "cell_type": "markdown",
   "metadata": {},
   "source": [
    "## Task 8. PCA"
   ]
  },
  {
   "cell_type": "markdown",
   "metadata": {},
   "source": [
    "### Part A: Plot the cumulative explained variance ratio"
   ]
  },
  {
   "cell_type": "code",
   "execution_count": 34,
   "metadata": {},
   "outputs": [],
   "source": [
    "from sklearn.decomposition import PCA"
   ]
  },
  {
   "cell_type": "code",
   "execution_count": 35,
   "metadata": {},
   "outputs": [
    {
     "data": {
      "text/html": [
       "<div>\n",
       "<style scoped>\n",
       "    .dataframe tbody tr th:only-of-type {\n",
       "        vertical-align: middle;\n",
       "    }\n",
       "\n",
       "    .dataframe tbody tr th {\n",
       "        vertical-align: top;\n",
       "    }\n",
       "\n",
       "    .dataframe thead th {\n",
       "        text-align: right;\n",
       "    }\n",
       "</style>\n",
       "<table border=\"1\" class=\"dataframe\">\n",
       "  <thead>\n",
       "    <tr style=\"text-align: right;\">\n",
       "      <th></th>\n",
       "      <th>DC</th>\n",
       "      <th>ISI</th>\n",
       "      <th>temp</th>\n",
       "      <th>RH</th>\n",
       "      <th>wind</th>\n",
       "    </tr>\n",
       "  </thead>\n",
       "  <tbody>\n",
       "    <tr>\n",
       "      <th>0</th>\n",
       "      <td>-1.830477</td>\n",
       "      <td>-0.860946</td>\n",
       "      <td>-1.842640</td>\n",
       "      <td>0.411724</td>\n",
       "      <td>1.498614</td>\n",
       "    </tr>\n",
       "    <tr>\n",
       "      <th>1</th>\n",
       "      <td>0.488891</td>\n",
       "      <td>-0.509688</td>\n",
       "      <td>-0.153278</td>\n",
       "      <td>-0.692456</td>\n",
       "      <td>-1.741756</td>\n",
       "    </tr>\n",
       "    <tr>\n",
       "      <th>2</th>\n",
       "      <td>0.560715</td>\n",
       "      <td>-0.509688</td>\n",
       "      <td>-0.739383</td>\n",
       "      <td>-0.692456</td>\n",
       "      <td>-1.518282</td>\n",
       "    </tr>\n",
       "    <tr>\n",
       "      <th>3</th>\n",
       "      <td>-1.898266</td>\n",
       "      <td>-0.004756</td>\n",
       "      <td>-1.825402</td>\n",
       "      <td>3.233519</td>\n",
       "      <td>-0.009834</td>\n",
       "    </tr>\n",
       "    <tr>\n",
       "      <th>4</th>\n",
       "      <td>-1.798600</td>\n",
       "      <td>0.126966</td>\n",
       "      <td>-1.291012</td>\n",
       "      <td>3.356206</td>\n",
       "      <td>-1.238940</td>\n",
       "    </tr>\n",
       "    <tr>\n",
       "      <th>5</th>\n",
       "      <td>-0.241863</td>\n",
       "      <td>1.246598</td>\n",
       "      <td>0.570734</td>\n",
       "      <td>-0.937830</td>\n",
       "      <td>0.772325</td>\n",
       "    </tr>\n",
       "    <tr>\n",
       "      <th>6</th>\n",
       "      <td>-0.211197</td>\n",
       "      <td>-0.114524</td>\n",
       "      <td>0.898263</td>\n",
       "      <td>-1.060516</td>\n",
       "      <td>-0.512650</td>\n",
       "    </tr>\n",
       "    <tr>\n",
       "      <th>7</th>\n",
       "      <td>0.243154</td>\n",
       "      <td>0.368455</td>\n",
       "      <td>-1.877117</td>\n",
       "      <td>2.558742</td>\n",
       "      <td>-1.015466</td>\n",
       "    </tr>\n",
       "    <tr>\n",
       "      <th>8</th>\n",
       "      <td>0.583715</td>\n",
       "      <td>-0.443828</td>\n",
       "      <td>-0.997959</td>\n",
       "      <td>1.147845</td>\n",
       "      <td>0.772325</td>\n",
       "    </tr>\n",
       "    <tr>\n",
       "      <th>9</th>\n",
       "      <td>0.607926</td>\n",
       "      <td>-0.421874</td>\n",
       "      <td>0.674164</td>\n",
       "      <td>-0.263053</td>\n",
       "      <td>-0.009834</td>\n",
       "    </tr>\n",
       "  </tbody>\n",
       "</table>\n",
       "</div>"
      ],
      "text/plain": [
       "         DC       ISI      temp        RH      wind\n",
       "0 -1.830477 -0.860946 -1.842640  0.411724  1.498614\n",
       "1  0.488891 -0.509688 -0.153278 -0.692456 -1.741756\n",
       "2  0.560715 -0.509688 -0.739383 -0.692456 -1.518282\n",
       "3 -1.898266 -0.004756 -1.825402  3.233519 -0.009834\n",
       "4 -1.798600  0.126966 -1.291012  3.356206 -1.238940\n",
       "5 -0.241863  1.246598  0.570734 -0.937830  0.772325\n",
       "6 -0.211197 -0.114524  0.898263 -1.060516 -0.512650\n",
       "7  0.243154  0.368455 -1.877117  2.558742 -1.015466\n",
       "8  0.583715 -0.443828 -0.997959  1.147845  0.772325\n",
       "9  0.607926 -0.421874  0.674164 -0.263053 -0.009834"
      ]
     },
     "execution_count": 35,
     "metadata": {},
     "output_type": "execute_result"
    }
   ],
   "source": [
    "# only the attributes `DC`, `ISI`, `temp`, `RH`, and `wind` are used\n",
    "pca_df = df[['DC', 'ISI', 'temp', 'RH', 'wind']]\n",
    "pca_df.head(10)"
   ]
  },
  {
   "cell_type": "code",
   "execution_count": 36,
   "metadata": {},
   "outputs": [
    {
     "name": "stdout",
     "output_type": "stream",
     "text": [
      "Eigenvalues: [2.01883108 1.11358567 0.98519395 0.62366511 0.2684141 ]\n",
      "Explained ratio: [0.40298524 0.22228635 0.19665767 0.12449176 0.05357899]\n"
     ]
    }
   ],
   "source": [
    "# create PCA object with 5 components\n",
    "pca = PCA(n_components = 5)\n",
    "principal_components = pca.fit_transform(pca_df)\n",
    "eigenvalues = pca.explained_variance_\n",
    "print(\"Eigenvalues:\", eigenvalues)\n",
    "print(\"Explained ratio:\", pca.explained_variance_ratio_) # eigenvalue/eigenvalue.sum() also works"
   ]
  },
  {
   "cell_type": "code",
   "execution_count": 37,
   "metadata": {},
   "outputs": [
    {
     "name": "stdout",
     "output_type": "stream",
     "text": [
      "Cumulative explained ratio: [0.4  0.63 0.82 0.95 1.  ]\n"
     ]
    }
   ],
   "source": [
    "# store cumulative explained variance ratio in a list\n",
    "explain_ratio = pca.explained_variance_ratio_.cumsum().round(2)\n",
    "print(\"Cumulative explained ratio:\", explain_ratio)"
   ]
  },
  {
   "cell_type": "code",
   "execution_count": 38,
   "metadata": {},
   "outputs": [
    {
     "data": {
      "image/png": "[encoded data removed]",
      "image/svg+xml": "<?xml version=\"1.0\" encoding=\"utf-8\" standalone=\"no\"?>\n<!DOCTYPE svg PUBLIC \"-//W3C//DTD SVG 1.1//EN\"\n  \"http://www.w3.org/Graphics/SVG/1.1/DTD/svg11.dtd\">\n<svg xmlns:xlink=\"http://www.w3.org/1999/xlink\" width=\"452.68875pt\" height=\"277.314375pt\" viewBox=\"0 0 452.68875 277.314375\" xmlns=\"http://www.w3.org/2000/svg\" version=\"1.1\">\n <metadata>\n  <rdf:RDF xmlns:dc=\"http://purl.org/dc/elements/1.1/\" xmlns:cc=\"http://creativecommons.org/ns#\" xmlns:rdf=\"http://www.w3.org/1999/02/22-rdf-syntax-ns#\">\n   <cc:Work>\n    <dc:type rdf:resource=\"http://purl.org/dc/dcmitype/StillImage\"/>\n    <dc:date>2022-10-06T15:03:38.724358</dc:date>\n    <dc:format>image/svg+xml</dc:format>\n    <dc:creator>\n     <cc:Agent>\n      <dc:title>Matplotlib v3.5.0, https://matplotlib.org/</dc:title>\n     </cc:Agent>\n    </dc:creator>\n   </cc:Work>\n  </rdf:RDF>\n </metadata>\n <defs>\n  <style type=\"text/css\">*{stroke-linejoin: round; stroke-linecap: butt}</style>\n </defs>\n <g id=\"figure_1\">\n  <g id=\"patch_1\">\n   <path d=\"M 0 277.314375 \nL 452.68875 277.314375 \nL 452.68875 0 \nL 0 0 \nL 0 277.314375 \nz\n\" style=\"fill: none\"/>\n  </g>\n  <g id=\"axes_1\">\n   <g id=\"patch_2\">\n    <path d=\"M 58.944375 239.758125 \nL 393.744375 239.758125 \nL 393.744375 22.318125 \nL 58.944375 22.318125 \nz\n\" style=\"fill: #ffffff\"/>\n   </g>\n   <g id=\"matplotlib.axis_1\">\n    <g id=\"xtick_1\">\n     <g id=\"line2d_1\">\n      <defs>\n       <path id=\"m94566b47d6\" d=\"M 0 0 \nL 0 3.5 \n\" style=\"stroke: #000000; stroke-width: 0.8\"/>\n      </defs>\n      <g>\n       <use xlink:href=\"#m94566b47d6\" x=\"74.162557\" y=\"239.758125\" style=\"stroke: #000000; stroke-width: 0.8\"/>\n      </g>\n     </g>\n     <g id=\"text_1\">\n      <!-- 1.0 -->\n      <g transform=\"translate(66.210994 254.356562)scale(0.1 -0.1)\">\n       <defs>\n        <path id=\"DejaVuSans-31\" d=\"M 794 531 \nL 1825 531 \nL 1825 4091 \nL 703 3866 \nL 703 4441 \nL 1819 4666 \nL 2450 4666 \nL 2450 531 \nL 3481 531 \nL 3481 0 \nL 794 0 \nL 794 531 \nz\n\" transform=\"scale(0.015625)\"/>\n        <path id=\"DejaVuSans-2e\" d=\"M 684 794 \nL 1344 794 \nL 1344 0 \nL 684 0 \nL 684 794 \nz\n\" transform=\"scale(0.015625)\"/>\n        <path id=\"DejaVuSans-30\" d=\"M 2034 4250 \nQ 1547 4250 1301 3770 \nQ 1056 3291 1056 2328 \nQ 1056 1369 1301 889 \nQ 1547 409 2034 409 \nQ 2525 409 2770 889 \nQ 3016 1369 3016 2328 \nQ 3016 3291 2770 3770 \nQ 2525 4250 2034 4250 \nz\nM 2034 4750 \nQ 2819 4750 3233 4129 \nQ 3647 3509 3647 2328 \nQ 3647 1150 3233 529 \nQ 2819 -91 2034 -91 \nQ 1250 -91 836 529 \nQ 422 1150 422 2328 \nQ 422 3509 836 4129 \nQ 1250 4750 2034 4750 \nz\n\" transform=\"scale(0.015625)\"/>\n       </defs>\n       <use xlink:href=\"#DejaVuSans-31\"/>\n       <use xlink:href=\"#DejaVuSans-2e\" x=\"63.623047\"/>\n       <use xlink:href=\"#DejaVuSans-30\" x=\"95.410156\"/>\n      </g>\n     </g>\n    </g>\n    <g id=\"xtick_2\">\n     <g id=\"line2d_2\">\n      <g>\n       <use xlink:href=\"#m94566b47d6\" x=\"112.208011\" y=\"239.758125\" style=\"stroke: #000000; stroke-width: 0.8\"/>\n      </g>\n     </g>\n     <g id=\"text_2\">\n      <!-- 1.5 -->\n      <g transform=\"translate(104.256449 254.356562)scale(0.1 -0.1)\">\n       <defs>\n        <path id=\"DejaVuSans-35\" d=\"M 691 4666 \nL 3169 4666 \nL 3169 4134 \nL 1269 4134 \nL 1269 2991 \nQ 1406 3038 1543 3061 \nQ 1681 3084 1819 3084 \nQ 2600 3084 3056 2656 \nQ 3513 2228 3513 1497 \nQ 3513 744 3044 326 \nQ 2575 -91 1722 -91 \nQ 1428 -91 1123 -41 \nQ 819 9 494 109 \nL 494 744 \nQ 775 591 1075 516 \nQ 1375 441 1709 441 \nQ 2250 441 2565 725 \nQ 2881 1009 2881 1497 \nQ 2881 1984 2565 2268 \nQ 2250 2553 1709 2553 \nQ 1456 2553 1204 2497 \nQ 953 2441 691 2322 \nL 691 4666 \nz\n\" transform=\"scale(0.015625)\"/>\n       </defs>\n       <use xlink:href=\"#DejaVuSans-31\"/>\n       <use xlink:href=\"#DejaVuSans-2e\" x=\"63.623047\"/>\n       <use xlink:href=\"#DejaVuSans-35\" x=\"95.410156\"/>\n      </g>\n     </g>\n    </g>\n    <g id=\"xtick_3\">\n     <g id=\"line2d_3\">\n      <g>\n       <use xlink:href=\"#m94566b47d6\" x=\"150.253466\" y=\"239.758125\" style=\"stroke: #000000; stroke-width: 0.8\"/>\n      </g>\n     </g>\n     <g id=\"text_3\">\n      <!-- 2.0 -->\n      <g transform=\"translate(142.301903 254.356562)scale(0.1 -0.1)\">\n       <defs>\n        <path id=\"DejaVuSans-32\" d=\"M 1228 531 \nL 3431 531 \nL 3431 0 \nL 469 0 \nL 469 531 \nQ 828 903 1448 1529 \nQ 2069 2156 2228 2338 \nQ 2531 2678 2651 2914 \nQ 2772 3150 2772 3378 \nQ 2772 3750 2511 3984 \nQ 2250 4219 1831 4219 \nQ 1534 4219 1204 4116 \nQ 875 4013 500 3803 \nL 500 4441 \nQ 881 4594 1212 4672 \nQ 1544 4750 1819 4750 \nQ 2544 4750 2975 4387 \nQ 3406 4025 3406 3419 \nQ 3406 3131 3298 2873 \nQ 3191 2616 2906 2266 \nQ 2828 2175 2409 1742 \nQ 1991 1309 1228 531 \nz\n\" transform=\"scale(0.015625)\"/>\n       </defs>\n       <use xlink:href=\"#DejaVuSans-32\"/>\n       <use xlink:href=\"#DejaVuSans-2e\" x=\"63.623047\"/>\n       <use xlink:href=\"#DejaVuSans-30\" x=\"95.410156\"/>\n      </g>\n     </g>\n    </g>\n    <g id=\"xtick_4\">\n     <g id=\"line2d_4\">\n      <g>\n       <use xlink:href=\"#m94566b47d6\" x=\"188.29892\" y=\"239.758125\" style=\"stroke: #000000; stroke-width: 0.8\"/>\n      </g>\n     </g>\n     <g id=\"text_4\">\n      <!-- 2.5 -->\n      <g transform=\"translate(180.347358 254.356562)scale(0.1 -0.1)\">\n       <use xlink:href=\"#DejaVuSans-32\"/>\n       <use xlink:href=\"#DejaVuSans-2e\" x=\"63.623047\"/>\n       <use xlink:href=\"#DejaVuSans-35\" x=\"95.410156\"/>\n      </g>\n     </g>\n    </g>\n    <g id=\"xtick_5\">\n     <g id=\"line2d_5\">\n      <g>\n       <use xlink:href=\"#m94566b47d6\" x=\"226.344375\" y=\"239.758125\" style=\"stroke: #000000; stroke-width: 0.8\"/>\n      </g>\n     </g>\n     <g id=\"text_5\">\n      <!-- 3.0 -->\n      <g transform=\"translate(218.392813 254.356562)scale(0.1 -0.1)\">\n       <defs>\n        <path id=\"DejaVuSans-33\" d=\"M 2597 2516 \nQ 3050 2419 3304 2112 \nQ 3559 1806 3559 1356 \nQ 3559 666 3084 287 \nQ 2609 -91 1734 -91 \nQ 1441 -91 1130 -33 \nQ 819 25 488 141 \nL 488 750 \nQ 750 597 1062 519 \nQ 1375 441 1716 441 \nQ 2309 441 2620 675 \nQ 2931 909 2931 1356 \nQ 2931 1769 2642 2001 \nQ 2353 2234 1838 2234 \nL 1294 2234 \nL 1294 2753 \nL 1863 2753 \nQ 2328 2753 2575 2939 \nQ 2822 3125 2822 3475 \nQ 2822 3834 2567 4026 \nQ 2313 4219 1838 4219 \nQ 1578 4219 1281 4162 \nQ 984 4106 628 3988 \nL 628 4550 \nQ 988 4650 1302 4700 \nQ 1616 4750 1894 4750 \nQ 2613 4750 3031 4423 \nQ 3450 4097 3450 3541 \nQ 3450 3153 3228 2886 \nQ 3006 2619 2597 2516 \nz\n\" transform=\"scale(0.015625)\"/>\n       </defs>\n       <use xlink:href=\"#DejaVuSans-33\"/>\n       <use xlink:href=\"#DejaVuSans-2e\" x=\"63.623047\"/>\n       <use xlink:href=\"#DejaVuSans-30\" x=\"95.410156\"/>\n      </g>\n     </g>\n    </g>\n    <g id=\"xtick_6\">\n     <g id=\"line2d_6\">\n      <g>\n       <use xlink:href=\"#m94566b47d6\" x=\"264.38983\" y=\"239.758125\" style=\"stroke: #000000; stroke-width: 0.8\"/>\n      </g>\n     </g>\n     <g id=\"text_6\">\n      <!-- 3.5 -->\n      <g transform=\"translate(256.438267 254.356562)scale(0.1 -0.1)\">\n       <use xlink:href=\"#DejaVuSans-33\"/>\n       <use xlink:href=\"#DejaVuSans-2e\" x=\"63.623047\"/>\n       <use xlink:href=\"#DejaVuSans-35\" x=\"95.410156\"/>\n      </g>\n     </g>\n    </g>\n    <g id=\"xtick_7\">\n     <g id=\"line2d_7\">\n      <g>\n       <use xlink:href=\"#m94566b47d6\" x=\"302.435284\" y=\"239.758125\" style=\"stroke: #000000; stroke-width: 0.8\"/>\n      </g>\n     </g>\n     <g id=\"text_7\">\n      <!-- 4.0 -->\n      <g transform=\"translate(294.483722 254.356562)scale(0.1 -0.1)\">\n       <defs>\n        <path id=\"DejaVuSans-34\" d=\"M 2419 4116 \nL 825 1625 \nL 2419 1625 \nL 2419 4116 \nz\nM 2253 4666 \nL 3047 4666 \nL 3047 1625 \nL 3713 1625 \nL 3713 1100 \nL 3047 1100 \nL 3047 0 \nL 2419 0 \nL 2419 1100 \nL 313 1100 \nL 313 1709 \nL 2253 4666 \nz\n\" transform=\"scale(0.015625)\"/>\n       </defs>\n       <use xlink:href=\"#DejaVuSans-34\"/>\n       <use xlink:href=\"#DejaVuSans-2e\" x=\"63.623047\"/>\n       <use xlink:href=\"#DejaVuSans-30\" x=\"95.410156\"/>\n      </g>\n     </g>\n    </g>\n    <g id=\"xtick_8\">\n     <g id=\"line2d_8\">\n      <g>\n       <use xlink:href=\"#m94566b47d6\" x=\"340.480739\" y=\"239.758125\" style=\"stroke: #000000; stroke-width: 0.8\"/>\n      </g>\n     </g>\n     <g id=\"text_8\">\n      <!-- 4.5 -->\n      <g transform=\"translate(332.529176 254.356562)scale(0.1 -0.1)\">\n       <use xlink:href=\"#DejaVuSans-34\"/>\n       <use xlink:href=\"#DejaVuSans-2e\" x=\"63.623047\"/>\n       <use xlink:href=\"#DejaVuSans-35\" x=\"95.410156\"/>\n      </g>\n     </g>\n    </g>\n    <g id=\"xtick_9\">\n     <g id=\"line2d_9\">\n      <g>\n       <use xlink:href=\"#m94566b47d6\" x=\"378.526193\" y=\"239.758125\" style=\"stroke: #000000; stroke-width: 0.8\"/>\n      </g>\n     </g>\n     <g id=\"text_9\">\n      <!-- 5.0 -->\n      <g transform=\"translate(370.574631 254.356562)scale(0.1 -0.1)\">\n       <use xlink:href=\"#DejaVuSans-35\"/>\n       <use xlink:href=\"#DejaVuSans-2e\" x=\"63.623047\"/>\n       <use xlink:href=\"#DejaVuSans-30\" x=\"95.410156\"/>\n      </g>\n     </g>\n    </g>\n    <g id=\"text_10\">\n     <!-- Number of principal components -->\n     <g transform=\"translate(144.227188 268.034687)scale(0.1 -0.1)\">\n      <defs>\n       <path id=\"DejaVuSans-4e\" d=\"M 628 4666 \nL 1478 4666 \nL 3547 763 \nL 3547 4666 \nL 4159 4666 \nL 4159 0 \nL 3309 0 \nL 1241 3903 \nL 1241 0 \nL 628 0 \nL 628 4666 \nz\n\" transform=\"scale(0.015625)\"/>\n       <path id=\"DejaVuSans-75\" d=\"M 544 1381 \nL 544 3500 \nL 1119 3500 \nL 1119 1403 \nQ 1119 906 1312 657 \nQ 1506 409 1894 409 \nQ 2359 409 2629 706 \nQ 2900 1003 2900 1516 \nL 2900 3500 \nL 3475 3500 \nL 3475 0 \nL 2900 0 \nL 2900 538 \nQ 2691 219 2414 64 \nQ 2138 -91 1772 -91 \nQ 1169 -91 856 284 \nQ 544 659 544 1381 \nz\nM 1991 3584 \nL 1991 3584 \nz\n\" transform=\"scale(0.015625)\"/>\n       <path id=\"DejaVuSans-6d\" d=\"M 3328 2828 \nQ 3544 3216 3844 3400 \nQ 4144 3584 4550 3584 \nQ 5097 3584 5394 3201 \nQ 5691 2819 5691 2113 \nL 5691 0 \nL 5113 0 \nL 5113 2094 \nQ 5113 2597 4934 2840 \nQ 4756 3084 4391 3084 \nQ 3944 3084 3684 2787 \nQ 3425 2491 3425 1978 \nL 3425 0 \nL 2847 0 \nL 2847 2094 \nQ 2847 2600 2669 2842 \nQ 2491 3084 2119 3084 \nQ 1678 3084 1418 2786 \nQ 1159 2488 1159 1978 \nL 1159 0 \nL 581 0 \nL 581 3500 \nL 1159 3500 \nL 1159 2956 \nQ 1356 3278 1631 3431 \nQ 1906 3584 2284 3584 \nQ 2666 3584 2933 3390 \nQ 3200 3197 3328 2828 \nz\n\" transform=\"scale(0.015625)\"/>\n       <path id=\"DejaVuSans-62\" d=\"M 3116 1747 \nQ 3116 2381 2855 2742 \nQ 2594 3103 2138 3103 \nQ 1681 3103 1420 2742 \nQ 1159 2381 1159 1747 \nQ 1159 1113 1420 752 \nQ 1681 391 2138 391 \nQ 2594 391 2855 752 \nQ 3116 1113 3116 1747 \nz\nM 1159 2969 \nQ 1341 3281 1617 3432 \nQ 1894 3584 2278 3584 \nQ 2916 3584 3314 3078 \nQ 3713 2572 3713 1747 \nQ 3713 922 3314 415 \nQ 2916 -91 2278 -91 \nQ 1894 -91 1617 61 \nQ 1341 213 1159 525 \nL 1159 0 \nL 581 0 \nL 581 4863 \nL 1159 4863 \nL 1159 2969 \nz\n\" transform=\"scale(0.015625)\"/>\n       <path id=\"DejaVuSans-65\" d=\"M 3597 1894 \nL 3597 1613 \nL 953 1613 \nQ 991 1019 1311 708 \nQ 1631 397 2203 397 \nQ 2534 397 2845 478 \nQ 3156 559 3463 722 \nL 3463 178 \nQ 3153 47 2828 -22 \nQ 2503 -91 2169 -91 \nQ 1331 -91 842 396 \nQ 353 884 353 1716 \nQ 353 2575 817 3079 \nQ 1281 3584 2069 3584 \nQ 2775 3584 3186 3129 \nQ 3597 2675 3597 1894 \nz\nM 3022 2063 \nQ 3016 2534 2758 2815 \nQ 2500 3097 2075 3097 \nQ 1594 3097 1305 2825 \nQ 1016 2553 972 2059 \nL 3022 2063 \nz\n\" transform=\"scale(0.015625)\"/>\n       <path id=\"DejaVuSans-72\" d=\"M 2631 2963 \nQ 2534 3019 2420 3045 \nQ 2306 3072 2169 3072 \nQ 1681 3072 1420 2755 \nQ 1159 2438 1159 1844 \nL 1159 0 \nL 581 0 \nL 581 3500 \nL 1159 3500 \nL 1159 2956 \nQ 1341 3275 1631 3429 \nQ 1922 3584 2338 3584 \nQ 2397 3584 2469 3576 \nQ 2541 3569 2628 3553 \nL 2631 2963 \nz\n\" transform=\"scale(0.015625)\"/>\n       <path id=\"DejaVuSans-20\" transform=\"scale(0.015625)\"/>\n       <path id=\"DejaVuSans-6f\" d=\"M 1959 3097 \nQ 1497 3097 1228 2736 \nQ 959 2375 959 1747 \nQ 959 1119 1226 758 \nQ 1494 397 1959 397 \nQ 2419 397 2687 759 \nQ 2956 1122 2956 1747 \nQ 2956 2369 2687 2733 \nQ 2419 3097 1959 3097 \nz\nM 1959 3584 \nQ 2709 3584 3137 3096 \nQ 3566 2609 3566 1747 \nQ 3566 888 3137 398 \nQ 2709 -91 1959 -91 \nQ 1206 -91 779 398 \nQ 353 888 353 1747 \nQ 353 2609 779 3096 \nQ 1206 3584 1959 3584 \nz\n\" transform=\"scale(0.015625)\"/>\n       <path id=\"DejaVuSans-66\" d=\"M 2375 4863 \nL 2375 4384 \nL 1825 4384 \nQ 1516 4384 1395 4259 \nQ 1275 4134 1275 3809 \nL 1275 3500 \nL 2222 3500 \nL 2222 3053 \nL 1275 3053 \nL 1275 0 \nL 697 0 \nL 697 3053 \nL 147 3053 \nL 147 3500 \nL 697 3500 \nL 697 3744 \nQ 697 4328 969 4595 \nQ 1241 4863 1831 4863 \nL 2375 4863 \nz\n\" transform=\"scale(0.015625)\"/>\n       <path id=\"DejaVuSans-70\" d=\"M 1159 525 \nL 1159 -1331 \nL 581 -1331 \nL 581 3500 \nL 1159 3500 \nL 1159 2969 \nQ 1341 3281 1617 3432 \nQ 1894 3584 2278 3584 \nQ 2916 3584 3314 3078 \nQ 3713 2572 3713 1747 \nQ 3713 922 3314 415 \nQ 2916 -91 2278 -91 \nQ 1894 -91 1617 61 \nQ 1341 213 1159 525 \nz\nM 3116 1747 \nQ 3116 2381 2855 2742 \nQ 2594 3103 2138 3103 \nQ 1681 3103 1420 2742 \nQ 1159 2381 1159 1747 \nQ 1159 1113 1420 752 \nQ 1681 391 2138 391 \nQ 2594 391 2855 752 \nQ 3116 1113 3116 1747 \nz\n\" transform=\"scale(0.015625)\"/>\n       <path id=\"DejaVuSans-69\" d=\"M 603 3500 \nL 1178 3500 \nL 1178 0 \nL 603 0 \nL 603 3500 \nz\nM 603 4863 \nL 1178 4863 \nL 1178 4134 \nL 603 4134 \nL 603 4863 \nz\n\" transform=\"scale(0.015625)\"/>\n       <path id=\"DejaVuSans-6e\" d=\"M 3513 2113 \nL 3513 0 \nL 2938 0 \nL 2938 2094 \nQ 2938 2591 2744 2837 \nQ 2550 3084 2163 3084 \nQ 1697 3084 1428 2787 \nQ 1159 2491 1159 1978 \nL 1159 0 \nL 581 0 \nL 581 3500 \nL 1159 3500 \nL 1159 2956 \nQ 1366 3272 1645 3428 \nQ 1925 3584 2291 3584 \nQ 2894 3584 3203 3211 \nQ 3513 2838 3513 2113 \nz\n\" transform=\"scale(0.015625)\"/>\n       <path id=\"DejaVuSans-63\" d=\"M 3122 3366 \nL 3122 2828 \nQ 2878 2963 2633 3030 \nQ 2388 3097 2138 3097 \nQ 1578 3097 1268 2742 \nQ 959 2388 959 1747 \nQ 959 1106 1268 751 \nQ 1578 397 2138 397 \nQ 2388 397 2633 464 \nQ 2878 531 3122 666 \nL 3122 134 \nQ 2881 22 2623 -34 \nQ 2366 -91 2075 -91 \nQ 1284 -91 818 406 \nQ 353 903 353 1747 \nQ 353 2603 823 3093 \nQ 1294 3584 2113 3584 \nQ 2378 3584 2631 3529 \nQ 2884 3475 3122 3366 \nz\n\" transform=\"scale(0.015625)\"/>\n       <path id=\"DejaVuSans-61\" d=\"M 2194 1759 \nQ 1497 1759 1228 1600 \nQ 959 1441 959 1056 \nQ 959 750 1161 570 \nQ 1363 391 1709 391 \nQ 2188 391 2477 730 \nQ 2766 1069 2766 1631 \nL 2766 1759 \nL 2194 1759 \nz\nM 3341 1997 \nL 3341 0 \nL 2766 0 \nL 2766 531 \nQ 2569 213 2275 61 \nQ 1981 -91 1556 -91 \nQ 1019 -91 701 211 \nQ 384 513 384 1019 \nQ 384 1609 779 1909 \nQ 1175 2209 1959 2209 \nL 2766 2209 \nL 2766 2266 \nQ 2766 2663 2505 2880 \nQ 2244 3097 1772 3097 \nQ 1472 3097 1187 3025 \nQ 903 2953 641 2809 \nL 641 3341 \nQ 956 3463 1253 3523 \nQ 1550 3584 1831 3584 \nQ 2591 3584 2966 3190 \nQ 3341 2797 3341 1997 \nz\n\" transform=\"scale(0.015625)\"/>\n       <path id=\"DejaVuSans-6c\" d=\"M 603 4863 \nL 1178 4863 \nL 1178 0 \nL 603 0 \nL 603 4863 \nz\n\" transform=\"scale(0.015625)\"/>\n       <path id=\"DejaVuSans-74\" d=\"M 1172 4494 \nL 1172 3500 \nL 2356 3500 \nL 2356 3053 \nL 1172 3053 \nL 1172 1153 \nQ 1172 725 1289 603 \nQ 1406 481 1766 481 \nL 2356 481 \nL 2356 0 \nL 1766 0 \nQ 1100 0 847 248 \nQ 594 497 594 1153 \nL 594 3053 \nL 172 3053 \nL 172 3500 \nL 594 3500 \nL 594 4494 \nL 1172 4494 \nz\n\" transform=\"scale(0.015625)\"/>\n       <path id=\"DejaVuSans-73\" d=\"M 2834 3397 \nL 2834 2853 \nQ 2591 2978 2328 3040 \nQ 2066 3103 1784 3103 \nQ 1356 3103 1142 2972 \nQ 928 2841 928 2578 \nQ 928 2378 1081 2264 \nQ 1234 2150 1697 2047 \nL 1894 2003 \nQ 2506 1872 2764 1633 \nQ 3022 1394 3022 966 \nQ 3022 478 2636 193 \nQ 2250 -91 1575 -91 \nQ 1294 -91 989 -36 \nQ 684 19 347 128 \nL 347 722 \nQ 666 556 975 473 \nQ 1284 391 1588 391 \nQ 1994 391 2212 530 \nQ 2431 669 2431 922 \nQ 2431 1156 2273 1281 \nQ 2116 1406 1581 1522 \nL 1381 1569 \nQ 847 1681 609 1914 \nQ 372 2147 372 2553 \nQ 372 3047 722 3315 \nQ 1072 3584 1716 3584 \nQ 2034 3584 2315 3537 \nQ 2597 3491 2834 3397 \nz\n\" transform=\"scale(0.015625)\"/>\n      </defs>\n      <use xlink:href=\"#DejaVuSans-4e\"/>\n      <use xlink:href=\"#DejaVuSans-75\" x=\"74.804688\"/>\n      <use xlink:href=\"#DejaVuSans-6d\" x=\"138.183594\"/>\n      <use xlink:href=\"#DejaVuSans-62\" x=\"235.595703\"/>\n      <use xlink:href=\"#DejaVuSans-65\" x=\"299.072266\"/>\n      <use xlink:href=\"#DejaVuSans-72\" x=\"360.595703\"/>\n      <use xlink:href=\"#DejaVuSans-20\" x=\"401.708984\"/>\n      <use xlink:href=\"#DejaVuSans-6f\" x=\"433.496094\"/>\n      <use xlink:href=\"#DejaVuSans-66\" x=\"494.677734\"/>\n      <use xlink:href=\"#DejaVuSans-20\" x=\"529.882812\"/>\n      <use xlink:href=\"#DejaVuSans-70\" x=\"561.669922\"/>\n      <use xlink:href=\"#DejaVuSans-72\" x=\"625.146484\"/>\n      <use xlink:href=\"#DejaVuSans-69\" x=\"666.259766\"/>\n      <use xlink:href=\"#DejaVuSans-6e\" x=\"694.042969\"/>\n      <use xlink:href=\"#DejaVuSans-63\" x=\"757.421875\"/>\n      <use xlink:href=\"#DejaVuSans-69\" x=\"812.402344\"/>\n      <use xlink:href=\"#DejaVuSans-70\" x=\"840.185547\"/>\n      <use xlink:href=\"#DejaVuSans-61\" x=\"903.662109\"/>\n      <use xlink:href=\"#DejaVuSans-6c\" x=\"964.941406\"/>\n      <use xlink:href=\"#DejaVuSans-20\" x=\"992.724609\"/>\n      <use xlink:href=\"#DejaVuSans-63\" x=\"1024.511719\"/>\n      <use xlink:href=\"#DejaVuSans-6f\" x=\"1079.492188\"/>\n      <use xlink:href=\"#DejaVuSans-6d\" x=\"1140.673828\"/>\n      <use xlink:href=\"#DejaVuSans-70\" x=\"1238.085938\"/>\n      <use xlink:href=\"#DejaVuSans-6f\" x=\"1301.5625\"/>\n      <use xlink:href=\"#DejaVuSans-6e\" x=\"1362.744141\"/>\n      <use xlink:href=\"#DejaVuSans-65\" x=\"1426.123047\"/>\n      <use xlink:href=\"#DejaVuSans-6e\" x=\"1487.646484\"/>\n      <use xlink:href=\"#DejaVuSans-74\" x=\"1551.025391\"/>\n      <use xlink:href=\"#DejaVuSans-73\" x=\"1590.234375\"/>\n     </g>\n    </g>\n   </g>\n   <g id=\"matplotlib.axis_2\">\n    <g id=\"ytick_1\">\n     <g id=\"line2d_10\">\n      <defs>\n       <path id=\"m2e955a8205\" d=\"M 0 0 \nL -3.5 0 \n\" style=\"stroke: #000000; stroke-width: 0.8\"/>\n      </defs>\n      <g>\n       <use xlink:href=\"#m2e955a8205\" x=\"58.944375\" y=\"229.874489\" style=\"stroke: #000000; stroke-width: 0.8\"/>\n      </g>\n     </g>\n     <g id=\"text_11\">\n      <!-- 0.4 -->\n      <g transform=\"translate(36.04125 233.673707)scale(0.1 -0.1)\">\n       <use xlink:href=\"#DejaVuSans-30\"/>\n       <use xlink:href=\"#DejaVuSans-2e\" x=\"63.623047\"/>\n       <use xlink:href=\"#DejaVuSans-34\" x=\"95.410156\"/>\n      </g>\n     </g>\n    </g>\n    <g id=\"ytick_2\">\n     <g id=\"line2d_11\">\n      <g>\n       <use xlink:href=\"#m2e955a8205\" x=\"58.944375\" y=\"196.929034\" style=\"stroke: #000000; stroke-width: 0.8\"/>\n      </g>\n     </g>\n     <g id=\"text_12\">\n      <!-- 0.5 -->\n      <g transform=\"translate(36.04125 200.728253)scale(0.1 -0.1)\">\n       <use xlink:href=\"#DejaVuSans-30\"/>\n       <use xlink:href=\"#DejaVuSans-2e\" x=\"63.623047\"/>\n       <use xlink:href=\"#DejaVuSans-35\" x=\"95.410156\"/>\n      </g>\n     </g>\n    </g>\n    <g id=\"ytick_3\">\n     <g id=\"line2d_12\">\n      <g>\n       <use xlink:href=\"#m2e955a8205\" x=\"58.944375\" y=\"163.98358\" style=\"stroke: #000000; stroke-width: 0.8\"/>\n      </g>\n     </g>\n     <g id=\"text_13\">\n      <!-- 0.6 -->\n      <g transform=\"translate(36.04125 167.782798)scale(0.1 -0.1)\">\n       <defs>\n        <path id=\"DejaVuSans-36\" d=\"M 2113 2584 \nQ 1688 2584 1439 2293 \nQ 1191 2003 1191 1497 \nQ 1191 994 1439 701 \nQ 1688 409 2113 409 \nQ 2538 409 2786 701 \nQ 3034 994 3034 1497 \nQ 3034 2003 2786 2293 \nQ 2538 2584 2113 2584 \nz\nM 3366 4563 \nL 3366 3988 \nQ 3128 4100 2886 4159 \nQ 2644 4219 2406 4219 \nQ 1781 4219 1451 3797 \nQ 1122 3375 1075 2522 \nQ 1259 2794 1537 2939 \nQ 1816 3084 2150 3084 \nQ 2853 3084 3261 2657 \nQ 3669 2231 3669 1497 \nQ 3669 778 3244 343 \nQ 2819 -91 2113 -91 \nQ 1303 -91 875 529 \nQ 447 1150 447 2328 \nQ 447 3434 972 4092 \nQ 1497 4750 2381 4750 \nQ 2619 4750 2861 4703 \nQ 3103 4656 3366 4563 \nz\n\" transform=\"scale(0.015625)\"/>\n       </defs>\n       <use xlink:href=\"#DejaVuSans-30\"/>\n       <use xlink:href=\"#DejaVuSans-2e\" x=\"63.623047\"/>\n       <use xlink:href=\"#DejaVuSans-36\" x=\"95.410156\"/>\n      </g>\n     </g>\n    </g>\n    <g id=\"ytick_4\">\n     <g id=\"line2d_13\">\n      <g>\n       <use xlink:href=\"#m2e955a8205\" x=\"58.944375\" y=\"131.038125\" style=\"stroke: #000000; stroke-width: 0.8\"/>\n      </g>\n     </g>\n     <g id=\"text_14\">\n      <!-- 0.7 -->\n      <g transform=\"translate(36.04125 134.837344)scale(0.1 -0.1)\">\n       <defs>\n        <path id=\"DejaVuSans-37\" d=\"M 525 4666 \nL 3525 4666 \nL 3525 4397 \nL 1831 0 \nL 1172 0 \nL 2766 4134 \nL 525 4134 \nL 525 4666 \nz\n\" transform=\"scale(0.015625)\"/>\n       </defs>\n       <use xlink:href=\"#DejaVuSans-30\"/>\n       <use xlink:href=\"#DejaVuSans-2e\" x=\"63.623047\"/>\n       <use xlink:href=\"#DejaVuSans-37\" x=\"95.410156\"/>\n      </g>\n     </g>\n    </g>\n    <g id=\"ytick_5\">\n     <g id=\"line2d_14\">\n      <g>\n       <use xlink:href=\"#m2e955a8205\" x=\"58.944375\" y=\"98.09267\" style=\"stroke: #000000; stroke-width: 0.8\"/>\n      </g>\n     </g>\n     <g id=\"text_15\">\n      <!-- 0.8 -->\n      <g transform=\"translate(36.04125 101.891889)scale(0.1 -0.1)\">\n       <defs>\n        <path id=\"DejaVuSans-38\" d=\"M 2034 2216 \nQ 1584 2216 1326 1975 \nQ 1069 1734 1069 1313 \nQ 1069 891 1326 650 \nQ 1584 409 2034 409 \nQ 2484 409 2743 651 \nQ 3003 894 3003 1313 \nQ 3003 1734 2745 1975 \nQ 2488 2216 2034 2216 \nz\nM 1403 2484 \nQ 997 2584 770 2862 \nQ 544 3141 544 3541 \nQ 544 4100 942 4425 \nQ 1341 4750 2034 4750 \nQ 2731 4750 3128 4425 \nQ 3525 4100 3525 3541 \nQ 3525 3141 3298 2862 \nQ 3072 2584 2669 2484 \nQ 3125 2378 3379 2068 \nQ 3634 1759 3634 1313 \nQ 3634 634 3220 271 \nQ 2806 -91 2034 -91 \nQ 1263 -91 848 271 \nQ 434 634 434 1313 \nQ 434 1759 690 2068 \nQ 947 2378 1403 2484 \nz\nM 1172 3481 \nQ 1172 3119 1398 2916 \nQ 1625 2713 2034 2713 \nQ 2441 2713 2670 2916 \nQ 2900 3119 2900 3481 \nQ 2900 3844 2670 4047 \nQ 2441 4250 2034 4250 \nQ 1625 4250 1398 4047 \nQ 1172 3844 1172 3481 \nz\n\" transform=\"scale(0.015625)\"/>\n       </defs>\n       <use xlink:href=\"#DejaVuSans-30\"/>\n       <use xlink:href=\"#DejaVuSans-2e\" x=\"63.623047\"/>\n       <use xlink:href=\"#DejaVuSans-38\" x=\"95.410156\"/>\n      </g>\n     </g>\n    </g>\n    <g id=\"ytick_6\">\n     <g id=\"line2d_15\">\n      <g>\n       <use xlink:href=\"#m2e955a8205\" x=\"58.944375\" y=\"65.147216\" style=\"stroke: #000000; stroke-width: 0.8\"/>\n      </g>\n     </g>\n     <g id=\"text_16\">\n      <!-- 0.9 -->\n      <g transform=\"translate(36.04125 68.946435)scale(0.1 -0.1)\">\n       <defs>\n        <path id=\"DejaVuSans-39\" d=\"M 703 97 \nL 703 672 \nQ 941 559 1184 500 \nQ 1428 441 1663 441 \nQ 2288 441 2617 861 \nQ 2947 1281 2994 2138 \nQ 2813 1869 2534 1725 \nQ 2256 1581 1919 1581 \nQ 1219 1581 811 2004 \nQ 403 2428 403 3163 \nQ 403 3881 828 4315 \nQ 1253 4750 1959 4750 \nQ 2769 4750 3195 4129 \nQ 3622 3509 3622 2328 \nQ 3622 1225 3098 567 \nQ 2575 -91 1691 -91 \nQ 1453 -91 1209 -44 \nQ 966 3 703 97 \nz\nM 1959 2075 \nQ 2384 2075 2632 2365 \nQ 2881 2656 2881 3163 \nQ 2881 3666 2632 3958 \nQ 2384 4250 1959 4250 \nQ 1534 4250 1286 3958 \nQ 1038 3666 1038 3163 \nQ 1038 2656 1286 2365 \nQ 1534 2075 1959 2075 \nz\n\" transform=\"scale(0.015625)\"/>\n       </defs>\n       <use xlink:href=\"#DejaVuSans-30\"/>\n       <use xlink:href=\"#DejaVuSans-2e\" x=\"63.623047\"/>\n       <use xlink:href=\"#DejaVuSans-39\" x=\"95.410156\"/>\n      </g>\n     </g>\n    </g>\n    <g id=\"ytick_7\">\n     <g id=\"line2d_16\">\n      <g>\n       <use xlink:href=\"#m2e955a8205\" x=\"58.944375\" y=\"32.201761\" style=\"stroke: #000000; stroke-width: 0.8\"/>\n      </g>\n     </g>\n     <g id=\"text_17\">\n      <!-- 1.0 -->\n      <g transform=\"translate(36.04125 36.00098)scale(0.1 -0.1)\">\n       <use xlink:href=\"#DejaVuSans-31\"/>\n       <use xlink:href=\"#DejaVuSans-2e\" x=\"63.623047\"/>\n       <use xlink:href=\"#DejaVuSans-30\" x=\"95.410156\"/>\n      </g>\n     </g>\n    </g>\n    <g id=\"text_18\">\n     <!-- Cumulative explained variance ratio -->\n     <g transform=\"translate(29.961562 221.781875)rotate(-90)scale(0.1 -0.1)\">\n      <defs>\n       <path id=\"DejaVuSans-43\" d=\"M 4122 4306 \nL 4122 3641 \nQ 3803 3938 3442 4084 \nQ 3081 4231 2675 4231 \nQ 1875 4231 1450 3742 \nQ 1025 3253 1025 2328 \nQ 1025 1406 1450 917 \nQ 1875 428 2675 428 \nQ 3081 428 3442 575 \nQ 3803 722 4122 1019 \nL 4122 359 \nQ 3791 134 3420 21 \nQ 3050 -91 2638 -91 \nQ 1578 -91 968 557 \nQ 359 1206 359 2328 \nQ 359 3453 968 4101 \nQ 1578 4750 2638 4750 \nQ 3056 4750 3426 4639 \nQ 3797 4528 4122 4306 \nz\n\" transform=\"scale(0.015625)\"/>\n       <path id=\"DejaVuSans-76\" d=\"M 191 3500 \nL 800 3500 \nL 1894 563 \nL 2988 3500 \nL 3597 3500 \nL 2284 0 \nL 1503 0 \nL 191 3500 \nz\n\" transform=\"scale(0.015625)\"/>\n       <path id=\"DejaVuSans-78\" d=\"M 3513 3500 \nL 2247 1797 \nL 3578 0 \nL 2900 0 \nL 1881 1375 \nL 863 0 \nL 184 0 \nL 1544 1831 \nL 300 3500 \nL 978 3500 \nL 1906 2253 \nL 2834 3500 \nL 3513 3500 \nz\n\" transform=\"scale(0.015625)\"/>\n       <path id=\"DejaVuSans-64\" d=\"M 2906 2969 \nL 2906 4863 \nL 3481 4863 \nL 3481 0 \nL 2906 0 \nL 2906 525 \nQ 2725 213 2448 61 \nQ 2172 -91 1784 -91 \nQ 1150 -91 751 415 \nQ 353 922 353 1747 \nQ 353 2572 751 3078 \nQ 1150 3584 1784 3584 \nQ 2172 3584 2448 3432 \nQ 2725 3281 2906 2969 \nz\nM 947 1747 \nQ 947 1113 1208 752 \nQ 1469 391 1925 391 \nQ 2381 391 2643 752 \nQ 2906 1113 2906 1747 \nQ 2906 2381 2643 2742 \nQ 2381 3103 1925 3103 \nQ 1469 3103 1208 2742 \nQ 947 2381 947 1747 \nz\n\" transform=\"scale(0.015625)\"/>\n      </defs>\n      <use xlink:href=\"#DejaVuSans-43\"/>\n      <use xlink:href=\"#DejaVuSans-75\" x=\"69.824219\"/>\n      <use xlink:href=\"#DejaVuSans-6d\" x=\"133.203125\"/>\n      <use xlink:href=\"#DejaVuSans-75\" x=\"230.615234\"/>\n      <use xlink:href=\"#DejaVuSans-6c\" x=\"293.994141\"/>\n      <use xlink:href=\"#DejaVuSans-61\" x=\"321.777344\"/>\n      <use xlink:href=\"#DejaVuSans-74\" x=\"383.056641\"/>\n      <use xlink:href=\"#DejaVuSans-69\" x=\"422.265625\"/>\n      <use xlink:href=\"#DejaVuSans-76\" x=\"450.048828\"/>\n      <use xlink:href=\"#DejaVuSans-65\" x=\"509.228516\"/>\n      <use xlink:href=\"#DejaVuSans-20\" x=\"570.751953\"/>\n      <use xlink:href=\"#DejaVuSans-65\" x=\"602.539062\"/>\n      <use xlink:href=\"#DejaVuSans-78\" x=\"662.3125\"/>\n      <use xlink:href=\"#DejaVuSans-70\" x=\"721.492188\"/>\n      <use xlink:href=\"#DejaVuSans-6c\" x=\"784.96875\"/>\n      <use xlink:href=\"#DejaVuSans-61\" x=\"812.751953\"/>\n      <use xlink:href=\"#DejaVuSans-69\" x=\"874.03125\"/>\n      <use xlink:href=\"#DejaVuSans-6e\" x=\"901.814453\"/>\n      <use xlink:href=\"#DejaVuSans-65\" x=\"965.193359\"/>\n      <use xlink:href=\"#DejaVuSans-64\" x=\"1026.716797\"/>\n      <use xlink:href=\"#DejaVuSans-20\" x=\"1090.193359\"/>\n      <use xlink:href=\"#DejaVuSans-76\" x=\"1121.980469\"/>\n      <use xlink:href=\"#DejaVuSans-61\" x=\"1181.160156\"/>\n      <use xlink:href=\"#DejaVuSans-72\" x=\"1242.439453\"/>\n      <use xlink:href=\"#DejaVuSans-69\" x=\"1283.552734\"/>\n      <use xlink:href=\"#DejaVuSans-61\" x=\"1311.335938\"/>\n      <use xlink:href=\"#DejaVuSans-6e\" x=\"1372.615234\"/>\n      <use xlink:href=\"#DejaVuSans-63\" x=\"1435.994141\"/>\n      <use xlink:href=\"#DejaVuSans-65\" x=\"1490.974609\"/>\n      <use xlink:href=\"#DejaVuSans-20\" x=\"1552.498047\"/>\n      <use xlink:href=\"#DejaVuSans-72\" x=\"1584.285156\"/>\n      <use xlink:href=\"#DejaVuSans-61\" x=\"1625.398438\"/>\n      <use xlink:href=\"#DejaVuSans-74\" x=\"1686.677734\"/>\n      <use xlink:href=\"#DejaVuSans-69\" x=\"1725.886719\"/>\n      <use xlink:href=\"#DejaVuSans-6f\" x=\"1753.669922\"/>\n     </g>\n    </g>\n   </g>\n   <g id=\"line2d_17\">\n    <path d=\"M 74.162557 229.874489 \nL 150.253466 154.099943 \nL 226.344375 91.50358 \nL 302.435284 48.674489 \nL 378.526193 32.201761 \n\" clip-path=\"url(#p7c86542dce)\" style=\"fill: none; stroke: #a52a2a; stroke-width: 1.5; stroke-linecap: square\"/>\n    <defs>\n     <path id=\"m29e69338db\" d=\"M 0 3 \nC 0.795609 3 1.55874 2.683901 2.12132 2.12132 \nC 2.683901 1.55874 3 0.795609 3 0 \nC 3 -0.795609 2.683901 -1.55874 2.12132 -2.12132 \nC 1.55874 -2.683901 0.795609 -3 0 -3 \nC -0.795609 -3 -1.55874 -2.683901 -2.12132 -2.12132 \nC -2.683901 -1.55874 -3 -0.795609 -3 0 \nC -3 0.795609 -2.683901 1.55874 -2.12132 2.12132 \nC -1.55874 2.683901 -0.795609 3 0 3 \nz\n\" style=\"stroke: #a52a2a\"/>\n    </defs>\n    <g clip-path=\"url(#p7c86542dce)\">\n     <use xlink:href=\"#m29e69338db\" x=\"74.162557\" y=\"229.874489\" style=\"fill: #a52a2a; stroke: #a52a2a\"/>\n     <use xlink:href=\"#m29e69338db\" x=\"150.253466\" y=\"154.099943\" style=\"fill: #a52a2a; stroke: #a52a2a\"/>\n     <use xlink:href=\"#m29e69338db\" x=\"226.344375\" y=\"91.50358\" style=\"fill: #a52a2a; stroke: #a52a2a\"/>\n     <use xlink:href=\"#m29e69338db\" x=\"302.435284\" y=\"48.674489\" style=\"fill: #a52a2a; stroke: #a52a2a\"/>\n     <use xlink:href=\"#m29e69338db\" x=\"378.526193\" y=\"32.201761\" style=\"fill: #a52a2a; stroke: #a52a2a\"/>\n    </g>\n   </g>\n   <g id=\"patch_3\">\n    <path d=\"M 58.944375 239.758125 \nL 58.944375 22.318125 \n\" style=\"fill: none; stroke: #000000; stroke-width: 0.8; stroke-linejoin: miter; stroke-linecap: square\"/>\n   </g>\n   <g id=\"patch_4\">\n    <path d=\"M 393.744375 239.758125 \nL 393.744375 22.318125 \n\" style=\"fill: none; stroke: #000000; stroke-width: 0.8; stroke-linejoin: miter; stroke-linecap: square\"/>\n   </g>\n   <g id=\"patch_5\">\n    <path d=\"M 58.944375 239.758125 \nL 393.744375 239.758125 \n\" style=\"fill: none; stroke: #000000; stroke-width: 0.8; stroke-linejoin: miter; stroke-linecap: square\"/>\n   </g>\n   <g id=\"patch_6\">\n    <path d=\"M 58.944375 22.318125 \nL 393.744375 22.318125 \n\" style=\"fill: none; stroke: #000000; stroke-width: 0.8; stroke-linejoin: miter; stroke-linecap: square\"/>\n   </g>\n   <g id=\"text_19\">\n    <!-- Cumulative explained variance ratio vs. number of principal components -->\n    <g transform=\"translate(7.2 16.318125)scale(0.12 -0.12)\">\n     <use xlink:href=\"#DejaVuSans-43\"/>\n     <use xlink:href=\"#DejaVuSans-75\" x=\"69.824219\"/>\n     <use xlink:href=\"#DejaVuSans-6d\" x=\"133.203125\"/>\n     <use xlink:href=\"#DejaVuSans-75\" x=\"230.615234\"/>\n     <use xlink:href=\"#DejaVuSans-6c\" x=\"293.994141\"/>\n     <use xlink:href=\"#DejaVuSans-61\" x=\"321.777344\"/>\n     <use xlink:href=\"#DejaVuSans-74\" x=\"383.056641\"/>\n     <use xlink:href=\"#DejaVuSans-69\" x=\"422.265625\"/>\n     <use xlink:href=\"#DejaVuSans-76\" x=\"450.048828\"/>\n     <use xlink:href=\"#DejaVuSans-65\" x=\"509.228516\"/>\n     <use xlink:href=\"#DejaVuSans-20\" x=\"570.751953\"/>\n     <use xlink:href=\"#DejaVuSans-65\" x=\"602.539062\"/>\n     <use xlink:href=\"#DejaVuSans-78\" x=\"662.3125\"/>\n     <use xlink:href=\"#DejaVuSans-70\" x=\"721.492188\"/>\n     <use xlink:href=\"#DejaVuSans-6c\" x=\"784.96875\"/>\n     <use xlink:href=\"#DejaVuSans-61\" x=\"812.751953\"/>\n     <use xlink:href=\"#DejaVuSans-69\" x=\"874.03125\"/>\n     <use xlink:href=\"#DejaVuSans-6e\" x=\"901.814453\"/>\n     <use xlink:href=\"#DejaVuSans-65\" x=\"965.193359\"/>\n     <use xlink:href=\"#DejaVuSans-64\" x=\"1026.716797\"/>\n     <use xlink:href=\"#DejaVuSans-20\" x=\"1090.193359\"/>\n     <use xlink:href=\"#DejaVuSans-76\" x=\"1121.980469\"/>\n     <use xlink:href=\"#DejaVuSans-61\" x=\"1181.160156\"/>\n     <use xlink:href=\"#DejaVuSans-72\" x=\"1242.439453\"/>\n     <use xlink:href=\"#DejaVuSans-69\" x=\"1283.552734\"/>\n     <use xlink:href=\"#DejaVuSans-61\" x=\"1311.335938\"/>\n     <use xlink:href=\"#DejaVuSans-6e\" x=\"1372.615234\"/>\n     <use xlink:href=\"#DejaVuSans-63\" x=\"1435.994141\"/>\n     <use xlink:href=\"#DejaVuSans-65\" x=\"1490.974609\"/>\n     <use xlink:href=\"#DejaVuSans-20\" x=\"1552.498047\"/>\n     <use xlink:href=\"#DejaVuSans-72\" x=\"1584.285156\"/>\n     <use xlink:href=\"#DejaVuSans-61\" x=\"1625.398438\"/>\n     <use xlink:href=\"#DejaVuSans-74\" x=\"1686.677734\"/>\n     <use xlink:href=\"#DejaVuSans-69\" x=\"1725.886719\"/>\n     <use xlink:href=\"#DejaVuSans-6f\" x=\"1753.669922\"/>\n     <use xlink:href=\"#DejaVuSans-20\" x=\"1814.851562\"/>\n     <use xlink:href=\"#DejaVuSans-76\" x=\"1846.638672\"/>\n     <use xlink:href=\"#DejaVuSans-73\" x=\"1905.818359\"/>\n     <use xlink:href=\"#DejaVuSans-2e\" x=\"1957.917969\"/>\n     <use xlink:href=\"#DejaVuSans-20\" x=\"1989.705078\"/>\n     <use xlink:href=\"#DejaVuSans-6e\" x=\"2021.492188\"/>\n     <use xlink:href=\"#DejaVuSans-75\" x=\"2084.871094\"/>\n     <use xlink:href=\"#DejaVuSans-6d\" x=\"2148.25\"/>\n     <use xlink:href=\"#DejaVuSans-62\" x=\"2245.662109\"/>\n     <use xlink:href=\"#DejaVuSans-65\" x=\"2309.138672\"/>\n     <use xlink:href=\"#DejaVuSans-72\" x=\"2370.662109\"/>\n     <use xlink:href=\"#DejaVuSans-20\" x=\"2411.775391\"/>\n     <use xlink:href=\"#DejaVuSans-6f\" x=\"2443.5625\"/>\n     <use xlink:href=\"#DejaVuSans-66\" x=\"2504.744141\"/>\n     <use xlink:href=\"#DejaVuSans-20\" x=\"2539.949219\"/>\n     <use xlink:href=\"#DejaVuSans-70\" x=\"2571.736328\"/>\n     <use xlink:href=\"#DejaVuSans-72\" x=\"2635.212891\"/>\n     <use xlink:href=\"#DejaVuSans-69\" x=\"2676.326172\"/>\n     <use xlink:href=\"#DejaVuSans-6e\" x=\"2704.109375\"/>\n     <use xlink:href=\"#DejaVuSans-63\" x=\"2767.488281\"/>\n     <use xlink:href=\"#DejaVuSans-69\" x=\"2822.46875\"/>\n     <use xlink:href=\"#DejaVuSans-70\" x=\"2850.251953\"/>\n     <use xlink:href=\"#DejaVuSans-61\" x=\"2913.728516\"/>\n     <use xlink:href=\"#DejaVuSans-6c\" x=\"2975.007812\"/>\n     <use xlink:href=\"#DejaVuSans-20\" x=\"3002.791016\"/>\n     <use xlink:href=\"#DejaVuSans-63\" x=\"3034.578125\"/>\n     <use xlink:href=\"#DejaVuSans-6f\" x=\"3089.558594\"/>\n     <use xlink:href=\"#DejaVuSans-6d\" x=\"3150.740234\"/>\n     <use xlink:href=\"#DejaVuSans-70\" x=\"3248.152344\"/>\n     <use xlink:href=\"#DejaVuSans-6f\" x=\"3311.628906\"/>\n     <use xlink:href=\"#DejaVuSans-6e\" x=\"3372.810547\"/>\n     <use xlink:href=\"#DejaVuSans-65\" x=\"3436.189453\"/>\n     <use xlink:href=\"#DejaVuSans-6e\" x=\"3497.712891\"/>\n     <use xlink:href=\"#DejaVuSans-74\" x=\"3561.091797\"/>\n     <use xlink:href=\"#DejaVuSans-73\" x=\"3600.300781\"/>\n    </g>\n   </g>\n  </g>\n </g>\n <defs>\n  <clipPath id=\"p7c86542dce\">\n   <rect x=\"58.944375\" y=\"22.318125\" width=\"334.8\" height=\"217.44\"/>\n  </clipPath>\n </defs>\n</svg>\n",
      "text/plain": [
       "<Figure size 432x288 with 1 Axes>"
      ]
     },
     "metadata": {
      "needs_background": "light"
     },
     "output_type": "display_data"
    }
   ],
   "source": [
    "# plot the cumulative explained variance ratio against the number of principal components\n",
    "plt.plot(range(1, 6), explain_ratio, color = \"brown\", marker = \"o\")\n",
    "plt.title(\"Cumulative explained variance ratio vs. number of principal components\")\n",
    "plt.xlabel(\"Number of principal components\")\n",
    "plt.ylabel(\"Cumulative explained variance ratio\")\n",
    "plt.show()"
   ]
  },
  {
   "cell_type": "markdown",
   "metadata": {},
   "source": [
    "### Part B: Transform the data by PCA"
   ]
  },
  {
   "cell_type": "code",
   "execution_count": 53,
   "metadata": {},
   "outputs": [],
   "source": [
    "# instantiate pca with 4 principal components\n",
    "pca = PCA(n_components = 4)\n",
    "principal_components = pca.fit_transform(pca_df)"
   ]
  },
  {
   "cell_type": "code",
   "execution_count": 58,
   "metadata": {},
   "outputs": [
    {
     "data": {
      "text/plain": [
       "(517, 5)"
      ]
     },
     "execution_count": 58,
     "metadata": {},
     "output_type": "execute_result"
    }
   ],
   "source": [
    "pca_df.shape"
   ]
  },
  {
   "cell_type": "code",
   "execution_count": 54,
   "metadata": {},
   "outputs": [
    {
     "data": {
      "text/plain": [
       "array([[ 2.8707736 ,  1.03818095, -0.7376921 , -0.14817976],\n",
       "       [-0.61154381, -1.67368952, -0.50651348,  0.29561033],\n",
       "       [-0.21779758, -1.52025609, -0.39796623,  0.19105366],\n",
       "       ...,\n",
       "       [ 1.12143505,  0.01778857,  0.94673927, -1.87987336],\n",
       "       [-1.1215933 ,  0.24343415,  0.10343671,  0.0450668 ],\n",
       "       [ 1.99853102, -0.24129206, -2.0624634 , -0.27181027]])"
      ]
     },
     "execution_count": 54,
     "metadata": {},
     "output_type": "execute_result"
    }
   ],
   "source": [
    "principal_components"
   ]
  },
  {
   "cell_type": "code",
   "execution_count": 59,
   "metadata": {},
   "outputs": [
    {
     "data": {
      "text/plain": [
       "(517, 4)"
      ]
     },
     "execution_count": 59,
     "metadata": {},
     "output_type": "execute_result"
    }
   ],
   "source": [
    "principal_components.shape"
   ]
  },
  {
   "cell_type": "markdown",
   "metadata": {},
   "source": [
    "### Part C: Export to CSV"
   ]
  },
  {
   "cell_type": "code",
   "execution_count": 41,
   "metadata": {},
   "outputs": [
    {
     "data": {
      "text/html": [
       "<div>\n",
       "<style scoped>\n",
       "    .dataframe tbody tr th:only-of-type {\n",
       "        vertical-align: middle;\n",
       "    }\n",
       "\n",
       "    .dataframe tbody tr th {\n",
       "        vertical-align: top;\n",
       "    }\n",
       "\n",
       "    .dataframe thead th {\n",
       "        text-align: right;\n",
       "    }\n",
       "</style>\n",
       "<table border=\"1\" class=\"dataframe\">\n",
       "  <thead>\n",
       "    <tr style=\"text-align: right;\">\n",
       "      <th></th>\n",
       "      <th>PC1</th>\n",
       "      <th>PC2</th>\n",
       "      <th>PC3</th>\n",
       "      <th>PC4</th>\n",
       "    </tr>\n",
       "  </thead>\n",
       "  <tbody>\n",
       "    <tr>\n",
       "      <th>0</th>\n",
       "      <td>2.870774</td>\n",
       "      <td>1.038181</td>\n",
       "      <td>-0.737692</td>\n",
       "      <td>-0.148180</td>\n",
       "    </tr>\n",
       "    <tr>\n",
       "      <th>1</th>\n",
       "      <td>-0.611544</td>\n",
       "      <td>-1.673690</td>\n",
       "      <td>-0.506513</td>\n",
       "      <td>0.295610</td>\n",
       "    </tr>\n",
       "    <tr>\n",
       "      <th>2</th>\n",
       "      <td>-0.217798</td>\n",
       "      <td>-1.520256</td>\n",
       "      <td>-0.397966</td>\n",
       "      <td>0.191054</td>\n",
       "    </tr>\n",
       "    <tr>\n",
       "      <th>3</th>\n",
       "      <td>3.400801</td>\n",
       "      <td>-0.095649</td>\n",
       "      <td>1.557776</td>\n",
       "      <td>1.614286</td>\n",
       "    </tr>\n",
       "    <tr>\n",
       "      <th>4</th>\n",
       "      <td>2.735682</td>\n",
       "      <td>-1.035390</td>\n",
       "      <td>1.632195</td>\n",
       "      <td>2.279629</td>\n",
       "    </tr>\n",
       "    <tr>\n",
       "      <th>5</th>\n",
       "      <td>-0.953128</td>\n",
       "      <td>1.491433</td>\n",
       "      <td>-0.419398</td>\n",
       "      <td>0.308684</td>\n",
       "    </tr>\n",
       "    <tr>\n",
       "      <th>6</th>\n",
       "      <td>-0.993609</td>\n",
       "      <td>-0.256308</td>\n",
       "      <td>-1.067444</td>\n",
       "      <td>0.096842</td>\n",
       "    </tr>\n",
       "    <tr>\n",
       "      <th>7</th>\n",
       "      <td>1.792678</td>\n",
       "      <td>-1.064583</td>\n",
       "      <td>2.310779</td>\n",
       "      <td>1.168650</td>\n",
       "    </tr>\n",
       "    <tr>\n",
       "      <th>8</th>\n",
       "      <td>1.195205</td>\n",
       "      <td>0.064354</td>\n",
       "      <td>1.168519</td>\n",
       "      <td>-0.765451</td>\n",
       "    </tr>\n",
       "    <tr>\n",
       "      <th>9</th>\n",
       "      <td>-0.664072</td>\n",
       "      <td>-0.321027</td>\n",
       "      <td>-0.074793</td>\n",
       "      <td>-0.681663</td>\n",
       "    </tr>\n",
       "  </tbody>\n",
       "</table>\n",
       "</div>"
      ],
      "text/plain": [
       "        PC1       PC2       PC3       PC4\n",
       "0  2.870774  1.038181 -0.737692 -0.148180\n",
       "1 -0.611544 -1.673690 -0.506513  0.295610\n",
       "2 -0.217798 -1.520256 -0.397966  0.191054\n",
       "3  3.400801 -0.095649  1.557776  1.614286\n",
       "4  2.735682 -1.035390  1.632195  2.279629\n",
       "5 -0.953128  1.491433 -0.419398  0.308684\n",
       "6 -0.993609 -0.256308 -1.067444  0.096842\n",
       "7  1.792678 -1.064583  2.310779  1.168650\n",
       "8  1.195205  0.064354  1.168519 -0.765451\n",
       "9 -0.664072 -0.321027 -0.074793 -0.681663"
      ]
     },
     "execution_count": 41,
     "metadata": {},
     "output_type": "execute_result"
    }
   ],
   "source": [
    "# create dataframe of principal components\n",
    "principal_df = pd.DataFrame(data = principal_components, columns = [ \"PC1\", \"PC2\", \"PC3\", \"PC4\" ])\n",
    "principal_df.head(10)"
   ]
  },
  {
   "cell_type": "code",
   "execution_count": 42,
   "metadata": {},
   "outputs": [],
   "source": [
    "# export dataframe to CSV file titled \"data_reduced.csv\" without header\n",
    "principal_df.to_csv(\"data_reduced.csv\", header = False, index = False)"
   ]
  },
  {
   "cell_type": "code",
   "execution_count": 43,
   "metadata": {},
   "outputs": [
    {
     "data": {
      "text/html": [
       "<div>\n",
       "<style scoped>\n",
       "    .dataframe tbody tr th:only-of-type {\n",
       "        vertical-align: middle;\n",
       "    }\n",
       "\n",
       "    .dataframe tbody tr th {\n",
       "        vertical-align: top;\n",
       "    }\n",
       "\n",
       "    .dataframe thead th {\n",
       "        text-align: right;\n",
       "    }\n",
       "</style>\n",
       "<table border=\"1\" class=\"dataframe\">\n",
       "  <thead>\n",
       "    <tr style=\"text-align: right;\">\n",
       "      <th></th>\n",
       "      <th>PC1</th>\n",
       "      <th>PC2</th>\n",
       "      <th>PC3</th>\n",
       "      <th>PC4</th>\n",
       "    </tr>\n",
       "  </thead>\n",
       "  <tbody>\n",
       "    <tr>\n",
       "      <th>count</th>\n",
       "      <td>517.00</td>\n",
       "      <td>517.00</td>\n",
       "      <td>517.00</td>\n",
       "      <td>517.00</td>\n",
       "    </tr>\n",
       "    <tr>\n",
       "      <th>mean</th>\n",
       "      <td>0.00</td>\n",
       "      <td>0.00</td>\n",
       "      <td>0.00</td>\n",
       "      <td>-0.00</td>\n",
       "    </tr>\n",
       "    <tr>\n",
       "      <th>std</th>\n",
       "      <td>1.42</td>\n",
       "      <td>1.06</td>\n",
       "      <td>0.99</td>\n",
       "      <td>0.79</td>\n",
       "    </tr>\n",
       "    <tr>\n",
       "      <th>min</th>\n",
       "      <td>-3.51</td>\n",
       "      <td>-2.67</td>\n",
       "      <td>-2.68</td>\n",
       "      <td>-1.94</td>\n",
       "    </tr>\n",
       "    <tr>\n",
       "      <th>25%</th>\n",
       "      <td>-0.95</td>\n",
       "      <td>-0.81</td>\n",
       "      <td>-0.65</td>\n",
       "      <td>-0.48</td>\n",
       "    </tr>\n",
       "    <tr>\n",
       "      <th>50%</th>\n",
       "      <td>-0.31</td>\n",
       "      <td>-0.14</td>\n",
       "      <td>0.02</td>\n",
       "      <td>-0.05</td>\n",
       "    </tr>\n",
       "    <tr>\n",
       "      <th>75%</th>\n",
       "      <td>0.90</td>\n",
       "      <td>0.76</td>\n",
       "      <td>0.63</td>\n",
       "      <td>0.48</td>\n",
       "    </tr>\n",
       "    <tr>\n",
       "      <th>max</th>\n",
       "      <td>4.43</td>\n",
       "      <td>6.15</td>\n",
       "      <td>3.63</td>\n",
       "      <td>7.02</td>\n",
       "    </tr>\n",
       "  </tbody>\n",
       "</table>\n",
       "</div>"
      ],
      "text/plain": [
       "          PC1     PC2     PC3     PC4\n",
       "count  517.00  517.00  517.00  517.00\n",
       "mean     0.00    0.00    0.00   -0.00\n",
       "std      1.42    1.06    0.99    0.79\n",
       "min     -3.51   -2.67   -2.68   -1.94\n",
       "25%     -0.95   -0.81   -0.65   -0.48\n",
       "50%     -0.31   -0.14    0.02   -0.05\n",
       "75%      0.90    0.76    0.63    0.48\n",
       "max      4.43    6.15    3.63    7.02"
      ]
     },
     "execution_count": 43,
     "metadata": {},
     "output_type": "execute_result"
    }
   ],
   "source": [
    "# find five-number sumary for each principal component\n",
    "principal_df.describe().round(2)"
   ]
  },
  {
   "cell_type": "markdown",
   "metadata": {},
   "source": [
    "## Task 9. Missing Values"
   ]
  },
  {
   "cell_type": "markdown",
   "metadata": {},
   "source": [
    "The dataset is reloaded."
   ]
  },
  {
   "cell_type": "code",
   "execution_count": 60,
   "metadata": {},
   "outputs": [],
   "source": [
    "# reload the dataset\n",
    "df = pd.read_csv(\"forestfires.csv\", sep = ',')"
   ]
  },
  {
   "cell_type": "code",
   "execution_count": 61,
   "metadata": {},
   "outputs": [
    {
     "data": {
      "text/html": [
       "<div>\n",
       "<style scoped>\n",
       "    .dataframe tbody tr th:only-of-type {\n",
       "        vertical-align: middle;\n",
       "    }\n",
       "\n",
       "    .dataframe tbody tr th {\n",
       "        vertical-align: top;\n",
       "    }\n",
       "\n",
       "    .dataframe thead th {\n",
       "        text-align: right;\n",
       "    }\n",
       "</style>\n",
       "<table border=\"1\" class=\"dataframe\">\n",
       "  <thead>\n",
       "    <tr style=\"text-align: right;\">\n",
       "      <th></th>\n",
       "      <th>X</th>\n",
       "      <th>Y</th>\n",
       "      <th>month</th>\n",
       "      <th>day</th>\n",
       "      <th>FFMC</th>\n",
       "      <th>DMC</th>\n",
       "      <th>DC</th>\n",
       "      <th>ISI</th>\n",
       "      <th>temp</th>\n",
       "      <th>RH</th>\n",
       "      <th>wind</th>\n",
       "      <th>rain</th>\n",
       "      <th>area</th>\n",
       "    </tr>\n",
       "  </thead>\n",
       "  <tbody>\n",
       "    <tr>\n",
       "      <th>0</th>\n",
       "      <td>7</td>\n",
       "      <td>5</td>\n",
       "      <td>mar</td>\n",
       "      <td>fri</td>\n",
       "      <td>86.2</td>\n",
       "      <td>26.2</td>\n",
       "      <td>94.3</td>\n",
       "      <td>5.1</td>\n",
       "      <td>8.2</td>\n",
       "      <td>51</td>\n",
       "      <td>6.7</td>\n",
       "      <td>0.0</td>\n",
       "      <td>0.0</td>\n",
       "    </tr>\n",
       "    <tr>\n",
       "      <th>1</th>\n",
       "      <td>7</td>\n",
       "      <td>4</td>\n",
       "      <td>oct</td>\n",
       "      <td>tue</td>\n",
       "      <td>90.6</td>\n",
       "      <td>35.4</td>\n",
       "      <td>669.1</td>\n",
       "      <td>6.7</td>\n",
       "      <td>18.0</td>\n",
       "      <td>33</td>\n",
       "      <td>0.9</td>\n",
       "      <td>0.0</td>\n",
       "      <td>0.0</td>\n",
       "    </tr>\n",
       "    <tr>\n",
       "      <th>2</th>\n",
       "      <td>7</td>\n",
       "      <td>4</td>\n",
       "      <td>oct</td>\n",
       "      <td>sat</td>\n",
       "      <td>90.6</td>\n",
       "      <td>43.7</td>\n",
       "      <td>686.9</td>\n",
       "      <td>6.7</td>\n",
       "      <td>14.6</td>\n",
       "      <td>33</td>\n",
       "      <td>1.3</td>\n",
       "      <td>0.0</td>\n",
       "      <td>0.0</td>\n",
       "    </tr>\n",
       "    <tr>\n",
       "      <th>3</th>\n",
       "      <td>8</td>\n",
       "      <td>6</td>\n",
       "      <td>mar</td>\n",
       "      <td>fri</td>\n",
       "      <td>91.7</td>\n",
       "      <td>33.3</td>\n",
       "      <td>77.5</td>\n",
       "      <td>9.0</td>\n",
       "      <td>8.3</td>\n",
       "      <td>97</td>\n",
       "      <td>4.0</td>\n",
       "      <td>0.2</td>\n",
       "      <td>0.0</td>\n",
       "    </tr>\n",
       "    <tr>\n",
       "      <th>4</th>\n",
       "      <td>8</td>\n",
       "      <td>6</td>\n",
       "      <td>mar</td>\n",
       "      <td>sun</td>\n",
       "      <td>89.3</td>\n",
       "      <td>51.3</td>\n",
       "      <td>102.2</td>\n",
       "      <td>9.6</td>\n",
       "      <td>11.4</td>\n",
       "      <td>99</td>\n",
       "      <td>1.8</td>\n",
       "      <td>0.0</td>\n",
       "      <td>0.0</td>\n",
       "    </tr>\n",
       "  </tbody>\n",
       "</table>\n",
       "</div>"
      ],
      "text/plain": [
       "   X  Y month  day  FFMC   DMC     DC  ISI  temp  RH  wind  rain  area\n",
       "0  7  5   mar  fri  86.2  26.2   94.3  5.1   8.2  51   6.7   0.0   0.0\n",
       "1  7  4   oct  tue  90.6  35.4  669.1  6.7  18.0  33   0.9   0.0   0.0\n",
       "2  7  4   oct  sat  90.6  43.7  686.9  6.7  14.6  33   1.3   0.0   0.0\n",
       "3  8  6   mar  fri  91.7  33.3   77.5  9.0   8.3  97   4.0   0.2   0.0\n",
       "4  8  6   mar  sun  89.3  51.3  102.2  9.6  11.4  99   1.8   0.0   0.0"
      ]
     },
     "execution_count": 61,
     "metadata": {},
     "output_type": "execute_result"
    }
   ],
   "source": [
    "df.head()"
   ]
  },
  {
   "cell_type": "code",
   "execution_count": 62,
   "metadata": {},
   "outputs": [
    {
     "data": {
      "image/png": "[encoded data removed]",
      "image/svg+xml": "<?xml version=\"1.0\" encoding=\"utf-8\" standalone=\"no\"?>\n<!DOCTYPE svg PUBLIC \"-//W3C//DTD SVG 1.1//EN\"\n  \"http://www.w3.org/Graphics/SVG/1.1/DTD/svg11.dtd\">\n<svg xmlns:xlink=\"http://www.w3.org/1999/xlink\" width=\"395.328125pt\" height=\"263.63625pt\" viewBox=\"0 0 395.328125 263.63625\" xmlns=\"http://www.w3.org/2000/svg\" version=\"1.1\">\n <metadata>\n  <rdf:RDF xmlns:dc=\"http://purl.org/dc/elements/1.1/\" xmlns:cc=\"http://creativecommons.org/ns#\" xmlns:rdf=\"http://www.w3.org/1999/02/22-rdf-syntax-ns#\">\n   <cc:Work>\n    <dc:type rdf:resource=\"http://purl.org/dc/dcmitype/StillImage\"/>\n    <dc:date>2022-10-06T15:23:40.753757</dc:date>\n    <dc:format>image/svg+xml</dc:format>\n    <dc:creator>\n     <cc:Agent>\n      <dc:title>Matplotlib v3.5.0, https://matplotlib.org/</dc:title>\n     </cc:Agent>\n    </dc:creator>\n   </cc:Work>\n  </rdf:RDF>\n </metadata>\n <defs>\n  <style type=\"text/css\">*{stroke-linejoin: round; stroke-linecap: butt}</style>\n </defs>\n <g id=\"figure_1\">\n  <g id=\"patch_1\">\n   <path d=\"M 0 263.63625 \nL 395.328125 263.63625 \nL 395.328125 0 \nL 0 0 \nL 0 263.63625 \nz\n\" style=\"fill: none\"/>\n  </g>\n  <g id=\"axes_1\">\n   <g id=\"patch_2\">\n    <path d=\"M 53.328125 239.758125 \nL 388.128125 239.758125 \nL 388.128125 22.318125 \nL 53.328125 22.318125 \nz\n\" style=\"fill: #ffffff\"/>\n   </g>\n   <g id=\"matplotlib.axis_1\">\n    <g id=\"xtick_1\">\n     <g id=\"line2d_1\">\n      <defs>\n       <path id=\"mf6730db472\" d=\"M 0 0 \nL 0 3.5 \n\" style=\"stroke: #000000; stroke-width: 0.8\"/>\n      </defs>\n      <g>\n       <use xlink:href=\"#mf6730db472\" x=\"220.728125\" y=\"239.758125\" style=\"stroke: #000000; stroke-width: 0.8\"/>\n      </g>\n     </g>\n     <g id=\"text_1\">\n      <!-- 1 -->\n      <g transform=\"translate(217.546875 254.356563)scale(0.1 -0.1)\">\n       <defs>\n        <path id=\"DejaVuSans-31\" d=\"M 794 531 \nL 1825 531 \nL 1825 4091 \nL 703 3866 \nL 703 4441 \nL 1819 4666 \nL 2450 4666 \nL 2450 531 \nL 3481 531 \nL 3481 0 \nL 794 0 \nL 794 531 \nz\n\" transform=\"scale(0.015625)\"/>\n       </defs>\n       <use xlink:href=\"#DejaVuSans-31\"/>\n      </g>\n     </g>\n    </g>\n   </g>\n   <g id=\"matplotlib.axis_2\">\n    <g id=\"ytick_1\">\n     <g id=\"line2d_2\">\n      <defs>\n       <path id=\"m4a44c925d2\" d=\"M 0 0 \nL -3.5 0 \n\" style=\"stroke: #000000; stroke-width: 0.8\"/>\n      </defs>\n      <g>\n       <use xlink:href=\"#m4a44c925d2\" x=\"53.328125\" y=\"229.874489\" style=\"stroke: #000000; stroke-width: 0.8\"/>\n      </g>\n     </g>\n     <g id=\"text_2\">\n      <!-- 0 -->\n      <g transform=\"translate(39.965625 233.673707)scale(0.1 -0.1)\">\n       <defs>\n        <path id=\"DejaVuSans-30\" d=\"M 2034 4250 \nQ 1547 4250 1301 3770 \nQ 1056 3291 1056 2328 \nQ 1056 1369 1301 889 \nQ 1547 409 2034 409 \nQ 2525 409 2770 889 \nQ 3016 1369 3016 2328 \nQ 3016 3291 2770 3770 \nQ 2525 4250 2034 4250 \nz\nM 2034 4750 \nQ 2819 4750 3233 4129 \nQ 3647 3509 3647 2328 \nQ 3647 1150 3233 529 \nQ 2819 -91 2034 -91 \nQ 1250 -91 836 529 \nQ 422 1150 422 2328 \nQ 422 3509 836 4129 \nQ 1250 4750 2034 4750 \nz\n\" transform=\"scale(0.015625)\"/>\n       </defs>\n       <use xlink:href=\"#DejaVuSans-30\"/>\n      </g>\n     </g>\n    </g>\n    <g id=\"ytick_2\">\n     <g id=\"line2d_3\">\n      <g>\n       <use xlink:href=\"#m4a44c925d2\" x=\"53.328125\" y=\"193.632193\" style=\"stroke: #000000; stroke-width: 0.8\"/>\n      </g>\n     </g>\n     <g id=\"text_3\">\n      <!-- 200 -->\n      <g transform=\"translate(27.240625 197.431412)scale(0.1 -0.1)\">\n       <defs>\n        <path id=\"DejaVuSans-32\" d=\"M 1228 531 \nL 3431 531 \nL 3431 0 \nL 469 0 \nL 469 531 \nQ 828 903 1448 1529 \nQ 2069 2156 2228 2338 \nQ 2531 2678 2651 2914 \nQ 2772 3150 2772 3378 \nQ 2772 3750 2511 3984 \nQ 2250 4219 1831 4219 \nQ 1534 4219 1204 4116 \nQ 875 4013 500 3803 \nL 500 4441 \nQ 881 4594 1212 4672 \nQ 1544 4750 1819 4750 \nQ 2544 4750 2975 4387 \nQ 3406 4025 3406 3419 \nQ 3406 3131 3298 2873 \nQ 3191 2616 2906 2266 \nQ 2828 2175 2409 1742 \nQ 1991 1309 1228 531 \nz\n\" transform=\"scale(0.015625)\"/>\n       </defs>\n       <use xlink:href=\"#DejaVuSans-32\"/>\n       <use xlink:href=\"#DejaVuSans-30\" x=\"63.623047\"/>\n       <use xlink:href=\"#DejaVuSans-30\" x=\"127.246094\"/>\n      </g>\n     </g>\n    </g>\n    <g id=\"ytick_3\">\n     <g id=\"line2d_4\">\n      <g>\n       <use xlink:href=\"#m4a44c925d2\" x=\"53.328125\" y=\"157.389898\" style=\"stroke: #000000; stroke-width: 0.8\"/>\n      </g>\n     </g>\n     <g id=\"text_4\">\n      <!-- 400 -->\n      <g transform=\"translate(27.240625 161.189117)scale(0.1 -0.1)\">\n       <defs>\n        <path id=\"DejaVuSans-34\" d=\"M 2419 4116 \nL 825 1625 \nL 2419 1625 \nL 2419 4116 \nz\nM 2253 4666 \nL 3047 4666 \nL 3047 1625 \nL 3713 1625 \nL 3713 1100 \nL 3047 1100 \nL 3047 0 \nL 2419 0 \nL 2419 1100 \nL 313 1100 \nL 313 1709 \nL 2253 4666 \nz\n\" transform=\"scale(0.015625)\"/>\n       </defs>\n       <use xlink:href=\"#DejaVuSans-34\"/>\n       <use xlink:href=\"#DejaVuSans-30\" x=\"63.623047\"/>\n       <use xlink:href=\"#DejaVuSans-30\" x=\"127.246094\"/>\n      </g>\n     </g>\n    </g>\n    <g id=\"ytick_4\">\n     <g id=\"line2d_5\">\n      <g>\n       <use xlink:href=\"#m4a44c925d2\" x=\"53.328125\" y=\"121.147603\" style=\"stroke: #000000; stroke-width: 0.8\"/>\n      </g>\n     </g>\n     <g id=\"text_5\">\n      <!-- 600 -->\n      <g transform=\"translate(27.240625 124.946821)scale(0.1 -0.1)\">\n       <defs>\n        <path id=\"DejaVuSans-36\" d=\"M 2113 2584 \nQ 1688 2584 1439 2293 \nQ 1191 2003 1191 1497 \nQ 1191 994 1439 701 \nQ 1688 409 2113 409 \nQ 2538 409 2786 701 \nQ 3034 994 3034 1497 \nQ 3034 2003 2786 2293 \nQ 2538 2584 2113 2584 \nz\nM 3366 4563 \nL 3366 3988 \nQ 3128 4100 2886 4159 \nQ 2644 4219 2406 4219 \nQ 1781 4219 1451 3797 \nQ 1122 3375 1075 2522 \nQ 1259 2794 1537 2939 \nQ 1816 3084 2150 3084 \nQ 2853 3084 3261 2657 \nQ 3669 2231 3669 1497 \nQ 3669 778 3244 343 \nQ 2819 -91 2113 -91 \nQ 1303 -91 875 529 \nQ 447 1150 447 2328 \nQ 447 3434 972 4092 \nQ 1497 4750 2381 4750 \nQ 2619 4750 2861 4703 \nQ 3103 4656 3366 4563 \nz\n\" transform=\"scale(0.015625)\"/>\n       </defs>\n       <use xlink:href=\"#DejaVuSans-36\"/>\n       <use xlink:href=\"#DejaVuSans-30\" x=\"63.623047\"/>\n       <use xlink:href=\"#DejaVuSans-30\" x=\"127.246094\"/>\n      </g>\n     </g>\n    </g>\n    <g id=\"ytick_5\">\n     <g id=\"line2d_6\">\n      <g>\n       <use xlink:href=\"#m4a44c925d2\" x=\"53.328125\" y=\"84.905307\" style=\"stroke: #000000; stroke-width: 0.8\"/>\n      </g>\n     </g>\n     <g id=\"text_6\">\n      <!-- 800 -->\n      <g transform=\"translate(27.240625 88.704526)scale(0.1 -0.1)\">\n       <defs>\n        <path id=\"DejaVuSans-38\" d=\"M 2034 2216 \nQ 1584 2216 1326 1975 \nQ 1069 1734 1069 1313 \nQ 1069 891 1326 650 \nQ 1584 409 2034 409 \nQ 2484 409 2743 651 \nQ 3003 894 3003 1313 \nQ 3003 1734 2745 1975 \nQ 2488 2216 2034 2216 \nz\nM 1403 2484 \nQ 997 2584 770 2862 \nQ 544 3141 544 3541 \nQ 544 4100 942 4425 \nQ 1341 4750 2034 4750 \nQ 2731 4750 3128 4425 \nQ 3525 4100 3525 3541 \nQ 3525 3141 3298 2862 \nQ 3072 2584 2669 2484 \nQ 3125 2378 3379 2068 \nQ 3634 1759 3634 1313 \nQ 3634 634 3220 271 \nQ 2806 -91 2034 -91 \nQ 1263 -91 848 271 \nQ 434 634 434 1313 \nQ 434 1759 690 2068 \nQ 947 2378 1403 2484 \nz\nM 1172 3481 \nQ 1172 3119 1398 2916 \nQ 1625 2713 2034 2713 \nQ 2441 2713 2670 2916 \nQ 2900 3119 2900 3481 \nQ 2900 3844 2670 4047 \nQ 2441 4250 2034 4250 \nQ 1625 4250 1398 4047 \nQ 1172 3844 1172 3481 \nz\n\" transform=\"scale(0.015625)\"/>\n       </defs>\n       <use xlink:href=\"#DejaVuSans-38\"/>\n       <use xlink:href=\"#DejaVuSans-30\" x=\"63.623047\"/>\n       <use xlink:href=\"#DejaVuSans-30\" x=\"127.246094\"/>\n      </g>\n     </g>\n    </g>\n    <g id=\"ytick_6\">\n     <g id=\"line2d_7\">\n      <g>\n       <use xlink:href=\"#m4a44c925d2\" x=\"53.328125\" y=\"48.663012\" style=\"stroke: #000000; stroke-width: 0.8\"/>\n      </g>\n     </g>\n     <g id=\"text_7\">\n      <!-- 1000 -->\n      <g transform=\"translate(20.878125 52.462231)scale(0.1 -0.1)\">\n       <use xlink:href=\"#DejaVuSans-31\"/>\n       <use xlink:href=\"#DejaVuSans-30\" x=\"63.623047\"/>\n       <use xlink:href=\"#DejaVuSans-30\" x=\"127.246094\"/>\n       <use xlink:href=\"#DejaVuSans-30\" x=\"190.869141\"/>\n      </g>\n     </g>\n    </g>\n    <g id=\"text_8\">\n     <!-- Area -->\n     <g transform=\"translate(14.798438 142.542031)rotate(-90)scale(0.1 -0.1)\">\n      <defs>\n       <path id=\"DejaVuSans-41\" d=\"M 2188 4044 \nL 1331 1722 \nL 3047 1722 \nL 2188 4044 \nz\nM 1831 4666 \nL 2547 4666 \nL 4325 0 \nL 3669 0 \nL 3244 1197 \nL 1141 1197 \nL 716 0 \nL 50 0 \nL 1831 4666 \nz\n\" transform=\"scale(0.015625)\"/>\n       <path id=\"DejaVuSans-72\" d=\"M 2631 2963 \nQ 2534 3019 2420 3045 \nQ 2306 3072 2169 3072 \nQ 1681 3072 1420 2755 \nQ 1159 2438 1159 1844 \nL 1159 0 \nL 581 0 \nL 581 3500 \nL 1159 3500 \nL 1159 2956 \nQ 1341 3275 1631 3429 \nQ 1922 3584 2338 3584 \nQ 2397 3584 2469 3576 \nQ 2541 3569 2628 3553 \nL 2631 2963 \nz\n\" transform=\"scale(0.015625)\"/>\n       <path id=\"DejaVuSans-65\" d=\"M 3597 1894 \nL 3597 1613 \nL 953 1613 \nQ 991 1019 1311 708 \nQ 1631 397 2203 397 \nQ 2534 397 2845 478 \nQ 3156 559 3463 722 \nL 3463 178 \nQ 3153 47 2828 -22 \nQ 2503 -91 2169 -91 \nQ 1331 -91 842 396 \nQ 353 884 353 1716 \nQ 353 2575 817 3079 \nQ 1281 3584 2069 3584 \nQ 2775 3584 3186 3129 \nQ 3597 2675 3597 1894 \nz\nM 3022 2063 \nQ 3016 2534 2758 2815 \nQ 2500 3097 2075 3097 \nQ 1594 3097 1305 2825 \nQ 1016 2553 972 2059 \nL 3022 2063 \nz\n\" transform=\"scale(0.015625)\"/>\n       <path id=\"DejaVuSans-61\" d=\"M 2194 1759 \nQ 1497 1759 1228 1600 \nQ 959 1441 959 1056 \nQ 959 750 1161 570 \nQ 1363 391 1709 391 \nQ 2188 391 2477 730 \nQ 2766 1069 2766 1631 \nL 2766 1759 \nL 2194 1759 \nz\nM 3341 1997 \nL 3341 0 \nL 2766 0 \nL 2766 531 \nQ 2569 213 2275 61 \nQ 1981 -91 1556 -91 \nQ 1019 -91 701 211 \nQ 384 513 384 1019 \nQ 384 1609 779 1909 \nQ 1175 2209 1959 2209 \nL 2766 2209 \nL 2766 2266 \nQ 2766 2663 2505 2880 \nQ 2244 3097 1772 3097 \nQ 1472 3097 1187 3025 \nQ 903 2953 641 2809 \nL 641 3341 \nQ 956 3463 1253 3523 \nQ 1550 3584 1831 3584 \nQ 2591 3584 2966 3190 \nQ 3341 2797 3341 1997 \nz\n\" transform=\"scale(0.015625)\"/>\n      </defs>\n      <use xlink:href=\"#DejaVuSans-41\"/>\n      <use xlink:href=\"#DejaVuSans-72\" x=\"68.408203\"/>\n      <use xlink:href=\"#DejaVuSans-65\" x=\"107.271484\"/>\n      <use xlink:href=\"#DejaVuSans-61\" x=\"168.794922\"/>\n     </g>\n    </g>\n   </g>\n   <g id=\"line2d_8\">\n    <path d=\"M 195.618125 229.874489 \nL 245.838125 229.874489 \nL 245.838125 228.683929 \nL 195.618125 228.683929 \nL 195.618125 229.874489 \n\" clip-path=\"url(#p93be9364df)\" style=\"fill: none; stroke: #000000; stroke-linecap: square\"/>\n   </g>\n   <g id=\"line2d_9\">\n    <path d=\"M 220.728125 229.874489 \nL 220.728125 229.874489 \n\" clip-path=\"url(#p93be9364df)\" style=\"fill: none; stroke: #000000; stroke-linecap: square\"/>\n   </g>\n   <g id=\"line2d_10\">\n    <path d=\"M 220.728125 228.683929 \nL 220.728125 226.90262 \n\" clip-path=\"url(#p93be9364df)\" style=\"fill: none; stroke: #000000; stroke-linecap: square\"/>\n   </g>\n   <g id=\"line2d_11\">\n    <path d=\"M 208.173125 229.874489 \nL 233.283125 229.874489 \n\" clip-path=\"url(#p93be9364df)\" style=\"fill: none; stroke: #000000; stroke-linecap: square\"/>\n   </g>\n   <g id=\"line2d_12\">\n    <path d=\"M 208.173125 226.90262 \nL 233.283125 226.90262 \n\" clip-path=\"url(#p93be9364df)\" style=\"fill: none; stroke: #000000; stroke-linecap: square\"/>\n   </g>\n   <g id=\"line2d_13\">\n    <defs>\n     <path id=\"m1c192d9f80\" d=\"M 0 3 \nC 0.795609 3 1.55874 2.683901 2.12132 2.12132 \nC 2.683901 1.55874 3 0.795609 3 0 \nC 3 -0.795609 2.683901 -1.55874 2.12132 -2.12132 \nC 1.55874 -2.683901 0.795609 -3 0 -3 \nC -0.795609 -3 -1.55874 -2.683901 -2.12132 -2.12132 \nC -2.683901 -1.55874 -3 -0.795609 -3 0 \nC -3 0.795609 -2.683901 1.55874 -2.12132 2.12132 \nC -1.55874 2.683901 -0.795609 3 0 3 \nz\n\" style=\"stroke: #000000\"/>\n    </defs>\n    <g clip-path=\"url(#p93be9364df)\">\n     <use xlink:href=\"#m1c192d9f80\" x=\"220.728125\" y=\"226.757651\" style=\"fill-opacity: 0; stroke: #000000\"/>\n     <use xlink:href=\"#m1c192d9f80\" x=\"220.728125\" y=\"226.389792\" style=\"fill-opacity: 0; stroke: #000000\"/>\n     <use xlink:href=\"#m1c192d9f80\" x=\"220.728125\" y=\"225.632328\" style=\"fill-opacity: 0; stroke: #000000\"/>\n     <use xlink:href=\"#m1c192d9f80\" x=\"220.728125\" y=\"225.483735\" style=\"fill-opacity: 0; stroke: #000000\"/>\n     <use xlink:href=\"#m1c192d9f80\" x=\"220.728125\" y=\"225.16299\" style=\"fill-opacity: 0; stroke: #000000\"/>\n     <use xlink:href=\"#m1c192d9f80\" x=\"220.728125\" y=\"225.139433\" style=\"fill-opacity: 0; stroke: #000000\"/>\n     <use xlink:href=\"#m1c192d9f80\" x=\"220.728125\" y=\"224.918355\" style=\"fill-opacity: 0; stroke: #000000\"/>\n     <use xlink:href=\"#m1c192d9f80\" x=\"220.728125\" y=\"224.680968\" style=\"fill-opacity: 0; stroke: #000000\"/>\n     <use xlink:href=\"#m1c192d9f80\" x=\"220.728125\" y=\"224.680968\" style=\"fill-opacity: 0; stroke: #000000\"/>\n     <use xlink:href=\"#m1c192d9f80\" x=\"220.728125\" y=\"224.532374\" style=\"fill-opacity: 0; stroke: #000000\"/>\n     <use xlink:href=\"#m1c192d9f80\" x=\"220.728125\" y=\"224.380157\" style=\"fill-opacity: 0; stroke: #000000\"/>\n     <use xlink:href=\"#m1c192d9f80\" x=\"220.728125\" y=\"224.126461\" style=\"fill-opacity: 0; stroke: #000000\"/>\n     <use xlink:href=\"#m1c192d9f80\" x=\"220.728125\" y=\"224.101091\" style=\"fill-opacity: 0; stroke: #000000\"/>\n     <use xlink:href=\"#m1c192d9f80\" x=\"220.728125\" y=\"224.063037\" style=\"fill-opacity: 0; stroke: #000000\"/>\n     <use xlink:href=\"#m1c192d9f80\" x=\"220.728125\" y=\"223.372621\" style=\"fill-opacity: 0; stroke: #000000\"/>\n     <use xlink:href=\"#m1c192d9f80\" x=\"220.728125\" y=\"223.196846\" style=\"fill-opacity: 0; stroke: #000000\"/>\n     <use xlink:href=\"#m1c192d9f80\" x=\"220.728125\" y=\"223.16604\" style=\"fill-opacity: 0; stroke: #000000\"/>\n     <use xlink:href=\"#m1c192d9f80\" x=\"220.728125\" y=\"223.041004\" style=\"fill-opacity: 0; stroke: #000000\"/>\n     <use xlink:href=\"#m1c192d9f80\" x=\"220.728125\" y=\"221.076671\" style=\"fill-opacity: 0; stroke: #000000\"/>\n     <use xlink:href=\"#m1c192d9f80\" x=\"220.728125\" y=\"220.928078\" style=\"fill-opacity: 0; stroke: #000000\"/>\n     <use xlink:href=\"#m1c192d9f80\" x=\"220.728125\" y=\"219.30986\" style=\"fill-opacity: 0; stroke: #000000\"/>\n     <use xlink:href=\"#m1c192d9f80\" x=\"220.728125\" y=\"218.258833\" style=\"fill-opacity: 0; stroke: #000000\"/>\n     <use xlink:href=\"#m1c192d9f80\" x=\"220.728125\" y=\"216.95411\" style=\"fill-opacity: 0; stroke: #000000\"/>\n     <use xlink:href=\"#m1c192d9f80\" x=\"220.728125\" y=\"213.839085\" style=\"fill-opacity: 0; stroke: #000000\"/>\n     <use xlink:href=\"#m1c192d9f80\" x=\"220.728125\" y=\"212.62678\" style=\"fill-opacity: 0; stroke: #000000\"/>\n     <use xlink:href=\"#m1c192d9f80\" x=\"220.728125\" y=\"211.139034\" style=\"fill-opacity: 0; stroke: #000000\"/>\n     <use xlink:href=\"#m1c192d9f80\" x=\"220.728125\" y=\"210.727684\" style=\"fill-opacity: 0; stroke: #000000\"/>\n     <use xlink:href=\"#m1c192d9f80\" x=\"220.728125\" y=\"201.808455\" style=\"fill-opacity: 0; stroke: #000000\"/>\n     <use xlink:href=\"#m1c192d9f80\" x=\"220.728125\" y=\"194.270058\" style=\"fill-opacity: 0; stroke: #000000\"/>\n     <use xlink:href=\"#m1c192d9f80\" x=\"220.728125\" y=\"193.461855\" style=\"fill-opacity: 0; stroke: #000000\"/>\n     <use xlink:href=\"#m1c192d9f80\" x=\"220.728125\" y=\"191.298189\" style=\"fill-opacity: 0; stroke: #000000\"/>\n     <use xlink:href=\"#m1c192d9f80\" x=\"220.728125\" y=\"32.201761\" style=\"fill-opacity: 0; stroke: #000000\"/>\n     <use xlink:href=\"#m1c192d9f80\" x=\"220.728125\" y=\"226.639864\" style=\"fill-opacity: 0; stroke: #000000\"/>\n     <use xlink:href=\"#m1c192d9f80\" x=\"220.728125\" y=\"225.8824\" style=\"fill-opacity: 0; stroke: #000000\"/>\n     <use xlink:href=\"#m1c192d9f80\" x=\"220.728125\" y=\"225.38588\" style=\"fill-opacity: 0; stroke: #000000\"/>\n     <use xlink:href=\"#m1c192d9f80\" x=\"220.728125\" y=\"225.481922\" style=\"fill-opacity: 0; stroke: #000000\"/>\n     <use xlink:href=\"#m1c192d9f80\" x=\"220.728125\" y=\"214.208756\" style=\"fill-opacity: 0; stroke: #000000\"/>\n     <use xlink:href=\"#m1c192d9f80\" x=\"220.728125\" y=\"223.648062\" style=\"fill-opacity: 0; stroke: #000000\"/>\n     <use xlink:href=\"#m1c192d9f80\" x=\"220.728125\" y=\"219.719397\" style=\"fill-opacity: 0; stroke: #000000\"/>\n     <use xlink:href=\"#m1c192d9f80\" x=\"220.728125\" y=\"224.766137\" style=\"fill-opacity: 0; stroke: #000000\"/>\n     <use xlink:href=\"#m1c192d9f80\" x=\"220.728125\" y=\"226.244823\" style=\"fill-opacity: 0; stroke: #000000\"/>\n     <use xlink:href=\"#m1c192d9f80\" x=\"220.728125\" y=\"226.558319\" style=\"fill-opacity: 0; stroke: #000000\"/>\n     <use xlink:href=\"#m1c192d9f80\" x=\"220.728125\" y=\"222.743817\" style=\"fill-opacity: 0; stroke: #000000\"/>\n     <use xlink:href=\"#m1c192d9f80\" x=\"220.728125\" y=\"198.229528\" style=\"fill-opacity: 0; stroke: #000000\"/>\n     <use xlink:href=\"#m1c192d9f80\" x=\"220.728125\" y=\"222.105953\" style=\"fill-opacity: 0; stroke: #000000\"/>\n     <use xlink:href=\"#m1c192d9f80\" x=\"220.728125\" y=\"225.418498\" style=\"fill-opacity: 0; stroke: #000000\"/>\n     <use xlink:href=\"#m1c192d9f80\" x=\"220.728125\" y=\"224.666471\" style=\"fill-opacity: 0; stroke: #000000\"/>\n     <use xlink:href=\"#m1c192d9f80\" x=\"220.728125\" y=\"224.405526\" style=\"fill-opacity: 0; stroke: #000000\"/>\n     <use xlink:href=\"#m1c192d9f80\" x=\"220.728125\" y=\"217.051965\" style=\"fill-opacity: 0; stroke: #000000\"/>\n     <use xlink:href=\"#m1c192d9f80\" x=\"220.728125\" y=\"220.491358\" style=\"fill-opacity: 0; stroke: #000000\"/>\n     <use xlink:href=\"#m1c192d9f80\" x=\"220.728125\" y=\"94.639988\" style=\"fill-opacity: 0; stroke: #000000\"/>\n     <use xlink:href=\"#m1c192d9f80\" x=\"220.728125\" y=\"196.212645\" style=\"fill-opacity: 0; stroke: #000000\"/>\n     <use xlink:href=\"#m1c192d9f80\" x=\"220.728125\" y=\"214.879239\" style=\"fill-opacity: 0; stroke: #000000\"/>\n     <use xlink:href=\"#m1c192d9f80\" x=\"220.728125\" y=\"218.797031\" style=\"fill-opacity: 0; stroke: #000000\"/>\n     <use xlink:href=\"#m1c192d9f80\" x=\"220.728125\" y=\"222.901471\" style=\"fill-opacity: 0; stroke: #000000\"/>\n     <use xlink:href=\"#m1c192d9f80\" x=\"220.728125\" y=\"217.131698\" style=\"fill-opacity: 0; stroke: #000000\"/>\n     <use xlink:href=\"#m1c192d9f80\" x=\"220.728125\" y=\"179.401656\" style=\"fill-opacity: 0; stroke: #000000\"/>\n     <use xlink:href=\"#m1c192d9f80\" x=\"220.728125\" y=\"225.085069\" style=\"fill-opacity: 0; stroke: #000000\"/>\n     <use xlink:href=\"#m1c192d9f80\" x=\"220.728125\" y=\"221.411913\" style=\"fill-opacity: 0; stroke: #000000\"/>\n     <use xlink:href=\"#m1c192d9f80\" x=\"220.728125\" y=\"222.024407\" style=\"fill-opacity: 0; stroke: #000000\"/>\n     <use xlink:href=\"#m1c192d9f80\" x=\"220.728125\" y=\"222.528175\" style=\"fill-opacity: 0; stroke: #000000\"/>\n     <use xlink:href=\"#m1c192d9f80\" x=\"220.728125\" y=\"220.888212\" style=\"fill-opacity: 0; stroke: #000000\"/>\n     <use xlink:href=\"#m1c192d9f80\" x=\"220.728125\" y=\"220.036518\" style=\"fill-opacity: 0; stroke: #000000\"/>\n    </g>\n   </g>\n   <g id=\"line2d_14\">\n    <path d=\"M 195.618125 229.780259 \nL 245.838125 229.780259 \n\" clip-path=\"url(#p93be9364df)\" style=\"fill: none; stroke: #ff7f0e; stroke-linecap: square\"/>\n   </g>\n   <g id=\"patch_3\">\n    <path d=\"M 53.328125 239.758125 \nL 53.328125 22.318125 \n\" style=\"fill: none; stroke: #000000; stroke-width: 0.8; stroke-linejoin: miter; stroke-linecap: square\"/>\n   </g>\n   <g id=\"patch_4\">\n    <path d=\"M 388.128125 239.758125 \nL 388.128125 22.318125 \n\" style=\"fill: none; stroke: #000000; stroke-width: 0.8; stroke-linejoin: miter; stroke-linecap: square\"/>\n   </g>\n   <g id=\"patch_5\">\n    <path d=\"M 53.328125 239.758125 \nL 388.128125 239.758125 \n\" style=\"fill: none; stroke: #000000; stroke-width: 0.8; stroke-linejoin: miter; stroke-linecap: square\"/>\n   </g>\n   <g id=\"patch_6\">\n    <path d=\"M 53.328125 22.318125 \nL 388.128125 22.318125 \n\" style=\"fill: none; stroke: #000000; stroke-width: 0.8; stroke-linejoin: miter; stroke-linecap: square\"/>\n   </g>\n   <g id=\"text_9\">\n    <!-- Boxplot of area attribute -->\n    <g transform=\"translate(147.025625 16.318125)scale(0.12 -0.12)\">\n     <defs>\n      <path id=\"DejaVuSans-42\" d=\"M 1259 2228 \nL 1259 519 \nL 2272 519 \nQ 2781 519 3026 730 \nQ 3272 941 3272 1375 \nQ 3272 1813 3026 2020 \nQ 2781 2228 2272 2228 \nL 1259 2228 \nz\nM 1259 4147 \nL 1259 2741 \nL 2194 2741 \nQ 2656 2741 2882 2914 \nQ 3109 3088 3109 3444 \nQ 3109 3797 2882 3972 \nQ 2656 4147 2194 4147 \nL 1259 4147 \nz\nM 628 4666 \nL 2241 4666 \nQ 2963 4666 3353 4366 \nQ 3744 4066 3744 3513 \nQ 3744 3084 3544 2831 \nQ 3344 2578 2956 2516 \nQ 3422 2416 3680 2098 \nQ 3938 1781 3938 1306 \nQ 3938 681 3513 340 \nQ 3088 0 2303 0 \nL 628 0 \nL 628 4666 \nz\n\" transform=\"scale(0.015625)\"/>\n      <path id=\"DejaVuSans-6f\" d=\"M 1959 3097 \nQ 1497 3097 1228 2736 \nQ 959 2375 959 1747 \nQ 959 1119 1226 758 \nQ 1494 397 1959 397 \nQ 2419 397 2687 759 \nQ 2956 1122 2956 1747 \nQ 2956 2369 2687 2733 \nQ 2419 3097 1959 3097 \nz\nM 1959 3584 \nQ 2709 3584 3137 3096 \nQ 3566 2609 3566 1747 \nQ 3566 888 3137 398 \nQ 2709 -91 1959 -91 \nQ 1206 -91 779 398 \nQ 353 888 353 1747 \nQ 353 2609 779 3096 \nQ 1206 3584 1959 3584 \nz\n\" transform=\"scale(0.015625)\"/>\n      <path id=\"DejaVuSans-78\" d=\"M 3513 3500 \nL 2247 1797 \nL 3578 0 \nL 2900 0 \nL 1881 1375 \nL 863 0 \nL 184 0 \nL 1544 1831 \nL 300 3500 \nL 978 3500 \nL 1906 2253 \nL 2834 3500 \nL 3513 3500 \nz\n\" transform=\"scale(0.015625)\"/>\n      <path id=\"DejaVuSans-70\" d=\"M 1159 525 \nL 1159 -1331 \nL 581 -1331 \nL 581 3500 \nL 1159 3500 \nL 1159 2969 \nQ 1341 3281 1617 3432 \nQ 1894 3584 2278 3584 \nQ 2916 3584 3314 3078 \nQ 3713 2572 3713 1747 \nQ 3713 922 3314 415 \nQ 2916 -91 2278 -91 \nQ 1894 -91 1617 61 \nQ 1341 213 1159 525 \nz\nM 3116 1747 \nQ 3116 2381 2855 2742 \nQ 2594 3103 2138 3103 \nQ 1681 3103 1420 2742 \nQ 1159 2381 1159 1747 \nQ 1159 1113 1420 752 \nQ 1681 391 2138 391 \nQ 2594 391 2855 752 \nQ 3116 1113 3116 1747 \nz\n\" transform=\"scale(0.015625)\"/>\n      <path id=\"DejaVuSans-6c\" d=\"M 603 4863 \nL 1178 4863 \nL 1178 0 \nL 603 0 \nL 603 4863 \nz\n\" transform=\"scale(0.015625)\"/>\n      <path id=\"DejaVuSans-74\" d=\"M 1172 4494 \nL 1172 3500 \nL 2356 3500 \nL 2356 3053 \nL 1172 3053 \nL 1172 1153 \nQ 1172 725 1289 603 \nQ 1406 481 1766 481 \nL 2356 481 \nL 2356 0 \nL 1766 0 \nQ 1100 0 847 248 \nQ 594 497 594 1153 \nL 594 3053 \nL 172 3053 \nL 172 3500 \nL 594 3500 \nL 594 4494 \nL 1172 4494 \nz\n\" transform=\"scale(0.015625)\"/>\n      <path id=\"DejaVuSans-20\" transform=\"scale(0.015625)\"/>\n      <path id=\"DejaVuSans-66\" d=\"M 2375 4863 \nL 2375 4384 \nL 1825 4384 \nQ 1516 4384 1395 4259 \nQ 1275 4134 1275 3809 \nL 1275 3500 \nL 2222 3500 \nL 2222 3053 \nL 1275 3053 \nL 1275 0 \nL 697 0 \nL 697 3053 \nL 147 3053 \nL 147 3500 \nL 697 3500 \nL 697 3744 \nQ 697 4328 969 4595 \nQ 1241 4863 1831 4863 \nL 2375 4863 \nz\n\" transform=\"scale(0.015625)\"/>\n      <path id=\"DejaVuSans-69\" d=\"M 603 3500 \nL 1178 3500 \nL 1178 0 \nL 603 0 \nL 603 3500 \nz\nM 603 4863 \nL 1178 4863 \nL 1178 4134 \nL 603 4134 \nL 603 4863 \nz\n\" transform=\"scale(0.015625)\"/>\n      <path id=\"DejaVuSans-62\" d=\"M 3116 1747 \nQ 3116 2381 2855 2742 \nQ 2594 3103 2138 3103 \nQ 1681 3103 1420 2742 \nQ 1159 2381 1159 1747 \nQ 1159 1113 1420 752 \nQ 1681 391 2138 391 \nQ 2594 391 2855 752 \nQ 3116 1113 3116 1747 \nz\nM 1159 2969 \nQ 1341 3281 1617 3432 \nQ 1894 3584 2278 3584 \nQ 2916 3584 3314 3078 \nQ 3713 2572 3713 1747 \nQ 3713 922 3314 415 \nQ 2916 -91 2278 -91 \nQ 1894 -91 1617 61 \nQ 1341 213 1159 525 \nL 1159 0 \nL 581 0 \nL 581 4863 \nL 1159 4863 \nL 1159 2969 \nz\n\" transform=\"scale(0.015625)\"/>\n      <path id=\"DejaVuSans-75\" d=\"M 544 1381 \nL 544 3500 \nL 1119 3500 \nL 1119 1403 \nQ 1119 906 1312 657 \nQ 1506 409 1894 409 \nQ 2359 409 2629 706 \nQ 2900 1003 2900 1516 \nL 2900 3500 \nL 3475 3500 \nL 3475 0 \nL 2900 0 \nL 2900 538 \nQ 2691 219 2414 64 \nQ 2138 -91 1772 -91 \nQ 1169 -91 856 284 \nQ 544 659 544 1381 \nz\nM 1991 3584 \nL 1991 3584 \nz\n\" transform=\"scale(0.015625)\"/>\n     </defs>\n     <use xlink:href=\"#DejaVuSans-42\"/>\n     <use xlink:href=\"#DejaVuSans-6f\" x=\"68.603516\"/>\n     <use xlink:href=\"#DejaVuSans-78\" x=\"126.660156\"/>\n     <use xlink:href=\"#DejaVuSans-70\" x=\"185.839844\"/>\n     <use xlink:href=\"#DejaVuSans-6c\" x=\"249.316406\"/>\n     <use xlink:href=\"#DejaVuSans-6f\" x=\"277.099609\"/>\n     <use xlink:href=\"#DejaVuSans-74\" x=\"338.28125\"/>\n     <use xlink:href=\"#DejaVuSans-20\" x=\"377.490234\"/>\n     <use xlink:href=\"#DejaVuSans-6f\" x=\"409.277344\"/>\n     <use xlink:href=\"#DejaVuSans-66\" x=\"470.458984\"/>\n     <use xlink:href=\"#DejaVuSans-20\" x=\"505.664062\"/>\n     <use xlink:href=\"#DejaVuSans-61\" x=\"537.451172\"/>\n     <use xlink:href=\"#DejaVuSans-72\" x=\"598.730469\"/>\n     <use xlink:href=\"#DejaVuSans-65\" x=\"637.59375\"/>\n     <use xlink:href=\"#DejaVuSans-61\" x=\"699.117188\"/>\n     <use xlink:href=\"#DejaVuSans-20\" x=\"760.396484\"/>\n     <use xlink:href=\"#DejaVuSans-61\" x=\"792.183594\"/>\n     <use xlink:href=\"#DejaVuSans-74\" x=\"853.462891\"/>\n     <use xlink:href=\"#DejaVuSans-74\" x=\"892.671875\"/>\n     <use xlink:href=\"#DejaVuSans-72\" x=\"931.880859\"/>\n     <use xlink:href=\"#DejaVuSans-69\" x=\"972.994141\"/>\n     <use xlink:href=\"#DejaVuSans-62\" x=\"1000.777344\"/>\n     <use xlink:href=\"#DejaVuSans-75\" x=\"1064.253906\"/>\n     <use xlink:href=\"#DejaVuSans-74\" x=\"1127.632812\"/>\n     <use xlink:href=\"#DejaVuSans-65\" x=\"1166.841797\"/>\n    </g>\n   </g>\n  </g>\n </g>\n <defs>\n  <clipPath id=\"p93be9364df\">\n   <rect x=\"53.328125\" y=\"22.318125\" width=\"334.8\" height=\"217.44\"/>\n  </clipPath>\n </defs>\n</svg>\n",
      "text/plain": [
       "<Figure size 432x288 with 1 Axes>"
      ]
     },
     "metadata": {
      "needs_background": "light"
     },
     "output_type": "display_data"
    }
   ],
   "source": [
    "# create boxplot for `area` attribute\n",
    "plt.boxplot(df['area'])\n",
    "plt.title(\"Boxplot of area attribute\")\n",
    "plt.ylabel(\"Area\")\n",
    "plt.show()"
   ]
  },
  {
   "cell_type": "code",
   "execution_count": 63,
   "metadata": {},
   "outputs": [
    {
     "name": "stdout",
     "output_type": "stream",
     "text": [
      "Correlation coefficient: 0.012317276888673111\n"
     ]
    }
   ],
   "source": [
    "# find correlation coefficient `wind` and `area` attributes\n",
    "print(\"Correlation coefficient:\", df['area'].corr(df['wind']))"
   ]
  },
  {
   "cell_type": "code",
   "execution_count": 65,
   "metadata": {},
   "outputs": [
    {
     "name": "stdout",
     "output_type": "stream",
     "text": [
      "Mean: 24.60018518518518\n"
     ]
    }
   ],
   "source": [
    "# calculate mean of `area` attribute without zeros\n",
    "mean_area = df[df['area'] != 0]['area'].mean()\n",
    "print(\"Mean:\", mean_area)"
   ]
  },
  {
   "cell_type": "code",
   "execution_count": 49,
   "metadata": {},
   "outputs": [],
   "source": [
    "# replace values equal to 0 with the attribute mean\n",
    "df.loc[df['area'] == 0, 'area'] = mean_area"
   ]
  },
  {
   "cell_type": "code",
   "execution_count": 50,
   "metadata": {},
   "outputs": [
    {
     "data": {
      "image/png": "[encoded data removed]",
      "image/svg+xml": "<?xml version=\"1.0\" encoding=\"utf-8\" standalone=\"no\"?>\n<!DOCTYPE svg PUBLIC \"-//W3C//DTD SVG 1.1//EN\"\n  \"http://www.w3.org/Graphics/SVG/1.1/DTD/svg11.dtd\">\n<svg xmlns:xlink=\"http://www.w3.org/1999/xlink\" width=\"395.328125pt\" height=\"263.63625pt\" viewBox=\"0 0 395.328125 263.63625\" xmlns=\"http://www.w3.org/2000/svg\" version=\"1.1\">\n <metadata>\n  <rdf:RDF xmlns:dc=\"http://purl.org/dc/elements/1.1/\" xmlns:cc=\"http://creativecommons.org/ns#\" xmlns:rdf=\"http://www.w3.org/1999/02/22-rdf-syntax-ns#\">\n   <cc:Work>\n    <dc:type rdf:resource=\"http://purl.org/dc/dcmitype/StillImage\"/>\n    <dc:date>2022-10-06T15:03:39.498805</dc:date>\n    <dc:format>image/svg+xml</dc:format>\n    <dc:creator>\n     <cc:Agent>\n      <dc:title>Matplotlib v3.5.0, https://matplotlib.org/</dc:title>\n     </cc:Agent>\n    </dc:creator>\n   </cc:Work>\n  </rdf:RDF>\n </metadata>\n <defs>\n  <style type=\"text/css\">*{stroke-linejoin: round; stroke-linecap: butt}</style>\n </defs>\n <g id=\"figure_1\">\n  <g id=\"patch_1\">\n   <path d=\"M 0 263.63625 \nL 395.328125 263.63625 \nL 395.328125 0 \nL 0 0 \nL 0 263.63625 \nz\n\" style=\"fill: none\"/>\n  </g>\n  <g id=\"axes_1\">\n   <g id=\"patch_2\">\n    <path d=\"M 53.328125 239.758125 \nL 388.128125 239.758125 \nL 388.128125 22.318125 \nL 53.328125 22.318125 \nz\n\" style=\"fill: #ffffff\"/>\n   </g>\n   <g id=\"matplotlib.axis_1\">\n    <g id=\"xtick_1\">\n     <g id=\"line2d_1\">\n      <defs>\n       <path id=\"me7d12d22e8\" d=\"M 0 0 \nL 0 3.5 \n\" style=\"stroke: #000000; stroke-width: 0.8\"/>\n      </defs>\n      <g>\n       <use xlink:href=\"#me7d12d22e8\" x=\"220.728125\" y=\"239.758125\" style=\"stroke: #000000; stroke-width: 0.8\"/>\n      </g>\n     </g>\n     <g id=\"text_1\">\n      <!-- 1 -->\n      <g transform=\"translate(217.546875 254.356563)scale(0.1 -0.1)\">\n       <defs>\n        <path id=\"DejaVuSans-31\" d=\"M 794 531 \nL 1825 531 \nL 1825 4091 \nL 703 3866 \nL 703 4441 \nL 1819 4666 \nL 2450 4666 \nL 2450 531 \nL 3481 531 \nL 3481 0 \nL 794 0 \nL 794 531 \nz\n\" transform=\"scale(0.015625)\"/>\n       </defs>\n       <use xlink:href=\"#DejaVuSans-31\"/>\n      </g>\n     </g>\n    </g>\n   </g>\n   <g id=\"matplotlib.axis_2\">\n    <g id=\"ytick_1\">\n     <g id=\"line2d_2\">\n      <defs>\n       <path id=\"mc51bf4bbe7\" d=\"M 0 0 \nL -3.5 0 \n\" style=\"stroke: #000000; stroke-width: 0.8\"/>\n      </defs>\n      <g>\n       <use xlink:href=\"#mc51bf4bbe7\" x=\"53.328125\" y=\"229.890799\" style=\"stroke: #000000; stroke-width: 0.8\"/>\n      </g>\n     </g>\n     <g id=\"text_2\">\n      <!-- 0 -->\n      <g transform=\"translate(39.965625 233.690018)scale(0.1 -0.1)\">\n       <defs>\n        <path id=\"DejaVuSans-30\" d=\"M 2034 4250 \nQ 1547 4250 1301 3770 \nQ 1056 3291 1056 2328 \nQ 1056 1369 1301 889 \nQ 1547 409 2034 409 \nQ 2525 409 2770 889 \nQ 3016 1369 3016 2328 \nQ 3016 3291 2770 3770 \nQ 2525 4250 2034 4250 \nz\nM 2034 4750 \nQ 2819 4750 3233 4129 \nQ 3647 3509 3647 2328 \nQ 3647 1150 3233 529 \nQ 2819 -91 2034 -91 \nQ 1250 -91 836 529 \nQ 422 1150 422 2328 \nQ 422 3509 836 4129 \nQ 1250 4750 2034 4750 \nz\n\" transform=\"scale(0.015625)\"/>\n       </defs>\n       <use xlink:href=\"#DejaVuSans-30\"/>\n      </g>\n     </g>\n    </g>\n    <g id=\"ytick_2\">\n     <g id=\"line2d_3\">\n      <g>\n       <use xlink:href=\"#mc51bf4bbe7\" x=\"53.328125\" y=\"193.645513\" style=\"stroke: #000000; stroke-width: 0.8\"/>\n      </g>\n     </g>\n     <g id=\"text_3\">\n      <!-- 200 -->\n      <g transform=\"translate(27.240625 197.444732)scale(0.1 -0.1)\">\n       <defs>\n        <path id=\"DejaVuSans-32\" d=\"M 1228 531 \nL 3431 531 \nL 3431 0 \nL 469 0 \nL 469 531 \nQ 828 903 1448 1529 \nQ 2069 2156 2228 2338 \nQ 2531 2678 2651 2914 \nQ 2772 3150 2772 3378 \nQ 2772 3750 2511 3984 \nQ 2250 4219 1831 4219 \nQ 1534 4219 1204 4116 \nQ 875 4013 500 3803 \nL 500 4441 \nQ 881 4594 1212 4672 \nQ 1544 4750 1819 4750 \nQ 2544 4750 2975 4387 \nQ 3406 4025 3406 3419 \nQ 3406 3131 3298 2873 \nQ 3191 2616 2906 2266 \nQ 2828 2175 2409 1742 \nQ 1991 1309 1228 531 \nz\n\" transform=\"scale(0.015625)\"/>\n       </defs>\n       <use xlink:href=\"#DejaVuSans-32\"/>\n       <use xlink:href=\"#DejaVuSans-30\" x=\"63.623047\"/>\n       <use xlink:href=\"#DejaVuSans-30\" x=\"127.246094\"/>\n      </g>\n     </g>\n    </g>\n    <g id=\"ytick_3\">\n     <g id=\"line2d_4\">\n      <g>\n       <use xlink:href=\"#mc51bf4bbe7\" x=\"53.328125\" y=\"157.400227\" style=\"stroke: #000000; stroke-width: 0.8\"/>\n      </g>\n     </g>\n     <g id=\"text_4\">\n      <!-- 400 -->\n      <g transform=\"translate(27.240625 161.199446)scale(0.1 -0.1)\">\n       <defs>\n        <path id=\"DejaVuSans-34\" d=\"M 2419 4116 \nL 825 1625 \nL 2419 1625 \nL 2419 4116 \nz\nM 2253 4666 \nL 3047 4666 \nL 3047 1625 \nL 3713 1625 \nL 3713 1100 \nL 3047 1100 \nL 3047 0 \nL 2419 0 \nL 2419 1100 \nL 313 1100 \nL 313 1709 \nL 2253 4666 \nz\n\" transform=\"scale(0.015625)\"/>\n       </defs>\n       <use xlink:href=\"#DejaVuSans-34\"/>\n       <use xlink:href=\"#DejaVuSans-30\" x=\"63.623047\"/>\n       <use xlink:href=\"#DejaVuSans-30\" x=\"127.246094\"/>\n      </g>\n     </g>\n    </g>\n    <g id=\"ytick_4\">\n     <g id=\"line2d_5\">\n      <g>\n       <use xlink:href=\"#mc51bf4bbe7\" x=\"53.328125\" y=\"121.154942\" style=\"stroke: #000000; stroke-width: 0.8\"/>\n      </g>\n     </g>\n     <g id=\"text_5\">\n      <!-- 600 -->\n      <g transform=\"translate(27.240625 124.95416)scale(0.1 -0.1)\">\n       <defs>\n        <path id=\"DejaVuSans-36\" d=\"M 2113 2584 \nQ 1688 2584 1439 2293 \nQ 1191 2003 1191 1497 \nQ 1191 994 1439 701 \nQ 1688 409 2113 409 \nQ 2538 409 2786 701 \nQ 3034 994 3034 1497 \nQ 3034 2003 2786 2293 \nQ 2538 2584 2113 2584 \nz\nM 3366 4563 \nL 3366 3988 \nQ 3128 4100 2886 4159 \nQ 2644 4219 2406 4219 \nQ 1781 4219 1451 3797 \nQ 1122 3375 1075 2522 \nQ 1259 2794 1537 2939 \nQ 1816 3084 2150 3084 \nQ 2853 3084 3261 2657 \nQ 3669 2231 3669 1497 \nQ 3669 778 3244 343 \nQ 2819 -91 2113 -91 \nQ 1303 -91 875 529 \nQ 447 1150 447 2328 \nQ 447 3434 972 4092 \nQ 1497 4750 2381 4750 \nQ 2619 4750 2861 4703 \nQ 3103 4656 3366 4563 \nz\n\" transform=\"scale(0.015625)\"/>\n       </defs>\n       <use xlink:href=\"#DejaVuSans-36\"/>\n       <use xlink:href=\"#DejaVuSans-30\" x=\"63.623047\"/>\n       <use xlink:href=\"#DejaVuSans-30\" x=\"127.246094\"/>\n      </g>\n     </g>\n    </g>\n    <g id=\"ytick_5\">\n     <g id=\"line2d_6\">\n      <g>\n       <use xlink:href=\"#mc51bf4bbe7\" x=\"53.328125\" y=\"84.909656\" style=\"stroke: #000000; stroke-width: 0.8\"/>\n      </g>\n     </g>\n     <g id=\"text_6\">\n      <!-- 800 -->\n      <g transform=\"translate(27.240625 88.708875)scale(0.1 -0.1)\">\n       <defs>\n        <path id=\"DejaVuSans-38\" d=\"M 2034 2216 \nQ 1584 2216 1326 1975 \nQ 1069 1734 1069 1313 \nQ 1069 891 1326 650 \nQ 1584 409 2034 409 \nQ 2484 409 2743 651 \nQ 3003 894 3003 1313 \nQ 3003 1734 2745 1975 \nQ 2488 2216 2034 2216 \nz\nM 1403 2484 \nQ 997 2584 770 2862 \nQ 544 3141 544 3541 \nQ 544 4100 942 4425 \nQ 1341 4750 2034 4750 \nQ 2731 4750 3128 4425 \nQ 3525 4100 3525 3541 \nQ 3525 3141 3298 2862 \nQ 3072 2584 2669 2484 \nQ 3125 2378 3379 2068 \nQ 3634 1759 3634 1313 \nQ 3634 634 3220 271 \nQ 2806 -91 2034 -91 \nQ 1263 -91 848 271 \nQ 434 634 434 1313 \nQ 434 1759 690 2068 \nQ 947 2378 1403 2484 \nz\nM 1172 3481 \nQ 1172 3119 1398 2916 \nQ 1625 2713 2034 2713 \nQ 2441 2713 2670 2916 \nQ 2900 3119 2900 3481 \nQ 2900 3844 2670 4047 \nQ 2441 4250 2034 4250 \nQ 1625 4250 1398 4047 \nQ 1172 3844 1172 3481 \nz\n\" transform=\"scale(0.015625)\"/>\n       </defs>\n       <use xlink:href=\"#DejaVuSans-38\"/>\n       <use xlink:href=\"#DejaVuSans-30\" x=\"63.623047\"/>\n       <use xlink:href=\"#DejaVuSans-30\" x=\"127.246094\"/>\n      </g>\n     </g>\n    </g>\n    <g id=\"ytick_6\">\n     <g id=\"line2d_7\">\n      <g>\n       <use xlink:href=\"#mc51bf4bbe7\" x=\"53.328125\" y=\"48.66437\" style=\"stroke: #000000; stroke-width: 0.8\"/>\n      </g>\n     </g>\n     <g id=\"text_7\">\n      <!-- 1000 -->\n      <g transform=\"translate(20.878125 52.463589)scale(0.1 -0.1)\">\n       <use xlink:href=\"#DejaVuSans-31\"/>\n       <use xlink:href=\"#DejaVuSans-30\" x=\"63.623047\"/>\n       <use xlink:href=\"#DejaVuSans-30\" x=\"127.246094\"/>\n       <use xlink:href=\"#DejaVuSans-30\" x=\"190.869141\"/>\n      </g>\n     </g>\n    </g>\n    <g id=\"text_8\">\n     <!-- Area -->\n     <g transform=\"translate(14.798438 142.542031)rotate(-90)scale(0.1 -0.1)\">\n      <defs>\n       <path id=\"DejaVuSans-41\" d=\"M 2188 4044 \nL 1331 1722 \nL 3047 1722 \nL 2188 4044 \nz\nM 1831 4666 \nL 2547 4666 \nL 4325 0 \nL 3669 0 \nL 3244 1197 \nL 1141 1197 \nL 716 0 \nL 50 0 \nL 1831 4666 \nz\n\" transform=\"scale(0.015625)\"/>\n       <path id=\"DejaVuSans-72\" d=\"M 2631 2963 \nQ 2534 3019 2420 3045 \nQ 2306 3072 2169 3072 \nQ 1681 3072 1420 2755 \nQ 1159 2438 1159 1844 \nL 1159 0 \nL 581 0 \nL 581 3500 \nL 1159 3500 \nL 1159 2956 \nQ 1341 3275 1631 3429 \nQ 1922 3584 2338 3584 \nQ 2397 3584 2469 3576 \nQ 2541 3569 2628 3553 \nL 2631 2963 \nz\n\" transform=\"scale(0.015625)\"/>\n       <path id=\"DejaVuSans-65\" d=\"M 3597 1894 \nL 3597 1613 \nL 953 1613 \nQ 991 1019 1311 708 \nQ 1631 397 2203 397 \nQ 2534 397 2845 478 \nQ 3156 559 3463 722 \nL 3463 178 \nQ 3153 47 2828 -22 \nQ 2503 -91 2169 -91 \nQ 1331 -91 842 396 \nQ 353 884 353 1716 \nQ 353 2575 817 3079 \nQ 1281 3584 2069 3584 \nQ 2775 3584 3186 3129 \nQ 3597 2675 3597 1894 \nz\nM 3022 2063 \nQ 3016 2534 2758 2815 \nQ 2500 3097 2075 3097 \nQ 1594 3097 1305 2825 \nQ 1016 2553 972 2059 \nL 3022 2063 \nz\n\" transform=\"scale(0.015625)\"/>\n       <path id=\"DejaVuSans-61\" d=\"M 2194 1759 \nQ 1497 1759 1228 1600 \nQ 959 1441 959 1056 \nQ 959 750 1161 570 \nQ 1363 391 1709 391 \nQ 2188 391 2477 730 \nQ 2766 1069 2766 1631 \nL 2766 1759 \nL 2194 1759 \nz\nM 3341 1997 \nL 3341 0 \nL 2766 0 \nL 2766 531 \nQ 2569 213 2275 61 \nQ 1981 -91 1556 -91 \nQ 1019 -91 701 211 \nQ 384 513 384 1019 \nQ 384 1609 779 1909 \nQ 1175 2209 1959 2209 \nL 2766 2209 \nL 2766 2266 \nQ 2766 2663 2505 2880 \nQ 2244 3097 1772 3097 \nQ 1472 3097 1187 3025 \nQ 903 2953 641 2809 \nL 641 3341 \nQ 956 3463 1253 3523 \nQ 1550 3584 1831 3584 \nQ 2591 3584 2966 3190 \nQ 3341 2797 3341 1997 \nz\n\" transform=\"scale(0.015625)\"/>\n      </defs>\n      <use xlink:href=\"#DejaVuSans-41\"/>\n      <use xlink:href=\"#DejaVuSans-72\" x=\"68.408203\"/>\n      <use xlink:href=\"#DejaVuSans-65\" x=\"107.271484\"/>\n      <use xlink:href=\"#DejaVuSans-61\" x=\"168.794922\"/>\n     </g>\n    </g>\n   </g>\n   <g id=\"line2d_8\">\n    <path d=\"M 195.618125 228.828812 \nL 245.838125 228.828812 \nL 245.838125 225.432595 \nL 195.618125 225.432595 \nL 195.618125 228.828812 \n\" clip-path=\"url(#pb6d6d57a36)\" style=\"fill: none; stroke: #000000; stroke-linecap: square\"/>\n   </g>\n   <g id=\"line2d_9\">\n    <path d=\"M 220.728125 228.828812 \nL 220.728125 229.874489 \n\" clip-path=\"url(#pb6d6d57a36)\" style=\"fill: none; stroke: #000000; stroke-linecap: square\"/>\n   </g>\n   <g id=\"line2d_10\">\n    <path d=\"M 220.728125 225.432595 \nL 220.728125 220.506895 \n\" clip-path=\"url(#pb6d6d57a36)\" style=\"fill: none; stroke: #000000; stroke-linecap: square\"/>\n   </g>\n   <g id=\"line2d_11\">\n    <path d=\"M 208.173125 229.874489 \nL 233.283125 229.874489 \n\" clip-path=\"url(#pb6d6d57a36)\" style=\"fill: none; stroke: #000000; stroke-linecap: square\"/>\n   </g>\n   <g id=\"line2d_12\">\n    <path d=\"M 208.173125 220.506895 \nL 233.283125 220.506895 \n\" clip-path=\"url(#pb6d6d57a36)\" style=\"fill: none; stroke: #000000; stroke-linecap: square\"/>\n   </g>\n   <g id=\"line2d_13\">\n    <defs>\n     <path id=\"m8a18eecb37\" d=\"M 0 3 \nC 0.795609 3 1.55874 2.683901 2.12132 2.12132 \nC 2.683901 1.55874 3 0.795609 3 0 \nC 3 -0.795609 2.683901 -1.55874 2.12132 -2.12132 \nC 1.55874 -2.683901 0.795609 -3 0 -3 \nC -0.795609 -3 -1.55874 -2.683901 -2.12132 -2.12132 \nC -2.683901 -1.55874 -3 -0.795609 -3 0 \nC -3 0.795609 -2.683901 1.55874 -2.12132 2.12132 \nC -1.55874 2.683901 -0.795609 3 0 3 \nz\n\" style=\"stroke: #000000\"/>\n    </defs>\n    <g clip-path=\"url(#pb6d6d57a36)\">\n     <use xlink:href=\"#m8a18eecb37\" x=\"220.728125\" y=\"219.325298\" style=\"fill-opacity: 0; stroke: #000000\"/>\n     <use xlink:href=\"#m8a18eecb37\" x=\"220.728125\" y=\"218.274185\" style=\"fill-opacity: 0; stroke: #000000\"/>\n     <use xlink:href=\"#m8a18eecb37\" x=\"220.728125\" y=\"216.969355\" style=\"fill-opacity: 0; stroke: #000000\"/>\n     <use xlink:href=\"#m8a18eecb37\" x=\"220.728125\" y=\"213.854072\" style=\"fill-opacity: 0; stroke: #000000\"/>\n     <use xlink:href=\"#m8a18eecb37\" x=\"220.728125\" y=\"212.641668\" style=\"fill-opacity: 0; stroke: #000000\"/>\n     <use xlink:href=\"#m8a18eecb37\" x=\"220.728125\" y=\"211.153799\" style=\"fill-opacity: 0; stroke: #000000\"/>\n     <use xlink:href=\"#m8a18eecb37\" x=\"220.728125\" y=\"210.742415\" style=\"fill-opacity: 0; stroke: #000000\"/>\n     <use xlink:href=\"#m8a18eecb37\" x=\"220.728125\" y=\"201.82245\" style=\"fill-opacity: 0; stroke: #000000\"/>\n     <use xlink:href=\"#m8a18eecb37\" x=\"220.728125\" y=\"194.28343\" style=\"fill-opacity: 0; stroke: #000000\"/>\n     <use xlink:href=\"#m8a18eecb37\" x=\"220.728125\" y=\"193.47516\" style=\"fill-opacity: 0; stroke: #000000\"/>\n     <use xlink:href=\"#m8a18eecb37\" x=\"220.728125\" y=\"191.311317\" style=\"fill-opacity: 0; stroke: #000000\"/>\n     <use xlink:href=\"#m8a18eecb37\" x=\"220.728125\" y=\"32.201761\" style=\"fill-opacity: 0; stroke: #000000\"/>\n     <use xlink:href=\"#m8a18eecb37\" x=\"220.728125\" y=\"214.223774\" style=\"fill-opacity: 0; stroke: #000000\"/>\n     <use xlink:href=\"#m8a18eecb37\" x=\"220.728125\" y=\"219.73487\" style=\"fill-opacity: 0; stroke: #000000\"/>\n     <use xlink:href=\"#m8a18eecb37\" x=\"220.728125\" y=\"198.243228\" style=\"fill-opacity: 0; stroke: #000000\"/>\n     <use xlink:href=\"#m8a18eecb37\" x=\"220.728125\" y=\"217.067217\" style=\"fill-opacity: 0; stroke: #000000\"/>\n     <use xlink:href=\"#m8a18eecb37\" x=\"220.728125\" y=\"94.64514\" style=\"fill-opacity: 0; stroke: #000000\"/>\n     <use xlink:href=\"#m8a18eecb37\" x=\"220.728125\" y=\"196.226178\" style=\"fill-opacity: 0; stroke: #000000\"/>\n     <use xlink:href=\"#m8a18eecb37\" x=\"220.728125\" y=\"214.894312\" style=\"fill-opacity: 0; stroke: #000000\"/>\n     <use xlink:href=\"#m8a18eecb37\" x=\"220.728125\" y=\"218.812427\" style=\"fill-opacity: 0; stroke: #000000\"/>\n     <use xlink:href=\"#m8a18eecb37\" x=\"220.728125\" y=\"217.146957\" style=\"fill-opacity: 0; stroke: #000000\"/>\n     <use xlink:href=\"#m8a18eecb37\" x=\"220.728125\" y=\"179.413802\" style=\"fill-opacity: 0; stroke: #000000\"/>\n     <use xlink:href=\"#m8a18eecb37\" x=\"220.728125\" y=\"220.052016\" style=\"fill-opacity: 0; stroke: #000000\"/>\n    </g>\n   </g>\n   <g id=\"line2d_14\">\n    <path d=\"M 195.618125 225.432595 \nL 245.838125 225.432595 \n\" clip-path=\"url(#pb6d6d57a36)\" style=\"fill: none; stroke: #ff7f0e; stroke-linecap: square\"/>\n   </g>\n   <g id=\"patch_3\">\n    <path d=\"M 53.328125 239.758125 \nL 53.328125 22.318125 \n\" style=\"fill: none; stroke: #000000; stroke-width: 0.8; stroke-linejoin: miter; stroke-linecap: square\"/>\n   </g>\n   <g id=\"patch_4\">\n    <path d=\"M 388.128125 239.758125 \nL 388.128125 22.318125 \n\" style=\"fill: none; stroke: #000000; stroke-width: 0.8; stroke-linejoin: miter; stroke-linecap: square\"/>\n   </g>\n   <g id=\"patch_5\">\n    <path d=\"M 53.328125 239.758125 \nL 388.128125 239.758125 \n\" style=\"fill: none; stroke: #000000; stroke-width: 0.8; stroke-linejoin: miter; stroke-linecap: square\"/>\n   </g>\n   <g id=\"patch_6\">\n    <path d=\"M 53.328125 22.318125 \nL 388.128125 22.318125 \n\" style=\"fill: none; stroke: #000000; stroke-width: 0.8; stroke-linejoin: miter; stroke-linecap: square\"/>\n   </g>\n   <g id=\"text_9\">\n    <!-- Boxplot of area attribute -->\n    <g transform=\"translate(147.025625 16.318125)scale(0.12 -0.12)\">\n     <defs>\n      <path id=\"DejaVuSans-42\" d=\"M 1259 2228 \nL 1259 519 \nL 2272 519 \nQ 2781 519 3026 730 \nQ 3272 941 3272 1375 \nQ 3272 1813 3026 2020 \nQ 2781 2228 2272 2228 \nL 1259 2228 \nz\nM 1259 4147 \nL 1259 2741 \nL 2194 2741 \nQ 2656 2741 2882 2914 \nQ 3109 3088 3109 3444 \nQ 3109 3797 2882 3972 \nQ 2656 4147 2194 4147 \nL 1259 4147 \nz\nM 628 4666 \nL 2241 4666 \nQ 2963 4666 3353 4366 \nQ 3744 4066 3744 3513 \nQ 3744 3084 3544 2831 \nQ 3344 2578 2956 2516 \nQ 3422 2416 3680 2098 \nQ 3938 1781 3938 1306 \nQ 3938 681 3513 340 \nQ 3088 0 2303 0 \nL 628 0 \nL 628 4666 \nz\n\" transform=\"scale(0.015625)\"/>\n      <path id=\"DejaVuSans-6f\" d=\"M 1959 3097 \nQ 1497 3097 1228 2736 \nQ 959 2375 959 1747 \nQ 959 1119 1226 758 \nQ 1494 397 1959 397 \nQ 2419 397 2687 759 \nQ 2956 1122 2956 1747 \nQ 2956 2369 2687 2733 \nQ 2419 3097 1959 3097 \nz\nM 1959 3584 \nQ 2709 3584 3137 3096 \nQ 3566 2609 3566 1747 \nQ 3566 888 3137 398 \nQ 2709 -91 1959 -91 \nQ 1206 -91 779 398 \nQ 353 888 353 1747 \nQ 353 2609 779 3096 \nQ 1206 3584 1959 3584 \nz\n\" transform=\"scale(0.015625)\"/>\n      <path id=\"DejaVuSans-78\" d=\"M 3513 3500 \nL 2247 1797 \nL 3578 0 \nL 2900 0 \nL 1881 1375 \nL 863 0 \nL 184 0 \nL 1544 1831 \nL 300 3500 \nL 978 3500 \nL 1906 2253 \nL 2834 3500 \nL 3513 3500 \nz\n\" transform=\"scale(0.015625)\"/>\n      <path id=\"DejaVuSans-70\" d=\"M 1159 525 \nL 1159 -1331 \nL 581 -1331 \nL 581 3500 \nL 1159 3500 \nL 1159 2969 \nQ 1341 3281 1617 3432 \nQ 1894 3584 2278 3584 \nQ 2916 3584 3314 3078 \nQ 3713 2572 3713 1747 \nQ 3713 922 3314 415 \nQ 2916 -91 2278 -91 \nQ 1894 -91 1617 61 \nQ 1341 213 1159 525 \nz\nM 3116 1747 \nQ 3116 2381 2855 2742 \nQ 2594 3103 2138 3103 \nQ 1681 3103 1420 2742 \nQ 1159 2381 1159 1747 \nQ 1159 1113 1420 752 \nQ 1681 391 2138 391 \nQ 2594 391 2855 752 \nQ 3116 1113 3116 1747 \nz\n\" transform=\"scale(0.015625)\"/>\n      <path id=\"DejaVuSans-6c\" d=\"M 603 4863 \nL 1178 4863 \nL 1178 0 \nL 603 0 \nL 603 4863 \nz\n\" transform=\"scale(0.015625)\"/>\n      <path id=\"DejaVuSans-74\" d=\"M 1172 4494 \nL 1172 3500 \nL 2356 3500 \nL 2356 3053 \nL 1172 3053 \nL 1172 1153 \nQ 1172 725 1289 603 \nQ 1406 481 1766 481 \nL 2356 481 \nL 2356 0 \nL 1766 0 \nQ 1100 0 847 248 \nQ 594 497 594 1153 \nL 594 3053 \nL 172 3053 \nL 172 3500 \nL 594 3500 \nL 594 4494 \nL 1172 4494 \nz\n\" transform=\"scale(0.015625)\"/>\n      <path id=\"DejaVuSans-20\" transform=\"scale(0.015625)\"/>\n      <path id=\"DejaVuSans-66\" d=\"M 2375 4863 \nL 2375 4384 \nL 1825 4384 \nQ 1516 4384 1395 4259 \nQ 1275 4134 1275 3809 \nL 1275 3500 \nL 2222 3500 \nL 2222 3053 \nL 1275 3053 \nL 1275 0 \nL 697 0 \nL 697 3053 \nL 147 3053 \nL 147 3500 \nL 697 3500 \nL 697 3744 \nQ 697 4328 969 4595 \nQ 1241 4863 1831 4863 \nL 2375 4863 \nz\n\" transform=\"scale(0.015625)\"/>\n      <path id=\"DejaVuSans-69\" d=\"M 603 3500 \nL 1178 3500 \nL 1178 0 \nL 603 0 \nL 603 3500 \nz\nM 603 4863 \nL 1178 4863 \nL 1178 4134 \nL 603 4134 \nL 603 4863 \nz\n\" transform=\"scale(0.015625)\"/>\n      <path id=\"DejaVuSans-62\" d=\"M 3116 1747 \nQ 3116 2381 2855 2742 \nQ 2594 3103 2138 3103 \nQ 1681 3103 1420 2742 \nQ 1159 2381 1159 1747 \nQ 1159 1113 1420 752 \nQ 1681 391 2138 391 \nQ 2594 391 2855 752 \nQ 3116 1113 3116 1747 \nz\nM 1159 2969 \nQ 1341 3281 1617 3432 \nQ 1894 3584 2278 3584 \nQ 2916 3584 3314 3078 \nQ 3713 2572 3713 1747 \nQ 3713 922 3314 415 \nQ 2916 -91 2278 -91 \nQ 1894 -91 1617 61 \nQ 1341 213 1159 525 \nL 1159 0 \nL 581 0 \nL 581 4863 \nL 1159 4863 \nL 1159 2969 \nz\n\" transform=\"scale(0.015625)\"/>\n      <path id=\"DejaVuSans-75\" d=\"M 544 1381 \nL 544 3500 \nL 1119 3500 \nL 1119 1403 \nQ 1119 906 1312 657 \nQ 1506 409 1894 409 \nQ 2359 409 2629 706 \nQ 2900 1003 2900 1516 \nL 2900 3500 \nL 3475 3500 \nL 3475 0 \nL 2900 0 \nL 2900 538 \nQ 2691 219 2414 64 \nQ 2138 -91 1772 -91 \nQ 1169 -91 856 284 \nQ 544 659 544 1381 \nz\nM 1991 3584 \nL 1991 3584 \nz\n\" transform=\"scale(0.015625)\"/>\n     </defs>\n     <use xlink:href=\"#DejaVuSans-42\"/>\n     <use xlink:href=\"#DejaVuSans-6f\" x=\"68.603516\"/>\n     <use xlink:href=\"#DejaVuSans-78\" x=\"126.660156\"/>\n     <use xlink:href=\"#DejaVuSans-70\" x=\"185.839844\"/>\n     <use xlink:href=\"#DejaVuSans-6c\" x=\"249.316406\"/>\n     <use xlink:href=\"#DejaVuSans-6f\" x=\"277.099609\"/>\n     <use xlink:href=\"#DejaVuSans-74\" x=\"338.28125\"/>\n     <use xlink:href=\"#DejaVuSans-20\" x=\"377.490234\"/>\n     <use xlink:href=\"#DejaVuSans-6f\" x=\"409.277344\"/>\n     <use xlink:href=\"#DejaVuSans-66\" x=\"470.458984\"/>\n     <use xlink:href=\"#DejaVuSans-20\" x=\"505.664062\"/>\n     <use xlink:href=\"#DejaVuSans-61\" x=\"537.451172\"/>\n     <use xlink:href=\"#DejaVuSans-72\" x=\"598.730469\"/>\n     <use xlink:href=\"#DejaVuSans-65\" x=\"637.59375\"/>\n     <use xlink:href=\"#DejaVuSans-61\" x=\"699.117188\"/>\n     <use xlink:href=\"#DejaVuSans-20\" x=\"760.396484\"/>\n     <use xlink:href=\"#DejaVuSans-61\" x=\"792.183594\"/>\n     <use xlink:href=\"#DejaVuSans-74\" x=\"853.462891\"/>\n     <use xlink:href=\"#DejaVuSans-74\" x=\"892.671875\"/>\n     <use xlink:href=\"#DejaVuSans-72\" x=\"931.880859\"/>\n     <use xlink:href=\"#DejaVuSans-69\" x=\"972.994141\"/>\n     <use xlink:href=\"#DejaVuSans-62\" x=\"1000.777344\"/>\n     <use xlink:href=\"#DejaVuSans-75\" x=\"1064.253906\"/>\n     <use xlink:href=\"#DejaVuSans-74\" x=\"1127.632812\"/>\n     <use xlink:href=\"#DejaVuSans-65\" x=\"1166.841797\"/>\n    </g>\n   </g>\n  </g>\n </g>\n <defs>\n  <clipPath id=\"pb6d6d57a36\">\n   <rect x=\"53.328125\" y=\"22.318125\" width=\"334.8\" height=\"217.44\"/>\n  </clipPath>\n </defs>\n</svg>\n",
      "text/plain": [
       "<Figure size 432x288 with 1 Axes>"
      ]
     },
     "metadata": {
      "needs_background": "light"
     },
     "output_type": "display_data"
    }
   ],
   "source": [
    "# create boxplot for `area` attribute again\n",
    "plt.boxplot(df['area'])\n",
    "plt.title(\"Boxplot of area attribute\")\n",
    "plt.ylabel(\"Area\")\n",
    "plt.show()"
   ]
  },
  {
   "cell_type": "code",
   "execution_count": 51,
   "metadata": {},
   "outputs": [
    {
     "name": "stdout",
     "output_type": "stream",
     "text": [
      "Correlation coefficient: 0.001584133376041119\n"
     ]
    }
   ],
   "source": [
    "# find correlation coefficient `wind` and `area` attributes\n",
    "print(\"Correlation coefficient:\", df['area'].corr(df['wind']))"
   ]
  }
 ],
 "metadata": {
  "kernelspec": {
   "display_name": "Python 3 (ipykernel)",
   "language": "python",
   "name": "python3"
  },
  "language_info": {
   "codemirror_mode": {
    "name": "ipython",
    "version": 3
   },
   "file_extension": ".py",
   "mimetype": "text/x-python",
   "name": "python",
   "nbconvert_exporter": "python",
   "pygments_lexer": "ipython3",
   "version": "3.10.4"
  },
  "orig_nbformat": 2,
  "vscode": {
   "interpreter": {
    "hash": "b13c84f26b03b81837babb7d6bb182b97bb46d822613cfd30489287e68eae110"
   }
  }
 },
 "nbformat": 4,
 "nbformat_minor": 2
}
