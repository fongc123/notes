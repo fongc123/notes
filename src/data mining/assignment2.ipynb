{
  "cells": [
    {
      "cell_type": "markdown",
      "metadata": {
        "id": "wG3bdtRNetmy"
      },
      "source": [
        "# Assignment 2"
      ]
    },
    {
      "cell_type": "markdown",
      "metadata": {
        "id": "VcId-lSU3Y-M"
      },
      "source": [
        "\n",
        "#  Data pre-processing\n"
      ]
    },
    {
      "cell_type": "code",
      "execution_count": 43,
      "metadata": {
        "id": "0DUICkk6o6ja"
      },
      "outputs": [],
      "source": [
        "import pandas as pd\n",
        "import numpy as np\n",
        "import matplotlib.pyplot as plt\n",
        "from sklearn.model_selection import train_test_split\n",
        "from sklearn.tree import DecisionTreeClassifier\n",
        "from sklearn.preprocessing import LabelEncoder\n",
        "from sklearn.metrics import accuracy_score"
      ]
    },
    {
      "cell_type": "code",
      "execution_count": 2,
      "metadata": {
        "id": "Q2vYK5L5sCOo"
      },
      "outputs": [],
      "source": [
        "q1_data = pd.read_csv('2-1.csv')\n",
        "q2_data = pd.read_csv('2-2.csv')"
      ]
    },
    {
      "cell_type": "code",
      "execution_count": 5,
      "metadata": {},
      "outputs": [
        {
          "data": {
            "text/html": [
              "<div>\n",
              "<style scoped>\n",
              "    .dataframe tbody tr th:only-of-type {\n",
              "        vertical-align: middle;\n",
              "    }\n",
              "\n",
              "    .dataframe tbody tr th {\n",
              "        vertical-align: top;\n",
              "    }\n",
              "\n",
              "    .dataframe thead th {\n",
              "        text-align: right;\n",
              "    }\n",
              "</style>\n",
              "<table border=\"1\" class=\"dataframe\">\n",
              "  <thead>\n",
              "    <tr style=\"text-align: right;\">\n",
              "      <th></th>\n",
              "      <th>type</th>\n",
              "      <th>difficulty</th>\n",
              "      <th>learned\\_before</th>\n",
              "      <th>completeness</th>\n",
              "      <th>class: proper\\_question</th>\n",
              "    </tr>\n",
              "  </thead>\n",
              "  <tbody>\n",
              "    <tr>\n",
              "      <th>0</th>\n",
              "      <td>math</td>\n",
              "      <td>hard</td>\n",
              "      <td>yes</td>\n",
              "      <td>poor</td>\n",
              "      <td>no</td>\n",
              "    </tr>\n",
              "    <tr>\n",
              "      <th>1</th>\n",
              "      <td>chemistry</td>\n",
              "      <td>hard</td>\n",
              "      <td>no</td>\n",
              "      <td>good</td>\n",
              "      <td>no</td>\n",
              "    </tr>\n",
              "    <tr>\n",
              "      <th>2</th>\n",
              "      <td>language</td>\n",
              "      <td>hard</td>\n",
              "      <td>yes</td>\n",
              "      <td>good</td>\n",
              "      <td>yes</td>\n",
              "    </tr>\n",
              "    <tr>\n",
              "      <th>3</th>\n",
              "      <td>language</td>\n",
              "      <td>medium</td>\n",
              "      <td>no</td>\n",
              "      <td>poor</td>\n",
              "      <td>yes</td>\n",
              "    </tr>\n",
              "    <tr>\n",
              "      <th>4</th>\n",
              "      <td>math</td>\n",
              "      <td>easy</td>\n",
              "      <td>yes</td>\n",
              "      <td>poor</td>\n",
              "      <td>yes</td>\n",
              "    </tr>\n",
              "    <tr>\n",
              "      <th>5</th>\n",
              "      <td>language</td>\n",
              "      <td>easy</td>\n",
              "      <td>no</td>\n",
              "      <td>good</td>\n",
              "      <td>no</td>\n",
              "    </tr>\n",
              "    <tr>\n",
              "      <th>6</th>\n",
              "      <td>chemistry</td>\n",
              "      <td>easy</td>\n",
              "      <td>yes</td>\n",
              "      <td>poor</td>\n",
              "      <td>yes</td>\n",
              "    </tr>\n",
              "    <tr>\n",
              "      <th>7</th>\n",
              "      <td>math</td>\n",
              "      <td>medium</td>\n",
              "      <td>no</td>\n",
              "      <td>poor</td>\n",
              "      <td>no</td>\n",
              "    </tr>\n",
              "    <tr>\n",
              "      <th>8</th>\n",
              "      <td>math</td>\n",
              "      <td>easy</td>\n",
              "      <td>yes</td>\n",
              "      <td>poor</td>\n",
              "      <td>yes</td>\n",
              "    </tr>\n",
              "    <tr>\n",
              "      <th>9</th>\n",
              "      <td>chemistry</td>\n",
              "      <td>medium</td>\n",
              "      <td>no</td>\n",
              "      <td>poor</td>\n",
              "      <td>yes</td>\n",
              "    </tr>\n",
              "    <tr>\n",
              "      <th>10</th>\n",
              "      <td>language</td>\n",
              "      <td>medium</td>\n",
              "      <td>yes</td>\n",
              "      <td>good</td>\n",
              "      <td>yes</td>\n",
              "    </tr>\n",
              "    <tr>\n",
              "      <th>11</th>\n",
              "      <td>math</td>\n",
              "      <td>medium</td>\n",
              "      <td>no</td>\n",
              "      <td>poor</td>\n",
              "      <td>yes</td>\n",
              "    </tr>\n",
              "    <tr>\n",
              "      <th>12</th>\n",
              "      <td>chemistry</td>\n",
              "      <td>hard</td>\n",
              "      <td>yes</td>\n",
              "      <td>good</td>\n",
              "      <td>yes</td>\n",
              "    </tr>\n",
              "    <tr>\n",
              "      <th>13</th>\n",
              "      <td>math</td>\n",
              "      <td>medium</td>\n",
              "      <td>yes</td>\n",
              "      <td>poor</td>\n",
              "      <td>no</td>\n",
              "    </tr>\n",
              "  </tbody>\n",
              "</table>\n",
              "</div>"
            ],
            "text/plain": [
              "         type difficulty learned\\_before completeness class: proper\\_question\n",
              "0        math       hard             yes         poor                      no\n",
              "1   chemistry       hard              no         good                      no\n",
              "2    language       hard             yes         good                     yes\n",
              "3    language     medium              no         poor                     yes\n",
              "4        math       easy             yes         poor                     yes\n",
              "5    language       easy              no         good                      no\n",
              "6   chemistry       easy             yes         poor                     yes\n",
              "7        math     medium              no         poor                      no\n",
              "8        math       easy             yes         poor                     yes\n",
              "9   chemistry     medium              no         poor                     yes\n",
              "10   language     medium             yes         good                     yes\n",
              "11       math     medium              no         poor                     yes\n",
              "12  chemistry       hard             yes         good                     yes\n",
              "13       math     medium             yes         poor                      no"
            ]
          },
          "execution_count": 5,
          "metadata": {},
          "output_type": "execute_result"
        }
      ],
      "source": [
        "q1_data"
      ]
    },
    {
      "cell_type": "markdown",
      "metadata": {
        "id": "IwdJwkLFfyhk"
      },
      "source": [
        "# **Q1 (a)**\n",
        "\n"
      ]
    },
    {
      "cell_type": "code",
      "execution_count": 24,
      "metadata": {
        "id": "3rqGVRHonL59"
      },
      "outputs": [],
      "source": [
        "# create a decision tree classifier using information gain, min_samples_split = 4, random_state = 1\n",
        "clf = DecisionTreeClassifier(\n",
        "    criterion = 'entropy',\n",
        "    min_samples_split = 4,\n",
        "    random_state = 1\n",
        ")"
      ]
    },
    {
      "cell_type": "code",
      "execution_count": 52,
      "metadata": {},
      "outputs": [
        {
          "name": "stdout",
          "output_type": "stream",
          "text": [
            "type [0, 1, 2]\n",
            "difficulty [0, 1, 2]\n",
            "learned\\_before [0, 1]\n",
            "completeness [0, 1]\n",
            "class: proper\\_question [0, 1]\n"
          ]
        }
      ],
      "source": [
        "# preprocess the data with LabelEncoder\n",
        "le = LabelEncoder()\n",
        "for col in q1_data.columns:\n",
        "    le.fit(q1_data[col])\n",
        "    print(col, list(le.classes_))\n",
        "    print(col, le.classes_)\n",
        "    q1_data[col] = le.fit_transform(q1_data[col])"
      ]
    },
    {
      "cell_type": "code",
      "execution_count": 46,
      "metadata": {},
      "outputs": [
        {
          "data": {
            "text/html": [
              "<div>\n",
              "<style scoped>\n",
              "    .dataframe tbody tr th:only-of-type {\n",
              "        vertical-align: middle;\n",
              "    }\n",
              "\n",
              "    .dataframe tbody tr th {\n",
              "        vertical-align: top;\n",
              "    }\n",
              "\n",
              "    .dataframe thead th {\n",
              "        text-align: right;\n",
              "    }\n",
              "</style>\n",
              "<table border=\"1\" class=\"dataframe\">\n",
              "  <thead>\n",
              "    <tr style=\"text-align: right;\">\n",
              "      <th></th>\n",
              "      <th>type</th>\n",
              "      <th>difficulty</th>\n",
              "      <th>learned\\_before</th>\n",
              "      <th>completeness</th>\n",
              "      <th>class: proper\\_question</th>\n",
              "    </tr>\n",
              "  </thead>\n",
              "  <tbody>\n",
              "    <tr>\n",
              "      <th>0</th>\n",
              "      <td>2</td>\n",
              "      <td>1</td>\n",
              "      <td>1</td>\n",
              "      <td>1</td>\n",
              "      <td>0</td>\n",
              "    </tr>\n",
              "    <tr>\n",
              "      <th>1</th>\n",
              "      <td>0</td>\n",
              "      <td>1</td>\n",
              "      <td>0</td>\n",
              "      <td>0</td>\n",
              "      <td>0</td>\n",
              "    </tr>\n",
              "    <tr>\n",
              "      <th>2</th>\n",
              "      <td>1</td>\n",
              "      <td>1</td>\n",
              "      <td>1</td>\n",
              "      <td>0</td>\n",
              "      <td>1</td>\n",
              "    </tr>\n",
              "    <tr>\n",
              "      <th>3</th>\n",
              "      <td>1</td>\n",
              "      <td>2</td>\n",
              "      <td>0</td>\n",
              "      <td>1</td>\n",
              "      <td>1</td>\n",
              "    </tr>\n",
              "    <tr>\n",
              "      <th>4</th>\n",
              "      <td>2</td>\n",
              "      <td>0</td>\n",
              "      <td>1</td>\n",
              "      <td>1</td>\n",
              "      <td>1</td>\n",
              "    </tr>\n",
              "  </tbody>\n",
              "</table>\n",
              "</div>"
            ],
            "text/plain": [
              "   type  difficulty  learned\\_before  completeness  class: proper\\_question\n",
              "0     2           1                1             1                        0\n",
              "1     0           1                0             0                        0\n",
              "2     1           1                1             0                        1\n",
              "3     1           2                0             1                        1\n",
              "4     2           0                1             1                        1"
            ]
          },
          "execution_count": 46,
          "metadata": {},
          "output_type": "execute_result"
        }
      ],
      "source": [
        "q1_data.head()"
      ]
    },
    {
      "cell_type": "code",
      "execution_count": 39,
      "metadata": {},
      "outputs": [],
      "source": [
        "# separate X and Y\n",
        "X = q1_data.iloc[:, 0:4]\n",
        "Y = q1_data.iloc[:, 4]\n",
        "\n",
        "# split the data into training and testing sets\n",
        "X_train, X_test, Y_train, Y_test = train_test_split(X, Y)"
      ]
    },
    {
      "cell_type": "code",
      "execution_count": 40,
      "metadata": {},
      "outputs": [
        {
          "data": {
            "text/plain": [
              "DecisionTreeClassifier(criterion='entropy', min_samples_split=4, random_state=1)"
            ]
          },
          "execution_count": 40,
          "metadata": {},
          "output_type": "execute_result"
        }
      ],
      "source": [
        "# fit the model\n",
        "clf.fit(X_train, Y_train)"
      ]
    },
    {
      "cell_type": "code",
      "execution_count": 51,
      "metadata": {},
      "outputs": [
        {
          "name": "stderr",
          "output_type": "stream",
          "text": [
            "c:\\Users\\fongc\\anaconda3\\envs\\ml\\lib\\site-packages\\sklearn\\base.py:450: UserWarning: X does not have valid feature names, but DecisionTreeClassifier was fitted with feature names\n",
            "  warnings.warn(\n"
          ]
        },
        {
          "data": {
            "text/plain": [
              "array([1, 1], dtype=int64)"
            ]
          },
          "execution_count": 51,
          "metadata": {},
          "output_type": "execute_result"
        }
      ],
      "source": [
        "clf.predict([[2, 1, 1, 1], [1, 1, 1, 0]])"
      ]
    },
    {
      "cell_type": "code",
      "execution_count": 45,
      "metadata": {},
      "outputs": [
        {
          "name": "stdout",
          "output_type": "stream",
          "text": [
            "Training accuracy:  0.9\n",
            "Testing accuracy:  0.5\n"
          ]
        }
      ],
      "source": [
        "# calculate the training and testing accuracy\n",
        "print('Training accuracy: ', accuracy_score(Y_train, clf.predict(X_train)))\n",
        "print('Testing accuracy: ', accuracy_score(Y_test, clf.predict(X_test)))"
      ]
    },
    {
      "cell_type": "markdown",
      "metadata": {
        "id": "kV4_SP-_15Zg"
      },
      "source": [
        "# **Q1 (b)**\n"
      ]
    },
    {
      "cell_type": "code",
      "execution_count": null,
      "metadata": {
        "id": "eUTaX_nB15Iu"
      },
      "outputs": [],
      "source": []
    },
    {
      "cell_type": "markdown",
      "metadata": {
        "id": "r1rTHBNpf-J6"
      },
      "source": [
        "# **Q1 (c)**"
      ]
    },
    {
      "cell_type": "code",
      "execution_count": null,
      "metadata": {
        "id": "65L90WG41kNz"
      },
      "outputs": [],
      "source": []
    },
    {
      "cell_type": "markdown",
      "metadata": {
        "id": "1XNsuNcJriSI"
      },
      "source": [
        "# **Q1 (d)**"
      ]
    },
    {
      "cell_type": "markdown",
      "metadata": {
        "id": "QgdmlTlFrkzA"
      },
      "source": []
    },
    {
      "cell_type": "markdown",
      "metadata": {
        "id": "5mrTHRhmrmLY"
      },
      "source": [
        "# **Q1 (e)**"
      ]
    },
    {
      "cell_type": "markdown",
      "metadata": {
        "id": "BdKBYMsiroPf"
      },
      "source": []
    },
    {
      "cell_type": "markdown",
      "metadata": {
        "id": "z7za-rylrpKP"
      },
      "source": [
        "# **Q1 (f)**"
      ]
    },
    {
      "cell_type": "markdown",
      "metadata": {
        "id": "qyfkd89Frqpc"
      },
      "source": []
    },
    {
      "cell_type": "markdown",
      "metadata": {
        "id": "DhMKzhZgE_vP"
      },
      "source": [
        "# **Q2 (a)**"
      ]
    },
    {
      "cell_type": "code",
      "execution_count": null,
      "metadata": {
        "id": "22J8LzAuIt4Q"
      },
      "outputs": [],
      "source": [
        "from sklearn.feature_extraction.text import CountVectorizer\n",
        "from sklearn.naive_bayes import BernoulliNB"
      ]
    },
    {
      "cell_type": "code",
      "execution_count": null,
      "metadata": {
        "id": "bvG7tRjvsNR4"
      },
      "outputs": [],
      "source": [
        "from sklearn.model_selection import train_test_split\n",
        "X_train_text, X_test_text, y_train, y_test = train_test_split(q2_data['text'], q2_data['sentiment'], random_state=1)"
      ]
    },
    {
      "cell_type": "markdown",
      "metadata": {
        "id": "apXBobZqFDpP"
      },
      "source": [
        "# **Q2 (b)**"
      ]
    },
    {
      "cell_type": "code",
      "execution_count": null,
      "metadata": {
        "id": "ddR-YAxNFFRW"
      },
      "outputs": [],
      "source": []
    }
  ],
  "metadata": {
    "colab": {
      "collapsed_sections": [],
      "provenance": []
    },
    "kernelspec": {
      "display_name": "Python 3.10.4 ('ml')",
      "language": "python",
      "name": "python3"
    },
    "language_info": {
      "codemirror_mode": {
        "name": "ipython",
        "version": 3
      },
      "file_extension": ".py",
      "mimetype": "text/x-python",
      "name": "python",
      "nbconvert_exporter": "python",
      "pygments_lexer": "ipython3",
      "version": "3.10.4"
    },
    "vscode": {
      "interpreter": {
        "hash": "b13c84f26b03b81837babb7d6bb182b97bb46d822613cfd30489287e68eae110"
      }
    }
  },
  "nbformat": 4,
  "nbformat_minor": 0
}
