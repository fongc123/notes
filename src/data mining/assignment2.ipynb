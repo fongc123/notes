{
  "cells": [
    {
      "cell_type": "markdown",
      "metadata": {
        "id": "wG3bdtRNetmy"
      },
      "source": [
        "# Assignment 2"
      ]
    },
    {
      "cell_type": "markdown",
      "metadata": {
        "id": "VcId-lSU3Y-M"
      },
      "source": [
        "\n",
        "#  Data pre-processing\n"
      ]
    },
    {
      "cell_type": "code",
      "execution_count": 3,
      "metadata": {
        "id": "0DUICkk6o6ja"
      },
      "outputs": [],
      "source": [
        "import pandas as pd\n",
        "import numpy as np\n",
        "import matplotlib.pyplot as plt\n",
        "from sklearn.tree import DecisionTreeClassifier"
      ]
    },
    {
      "cell_type": "code",
      "execution_count": 2,
      "metadata": {
        "id": "Q2vYK5L5sCOo"
      },
      "outputs": [],
      "source": [
        "q1_data = pd.read_csv('2-1.csv')\n",
        "q2_data = pd.read_csv('2-2.csv')"
      ]
    },
    {
      "cell_type": "markdown",
      "metadata": {
        "id": "IwdJwkLFfyhk"
      },
      "source": [
        "# **Q1 (a)**\n",
        "\n"
      ]
    },
    {
      "cell_type": "code",
      "execution_count": null,
      "metadata": {
        "id": "3rqGVRHonL59"
      },
      "outputs": [],
      "source": []
    },
    {
      "cell_type": "markdown",
      "metadata": {
        "id": "kV4_SP-_15Zg"
      },
      "source": [
        "# **Q1 (b)**\n"
      ]
    },
    {
      "cell_type": "code",
      "execution_count": null,
      "metadata": {
        "id": "eUTaX_nB15Iu"
      },
      "outputs": [],
      "source": []
    },
    {
      "cell_type": "markdown",
      "metadata": {
        "id": "r1rTHBNpf-J6"
      },
      "source": [
        "# **Q1 (c)**"
      ]
    },
    {
      "cell_type": "code",
      "execution_count": null,
      "metadata": {
        "id": "65L90WG41kNz"
      },
      "outputs": [],
      "source": []
    },
    {
      "cell_type": "markdown",
      "metadata": {
        "id": "1XNsuNcJriSI"
      },
      "source": [
        "# **Q1 (d)**"
      ]
    },
    {
      "cell_type": "markdown",
      "metadata": {
        "id": "QgdmlTlFrkzA"
      },
      "source": []
    },
    {
      "cell_type": "markdown",
      "metadata": {
        "id": "5mrTHRhmrmLY"
      },
      "source": [
        "# **Q1 (e)**"
      ]
    },
    {
      "cell_type": "markdown",
      "metadata": {
        "id": "BdKBYMsiroPf"
      },
      "source": []
    },
    {
      "cell_type": "markdown",
      "metadata": {
        "id": "z7za-rylrpKP"
      },
      "source": [
        "# **Q1 (f)**"
      ]
    },
    {
      "cell_type": "markdown",
      "metadata": {
        "id": "qyfkd89Frqpc"
      },
      "source": []
    },
    {
      "cell_type": "markdown",
      "metadata": {
        "id": "DhMKzhZgE_vP"
      },
      "source": [
        "# **Q2 (a)**"
      ]
    },
    {
      "cell_type": "code",
      "execution_count": null,
      "metadata": {
        "id": "22J8LzAuIt4Q"
      },
      "outputs": [],
      "source": [
        "from sklearn.feature_extraction.text import CountVectorizer\n",
        "from sklearn.naive_bayes import BernoulliNB"
      ]
    },
    {
      "cell_type": "code",
      "execution_count": null,
      "metadata": {
        "id": "bvG7tRjvsNR4"
      },
      "outputs": [],
      "source": [
        "from sklearn.model_selection import train_test_split\n",
        "X_train_text, X_test_text, y_train, y_test = train_test_split(q2_data['text'], q2_data['sentiment'], random_state=1)"
      ]
    },
    {
      "cell_type": "markdown",
      "metadata": {
        "id": "apXBobZqFDpP"
      },
      "source": [
        "# **Q2 (b)**"
      ]
    },
    {
      "cell_type": "code",
      "execution_count": null,
      "metadata": {
        "id": "ddR-YAxNFFRW"
      },
      "outputs": [],
      "source": []
    }
  ],
  "metadata": {
    "colab": {
      "collapsed_sections": [],
      "provenance": []
    },
    "kernelspec": {
      "display_name": "Python 3.10.4 ('ml')",
      "language": "python",
      "name": "python3"
    },
    "language_info": {
      "codemirror_mode": {
        "name": "ipython",
        "version": 3
      },
      "file_extension": ".py",
      "mimetype": "text/x-python",
      "name": "python",
      "nbconvert_exporter": "python",
      "pygments_lexer": "ipython3",
      "version": "3.10.4"
    },
    "vscode": {
      "interpreter": {
        "hash": "b13c84f26b03b81837babb7d6bb182b97bb46d822613cfd30489287e68eae110"
      }
    }
  },
  "nbformat": 4,
  "nbformat_minor": 0
}
