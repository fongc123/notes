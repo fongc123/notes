{
 "cells": [
  {
   "cell_type": "code",
   "execution_count": 1,
   "metadata": {},
   "outputs": [],
   "source": [
    "import matplotlib.pyplot as plt\n",
    "from sklearn import preprocessing\n",
    "import pandas as pd\n",
    "import numpy as np\n",
    "import os"
   ]
  },
  {
   "cell_type": "code",
   "execution_count": 2,
   "metadata": {},
   "outputs": [],
   "source": [
    "df = pd.read_csv(\"world_data.csv\")"
   ]
  },
  {
   "cell_type": "code",
   "execution_count": 3,
   "metadata": {},
   "outputs": [
    {
     "data": {
      "text/html": [
       "<div>\n",
       "<style scoped>\n",
       "    .dataframe tbody tr th:only-of-type {\n",
       "        vertical-align: middle;\n",
       "    }\n",
       "\n",
       "    .dataframe tbody tr th {\n",
       "        vertical-align: top;\n",
       "    }\n",
       "\n",
       "    .dataframe thead th {\n",
       "        text-align: right;\n",
       "    }\n",
       "</style>\n",
       "<table border=\"1\" class=\"dataframe\">\n",
       "  <thead>\n",
       "    <tr style=\"text-align: right;\">\n",
       "      <th></th>\n",
       "      <th>geo</th>\n",
       "      <th>country</th>\n",
       "      <th>world_6region</th>\n",
       "      <th>world_4region</th>\n",
       "      <th>year</th>\n",
       "      <th>population</th>\n",
       "      <th>gdppc_cppp</th>\n",
       "      <th>life_expectency</th>\n",
       "    </tr>\n",
       "  </thead>\n",
       "  <tbody>\n",
       "    <tr>\n",
       "      <th>0</th>\n",
       "      <td>afg</td>\n",
       "      <td>Afghanistan</td>\n",
       "      <td>south_asia</td>\n",
       "      <td>asia</td>\n",
       "      <td>1800</td>\n",
       "      <td>3280000</td>\n",
       "      <td>603.0</td>\n",
       "      <td>28.21</td>\n",
       "    </tr>\n",
       "    <tr>\n",
       "      <th>1</th>\n",
       "      <td>afg</td>\n",
       "      <td>Afghanistan</td>\n",
       "      <td>south_asia</td>\n",
       "      <td>asia</td>\n",
       "      <td>1801</td>\n",
       "      <td>3280000</td>\n",
       "      <td>603.0</td>\n",
       "      <td>28.20</td>\n",
       "    </tr>\n",
       "    <tr>\n",
       "      <th>2</th>\n",
       "      <td>afg</td>\n",
       "      <td>Afghanistan</td>\n",
       "      <td>south_asia</td>\n",
       "      <td>asia</td>\n",
       "      <td>1802</td>\n",
       "      <td>3280000</td>\n",
       "      <td>603.0</td>\n",
       "      <td>28.19</td>\n",
       "    </tr>\n",
       "    <tr>\n",
       "      <th>3</th>\n",
       "      <td>afg</td>\n",
       "      <td>Afghanistan</td>\n",
       "      <td>south_asia</td>\n",
       "      <td>asia</td>\n",
       "      <td>1803</td>\n",
       "      <td>3280000</td>\n",
       "      <td>603.0</td>\n",
       "      <td>28.18</td>\n",
       "    </tr>\n",
       "    <tr>\n",
       "      <th>4</th>\n",
       "      <td>afg</td>\n",
       "      <td>Afghanistan</td>\n",
       "      <td>south_asia</td>\n",
       "      <td>asia</td>\n",
       "      <td>1804</td>\n",
       "      <td>3280000</td>\n",
       "      <td>603.0</td>\n",
       "      <td>28.17</td>\n",
       "    </tr>\n",
       "  </tbody>\n",
       "</table>\n",
       "</div>"
      ],
      "text/plain": [
       "   geo      country world_6region world_4region  year  population  gdppc_cppp  \\\n",
       "0  afg  Afghanistan    south_asia          asia  1800     3280000       603.0   \n",
       "1  afg  Afghanistan    south_asia          asia  1801     3280000       603.0   \n",
       "2  afg  Afghanistan    south_asia          asia  1802     3280000       603.0   \n",
       "3  afg  Afghanistan    south_asia          asia  1803     3280000       603.0   \n",
       "4  afg  Afghanistan    south_asia          asia  1804     3280000       603.0   \n",
       "\n",
       "   life_expectency  \n",
       "0            28.21  \n",
       "1            28.20  \n",
       "2            28.19  \n",
       "3            28.18  \n",
       "4            28.17  "
      ]
     },
     "execution_count": 3,
     "metadata": {},
     "output_type": "execute_result"
    }
   ],
   "source": [
    "df.head()"
   ]
  },
  {
   "cell_type": "code",
   "execution_count": 4,
   "metadata": {},
   "outputs": [
    {
     "data": {
      "text/plain": [
       "185"
      ]
     },
     "execution_count": 4,
     "metadata": {},
     "output_type": "execute_result"
    }
   ],
   "source": [
    "df_2020 = df[df.year == 2020]\n",
    "len(df_2020)"
   ]
  },
  {
   "cell_type": "code",
   "execution_count": 5,
   "metadata": {},
   "outputs": [
    {
     "name": "stderr",
     "output_type": "stream",
     "text": [
      "C:\\Users\\fongc\\AppData\\Local\\Temp\\ipykernel_9264\\1496467352.py:3: SettingWithCopyWarning: \n",
      "A value is trying to be set on a copy of a slice from a DataFrame.\n",
      "Try using .loc[row_indexer,col_indexer] = value instead\n",
      "\n",
      "See the caveats in the documentation: https://pandas.pydata.org/pandas-docs/stable/user_guide/indexing.html#returning-a-view-versus-a-copy\n",
      "  df_2020['population'] = scaler.fit_transform(df_2020[['population']])\n"
     ]
    }
   ],
   "source": [
    "# normalize population within 1 and 500\n",
    "scaler = preprocessing.MinMaxScaler(feature_range = (1, 500))\n",
    "df_2020['population'] = scaler.fit_transform(df_2020[['population']])"
   ]
  },
  {
   "cell_type": "code",
   "execution_count": 6,
   "metadata": {},
   "outputs": [
    {
     "data": {
      "text/plain": [
       "array(['asia', 'europe', 'africa', 'americas'], dtype=object)"
      ]
     },
     "execution_count": 6,
     "metadata": {},
     "output_type": "execute_result"
    }
   ],
   "source": [
    "df_2020['world_4region'].unique()"
   ]
  },
  {
   "cell_type": "code",
   "execution_count": 7,
   "metadata": {},
   "outputs": [],
   "source": [
    "# map world_4region to colors\n",
    "color_map = {'asia': 'red', 'europe': 'blue', 'africa': 'green', 'americas': 'orange'}"
   ]
  },
  {
   "cell_type": "code",
   "execution_count": 8,
   "metadata": {},
   "outputs": [
    {
     "data": {
      "image/png": "[encoded data removed]",
      "text/plain": [
       "<Figure size 640x480 with 1 Axes>"
      ]
     },
     "metadata": {},
     "output_type": "display_data"
    }
   ],
   "source": [
    "plt.scatter(\n",
    "    df_2020['gdppc_cppp'],\n",
    "    df_2020['life_expectency'],\n",
    "    s = df_2020['population'],\n",
    "    c = df_2020['world_4region'].map(color_map),\n",
    "    cmap = 'viridis',\n",
    "    marker = 'o',\n",
    "    alpha = 0.5\n",
    ")\n",
    "plt.xlabel('GDP per capita')\n",
    "plt.ylabel('Life Expectency')\n",
    "plt.title('GDP per capita vs Life Expectency')\n",
    "plt.show()"
   ]
  },
  {
   "cell_type": "code",
   "execution_count": null,
   "metadata": {},
   "outputs": [],
   "source": []
  }
 ],
 "metadata": {
  "kernelspec": {
   "display_name": "Python 3.10.4 ('ml')",
   "language": "python",
   "name": "python3"
  },
  "language_info": {
   "codemirror_mode": {
    "name": "ipython",
    "version": 3
   },
   "file_extension": ".py",
   "mimetype": "text/x-python",
   "name": "python",
   "nbconvert_exporter": "python",
   "pygments_lexer": "ipython3",
   "version": "3.10.4"
  },
  "orig_nbformat": 4,
  "vscode": {
   "interpreter": {
    "hash": "b13c84f26b03b81837babb7d6bb182b97bb46d822613cfd30489287e68eae110"
   }
  }
 },
 "nbformat": 4,
 "nbformat_minor": 2
}
