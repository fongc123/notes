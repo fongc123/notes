{
 "cells": [
  {
   "cell_type": "code",
   "execution_count": 28,
   "metadata": {},
   "outputs": [],
   "source": [
    "import pandas as pd\n",
    "import numpy as np\n",
    "import matplotlib.pyplot as plt\n",
    "import plotly.express as px\n",
    "from sklearn import preprocessing"
   ]
  },
  {
   "cell_type": "code",
   "execution_count": 114,
   "metadata": {},
   "outputs": [],
   "source": [
    "vaccinations = pd.read_csv(\"country_vaccinations.csv\")\n",
    "countries = pd.read_csv(\"country_profile_variables.csv\")"
   ]
  },
  {
   "cell_type": "code",
   "execution_count": 115,
   "metadata": {},
   "outputs": [],
   "source": [
    "vaccinations = vaccinations[vaccinations.country.isin(countries.country.unique())]\n",
    "total_vaccinations = vaccinations.groupby([\"country\"], sort = False)[\"total_vaccinations\"].max()"
   ]
  },
  {
   "cell_type": "code",
   "execution_count": 126,
   "metadata": {},
   "outputs": [],
   "source": [
    "df = pd.DataFrame()\n",
    "df['country'] = list(total_vaccinations.index)\n",
    "df['total_vaccinations'] = total_vaccinations.values\n",
    "df['population'] = [ countries[countries.country == c][\"Population in thousands (2017)\"].values[0] for c in df['country'].unique() ]\n",
    "df['gdp'] = [ countries[countries.country == c][\"GDP: Gross domestic product (million current US$)\"].values[0] for c in df['country'].unique() ]\n",
    "\n",
    "label_encoder = preprocessing.LabelEncoder()\n",
    "countries['Region'] = label_encoder.fit_transform(countries['Region'])\n",
    "\n",
    "df['region'] = [ countries[countries.country == c][\"Region\"].values[0] for c in df['country'].unique() ]\n",
    "\n",
    "le = preprocessing.LabelEncoder()\n",
    "df['total_vaccinations'] = le.fit_transform(df['total_vaccinations'])\n",
    "df['population'] = le.fit_transform(df['population'])\n",
    "df['gdp'] = le.fit_transform(df['gdp'])"
   ]
  },
  {
   "cell_type": "code",
   "execution_count": 127,
   "metadata": {},
   "outputs": [
    {
     "data": {
      "application/vnd.plotly.v1+json": {
       "config": {
        "plotlyServerURL": "https://plot.ly"
       },
       "data": [
        {
         "dimensions": [
          {
           "label": "Total Vaccinations",
           "values": [
            98,
            83,
            126,
            27,
            136,
            7,
            22,
            171,
            74,
            29,
            163,
            139,
            125,
            37,
            92,
            181,
            36,
            119,
            146,
            43,
            89,
            23,
            69,
            71,
            80,
            184,
            9,
            93,
            76,
            5,
            155,
            67,
            169,
            25,
            59,
            42,
            160,
            186,
            168,
            50,
            54,
            8,
            113,
            95,
            154,
            68,
            135,
            124,
            28,
            12,
            128,
            151,
            167,
            114,
            44,
            72,
            148,
            64,
            120,
            175,
            40,
            46,
            39,
            85,
            178,
            122,
            20,
            141,
            18,
            19,
            130,
            99,
            47,
            56,
            34,
            121,
            131,
            52,
            185,
            183,
            137,
            116,
            30,
            138,
            173,
            65,
            182,
            112,
            142,
            134,
            24,
            105,
            87,
            86,
            96,
            57,
            60,
            91,
            17,
            94,
            62,
            63,
            73,
            166,
            58,
            70,
            61,
            81,
            78,
            179,
            13,
            97,
            51,
            2,
            162,
            147,
            159,
            55,
            6,
            157,
            153,
            41,
            117,
            111,
            82,
            149,
            1,
            118,
            102,
            180,
            106,
            48,
            108,
            165,
            177,
            161,
            144,
            101,
            132,
            140,
            3,
            10,
            21,
            16,
            35,
            14,
            33,
            164,
            79,
            109,
            32,
            75,
            127,
            11,
            103,
            88,
            38,
            77,
            152,
            49,
            170,
            156,
            100,
            45,
            143,
            129,
            115,
            172,
            84,
            0,
            26,
            66,
            123,
            176,
            104,
            15,
            4,
            133,
            150,
            145,
            174,
            107,
            158,
            31,
            53,
            90,
            110
           ]
          },
          {
           "label": "Population",
           "values": [
            148,
            62,
            154,
            18,
            143,
            5,
            21,
            157,
            62,
            22,
            137,
            96,
            104,
            34,
            51,
            174,
            31,
            101,
            113,
            33,
            112,
            15,
            42,
            65,
            58,
            177,
            7,
            90,
            132,
            109,
            122,
            136,
            150,
            16,
            72,
            120,
            128,
            180,
            159,
            43,
            77,
            6,
            76,
            69,
            114,
            46,
            107,
            82,
            45,
            17,
            108,
            124,
            169,
            88,
            48,
            49,
            171,
            44,
            80,
            164,
            30,
            54,
            56,
            66,
            168,
            140,
            9,
            111,
            14,
            23,
            125,
            118,
            52,
            41,
            110,
            99,
            103,
            32,
            179,
            178,
            152,
            75,
            19,
            94,
            163,
            61,
            172,
            102,
            129,
            160,
            25,
            68,
            84,
            53,
            85,
            57,
            74,
            87,
            10,
            61,
            38,
            138,
            131,
            144,
            36,
            130,
            35,
            70,
            47,
            173,
            11,
            63,
            40,
            3,
            149,
            142,
            161,
            59,
            4,
            141,
            126,
            29,
            73,
            86,
            135,
            175,
            1,
            78,
            71,
            176,
            67,
            93,
            89,
            146,
            170,
            151,
            106,
            60,
            133,
            116,
            2,
            13,
            26,
            24,
            27,
            8,
            28,
            147,
            121,
            97,
            20,
            91,
            81,
            12,
            79,
            55,
            39,
            119,
            162,
            117,
            158,
            134,
            153,
            37,
            105,
            95,
            98,
            166,
            92,
            0,
            23,
            50,
            115,
            167,
            83,
            9,
            4,
            155,
            156,
            100,
            165,
            64,
            145,
            29,
            139,
            127,
            123
           ]
          },
          {
           "label": "GDP",
           "values": [
            86,
            69,
            136,
            36,
            132,
            6,
            22,
            165,
            65,
            34,
            173,
            158,
            113,
            59,
            99,
            142,
            42,
            115,
            161,
            28,
            56,
            48,
            32,
            82,
            80,
            175,
            15,
            109,
            66,
            35,
            84,
            97,
            174,
            39,
            27,
            64,
            146,
            182,
            149,
            20,
            57,
            5,
            112,
            108,
            126,
            85,
            140,
            154,
            29,
            9,
            121,
            129,
            156,
            93,
            76,
            91,
            117,
            43,
            145,
            178,
            47,
            75,
            16,
            78,
            180,
            101,
            0,
            143,
            33,
            17,
            120,
            60,
            18,
            37,
            58,
            87,
            133,
            83,
            177,
            170,
            134,
            148,
            0,
            153,
            176,
            79,
            181,
            103,
            139,
            119,
            3,
            131,
            52,
            95,
            110,
            30,
            31,
            100,
            50,
            106,
            116,
            62,
            51,
            152,
            38,
            72,
            63,
            46,
            68,
            171,
            49,
            70,
            40,
            2,
            130,
            81,
            118,
            67,
            4,
            88,
            169,
            61,
            137,
            71,
            53,
            163,
            0,
            159,
            123,
            147,
            111,
            90,
            96,
            141,
            150,
            162,
            144,
            135,
            138,
            55,
            0,
            14,
            24,
            11,
            12,
            26,
            7,
            166,
            74,
            102,
            23,
            44,
            151,
            21,
            127,
            107,
            19,
            25,
            155,
            73,
            172,
            125,
            124,
            45,
            164,
            167,
            54,
            160,
            41,
            0,
            8,
            94,
            105,
            168,
            104,
            13,
            1,
            92,
            128,
            157,
            179,
            114,
            122,
            10,
            98,
            89,
            77
           ]
          },
          {
           "label": "Region",
           "values": [
            17,
            18,
            9,
            18,
            8,
            0,
            0,
            15,
            20,
            0,
            12,
            21,
            20,
            0,
            20,
            17,
            0,
            5,
            21,
            1,
            19,
            10,
            17,
            18,
            16,
            15,
            0,
            5,
            19,
            3,
            14,
            8,
            10,
            0,
            8,
            8,
            15,
            4,
            15,
            3,
            8,
            13,
            1,
            18,
            0,
            20,
            5,
            11,
            3,
            0,
            0,
            15,
            9,
            1,
            8,
            11,
            3,
            6,
            11,
            21,
            13,
            8,
            19,
            20,
            21,
            19,
            18,
            18,
            10,
            0,
            1,
            19,
            19,
            15,
            0,
            1,
            5,
            11,
            17,
            14,
            20,
            11,
            11,
            20,
            18,
            0,
            4,
            20,
            2,
            3,
            7,
            20,
            2,
            11,
            20,
            16,
            19,
            9,
            21,
            11,
            21,
            3,
            3,
            14,
            17,
            19,
            18,
            19,
            3,
            1,
            21,
            4,
            18,
            0,
            9,
            3,
            14,
            16,
            7,
            17,
            21,
            6,
            12,
            1,
            19,
            19,
            13,
            11,
            20,
            17,
            1,
            6,
            15,
            15,
            14,
            5,
            18,
            20,
            5,
            3,
            19,
            0,
            0,
            0,
            13,
            18,
            8,
            20,
            19,
            18,
            3,
            19,
            14,
            0,
            5,
            18,
            6,
            3,
            16,
            3,
            18,
            17,
            9,
            15,
            11,
            21,
            2,
            14,
            19,
            13,
            13,
            0,
            9,
            20,
            2,
            0,
            13,
            3,
            5,
            20,
            11,
            15,
            2,
            6,
            20,
            3,
            3
           ]
          }
         ],
         "domain": {
          "x": [
           0,
           1
          ],
          "y": [
           0,
           1
          ]
         },
         "line": {
          "color": [
           17,
           18,
           9,
           18,
           8,
           0,
           0,
           15,
           20,
           0,
           12,
           21,
           20,
           0,
           20,
           17,
           0,
           5,
           21,
           1,
           19,
           10,
           17,
           18,
           16,
           15,
           0,
           5,
           19,
           3,
           14,
           8,
           10,
           0,
           8,
           8,
           15,
           4,
           15,
           3,
           8,
           13,
           1,
           18,
           0,
           20,
           5,
           11,
           3,
           0,
           0,
           15,
           9,
           1,
           8,
           11,
           3,
           6,
           11,
           21,
           13,
           8,
           19,
           20,
           21,
           19,
           18,
           18,
           10,
           0,
           1,
           19,
           19,
           15,
           0,
           1,
           5,
           11,
           17,
           14,
           20,
           11,
           11,
           20,
           18,
           0,
           4,
           20,
           2,
           3,
           7,
           20,
           2,
           11,
           20,
           16,
           19,
           9,
           21,
           11,
           21,
           3,
           3,
           14,
           17,
           19,
           18,
           19,
           3,
           1,
           21,
           4,
           18,
           0,
           9,
           3,
           14,
           16,
           7,
           17,
           21,
           6,
           12,
           1,
           19,
           19,
           13,
           11,
           20,
           17,
           1,
           6,
           15,
           15,
           14,
           5,
           18,
           20,
           5,
           3,
           19,
           0,
           0,
           0,
           13,
           18,
           8,
           20,
           19,
           18,
           3,
           19,
           14,
           0,
           5,
           18,
           6,
           3,
           16,
           3,
           18,
           17,
           9,
           15,
           11,
           21,
           2,
           14,
           19,
           13,
           13,
           0,
           9,
           20,
           2,
           0,
           13,
           3,
           5,
           20,
           11,
           15,
           2,
           6,
           20,
           3,
           3
          ],
          "coloraxis": "coloraxis"
         },
         "name": "",
         "type": "parcoords"
        }
       ],
       "layout": {
        "coloraxis": {
         "colorbar": {
          "title": {
           "text": "Region"
          }
         },
         "colorscale": [
          [
           0,
           "#FA0087"
          ],
          [
           0.04,
           "#FBE426"
          ],
          [
           0.08,
           "#B00068"
          ],
          [
           0.12,
           "#FC1CBF"
          ],
          [
           0.16,
           "#C075A6"
          ],
          [
           0.2,
           "#B10DA1"
          ],
          [
           0.24,
           "#2ED9FF"
          ],
          [
           0.28,
           "#1CFFCE"
          ],
          [
           0.32,
           "#F6222E"
          ],
          [
           0.36,
           "#90AD1C"
          ],
          [
           0.4,
           "#F8A19F"
          ],
          [
           0.44,
           "#FEAF16"
          ],
          [
           0.48,
           "#325A9B"
          ],
          [
           0.52,
           "#FE00FA"
          ],
          [
           0.56,
           "#DEA0FD"
          ],
          [
           0.6,
           "#C4451C"
          ],
          [
           0.64,
           "#1CBE4F"
          ],
          [
           0.68,
           "#E2E2E2"
          ],
          [
           0.72,
           "#F7E1A0"
          ],
          [
           0.76,
           "#16FF32"
          ],
          [
           0.8,
           "#1C8356"
          ],
          [
           0.84,
           "#565656"
          ],
          [
           0.88,
           "#782AB6"
          ],
          [
           0.92,
           "#85660D"
          ],
          [
           0.96,
           "#3283FE"
          ],
          [
           1,
           "#AA0DFE"
          ]
         ]
        },
        "legend": {
         "tracegroupgap": 0
        },
        "margin": {
         "t": 60
        },
        "template": {
         "data": {
          "bar": [
           {
            "error_x": {
             "color": "#2a3f5f"
            },
            "error_y": {
             "color": "#2a3f5f"
            },
            "marker": {
             "line": {
              "color": "#E5ECF6",
              "width": 0.5
             },
             "pattern": {
              "fillmode": "overlay",
              "size": 10,
              "solidity": 0.2
             }
            },
            "type": "bar"
           }
          ],
          "barpolar": [
           {
            "marker": {
             "line": {
              "color": "#E5ECF6",
              "width": 0.5
             },
             "pattern": {
              "fillmode": "overlay",
              "size": 10,
              "solidity": 0.2
             }
            },
            "type": "barpolar"
           }
          ],
          "carpet": [
           {
            "aaxis": {
             "endlinecolor": "#2a3f5f",
             "gridcolor": "white",
             "linecolor": "white",
             "minorgridcolor": "white",
             "startlinecolor": "#2a3f5f"
            },
            "baxis": {
             "endlinecolor": "#2a3f5f",
             "gridcolor": "white",
             "linecolor": "white",
             "minorgridcolor": "white",
             "startlinecolor": "#2a3f5f"
            },
            "type": "carpet"
           }
          ],
          "choropleth": [
           {
            "colorbar": {
             "outlinewidth": 0,
             "ticks": ""
            },
            "type": "choropleth"
           }
          ],
          "contour": [
           {
            "colorbar": {
             "outlinewidth": 0,
             "ticks": ""
            },
            "colorscale": [
             [
              0,
              "#0d0887"
             ],
             [
              0.1111111111111111,
              "#46039f"
             ],
             [
              0.2222222222222222,
              "#7201a8"
             ],
             [
              0.3333333333333333,
              "#9c179e"
             ],
             [
              0.4444444444444444,
              "#bd3786"
             ],
             [
              0.5555555555555556,
              "#d8576b"
             ],
             [
              0.6666666666666666,
              "#ed7953"
             ],
             [
              0.7777777777777778,
              "#fb9f3a"
             ],
             [
              0.8888888888888888,
              "#fdca26"
             ],
             [
              1,
              "#f0f921"
             ]
            ],
            "type": "contour"
           }
          ],
          "contourcarpet": [
           {
            "colorbar": {
             "outlinewidth": 0,
             "ticks": ""
            },
            "type": "contourcarpet"
           }
          ],
          "heatmap": [
           {
            "colorbar": {
             "outlinewidth": 0,
             "ticks": ""
            },
            "colorscale": [
             [
              0,
              "#0d0887"
             ],
             [
              0.1111111111111111,
              "#46039f"
             ],
             [
              0.2222222222222222,
              "#7201a8"
             ],
             [
              0.3333333333333333,
              "#9c179e"
             ],
             [
              0.4444444444444444,
              "#bd3786"
             ],
             [
              0.5555555555555556,
              "#d8576b"
             ],
             [
              0.6666666666666666,
              "#ed7953"
             ],
             [
              0.7777777777777778,
              "#fb9f3a"
             ],
             [
              0.8888888888888888,
              "#fdca26"
             ],
             [
              1,
              "#f0f921"
             ]
            ],
            "type": "heatmap"
           }
          ],
          "heatmapgl": [
           {
            "colorbar": {
             "outlinewidth": 0,
             "ticks": ""
            },
            "colorscale": [
             [
              0,
              "#0d0887"
             ],
             [
              0.1111111111111111,
              "#46039f"
             ],
             [
              0.2222222222222222,
              "#7201a8"
             ],
             [
              0.3333333333333333,
              "#9c179e"
             ],
             [
              0.4444444444444444,
              "#bd3786"
             ],
             [
              0.5555555555555556,
              "#d8576b"
             ],
             [
              0.6666666666666666,
              "#ed7953"
             ],
             [
              0.7777777777777778,
              "#fb9f3a"
             ],
             [
              0.8888888888888888,
              "#fdca26"
             ],
             [
              1,
              "#f0f921"
             ]
            ],
            "type": "heatmapgl"
           }
          ],
          "histogram": [
           {
            "marker": {
             "pattern": {
              "fillmode": "overlay",
              "size": 10,
              "solidity": 0.2
             }
            },
            "type": "histogram"
           }
          ],
          "histogram2d": [
           {
            "colorbar": {
             "outlinewidth": 0,
             "ticks": ""
            },
            "colorscale": [
             [
              0,
              "#0d0887"
             ],
             [
              0.1111111111111111,
              "#46039f"
             ],
             [
              0.2222222222222222,
              "#7201a8"
             ],
             [
              0.3333333333333333,
              "#9c179e"
             ],
             [
              0.4444444444444444,
              "#bd3786"
             ],
             [
              0.5555555555555556,
              "#d8576b"
             ],
             [
              0.6666666666666666,
              "#ed7953"
             ],
             [
              0.7777777777777778,
              "#fb9f3a"
             ],
             [
              0.8888888888888888,
              "#fdca26"
             ],
             [
              1,
              "#f0f921"
             ]
            ],
            "type": "histogram2d"
           }
          ],
          "histogram2dcontour": [
           {
            "colorbar": {
             "outlinewidth": 0,
             "ticks": ""
            },
            "colorscale": [
             [
              0,
              "#0d0887"
             ],
             [
              0.1111111111111111,
              "#46039f"
             ],
             [
              0.2222222222222222,
              "#7201a8"
             ],
             [
              0.3333333333333333,
              "#9c179e"
             ],
             [
              0.4444444444444444,
              "#bd3786"
             ],
             [
              0.5555555555555556,
              "#d8576b"
             ],
             [
              0.6666666666666666,
              "#ed7953"
             ],
             [
              0.7777777777777778,
              "#fb9f3a"
             ],
             [
              0.8888888888888888,
              "#fdca26"
             ],
             [
              1,
              "#f0f921"
             ]
            ],
            "type": "histogram2dcontour"
           }
          ],
          "mesh3d": [
           {
            "colorbar": {
             "outlinewidth": 0,
             "ticks": ""
            },
            "type": "mesh3d"
           }
          ],
          "parcoords": [
           {
            "line": {
             "colorbar": {
              "outlinewidth": 0,
              "ticks": ""
             }
            },
            "type": "parcoords"
           }
          ],
          "pie": [
           {
            "automargin": true,
            "type": "pie"
           }
          ],
          "scatter": [
           {
            "fillpattern": {
             "fillmode": "overlay",
             "size": 10,
             "solidity": 0.2
            },
            "type": "scatter"
           }
          ],
          "scatter3d": [
           {
            "line": {
             "colorbar": {
              "outlinewidth": 0,
              "ticks": ""
             }
            },
            "marker": {
             "colorbar": {
              "outlinewidth": 0,
              "ticks": ""
             }
            },
            "type": "scatter3d"
           }
          ],
          "scattercarpet": [
           {
            "marker": {
             "colorbar": {
              "outlinewidth": 0,
              "ticks": ""
             }
            },
            "type": "scattercarpet"
           }
          ],
          "scattergeo": [
           {
            "marker": {
             "colorbar": {
              "outlinewidth": 0,
              "ticks": ""
             }
            },
            "type": "scattergeo"
           }
          ],
          "scattergl": [
           {
            "marker": {
             "colorbar": {
              "outlinewidth": 0,
              "ticks": ""
             }
            },
            "type": "scattergl"
           }
          ],
          "scattermapbox": [
           {
            "marker": {
             "colorbar": {
              "outlinewidth": 0,
              "ticks": ""
             }
            },
            "type": "scattermapbox"
           }
          ],
          "scatterpolar": [
           {
            "marker": {
             "colorbar": {
              "outlinewidth": 0,
              "ticks": ""
             }
            },
            "type": "scatterpolar"
           }
          ],
          "scatterpolargl": [
           {
            "marker": {
             "colorbar": {
              "outlinewidth": 0,
              "ticks": ""
             }
            },
            "type": "scatterpolargl"
           }
          ],
          "scatterternary": [
           {
            "marker": {
             "colorbar": {
              "outlinewidth": 0,
              "ticks": ""
             }
            },
            "type": "scatterternary"
           }
          ],
          "surface": [
           {
            "colorbar": {
             "outlinewidth": 0,
             "ticks": ""
            },
            "colorscale": [
             [
              0,
              "#0d0887"
             ],
             [
              0.1111111111111111,
              "#46039f"
             ],
             [
              0.2222222222222222,
              "#7201a8"
             ],
             [
              0.3333333333333333,
              "#9c179e"
             ],
             [
              0.4444444444444444,
              "#bd3786"
             ],
             [
              0.5555555555555556,
              "#d8576b"
             ],
             [
              0.6666666666666666,
              "#ed7953"
             ],
             [
              0.7777777777777778,
              "#fb9f3a"
             ],
             [
              0.8888888888888888,
              "#fdca26"
             ],
             [
              1,
              "#f0f921"
             ]
            ],
            "type": "surface"
           }
          ],
          "table": [
           {
            "cells": {
             "fill": {
              "color": "#EBF0F8"
             },
             "line": {
              "color": "white"
             }
            },
            "header": {
             "fill": {
              "color": "#C8D4E3"
             },
             "line": {
              "color": "white"
             }
            },
            "type": "table"
           }
          ]
         },
         "layout": {
          "annotationdefaults": {
           "arrowcolor": "#2a3f5f",
           "arrowhead": 0,
           "arrowwidth": 1
          },
          "autotypenumbers": "strict",
          "coloraxis": {
           "colorbar": {
            "outlinewidth": 0,
            "ticks": ""
           }
          },
          "colorscale": {
           "diverging": [
            [
             0,
             "#8e0152"
            ],
            [
             0.1,
             "#c51b7d"
            ],
            [
             0.2,
             "#de77ae"
            ],
            [
             0.3,
             "#f1b6da"
            ],
            [
             0.4,
             "#fde0ef"
            ],
            [
             0.5,
             "#f7f7f7"
            ],
            [
             0.6,
             "#e6f5d0"
            ],
            [
             0.7,
             "#b8e186"
            ],
            [
             0.8,
             "#7fbc41"
            ],
            [
             0.9,
             "#4d9221"
            ],
            [
             1,
             "#276419"
            ]
           ],
           "sequential": [
            [
             0,
             "#0d0887"
            ],
            [
             0.1111111111111111,
             "#46039f"
            ],
            [
             0.2222222222222222,
             "#7201a8"
            ],
            [
             0.3333333333333333,
             "#9c179e"
            ],
            [
             0.4444444444444444,
             "#bd3786"
            ],
            [
             0.5555555555555556,
             "#d8576b"
            ],
            [
             0.6666666666666666,
             "#ed7953"
            ],
            [
             0.7777777777777778,
             "#fb9f3a"
            ],
            [
             0.8888888888888888,
             "#fdca26"
            ],
            [
             1,
             "#f0f921"
            ]
           ],
           "sequentialminus": [
            [
             0,
             "#0d0887"
            ],
            [
             0.1111111111111111,
             "#46039f"
            ],
            [
             0.2222222222222222,
             "#7201a8"
            ],
            [
             0.3333333333333333,
             "#9c179e"
            ],
            [
             0.4444444444444444,
             "#bd3786"
            ],
            [
             0.5555555555555556,
             "#d8576b"
            ],
            [
             0.6666666666666666,
             "#ed7953"
            ],
            [
             0.7777777777777778,
             "#fb9f3a"
            ],
            [
             0.8888888888888888,
             "#fdca26"
            ],
            [
             1,
             "#f0f921"
            ]
           ]
          },
          "colorway": [
           "#636efa",
           "#EF553B",
           "#00cc96",
           "#ab63fa",
           "#FFA15A",
           "#19d3f3",
           "#FF6692",
           "#B6E880",
           "#FF97FF",
           "#FECB52"
          ],
          "font": {
           "color": "#2a3f5f"
          },
          "geo": {
           "bgcolor": "white",
           "lakecolor": "white",
           "landcolor": "#E5ECF6",
           "showlakes": true,
           "showland": true,
           "subunitcolor": "white"
          },
          "hoverlabel": {
           "align": "left"
          },
          "hovermode": "closest",
          "mapbox": {
           "style": "light"
          },
          "paper_bgcolor": "white",
          "plot_bgcolor": "#E5ECF6",
          "polar": {
           "angularaxis": {
            "gridcolor": "white",
            "linecolor": "white",
            "ticks": ""
           },
           "bgcolor": "#E5ECF6",
           "radialaxis": {
            "gridcolor": "white",
            "linecolor": "white",
            "ticks": ""
           }
          },
          "scene": {
           "xaxis": {
            "backgroundcolor": "#E5ECF6",
            "gridcolor": "white",
            "gridwidth": 2,
            "linecolor": "white",
            "showbackground": true,
            "ticks": "",
            "zerolinecolor": "white"
           },
           "yaxis": {
            "backgroundcolor": "#E5ECF6",
            "gridcolor": "white",
            "gridwidth": 2,
            "linecolor": "white",
            "showbackground": true,
            "ticks": "",
            "zerolinecolor": "white"
           },
           "zaxis": {
            "backgroundcolor": "#E5ECF6",
            "gridcolor": "white",
            "gridwidth": 2,
            "linecolor": "white",
            "showbackground": true,
            "ticks": "",
            "zerolinecolor": "white"
           }
          },
          "shapedefaults": {
           "line": {
            "color": "#2a3f5f"
           }
          },
          "ternary": {
           "aaxis": {
            "gridcolor": "white",
            "linecolor": "white",
            "ticks": ""
           },
           "baxis": {
            "gridcolor": "white",
            "linecolor": "white",
            "ticks": ""
           },
           "bgcolor": "#E5ECF6",
           "caxis": {
            "gridcolor": "white",
            "linecolor": "white",
            "ticks": ""
           }
          },
          "title": {
           "x": 0.05
          },
          "xaxis": {
           "automargin": true,
           "gridcolor": "white",
           "linecolor": "white",
           "ticks": "",
           "title": {
            "standoff": 15
           },
           "zerolinecolor": "white",
           "zerolinewidth": 2
          },
          "yaxis": {
           "automargin": true,
           "gridcolor": "white",
           "linecolor": "white",
           "ticks": "",
           "title": {
            "standoff": 15
           },
           "zerolinecolor": "white",
           "zerolinewidth": 2
          }
         }
        }
       }
      }
     },
     "metadata": {},
     "output_type": "display_data"
    }
   ],
   "source": [
    "fig = px.parallel_coordinates(\n",
    "    df.iloc[:, 1:],\n",
    "    color = \"region\",\n",
    "    labels = {\n",
    "        \"total_vaccinations\": \"Total Vaccinations\",\n",
    "        \"population\": \"Population\",\n",
    "        \"gdp\": \"GDP\",\n",
    "        \"region\": \"Region\"\n",
    "    },\n",
    "    color_continuous_scale = px.colors.qualitative.Alphabet_r,\n",
    ")\n",
    "fig.show()"
   ]
  }
 ],
 "metadata": {
  "kernelspec": {
   "display_name": "Python 3.10.4 ('ml')",
   "language": "python",
   "name": "python3"
  },
  "language_info": {
   "codemirror_mode": {
    "name": "ipython",
    "version": 3
   },
   "file_extension": ".py",
   "mimetype": "text/x-python",
   "name": "python",
   "nbconvert_exporter": "python",
   "pygments_lexer": "ipython3",
   "version": "3.10.4"
  },
  "orig_nbformat": 4,
  "vscode": {
   "interpreter": {
    "hash": "b13c84f26b03b81837babb7d6bb182b97bb46d822613cfd30489287e68eae110"
   }
  }
 },
 "nbformat": 4,
 "nbformat_minor": 2
}
