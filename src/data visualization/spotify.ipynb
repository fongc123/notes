{
  "cells": [
    {
      "cell_type": "markdown",
      "metadata": {
        "colab_type": "text",
        "id": "Nk-Ktu_NsIET"
      },
      "source": [
        "# COMP 4462 Data Visualization Tutorial 5: Pandas and Visualization"
      ]
    },
    {
      "cell_type": "markdown",
      "metadata": {
        "colab_type": "text",
        "id": "LlzDz5cHLSn6"
      },
      "source": [
        "In this tutorial, we will learn more about Pandas and Data Visualization with Python.\n",
        "\n",
        "You can view this notebook on Google Colab ([https://bit.ly/vis-t05-nb](https://bit.ly/vis-t05-nb)).\n",
        "\n",
        "All the materials of this tutorial are hosted on [this GitHub repository](https://github.com/leoyuholo/learning-vis-tools/tree/master/tutorial05)."
      ]
    },
    {
      "cell_type": "markdown",
      "metadata": {
        "colab_type": "text",
        "id": "ehZS-giJNFo1"
      },
      "source": [
        "## Dataset"
      ]
    },
    {
      "cell_type": "markdown",
      "metadata": {
        "colab_type": "text",
        "id": "ELejbLsVhztI"
      },
      "source": [
        "### Download dataset"
      ]
    },
    {
      "cell_type": "markdown",
      "metadata": {
        "colab_type": "text",
        "id": "GD1ahcT8ofKW"
      },
      "source": [
        "We will explore the [Spotify\"s Worldwide Daily Song Ranking](https://www.kaggle.com/edumucelli/spotifys-worldwide-daily-song-ranking) prepared by Eduardo on Kaggle.\n",
        "\n",
        "Since the dataset is not tiny enough for the whole class to upload simultaneously, it is shared on Google Drive (https://drive.google.com/open?id=1ki4HKtNKpj-Ewj5RGToXpMrzgXh4ZIbz) and we will download it directly into the Google Colab workspace. The zipped file is about 43MB and the unzipped file contains more than 3 million records and size over 350MB."
      ]
    },
    {
      "cell_type": "markdown",
      "metadata": {
        "colab_type": "text",
        "id": "7Z8Tyo-yl8QZ"
      },
      "source": [
        "Any commands that starts with `!` are shell commands, they are not Python code. Instead, you can run commands like `ls`, `mkdir`, etc. in Jupyter notebook. In the following case, we use `pip`, a command to install Python package, then use the installed package `gdown` to download the file shared on Google Drive. Finally, we unzip the file to obtain the dataset we will use throughout this tutorial."
      ]
    },
    {
      "cell_type": "code",
      "execution_count": 8,
      "metadata": {
        "colab": {
          "base_uri": "https://localhost:8080/",
          "height": 119
        },
        "colab_type": "code",
        "id": "Qv2d-7D1nv9_",
        "outputId": "aae229c5-47d9-4372-e2f3-d56d2996263a"
      },
      "outputs": [],
      "source": [
        "# Download dataset, it will take about 1 min\n",
        "\n",
        "!pip -q install gdown\n",
        "!gdown https://drive.google.com/uc?id=1ki4HKtNKpj-Ewj5RGToXpMrzgXh4ZIbz\n",
        "!unzip spotifys-worldwide-daily-song-ranking.zip"
      ]
    },
    {
      "cell_type": "markdown",
      "metadata": {
        "colab_type": "text",
        "id": "pR6ruOOLrSde"
      },
      "source": [
        "## Explore the dataset with Pandas"
      ]
    },
    {
      "cell_type": "code",
      "execution_count": 9,
      "metadata": {
        "colab": {},
        "colab_type": "code",
        "id": "e4HPIeG1gSvy"
      },
      "outputs": [],
      "source": [
        "# Import pandas\n",
        "\n",
        "import pandas as pd"
      ]
    },
    {
      "cell_type": "code",
      "execution_count": 10,
      "metadata": {
        "colab": {},
        "colab_type": "code",
        "id": "LK-RDdY9gezN"
      },
      "outputs": [],
      "source": [
        "# Since the dataset is about 350MB and contains over 3 million records, it will \n",
        "# take some time to load the dataset\n",
        "\n",
        "df_daily_ranking = pd.read_csv(\"data.csv\")"
      ]
    },
    {
      "cell_type": "code",
      "execution_count": 11,
      "metadata": {
        "colab": {
          "base_uri": "https://localhost:8080/",
          "height": 204
        },
        "colab_type": "code",
        "id": "QtV85dP7goeD",
        "outputId": "34c91cae-83b2-409c-c233-d3ff7c636fbe"
      },
      "outputs": [
        {
          "data": {
            "text/html": [
              "<div>\n",
              "<style scoped>\n",
              "    .dataframe tbody tr th:only-of-type {\n",
              "        vertical-align: middle;\n",
              "    }\n",
              "\n",
              "    .dataframe tbody tr th {\n",
              "        vertical-align: top;\n",
              "    }\n",
              "\n",
              "    .dataframe thead th {\n",
              "        text-align: right;\n",
              "    }\n",
              "</style>\n",
              "<table border=\"1\" class=\"dataframe\">\n",
              "  <thead>\n",
              "    <tr style=\"text-align: right;\">\n",
              "      <th></th>\n",
              "      <th>Position</th>\n",
              "      <th>Track Name</th>\n",
              "      <th>Artist</th>\n",
              "      <th>Streams</th>\n",
              "      <th>URL</th>\n",
              "      <th>Date</th>\n",
              "      <th>Region</th>\n",
              "    </tr>\n",
              "  </thead>\n",
              "  <tbody>\n",
              "    <tr>\n",
              "      <th>0</th>\n",
              "      <td>1</td>\n",
              "      <td>Reggaetón Lento (Bailemos)</td>\n",
              "      <td>CNCO</td>\n",
              "      <td>19272</td>\n",
              "      <td>https://open.spotify.com/track/3AEZUABDXNtecAO...</td>\n",
              "      <td>2017-01-01</td>\n",
              "      <td>ec</td>\n",
              "    </tr>\n",
              "    <tr>\n",
              "      <th>1</th>\n",
              "      <td>2</td>\n",
              "      <td>Chantaje</td>\n",
              "      <td>Shakira</td>\n",
              "      <td>19270</td>\n",
              "      <td>https://open.spotify.com/track/6mICuAdrwEjh6Y6...</td>\n",
              "      <td>2017-01-01</td>\n",
              "      <td>ec</td>\n",
              "    </tr>\n",
              "    <tr>\n",
              "      <th>2</th>\n",
              "      <td>3</td>\n",
              "      <td>Otra Vez (feat. J Balvin)</td>\n",
              "      <td>Zion &amp; Lennox</td>\n",
              "      <td>15761</td>\n",
              "      <td>https://open.spotify.com/track/3QwBODjSEzelZyV...</td>\n",
              "      <td>2017-01-01</td>\n",
              "      <td>ec</td>\n",
              "    </tr>\n",
              "    <tr>\n",
              "      <th>3</th>\n",
              "      <td>4</td>\n",
              "      <td>Vente Pa' Ca</td>\n",
              "      <td>Ricky Martin</td>\n",
              "      <td>14954</td>\n",
              "      <td>https://open.spotify.com/track/7DM4BPaS7uofFul...</td>\n",
              "      <td>2017-01-01</td>\n",
              "      <td>ec</td>\n",
              "    </tr>\n",
              "    <tr>\n",
              "      <th>4</th>\n",
              "      <td>5</td>\n",
              "      <td>Safari</td>\n",
              "      <td>J Balvin</td>\n",
              "      <td>14269</td>\n",
              "      <td>https://open.spotify.com/track/6rQSrBHf7HlZjtc...</td>\n",
              "      <td>2017-01-01</td>\n",
              "      <td>ec</td>\n",
              "    </tr>\n",
              "  </tbody>\n",
              "</table>\n",
              "</div>"
            ],
            "text/plain": [
              "   Position                  Track Name         Artist  Streams  \\\n",
              "0         1  Reggaetón Lento (Bailemos)           CNCO    19272   \n",
              "1         2                    Chantaje        Shakira    19270   \n",
              "2         3   Otra Vez (feat. J Balvin)  Zion & Lennox    15761   \n",
              "3         4                Vente Pa' Ca   Ricky Martin    14954   \n",
              "4         5                      Safari       J Balvin    14269   \n",
              "\n",
              "                                                 URL        Date Region  \n",
              "0  https://open.spotify.com/track/3AEZUABDXNtecAO...  2017-01-01     ec  \n",
              "1  https://open.spotify.com/track/6mICuAdrwEjh6Y6...  2017-01-01     ec  \n",
              "2  https://open.spotify.com/track/3QwBODjSEzelZyV...  2017-01-01     ec  \n",
              "3  https://open.spotify.com/track/7DM4BPaS7uofFul...  2017-01-01     ec  \n",
              "4  https://open.spotify.com/track/6rQSrBHf7HlZjtc...  2017-01-01     ec  "
            ]
          },
          "execution_count": 11,
          "metadata": {},
          "output_type": "execute_result"
        }
      ],
      "source": [
        "# Show the first 5 rows of the data\n",
        "\n",
        "df_daily_ranking.head()"
      ]
    },
    {
      "cell_type": "code",
      "execution_count": 12,
      "metadata": {
        "colab": {
          "base_uri": "https://localhost:8080/",
          "height": 390
        },
        "colab_type": "code",
        "id": "SMuWSLFaDGlz",
        "outputId": "6a54b33e-165b-4632-ae33-b745608b80fa"
      },
      "outputs": [
        {
          "data": {
            "text/html": [
              "<div>\n",
              "<style scoped>\n",
              "    .dataframe tbody tr th:only-of-type {\n",
              "        vertical-align: middle;\n",
              "    }\n",
              "\n",
              "    .dataframe tbody tr th {\n",
              "        vertical-align: top;\n",
              "    }\n",
              "\n",
              "    .dataframe thead th {\n",
              "        text-align: right;\n",
              "    }\n",
              "</style>\n",
              "<table border=\"1\" class=\"dataframe\">\n",
              "  <thead>\n",
              "    <tr style=\"text-align: right;\">\n",
              "      <th></th>\n",
              "      <th>Position</th>\n",
              "      <th>Track Name</th>\n",
              "      <th>Artist</th>\n",
              "      <th>Streams</th>\n",
              "      <th>URL</th>\n",
              "      <th>Date</th>\n",
              "      <th>Region</th>\n",
              "    </tr>\n",
              "  </thead>\n",
              "  <tbody>\n",
              "    <tr>\n",
              "      <th>count</th>\n",
              "      <td>3.441197e+06</td>\n",
              "      <td>3440540</td>\n",
              "      <td>3440540</td>\n",
              "      <td>3.441197e+06</td>\n",
              "      <td>3441189</td>\n",
              "      <td>3441197</td>\n",
              "      <td>3441197</td>\n",
              "    </tr>\n",
              "    <tr>\n",
              "      <th>unique</th>\n",
              "      <td>NaN</td>\n",
              "      <td>18597</td>\n",
              "      <td>6628</td>\n",
              "      <td>NaN</td>\n",
              "      <td>21746</td>\n",
              "      <td>371</td>\n",
              "      <td>54</td>\n",
              "    </tr>\n",
              "    <tr>\n",
              "      <th>top</th>\n",
              "      <td>NaN</td>\n",
              "      <td>Shape of You</td>\n",
              "      <td>Ed Sheeran</td>\n",
              "      <td>NaN</td>\n",
              "      <td>https://open.spotify.com/track/7qiZfU4dY1lWllz...</td>\n",
              "      <td>2017-12-24</td>\n",
              "      <td>ec</td>\n",
              "    </tr>\n",
              "    <tr>\n",
              "      <th>freq</th>\n",
              "      <td>NaN</td>\n",
              "      <td>19365</td>\n",
              "      <td>127064</td>\n",
              "      <td>NaN</td>\n",
              "      <td>19365</td>\n",
              "      <td>10073</td>\n",
              "      <td>74200</td>\n",
              "    </tr>\n",
              "    <tr>\n",
              "      <th>mean</th>\n",
              "      <td>9.464399e+01</td>\n",
              "      <td>NaN</td>\n",
              "      <td>NaN</td>\n",
              "      <td>5.189176e+04</td>\n",
              "      <td>NaN</td>\n",
              "      <td>NaN</td>\n",
              "      <td>NaN</td>\n",
              "    </tr>\n",
              "    <tr>\n",
              "      <th>std</th>\n",
              "      <td>5.739567e+01</td>\n",
              "      <td>NaN</td>\n",
              "      <td>NaN</td>\n",
              "      <td>2.018035e+05</td>\n",
              "      <td>NaN</td>\n",
              "      <td>NaN</td>\n",
              "      <td>NaN</td>\n",
              "    </tr>\n",
              "    <tr>\n",
              "      <th>min</th>\n",
              "      <td>1.000000e+00</td>\n",
              "      <td>NaN</td>\n",
              "      <td>NaN</td>\n",
              "      <td>1.001000e+03</td>\n",
              "      <td>NaN</td>\n",
              "      <td>NaN</td>\n",
              "      <td>NaN</td>\n",
              "    </tr>\n",
              "    <tr>\n",
              "      <th>25%</th>\n",
              "      <td>4.500000e+01</td>\n",
              "      <td>NaN</td>\n",
              "      <td>NaN</td>\n",
              "      <td>3.322000e+03</td>\n",
              "      <td>NaN</td>\n",
              "      <td>NaN</td>\n",
              "      <td>NaN</td>\n",
              "    </tr>\n",
              "    <tr>\n",
              "      <th>50%</th>\n",
              "      <td>9.200000e+01</td>\n",
              "      <td>NaN</td>\n",
              "      <td>NaN</td>\n",
              "      <td>9.227000e+03</td>\n",
              "      <td>NaN</td>\n",
              "      <td>NaN</td>\n",
              "      <td>NaN</td>\n",
              "    </tr>\n",
              "    <tr>\n",
              "      <th>75%</th>\n",
              "      <td>1.430000e+02</td>\n",
              "      <td>NaN</td>\n",
              "      <td>NaN</td>\n",
              "      <td>2.965800e+04</td>\n",
              "      <td>NaN</td>\n",
              "      <td>NaN</td>\n",
              "      <td>NaN</td>\n",
              "    </tr>\n",
              "    <tr>\n",
              "      <th>max</th>\n",
              "      <td>2.000000e+02</td>\n",
              "      <td>NaN</td>\n",
              "      <td>NaN</td>\n",
              "      <td>1.138152e+07</td>\n",
              "      <td>NaN</td>\n",
              "      <td>NaN</td>\n",
              "      <td>NaN</td>\n",
              "    </tr>\n",
              "  </tbody>\n",
              "</table>\n",
              "</div>"
            ],
            "text/plain": [
              "            Position    Track Name      Artist       Streams  \\\n",
              "count   3.441197e+06       3440540     3440540  3.441197e+06   \n",
              "unique           NaN         18597        6628           NaN   \n",
              "top              NaN  Shape of You  Ed Sheeran           NaN   \n",
              "freq             NaN         19365      127064           NaN   \n",
              "mean    9.464399e+01           NaN         NaN  5.189176e+04   \n",
              "std     5.739567e+01           NaN         NaN  2.018035e+05   \n",
              "min     1.000000e+00           NaN         NaN  1.001000e+03   \n",
              "25%     4.500000e+01           NaN         NaN  3.322000e+03   \n",
              "50%     9.200000e+01           NaN         NaN  9.227000e+03   \n",
              "75%     1.430000e+02           NaN         NaN  2.965800e+04   \n",
              "max     2.000000e+02           NaN         NaN  1.138152e+07   \n",
              "\n",
              "                                                      URL        Date   Region  \n",
              "count                                             3441189     3441197  3441197  \n",
              "unique                                              21746         371       54  \n",
              "top     https://open.spotify.com/track/7qiZfU4dY1lWllz...  2017-12-24       ec  \n",
              "freq                                                19365       10073    74200  \n",
              "mean                                                  NaN         NaN      NaN  \n",
              "std                                                   NaN         NaN      NaN  \n",
              "min                                                   NaN         NaN      NaN  \n",
              "25%                                                   NaN         NaN      NaN  \n",
              "50%                                                   NaN         NaN      NaN  \n",
              "75%                                                   NaN         NaN      NaN  \n",
              "max                                                   NaN         NaN      NaN  "
            ]
          },
          "execution_count": 12,
          "metadata": {},
          "output_type": "execute_result"
        }
      ],
      "source": [
        "# Compute the statistical summary of all the columns\n",
        "\n",
        "df_daily_ranking.describe(include=\"all\")"
      ]
    },
    {
      "cell_type": "markdown",
      "metadata": {
        "colab_type": "text",
        "id": "E__YVNL2kVL4"
      },
      "source": [
        "## Clean up"
      ]
    },
    {
      "cell_type": "markdown",
      "metadata": {
        "colab_type": "text",
        "id": "aNaf95I4tYpf"
      },
      "source": [
        "### See if any rows contain null"
      ]
    },
    {
      "cell_type": "code",
      "execution_count": 13,
      "metadata": {
        "colab": {
          "base_uri": "https://localhost:8080/",
          "height": 204
        },
        "colab_type": "code",
        "id": "Hb316jKEtm6E",
        "outputId": "54bf4bf4-2697-4628-8a30-667b0732ff6d"
      },
      "outputs": [
        {
          "data": {
            "text/html": [
              "<div>\n",
              "<style scoped>\n",
              "    .dataframe tbody tr th:only-of-type {\n",
              "        vertical-align: middle;\n",
              "    }\n",
              "\n",
              "    .dataframe tbody tr th {\n",
              "        vertical-align: top;\n",
              "    }\n",
              "\n",
              "    .dataframe thead th {\n",
              "        text-align: right;\n",
              "    }\n",
              "</style>\n",
              "<table border=\"1\" class=\"dataframe\">\n",
              "  <thead>\n",
              "    <tr style=\"text-align: right;\">\n",
              "      <th></th>\n",
              "      <th>Position</th>\n",
              "      <th>Track Name</th>\n",
              "      <th>Artist</th>\n",
              "      <th>Streams</th>\n",
              "      <th>URL</th>\n",
              "      <th>Date</th>\n",
              "      <th>Region</th>\n",
              "    </tr>\n",
              "  </thead>\n",
              "  <tbody>\n",
              "    <tr>\n",
              "      <th>39428</th>\n",
              "      <td>29</td>\n",
              "      <td>NaN</td>\n",
              "      <td>NaN</td>\n",
              "      <td>7362</td>\n",
              "      <td>https://open.spotify.com/track/3RXkboS74UYzN14...</td>\n",
              "      <td>2017-07-20</td>\n",
              "      <td>ec</td>\n",
              "    </tr>\n",
              "    <tr>\n",
              "      <th>39456</th>\n",
              "      <td>57</td>\n",
              "      <td>NaN</td>\n",
              "      <td>NaN</td>\n",
              "      <td>4426</td>\n",
              "      <td>https://open.spotify.com/track/4JAyIDXOqNM6qHu...</td>\n",
              "      <td>2017-07-20</td>\n",
              "      <td>ec</td>\n",
              "    </tr>\n",
              "    <tr>\n",
              "      <th>39463</th>\n",
              "      <td>64</td>\n",
              "      <td>NaN</td>\n",
              "      <td>NaN</td>\n",
              "      <td>4069</td>\n",
              "      <td>https://open.spotify.com/track/3bVbQvGVIe4n24A...</td>\n",
              "      <td>2017-07-20</td>\n",
              "      <td>ec</td>\n",
              "    </tr>\n",
              "    <tr>\n",
              "      <th>39490</th>\n",
              "      <td>91</td>\n",
              "      <td>NaN</td>\n",
              "      <td>NaN</td>\n",
              "      <td>3238</td>\n",
              "      <td>https://open.spotify.com/track/3eFJqPe8VUYrABb...</td>\n",
              "      <td>2017-07-20</td>\n",
              "      <td>ec</td>\n",
              "    </tr>\n",
              "    <tr>\n",
              "      <th>39631</th>\n",
              "      <td>32</td>\n",
              "      <td>NaN</td>\n",
              "      <td>NaN</td>\n",
              "      <td>7409</td>\n",
              "      <td>https://open.spotify.com/track/3RXkboS74UYzN14...</td>\n",
              "      <td>2017-07-21</td>\n",
              "      <td>ec</td>\n",
              "    </tr>\n",
              "  </tbody>\n",
              "</table>\n",
              "</div>"
            ],
            "text/plain": [
              "       Position Track Name Artist  Streams  \\\n",
              "39428        29        NaN    NaN     7362   \n",
              "39456        57        NaN    NaN     4426   \n",
              "39463        64        NaN    NaN     4069   \n",
              "39490        91        NaN    NaN     3238   \n",
              "39631        32        NaN    NaN     7409   \n",
              "\n",
              "                                                     URL        Date Region  \n",
              "39428  https://open.spotify.com/track/3RXkboS74UYzN14...  2017-07-20     ec  \n",
              "39456  https://open.spotify.com/track/4JAyIDXOqNM6qHu...  2017-07-20     ec  \n",
              "39463  https://open.spotify.com/track/3bVbQvGVIe4n24A...  2017-07-20     ec  \n",
              "39490  https://open.spotify.com/track/3eFJqPe8VUYrABb...  2017-07-20     ec  \n",
              "39631  https://open.spotify.com/track/3RXkboS74UYzN14...  2017-07-21     ec  "
            ]
          },
          "execution_count": 13,
          "metadata": {},
          "output_type": "execute_result"
        }
      ],
      "source": [
        "# Show 5 rows that contain null in any columns\n",
        "# We will revisit the this selector syntax later\n",
        "\n",
        "df_daily_ranking[df_daily_ranking.isnull().any(axis=1)].head()"
      ]
    },
    {
      "cell_type": "code",
      "execution_count": 14,
      "metadata": {
        "colab": {
          "base_uri": "https://localhost:8080/",
          "height": 153
        },
        "colab_type": "code",
        "id": "Azq9MLSZtugN",
        "outputId": "d9f8ce3b-9529-4dfa-a3a4-b6c001bda602"
      },
      "outputs": [
        {
          "data": {
            "text/plain": [
              "Position        0\n",
              "Track Name    657\n",
              "Artist        657\n",
              "Streams         0\n",
              "URL             8\n",
              "Date            0\n",
              "Region          0\n",
              "dtype: int64"
            ]
          },
          "execution_count": 14,
          "metadata": {},
          "output_type": "execute_result"
        }
      ],
      "source": [
        "# Counting how many records have null values, for each column\n",
        "\n",
        "df_daily_ranking.isnull().sum()"
      ]
    },
    {
      "cell_type": "markdown",
      "metadata": {
        "colab_type": "text",
        "id": "F-wDcQ5AtyqB"
      },
      "source": [
        "### Drop the null rows"
      ]
    },
    {
      "cell_type": "code",
      "execution_count": 15,
      "metadata": {
        "colab": {},
        "colab_type": "code",
        "id": "RW00QwUit4aU"
      },
      "outputs": [],
      "source": [
        "# Drop all the rows that contain any null values\n",
        "# Inplace avoid copying the whole dataframe, computationally faster\n",
        "\n",
        "df_daily_ranking.dropna(inplace=True)"
      ]
    },
    {
      "cell_type": "markdown",
      "metadata": {
        "colab_type": "text",
        "id": "WYwneNzUZZ4P"
      },
      "source": [
        "### Separate \"global\" from the rest"
      ]
    },
    {
      "cell_type": "markdown",
      "metadata": {
        "colab_type": "text",
        "id": "24U3dT0ZZ6Tr"
      },
      "source": [
        "In the dataset, there is a region \"global\", which is the sum of all the streams all over the world. It overlaps with other regions, treating it as equally as a region will cause \"double count\", so we separate it out."
      ]
    },
    {
      "cell_type": "code",
      "execution_count": 16,
      "metadata": {
        "colab": {},
        "colab_type": "code",
        "id": "kg6W4YXPZfm9"
      },
      "outputs": [],
      "source": [
        "df_daily_ranking_global = df_daily_ranking[df_daily_ranking['Region'] == 'global']\n",
        "df_daily_ranking = df_daily_ranking[df_daily_ranking['Region'] != 'global']"
      ]
    },
    {
      "cell_type": "markdown",
      "metadata": {
        "colab_type": "text",
        "id": "CQyRr5dK2df1"
      },
      "source": [
        "## Aggregate"
      ]
    },
    {
      "cell_type": "markdown",
      "metadata": {
        "colab_type": "text",
        "id": "UQF2GueKs-6s"
      },
      "source": [
        "### Top artists of the year"
      ]
    },
    {
      "cell_type": "code",
      "execution_count": 17,
      "metadata": {
        "colab": {
          "base_uri": "https://localhost:8080/",
          "height": 34
        },
        "colab_type": "code",
        "id": "wr4QS_VBlzJk",
        "outputId": "5fda7d7d-a673-4d9f-b925-3f1ee89d6228"
      },
      "outputs": [
        {
          "data": {
            "text/plain": [
              "6628"
            ]
          },
          "execution_count": 17,
          "metadata": {},
          "output_type": "execute_result"
        }
      ],
      "source": [
        "# Count how many unique artists in the dataset\n",
        "\n",
        "df_daily_ranking[\"Artist\"].nunique()"
      ]
    },
    {
      "cell_type": "markdown",
      "metadata": {
        "colab_type": "text",
        "id": "1Q4b1BSMnaps"
      },
      "source": [
        "The following command has multiple components, `groupby`, `sum`, `sort_values`, column selection and `head`, we look into it one by one:\n",
        "\n",
        "- `groupby`: This is like splitting the whole dataset by the \"Artist\" of each row, resulting in 6628 groups.\n",
        "- `sum`: As there are multiple rows in each group of 6628 groups, this command sums up the values of each group. In our case, it sums up the \"Streams\" column of each row in each group.\n",
        "- `sort_values`: After summing up, each group becomes one row of record, that is 6628 rows now. This command sort these 6628 rows by their value in \"Streams\" in descending order.\n",
        "- select the \"Streams\" column: This is like ignoring other columns and only show us the \"Streams\" column alongside with the index column (which is the column used in the `groupby` command).\n",
        "- `head`: Show the first 5 rows"
      ]
    },
    {
      "cell_type": "code",
      "execution_count": 18,
      "metadata": {
        "colab": {
          "base_uri": "https://localhost:8080/",
          "height": 136
        },
        "colab_type": "code",
        "id": "L0E8SXt3tID7",
        "outputId": "296547e6-1d2f-423e-cb7c-c48ae09bcf7d"
      },
      "outputs": [
        {
          "data": {
            "text/plain": [
              "Artist\n",
              "Ed Sheeran          4353885528\n",
              "Drake               2285102445\n",
              "The Chainsmokers    2081716050\n",
              "Post Malone         1865412162\n",
              "Luis Fonsi          1760377876\n",
              "Name: Streams, dtype: int64"
            ]
          },
          "execution_count": 18,
          "metadata": {},
          "output_type": "execute_result"
        }
      ],
      "source": [
        "# Show the top 5 artists of the year\n",
        "\n",
        "df_daily_ranking.groupby(\"Artist\").sum().sort_values(\"Streams\", ascending=False)[\"Streams\"].head()"
      ]
    },
    {
      "cell_type": "markdown",
      "metadata": {
        "colab_type": "text",
        "id": "hYxQw6zWtClr"
      },
      "source": [
        "### Top songs of the year"
      ]
    },
    {
      "cell_type": "code",
      "execution_count": 19,
      "metadata": {
        "colab": {},
        "colab_type": "code",
        "id": "BMyzgWNgtIw_"
      },
      "outputs": [
        {
          "data": {
            "text/plain": [
              "Track Name\n",
              "Shape of You                          1503176575\n",
              "Despacito - Remix                      910422437\n",
              "Despacito (Featuring Daddy Yankee)     717960928\n",
              "Something Just Like This               693853930\n",
              "Unforgettable                          688520127\n",
              "Name: Streams, dtype: int64"
            ]
          },
          "execution_count": 19,
          "metadata": {},
          "output_type": "execute_result"
        }
      ],
      "source": [
        "################################################################################\n",
        "# TODO:                                                                        #\n",
        "# Try to show the top 5 songs of the year!                                     #\n",
        "################################################################################\n",
        "\n",
        "df_daily_ranking.groupby(\"Track Name\").sum().sort_values(\"Streams\", ascending=False)[\"Streams\"].head()\n",
        "\n",
        "################################################################################\n",
        "#                                 END OF YOUR CODE                             #\n",
        "################################################################################"
      ]
    },
    {
      "cell_type": "markdown",
      "metadata": {
        "colab_type": "text",
        "id": "jjtSlfp02hoj"
      },
      "source": [
        "## Filter"
      ]
    },
    {
      "cell_type": "markdown",
      "metadata": {
        "colab_type": "text",
        "id": "VhaiweXHplu5"
      },
      "source": [
        "### Top song of the year in US"
      ]
    },
    {
      "cell_type": "markdown",
      "metadata": {
        "colab_type": "text",
        "id": "ilRLJULFp_nZ"
      },
      "source": [
        "The square brackets of pandas have multiple usage, it is sometimes even confusing. For now, we look into using it as column selection and filtering.\n",
        "\n",
        "If the value inside the brackets is a string, it will select the column, just like `df_daily_ranking[\"Region\"]` will return a column.\n",
        "\n",
        "If the value inside the brackets is an array of boolean values, it will return only the `True` rows.\n",
        "\n",
        "Let\"s see an example!"
      ]
    },
    {
      "cell_type": "code",
      "execution_count": 20,
      "metadata": {
        "colab": {
          "base_uri": "https://localhost:8080/",
          "height": 359
        },
        "colab_type": "code",
        "id": "9Y5iNMQbqUDR",
        "outputId": "0b209517-6737-4cb0-fcb5-adb9641d164e"
      },
      "outputs": [
        {
          "data": {
            "text/html": [
              "<div>\n",
              "<style scoped>\n",
              "    .dataframe tbody tr th:only-of-type {\n",
              "        vertical-align: middle;\n",
              "    }\n",
              "\n",
              "    .dataframe tbody tr th {\n",
              "        vertical-align: top;\n",
              "    }\n",
              "\n",
              "    .dataframe thead th {\n",
              "        text-align: right;\n",
              "    }\n",
              "</style>\n",
              "<table border=\"1\" class=\"dataframe\">\n",
              "  <thead>\n",
              "    <tr style=\"text-align: right;\">\n",
              "      <th></th>\n",
              "      <th>Position</th>\n",
              "      <th>Track Name</th>\n",
              "      <th>Artist</th>\n",
              "      <th>Streams</th>\n",
              "      <th>URL</th>\n",
              "      <th>Date</th>\n",
              "      <th>Region</th>\n",
              "    </tr>\n",
              "  </thead>\n",
              "  <tbody>\n",
              "    <tr>\n",
              "      <th>771622</th>\n",
              "      <td>1</td>\n",
              "      <td>Bad and Boujee (feat. Lil Uzi Vert)</td>\n",
              "      <td>Migos</td>\n",
              "      <td>1371493</td>\n",
              "      <td>https://open.spotify.com/track/4Km5HrUvYTaSUfi...</td>\n",
              "      <td>2017-01-01</td>\n",
              "      <td>us</td>\n",
              "    </tr>\n",
              "    <tr>\n",
              "      <th>771623</th>\n",
              "      <td>2</td>\n",
              "      <td>Fake Love</td>\n",
              "      <td>Drake</td>\n",
              "      <td>1180074</td>\n",
              "      <td>https://open.spotify.com/track/343YBumqHu19cGo...</td>\n",
              "      <td>2017-01-01</td>\n",
              "      <td>us</td>\n",
              "    </tr>\n",
              "    <tr>\n",
              "      <th>771624</th>\n",
              "      <td>3</td>\n",
              "      <td>Starboy</td>\n",
              "      <td>The Weeknd</td>\n",
              "      <td>1064351</td>\n",
              "      <td>https://open.spotify.com/track/5aAx2yezTd8zXrk...</td>\n",
              "      <td>2017-01-01</td>\n",
              "      <td>us</td>\n",
              "    </tr>\n",
              "    <tr>\n",
              "      <th>771625</th>\n",
              "      <td>4</td>\n",
              "      <td>Closer</td>\n",
              "      <td>The Chainsmokers</td>\n",
              "      <td>1010492</td>\n",
              "      <td>https://open.spotify.com/track/7BKLCZ1jbUBVqRi...</td>\n",
              "      <td>2017-01-01</td>\n",
              "      <td>us</td>\n",
              "    </tr>\n",
              "    <tr>\n",
              "      <th>771626</th>\n",
              "      <td>5</td>\n",
              "      <td>Black Beatles</td>\n",
              "      <td>Rae Sremmurd</td>\n",
              "      <td>874289</td>\n",
              "      <td>https://open.spotify.com/track/6fujklziTHa8uoM...</td>\n",
              "      <td>2017-01-01</td>\n",
              "      <td>us</td>\n",
              "    </tr>\n",
              "    <tr>\n",
              "      <th>3366997</th>\n",
              "      <td>1</td>\n",
              "      <td>Closer</td>\n",
              "      <td>The Chainsmokers</td>\n",
              "      <td>12831</td>\n",
              "      <td>https://open.spotify.com/track/7BKLCZ1jbUBVqRi...</td>\n",
              "      <td>2017-01-01</td>\n",
              "      <td>hk</td>\n",
              "    </tr>\n",
              "    <tr>\n",
              "      <th>3366998</th>\n",
              "      <td>2</td>\n",
              "      <td>Starboy</td>\n",
              "      <td>The Weeknd</td>\n",
              "      <td>9626</td>\n",
              "      <td>https://open.spotify.com/track/5aAx2yezTd8zXrk...</td>\n",
              "      <td>2017-01-01</td>\n",
              "      <td>hk</td>\n",
              "    </tr>\n",
              "    <tr>\n",
              "      <th>3366999</th>\n",
              "      <td>3</td>\n",
              "      <td>Let Me Love You</td>\n",
              "      <td>DJ Snake</td>\n",
              "      <td>9499</td>\n",
              "      <td>https://open.spotify.com/track/4pdPtRcBmOSQDlJ...</td>\n",
              "      <td>2017-01-01</td>\n",
              "      <td>hk</td>\n",
              "    </tr>\n",
              "    <tr>\n",
              "      <th>3367000</th>\n",
              "      <td>4</td>\n",
              "      <td>I Don’t Wanna Live Forever (Fifty Shades Darke...</td>\n",
              "      <td>ZAYN</td>\n",
              "      <td>8210</td>\n",
              "      <td>https://open.spotify.com/track/3NdDpSvN911VPGi...</td>\n",
              "      <td>2017-01-01</td>\n",
              "      <td>hk</td>\n",
              "    </tr>\n",
              "    <tr>\n",
              "      <th>3367001</th>\n",
              "      <td>5</td>\n",
              "      <td>Don't Wanna Know</td>\n",
              "      <td>Maroon 5</td>\n",
              "      <td>7606</td>\n",
              "      <td>https://open.spotify.com/track/5MFzQMkrl1FOOng...</td>\n",
              "      <td>2017-01-01</td>\n",
              "      <td>hk</td>\n",
              "    </tr>\n",
              "  </tbody>\n",
              "</table>\n",
              "</div>"
            ],
            "text/plain": [
              "         Position                                         Track Name  \\\n",
              "771622          1                Bad and Boujee (feat. Lil Uzi Vert)   \n",
              "771623          2                                          Fake Love   \n",
              "771624          3                                            Starboy   \n",
              "771625          4                                             Closer   \n",
              "771626          5                                      Black Beatles   \n",
              "3366997         1                                             Closer   \n",
              "3366998         2                                            Starboy   \n",
              "3366999         3                                    Let Me Love You   \n",
              "3367000         4  I Don’t Wanna Live Forever (Fifty Shades Darke...   \n",
              "3367001         5                                   Don't Wanna Know   \n",
              "\n",
              "                   Artist  Streams  \\\n",
              "771622              Migos  1371493   \n",
              "771623              Drake  1180074   \n",
              "771624         The Weeknd  1064351   \n",
              "771625   The Chainsmokers  1010492   \n",
              "771626       Rae Sremmurd   874289   \n",
              "3366997  The Chainsmokers    12831   \n",
              "3366998        The Weeknd     9626   \n",
              "3366999          DJ Snake     9499   \n",
              "3367000              ZAYN     8210   \n",
              "3367001          Maroon 5     7606   \n",
              "\n",
              "                                                       URL        Date Region  \n",
              "771622   https://open.spotify.com/track/4Km5HrUvYTaSUfi...  2017-01-01     us  \n",
              "771623   https://open.spotify.com/track/343YBumqHu19cGo...  2017-01-01     us  \n",
              "771624   https://open.spotify.com/track/5aAx2yezTd8zXrk...  2017-01-01     us  \n",
              "771625   https://open.spotify.com/track/7BKLCZ1jbUBVqRi...  2017-01-01     us  \n",
              "771626   https://open.spotify.com/track/6fujklziTHa8uoM...  2017-01-01     us  \n",
              "3366997  https://open.spotify.com/track/7BKLCZ1jbUBVqRi...  2017-01-01     hk  \n",
              "3366998  https://open.spotify.com/track/5aAx2yezTd8zXrk...  2017-01-01     hk  \n",
              "3366999  https://open.spotify.com/track/4pdPtRcBmOSQDlJ...  2017-01-01     hk  \n",
              "3367000  https://open.spotify.com/track/3NdDpSvN911VPGi...  2017-01-01     hk  \n",
              "3367001  https://open.spotify.com/track/5MFzQMkrl1FOOng...  2017-01-01     hk  "
            ]
          },
          "execution_count": 20,
          "metadata": {},
          "output_type": "execute_result"
        }
      ],
      "source": [
        "# Ignore the code below at the moment, all we care is \"df_sample\" now contains \n",
        "# 10 rows, and 5 are in Region \"us\" and 5 in Region \"hk\"\n",
        "\n",
        "df_sample = pd.concat([df_daily_ranking[df_daily_ranking[\"Region\"] == \"us\"].head(), df_daily_ranking[df_daily_ranking[\"Region\"] == \"hk\"].head()])\n",
        "df_sample"
      ]
    },
    {
      "cell_type": "code",
      "execution_count": 21,
      "metadata": {
        "colab": {
          "base_uri": "https://localhost:8080/",
          "height": 204
        },
        "colab_type": "code",
        "id": "hvUHgzNyrTaf",
        "outputId": "36086789-37c1-4e91-e9ac-709b231b4471"
      },
      "outputs": [
        {
          "data": {
            "text/plain": [
              "771622      True\n",
              "771623      True\n",
              "771624      True\n",
              "771625      True\n",
              "771626      True\n",
              "3366997    False\n",
              "3366998    False\n",
              "3366999    False\n",
              "3367000    False\n",
              "3367001    False\n",
              "Name: Region, dtype: bool"
            ]
          },
          "execution_count": 21,
          "metadata": {},
          "output_type": "execute_result"
        }
      ],
      "source": [
        "# To see how filter works, we now see how the \"==\" operator works\n",
        "\n",
        "df_sample[\"Region\"] == \"us\""
      ]
    },
    {
      "cell_type": "markdown",
      "metadata": {
        "colab_type": "text",
        "id": "08Vg65J6riZq"
      },
      "source": [
        "While the left column is the row id, the right column is the truth value of whether the row has \"Region\" equals \"us\". By passing this array into the dataframe, it will filter out only the rows marked as `True`, that is the first 5 rows."
      ]
    },
    {
      "cell_type": "code",
      "execution_count": 22,
      "metadata": {
        "colab": {
          "base_uri": "https://localhost:8080/",
          "height": 204
        },
        "colab_type": "code",
        "id": "DrZlsveUrz3u",
        "outputId": "8ac0afac-89db-473b-c2de-fdd3b50e26e6"
      },
      "outputs": [
        {
          "data": {
            "text/html": [
              "<div>\n",
              "<style scoped>\n",
              "    .dataframe tbody tr th:only-of-type {\n",
              "        vertical-align: middle;\n",
              "    }\n",
              "\n",
              "    .dataframe tbody tr th {\n",
              "        vertical-align: top;\n",
              "    }\n",
              "\n",
              "    .dataframe thead th {\n",
              "        text-align: right;\n",
              "    }\n",
              "</style>\n",
              "<table border=\"1\" class=\"dataframe\">\n",
              "  <thead>\n",
              "    <tr style=\"text-align: right;\">\n",
              "      <th></th>\n",
              "      <th>Position</th>\n",
              "      <th>Track Name</th>\n",
              "      <th>Artist</th>\n",
              "      <th>Streams</th>\n",
              "      <th>URL</th>\n",
              "      <th>Date</th>\n",
              "      <th>Region</th>\n",
              "    </tr>\n",
              "  </thead>\n",
              "  <tbody>\n",
              "    <tr>\n",
              "      <th>771622</th>\n",
              "      <td>1</td>\n",
              "      <td>Bad and Boujee (feat. Lil Uzi Vert)</td>\n",
              "      <td>Migos</td>\n",
              "      <td>1371493</td>\n",
              "      <td>https://open.spotify.com/track/4Km5HrUvYTaSUfi...</td>\n",
              "      <td>2017-01-01</td>\n",
              "      <td>us</td>\n",
              "    </tr>\n",
              "    <tr>\n",
              "      <th>771623</th>\n",
              "      <td>2</td>\n",
              "      <td>Fake Love</td>\n",
              "      <td>Drake</td>\n",
              "      <td>1180074</td>\n",
              "      <td>https://open.spotify.com/track/343YBumqHu19cGo...</td>\n",
              "      <td>2017-01-01</td>\n",
              "      <td>us</td>\n",
              "    </tr>\n",
              "    <tr>\n",
              "      <th>771624</th>\n",
              "      <td>3</td>\n",
              "      <td>Starboy</td>\n",
              "      <td>The Weeknd</td>\n",
              "      <td>1064351</td>\n",
              "      <td>https://open.spotify.com/track/5aAx2yezTd8zXrk...</td>\n",
              "      <td>2017-01-01</td>\n",
              "      <td>us</td>\n",
              "    </tr>\n",
              "    <tr>\n",
              "      <th>771625</th>\n",
              "      <td>4</td>\n",
              "      <td>Closer</td>\n",
              "      <td>The Chainsmokers</td>\n",
              "      <td>1010492</td>\n",
              "      <td>https://open.spotify.com/track/7BKLCZ1jbUBVqRi...</td>\n",
              "      <td>2017-01-01</td>\n",
              "      <td>us</td>\n",
              "    </tr>\n",
              "    <tr>\n",
              "      <th>771626</th>\n",
              "      <td>5</td>\n",
              "      <td>Black Beatles</td>\n",
              "      <td>Rae Sremmurd</td>\n",
              "      <td>874289</td>\n",
              "      <td>https://open.spotify.com/track/6fujklziTHa8uoM...</td>\n",
              "      <td>2017-01-01</td>\n",
              "      <td>us</td>\n",
              "    </tr>\n",
              "  </tbody>\n",
              "</table>\n",
              "</div>"
            ],
            "text/plain": [
              "        Position                           Track Name            Artist  \\\n",
              "771622         1  Bad and Boujee (feat. Lil Uzi Vert)             Migos   \n",
              "771623         2                            Fake Love             Drake   \n",
              "771624         3                              Starboy        The Weeknd   \n",
              "771625         4                               Closer  The Chainsmokers   \n",
              "771626         5                        Black Beatles      Rae Sremmurd   \n",
              "\n",
              "        Streams                                                URL  \\\n",
              "771622  1371493  https://open.spotify.com/track/4Km5HrUvYTaSUfi...   \n",
              "771623  1180074  https://open.spotify.com/track/343YBumqHu19cGo...   \n",
              "771624  1064351  https://open.spotify.com/track/5aAx2yezTd8zXrk...   \n",
              "771625  1010492  https://open.spotify.com/track/7BKLCZ1jbUBVqRi...   \n",
              "771626   874289  https://open.spotify.com/track/6fujklziTHa8uoM...   \n",
              "\n",
              "              Date Region  \n",
              "771622  2017-01-01     us  \n",
              "771623  2017-01-01     us  \n",
              "771624  2017-01-01     us  \n",
              "771625  2017-01-01     us  \n",
              "771626  2017-01-01     us  "
            ]
          },
          "execution_count": 22,
          "metadata": {},
          "output_type": "execute_result"
        }
      ],
      "source": [
        "# Only keep rows with \"Region\" equals \"us\"\n",
        "\n",
        "df_sample[df_sample[\"Region\"] == \"us\"]"
      ]
    },
    {
      "cell_type": "code",
      "execution_count": 23,
      "metadata": {
        "colab": {
          "base_uri": "https://localhost:8080/",
          "height": 136
        },
        "colab_type": "code",
        "id": "hdbu7fGcppbS",
        "outputId": "0f2736e0-d0a5-4ac1-dbba-04a6f346c61d"
      },
      "outputs": [
        {
          "data": {
            "text/plain": [
              "Artist\n",
              "Drake             1250864578\n",
              "Kendrick Lamar    1163890899\n",
              "Post Malone        988811897\n",
              "Lil Uzi Vert       773675118\n",
              "Ed Sheeran         723507889\n",
              "Name: Streams, dtype: int64"
            ]
          },
          "execution_count": 23,
          "metadata": {},
          "output_type": "execute_result"
        }
      ],
      "source": [
        "# By applying the same logic, we filter the whole dataset\n",
        "\n",
        "df_daily_ranking_in_us = df_daily_ranking[df_daily_ranking[\"Region\"] == \"us\"]\n",
        "\n",
        "# Then, do the aggregation and find out the top songs in US\n",
        "\n",
        "df_daily_ranking_in_us.groupby(\"Artist\").sum().sort_values(\"Streams\", ascending=False)[\"Streams\"].head()"
      ]
    },
    {
      "cell_type": "markdown",
      "metadata": {
        "colab_type": "text",
        "id": "QGskjaxd2jdF"
      },
      "source": [
        "### Top song of the year in Hong Kong"
      ]
    },
    {
      "cell_type": "code",
      "execution_count": 24,
      "metadata": {
        "colab": {},
        "colab_type": "code",
        "id": "Vti9aaZj2n-o"
      },
      "outputs": [
        {
          "data": {
            "text/plain": [
              "Track Name\n",
              "Shape of You                5042866\n",
              "Something Just Like This    3867676\n",
              "Despacito - Remix           3104779\n",
              "Closer                      2624849\n",
              "Attention                   2461646\n",
              "Name: Streams, dtype: int64"
            ]
          },
          "execution_count": 24,
          "metadata": {},
          "output_type": "execute_result"
        }
      ],
      "source": [
        "################################################################################\n",
        "# TODO:                                                                        #\n",
        "# Try to show the top 5 songs of the year in Hong Kong!                        #\n",
        "################################################################################\n",
        "\n",
        "df_daily_ranking_in_hk = df_daily_ranking[df_daily_ranking[\"Region\"] == \"hk\"]\n",
        "df_daily_ranking_in_hk.groupby(\"Track Name\").sum().sort_values(\"Streams\", ascending=False)[\"Streams\"].head()\n",
        "\n",
        "################################################################################\n",
        "#                                 END OF YOUR CODE                             #\n",
        "################################################################################"
      ]
    },
    {
      "cell_type": "markdown",
      "metadata": {
        "colab_type": "text",
        "id": "dq2dukHltHNw"
      },
      "source": [
        "## Read dataset in JSON format"
      ]
    },
    {
      "cell_type": "markdown",
      "metadata": {
        "colab_type": "text",
        "id": "ZPYQxoXSYX-7"
      },
      "source": [
        "In order to find out who are the top artists or the top songs in Asia / North America / Europe, we need to link up the country code to continents. To do so, we need an extra dataset. You can download the `country.json` from the [tutorial material repository on GitHub](https://github.com/leoyuholo/learning-vis-tools/tree/master/tutorial04/lab3). Thanks to the authors of the GitHub repository [annexare/Countries](https://github.com/annexare/Countries).\n",
        "\n",
        "If you are using Google Colab, you should be able to see an arrow on the left edge of the window, it hides the panel. Open it and switch to the \"Files\" tab, you can see the files in the current directory. Click upload and upload the dataset you have downloaded."
      ]
    },
    {
      "cell_type": "code",
      "execution_count": 25,
      "metadata": {
        "colab": {
          "base_uri": "https://localhost:8080/",
          "height": 295
        },
        "colab_type": "code",
        "id": "acE0Rlnwt6Hs",
        "outputId": "afcfe47e-9a29-4de9-ee1e-f516669b3460"
      },
      "outputs": [
        {
          "data": {
            "text/html": [
              "<div>\n",
              "<style scoped>\n",
              "    .dataframe tbody tr th:only-of-type {\n",
              "        vertical-align: middle;\n",
              "    }\n",
              "\n",
              "    .dataframe tbody tr th {\n",
              "        vertical-align: top;\n",
              "    }\n",
              "\n",
              "    .dataframe thead th {\n",
              "        text-align: right;\n",
              "    }\n",
              "</style>\n",
              "<table border=\"1\" class=\"dataframe\">\n",
              "  <thead>\n",
              "    <tr style=\"text-align: right;\">\n",
              "      <th></th>\n",
              "      <th>AD</th>\n",
              "      <th>AE</th>\n",
              "      <th>AF</th>\n",
              "      <th>AG</th>\n",
              "      <th>AI</th>\n",
              "      <th>AL</th>\n",
              "      <th>AM</th>\n",
              "      <th>AO</th>\n",
              "      <th>AQ</th>\n",
              "      <th>AR</th>\n",
              "      <th>...</th>\n",
              "      <th>VN</th>\n",
              "      <th>VU</th>\n",
              "      <th>WF</th>\n",
              "      <th>WS</th>\n",
              "      <th>XK</th>\n",
              "      <th>YE</th>\n",
              "      <th>YT</th>\n",
              "      <th>ZA</th>\n",
              "      <th>ZM</th>\n",
              "      <th>ZW</th>\n",
              "    </tr>\n",
              "  </thead>\n",
              "  <tbody>\n",
              "    <tr>\n",
              "      <th>name</th>\n",
              "      <td>Andorra</td>\n",
              "      <td>United Arab Emirates</td>\n",
              "      <td>Afghanistan</td>\n",
              "      <td>Antigua and Barbuda</td>\n",
              "      <td>Anguilla</td>\n",
              "      <td>Albania</td>\n",
              "      <td>Armenia</td>\n",
              "      <td>Angola</td>\n",
              "      <td>Antarctica</td>\n",
              "      <td>Argentina</td>\n",
              "      <td>...</td>\n",
              "      <td>Vietnam</td>\n",
              "      <td>Vanuatu</td>\n",
              "      <td>Wallis and Futuna</td>\n",
              "      <td>Samoa</td>\n",
              "      <td>Kosovo</td>\n",
              "      <td>Yemen</td>\n",
              "      <td>Mayotte</td>\n",
              "      <td>South Africa</td>\n",
              "      <td>Zambia</td>\n",
              "      <td>Zimbabwe</td>\n",
              "    </tr>\n",
              "    <tr>\n",
              "      <th>native</th>\n",
              "      <td>Andorra</td>\n",
              "      <td>دولة الإمارات العربية المتحدة</td>\n",
              "      <td>افغانستان</td>\n",
              "      <td>Antigua and Barbuda</td>\n",
              "      <td>Anguilla</td>\n",
              "      <td>Shqipëria</td>\n",
              "      <td>Հայաստան</td>\n",
              "      <td>Angola</td>\n",
              "      <td>Antarctica</td>\n",
              "      <td>Argentina</td>\n",
              "      <td>...</td>\n",
              "      <td>Việt Nam</td>\n",
              "      <td>Vanuatu</td>\n",
              "      <td>Wallis et Futuna</td>\n",
              "      <td>Samoa</td>\n",
              "      <td>Republika e Kosovës</td>\n",
              "      <td>اليَمَن</td>\n",
              "      <td>Mayotte</td>\n",
              "      <td>South Africa</td>\n",
              "      <td>Zambia</td>\n",
              "      <td>Zimbabwe</td>\n",
              "    </tr>\n",
              "    <tr>\n",
              "      <th>phone</th>\n",
              "      <td>376</td>\n",
              "      <td>971</td>\n",
              "      <td>93</td>\n",
              "      <td>1268</td>\n",
              "      <td>1264</td>\n",
              "      <td>355</td>\n",
              "      <td>374</td>\n",
              "      <td>244</td>\n",
              "      <td>672</td>\n",
              "      <td>54</td>\n",
              "      <td>...</td>\n",
              "      <td>84</td>\n",
              "      <td>678</td>\n",
              "      <td>681</td>\n",
              "      <td>685</td>\n",
              "      <td>377,381,383,386</td>\n",
              "      <td>967</td>\n",
              "      <td>262</td>\n",
              "      <td>27</td>\n",
              "      <td>260</td>\n",
              "      <td>263</td>\n",
              "    </tr>\n",
              "    <tr>\n",
              "      <th>continent</th>\n",
              "      <td>EU</td>\n",
              "      <td>AS</td>\n",
              "      <td>AS</td>\n",
              "      <td>NA</td>\n",
              "      <td>NA</td>\n",
              "      <td>EU</td>\n",
              "      <td>AS</td>\n",
              "      <td>AF</td>\n",
              "      <td>AN</td>\n",
              "      <td>SA</td>\n",
              "      <td>...</td>\n",
              "      <td>AS</td>\n",
              "      <td>OC</td>\n",
              "      <td>OC</td>\n",
              "      <td>OC</td>\n",
              "      <td>EU</td>\n",
              "      <td>AS</td>\n",
              "      <td>AF</td>\n",
              "      <td>AF</td>\n",
              "      <td>AF</td>\n",
              "      <td>AF</td>\n",
              "    </tr>\n",
              "    <tr>\n",
              "      <th>capital</th>\n",
              "      <td>Andorra la Vella</td>\n",
              "      <td>Abu Dhabi</td>\n",
              "      <td>Kabul</td>\n",
              "      <td>Saint John's</td>\n",
              "      <td>The Valley</td>\n",
              "      <td>Tirana</td>\n",
              "      <td>Yerevan</td>\n",
              "      <td>Luanda</td>\n",
              "      <td></td>\n",
              "      <td>Buenos Aires</td>\n",
              "      <td>...</td>\n",
              "      <td>Hanoi</td>\n",
              "      <td>Port Vila</td>\n",
              "      <td>Mata-Utu</td>\n",
              "      <td>Apia</td>\n",
              "      <td>Pristina</td>\n",
              "      <td>Sana'a</td>\n",
              "      <td>Mamoudzou</td>\n",
              "      <td>Pretoria</td>\n",
              "      <td>Lusaka</td>\n",
              "      <td>Harare</td>\n",
              "    </tr>\n",
              "    <tr>\n",
              "      <th>currency</th>\n",
              "      <td>EUR</td>\n",
              "      <td>AED</td>\n",
              "      <td>AFN</td>\n",
              "      <td>XCD</td>\n",
              "      <td>XCD</td>\n",
              "      <td>ALL</td>\n",
              "      <td>AMD</td>\n",
              "      <td>AOA</td>\n",
              "      <td></td>\n",
              "      <td>ARS</td>\n",
              "      <td>...</td>\n",
              "      <td>VND</td>\n",
              "      <td>VUV</td>\n",
              "      <td>XPF</td>\n",
              "      <td>WST</td>\n",
              "      <td>EUR</td>\n",
              "      <td>YER</td>\n",
              "      <td>EUR</td>\n",
              "      <td>ZAR</td>\n",
              "      <td>ZMK</td>\n",
              "      <td>ZWL</td>\n",
              "    </tr>\n",
              "    <tr>\n",
              "      <th>languages</th>\n",
              "      <td>[ca]</td>\n",
              "      <td>[ar]</td>\n",
              "      <td>[ps, uz, tk]</td>\n",
              "      <td>[en]</td>\n",
              "      <td>[en]</td>\n",
              "      <td>[sq]</td>\n",
              "      <td>[hy, ru]</td>\n",
              "      <td>[pt]</td>\n",
              "      <td>[]</td>\n",
              "      <td>[es, gn]</td>\n",
              "      <td>...</td>\n",
              "      <td>[vi]</td>\n",
              "      <td>[bi, en, fr]</td>\n",
              "      <td>[fr]</td>\n",
              "      <td>[sm, en]</td>\n",
              "      <td>[sq, sr]</td>\n",
              "      <td>[ar]</td>\n",
              "      <td>[fr]</td>\n",
              "      <td>[af, en, nr, st, ss, tn, ts, ve, xh, zu]</td>\n",
              "      <td>[en]</td>\n",
              "      <td>[en, sn, nd]</td>\n",
              "    </tr>\n",
              "  </tbody>\n",
              "</table>\n",
              "<p>7 rows × 250 columns</p>\n",
              "</div>"
            ],
            "text/plain": [
              "                         AD                             AE            AF  \\\n",
              "name                Andorra           United Arab Emirates   Afghanistan   \n",
              "native              Andorra  دولة الإمارات العربية المتحدة     افغانستان   \n",
              "phone                   376                            971            93   \n",
              "continent                EU                             AS            AS   \n",
              "capital    Andorra la Vella                      Abu Dhabi         Kabul   \n",
              "currency                EUR                            AED           AFN   \n",
              "languages              [ca]                           [ar]  [ps, uz, tk]   \n",
              "\n",
              "                            AG          AI         AL        AM      AO  \\\n",
              "name       Antigua and Barbuda    Anguilla    Albania   Armenia  Angola   \n",
              "native     Antigua and Barbuda    Anguilla  Shqipëria  Հայաստան  Angola   \n",
              "phone                     1268        1264        355       374     244   \n",
              "continent                   NA          NA         EU        AS      AF   \n",
              "capital           Saint John's  The Valley     Tirana   Yerevan  Luanda   \n",
              "currency                   XCD         XCD        ALL       AMD     AOA   \n",
              "languages                 [en]        [en]       [sq]  [hy, ru]    [pt]   \n",
              "\n",
              "                   AQ            AR  ...        VN            VU  \\\n",
              "name       Antarctica     Argentina  ...   Vietnam       Vanuatu   \n",
              "native     Antarctica     Argentina  ...  Việt Nam       Vanuatu   \n",
              "phone             672            54  ...        84           678   \n",
              "continent          AN            SA  ...        AS            OC   \n",
              "capital                Buenos Aires  ...     Hanoi     Port Vila   \n",
              "currency                        ARS  ...       VND           VUV   \n",
              "languages          []      [es, gn]  ...      [vi]  [bi, en, fr]   \n",
              "\n",
              "                          WF        WS                   XK       YE  \\\n",
              "name       Wallis and Futuna     Samoa               Kosovo    Yemen   \n",
              "native      Wallis et Futuna     Samoa  Republika e Kosovës  اليَمَن   \n",
              "phone                    681       685      377,381,383,386      967   \n",
              "continent                 OC        OC                   EU       AS   \n",
              "capital             Mata-Utu      Apia             Pristina   Sana'a   \n",
              "currency                 XPF       WST                  EUR      YER   \n",
              "languages               [fr]  [sm, en]             [sq, sr]     [ar]   \n",
              "\n",
              "                  YT                                        ZA      ZM  \\\n",
              "name         Mayotte                              South Africa  Zambia   \n",
              "native       Mayotte                              South Africa  Zambia   \n",
              "phone            262                                        27     260   \n",
              "continent         AF                                        AF      AF   \n",
              "capital    Mamoudzou                                  Pretoria  Lusaka   \n",
              "currency         EUR                                       ZAR     ZMK   \n",
              "languages       [fr]  [af, en, nr, st, ss, tn, ts, ve, xh, zu]    [en]   \n",
              "\n",
              "                     ZW  \n",
              "name           Zimbabwe  \n",
              "native         Zimbabwe  \n",
              "phone               263  \n",
              "continent            AF  \n",
              "capital          Harare  \n",
              "currency            ZWL  \n",
              "languages  [en, sn, nd]  \n",
              "\n",
              "[7 rows x 250 columns]"
            ]
          },
          "execution_count": 25,
          "metadata": {},
          "output_type": "execute_result"
        }
      ],
      "source": [
        "# Read JSON file into dataframe\n",
        "\n",
        "df_countries = pd.read_json(\"countries.json\")\n",
        "df_countries"
      ]
    },
    {
      "cell_type": "code",
      "execution_count": 26,
      "metadata": {
        "colab": {
          "base_uri": "https://localhost:8080/",
          "height": 204
        },
        "colab_type": "code",
        "id": "_skHZFhiuoIs",
        "outputId": "dd4e0905-f5b2-4937-f291-dc04df9304af"
      },
      "outputs": [
        {
          "data": {
            "text/html": [
              "<div>\n",
              "<style scoped>\n",
              "    .dataframe tbody tr th:only-of-type {\n",
              "        vertical-align: middle;\n",
              "    }\n",
              "\n",
              "    .dataframe tbody tr th {\n",
              "        vertical-align: top;\n",
              "    }\n",
              "\n",
              "    .dataframe thead th {\n",
              "        text-align: right;\n",
              "    }\n",
              "</style>\n",
              "<table border=\"1\" class=\"dataframe\">\n",
              "  <thead>\n",
              "    <tr style=\"text-align: right;\">\n",
              "      <th></th>\n",
              "      <th>name</th>\n",
              "      <th>native</th>\n",
              "      <th>phone</th>\n",
              "      <th>continent</th>\n",
              "      <th>capital</th>\n",
              "      <th>currency</th>\n",
              "      <th>languages</th>\n",
              "    </tr>\n",
              "  </thead>\n",
              "  <tbody>\n",
              "    <tr>\n",
              "      <th>AD</th>\n",
              "      <td>Andorra</td>\n",
              "      <td>Andorra</td>\n",
              "      <td>376</td>\n",
              "      <td>EU</td>\n",
              "      <td>Andorra la Vella</td>\n",
              "      <td>EUR</td>\n",
              "      <td>[ca]</td>\n",
              "    </tr>\n",
              "    <tr>\n",
              "      <th>AE</th>\n",
              "      <td>United Arab Emirates</td>\n",
              "      <td>دولة الإمارات العربية المتحدة</td>\n",
              "      <td>971</td>\n",
              "      <td>AS</td>\n",
              "      <td>Abu Dhabi</td>\n",
              "      <td>AED</td>\n",
              "      <td>[ar]</td>\n",
              "    </tr>\n",
              "    <tr>\n",
              "      <th>AF</th>\n",
              "      <td>Afghanistan</td>\n",
              "      <td>افغانستان</td>\n",
              "      <td>93</td>\n",
              "      <td>AS</td>\n",
              "      <td>Kabul</td>\n",
              "      <td>AFN</td>\n",
              "      <td>[ps, uz, tk]</td>\n",
              "    </tr>\n",
              "    <tr>\n",
              "      <th>AG</th>\n",
              "      <td>Antigua and Barbuda</td>\n",
              "      <td>Antigua and Barbuda</td>\n",
              "      <td>1268</td>\n",
              "      <td>NA</td>\n",
              "      <td>Saint John's</td>\n",
              "      <td>XCD</td>\n",
              "      <td>[en]</td>\n",
              "    </tr>\n",
              "    <tr>\n",
              "      <th>AI</th>\n",
              "      <td>Anguilla</td>\n",
              "      <td>Anguilla</td>\n",
              "      <td>1264</td>\n",
              "      <td>NA</td>\n",
              "      <td>The Valley</td>\n",
              "      <td>XCD</td>\n",
              "      <td>[en]</td>\n",
              "    </tr>\n",
              "  </tbody>\n",
              "</table>\n",
              "</div>"
            ],
            "text/plain": [
              "                    name                         native phone continent  \\\n",
              "AD               Andorra                        Andorra   376        EU   \n",
              "AE  United Arab Emirates  دولة الإمارات العربية المتحدة   971        AS   \n",
              "AF           Afghanistan                      افغانستان    93        AS   \n",
              "AG   Antigua and Barbuda            Antigua and Barbuda  1268        NA   \n",
              "AI              Anguilla                       Anguilla  1264        NA   \n",
              "\n",
              "             capital currency     languages  \n",
              "AD  Andorra la Vella      EUR          [ca]  \n",
              "AE         Abu Dhabi      AED          [ar]  \n",
              "AF             Kabul      AFN  [ps, uz, tk]  \n",
              "AG      Saint John's      XCD          [en]  \n",
              "AI        The Valley      XCD          [en]  "
            ]
          },
          "execution_count": 26,
          "metadata": {},
          "output_type": "execute_result"
        }
      ],
      "source": [
        "# Flip the rows and columns\n",
        "\n",
        "df_countries.transpose().head()"
      ]
    },
    {
      "cell_type": "code",
      "execution_count": 27,
      "metadata": {
        "colab": {},
        "colab_type": "code",
        "id": "lVVExljtvGL1"
      },
      "outputs": [],
      "source": [
        "# The argument \"orient\" does the exactly same thing\n",
        "\n",
        "df_countries = pd.read_json(\"countries.json\", orient=\"index\")"
      ]
    },
    {
      "cell_type": "markdown",
      "metadata": {
        "colab_type": "text",
        "id": "L6S1-13P2z1m"
      },
      "source": [
        "## Join"
      ]
    },
    {
      "cell_type": "code",
      "execution_count": 28,
      "metadata": {
        "colab": {},
        "colab_type": "code",
        "id": "yeBb_LEDvcFI"
      },
      "outputs": [],
      "source": [
        "# Since the country code is in lower case, to match up, we need to make them \n",
        "# upper case\n",
        "\n",
        "df_daily_ranking[\"country\"] = df_daily_ranking[\"Region\"].str.upper()"
      ]
    },
    {
      "cell_type": "code",
      "execution_count": 29,
      "metadata": {
        "colab": {},
        "colab_type": "code",
        "id": "Trom6rMlvWMd"
      },
      "outputs": [],
      "source": [
        "# Merge the two dataframe on \"country\" column of df_daily_ranking and on the \n",
        "# index column of df_country\n",
        "\n",
        "df_daily_ranking_with_continent = df_daily_ranking.merge(df_countries, how=\"inner\", left_on=\"country\", right_index=True)"
      ]
    },
    {
      "cell_type": "code",
      "execution_count": 30,
      "metadata": {
        "colab": {},
        "colab_type": "code",
        "id": "scC2MpdgZ-jH"
      },
      "outputs": [],
      "source": [
        "# Rename column, just as an example, no specific purpose\n",
        "\n",
        "df_daily_ranking_with_continent = df_daily_ranking_with_continent.rename(columns={\"continent\": \"Continent\"})"
      ]
    },
    {
      "cell_type": "markdown",
      "metadata": {
        "colab_type": "text",
        "id": "-rRb4pT421zP"
      },
      "source": [
        "### Top artists of the year in North America"
      ]
    },
    {
      "cell_type": "code",
      "execution_count": 31,
      "metadata": {
        "colab": {
          "base_uri": "https://localhost:8080/",
          "height": 391
        },
        "colab_type": "code",
        "id": "LkHmzsbA3ERl",
        "outputId": "c2536ccb-121a-49a3-bd5d-dafa2f8fe529"
      },
      "outputs": [
        {
          "data": {
            "text/plain": [
              "Artist\n",
              "Drake               1488701744\n",
              "Kendrick Lamar      1281915448\n",
              "Post Malone         1125828758\n",
              "Ed Sheeran          1083913228\n",
              "Lil Uzi Vert         837881663\n",
              "Migos                764677867\n",
              "The Chainsmokers     762650964\n",
              "Future               627364617\n",
              "The Weeknd           599949693\n",
              "Luis Fonsi           582328513\n",
              "21 Savage            524445998\n",
              "Khalid               503672138\n",
              "Kodak Black          482252053\n",
              "Travis Scott         471269591\n",
              "J Balvin             465769112\n",
              "Calvin Harris        459310805\n",
              "DJ Khaled            456748400\n",
              "XXXTENTACION         439677187\n",
              "Imagine Dragons      430717997\n",
              "Big Sean             428376262\n",
              "Name: Streams, dtype: int64"
            ]
          },
          "execution_count": 31,
          "metadata": {},
          "output_type": "execute_result"
        }
      ],
      "source": [
        "# Agggregate just the same as region\n",
        "\n",
        "df_daily_ranking_in_na = df_daily_ranking_with_continent[df_daily_ranking_with_continent[\"Continent\"] == \"NA\"]\n",
        "df_daily_ranking_in_na.groupby(\"Artist\").sum().sort_values(\"Streams\", ascending=False)[\"Streams\"].head(20)"
      ]
    },
    {
      "cell_type": "markdown",
      "metadata": {
        "colab_type": "text",
        "id": "YxTfrpDswzoS"
      },
      "source": [
        "### Top song of the year in Asia"
      ]
    },
    {
      "cell_type": "code",
      "execution_count": 32,
      "metadata": {
        "colab": {},
        "colab_type": "code",
        "id": "wU-bJCKRw2co"
      },
      "outputs": [
        {
          "data": {
            "text/plain": [
              "Track Name\n",
              "Shape of You                144721255\n",
              "Something Just Like This     95425270\n",
              "Despacito - Remix            87475052\n",
              "Say You Won't Let Go         83336834\n",
              "That's What I Like           77579196\n",
              "Name: Streams, dtype: int64"
            ]
          },
          "execution_count": 32,
          "metadata": {},
          "output_type": "execute_result"
        }
      ],
      "source": [
        "################################################################################\n",
        "# TODO:                                                                        #\n",
        "# Try to show the top 5 songs of the year in Asia!                             #\n",
        "################################################################################\n",
        "\n",
        "df_daily_ranking_in_asia = df_daily_ranking_with_continent[df_daily_ranking_with_continent[\"Continent\"] == \"AS\"]\n",
        "df_daily_ranking_in_asia.groupby(\"Track Name\").sum().sort_values(\"Streams\", ascending=False)[\"Streams\"].head()\n",
        "\n",
        "################################################################################\n",
        "#                                 END OF YOUR CODE                             #\n",
        "################################################################################"
      ]
    },
    {
      "cell_type": "markdown",
      "metadata": {
        "colab_type": "text",
        "id": "Snn7mtJF3FHd"
      },
      "source": [
        "## Pivot Table"
      ]
    },
    {
      "cell_type": "code",
      "execution_count": 33,
      "metadata": {
        "colab": {
          "base_uri": "https://localhost:8080/",
          "height": 204
        },
        "colab_type": "code",
        "id": "47i81tRv3HnY",
        "outputId": "9ea56aad-4f7b-4230-9476-204baeb7c535"
      },
      "outputs": [
        {
          "data": {
            "text/html": [
              "<div>\n",
              "<style scoped>\n",
              "    .dataframe tbody tr th:only-of-type {\n",
              "        vertical-align: middle;\n",
              "    }\n",
              "\n",
              "    .dataframe tbody tr th {\n",
              "        vertical-align: top;\n",
              "    }\n",
              "\n",
              "    .dataframe thead th {\n",
              "        text-align: right;\n",
              "    }\n",
              "</style>\n",
              "<table border=\"1\" class=\"dataframe\">\n",
              "  <thead>\n",
              "    <tr style=\"text-align: right;\">\n",
              "      <th></th>\n",
              "      <th>Position</th>\n",
              "      <th>Track Name</th>\n",
              "      <th>Artist</th>\n",
              "      <th>Streams</th>\n",
              "      <th>URL</th>\n",
              "      <th>Date</th>\n",
              "      <th>Region</th>\n",
              "      <th>country</th>\n",
              "      <th>name</th>\n",
              "      <th>native</th>\n",
              "      <th>phone</th>\n",
              "      <th>Continent</th>\n",
              "      <th>capital</th>\n",
              "      <th>currency</th>\n",
              "      <th>languages</th>\n",
              "    </tr>\n",
              "  </thead>\n",
              "  <tbody>\n",
              "    <tr>\n",
              "      <th>83</th>\n",
              "      <td>84</td>\n",
              "      <td>Hymn For The Weekend - Seeb Remix</td>\n",
              "      <td>Coldplay</td>\n",
              "      <td>2327</td>\n",
              "      <td>https://open.spotify.com/track/1OAiWI2oPmglaOi...</td>\n",
              "      <td>2017-01-01</td>\n",
              "      <td>ec</td>\n",
              "      <td>EC</td>\n",
              "      <td>Ecuador</td>\n",
              "      <td>Ecuador</td>\n",
              "      <td>593</td>\n",
              "      <td>SA</td>\n",
              "      <td>Quito</td>\n",
              "      <td>USD</td>\n",
              "      <td>[es]</td>\n",
              "    </tr>\n",
              "    <tr>\n",
              "      <th>185</th>\n",
              "      <td>186</td>\n",
              "      <td>The Scientist</td>\n",
              "      <td>Coldplay</td>\n",
              "      <td>1285</td>\n",
              "      <td>https://open.spotify.com/track/75JFxkI2RXiU7L9...</td>\n",
              "      <td>2017-01-01</td>\n",
              "      <td>ec</td>\n",
              "      <td>EC</td>\n",
              "      <td>Ecuador</td>\n",
              "      <td>Ecuador</td>\n",
              "      <td>593</td>\n",
              "      <td>SA</td>\n",
              "      <td>Quito</td>\n",
              "      <td>USD</td>\n",
              "      <td>[es]</td>\n",
              "    </tr>\n",
              "    <tr>\n",
              "      <th>195</th>\n",
              "      <td>196</td>\n",
              "      <td>Adventure Of A Lifetime</td>\n",
              "      <td>Coldplay</td>\n",
              "      <td>1236</td>\n",
              "      <td>https://open.spotify.com/track/69uxyAqqPIsUyTO...</td>\n",
              "      <td>2017-01-01</td>\n",
              "      <td>ec</td>\n",
              "      <td>EC</td>\n",
              "      <td>Ecuador</td>\n",
              "      <td>Ecuador</td>\n",
              "      <td>593</td>\n",
              "      <td>SA</td>\n",
              "      <td>Quito</td>\n",
              "      <td>USD</td>\n",
              "      <td>[es]</td>\n",
              "    </tr>\n",
              "    <tr>\n",
              "      <th>268</th>\n",
              "      <td>69</td>\n",
              "      <td>Hymn For The Weekend - Seeb Remix</td>\n",
              "      <td>Coldplay</td>\n",
              "      <td>2519</td>\n",
              "      <td>https://open.spotify.com/track/1OAiWI2oPmglaOi...</td>\n",
              "      <td>2017-01-02</td>\n",
              "      <td>ec</td>\n",
              "      <td>EC</td>\n",
              "      <td>Ecuador</td>\n",
              "      <td>Ecuador</td>\n",
              "      <td>593</td>\n",
              "      <td>SA</td>\n",
              "      <td>Quito</td>\n",
              "      <td>USD</td>\n",
              "      <td>[es]</td>\n",
              "    </tr>\n",
              "    <tr>\n",
              "      <th>301</th>\n",
              "      <td>102</td>\n",
              "      <td>The Scientist</td>\n",
              "      <td>Coldplay</td>\n",
              "      <td>1998</td>\n",
              "      <td>https://open.spotify.com/track/75JFxkI2RXiU7L9...</td>\n",
              "      <td>2017-01-02</td>\n",
              "      <td>ec</td>\n",
              "      <td>EC</td>\n",
              "      <td>Ecuador</td>\n",
              "      <td>Ecuador</td>\n",
              "      <td>593</td>\n",
              "      <td>SA</td>\n",
              "      <td>Quito</td>\n",
              "      <td>USD</td>\n",
              "      <td>[es]</td>\n",
              "    </tr>\n",
              "  </tbody>\n",
              "</table>\n",
              "</div>"
            ],
            "text/plain": [
              "     Position                         Track Name    Artist  Streams  \\\n",
              "83         84  Hymn For The Weekend - Seeb Remix  Coldplay     2327   \n",
              "185       186                      The Scientist  Coldplay     1285   \n",
              "195       196            Adventure Of A Lifetime  Coldplay     1236   \n",
              "268        69  Hymn For The Weekend - Seeb Remix  Coldplay     2519   \n",
              "301       102                      The Scientist  Coldplay     1998   \n",
              "\n",
              "                                                   URL        Date Region  \\\n",
              "83   https://open.spotify.com/track/1OAiWI2oPmglaOi...  2017-01-01     ec   \n",
              "185  https://open.spotify.com/track/75JFxkI2RXiU7L9...  2017-01-01     ec   \n",
              "195  https://open.spotify.com/track/69uxyAqqPIsUyTO...  2017-01-01     ec   \n",
              "268  https://open.spotify.com/track/1OAiWI2oPmglaOi...  2017-01-02     ec   \n",
              "301  https://open.spotify.com/track/75JFxkI2RXiU7L9...  2017-01-02     ec   \n",
              "\n",
              "    country     name   native phone Continent capital currency languages  \n",
              "83       EC  Ecuador  Ecuador   593        SA   Quito      USD      [es]  \n",
              "185      EC  Ecuador  Ecuador   593        SA   Quito      USD      [es]  \n",
              "195      EC  Ecuador  Ecuador   593        SA   Quito      USD      [es]  \n",
              "268      EC  Ecuador  Ecuador   593        SA   Quito      USD      [es]  \n",
              "301      EC  Ecuador  Ecuador   593        SA   Quito      USD      [es]  "
            ]
          },
          "execution_count": 33,
          "metadata": {},
          "output_type": "execute_result"
        }
      ],
      "source": [
        "# Filter the artists\n",
        "\n",
        "df_favorite_artist = df_daily_ranking_with_continent[df_daily_ranking_with_continent[\"Artist\"] == \"Coldplay\"]\n",
        "df_favorite_artist.head()"
      ]
    },
    {
      "cell_type": "code",
      "execution_count": 34,
      "metadata": {
        "colab": {
          "base_uri": "https://localhost:8080/",
          "height": 235
        },
        "colab_type": "code",
        "id": "GVApX1jkygcf",
        "outputId": "667b31f0-50f8-4c1d-fa38-57710e8a06f9"
      },
      "outputs": [
        {
          "data": {
            "text/html": [
              "<div>\n",
              "<style scoped>\n",
              "    .dataframe tbody tr th:only-of-type {\n",
              "        vertical-align: middle;\n",
              "    }\n",
              "\n",
              "    .dataframe tbody tr th {\n",
              "        vertical-align: top;\n",
              "    }\n",
              "\n",
              "    .dataframe thead th {\n",
              "        text-align: right;\n",
              "    }\n",
              "</style>\n",
              "<table border=\"1\" class=\"dataframe\">\n",
              "  <thead>\n",
              "    <tr style=\"text-align: right;\">\n",
              "      <th>Continent</th>\n",
              "      <th>AS</th>\n",
              "      <th>EU</th>\n",
              "      <th>NA</th>\n",
              "      <th>OC</th>\n",
              "      <th>SA</th>\n",
              "    </tr>\n",
              "    <tr>\n",
              "      <th>Date</th>\n",
              "      <th></th>\n",
              "      <th></th>\n",
              "      <th></th>\n",
              "      <th></th>\n",
              "      <th></th>\n",
              "    </tr>\n",
              "  </thead>\n",
              "  <tbody>\n",
              "    <tr>\n",
              "      <th>2017-01-01</th>\n",
              "      <td>134203.0</td>\n",
              "      <td>427319.0</td>\n",
              "      <td>274971.0</td>\n",
              "      <td>26141.0</td>\n",
              "      <td>215578.0</td>\n",
              "    </tr>\n",
              "    <tr>\n",
              "      <th>2017-01-02</th>\n",
              "      <td>155686.0</td>\n",
              "      <td>512328.0</td>\n",
              "      <td>318189.0</td>\n",
              "      <td>28136.0</td>\n",
              "      <td>293633.0</td>\n",
              "    </tr>\n",
              "    <tr>\n",
              "      <th>2017-01-03</th>\n",
              "      <td>174060.0</td>\n",
              "      <td>525427.0</td>\n",
              "      <td>370151.0</td>\n",
              "      <td>28885.0</td>\n",
              "      <td>318359.0</td>\n",
              "    </tr>\n",
              "    <tr>\n",
              "      <th>2017-01-04</th>\n",
              "      <td>197094.0</td>\n",
              "      <td>531836.0</td>\n",
              "      <td>353325.0</td>\n",
              "      <td>32528.0</td>\n",
              "      <td>324242.0</td>\n",
              "    </tr>\n",
              "    <tr>\n",
              "      <th>2017-01-05</th>\n",
              "      <td>198938.0</td>\n",
              "      <td>504666.0</td>\n",
              "      <td>345913.0</td>\n",
              "      <td>28291.0</td>\n",
              "      <td>320139.0</td>\n",
              "    </tr>\n",
              "  </tbody>\n",
              "</table>\n",
              "</div>"
            ],
            "text/plain": [
              "Continent         AS        EU        NA       OC        SA\n",
              "Date                                                       \n",
              "2017-01-01  134203.0  427319.0  274971.0  26141.0  215578.0\n",
              "2017-01-02  155686.0  512328.0  318189.0  28136.0  293633.0\n",
              "2017-01-03  174060.0  525427.0  370151.0  28885.0  318359.0\n",
              "2017-01-04  197094.0  531836.0  353325.0  32528.0  324242.0\n",
              "2017-01-05  198938.0  504666.0  345913.0  28291.0  320139.0"
            ]
          },
          "execution_count": 34,
          "metadata": {},
          "output_type": "execute_result"
        }
      ],
      "source": [
        "# Pivot table, just like spreadsheet, define which attribute goes to rows, which\n",
        "# to columns, values, and last but not least, how to aggregate them. Aggregation\n",
        "# can be sum, max, min, mean, etc. In our case, we want to add up the streams \n",
        "# counts, so we use \"sum\"\n",
        "\n",
        "df_favorite_artist_streams = df_favorite_artist.pivot_table(values=\"Streams\", index=\"Date\", columns=\"Continent\", aggfunc=\"sum\")\n",
        "df_favorite_artist_streams.head()"
      ]
    },
    {
      "cell_type": "code",
      "execution_count": 35,
      "metadata": {
        "colab": {},
        "colab_type": "code",
        "id": "jURjV7yhiGiG"
      },
      "outputs": [
        {
          "data": {
            "text/html": [
              "<div>\n",
              "<style scoped>\n",
              "    .dataframe tbody tr th:only-of-type {\n",
              "        vertical-align: middle;\n",
              "    }\n",
              "\n",
              "    .dataframe tbody tr th {\n",
              "        vertical-align: top;\n",
              "    }\n",
              "\n",
              "    .dataframe thead th {\n",
              "        text-align: right;\n",
              "    }\n",
              "</style>\n",
              "<table border=\"1\" class=\"dataframe\">\n",
              "  <thead>\n",
              "    <tr style=\"text-align: right;\">\n",
              "      <th>Continent</th>\n",
              "      <th>AS</th>\n",
              "      <th>EU</th>\n",
              "      <th>NA</th>\n",
              "      <th>OC</th>\n",
              "      <th>SA</th>\n",
              "    </tr>\n",
              "    <tr>\n",
              "      <th>Date</th>\n",
              "      <th></th>\n",
              "      <th></th>\n",
              "      <th></th>\n",
              "      <th></th>\n",
              "      <th></th>\n",
              "    </tr>\n",
              "  </thead>\n",
              "  <tbody>\n",
              "    <tr>\n",
              "      <th>2017-08-03</th>\n",
              "      <td>NaN</td>\n",
              "      <td>3368.0</td>\n",
              "      <td>NaN</td>\n",
              "      <td>NaN</td>\n",
              "      <td>107300.0</td>\n",
              "    </tr>\n",
              "    <tr>\n",
              "      <th>2017-08-04</th>\n",
              "      <td>75750.0</td>\n",
              "      <td>265527.0</td>\n",
              "      <td>31688.0</td>\n",
              "      <td>NaN</td>\n",
              "      <td>139815.0</td>\n",
              "    </tr>\n",
              "    <tr>\n",
              "      <th>2017-08-05</th>\n",
              "      <td>46171.0</td>\n",
              "      <td>121512.0</td>\n",
              "      <td>183558.0</td>\n",
              "      <td>NaN</td>\n",
              "      <td>95646.0</td>\n",
              "    </tr>\n",
              "    <tr>\n",
              "      <th>2017-08-06</th>\n",
              "      <td>43125.0</td>\n",
              "      <td>100622.0</td>\n",
              "      <td>173957.0</td>\n",
              "      <td>NaN</td>\n",
              "      <td>68543.0</td>\n",
              "    </tr>\n",
              "    <tr>\n",
              "      <th>2017-08-07</th>\n",
              "      <td>78229.0</td>\n",
              "      <td>141006.0</td>\n",
              "      <td>203847.0</td>\n",
              "      <td>NaN</td>\n",
              "      <td>73237.0</td>\n",
              "    </tr>\n",
              "  </tbody>\n",
              "</table>\n",
              "</div>"
            ],
            "text/plain": [
              "Continent        AS        EU        NA  OC        SA\n",
              "Date                                                 \n",
              "2017-08-03      NaN    3368.0       NaN NaN  107300.0\n",
              "2017-08-04  75750.0  265527.0   31688.0 NaN  139815.0\n",
              "2017-08-05  46171.0  121512.0  183558.0 NaN   95646.0\n",
              "2017-08-06  43125.0  100622.0  173957.0 NaN   68543.0\n",
              "2017-08-07  78229.0  141006.0  203847.0 NaN   73237.0"
            ]
          },
          "execution_count": 35,
          "metadata": {},
          "output_type": "execute_result"
        }
      ],
      "source": [
        "################################################################################\n",
        "# TODO:                                                                        #\n",
        "# Try to make a pivot table for your favorite song!                            #\n",
        "################################################################################\n",
        "\n",
        "df_favorite_song = df_daily_ranking_with_continent[df_daily_ranking_with_continent[\"Track Name\"] == \"Havana\"]\n",
        "df_favorite_song_streams = df_favorite_song.pivot_table(values=\"Streams\", index=\"Date\", columns=\"Continent\", aggfunc=\"sum\")\n",
        "df_favorite_song_streams.head()\n",
        "\n",
        "################################################################################\n",
        "#                                 END OF YOUR CODE                             #\n",
        "################################################################################"
      ]
    },
    {
      "cell_type": "markdown",
      "metadata": {
        "colab_type": "text",
        "id": "R1Kmmsnq3IXF"
      },
      "source": [
        "## Altair"
      ]
    },
    {
      "cell_type": "code",
      "execution_count": 36,
      "metadata": {
        "colab": {},
        "colab_type": "code",
        "id": "MxZWSyGm3s1j"
      },
      "outputs": [],
      "source": [
        "import altair as alt"
      ]
    },
    {
      "cell_type": "code",
      "execution_count": 37,
      "metadata": {
        "colab": {},
        "colab_type": "code",
        "id": "i4r8cS54Uoax"
      },
      "outputs": [],
      "source": [
        "# In case you hit the error message of 5000 rows limitation, you can run the \n",
        "# following command to disable the limitation\n",
        "\n",
        "# alt.data_transformers.enable('default', max_rows=None)"
      ]
    },
    {
      "cell_type": "code",
      "execution_count": 38,
      "metadata": {
        "colab": {
          "base_uri": "https://localhost:8080/",
          "height": 359
        },
        "colab_type": "code",
        "id": "9bU_SJ-acofM",
        "outputId": "49d7b0ba-16e4-4a41-dd1b-874b93e0e3ee"
      },
      "outputs": [
        {
          "data": {
            "text/html": [
              "<div>\n",
              "<style scoped>\n",
              "    .dataframe tbody tr th:only-of-type {\n",
              "        vertical-align: middle;\n",
              "    }\n",
              "\n",
              "    .dataframe tbody tr th {\n",
              "        vertical-align: top;\n",
              "    }\n",
              "\n",
              "    .dataframe thead th {\n",
              "        text-align: right;\n",
              "    }\n",
              "</style>\n",
              "<table border=\"1\" class=\"dataframe\">\n",
              "  <thead>\n",
              "    <tr style=\"text-align: right;\">\n",
              "      <th></th>\n",
              "      <th>Date</th>\n",
              "      <th>Continent</th>\n",
              "      <th>Streams</th>\n",
              "    </tr>\n",
              "  </thead>\n",
              "  <tbody>\n",
              "    <tr>\n",
              "      <th>0</th>\n",
              "      <td>2017-01-01</td>\n",
              "      <td>AS</td>\n",
              "      <td>134203</td>\n",
              "    </tr>\n",
              "    <tr>\n",
              "      <th>1</th>\n",
              "      <td>2017-01-01</td>\n",
              "      <td>EU</td>\n",
              "      <td>427319</td>\n",
              "    </tr>\n",
              "    <tr>\n",
              "      <th>2</th>\n",
              "      <td>2017-01-01</td>\n",
              "      <td>NA</td>\n",
              "      <td>274971</td>\n",
              "    </tr>\n",
              "    <tr>\n",
              "      <th>3</th>\n",
              "      <td>2017-01-01</td>\n",
              "      <td>OC</td>\n",
              "      <td>26141</td>\n",
              "    </tr>\n",
              "    <tr>\n",
              "      <th>4</th>\n",
              "      <td>2017-01-01</td>\n",
              "      <td>SA</td>\n",
              "      <td>215578</td>\n",
              "    </tr>\n",
              "    <tr>\n",
              "      <th>5</th>\n",
              "      <td>2017-01-02</td>\n",
              "      <td>AS</td>\n",
              "      <td>155686</td>\n",
              "    </tr>\n",
              "    <tr>\n",
              "      <th>6</th>\n",
              "      <td>2017-01-02</td>\n",
              "      <td>EU</td>\n",
              "      <td>512328</td>\n",
              "    </tr>\n",
              "    <tr>\n",
              "      <th>7</th>\n",
              "      <td>2017-01-02</td>\n",
              "      <td>NA</td>\n",
              "      <td>318189</td>\n",
              "    </tr>\n",
              "    <tr>\n",
              "      <th>8</th>\n",
              "      <td>2017-01-02</td>\n",
              "      <td>OC</td>\n",
              "      <td>28136</td>\n",
              "    </tr>\n",
              "    <tr>\n",
              "      <th>9</th>\n",
              "      <td>2017-01-02</td>\n",
              "      <td>SA</td>\n",
              "      <td>293633</td>\n",
              "    </tr>\n",
              "  </tbody>\n",
              "</table>\n",
              "</div>"
            ],
            "text/plain": [
              "         Date Continent  Streams\n",
              "0  2017-01-01        AS   134203\n",
              "1  2017-01-01        EU   427319\n",
              "2  2017-01-01        NA   274971\n",
              "3  2017-01-01        OC    26141\n",
              "4  2017-01-01        SA   215578\n",
              "5  2017-01-02        AS   155686\n",
              "6  2017-01-02        EU   512328\n",
              "7  2017-01-02        NA   318189\n",
              "8  2017-01-02        OC    28136\n",
              "9  2017-01-02        SA   293633"
            ]
          },
          "execution_count": 38,
          "metadata": {},
          "output_type": "execute_result"
        }
      ],
      "source": [
        "# Same \"groupby\" trick we used before. The attributes used for \"groupby\" will \n",
        "# becomes index of the dataframe, which are no longer normal columns and cannot \n",
        "# be used directly. The method \"reset_index\" pulls out the attributes used for \n",
        "# \"groupby\" back to normal columns\n",
        "\n",
        "df_chart = df_favorite_artist.groupby(['Date', 'Continent']).sum()['Streams'].reset_index()\n",
        "df_chart.head(10)"
      ]
    },
    {
      "cell_type": "markdown",
      "metadata": {
        "colab_type": "text",
        "id": "Goj8dIcIpVJL"
      },
      "source": [
        "Plot dataframe as line chart. The altair API is designed in visualization language. We can apply the knowledge learned in lectures, what we want to encode with each encoding channels. See the documentation for [marks](https://altair-viz.github.io/user_guide/marks.html) and [encodings](https://altair-viz.github.io/user_guide/encoding.html)."
      ]
    },
    {
      "cell_type": "code",
      "execution_count": 39,
      "metadata": {
        "colab": {
          "base_uri": "https://localhost:8080/",
          "height": 372
        },
        "colab_type": "code",
        "id": "YhpG9HCqRdC-",
        "outputId": "aecb0f8d-fe45-4cfe-f0aa-1eebf16f8c62"
      },
      "outputs": [
        {
          "data": {
            "text/html": [
              "\n",
              "<div id=\"altair-viz-6d09cc6090494016a7d501d14f85e0b7\"></div>\n",
              "<script type=\"text/javascript\">\n",
              "  var VEGA_DEBUG = (typeof VEGA_DEBUG == \"undefined\") ? {} : VEGA_DEBUG;\n",
              "  (function(spec, embedOpt){\n",
              "    let outputDiv = document.currentScript.previousElementSibling;\n",
              "    if (outputDiv.id !== \"altair-viz-6d09cc6090494016a7d501d14f85e0b7\") {\n",
              "      outputDiv = document.getElementById(\"altair-viz-6d09cc6090494016a7d501d14f85e0b7\");\n",
              "    }\n",
              "    const paths = {\n",
              "      \"vega\": \"https://cdn.jsdelivr.net/npm//vega@5?noext\",\n",
              "      \"vega-lib\": \"https://cdn.jsdelivr.net/npm//vega-lib?noext\",\n",
              "      \"vega-lite\": \"https://cdn.jsdelivr.net/npm//vega-lite@4.17.0?noext\",\n",
              "      \"vega-embed\": \"https://cdn.jsdelivr.net/npm//vega-embed@6?noext\",\n",
              "    };\n",
              "\n",
              "    function maybeLoadScript(lib, version) {\n",
              "      var key = `${lib.replace(\"-\", \"\")}_version`;\n",
              "      return (VEGA_DEBUG[key] == version) ?\n",
              "        Promise.resolve(paths[lib]) :\n",
              "        new Promise(function(resolve, reject) {\n",
              "          var s = document.createElement('script');\n",
              "          document.getElementsByTagName(\"head\")[0].appendChild(s);\n",
              "          s.async = true;\n",
              "          s.onload = () => {\n",
              "            VEGA_DEBUG[key] = version;\n",
              "            return resolve(paths[lib]);\n",
              "          };\n",
              "          s.onerror = () => reject(`Error loading script: ${paths[lib]}`);\n",
              "          s.src = paths[lib];\n",
              "        });\n",
              "    }\n",
              "\n",
              "    function showError(err) {\n",
              "      outputDiv.innerHTML = `<div class=\"error\" style=\"color:red;\">${err}</div>`;\n",
              "      throw err;\n",
              "    }\n",
              "\n",
              "    function displayChart(vegaEmbed) {\n",
              "      vegaEmbed(outputDiv, spec, embedOpt)\n",
              "        .catch(err => showError(`Javascript Error: ${err.message}<br>This usually means there's a typo in your chart specification. See the javascript console for the full traceback.`));\n",
              "    }\n",
              "\n",
              "    if(typeof define === \"function\" && define.amd) {\n",
              "      requirejs.config({paths});\n",
              "      require([\"vega-embed\"], displayChart, err => showError(`Error loading script: ${err.message}`));\n",
              "    } else {\n",
              "      maybeLoadScript(\"vega\", \"5\")\n",
              "        .then(() => maybeLoadScript(\"vega-lite\", \"4.17.0\"))\n",
              "        .then(() => maybeLoadScript(\"vega-embed\", \"6\"))\n",
              "        .catch(showError)\n",
              "        .then(() => displayChart(vegaEmbed));\n",
              "    }\n",
              "  })({\"config\": {\"view\": {\"continuousWidth\": 400, \"continuousHeight\": 300}}, \"data\": {\"name\": \"data-e79a55dbb3d2d33ca236de28325d925b\"}, \"mark\": \"line\", \"encoding\": {\"color\": {\"field\": \"Continent\", \"type\": \"nominal\"}, \"x\": {\"field\": \"Date\", \"type\": \"temporal\"}, \"y\": {\"field\": \"Streams\", \"type\": \"quantitative\"}}, \"$schema\": \"https://vega.github.io/schema/vega-lite/v4.17.0.json\", \"datasets\": {\"data-e79a55dbb3d2d33ca236de28325d925b\": [{\"Date\": \"2017-01-01\", \"Continent\": \"AS\", \"Streams\": 134203}, {\"Date\": \"2017-01-01\", \"Continent\": \"EU\", \"Streams\": 427319}, {\"Date\": \"2017-01-01\", \"Continent\": \"NA\", \"Streams\": 274971}, {\"Date\": \"2017-01-01\", \"Continent\": \"OC\", \"Streams\": 26141}, {\"Date\": \"2017-01-01\", \"Continent\": \"SA\", \"Streams\": 215578}, {\"Date\": \"2017-01-02\", \"Continent\": \"AS\", \"Streams\": 155686}, {\"Date\": \"2017-01-02\", \"Continent\": \"EU\", \"Streams\": 512328}, {\"Date\": \"2017-01-02\", \"Continent\": \"NA\", \"Streams\": 318189}, {\"Date\": \"2017-01-02\", \"Continent\": \"OC\", \"Streams\": 28136}, {\"Date\": \"2017-01-02\", \"Continent\": \"SA\", \"Streams\": 293633}, {\"Date\": \"2017-01-03\", \"Continent\": \"AS\", \"Streams\": 174060}, {\"Date\": \"2017-01-03\", \"Continent\": \"EU\", \"Streams\": 525427}, {\"Date\": \"2017-01-03\", \"Continent\": \"NA\", \"Streams\": 370151}, {\"Date\": \"2017-01-03\", \"Continent\": \"OC\", \"Streams\": 28885}, {\"Date\": \"2017-01-03\", \"Continent\": \"SA\", \"Streams\": 318359}, {\"Date\": \"2017-01-04\", \"Continent\": \"AS\", \"Streams\": 197094}, {\"Date\": \"2017-01-04\", \"Continent\": \"EU\", \"Streams\": 531836}, {\"Date\": \"2017-01-04\", \"Continent\": \"NA\", \"Streams\": 353325}, {\"Date\": \"2017-01-04\", \"Continent\": \"OC\", \"Streams\": 32528}, {\"Date\": \"2017-01-04\", \"Continent\": \"SA\", \"Streams\": 324242}, {\"Date\": \"2017-01-05\", \"Continent\": \"AS\", \"Streams\": 198938}, {\"Date\": \"2017-01-05\", \"Continent\": \"EU\", \"Streams\": 504666}, {\"Date\": \"2017-01-05\", \"Continent\": \"NA\", \"Streams\": 345913}, {\"Date\": \"2017-01-05\", \"Continent\": \"OC\", \"Streams\": 28291}, {\"Date\": \"2017-01-05\", \"Continent\": \"SA\", \"Streams\": 320139}, {\"Date\": \"2017-01-06\", \"Continent\": \"AS\", \"Streams\": 172680}, {\"Date\": \"2017-01-06\", \"Continent\": \"EU\", \"Streams\": 433477}, {\"Date\": \"2017-01-06\", \"Continent\": \"NA\", \"Streams\": 191062}, {\"Date\": \"2017-01-06\", \"Continent\": \"OC\", \"Streams\": 27989}, {\"Date\": \"2017-01-06\", \"Continent\": \"SA\", \"Streams\": 317580}, {\"Date\": \"2017-01-07\", \"Continent\": \"AS\", \"Streams\": 121994}, {\"Date\": \"2017-01-07\", \"Continent\": \"EU\", \"Streams\": 483641}, {\"Date\": \"2017-01-07\", \"Continent\": \"NA\", \"Streams\": 171684}, {\"Date\": \"2017-01-07\", \"Continent\": \"OC\", \"Streams\": 27946}, {\"Date\": \"2017-01-07\", \"Continent\": \"SA\", \"Streams\": 266719}, {\"Date\": \"2017-01-08\", \"Continent\": \"AS\", \"Streams\": 112674}, {\"Date\": \"2017-01-08\", \"Continent\": \"EU\", \"Streams\": 429768}, {\"Date\": \"2017-01-08\", \"Continent\": \"NA\", \"Streams\": 144956}, {\"Date\": \"2017-01-08\", \"Continent\": \"OC\", \"Streams\": 28517}, {\"Date\": \"2017-01-08\", \"Continent\": \"SA\", \"Streams\": 233653}, {\"Date\": \"2017-01-09\", \"Continent\": \"AS\", \"Streams\": 139317}, {\"Date\": \"2017-01-09\", \"Continent\": \"EU\", \"Streams\": 471404}, {\"Date\": \"2017-01-09\", \"Continent\": \"NA\", \"Streams\": 176193}, {\"Date\": \"2017-01-09\", \"Continent\": \"OC\", \"Streams\": 28786}, {\"Date\": \"2017-01-09\", \"Continent\": \"SA\", \"Streams\": 300833}, {\"Date\": \"2017-01-10\", \"Continent\": \"AS\", \"Streams\": 152238}, {\"Date\": \"2017-01-10\", \"Continent\": \"EU\", \"Streams\": 471132}, {\"Date\": \"2017-01-10\", \"Continent\": \"NA\", \"Streams\": 343668}, {\"Date\": \"2017-01-10\", \"Continent\": \"OC\", \"Streams\": 28698}, {\"Date\": \"2017-01-10\", \"Continent\": \"SA\", \"Streams\": 287232}, {\"Date\": \"2017-01-11\", \"Continent\": \"AS\", \"Streams\": 162848}, {\"Date\": \"2017-01-11\", \"Continent\": \"EU\", \"Streams\": 467486}, {\"Date\": \"2017-01-11\", \"Continent\": \"NA\", \"Streams\": 194839}, {\"Date\": \"2017-01-11\", \"Continent\": \"OC\", \"Streams\": 32313}, {\"Date\": \"2017-01-11\", \"Continent\": \"SA\", \"Streams\": 296018}, {\"Date\": \"2017-01-12\", \"Continent\": \"AS\", \"Streams\": 147933}, {\"Date\": \"2017-01-12\", \"Continent\": \"EU\", \"Streams\": 455104}, {\"Date\": \"2017-01-12\", \"Continent\": \"NA\", \"Streams\": 341500}, {\"Date\": \"2017-01-12\", \"Continent\": \"OC\", \"Streams\": 28273}, {\"Date\": \"2017-01-12\", \"Continent\": \"SA\", \"Streams\": 293690}, {\"Date\": \"2017-01-13\", \"Continent\": \"AS\", \"Streams\": 126657}, {\"Date\": \"2017-01-13\", \"Continent\": \"EU\", \"Streams\": 417388}, {\"Date\": \"2017-01-13\", \"Continent\": \"NA\", \"Streams\": 195714}, {\"Date\": \"2017-01-13\", \"Continent\": \"OC\", \"Streams\": 27247}, {\"Date\": \"2017-01-13\", \"Continent\": \"SA\", \"Streams\": 313482}, {\"Date\": \"2017-01-14\", \"Continent\": \"AS\", \"Streams\": 109394}, {\"Date\": \"2017-01-14\", \"Continent\": \"EU\", \"Streams\": 458663}, {\"Date\": \"2017-01-14\", \"Continent\": \"NA\", \"Streams\": 180490}, {\"Date\": \"2017-01-14\", \"Continent\": \"OC\", \"Streams\": 27399}, {\"Date\": \"2017-01-14\", \"Continent\": \"SA\", \"Streams\": 266963}, {\"Date\": \"2017-01-15\", \"Continent\": \"AS\", \"Streams\": 101468}, {\"Date\": \"2017-01-15\", \"Continent\": \"EU\", \"Streams\": 383837}, {\"Date\": \"2017-01-15\", \"Continent\": \"NA\", \"Streams\": 148268}, {\"Date\": \"2017-01-15\", \"Continent\": \"OC\", \"Streams\": 26464}, {\"Date\": \"2017-01-15\", \"Continent\": \"SA\", \"Streams\": 226757}, {\"Date\": \"2017-01-16\", \"Continent\": \"AS\", \"Streams\": 144322}, {\"Date\": \"2017-01-16\", \"Continent\": \"EU\", \"Streams\": 443913}, {\"Date\": \"2017-01-16\", \"Continent\": \"NA\", \"Streams\": 176289}, {\"Date\": \"2017-01-16\", \"Continent\": \"OC\", \"Streams\": 27788}, {\"Date\": \"2017-01-16\", \"Continent\": \"SA\", \"Streams\": 284777}, {\"Date\": \"2017-01-17\", \"Continent\": \"AS\", \"Streams\": 151305}, {\"Date\": \"2017-01-17\", \"Continent\": \"EU\", \"Streams\": 418794}, {\"Date\": \"2017-01-17\", \"Continent\": \"NA\", \"Streams\": 191992}, {\"Date\": \"2017-01-17\", \"Continent\": \"OC\", \"Streams\": 27141}, {\"Date\": \"2017-01-17\", \"Continent\": \"SA\", \"Streams\": 285718}, {\"Date\": \"2017-01-18\", \"Continent\": \"AS\", \"Streams\": 164907}, {\"Date\": \"2017-01-18\", \"Continent\": \"EU\", \"Streams\": 438221}, {\"Date\": \"2017-01-18\", \"Continent\": \"NA\", \"Streams\": 189706}, {\"Date\": \"2017-01-18\", \"Continent\": \"OC\", \"Streams\": 29139}, {\"Date\": \"2017-01-18\", \"Continent\": \"SA\", \"Streams\": 292298}, {\"Date\": \"2017-01-19\", \"Continent\": \"AS\", \"Streams\": 151111}, {\"Date\": \"2017-01-19\", \"Continent\": \"EU\", \"Streams\": 442236}, {\"Date\": \"2017-01-19\", \"Continent\": \"NA\", \"Streams\": 208063}, {\"Date\": \"2017-01-19\", \"Continent\": \"OC\", \"Streams\": 42504}, {\"Date\": \"2017-01-19\", \"Continent\": \"SA\", \"Streams\": 281934}, {\"Date\": \"2017-01-20\", \"Continent\": \"AS\", \"Streams\": 137977}, {\"Date\": \"2017-01-20\", \"Continent\": \"EU\", \"Streams\": 400038}, {\"Date\": \"2017-01-20\", \"Continent\": \"NA\", \"Streams\": 189470}, {\"Date\": \"2017-01-20\", \"Continent\": \"OC\", \"Streams\": 26103}, {\"Date\": \"2017-01-20\", \"Continent\": \"SA\", \"Streams\": 273554}, {\"Date\": \"2017-01-21\", \"Continent\": \"AS\", \"Streams\": 113395}, {\"Date\": \"2017-01-21\", \"Continent\": \"EU\", \"Streams\": 412771}, {\"Date\": \"2017-01-21\", \"Continent\": \"NA\", \"Streams\": 178958}, {\"Date\": \"2017-01-21\", \"Continent\": \"OC\", \"Streams\": 26453}, {\"Date\": \"2017-01-21\", \"Continent\": \"SA\", \"Streams\": 236650}, {\"Date\": \"2017-01-22\", \"Continent\": \"AS\", \"Streams\": 104299}, {\"Date\": \"2017-01-22\", \"Continent\": \"EU\", \"Streams\": 333388}, {\"Date\": \"2017-01-22\", \"Continent\": \"NA\", \"Streams\": 120083}, {\"Date\": \"2017-01-22\", \"Continent\": \"OC\", \"Streams\": 25194}, {\"Date\": \"2017-01-22\", \"Continent\": \"SA\", \"Streams\": 215856}, {\"Date\": \"2017-01-23\", \"Continent\": \"AS\", \"Streams\": 133543}, {\"Date\": \"2017-01-23\", \"Continent\": \"EU\", \"Streams\": 409235}, {\"Date\": \"2017-01-23\", \"Continent\": \"NA\", \"Streams\": 168382}, {\"Date\": \"2017-01-23\", \"Continent\": \"OC\", \"Streams\": 25174}, {\"Date\": \"2017-01-23\", \"Continent\": \"SA\", \"Streams\": 275461}, {\"Date\": \"2017-01-24\", \"Continent\": \"AS\", \"Streams\": 138331}, {\"Date\": \"2017-01-24\", \"Continent\": \"EU\", \"Streams\": 408961}, {\"Date\": \"2017-01-24\", \"Continent\": \"NA\", \"Streams\": 182433}, {\"Date\": \"2017-01-24\", \"Continent\": \"OC\", \"Streams\": 26377}, {\"Date\": \"2017-01-24\", \"Continent\": \"SA\", \"Streams\": 288132}, {\"Date\": \"2017-01-25\", \"Continent\": \"AS\", \"Streams\": 143590}, {\"Date\": \"2017-01-25\", \"Continent\": \"EU\", \"Streams\": 409522}, {\"Date\": \"2017-01-25\", \"Continent\": \"NA\", \"Streams\": 151296}, {\"Date\": \"2017-01-25\", \"Continent\": \"OC\", \"Streams\": 28172}, {\"Date\": \"2017-01-25\", \"Continent\": \"SA\", \"Streams\": 278985}, {\"Date\": \"2017-01-26\", \"Continent\": \"AS\", \"Streams\": 145597}, {\"Date\": \"2017-01-26\", \"Continent\": \"EU\", \"Streams\": 377594}, {\"Date\": \"2017-01-26\", \"Continent\": \"NA\", \"Streams\": 149170}, {\"Date\": \"2017-01-26\", \"Continent\": \"OC\", \"Streams\": 24022}, {\"Date\": \"2017-01-26\", \"Continent\": \"SA\", \"Streams\": 249526}, {\"Date\": \"2017-01-27\", \"Continent\": \"AS\", \"Streams\": 132050}, {\"Date\": \"2017-01-27\", \"Continent\": \"EU\", \"Streams\": 336075}, {\"Date\": \"2017-01-27\", \"Continent\": \"NA\", \"Streams\": 156979}, {\"Date\": \"2017-01-27\", \"Continent\": \"OC\", \"Streams\": 25144}, {\"Date\": \"2017-01-27\", \"Continent\": \"SA\", \"Streams\": 260283}, {\"Date\": \"2017-01-28\", \"Continent\": \"AS\", \"Streams\": 99571}, {\"Date\": \"2017-01-28\", \"Continent\": \"EU\", \"Streams\": 344371}, {\"Date\": \"2017-01-28\", \"Continent\": \"NA\", \"Streams\": 140502}, {\"Date\": \"2017-01-28\", \"Continent\": \"OC\", \"Streams\": 25856}, {\"Date\": \"2017-01-28\", \"Continent\": \"SA\", \"Streams\": 204164}, {\"Date\": \"2017-01-29\", \"Continent\": \"AS\", \"Streams\": 96923}, {\"Date\": \"2017-01-29\", \"Continent\": \"EU\", \"Streams\": 269941}, {\"Date\": \"2017-01-29\", \"Continent\": \"NA\", \"Streams\": 89008}, {\"Date\": \"2017-01-29\", \"Continent\": \"OC\", \"Streams\": 24578}, {\"Date\": \"2017-01-29\", \"Continent\": \"SA\", \"Streams\": 171473}, {\"Date\": \"2017-01-30\", \"Continent\": \"AS\", \"Streams\": 117118}, {\"Date\": \"2017-01-30\", \"Continent\": \"EU\", \"Streams\": 315964}, {\"Date\": \"2017-01-30\", \"Continent\": \"NA\", \"Streams\": 100660}, {\"Date\": \"2017-01-30\", \"Continent\": \"OC\", \"Streams\": 23355}, {\"Date\": \"2017-01-30\", \"Continent\": \"SA\", \"Streams\": 221526}, {\"Date\": \"2017-01-31\", \"Continent\": \"AS\", \"Streams\": 130688}, {\"Date\": \"2017-01-31\", \"Continent\": \"EU\", \"Streams\": 238478}, {\"Date\": \"2017-01-31\", \"Continent\": \"NA\", \"Streams\": 143348}, {\"Date\": \"2017-01-31\", \"Continent\": \"OC\", \"Streams\": 22948}, {\"Date\": \"2017-01-31\", \"Continent\": \"SA\", \"Streams\": 229417}, {\"Date\": \"2017-02-01\", \"Continent\": \"AS\", \"Streams\": 135641}, {\"Date\": \"2017-02-01\", \"Continent\": \"EU\", \"Streams\": 256622}, {\"Date\": \"2017-02-01\", \"Continent\": \"NA\", \"Streams\": 141261}, {\"Date\": \"2017-02-01\", \"Continent\": \"OC\", \"Streams\": 24974}, {\"Date\": \"2017-02-01\", \"Continent\": \"SA\", \"Streams\": 187236}, {\"Date\": \"2017-02-02\", \"Continent\": \"AS\", \"Streams\": 139894}, {\"Date\": \"2017-02-02\", \"Continent\": \"EU\", \"Streams\": 244288}, {\"Date\": \"2017-02-02\", \"Continent\": \"NA\", \"Streams\": 90837}, {\"Date\": \"2017-02-02\", \"Continent\": \"OC\", \"Streams\": 22719}, {\"Date\": \"2017-02-02\", \"Continent\": \"SA\", \"Streams\": 174295}, {\"Date\": \"2017-02-03\", \"Continent\": \"AS\", \"Streams\": 126959}, {\"Date\": \"2017-02-03\", \"Continent\": \"EU\", \"Streams\": 255300}, {\"Date\": \"2017-02-03\", \"Continent\": \"NA\", \"Streams\": 130279}, {\"Date\": \"2017-02-03\", \"Continent\": \"OC\", \"Streams\": 23368}, {\"Date\": \"2017-02-03\", \"Continent\": \"SA\", \"Streams\": 218243}, {\"Date\": \"2017-02-04\", \"Continent\": \"AS\", \"Streams\": 106057}, {\"Date\": \"2017-02-04\", \"Continent\": \"EU\", \"Streams\": 259642}, {\"Date\": \"2017-02-04\", \"Continent\": \"NA\", \"Streams\": 86750}, {\"Date\": \"2017-02-04\", \"Continent\": \"OC\", \"Streams\": 24042}, {\"Date\": \"2017-02-04\", \"Continent\": \"SA\", \"Streams\": 156426}, {\"Date\": \"2017-02-05\", \"Continent\": \"AS\", \"Streams\": 101862}, {\"Date\": \"2017-02-05\", \"Continent\": \"EU\", \"Streams\": 195851}, {\"Date\": \"2017-02-05\", \"Continent\": \"NA\", \"Streams\": 74643}, {\"Date\": \"2017-02-05\", \"Continent\": \"OC\", \"Streams\": 22085}, {\"Date\": \"2017-02-05\", \"Continent\": \"SA\", \"Streams\": 134613}, {\"Date\": \"2017-02-06\", \"Continent\": \"AS\", \"Streams\": 134758}, {\"Date\": \"2017-02-06\", \"Continent\": \"EU\", \"Streams\": 226695}, {\"Date\": \"2017-02-06\", \"Continent\": \"NA\", \"Streams\": 78262}, {\"Date\": \"2017-02-06\", \"Continent\": \"OC\", \"Streams\": 20317}, {\"Date\": \"2017-02-06\", \"Continent\": \"SA\", \"Streams\": 178469}, {\"Date\": \"2017-02-07\", \"Continent\": \"AS\", \"Streams\": 124855}, {\"Date\": \"2017-02-07\", \"Continent\": \"EU\", \"Streams\": 219622}, {\"Date\": \"2017-02-07\", \"Continent\": \"NA\", \"Streams\": 121740}, {\"Date\": \"2017-02-07\", \"Continent\": \"OC\", \"Streams\": 21058}, {\"Date\": \"2017-02-07\", \"Continent\": \"SA\", \"Streams\": 183350}, {\"Date\": \"2017-02-08\", \"Continent\": \"AS\", \"Streams\": 141954}, {\"Date\": \"2017-02-08\", \"Continent\": \"EU\", \"Streams\": 288896}, {\"Date\": \"2017-02-08\", \"Continent\": \"NA\", \"Streams\": 126111}, {\"Date\": \"2017-02-08\", \"Continent\": \"OC\", \"Streams\": 21169}, {\"Date\": \"2017-02-08\", \"Continent\": \"SA\", \"Streams\": 186637}, {\"Date\": \"2017-02-09\", \"Continent\": \"AS\", \"Streams\": 145112}, {\"Date\": \"2017-02-09\", \"Continent\": \"EU\", \"Streams\": 286580}, {\"Date\": \"2017-02-09\", \"Continent\": \"NA\", \"Streams\": 131724}, {\"Date\": \"2017-02-09\", \"Continent\": \"OC\", \"Streams\": 20936}, {\"Date\": \"2017-02-09\", \"Continent\": \"SA\", \"Streams\": 170910}, {\"Date\": \"2017-02-10\", \"Continent\": \"AS\", \"Streams\": 136055}, {\"Date\": \"2017-02-10\", \"Continent\": \"EU\", \"Streams\": 158229}, {\"Date\": \"2017-02-10\", \"Continent\": \"NA\", \"Streams\": 127982}, {\"Date\": \"2017-02-10\", \"Continent\": \"OC\", \"Streams\": 21667}, {\"Date\": \"2017-02-10\", \"Continent\": \"SA\", \"Streams\": 218294}, {\"Date\": \"2017-02-11\", \"Continent\": \"AS\", \"Streams\": 127435}, {\"Date\": \"2017-02-11\", \"Continent\": \"EU\", \"Streams\": 157759}, {\"Date\": \"2017-02-11\", \"Continent\": \"NA\", \"Streams\": 87796}, {\"Date\": \"2017-02-11\", \"Continent\": \"OC\", \"Streams\": 23105}, {\"Date\": \"2017-02-11\", \"Continent\": \"SA\", \"Streams\": 156272}, {\"Date\": \"2017-02-12\", \"Continent\": \"AS\", \"Streams\": 123254}, {\"Date\": \"2017-02-12\", \"Continent\": \"EU\", \"Streams\": 177147}, {\"Date\": \"2017-02-12\", \"Continent\": \"NA\", \"Streams\": 74358}, {\"Date\": \"2017-02-12\", \"Continent\": \"OC\", \"Streams\": 20841}, {\"Date\": \"2017-02-12\", \"Continent\": \"SA\", \"Streams\": 135446}, {\"Date\": \"2017-02-13\", \"Continent\": \"AS\", \"Streams\": 141593}, {\"Date\": \"2017-02-13\", \"Continent\": \"EU\", \"Streams\": 146852}, {\"Date\": \"2017-02-13\", \"Continent\": \"NA\", \"Streams\": 85739}, {\"Date\": \"2017-02-13\", \"Continent\": \"OC\", \"Streams\": 15535}, {\"Date\": \"2017-02-13\", \"Continent\": \"SA\", \"Streams\": 167048}, {\"Date\": \"2017-02-14\", \"Continent\": \"AS\", \"Streams\": 134687}, {\"Date\": \"2017-02-14\", \"Continent\": \"EU\", \"Streams\": 177386}, {\"Date\": \"2017-02-14\", \"Continent\": \"NA\", \"Streams\": 133490}, {\"Date\": \"2017-02-14\", \"Continent\": \"SA\", \"Streams\": 155748}, {\"Date\": \"2017-02-15\", \"Continent\": \"AS\", \"Streams\": 146660}, {\"Date\": \"2017-02-15\", \"Continent\": \"EU\", \"Streams\": 137498}, {\"Date\": \"2017-02-15\", \"Continent\": \"NA\", \"Streams\": 126868}, {\"Date\": \"2017-02-15\", \"Continent\": \"OC\", \"Streams\": 16206}, {\"Date\": \"2017-02-15\", \"Continent\": \"SA\", \"Streams\": 152121}, {\"Date\": \"2017-02-16\", \"Continent\": \"AS\", \"Streams\": 135983}, {\"Date\": \"2017-02-16\", \"Continent\": \"EU\", \"Streams\": 133646}, {\"Date\": \"2017-02-16\", \"Continent\": \"NA\", \"Streams\": 128536}, {\"Date\": \"2017-02-16\", \"Continent\": \"OC\", \"Streams\": 15874}, {\"Date\": \"2017-02-16\", \"Continent\": \"SA\", \"Streams\": 144886}, {\"Date\": \"2017-02-17\", \"Continent\": \"AS\", \"Streams\": 128923}, {\"Date\": \"2017-02-17\", \"Continent\": \"EU\", \"Streams\": 144245}, {\"Date\": \"2017-02-17\", \"Continent\": \"NA\", \"Streams\": 92933}, {\"Date\": \"2017-02-17\", \"Continent\": \"OC\", \"Streams\": 20305}, {\"Date\": \"2017-02-17\", \"Continent\": \"SA\", \"Streams\": 192110}, {\"Date\": \"2017-02-18\", \"Continent\": \"AS\", \"Streams\": 122525}, {\"Date\": \"2017-02-18\", \"Continent\": \"EU\", \"Streams\": 138494}, {\"Date\": \"2017-02-18\", \"Continent\": \"NA\", \"Streams\": 87807}, {\"Date\": \"2017-02-18\", \"Continent\": \"OC\", \"Streams\": 17181}, {\"Date\": \"2017-02-18\", \"Continent\": \"SA\", \"Streams\": 135171}, {\"Date\": \"2017-02-19\", \"Continent\": \"AS\", \"Streams\": 112188}, {\"Date\": \"2017-02-19\", \"Continent\": \"EU\", \"Streams\": 115045}, {\"Date\": \"2017-02-19\", \"Continent\": \"NA\", \"Streams\": 43395}, {\"Date\": \"2017-02-19\", \"Continent\": \"OC\", \"Streams\": 19075}, {\"Date\": \"2017-02-19\", \"Continent\": \"SA\", \"Streams\": 116350}, {\"Date\": \"2017-02-20\", \"Continent\": \"AS\", \"Streams\": 125514}, {\"Date\": \"2017-02-20\", \"Continent\": \"EU\", \"Streams\": 137826}, {\"Date\": \"2017-02-20\", \"Continent\": \"NA\", \"Streams\": 86419}, {\"Date\": \"2017-02-20\", \"Continent\": \"OC\", \"Streams\": 14811}, {\"Date\": \"2017-02-20\", \"Continent\": \"SA\", \"Streams\": 140402}, {\"Date\": \"2017-02-21\", \"Continent\": \"AS\", \"Streams\": 150006}, {\"Date\": \"2017-02-21\", \"Continent\": \"EU\", \"Streams\": 134077}, {\"Date\": \"2017-02-21\", \"Continent\": \"NA\", \"Streams\": 92116}, {\"Date\": \"2017-02-21\", \"Continent\": \"SA\", \"Streams\": 137794}, {\"Date\": \"2017-02-22\", \"Continent\": \"AS\", \"Streams\": 140292}, {\"Date\": \"2017-02-22\", \"Continent\": \"EU\", \"Streams\": 136384}, {\"Date\": \"2017-02-22\", \"Continent\": \"NA\", \"Streams\": 91849}, {\"Date\": \"2017-02-22\", \"Continent\": \"OC\", \"Streams\": 15517}, {\"Date\": \"2017-02-22\", \"Continent\": \"SA\", \"Streams\": 140483}, {\"Date\": \"2017-02-23\", \"Continent\": \"AS\", \"Streams\": 158449}, {\"Date\": \"2017-02-23\", \"Continent\": \"EU\", \"Streams\": 128932}, {\"Date\": \"2017-02-23\", \"Continent\": \"NA\", \"Streams\": 93451}, {\"Date\": \"2017-02-23\", \"Continent\": \"OC\", \"Streams\": 15467}, {\"Date\": \"2017-02-23\", \"Continent\": \"SA\", \"Streams\": 133912}, {\"Date\": \"2017-02-24\", \"Continent\": \"AS\", \"Streams\": 132376}, {\"Date\": \"2017-02-24\", \"Continent\": \"EU\", \"Streams\": 139970}, {\"Date\": \"2017-02-24\", \"Continent\": \"NA\", \"Streams\": 95385}, {\"Date\": \"2017-02-24\", \"Continent\": \"OC\", \"Streams\": 19996}, {\"Date\": \"2017-02-24\", \"Continent\": \"SA\", \"Streams\": 149917}, {\"Date\": \"2017-02-25\", \"Continent\": \"AS\", \"Streams\": 118706}, {\"Date\": \"2017-02-25\", \"Continent\": \"EU\", \"Streams\": 139170}, {\"Date\": \"2017-02-25\", \"Continent\": \"NA\", \"Streams\": 85918}, {\"Date\": \"2017-02-25\", \"Continent\": \"OC\", \"Streams\": 17109}, {\"Date\": \"2017-02-25\", \"Continent\": \"SA\", \"Streams\": 112701}, {\"Date\": \"2017-02-26\", \"Continent\": \"AS\", \"Streams\": 118371}, {\"Date\": \"2017-02-26\", \"Continent\": \"EU\", \"Streams\": 111621}, {\"Date\": \"2017-02-26\", \"Continent\": \"NA\", \"Streams\": 70993}, {\"Date\": \"2017-02-26\", \"Continent\": \"OC\", \"Streams\": 14973}, {\"Date\": \"2017-02-26\", \"Continent\": \"SA\", \"Streams\": 86081}, {\"Date\": \"2017-02-27\", \"Continent\": \"AS\", \"Streams\": 133016}, {\"Date\": \"2017-02-27\", \"Continent\": \"EU\", \"Streams\": 89885}, {\"Date\": \"2017-02-27\", \"Continent\": \"NA\", \"Streams\": 83420}, {\"Date\": \"2017-02-27\", \"Continent\": \"SA\", \"Streams\": 109244}, {\"Date\": \"2017-02-28\", \"Continent\": \"AS\", \"Streams\": 141007}, {\"Date\": \"2017-02-28\", \"Continent\": \"EU\", \"Streams\": 83124}, {\"Date\": \"2017-02-28\", \"Continent\": \"NA\", \"Streams\": 91377}, {\"Date\": \"2017-02-28\", \"Continent\": \"SA\", \"Streams\": 120035}, {\"Date\": \"2017-03-01\", \"Continent\": \"AS\", \"Streams\": 159029}, {\"Date\": \"2017-03-01\", \"Continent\": \"EU\", \"Streams\": 91716}, {\"Date\": \"2017-03-01\", \"Continent\": \"NA\", \"Streams\": 91918}, {\"Date\": \"2017-03-01\", \"Continent\": \"SA\", \"Streams\": 132328}, {\"Date\": \"2017-03-02\", \"Continent\": \"AS\", \"Streams\": 164827}, {\"Date\": \"2017-03-02\", \"Continent\": \"EU\", \"Streams\": 118877}, {\"Date\": \"2017-03-02\", \"Continent\": \"NA\", \"Streams\": 93108}, {\"Date\": \"2017-03-02\", \"Continent\": \"SA\", \"Streams\": 135175}, {\"Date\": \"2017-03-03\", \"Continent\": \"AS\", \"Streams\": 231299}, {\"Date\": \"2017-03-03\", \"Continent\": \"EU\", \"Streams\": 524291}, {\"Date\": \"2017-03-03\", \"Continent\": \"NA\", \"Streams\": 487965}, {\"Date\": \"2017-03-03\", \"Continent\": \"OC\", \"Streams\": 31537}, {\"Date\": \"2017-03-03\", \"Continent\": \"SA\", \"Streams\": 206604}, {\"Date\": \"2017-03-04\", \"Continent\": \"AS\", \"Streams\": 147103}, {\"Date\": \"2017-03-04\", \"Continent\": \"EU\", \"Streams\": 210833}, {\"Date\": \"2017-03-04\", \"Continent\": \"NA\", \"Streams\": 73242}, {\"Date\": \"2017-03-04\", \"Continent\": \"SA\", \"Streams\": 95189}, {\"Date\": \"2017-03-05\", \"Continent\": \"AS\", \"Streams\": 130161}, {\"Date\": \"2017-03-05\", \"Continent\": \"EU\", \"Streams\": 156577}, {\"Date\": \"2017-03-05\", \"Continent\": \"NA\", \"Streams\": 58720}, {\"Date\": \"2017-03-05\", \"Continent\": \"SA\", \"Streams\": 93879}, {\"Date\": \"2017-03-06\", \"Continent\": \"AS\", \"Streams\": 209694}, {\"Date\": \"2017-03-06\", \"Continent\": \"EU\", \"Streams\": 159203}, {\"Date\": \"2017-03-06\", \"Continent\": \"NA\", \"Streams\": 265905}, {\"Date\": \"2017-03-06\", \"Continent\": \"SA\", \"Streams\": 124888}, {\"Date\": \"2017-03-07\", \"Continent\": \"AS\", \"Streams\": 237569}, {\"Date\": \"2017-03-07\", \"Continent\": \"EU\", \"Streams\": 184840}, {\"Date\": \"2017-03-07\", \"Continent\": \"NA\", \"Streams\": 114312}, {\"Date\": \"2017-03-07\", \"Continent\": \"SA\", \"Streams\": 124897}, {\"Date\": \"2017-03-08\", \"Continent\": \"AS\", \"Streams\": 194206}, {\"Date\": \"2017-03-08\", \"Continent\": \"EU\", \"Streams\": 136337}, {\"Date\": \"2017-03-08\", \"Continent\": \"NA\", \"Streams\": 91236}, {\"Date\": \"2017-03-08\", \"Continent\": \"SA\", \"Streams\": 129625}, {\"Date\": \"2017-03-09\", \"Continent\": \"AS\", \"Streams\": 210303}, {\"Date\": \"2017-03-09\", \"Continent\": \"EU\", \"Streams\": 136566}, {\"Date\": \"2017-03-09\", \"Continent\": \"NA\", \"Streams\": 93773}, {\"Date\": \"2017-03-09\", \"Continent\": \"SA\", \"Streams\": 108088}, {\"Date\": \"2017-03-10\", \"Continent\": \"AS\", \"Streams\": 185695}, {\"Date\": \"2017-03-10\", \"Continent\": \"EU\", \"Streams\": 135354}, {\"Date\": \"2017-03-10\", \"Continent\": \"NA\", \"Streams\": 54320}, {\"Date\": \"2017-03-10\", \"Continent\": \"SA\", \"Streams\": 131283}, {\"Date\": \"2017-03-11\", \"Continent\": \"AS\", \"Streams\": 172396}, {\"Date\": \"2017-03-11\", \"Continent\": \"EU\", \"Streams\": 92900}, {\"Date\": \"2017-03-11\", \"Continent\": \"NA\", \"Streams\": 47955}, {\"Date\": \"2017-03-11\", \"Continent\": \"SA\", \"Streams\": 91486}, {\"Date\": \"2017-03-12\", \"Continent\": \"AS\", \"Streams\": 173101}, {\"Date\": \"2017-03-12\", \"Continent\": \"EU\", \"Streams\": 90681}, {\"Date\": \"2017-03-12\", \"Continent\": \"NA\", \"Streams\": 42260}, {\"Date\": \"2017-03-12\", \"Continent\": \"SA\", \"Streams\": 88821}, {\"Date\": \"2017-03-13\", \"Continent\": \"AS\", \"Streams\": 172398}, {\"Date\": \"2017-03-13\", \"Continent\": \"EU\", \"Streams\": 89882}, {\"Date\": \"2017-03-13\", \"Continent\": \"NA\", \"Streams\": 49283}, {\"Date\": \"2017-03-13\", \"Continent\": \"SA\", \"Streams\": 133197}, {\"Date\": \"2017-03-14\", \"Continent\": \"AS\", \"Streams\": 187032}, {\"Date\": \"2017-03-14\", \"Continent\": \"EU\", \"Streams\": 113931}, {\"Date\": \"2017-03-14\", \"Continent\": \"NA\", \"Streams\": 91520}, {\"Date\": \"2017-03-14\", \"Continent\": \"SA\", \"Streams\": 129465}, {\"Date\": \"2017-03-15\", \"Continent\": \"AS\", \"Streams\": 156925}, {\"Date\": \"2017-03-15\", \"Continent\": \"EU\", \"Streams\": 113536}, {\"Date\": \"2017-03-15\", \"Continent\": \"NA\", \"Streams\": 50580}, {\"Date\": \"2017-03-15\", \"Continent\": \"SA\", \"Streams\": 119419}, {\"Date\": \"2017-03-16\", \"Continent\": \"AS\", \"Streams\": 168144}, {\"Date\": \"2017-03-16\", \"Continent\": \"EU\", \"Streams\": 118999}, {\"Date\": \"2017-03-16\", \"Continent\": \"NA\", \"Streams\": 88661}, {\"Date\": \"2017-03-16\", \"Continent\": \"SA\", \"Streams\": 151290}, {\"Date\": \"2017-03-17\", \"Continent\": \"AS\", \"Streams\": 153902}, {\"Date\": \"2017-03-17\", \"Continent\": \"EU\", \"Streams\": 105584}, {\"Date\": \"2017-03-17\", \"Continent\": \"NA\", \"Streams\": 90788}, {\"Date\": \"2017-03-17\", \"Continent\": \"SA\", \"Streams\": 130617}, {\"Date\": \"2017-03-18\", \"Continent\": \"AS\", \"Streams\": 112700}, {\"Date\": \"2017-03-18\", \"Continent\": \"EU\", \"Streams\": 96172}, {\"Date\": \"2017-03-18\", \"Continent\": \"NA\", \"Streams\": 45428}, {\"Date\": \"2017-03-18\", \"Continent\": \"SA\", \"Streams\": 98131}, {\"Date\": \"2017-03-19\", \"Continent\": \"AS\", \"Streams\": 101184}, {\"Date\": \"2017-03-19\", \"Continent\": \"EU\", \"Streams\": 61045}, {\"Date\": \"2017-03-19\", \"Continent\": \"NA\", \"Streams\": 35313}, {\"Date\": \"2017-03-19\", \"Continent\": \"SA\", \"Streams\": 82247}, {\"Date\": \"2017-03-20\", \"Continent\": \"AS\", \"Streams\": 149332}, {\"Date\": \"2017-03-20\", \"Continent\": \"EU\", \"Streams\": 67364}, {\"Date\": \"2017-03-20\", \"Continent\": \"NA\", \"Streams\": 44671}, {\"Date\": \"2017-03-20\", \"Continent\": \"SA\", \"Streams\": 121944}, {\"Date\": \"2017-03-21\", \"Continent\": \"AS\", \"Streams\": 146844}, {\"Date\": \"2017-03-21\", \"Continent\": \"EU\", \"Streams\": 75757}, {\"Date\": \"2017-03-21\", \"Continent\": \"NA\", \"Streams\": 84318}, {\"Date\": \"2017-03-21\", \"Continent\": \"SA\", \"Streams\": 126477}, {\"Date\": \"2017-03-22\", \"Continent\": \"AS\", \"Streams\": 162016}, {\"Date\": \"2017-03-22\", \"Continent\": \"EU\", \"Streams\": 84295}, {\"Date\": \"2017-03-22\", \"Continent\": \"NA\", \"Streams\": 49131}, {\"Date\": \"2017-03-22\", \"Continent\": \"SA\", \"Streams\": 117381}, {\"Date\": \"2017-03-23\", \"Continent\": \"AS\", \"Streams\": 160124}, {\"Date\": \"2017-03-23\", \"Continent\": \"EU\", \"Streams\": 81442}, {\"Date\": \"2017-03-23\", \"Continent\": \"NA\", \"Streams\": 52100}, {\"Date\": \"2017-03-23\", \"Continent\": \"SA\", \"Streams\": 149858}, {\"Date\": \"2017-03-24\", \"Continent\": \"AS\", \"Streams\": 158157}, {\"Date\": \"2017-03-24\", \"Continent\": \"EU\", \"Streams\": 89496}, {\"Date\": \"2017-03-24\", \"Continent\": \"NA\", \"Streams\": 51675}, {\"Date\": \"2017-03-24\", \"Continent\": \"SA\", \"Streams\": 121770}, {\"Date\": \"2017-03-25\", \"Continent\": \"AS\", \"Streams\": 135966}, {\"Date\": \"2017-03-25\", \"Continent\": \"EU\", \"Streams\": 85597}, {\"Date\": \"2017-03-25\", \"Continent\": \"NA\", \"Streams\": 42868}, {\"Date\": \"2017-03-25\", \"Continent\": \"SA\", \"Streams\": 102346}, {\"Date\": \"2017-03-26\", \"Continent\": \"AS\", \"Streams\": 132589}, {\"Date\": \"2017-03-26\", \"Continent\": \"EU\", \"Streams\": 60702}, {\"Date\": \"2017-03-26\", \"Continent\": \"NA\", \"Streams\": 37895}, {\"Date\": \"2017-03-26\", \"Continent\": \"SA\", \"Streams\": 87007}, {\"Date\": \"2017-03-27\", \"Continent\": \"AS\", \"Streams\": 200344}, {\"Date\": \"2017-03-27\", \"Continent\": \"EU\", \"Streams\": 77120}, {\"Date\": \"2017-03-27\", \"Continent\": \"NA\", \"Streams\": 50116}, {\"Date\": \"2017-03-27\", \"Continent\": \"SA\", \"Streams\": 128346}, {\"Date\": \"2017-03-28\", \"Continent\": \"AS\", \"Streams\": 202239}, {\"Date\": \"2017-03-28\", \"Continent\": \"EU\", \"Streams\": 108344}, {\"Date\": \"2017-03-28\", \"Continent\": \"NA\", \"Streams\": 85766}, {\"Date\": \"2017-03-28\", \"Continent\": \"SA\", \"Streams\": 122992}, {\"Date\": \"2017-03-29\", \"Continent\": \"AS\", \"Streams\": 253263}, {\"Date\": \"2017-03-29\", \"Continent\": \"EU\", \"Streams\": 95445}, {\"Date\": \"2017-03-29\", \"Continent\": \"NA\", \"Streams\": 50732}, {\"Date\": \"2017-03-29\", \"Continent\": \"SA\", \"Streams\": 114595}, {\"Date\": \"2017-03-30\", \"Continent\": \"AS\", \"Streams\": 314870}, {\"Date\": \"2017-03-30\", \"Continent\": \"EU\", \"Streams\": 88078}, {\"Date\": \"2017-03-30\", \"Continent\": \"NA\", \"Streams\": 52022}, {\"Date\": \"2017-03-30\", \"Continent\": \"SA\", \"Streams\": 151887}, {\"Date\": \"2017-03-31\", \"Continent\": \"AS\", \"Streams\": 495679}, {\"Date\": \"2017-03-31\", \"Continent\": \"EU\", \"Streams\": 89113}, {\"Date\": \"2017-03-31\", \"Continent\": \"NA\", \"Streams\": 52959}, {\"Date\": \"2017-03-31\", \"Continent\": \"SA\", \"Streams\": 135236}, {\"Date\": \"2017-04-01\", \"Continent\": \"AS\", \"Streams\": 615267}, {\"Date\": \"2017-04-01\", \"Continent\": \"EU\", \"Streams\": 79304}, {\"Date\": \"2017-04-01\", \"Continent\": \"NA\", \"Streams\": 43038}, {\"Date\": \"2017-04-01\", \"Continent\": \"SA\", \"Streams\": 101214}, {\"Date\": \"2017-04-02\", \"Continent\": \"AS\", \"Streams\": 547594}, {\"Date\": \"2017-04-02\", \"Continent\": \"EU\", \"Streams\": 46000}, {\"Date\": \"2017-04-02\", \"Continent\": \"NA\", \"Streams\": 39687}, {\"Date\": \"2017-04-02\", \"Continent\": \"SA\", \"Streams\": 93501}, {\"Date\": \"2017-04-03\", \"Continent\": \"AS\", \"Streams\": 792883}, {\"Date\": \"2017-04-03\", \"Continent\": \"EU\", \"Streams\": 69990}, {\"Date\": \"2017-04-03\", \"Continent\": \"NA\", \"Streams\": 48434}, {\"Date\": \"2017-04-03\", \"Continent\": \"SA\", \"Streams\": 153712}, {\"Date\": \"2017-04-04\", \"Continent\": \"AS\", \"Streams\": 1267504}, {\"Date\": \"2017-04-04\", \"Continent\": \"EU\", \"Streams\": 101415}, {\"Date\": \"2017-04-04\", \"Continent\": \"NA\", \"Streams\": 51848}, {\"Date\": \"2017-04-04\", \"Continent\": \"SA\", \"Streams\": 159855}, {\"Date\": \"2017-04-05\", \"Continent\": \"AS\", \"Streams\": 1367988}, {\"Date\": \"2017-04-05\", \"Continent\": \"EU\", \"Streams\": 61532}, {\"Date\": \"2017-04-05\", \"Continent\": \"NA\", \"Streams\": 51194}, {\"Date\": \"2017-04-05\", \"Continent\": \"SA\", \"Streams\": 117848}, {\"Date\": \"2017-04-06\", \"Continent\": \"AS\", \"Streams\": 926344}, {\"Date\": \"2017-04-06\", \"Continent\": \"EU\", \"Streams\": 72914}, {\"Date\": \"2017-04-06\", \"Continent\": \"NA\", \"Streams\": 52295}, {\"Date\": \"2017-04-06\", \"Continent\": \"SA\", \"Streams\": 150674}, {\"Date\": \"2017-04-07\", \"Continent\": \"AS\", \"Streams\": 722999}, {\"Date\": \"2017-04-07\", \"Continent\": \"EU\", \"Streams\": 69620}, {\"Date\": \"2017-04-07\", \"Continent\": \"NA\", \"Streams\": 50764}, {\"Date\": \"2017-04-07\", \"Continent\": \"SA\", \"Streams\": 127541}, {\"Date\": \"2017-04-08\", \"Continent\": \"AS\", \"Streams\": 573276}, {\"Date\": \"2017-04-08\", \"Continent\": \"EU\", \"Streams\": 78266}, {\"Date\": \"2017-04-08\", \"Continent\": \"NA\", \"Streams\": 42872}, {\"Date\": \"2017-04-08\", \"Continent\": \"SA\", \"Streams\": 88624}, {\"Date\": \"2017-04-09\", \"Continent\": \"AS\", \"Streams\": 455010}, {\"Date\": \"2017-04-09\", \"Continent\": \"EU\", \"Streams\": 74859}, {\"Date\": \"2017-04-09\", \"Continent\": \"NA\", \"Streams\": 33872}, {\"Date\": \"2017-04-09\", \"Continent\": \"SA\", \"Streams\": 75087}, {\"Date\": \"2017-04-10\", \"Continent\": \"AS\", \"Streams\": 534909}, {\"Date\": \"2017-04-10\", \"Continent\": \"EU\", \"Streams\": 67457}, {\"Date\": \"2017-04-10\", \"Continent\": \"NA\", \"Streams\": 44354}, {\"Date\": \"2017-04-10\", \"Continent\": \"SA\", \"Streams\": 116337}, {\"Date\": \"2017-04-11\", \"Continent\": \"AS\", \"Streams\": 655249}, {\"Date\": \"2017-04-11\", \"Continent\": \"EU\", \"Streams\": 97929}, {\"Date\": \"2017-04-11\", \"Continent\": \"NA\", \"Streams\": 45127}, {\"Date\": \"2017-04-11\", \"Continent\": \"SA\", \"Streams\": 113493}, {\"Date\": \"2017-04-12\", \"Continent\": \"AS\", \"Streams\": 793312}, {\"Date\": \"2017-04-12\", \"Continent\": \"EU\", \"Streams\": 64780}, {\"Date\": \"2017-04-12\", \"Continent\": \"NA\", \"Streams\": 42497}, {\"Date\": \"2017-04-12\", \"Continent\": \"SA\", \"Streams\": 102535}, {\"Date\": \"2017-04-13\", \"Continent\": \"AS\", \"Streams\": 721069}, {\"Date\": \"2017-04-13\", \"Continent\": \"EU\", \"Streams\": 65384}, {\"Date\": \"2017-04-13\", \"Continent\": \"NA\", \"Streams\": 40177}, {\"Date\": \"2017-04-13\", \"Continent\": \"SA\", \"Streams\": 149391}, {\"Date\": \"2017-04-14\", \"Continent\": \"AS\", \"Streams\": 520545}, {\"Date\": \"2017-04-14\", \"Continent\": \"EU\", \"Streams\": 71715}, {\"Date\": \"2017-04-14\", \"Continent\": \"NA\", \"Streams\": 32411}, {\"Date\": \"2017-04-14\", \"Continent\": \"SA\", \"Streams\": 92306}, {\"Date\": \"2017-04-15\", \"Continent\": \"AS\", \"Streams\": 415990}, {\"Date\": \"2017-04-15\", \"Continent\": \"EU\", \"Streams\": 94239}, {\"Date\": \"2017-04-15\", \"Continent\": \"NA\", \"Streams\": 34507}, {\"Date\": \"2017-04-15\", \"Continent\": \"SA\", \"Streams\": 81400}, {\"Date\": \"2017-04-16\", \"Continent\": \"AS\", \"Streams\": 365717}, {\"Date\": \"2017-04-16\", \"Continent\": \"EU\", \"Streams\": 52817}, {\"Date\": \"2017-04-16\", \"Continent\": \"NA\", \"Streams\": 33115}, {\"Date\": \"2017-04-16\", \"Continent\": \"SA\", \"Streams\": 49327}, {\"Date\": \"2017-04-17\", \"Continent\": \"AS\", \"Streams\": 397714}, {\"Date\": \"2017-04-17\", \"Continent\": \"EU\", \"Streams\": 59964}, {\"Date\": \"2017-04-17\", \"Continent\": \"NA\", \"Streams\": 45989}, {\"Date\": \"2017-04-17\", \"Continent\": \"SA\", \"Streams\": 104751}, {\"Date\": \"2017-04-18\", \"Continent\": \"AS\", \"Streams\": 382891}, {\"Date\": \"2017-04-18\", \"Continent\": \"EU\", \"Streams\": 78122}, {\"Date\": \"2017-04-18\", \"Continent\": \"NA\", \"Streams\": 44722}, {\"Date\": \"2017-04-18\", \"Continent\": \"SA\", \"Streams\": 103031}, {\"Date\": \"2017-04-19\", \"Continent\": \"AS\", \"Streams\": 342000}, {\"Date\": \"2017-04-19\", \"Continent\": \"EU\", \"Streams\": 49382}, {\"Date\": \"2017-04-19\", \"Continent\": \"NA\", \"Streams\": 42665}, {\"Date\": \"2017-04-19\", \"Continent\": \"SA\", \"Streams\": 88423}, {\"Date\": \"2017-04-20\", \"Continent\": \"AS\", \"Streams\": 347659}, {\"Date\": \"2017-04-20\", \"Continent\": \"EU\", \"Streams\": 48545}, {\"Date\": \"2017-04-20\", \"Continent\": \"NA\", \"Streams\": 46165}, {\"Date\": \"2017-04-20\", \"Continent\": \"SA\", \"Streams\": 94678}, {\"Date\": \"2017-04-21\", \"Continent\": \"AS\", \"Streams\": 315878}, {\"Date\": \"2017-04-21\", \"Continent\": \"EU\", \"Streams\": 50926}, {\"Date\": \"2017-04-21\", \"Continent\": \"NA\", \"Streams\": 43331}, {\"Date\": \"2017-04-21\", \"Continent\": \"SA\", \"Streams\": 93978}, {\"Date\": \"2017-04-22\", \"Continent\": \"AS\", \"Streams\": 273029}, {\"Date\": \"2017-04-22\", \"Continent\": \"EU\", \"Streams\": 54293}, {\"Date\": \"2017-04-22\", \"Continent\": \"NA\", \"Streams\": 38519}, {\"Date\": \"2017-04-22\", \"Continent\": \"SA\", \"Streams\": 45576}, {\"Date\": \"2017-04-23\", \"Continent\": \"AS\", \"Streams\": 243005}, {\"Date\": \"2017-04-23\", \"Continent\": \"EU\", \"Streams\": 20161}, {\"Date\": \"2017-04-23\", \"Continent\": \"NA\", \"Streams\": 32864}, {\"Date\": \"2017-04-23\", \"Continent\": \"SA\", \"Streams\": 41806}, {\"Date\": \"2017-04-24\", \"Continent\": \"AS\", \"Streams\": 268721}, {\"Date\": \"2017-04-24\", \"Continent\": \"EU\", \"Streams\": 51572}, {\"Date\": \"2017-04-24\", \"Continent\": \"NA\", \"Streams\": 41710}, {\"Date\": \"2017-04-24\", \"Continent\": \"SA\", \"Streams\": 100316}, {\"Date\": \"2017-04-25\", \"Continent\": \"AS\", \"Streams\": 254025}, {\"Date\": \"2017-04-25\", \"Continent\": \"EU\", \"Streams\": 66173}, {\"Date\": \"2017-04-25\", \"Continent\": \"NA\", \"Streams\": 44968}, {\"Date\": \"2017-04-25\", \"Continent\": \"SA\", \"Streams\": 101310}, {\"Date\": \"2017-04-26\", \"Continent\": \"AS\", \"Streams\": 252202}, {\"Date\": \"2017-04-26\", \"Continent\": \"EU\", \"Streams\": 44471}, {\"Date\": \"2017-04-26\", \"Continent\": \"NA\", \"Streams\": 43122}, {\"Date\": \"2017-04-26\", \"Continent\": \"SA\", \"Streams\": 48220}, {\"Date\": \"2017-04-27\", \"Continent\": \"AS\", \"Streams\": 236706}, {\"Date\": \"2017-04-27\", \"Continent\": \"EU\", \"Streams\": 46288}, {\"Date\": \"2017-04-27\", \"Continent\": \"NA\", \"Streams\": 48047}, {\"Date\": \"2017-04-27\", \"Continent\": \"SA\", \"Streams\": 53280}, {\"Date\": \"2017-04-28\", \"Continent\": \"AS\", \"Streams\": 215769}, {\"Date\": \"2017-04-28\", \"Continent\": \"EU\", \"Streams\": 50568}, {\"Date\": \"2017-04-28\", \"Continent\": \"NA\", \"Streams\": 2917}, {\"Date\": \"2017-04-28\", \"Continent\": \"SA\", \"Streams\": 82450}, {\"Date\": \"2017-04-29\", \"Continent\": \"AS\", \"Streams\": 199014}, {\"Date\": \"2017-04-29\", \"Continent\": \"EU\", \"Streams\": 39173}, {\"Date\": \"2017-04-29\", \"Continent\": \"NA\", \"Streams\": 42162}, {\"Date\": \"2017-04-29\", \"Continent\": \"SA\", \"Streams\": 41244}, {\"Date\": \"2017-04-30\", \"Continent\": \"AS\", \"Streams\": 178173}, {\"Date\": \"2017-04-30\", \"Continent\": \"EU\", \"Streams\": 34213}, {\"Date\": \"2017-04-30\", \"Continent\": \"NA\", \"Streams\": 33912}, {\"Date\": \"2017-04-30\", \"Continent\": \"SA\", \"Streams\": 38144}, {\"Date\": \"2017-05-01\", \"Continent\": \"AS\", \"Streams\": 190594}, {\"Date\": \"2017-05-01\", \"Continent\": \"EU\", \"Streams\": 28802}, {\"Date\": \"2017-05-01\", \"Continent\": \"NA\", \"Streams\": 38633}, {\"Date\": \"2017-05-01\", \"Continent\": \"SA\", \"Streams\": 40376}, {\"Date\": \"2017-05-02\", \"Continent\": \"AS\", \"Streams\": 206313}, {\"Date\": \"2017-05-02\", \"Continent\": \"EU\", \"Streams\": 73578}, {\"Date\": \"2017-05-02\", \"Continent\": \"NA\", \"Streams\": 43502}, {\"Date\": \"2017-05-02\", \"Continent\": \"SA\", \"Streams\": 58846}, {\"Date\": \"2017-05-03\", \"Continent\": \"AS\", \"Streams\": 199025}, {\"Date\": \"2017-05-03\", \"Continent\": \"EU\", \"Streams\": 43784}, {\"Date\": \"2017-05-03\", \"Continent\": \"NA\", \"Streams\": 43924}, {\"Date\": \"2017-05-03\", \"Continent\": \"SA\", \"Streams\": 82638}, {\"Date\": \"2017-05-04\", \"Continent\": \"AS\", \"Streams\": 197509}, {\"Date\": \"2017-05-04\", \"Continent\": \"EU\", \"Streams\": 101249}, {\"Date\": \"2017-05-04\", \"Continent\": \"NA\", \"Streams\": 45897}, {\"Date\": \"2017-05-04\", \"Continent\": \"SA\", \"Streams\": 76359}, {\"Date\": \"2017-05-05\", \"Continent\": \"AS\", \"Streams\": 167360}, {\"Date\": \"2017-05-05\", \"Continent\": \"EU\", \"Streams\": 50499}, {\"Date\": \"2017-05-05\", \"Continent\": \"NA\", \"Streams\": 44641}, {\"Date\": \"2017-05-05\", \"Continent\": \"SA\", \"Streams\": 86890}, {\"Date\": \"2017-05-06\", \"Continent\": \"AS\", \"Streams\": 170350}, {\"Date\": \"2017-05-06\", \"Continent\": \"EU\", \"Streams\": 29958}, {\"Date\": \"2017-05-06\", \"Continent\": \"NA\", \"Streams\": 40723}, {\"Date\": \"2017-05-06\", \"Continent\": \"SA\", \"Streams\": 40376}, {\"Date\": \"2017-05-07\", \"Continent\": \"AS\", \"Streams\": 147569}, {\"Date\": \"2017-05-07\", \"Continent\": \"EU\", \"Streams\": 18665}, {\"Date\": \"2017-05-07\", \"Continent\": \"NA\", \"Streams\": 32829}, {\"Date\": \"2017-05-07\", \"Continent\": \"SA\", \"Streams\": 36809}, {\"Date\": \"2017-05-08\", \"Continent\": \"AS\", \"Streams\": 186071}, {\"Date\": \"2017-05-08\", \"Continent\": \"EU\", \"Streams\": 24483}, {\"Date\": \"2017-05-08\", \"Continent\": \"NA\", \"Streams\": 42837}, {\"Date\": \"2017-05-08\", \"Continent\": \"SA\", \"Streams\": 42446}, {\"Date\": \"2017-05-09\", \"Continent\": \"AS\", \"Streams\": 187321}, {\"Date\": \"2017-05-09\", \"Continent\": \"EU\", \"Streams\": 64262}, {\"Date\": \"2017-05-09\", \"Continent\": \"NA\", \"Streams\": 44741}, {\"Date\": \"2017-05-09\", \"Continent\": \"SA\", \"Streams\": 40277}, {\"Date\": \"2017-05-10\", \"Continent\": \"AS\", \"Streams\": 176564}, {\"Date\": \"2017-05-10\", \"Continent\": \"EU\", \"Streams\": 35396}, {\"Date\": \"2017-05-10\", \"Continent\": \"NA\", \"Streams\": 43522}, {\"Date\": \"2017-05-10\", \"Continent\": \"SA\", \"Streams\": 75106}, {\"Date\": \"2017-05-11\", \"Continent\": \"AS\", \"Streams\": 165755}, {\"Date\": \"2017-05-11\", \"Continent\": \"EU\", \"Streams\": 42800}, {\"Date\": \"2017-05-11\", \"Continent\": \"NA\", \"Streams\": 43566}, {\"Date\": \"2017-05-11\", \"Continent\": \"OC\", \"Streams\": 17319}, {\"Date\": \"2017-05-11\", \"Continent\": \"SA\", \"Streams\": 40837}, {\"Date\": \"2017-05-12\", \"Continent\": \"AS\", \"Streams\": 155581}, {\"Date\": \"2017-05-12\", \"Continent\": \"EU\", \"Streams\": 27299}, {\"Date\": \"2017-05-12\", \"Continent\": \"NA\", \"Streams\": 43472}, {\"Date\": \"2017-05-12\", \"Continent\": \"SA\", \"Streams\": 35051}, {\"Date\": \"2017-05-13\", \"Continent\": \"AS\", \"Streams\": 137514}, {\"Date\": \"2017-05-13\", \"Continent\": \"EU\", \"Streams\": 20556}, {\"Date\": \"2017-05-13\", \"Continent\": \"NA\", \"Streams\": 40533}, {\"Date\": \"2017-05-13\", \"Continent\": \"SA\", \"Streams\": 30721}, {\"Date\": \"2017-05-14\", \"Continent\": \"AS\", \"Streams\": 135753}, {\"Date\": \"2017-05-14\", \"Continent\": \"NA\", \"Streams\": 32850}, {\"Date\": \"2017-05-14\", \"Continent\": \"SA\", \"Streams\": 27251}, {\"Date\": \"2017-05-15\", \"Continent\": \"AS\", \"Streams\": 154369}, {\"Date\": \"2017-05-15\", \"Continent\": \"NA\", \"Streams\": 42029}, {\"Date\": \"2017-05-15\", \"Continent\": \"SA\", \"Streams\": 39225}, {\"Date\": \"2017-05-16\", \"Continent\": \"AS\", \"Streams\": 175215}, {\"Date\": \"2017-05-16\", \"Continent\": \"EU\", \"Streams\": 50834}, {\"Date\": \"2017-05-16\", \"Continent\": \"NA\", \"Streams\": 43579}, {\"Date\": \"2017-05-16\", \"Continent\": \"SA\", \"Streams\": 39223}, {\"Date\": \"2017-05-17\", \"Continent\": \"AS\", \"Streams\": 151373}, {\"Date\": \"2017-05-17\", \"Continent\": \"EU\", \"Streams\": 28976}, {\"Date\": \"2017-05-17\", \"Continent\": \"NA\", \"Streams\": 43036}, {\"Date\": \"2017-05-17\", \"Continent\": \"SA\", \"Streams\": 39994}, {\"Date\": \"2017-05-18\", \"Continent\": \"AS\", \"Streams\": 152786}, {\"Date\": \"2017-05-18\", \"Continent\": \"NA\", \"Streams\": 43805}, {\"Date\": \"2017-05-18\", \"Continent\": \"SA\", \"Streams\": 35443}, {\"Date\": \"2017-05-19\", \"Continent\": \"AS\", \"Streams\": 142330}, {\"Date\": \"2017-05-19\", \"Continent\": \"EU\", \"Streams\": 23749}, {\"Date\": \"2017-05-19\", \"Continent\": \"NA\", \"Streams\": 42844}, {\"Date\": \"2017-05-19\", \"Continent\": \"SA\", \"Streams\": 34701}, {\"Date\": \"2017-05-20\", \"Continent\": \"AS\", \"Streams\": 125438}, {\"Date\": \"2017-05-20\", \"Continent\": \"EU\", \"Streams\": 19168}, {\"Date\": \"2017-05-20\", \"Continent\": \"NA\", \"Streams\": 3745}, {\"Date\": \"2017-05-20\", \"Continent\": \"SA\", \"Streams\": 29940}, {\"Date\": \"2017-05-21\", \"Continent\": \"AS\", \"Streams\": 128828}, {\"Date\": \"2017-05-21\", \"Continent\": \"NA\", \"Streams\": 33727}, {\"Date\": \"2017-05-21\", \"Continent\": \"SA\", \"Streams\": 28541}, {\"Date\": \"2017-05-22\", \"Continent\": \"AS\", \"Streams\": 144292}, {\"Date\": \"2017-05-22\", \"Continent\": \"EU\", \"Streams\": 26680}, {\"Date\": \"2017-05-22\", \"Continent\": \"NA\", \"Streams\": 41246}, {\"Date\": \"2017-05-22\", \"Continent\": \"SA\", \"Streams\": 40982}, {\"Date\": \"2017-05-23\", \"Continent\": \"AS\", \"Streams\": 144952}, {\"Date\": \"2017-05-23\", \"Continent\": \"EU\", \"Streams\": 68069}, {\"Date\": \"2017-05-23\", \"Continent\": \"NA\", \"Streams\": 43393}, {\"Date\": \"2017-05-23\", \"Continent\": \"SA\", \"Streams\": 34526}, {\"Date\": \"2017-05-24\", \"Continent\": \"AS\", \"Streams\": 143638}, {\"Date\": \"2017-05-24\", \"Continent\": \"EU\", \"Streams\": 39599}, {\"Date\": \"2017-05-24\", \"Continent\": \"NA\", \"Streams\": 43194}, {\"Date\": \"2017-05-24\", \"Continent\": \"SA\", \"Streams\": 39077}, {\"Date\": \"2017-05-25\", \"Continent\": \"AS\", \"Streams\": 143008}, {\"Date\": \"2017-05-25\", \"Continent\": \"EU\", \"Streams\": 2338}, {\"Date\": \"2017-05-25\", \"Continent\": \"NA\", \"Streams\": 45495}, {\"Date\": \"2017-05-25\", \"Continent\": \"SA\", \"Streams\": 33328}, {\"Date\": \"2017-05-26\", \"Continent\": \"AS\", \"Streams\": 137322}, {\"Date\": \"2017-05-26\", \"Continent\": \"EU\", \"Streams\": 25585}, {\"Date\": \"2017-05-26\", \"Continent\": \"NA\", \"Streams\": 44424}, {\"Date\": \"2017-05-26\", \"Continent\": \"SA\", \"Streams\": 34959}, {\"Date\": \"2017-05-27\", \"Continent\": \"AS\", \"Streams\": 119033}, {\"Date\": \"2017-05-27\", \"Continent\": \"EU\", \"Streams\": 21169}, {\"Date\": \"2017-05-27\", \"Continent\": \"NA\", \"Streams\": 41618}, {\"Date\": \"2017-05-27\", \"Continent\": \"SA\", \"Streams\": 31285}, {\"Date\": \"2017-05-28\", \"Continent\": \"AS\", \"Streams\": 120769}, {\"Date\": \"2017-05-28\", \"Continent\": \"NA\", \"Streams\": 35724}, {\"Date\": \"2017-05-28\", \"Continent\": \"SA\", \"Streams\": 28544}, {\"Date\": \"2017-05-29\", \"Continent\": \"AS\", \"Streams\": 143687}, {\"Date\": \"2017-05-29\", \"Continent\": \"EU\", \"Streams\": 2280}, {\"Date\": \"2017-05-29\", \"Continent\": \"NA\", \"Streams\": 42132}, {\"Date\": \"2017-05-29\", \"Continent\": \"SA\", \"Streams\": 38086}, {\"Date\": \"2017-06-01\", \"Continent\": \"AS\", \"Streams\": 137992}, {\"Date\": \"2017-06-01\", \"Continent\": \"NA\", \"Streams\": 48254}, {\"Date\": \"2017-06-01\", \"Continent\": \"SA\", \"Streams\": 40824}, {\"Date\": \"2017-06-03\", \"Continent\": \"AS\", \"Streams\": 100759}, {\"Date\": \"2017-06-03\", \"Continent\": \"EU\", \"Streams\": 18067}, {\"Date\": \"2017-06-03\", \"Continent\": \"NA\", \"Streams\": 40076}, {\"Date\": \"2017-06-03\", \"Continent\": \"SA\", \"Streams\": 30540}, {\"Date\": \"2017-06-04\", \"Continent\": \"AS\", \"Streams\": 111637}, {\"Date\": \"2017-06-04\", \"Continent\": \"EU\", \"Streams\": 71636}, {\"Date\": \"2017-06-04\", \"Continent\": \"NA\", \"Streams\": 36334}, {\"Date\": \"2017-06-04\", \"Continent\": \"SA\", \"Streams\": 29435}, {\"Date\": \"2017-06-05\", \"Continent\": \"AS\", \"Streams\": 147197}, {\"Date\": \"2017-06-05\", \"Continent\": \"EU\", \"Streams\": 328211}, {\"Date\": \"2017-06-05\", \"Continent\": \"NA\", \"Streams\": 52929}, {\"Date\": \"2017-06-05\", \"Continent\": \"OC\", \"Streams\": 15825}, {\"Date\": \"2017-06-05\", \"Continent\": \"SA\", \"Streams\": 83585}, {\"Date\": \"2017-06-06\", \"Continent\": \"AS\", \"Streams\": 174612}, {\"Date\": \"2017-06-06\", \"Continent\": \"EU\", \"Streams\": 253830}, {\"Date\": \"2017-06-06\", \"Continent\": \"NA\", \"Streams\": 54227}, {\"Date\": \"2017-06-06\", \"Continent\": \"SA\", \"Streams\": 54115}, {\"Date\": \"2017-06-07\", \"Continent\": \"AS\", \"Streams\": 192295}, {\"Date\": \"2017-06-07\", \"Continent\": \"EU\", \"Streams\": 222488}, {\"Date\": \"2017-06-07\", \"Continent\": \"NA\", \"Streams\": 55354}, {\"Date\": \"2017-06-07\", \"Continent\": \"SA\", \"Streams\": 46580}, {\"Date\": \"2017-06-08\", \"Continent\": \"AS\", \"Streams\": 190880}, {\"Date\": \"2017-06-08\", \"Continent\": \"EU\", \"Streams\": 169339}, {\"Date\": \"2017-06-08\", \"Continent\": \"NA\", \"Streams\": 59520}, {\"Date\": \"2017-06-08\", \"Continent\": \"SA\", \"Streams\": 76416}, {\"Date\": \"2017-06-09\", \"Continent\": \"AS\", \"Streams\": 159812}, {\"Date\": \"2017-06-09\", \"Continent\": \"EU\", \"Streams\": 130709}, {\"Date\": \"2017-06-09\", \"Continent\": \"NA\", \"Streams\": 53148}, {\"Date\": \"2017-06-09\", \"Continent\": \"SA\", \"Streams\": 52634}, {\"Date\": \"2017-06-10\", \"Continent\": \"AS\", \"Streams\": 129366}, {\"Date\": \"2017-06-10\", \"Continent\": \"EU\", \"Streams\": 134034}, {\"Date\": \"2017-06-10\", \"Continent\": \"NA\", \"Streams\": 49980}, {\"Date\": \"2017-06-10\", \"Continent\": \"SA\", \"Streams\": 44385}, {\"Date\": \"2017-06-11\", \"Continent\": \"AS\", \"Streams\": 134413}, {\"Date\": \"2017-06-11\", \"Continent\": \"EU\", \"Streams\": 146622}, {\"Date\": \"2017-06-11\", \"Continent\": \"NA\", \"Streams\": 41559}, {\"Date\": \"2017-06-11\", \"Continent\": \"SA\", \"Streams\": 43800}, {\"Date\": \"2017-06-12\", \"Continent\": \"AS\", \"Streams\": 154891}, {\"Date\": \"2017-06-12\", \"Continent\": \"EU\", \"Streams\": 160231}, {\"Date\": \"2017-06-12\", \"Continent\": \"NA\", \"Streams\": 52404}, {\"Date\": \"2017-06-12\", \"Continent\": \"SA\", \"Streams\": 44005}, {\"Date\": \"2017-06-13\", \"Continent\": \"AS\", \"Streams\": 154546}, {\"Date\": \"2017-06-13\", \"Continent\": \"EU\", \"Streams\": 129134}, {\"Date\": \"2017-06-13\", \"Continent\": \"NA\", \"Streams\": 56735}, {\"Date\": \"2017-06-13\", \"Continent\": \"SA\", \"Streams\": 42978}, {\"Date\": \"2017-06-14\", \"Continent\": \"AS\", \"Streams\": 156132}, {\"Date\": \"2017-06-14\", \"Continent\": \"EU\", \"Streams\": 84121}, {\"Date\": \"2017-06-14\", \"Continent\": \"NA\", \"Streams\": 54506}, {\"Date\": \"2017-06-14\", \"Continent\": \"SA\", \"Streams\": 43685}, {\"Date\": \"2017-06-15\", \"Continent\": \"AS\", \"Streams\": 155004}, {\"Date\": \"2017-06-15\", \"Continent\": \"EU\", \"Streams\": 78220}, {\"Date\": \"2017-06-15\", \"Continent\": \"NA\", \"Streams\": 55055}, {\"Date\": \"2017-06-15\", \"Continent\": \"SA\", \"Streams\": 57054}, {\"Date\": \"2017-06-16\", \"Continent\": \"AS\", \"Streams\": 272802}, {\"Date\": \"2017-06-16\", \"Continent\": \"EU\", \"Streams\": 369548}, {\"Date\": \"2017-06-16\", \"Continent\": \"NA\", \"Streams\": 369071}, {\"Date\": \"2017-06-16\", \"Continent\": \"SA\", \"Streams\": 109318}, {\"Date\": \"2017-06-17\", \"Continent\": \"AS\", \"Streams\": 178703}, {\"Date\": \"2017-06-17\", \"Continent\": \"EU\", \"Streams\": 119897}, {\"Date\": \"2017-06-17\", \"Continent\": \"NA\", \"Streams\": 46926}, {\"Date\": \"2017-06-17\", \"Continent\": \"SA\", \"Streams\": 34438}, {\"Date\": \"2017-06-18\", \"Continent\": \"AS\", \"Streams\": 164940}, {\"Date\": \"2017-06-18\", \"Continent\": \"EU\", \"Streams\": 116007}, {\"Date\": \"2017-06-18\", \"Continent\": \"NA\", \"Streams\": 38353}, {\"Date\": \"2017-06-18\", \"Continent\": \"SA\", \"Streams\": 31314}, {\"Date\": \"2017-06-19\", \"Continent\": \"AS\", \"Streams\": 200420}, {\"Date\": \"2017-06-19\", \"Continent\": \"EU\", \"Streams\": 148792}, {\"Date\": \"2017-06-19\", \"Continent\": \"NA\", \"Streams\": 50350}, {\"Date\": \"2017-06-19\", \"Continent\": \"SA\", \"Streams\": 43053}, {\"Date\": \"2017-06-20\", \"Continent\": \"AS\", \"Streams\": 173392}, {\"Date\": \"2017-06-20\", \"Continent\": \"EU\", \"Streams\": 123845}, {\"Date\": \"2017-06-20\", \"Continent\": \"NA\", \"Streams\": 57603}, {\"Date\": \"2017-06-20\", \"Continent\": \"SA\", \"Streams\": 78772}, {\"Date\": \"2017-06-21\", \"Continent\": \"AS\", \"Streams\": 195944}, {\"Date\": \"2017-06-21\", \"Continent\": \"EU\", \"Streams\": 120401}, {\"Date\": \"2017-06-21\", \"Continent\": \"NA\", \"Streams\": 58691}, {\"Date\": \"2017-06-21\", \"Continent\": \"SA\", \"Streams\": 83698}, {\"Date\": \"2017-06-22\", \"Continent\": \"AS\", \"Streams\": 168990}, {\"Date\": \"2017-06-22\", \"Continent\": \"EU\", \"Streams\": 143505}, {\"Date\": \"2017-06-22\", \"Continent\": \"NA\", \"Streams\": 61498}, {\"Date\": \"2017-06-22\", \"Continent\": \"SA\", \"Streams\": 101699}, {\"Date\": \"2017-06-23\", \"Continent\": \"AS\", \"Streams\": 151192}, {\"Date\": \"2017-06-23\", \"Continent\": \"EU\", \"Streams\": 83104}, {\"Date\": \"2017-06-23\", \"Continent\": \"NA\", \"Streams\": 54425}, {\"Date\": \"2017-06-23\", \"Continent\": \"SA\", \"Streams\": 42184}, {\"Date\": \"2017-06-24\", \"Continent\": \"AS\", \"Streams\": 101856}, {\"Date\": \"2017-06-24\", \"Continent\": \"EU\", \"Streams\": 195949}, {\"Date\": \"2017-06-24\", \"Continent\": \"NA\", \"Streams\": 46008}, {\"Date\": \"2017-06-24\", \"Continent\": \"SA\", \"Streams\": 36215}, {\"Date\": \"2017-06-25\", \"Continent\": \"AS\", \"Streams\": 94639}, {\"Date\": \"2017-06-25\", \"Continent\": \"EU\", \"Streams\": 415767}, {\"Date\": \"2017-06-25\", \"Continent\": \"NA\", \"Streams\": 39668}, {\"Date\": \"2017-06-25\", \"Continent\": \"SA\", \"Streams\": 31628}, {\"Date\": \"2017-06-26\", \"Continent\": \"AS\", \"Streams\": 125883}, {\"Date\": \"2017-06-26\", \"Continent\": \"EU\", \"Streams\": 504705}, {\"Date\": \"2017-06-26\", \"Continent\": \"NA\", \"Streams\": 54510}, {\"Date\": \"2017-06-26\", \"Continent\": \"SA\", \"Streams\": 81592}, {\"Date\": \"2017-06-27\", \"Continent\": \"AS\", \"Streams\": 135542}, {\"Date\": \"2017-06-27\", \"Continent\": \"EU\", \"Streams\": 422024}, {\"Date\": \"2017-06-27\", \"Continent\": \"NA\", \"Streams\": 54527}, {\"Date\": \"2017-06-27\", \"Continent\": \"SA\", \"Streams\": 86197}, {\"Date\": \"2017-06-28\", \"Continent\": \"AS\", \"Streams\": 159783}, {\"Date\": \"2017-06-28\", \"Continent\": \"EU\", \"Streams\": 275578}, {\"Date\": \"2017-06-28\", \"Continent\": \"NA\", \"Streams\": 54674}, {\"Date\": \"2017-06-28\", \"Continent\": \"SA\", \"Streams\": 83452}, {\"Date\": \"2017-06-29\", \"Continent\": \"AS\", \"Streams\": 124287}, {\"Date\": \"2017-06-29\", \"Continent\": \"EU\", \"Streams\": 195041}, {\"Date\": \"2017-06-29\", \"Continent\": \"NA\", \"Streams\": 55160}, {\"Date\": \"2017-06-29\", \"Continent\": \"SA\", \"Streams\": 84871}, {\"Date\": \"2017-06-30\", \"Continent\": \"AS\", \"Streams\": 137109}, {\"Date\": \"2017-06-30\", \"Continent\": \"EU\", \"Streams\": 160929}, {\"Date\": \"2017-06-30\", \"Continent\": \"NA\", \"Streams\": 52318}, {\"Date\": \"2017-06-30\", \"Continent\": \"SA\", \"Streams\": 37691}, {\"Date\": \"2017-07-01\", \"Continent\": \"AS\", \"Streams\": 108737}, {\"Date\": \"2017-07-01\", \"Continent\": \"EU\", \"Streams\": 195655}, {\"Date\": \"2017-07-01\", \"Continent\": \"NA\", \"Streams\": 48029}, {\"Date\": \"2017-07-01\", \"Continent\": \"SA\", \"Streams\": 35021}, {\"Date\": \"2017-07-02\", \"Continent\": \"AS\", \"Streams\": 124252}, {\"Date\": \"2017-07-02\", \"Continent\": \"EU\", \"Streams\": 151511}, {\"Date\": \"2017-07-02\", \"Continent\": \"NA\", \"Streams\": 39274}, {\"Date\": \"2017-07-02\", \"Continent\": \"SA\", \"Streams\": 30579}, {\"Date\": \"2017-07-03\", \"Continent\": \"AS\", \"Streams\": 125946}, {\"Date\": \"2017-07-03\", \"Continent\": \"EU\", \"Streams\": 144312}, {\"Date\": \"2017-07-03\", \"Continent\": \"NA\", \"Streams\": 50312}, {\"Date\": \"2017-07-03\", \"Continent\": \"OC\", \"Streams\": 15623}, {\"Date\": \"2017-07-03\", \"Continent\": \"SA\", \"Streams\": 81588}, {\"Date\": \"2017-07-04\", \"Continent\": \"AS\", \"Streams\": 122282}, {\"Date\": \"2017-07-04\", \"Continent\": \"EU\", \"Streams\": 218625}, {\"Date\": \"2017-07-04\", \"Continent\": \"NA\", \"Streams\": 218355}, {\"Date\": \"2017-07-04\", \"Continent\": \"SA\", \"Streams\": 86117}, {\"Date\": \"2017-07-05\", \"Continent\": \"AS\", \"Streams\": 142865}, {\"Date\": \"2017-07-05\", \"Continent\": \"EU\", \"Streams\": 188730}, {\"Date\": \"2017-07-05\", \"Continent\": \"NA\", \"Streams\": 53932}, {\"Date\": \"2017-07-05\", \"Continent\": \"SA\", \"Streams\": 84135}, {\"Date\": \"2017-07-06\", \"Continent\": \"AS\", \"Streams\": 117314}, {\"Date\": \"2017-07-06\", \"Continent\": \"EU\", \"Streams\": 165668}, {\"Date\": \"2017-07-06\", \"Continent\": \"NA\", \"Streams\": 53931}, {\"Date\": \"2017-07-06\", \"Continent\": \"SA\", \"Streams\": 99211}, {\"Date\": \"2017-07-07\", \"Continent\": \"AS\", \"Streams\": 192261}, {\"Date\": \"2017-07-07\", \"Continent\": \"EU\", \"Streams\": 390588}, {\"Date\": \"2017-07-07\", \"Continent\": \"NA\", \"Streams\": 279817}, {\"Date\": \"2017-07-07\", \"Continent\": \"SA\", \"Streams\": 144873}, {\"Date\": \"2017-07-08\", \"Continent\": \"AS\", \"Streams\": 123220}, {\"Date\": \"2017-07-08\", \"Continent\": \"EU\", \"Streams\": 230744}, {\"Date\": \"2017-07-08\", \"Continent\": \"NA\", \"Streams\": 47310}, {\"Date\": \"2017-07-08\", \"Continent\": \"SA\", \"Streams\": 58637}, {\"Date\": \"2017-07-09\", \"Continent\": \"AS\", \"Streams\": 114166}, {\"Date\": \"2017-07-09\", \"Continent\": \"EU\", \"Streams\": 194260}, {\"Date\": \"2017-07-09\", \"Continent\": \"NA\", \"Streams\": 40269}, {\"Date\": \"2017-07-09\", \"Continent\": \"SA\", \"Streams\": 75190}, {\"Date\": \"2017-07-10\", \"Continent\": \"AS\", \"Streams\": 127576}, {\"Date\": \"2017-07-10\", \"Continent\": \"EU\", \"Streams\": 159235}, {\"Date\": \"2017-07-10\", \"Continent\": \"NA\", \"Streams\": 52781}, {\"Date\": \"2017-07-10\", \"Continent\": \"OC\", \"Streams\": 15775}, {\"Date\": \"2017-07-10\", \"Continent\": \"SA\", \"Streams\": 168445}, {\"Date\": \"2017-07-11\", \"Continent\": \"AS\", \"Streams\": 132919}, {\"Date\": \"2017-07-11\", \"Continent\": \"EU\", \"Streams\": 169815}, {\"Date\": \"2017-07-11\", \"Continent\": \"NA\", \"Streams\": 52830}, {\"Date\": \"2017-07-11\", \"Continent\": \"SA\", \"Streams\": 152781}, {\"Date\": \"2017-07-12\", \"Continent\": \"AS\", \"Streams\": 132738}, {\"Date\": \"2017-07-12\", \"Continent\": \"EU\", \"Streams\": 126509}, {\"Date\": \"2017-07-12\", \"Continent\": \"NA\", \"Streams\": 54221}, {\"Date\": \"2017-07-12\", \"Continent\": \"SA\", \"Streams\": 170628}, {\"Date\": \"2017-07-13\", \"Continent\": \"AS\", \"Streams\": 128924}, {\"Date\": \"2017-07-13\", \"Continent\": \"EU\", \"Streams\": 113294}, {\"Date\": \"2017-07-13\", \"Continent\": \"NA\", \"Streams\": 54563}, {\"Date\": \"2017-07-13\", \"Continent\": \"SA\", \"Streams\": 142165}, {\"Date\": \"2017-07-14\", \"Continent\": \"AS\", \"Streams\": 406064}, {\"Date\": \"2017-07-14\", \"Continent\": \"EU\", \"Streams\": 1593465}, {\"Date\": \"2017-07-14\", \"Continent\": \"NA\", \"Streams\": 836171}, {\"Date\": \"2017-07-14\", \"Continent\": \"OC\", \"Streams\": 29369}, {\"Date\": \"2017-07-14\", \"Continent\": \"SA\", \"Streams\": 338341}, {\"Date\": \"2017-07-15\", \"Continent\": \"AS\", \"Streams\": 190402}, {\"Date\": \"2017-07-15\", \"Continent\": \"EU\", \"Streams\": 394171}, {\"Date\": \"2017-07-15\", \"Continent\": \"NA\", \"Streams\": 228928}, {\"Date\": \"2017-07-15\", \"Continent\": \"SA\", \"Streams\": 41426}, {\"Date\": \"2017-07-16\", \"Continent\": \"AS\", \"Streams\": 149317}, {\"Date\": \"2017-07-16\", \"Continent\": \"EU\", \"Streams\": 262154}, {\"Date\": \"2017-07-16\", \"Continent\": \"NA\", \"Streams\": 39565}, {\"Date\": \"2017-07-16\", \"Continent\": \"SA\", \"Streams\": 35254}, {\"Date\": \"2017-07-17\", \"Continent\": \"AS\", \"Streams\": 211772}, {\"Date\": \"2017-07-17\", \"Continent\": \"EU\", \"Streams\": 270225}, {\"Date\": \"2017-07-17\", \"Continent\": \"NA\", \"Streams\": 51008}, {\"Date\": \"2017-07-17\", \"Continent\": \"SA\", \"Streams\": 144784}, {\"Date\": \"2017-07-18\", \"Continent\": \"AS\", \"Streams\": 187235}, {\"Date\": \"2017-07-18\", \"Continent\": \"EU\", \"Streams\": 253071}, {\"Date\": \"2017-07-18\", \"Continent\": \"NA\", \"Streams\": 52829}, {\"Date\": \"2017-07-18\", \"Continent\": \"SA\", \"Streams\": 118355}, {\"Date\": \"2017-07-19\", \"Continent\": \"AS\", \"Streams\": 188379}, {\"Date\": \"2017-07-19\", \"Continent\": \"EU\", \"Streams\": 278459}, {\"Date\": \"2017-07-19\", \"Continent\": \"NA\", \"Streams\": 52281}, {\"Date\": \"2017-07-19\", \"Continent\": \"SA\", \"Streams\": 104017}, {\"Date\": \"2017-07-20\", \"Continent\": \"AS\", \"Streams\": 229554}, {\"Date\": \"2017-07-20\", \"Continent\": \"EU\", \"Streams\": 284901}, {\"Date\": \"2017-07-20\", \"Continent\": \"NA\", \"Streams\": 209449}, {\"Date\": \"2017-07-20\", \"Continent\": \"SA\", \"Streams\": 92527}, {\"Date\": \"2017-07-21\", \"Continent\": \"AS\", \"Streams\": 99957}, {\"Date\": \"2017-07-21\", \"Continent\": \"EU\", \"Streams\": 111166}, {\"Date\": \"2017-07-21\", \"Continent\": \"NA\", \"Streams\": 50087}, {\"Date\": \"2017-07-21\", \"Continent\": \"SA\", \"Streams\": 40620}, {\"Date\": \"2017-07-22\", \"Continent\": \"AS\", \"Streams\": 132298}, {\"Date\": \"2017-07-22\", \"Continent\": \"EU\", \"Streams\": 154836}, {\"Date\": \"2017-07-22\", \"Continent\": \"NA\", \"Streams\": 44861}, {\"Date\": \"2017-07-22\", \"Continent\": \"SA\", \"Streams\": 37835}, {\"Date\": \"2017-07-23\", \"Continent\": \"AS\", \"Streams\": 126909}, {\"Date\": \"2017-07-23\", \"Continent\": \"EU\", \"Streams\": 131190}, {\"Date\": \"2017-07-23\", \"Continent\": \"NA\", \"Streams\": 38149}, {\"Date\": \"2017-07-23\", \"Continent\": \"SA\", \"Streams\": 34202}, {\"Date\": \"2017-07-24\", \"Continent\": \"AS\", \"Streams\": 134621}, {\"Date\": \"2017-07-24\", \"Continent\": \"EU\", \"Streams\": 93581}, {\"Date\": \"2017-07-24\", \"Continent\": \"NA\", \"Streams\": 47283}, {\"Date\": \"2017-07-24\", \"Continent\": \"SA\", \"Streams\": 89856}, {\"Date\": \"2017-07-25\", \"Continent\": \"AS\", \"Streams\": 106966}, {\"Date\": \"2017-07-25\", \"Continent\": \"EU\", \"Streams\": 111891}, {\"Date\": \"2017-07-25\", \"Continent\": \"NA\", \"Streams\": 48538}, {\"Date\": \"2017-07-25\", \"Continent\": \"SA\", \"Streams\": 87878}, {\"Date\": \"2017-07-26\", \"Continent\": \"AS\", \"Streams\": 116569}, {\"Date\": \"2017-07-26\", \"Continent\": \"EU\", \"Streams\": 107891}, {\"Date\": \"2017-07-26\", \"Continent\": \"NA\", \"Streams\": 49645}, {\"Date\": \"2017-07-26\", \"Continent\": \"SA\", \"Streams\": 46240}, {\"Date\": \"2017-07-27\", \"Continent\": \"AS\", \"Streams\": 125666}, {\"Date\": \"2017-07-27\", \"Continent\": \"EU\", \"Streams\": 82707}, {\"Date\": \"2017-07-27\", \"Continent\": \"NA\", \"Streams\": 49747}, {\"Date\": \"2017-07-27\", \"Continent\": \"SA\", \"Streams\": 49109}, {\"Date\": \"2017-07-28\", \"Continent\": \"AS\", \"Streams\": 114875}, {\"Date\": \"2017-07-28\", \"Continent\": \"EU\", \"Streams\": 55097}, {\"Date\": \"2017-07-28\", \"Continent\": \"NA\", \"Streams\": 49433}, {\"Date\": \"2017-07-28\", \"Continent\": \"SA\", \"Streams\": 43647}, {\"Date\": \"2017-07-29\", \"Continent\": \"AS\", \"Streams\": 102422}, {\"Date\": \"2017-07-29\", \"Continent\": \"EU\", \"Streams\": 96836}, {\"Date\": \"2017-07-29\", \"Continent\": \"NA\", \"Streams\": 43943}, {\"Date\": \"2017-07-29\", \"Continent\": \"SA\", \"Streams\": 35284}, {\"Date\": \"2017-07-30\", \"Continent\": \"AS\", \"Streams\": 100889}, {\"Date\": \"2017-07-30\", \"Continent\": \"EU\", \"Streams\": 68621}, {\"Date\": \"2017-07-30\", \"Continent\": \"NA\", \"Streams\": 37511}, {\"Date\": \"2017-07-30\", \"Continent\": \"SA\", \"Streams\": 32796}, {\"Date\": \"2017-07-31\", \"Continent\": \"AS\", \"Streams\": 115691}, {\"Date\": \"2017-07-31\", \"Continent\": \"EU\", \"Streams\": 49793}, {\"Date\": \"2017-07-31\", \"Continent\": \"NA\", \"Streams\": 47200}, {\"Date\": \"2017-07-31\", \"Continent\": \"SA\", \"Streams\": 85128}, {\"Date\": \"2017-08-01\", \"Continent\": \"AS\", \"Streams\": 121406}, {\"Date\": \"2017-08-01\", \"Continent\": \"EU\", \"Streams\": 105201}, {\"Date\": \"2017-08-01\", \"Continent\": \"NA\", \"Streams\": 50960}, {\"Date\": \"2017-08-01\", \"Continent\": \"SA\", \"Streams\": 85080}, {\"Date\": \"2017-08-02\", \"Continent\": \"AS\", \"Streams\": 128005}, {\"Date\": \"2017-08-02\", \"Continent\": \"EU\", \"Streams\": 68947}, {\"Date\": \"2017-08-02\", \"Continent\": \"NA\", \"Streams\": 48097}, {\"Date\": \"2017-08-02\", \"Continent\": \"SA\", \"Streams\": 83544}, {\"Date\": \"2017-08-03\", \"Continent\": \"AS\", \"Streams\": 130573}, {\"Date\": \"2017-08-03\", \"Continent\": \"EU\", \"Streams\": 57038}, {\"Date\": \"2017-08-03\", \"Continent\": \"NA\", \"Streams\": 49060}, {\"Date\": \"2017-08-03\", \"Continent\": \"SA\", \"Streams\": 47676}, {\"Date\": \"2017-08-04\", \"Continent\": \"AS\", \"Streams\": 107879}, {\"Date\": \"2017-08-04\", \"Continent\": \"EU\", \"Streams\": 58803}, {\"Date\": \"2017-08-04\", \"Continent\": \"NA\", \"Streams\": 48421}, {\"Date\": \"2017-08-04\", \"Continent\": \"SA\", \"Streams\": 39240}, {\"Date\": \"2017-08-05\", \"Continent\": \"AS\", \"Streams\": 84525}, {\"Date\": \"2017-08-05\", \"Continent\": \"EU\", \"Streams\": 86429}, {\"Date\": \"2017-08-05\", \"Continent\": \"NA\", \"Streams\": 43516}, {\"Date\": \"2017-08-05\", \"Continent\": \"SA\", \"Streams\": 35166}, {\"Date\": \"2017-08-06\", \"Continent\": \"AS\", \"Streams\": 78786}, {\"Date\": \"2017-08-06\", \"Continent\": \"EU\", \"Streams\": 88433}, {\"Date\": \"2017-08-06\", \"Continent\": \"NA\", \"Streams\": 37808}, {\"Date\": \"2017-08-06\", \"Continent\": \"SA\", \"Streams\": 32917}, {\"Date\": \"2017-08-07\", \"Continent\": \"AS\", \"Streams\": 114096}, {\"Date\": \"2017-08-07\", \"Continent\": \"EU\", \"Streams\": 41328}, {\"Date\": \"2017-08-07\", \"Continent\": \"NA\", \"Streams\": 47665}, {\"Date\": \"2017-08-07\", \"Continent\": \"SA\", \"Streams\": 42007}, {\"Date\": \"2017-08-08\", \"Continent\": \"AS\", \"Streams\": 101497}, {\"Date\": \"2017-08-08\", \"Continent\": \"EU\", \"Streams\": 80093}, {\"Date\": \"2017-08-08\", \"Continent\": \"NA\", \"Streams\": 48981}, {\"Date\": \"2017-08-08\", \"Continent\": \"SA\", \"Streams\": 44499}, {\"Date\": \"2017-08-09\", \"Continent\": \"AS\", \"Streams\": 107043}, {\"Date\": \"2017-08-09\", \"Continent\": \"EU\", \"Streams\": 44494}, {\"Date\": \"2017-08-09\", \"Continent\": \"NA\", \"Streams\": 49550}, {\"Date\": \"2017-08-09\", \"Continent\": \"SA\", \"Streams\": 44633}, {\"Date\": \"2017-08-10\", \"Continent\": \"AS\", \"Streams\": 108105}, {\"Date\": \"2017-08-10\", \"Continent\": \"EU\", \"Streams\": 24244}, {\"Date\": \"2017-08-10\", \"Continent\": \"NA\", \"Streams\": 51633}, {\"Date\": \"2017-08-10\", \"Continent\": \"SA\", \"Streams\": 46530}, {\"Date\": \"2017-08-11\", \"Continent\": \"AS\", \"Streams\": 88097}, {\"Date\": \"2017-08-11\", \"Continent\": \"EU\", \"Streams\": 86684}, {\"Date\": \"2017-08-11\", \"Continent\": \"NA\", \"Streams\": 49788}, {\"Date\": \"2017-08-11\", \"Continent\": \"SA\", \"Streams\": 40175}, {\"Date\": \"2017-08-12\", \"Continent\": \"AS\", \"Streams\": 83400}, {\"Date\": \"2017-08-12\", \"Continent\": \"EU\", \"Streams\": 69242}, {\"Date\": \"2017-08-12\", \"Continent\": \"NA\", \"Streams\": 45189}, {\"Date\": \"2017-08-12\", \"Continent\": \"SA\", \"Streams\": 35771}, {\"Date\": \"2017-08-13\", \"Continent\": \"AS\", \"Streams\": 80956}, {\"Date\": \"2017-08-13\", \"Continent\": \"EU\", \"Streams\": 67727}, {\"Date\": \"2017-08-13\", \"Continent\": \"NA\", \"Streams\": 39478}, {\"Date\": \"2017-08-13\", \"Continent\": \"SA\", \"Streams\": 32886}, {\"Date\": \"2017-08-14\", \"Continent\": \"AS\", \"Streams\": 98006}, {\"Date\": \"2017-08-14\", \"Continent\": \"EU\", \"Streams\": 23351}, {\"Date\": \"2017-08-14\", \"Continent\": \"NA\", \"Streams\": 48403}, {\"Date\": \"2017-08-14\", \"Continent\": \"SA\", \"Streams\": 44159}, {\"Date\": \"2017-08-15\", \"Continent\": \"AS\", \"Streams\": 99580}, {\"Date\": \"2017-08-15\", \"Continent\": \"EU\", \"Streams\": 41229}, {\"Date\": \"2017-08-15\", \"Continent\": \"NA\", \"Streams\": 49780}, {\"Date\": \"2017-08-15\", \"Continent\": \"SA\", \"Streams\": 42976}, {\"Date\": \"2017-08-16\", \"Continent\": \"AS\", \"Streams\": 92497}, {\"Date\": \"2017-08-16\", \"Continent\": \"EU\", \"Streams\": 27375}, {\"Date\": \"2017-08-16\", \"Continent\": \"NA\", \"Streams\": 49649}, {\"Date\": \"2017-08-16\", \"Continent\": \"SA\", \"Streams\": 44958}, {\"Date\": \"2017-08-17\", \"Continent\": \"AS\", \"Streams\": 93952}, {\"Date\": \"2017-08-17\", \"Continent\": \"EU\", \"Streams\": 25400}, {\"Date\": \"2017-08-17\", \"Continent\": \"NA\", \"Streams\": 51256}, {\"Date\": \"2017-08-17\", \"Continent\": \"SA\", \"Streams\": 47852}, {\"Date\": \"2017-08-18\", \"Continent\": \"AS\", \"Streams\": 83089}, {\"Date\": \"2017-08-18\", \"Continent\": \"EU\", \"Streams\": 40765}, {\"Date\": \"2017-08-18\", \"Continent\": \"NA\", \"Streams\": 50891}, {\"Date\": \"2017-08-18\", \"Continent\": \"SA\", \"Streams\": 40420}, {\"Date\": \"2017-08-19\", \"Continent\": \"AS\", \"Streams\": 80513}, {\"Date\": \"2017-08-19\", \"Continent\": \"EU\", \"Streams\": 54126}, {\"Date\": \"2017-08-19\", \"Continent\": \"NA\", \"Streams\": 45133}, {\"Date\": \"2017-08-19\", \"Continent\": \"SA\", \"Streams\": 36385}, {\"Date\": \"2017-08-20\", \"Continent\": \"AS\", \"Streams\": 75657}, {\"Date\": \"2017-08-20\", \"Continent\": \"EU\", \"Streams\": 47504}, {\"Date\": \"2017-08-20\", \"Continent\": \"NA\", \"Streams\": 40414}, {\"Date\": \"2017-08-20\", \"Continent\": \"SA\", \"Streams\": 69181}, {\"Date\": \"2017-08-21\", \"Continent\": \"AS\", \"Streams\": 110868}, {\"Date\": \"2017-08-21\", \"Continent\": \"EU\", \"Streams\": 13206}, {\"Date\": \"2017-08-21\", \"Continent\": \"NA\", \"Streams\": 45533}, {\"Date\": \"2017-08-21\", \"Continent\": \"SA\", \"Streams\": 82245}, {\"Date\": \"2017-08-22\", \"Continent\": \"AS\", \"Streams\": 84829}, {\"Date\": \"2017-08-22\", \"Continent\": \"EU\", \"Streams\": 17322}, {\"Date\": \"2017-08-22\", \"Continent\": \"NA\", \"Streams\": 70165}, {\"Date\": \"2017-08-22\", \"Continent\": \"SA\", \"Streams\": 90114}, {\"Date\": \"2017-08-23\", \"Continent\": \"AS\", \"Streams\": 85210}, {\"Date\": \"2017-08-23\", \"Continent\": \"EU\", \"Streams\": 17524}, {\"Date\": \"2017-08-23\", \"Continent\": \"NA\", \"Streams\": 68310}, {\"Date\": \"2017-08-23\", \"Continent\": \"SA\", \"Streams\": 88642}, {\"Date\": \"2017-08-24\", \"Continent\": \"AS\", \"Streams\": 88166}, {\"Date\": \"2017-08-24\", \"Continent\": \"EU\", \"Streams\": 16356}, {\"Date\": \"2017-08-24\", \"Continent\": \"NA\", \"Streams\": 51658}, {\"Date\": \"2017-08-24\", \"Continent\": \"SA\", \"Streams\": 48624}, {\"Date\": \"2017-08-25\", \"Continent\": \"AS\", \"Streams\": 80364}, {\"Date\": \"2017-08-25\", \"Continent\": \"EU\", \"Streams\": 22836}, {\"Date\": \"2017-08-25\", \"Continent\": \"NA\", \"Streams\": 48597}, {\"Date\": \"2017-08-25\", \"Continent\": \"SA\", \"Streams\": 40491}, {\"Date\": \"2017-08-26\", \"Continent\": \"AS\", \"Streams\": 73830}, {\"Date\": \"2017-08-26\", \"Continent\": \"EU\", \"Streams\": 21983}, {\"Date\": \"2017-08-26\", \"Continent\": \"NA\", \"Streams\": 46581}, {\"Date\": \"2017-08-26\", \"Continent\": \"SA\", \"Streams\": 38191}, {\"Date\": \"2017-08-27\", \"Continent\": \"AS\", \"Streams\": 66814}, {\"Date\": \"2017-08-27\", \"Continent\": \"EU\", \"Streams\": 57331}, {\"Date\": \"2017-08-27\", \"Continent\": \"NA\", \"Streams\": 38298}, {\"Date\": \"2017-08-27\", \"Continent\": \"SA\", \"Streams\": 32961}, {\"Date\": \"2017-08-28\", \"Continent\": \"AS\", \"Streams\": 81483}, {\"Date\": \"2017-08-28\", \"Continent\": \"EU\", \"Streams\": 17255}, {\"Date\": \"2017-08-28\", \"Continent\": \"NA\", \"Streams\": 48694}, {\"Date\": \"2017-08-28\", \"Continent\": \"SA\", \"Streams\": 47800}, {\"Date\": \"2017-08-29\", \"Continent\": \"AS\", \"Streams\": 82514}, {\"Date\": \"2017-08-29\", \"Continent\": \"EU\", \"Streams\": 19816}, {\"Date\": \"2017-08-29\", \"Continent\": \"NA\", \"Streams\": 52032}, {\"Date\": \"2017-08-29\", \"Continent\": \"SA\", \"Streams\": 46734}, {\"Date\": \"2017-08-30\", \"Continent\": \"AS\", \"Streams\": 83985}, {\"Date\": \"2017-08-30\", \"Continent\": \"EU\", \"Streams\": 34860}, {\"Date\": \"2017-08-30\", \"Continent\": \"NA\", \"Streams\": 52081}, {\"Date\": \"2017-08-30\", \"Continent\": \"SA\", \"Streams\": 45962}, {\"Date\": \"2017-08-31\", \"Continent\": \"AS\", \"Streams\": 82094}, {\"Date\": \"2017-08-31\", \"Continent\": \"EU\", \"Streams\": 33358}, {\"Date\": \"2017-08-31\", \"Continent\": \"NA\", \"Streams\": 52680}, {\"Date\": \"2017-08-31\", \"Continent\": \"SA\", \"Streams\": 42347}, {\"Date\": \"2017-09-01\", \"Continent\": \"AS\", \"Streams\": 63371}, {\"Date\": \"2017-09-01\", \"Continent\": \"EU\", \"Streams\": 3947}, {\"Date\": \"2017-09-01\", \"Continent\": \"NA\", \"Streams\": 51867}, {\"Date\": \"2017-09-01\", \"Continent\": \"SA\", \"Streams\": 38894}, {\"Date\": \"2017-09-02\", \"Continent\": \"AS\", \"Streams\": 71401}, {\"Date\": \"2017-09-02\", \"Continent\": \"EU\", \"Streams\": 37358}, {\"Date\": \"2017-09-02\", \"Continent\": \"NA\", \"Streams\": 46770}, {\"Date\": \"2017-09-02\", \"Continent\": \"SA\", \"Streams\": 36247}, {\"Date\": \"2017-09-03\", \"Continent\": \"AS\", \"Streams\": 67199}, {\"Date\": \"2017-09-03\", \"Continent\": \"EU\", \"Streams\": 35990}, {\"Date\": \"2017-09-03\", \"Continent\": \"NA\", \"Streams\": 42025}, {\"Date\": \"2017-09-03\", \"Continent\": \"SA\", \"Streams\": 33985}, {\"Date\": \"2017-09-04\", \"Continent\": \"AS\", \"Streams\": 70701}, {\"Date\": \"2017-09-04\", \"Continent\": \"EU\", \"Streams\": 33690}, {\"Date\": \"2017-09-04\", \"Continent\": \"NA\", \"Streams\": 50081}, {\"Date\": \"2017-09-04\", \"Continent\": \"SA\", \"Streams\": 47421}, {\"Date\": \"2017-09-05\", \"Continent\": \"AS\", \"Streams\": 82956}, {\"Date\": \"2017-09-05\", \"Continent\": \"EU\", \"Streams\": 18960}, {\"Date\": \"2017-09-05\", \"Continent\": \"NA\", \"Streams\": 52824}, {\"Date\": \"2017-09-05\", \"Continent\": \"SA\", \"Streams\": 44266}, {\"Date\": \"2017-09-06\", \"Continent\": \"AS\", \"Streams\": 84570}, {\"Date\": \"2017-09-06\", \"Continent\": \"EU\", \"Streams\": 33542}, {\"Date\": \"2017-09-06\", \"Continent\": \"NA\", \"Streams\": 51600}, {\"Date\": \"2017-09-06\", \"Continent\": \"SA\", \"Streams\": 44978}, {\"Date\": \"2017-09-07\", \"Continent\": \"AS\", \"Streams\": 89142}, {\"Date\": \"2017-09-07\", \"Continent\": \"EU\", \"Streams\": 15701}, {\"Date\": \"2017-09-07\", \"Continent\": \"NA\", \"Streams\": 53158}, {\"Date\": \"2017-09-07\", \"Continent\": \"SA\", \"Streams\": 48067}, {\"Date\": \"2017-09-08\", \"Continent\": \"AS\", \"Streams\": 70891}, {\"Date\": \"2017-09-08\", \"Continent\": \"EU\", \"Streams\": 4162}, {\"Date\": \"2017-09-08\", \"Continent\": \"NA\", \"Streams\": 48223}, {\"Date\": \"2017-09-08\", \"Continent\": \"SA\", \"Streams\": 40374}, {\"Date\": \"2017-09-09\", \"Continent\": \"AS\", \"Streams\": 66495}, {\"Date\": \"2017-09-09\", \"Continent\": \"EU\", \"Streams\": 18254}, {\"Date\": \"2017-09-09\", \"Continent\": \"NA\", \"Streams\": 45309}, {\"Date\": \"2017-09-09\", \"Continent\": \"SA\", \"Streams\": 36865}, {\"Date\": \"2017-09-10\", \"Continent\": \"AS\", \"Streams\": 68657}, {\"Date\": \"2017-09-10\", \"Continent\": \"EU\", \"Streams\": 20361}, {\"Date\": \"2017-09-10\", \"Continent\": \"NA\", \"Streams\": 39589}, {\"Date\": \"2017-09-10\", \"Continent\": \"SA\", \"Streams\": 34046}, {\"Date\": \"2017-09-11\", \"Continent\": \"AS\", \"Streams\": 73548}, {\"Date\": \"2017-09-11\", \"Continent\": \"EU\", \"Streams\": 14810}, {\"Date\": \"2017-09-11\", \"Continent\": \"NA\", \"Streams\": 48953}, {\"Date\": \"2017-09-11\", \"Continent\": \"SA\", \"Streams\": 51099}, {\"Date\": \"2017-09-12\", \"Continent\": \"AS\", \"Streams\": 76432}, {\"Date\": \"2017-09-12\", \"Continent\": \"EU\", \"Streams\": 15480}, {\"Date\": \"2017-09-12\", \"Continent\": \"NA\", \"Streams\": 51253}, {\"Date\": \"2017-09-12\", \"Continent\": \"SA\", \"Streams\": 49082}, {\"Date\": \"2017-09-13\", \"Continent\": \"AS\", \"Streams\": 85021}, {\"Date\": \"2017-09-13\", \"Continent\": \"EU\", \"Streams\": 16870}, {\"Date\": \"2017-09-13\", \"Continent\": \"NA\", \"Streams\": 50579}, {\"Date\": \"2017-09-13\", \"Continent\": \"SA\", \"Streams\": 49911}, {\"Date\": \"2017-09-14\", \"Continent\": \"AS\", \"Streams\": 85744}, {\"Date\": \"2017-09-14\", \"Continent\": \"EU\", \"Streams\": 15922}, {\"Date\": \"2017-09-14\", \"Continent\": \"NA\", \"Streams\": 53452}, {\"Date\": \"2017-09-14\", \"Continent\": \"SA\", \"Streams\": 51694}, {\"Date\": \"2017-09-15\", \"Continent\": \"AS\", \"Streams\": 79133}, {\"Date\": \"2017-09-15\", \"Continent\": \"EU\", \"Streams\": 23651}, {\"Date\": \"2017-09-15\", \"Continent\": \"NA\", \"Streams\": 48628}, {\"Date\": \"2017-09-15\", \"Continent\": \"SA\", \"Streams\": 29718}, {\"Date\": \"2017-09-16\", \"Continent\": \"AS\", \"Streams\": 76604}, {\"Date\": \"2017-09-16\", \"Continent\": \"EU\", \"Streams\": 3498}, {\"Date\": \"2017-09-16\", \"Continent\": \"NA\", \"Streams\": 3861}, {\"Date\": \"2017-09-16\", \"Continent\": \"SA\", \"Streams\": 27701}, {\"Date\": \"2017-09-17\", \"Continent\": \"AS\", \"Streams\": 77124}, {\"Date\": \"2017-09-17\", \"Continent\": \"EU\", \"Streams\": 23299}, {\"Date\": \"2017-09-17\", \"Continent\": \"NA\", \"Streams\": 39853}, {\"Date\": \"2017-09-17\", \"Continent\": \"SA\", \"Streams\": 24849}, {\"Date\": \"2017-09-18\", \"Continent\": \"AS\", \"Streams\": 75003}, {\"Date\": \"2017-09-18\", \"Continent\": \"EU\", \"Streams\": 18130}, {\"Date\": \"2017-09-18\", \"Continent\": \"NA\", \"Streams\": 51384}, {\"Date\": \"2017-09-18\", \"Continent\": \"SA\", \"Streams\": 37243}, {\"Date\": \"2017-09-19\", \"Continent\": \"AS\", \"Streams\": 85085}, {\"Date\": \"2017-09-19\", \"Continent\": \"EU\", \"Streams\": 33210}, {\"Date\": \"2017-09-19\", \"Continent\": \"NA\", \"Streams\": 47873}, {\"Date\": \"2017-09-19\", \"Continent\": \"SA\", \"Streams\": 34556}, {\"Date\": \"2017-09-20\", \"Continent\": \"AS\", \"Streams\": 81815}, {\"Date\": \"2017-09-20\", \"Continent\": \"EU\", \"Streams\": 14991}, {\"Date\": \"2017-09-20\", \"Continent\": \"NA\", \"Streams\": 40169}, {\"Date\": \"2017-09-20\", \"Continent\": \"SA\", \"Streams\": 45314}, {\"Date\": \"2017-09-21\", \"Continent\": \"AS\", \"Streams\": 74882}, {\"Date\": \"2017-09-21\", \"Continent\": \"EU\", \"Streams\": 19606}, {\"Date\": \"2017-09-21\", \"Continent\": \"NA\", \"Streams\": 44660}, {\"Date\": \"2017-09-21\", \"Continent\": \"SA\", \"Streams\": 46471}, {\"Date\": \"2017-09-22\", \"Continent\": \"AS\", \"Streams\": 75284}, {\"Date\": \"2017-09-22\", \"Continent\": \"EU\", \"Streams\": 5067}, {\"Date\": \"2017-09-22\", \"Continent\": \"NA\", \"Streams\": 48206}, {\"Date\": \"2017-09-22\", \"Continent\": \"SA\", \"Streams\": 27313}, {\"Date\": \"2017-09-23\", \"Continent\": \"AS\", \"Streams\": 67906}, {\"Date\": \"2017-09-23\", \"Continent\": \"NA\", \"Streams\": 46035}, {\"Date\": \"2017-09-23\", \"Continent\": \"SA\", \"Streams\": 9673}, {\"Date\": \"2017-09-24\", \"Continent\": \"AS\", \"Streams\": 80344}, {\"Date\": \"2017-09-24\", \"Continent\": \"EU\", \"Streams\": 15070}, {\"Date\": \"2017-09-24\", \"Continent\": \"NA\", \"Streams\": 41471}, {\"Date\": \"2017-09-24\", \"Continent\": \"SA\", \"Streams\": 34238}, {\"Date\": \"2017-09-25\", \"Continent\": \"AS\", \"Streams\": 92066}, {\"Date\": \"2017-09-25\", \"Continent\": \"NA\", \"Streams\": 49107}, {\"Date\": \"2017-09-25\", \"Continent\": \"SA\", \"Streams\": 47118}, {\"Date\": \"2017-09-26\", \"Continent\": \"AS\", \"Streams\": 63009}, {\"Date\": \"2017-09-26\", \"Continent\": \"EU\", \"Streams\": 21204}, {\"Date\": \"2017-09-26\", \"Continent\": \"NA\", \"Streams\": 53008}, {\"Date\": \"2017-09-26\", \"Continent\": \"SA\", \"Streams\": 47159}, {\"Date\": \"2017-09-27\", \"Continent\": \"AS\", \"Streams\": 81912}, {\"Date\": \"2017-09-27\", \"Continent\": \"EU\", \"Streams\": 42581}, {\"Date\": \"2017-09-27\", \"Continent\": \"NA\", \"Streams\": 52060}, {\"Date\": \"2017-09-27\", \"Continent\": \"SA\", \"Streams\": 48607}, {\"Date\": \"2017-09-28\", \"Continent\": \"AS\", \"Streams\": 91207}, {\"Date\": \"2017-09-28\", \"Continent\": \"NA\", \"Streams\": 54779}, {\"Date\": \"2017-09-28\", \"Continent\": \"SA\", \"Streams\": 49637}, {\"Date\": \"2017-09-29\", \"Continent\": \"AS\", \"Streams\": 89595}, {\"Date\": \"2017-09-29\", \"Continent\": \"EU\", \"Streams\": 6668}, {\"Date\": \"2017-09-29\", \"Continent\": \"NA\", \"Streams\": 64622}, {\"Date\": \"2017-09-29\", \"Continent\": \"SA\", \"Streams\": 106819}, {\"Date\": \"2017-09-30\", \"Continent\": \"AS\", \"Streams\": 105537}, {\"Date\": \"2017-09-30\", \"Continent\": \"EU\", \"Streams\": 11986}, {\"Date\": \"2017-09-30\", \"Continent\": \"NA\", \"Streams\": 61222}, {\"Date\": \"2017-09-30\", \"Continent\": \"SA\", \"Streams\": 102078}, {\"Date\": \"2017-10-01\", \"Continent\": \"AS\", \"Streams\": 103602}, {\"Date\": \"2017-10-01\", \"Continent\": \"EU\", \"Streams\": 47678}, {\"Date\": \"2017-10-01\", \"Continent\": \"NA\", \"Streams\": 52366}, {\"Date\": \"2017-10-01\", \"Continent\": \"SA\", \"Streams\": 90816}, {\"Date\": \"2017-10-02\", \"Continent\": \"AS\", \"Streams\": 104372}, {\"Date\": \"2017-10-02\", \"Continent\": \"EU\", \"Streams\": 7788}, {\"Date\": \"2017-10-02\", \"Continent\": \"NA\", \"Streams\": 64490}, {\"Date\": \"2017-10-02\", \"Continent\": \"SA\", \"Streams\": 104554}, {\"Date\": \"2017-10-03\", \"Continent\": \"AS\", \"Streams\": 106865}, {\"Date\": \"2017-10-03\", \"Continent\": \"EU\", \"Streams\": 30778}, {\"Date\": \"2017-10-03\", \"Continent\": \"NA\", \"Streams\": 69789}, {\"Date\": \"2017-10-03\", \"Continent\": \"SA\", \"Streams\": 111236}, {\"Date\": \"2017-10-04\", \"Continent\": \"AS\", \"Streams\": 124933}, {\"Date\": \"2017-10-04\", \"Continent\": \"EU\", \"Streams\": 30786}, {\"Date\": \"2017-10-04\", \"Continent\": \"NA\", \"Streams\": 67702}, {\"Date\": \"2017-10-04\", \"Continent\": \"SA\", \"Streams\": 110291}, {\"Date\": \"2017-10-05\", \"Continent\": \"AS\", \"Streams\": 118562}, {\"Date\": \"2017-10-05\", \"Continent\": \"EU\", \"Streams\": 32871}, {\"Date\": \"2017-10-05\", \"Continent\": \"NA\", \"Streams\": 116930}, {\"Date\": \"2017-10-05\", \"Continent\": \"SA\", \"Streams\": 125780}, {\"Date\": \"2017-10-06\", \"Continent\": \"AS\", \"Streams\": 100280}, {\"Date\": \"2017-10-06\", \"Continent\": \"EU\", \"Streams\": 6825}, {\"Date\": \"2017-10-06\", \"Continent\": \"NA\", \"Streams\": 63424}, {\"Date\": \"2017-10-06\", \"Continent\": \"SA\", \"Streams\": 100656}, {\"Date\": \"2017-10-07\", \"Continent\": \"AS\", \"Streams\": 87047}, {\"Date\": \"2017-10-07\", \"Continent\": \"EU\", \"Streams\": 41397}, {\"Date\": \"2017-10-07\", \"Continent\": \"NA\", \"Streams\": 56672}, {\"Date\": \"2017-10-07\", \"Continent\": \"SA\", \"Streams\": 92938}, {\"Date\": \"2017-10-08\", \"Continent\": \"AS\", \"Streams\": 88928}, {\"Date\": \"2017-10-08\", \"Continent\": \"EU\", \"Streams\": 59087}, {\"Date\": \"2017-10-08\", \"Continent\": \"NA\", \"Streams\": 49403}, {\"Date\": \"2017-10-08\", \"Continent\": \"SA\", \"Streams\": 81650}, {\"Date\": \"2017-10-09\", \"Continent\": \"AS\", \"Streams\": 99039}, {\"Date\": \"2017-10-09\", \"Continent\": \"EU\", \"Streams\": 57075}, {\"Date\": \"2017-10-09\", \"Continent\": \"NA\", \"Streams\": 107264}, {\"Date\": \"2017-10-09\", \"Continent\": \"SA\", \"Streams\": 101209}, {\"Date\": \"2017-10-10\", \"Continent\": \"AS\", \"Streams\": 111025}, {\"Date\": \"2017-10-10\", \"Continent\": \"EU\", \"Streams\": 63162}, {\"Date\": \"2017-10-10\", \"Continent\": \"NA\", \"Streams\": 109331}, {\"Date\": \"2017-10-10\", \"Continent\": \"SA\", \"Streams\": 99194}, {\"Date\": \"2017-10-11\", \"Continent\": \"AS\", \"Streams\": 121911}, {\"Date\": \"2017-10-11\", \"Continent\": \"EU\", \"Streams\": 55149}, {\"Date\": \"2017-10-11\", \"Continent\": \"NA\", \"Streams\": 105818}, {\"Date\": \"2017-10-11\", \"Continent\": \"SA\", \"Streams\": 97531}, {\"Date\": \"2017-10-12\", \"Continent\": \"AS\", \"Streams\": 99115}, {\"Date\": \"2017-10-12\", \"Continent\": \"EU\", \"Streams\": 45302}, {\"Date\": \"2017-10-12\", \"Continent\": \"NA\", \"Streams\": 88983}, {\"Date\": \"2017-10-12\", \"Continent\": \"SA\", \"Streams\": 68504}, {\"Date\": \"2017-10-13\", \"Continent\": \"AS\", \"Streams\": 80478}, {\"Date\": \"2017-10-13\", \"Continent\": \"EU\", \"Streams\": 45984}, {\"Date\": \"2017-10-13\", \"Continent\": \"NA\", \"Streams\": 63711}, {\"Date\": \"2017-10-13\", \"Continent\": \"SA\", \"Streams\": 53093}, {\"Date\": \"2017-10-14\", \"Continent\": \"AS\", \"Streams\": 80308}, {\"Date\": \"2017-10-14\", \"Continent\": \"EU\", \"Streams\": 32842}, {\"Date\": \"2017-10-14\", \"Continent\": \"NA\", \"Streams\": 57662}, {\"Date\": \"2017-10-14\", \"Continent\": \"SA\", \"Streams\": 32828}, {\"Date\": \"2017-10-15\", \"Continent\": \"AS\", \"Streams\": 83035}, {\"Date\": \"2017-10-15\", \"Continent\": \"EU\", \"Streams\": 58171}, {\"Date\": \"2017-10-15\", \"Continent\": \"NA\", \"Streams\": 49446}, {\"Date\": \"2017-10-15\", \"Continent\": \"SA\", \"Streams\": 79913}, {\"Date\": \"2017-10-16\", \"Continent\": \"AS\", \"Streams\": 94011}, {\"Date\": \"2017-10-16\", \"Continent\": \"EU\", \"Streams\": 57009}, {\"Date\": \"2017-10-16\", \"Continent\": \"NA\", \"Streams\": 59908}, {\"Date\": \"2017-10-16\", \"Continent\": \"SA\", \"Streams\": 94259}, {\"Date\": \"2017-10-17\", \"Continent\": \"AS\", \"Streams\": 98564}, {\"Date\": \"2017-10-17\", \"Continent\": \"EU\", \"Streams\": 45713}, {\"Date\": \"2017-10-17\", \"Continent\": \"NA\", \"Streams\": 63118}, {\"Date\": \"2017-10-17\", \"Continent\": \"SA\", \"Streams\": 98746}, {\"Date\": \"2017-10-18\", \"Continent\": \"AS\", \"Streams\": 110893}, {\"Date\": \"2017-10-18\", \"Continent\": \"EU\", \"Streams\": 67166}, {\"Date\": \"2017-10-18\", \"Continent\": \"NA\", \"Streams\": 66995}, {\"Date\": \"2017-10-18\", \"Continent\": \"SA\", \"Streams\": 98681}, {\"Date\": \"2017-10-19\", \"Continent\": \"AS\", \"Streams\": 95278}, {\"Date\": \"2017-10-19\", \"Continent\": \"EU\", \"Streams\": 44994}, {\"Date\": \"2017-10-19\", \"Continent\": \"NA\", \"Streams\": 64415}, {\"Date\": \"2017-10-19\", \"Continent\": \"SA\", \"Streams\": 99354}, {\"Date\": \"2017-10-20\", \"Continent\": \"AS\", \"Streams\": 83403}, {\"Date\": \"2017-10-20\", \"Continent\": \"EU\", \"Streams\": 25708}, {\"Date\": \"2017-10-20\", \"Continent\": \"NA\", \"Streams\": 62089}, {\"Date\": \"2017-10-20\", \"Continent\": \"SA\", \"Streams\": 51439}, {\"Date\": \"2017-10-21\", \"Continent\": \"AS\", \"Streams\": 76060}, {\"Date\": \"2017-10-21\", \"Continent\": \"EU\", \"Streams\": 23076}, {\"Date\": \"2017-10-21\", \"Continent\": \"NA\", \"Streams\": 57208}, {\"Date\": \"2017-10-21\", \"Continent\": \"SA\", \"Streams\": 46040}, {\"Date\": \"2017-10-22\", \"Continent\": \"AS\", \"Streams\": 71264}, {\"Date\": \"2017-10-22\", \"Continent\": \"EU\", \"Streams\": 46193}, {\"Date\": \"2017-10-22\", \"Continent\": \"NA\", \"Streams\": 48635}, {\"Date\": \"2017-10-22\", \"Continent\": \"SA\", \"Streams\": 81410}, {\"Date\": \"2017-10-23\", \"Continent\": \"AS\", \"Streams\": 90793}, {\"Date\": \"2017-10-23\", \"Continent\": \"EU\", \"Streams\": 26251}, {\"Date\": \"2017-10-23\", \"Continent\": \"NA\", \"Streams\": 59858}, {\"Date\": \"2017-10-23\", \"Continent\": \"SA\", \"Streams\": 101896}, {\"Date\": \"2017-10-24\", \"Continent\": \"AS\", \"Streams\": 95642}, {\"Date\": \"2017-10-24\", \"Continent\": \"EU\", \"Streams\": 31864}, {\"Date\": \"2017-10-24\", \"Continent\": \"NA\", \"Streams\": 63795}, {\"Date\": \"2017-10-24\", \"Continent\": \"SA\", \"Streams\": 104791}, {\"Date\": \"2017-10-25\", \"Continent\": \"AS\", \"Streams\": 105346}, {\"Date\": \"2017-10-25\", \"Continent\": \"EU\", \"Streams\": 26521}, {\"Date\": \"2017-10-25\", \"Continent\": \"NA\", \"Streams\": 63382}, {\"Date\": \"2017-10-25\", \"Continent\": \"SA\", \"Streams\": 100686}, {\"Date\": \"2017-10-26\", \"Continent\": \"AS\", \"Streams\": 89472}, {\"Date\": \"2017-10-26\", \"Continent\": \"EU\", \"Streams\": 25103}, {\"Date\": \"2017-10-26\", \"Continent\": \"NA\", \"Streams\": 64832}, {\"Date\": \"2017-10-26\", \"Continent\": \"SA\", \"Streams\": 104148}, {\"Date\": \"2017-10-27\", \"Continent\": \"AS\", \"Streams\": 81668}, {\"Date\": \"2017-10-27\", \"Continent\": \"EU\", \"Streams\": 85222}, {\"Date\": \"2017-10-27\", \"Continent\": \"NA\", \"Streams\": 61528}, {\"Date\": \"2017-10-27\", \"Continent\": \"SA\", \"Streams\": 41307}, {\"Date\": \"2017-10-28\", \"Continent\": \"AS\", \"Streams\": 72292}, {\"Date\": \"2017-10-28\", \"Continent\": \"EU\", \"Streams\": 18611}, {\"Date\": \"2017-10-28\", \"Continent\": \"NA\", \"Streams\": 54072}, {\"Date\": \"2017-10-28\", \"Continent\": \"SA\", \"Streams\": 44031}, {\"Date\": \"2017-10-29\", \"Continent\": \"AS\", \"Streams\": 66879}, {\"Date\": \"2017-10-29\", \"Continent\": \"EU\", \"Streams\": 33346}, {\"Date\": \"2017-10-29\", \"Continent\": \"NA\", \"Streams\": 43773}, {\"Date\": \"2017-10-29\", \"Continent\": \"SA\", \"Streams\": 77372}, {\"Date\": \"2017-10-30\", \"Continent\": \"AS\", \"Streams\": 73135}, {\"Date\": \"2017-10-30\", \"Continent\": \"EU\", \"Streams\": 30774}, {\"Date\": \"2017-10-30\", \"Continent\": \"NA\", \"Streams\": 55141}, {\"Date\": \"2017-10-30\", \"Continent\": \"SA\", \"Streams\": 95288}, {\"Date\": \"2017-10-31\", \"Continent\": \"AS\", \"Streams\": 79173}, {\"Date\": \"2017-10-31\", \"Continent\": \"EU\", \"Streams\": 20535}, {\"Date\": \"2017-10-31\", \"Continent\": \"NA\", \"Streams\": 56338}, {\"Date\": \"2017-10-31\", \"Continent\": \"SA\", \"Streams\": 96033}, {\"Date\": \"2017-11-01\", \"Continent\": \"AS\", \"Streams\": 72288}, {\"Date\": \"2017-11-01\", \"Continent\": \"EU\", \"Streams\": 33106}, {\"Date\": \"2017-11-01\", \"Continent\": \"NA\", \"Streams\": 55324}, {\"Date\": \"2017-11-01\", \"Continent\": \"SA\", \"Streams\": 80762}, {\"Date\": \"2017-11-02\", \"Continent\": \"AS\", \"Streams\": 88082}, {\"Date\": \"2017-11-02\", \"Continent\": \"EU\", \"Streams\": 95286}, {\"Date\": \"2017-11-02\", \"Continent\": \"NA\", \"Streams\": 54193}, {\"Date\": \"2017-11-02\", \"Continent\": \"SA\", \"Streams\": 97317}, {\"Date\": \"2017-11-03\", \"Continent\": \"AS\", \"Streams\": 73139}, {\"Date\": \"2017-11-03\", \"Continent\": \"EU\", \"Streams\": 81932}, {\"Date\": \"2017-11-03\", \"Continent\": \"NA\", \"Streams\": 57000}, {\"Date\": \"2017-11-03\", \"Continent\": \"SA\", \"Streams\": 50078}, {\"Date\": \"2017-11-04\", \"Continent\": \"AS\", \"Streams\": 64719}, {\"Date\": \"2017-11-04\", \"Continent\": \"EU\", \"Streams\": 28531}, {\"Date\": \"2017-11-04\", \"Continent\": \"NA\", \"Streams\": 51884}, {\"Date\": \"2017-11-04\", \"Continent\": \"SA\", \"Streams\": 89127}, {\"Date\": \"2017-11-05\", \"Continent\": \"AS\", \"Streams\": 63544}, {\"Date\": \"2017-11-05\", \"Continent\": \"EU\", \"Streams\": 28604}, {\"Date\": \"2017-11-05\", \"Continent\": \"NA\", \"Streams\": 44199}, {\"Date\": \"2017-11-05\", \"Continent\": \"SA\", \"Streams\": 78437}, {\"Date\": \"2017-11-06\", \"Continent\": \"AS\", \"Streams\": 76984}, {\"Date\": \"2017-11-06\", \"Continent\": \"EU\", \"Streams\": 28669}, {\"Date\": \"2017-11-06\", \"Continent\": \"NA\", \"Streams\": 52726}, {\"Date\": \"2017-11-06\", \"Continent\": \"SA\", \"Streams\": 98636}, {\"Date\": \"2017-11-07\", \"Continent\": \"AS\", \"Streams\": 72752}, {\"Date\": \"2017-11-07\", \"Continent\": \"EU\", \"Streams\": 38810}, {\"Date\": \"2017-11-07\", \"Continent\": \"NA\", \"Streams\": 56845}, {\"Date\": \"2017-11-07\", \"Continent\": \"SA\", \"Streams\": 109387}, {\"Date\": \"2017-11-08\", \"Continent\": \"AS\", \"Streams\": 71677}, {\"Date\": \"2017-11-08\", \"Continent\": \"EU\", \"Streams\": 29918}, {\"Date\": \"2017-11-08\", \"Continent\": \"NA\", \"Streams\": 56827}, {\"Date\": \"2017-11-08\", \"Continent\": \"SA\", \"Streams\": 123373}, {\"Date\": \"2017-11-09\", \"Continent\": \"AS\", \"Streams\": 82839}, {\"Date\": \"2017-11-09\", \"Continent\": \"EU\", \"Streams\": 35667}, {\"Date\": \"2017-11-09\", \"Continent\": \"NA\", \"Streams\": 59743}, {\"Date\": \"2017-11-09\", \"Continent\": \"SA\", \"Streams\": 232749}, {\"Date\": \"2017-11-10\", \"Continent\": \"AS\", \"Streams\": 72379}, {\"Date\": \"2017-11-10\", \"Continent\": \"EU\", \"Streams\": 27332}, {\"Date\": \"2017-11-10\", \"Continent\": \"NA\", \"Streams\": 59445}, {\"Date\": \"2017-11-10\", \"Continent\": \"SA\", \"Streams\": 130552}, {\"Date\": \"2017-11-11\", \"Continent\": \"AS\", \"Streams\": 68207}, {\"Date\": \"2017-11-11\", \"Continent\": \"EU\", \"Streams\": 38518}, {\"Date\": \"2017-11-11\", \"Continent\": \"NA\", \"Streams\": 54064}, {\"Date\": \"2017-11-11\", \"Continent\": \"SA\", \"Streams\": 100598}, {\"Date\": \"2017-11-12\", \"Continent\": \"AS\", \"Streams\": 65266}, {\"Date\": \"2017-11-12\", \"Continent\": \"EU\", \"Streams\": 49098}, {\"Date\": \"2017-11-12\", \"Continent\": \"NA\", \"Streams\": 45893}, {\"Date\": \"2017-11-12\", \"Continent\": \"SA\", \"Streams\": 93710}, {\"Date\": \"2017-11-13\", \"Continent\": \"AS\", \"Streams\": 82361}, {\"Date\": \"2017-11-13\", \"Continent\": \"EU\", \"Streams\": 40306}, {\"Date\": \"2017-11-13\", \"Continent\": \"NA\", \"Streams\": 54267}, {\"Date\": \"2017-11-13\", \"Continent\": \"SA\", \"Streams\": 178356}, {\"Date\": \"2017-11-14\", \"Continent\": \"AS\", \"Streams\": 85354}, {\"Date\": \"2017-11-14\", \"Continent\": \"EU\", \"Streams\": 35403}, {\"Date\": \"2017-11-14\", \"Continent\": \"NA\", \"Streams\": 56946}, {\"Date\": \"2017-11-14\", \"Continent\": \"SA\", \"Streams\": 226292}, {\"Date\": \"2017-11-15\", \"Continent\": \"AS\", \"Streams\": 74740}, {\"Date\": \"2017-11-15\", \"Continent\": \"EU\", \"Streams\": 39536}, {\"Date\": \"2017-11-15\", \"Continent\": \"NA\", \"Streams\": 61585}, {\"Date\": \"2017-11-15\", \"Continent\": \"SA\", \"Streams\": 340068}, {\"Date\": \"2017-11-16\", \"Continent\": \"AS\", \"Streams\": 86230}, {\"Date\": \"2017-11-16\", \"Continent\": \"EU\", \"Streams\": 38219}, {\"Date\": \"2017-11-16\", \"Continent\": \"NA\", \"Streams\": 62627}, {\"Date\": \"2017-11-16\", \"Continent\": \"SA\", \"Streams\": 363698}, {\"Date\": \"2017-11-17\", \"Continent\": \"AS\", \"Streams\": 74205}, {\"Date\": \"2017-11-17\", \"Continent\": \"EU\", \"Streams\": 6340}, {\"Date\": \"2017-11-17\", \"Continent\": \"NA\", \"Streams\": 59825}, {\"Date\": \"2017-11-17\", \"Continent\": \"SA\", \"Streams\": 301957}, {\"Date\": \"2017-11-18\", \"Continent\": \"AS\", \"Streams\": 66726}, {\"Date\": \"2017-11-18\", \"Continent\": \"EU\", \"Streams\": 18757}, {\"Date\": \"2017-11-18\", \"Continent\": \"NA\", \"Streams\": 53714}, {\"Date\": \"2017-11-18\", \"Continent\": \"SA\", \"Streams\": 178328}, {\"Date\": \"2017-11-19\", \"Continent\": \"AS\", \"Streams\": 66627}, {\"Date\": \"2017-11-19\", \"Continent\": \"EU\", \"Streams\": 47231}, {\"Date\": \"2017-11-19\", \"Continent\": \"NA\", \"Streams\": 43887}, {\"Date\": \"2017-11-19\", \"Continent\": \"SA\", \"Streams\": 156836}, {\"Date\": \"2017-11-20\", \"Continent\": \"AS\", \"Streams\": 80308}, {\"Date\": \"2017-11-20\", \"Continent\": \"EU\", \"Streams\": 60840}, {\"Date\": \"2017-11-20\", \"Continent\": \"NA\", \"Streams\": 47367}, {\"Date\": \"2017-11-20\", \"Continent\": \"SA\", \"Streams\": 151633}, {\"Date\": \"2017-11-21\", \"Continent\": \"AS\", \"Streams\": 78582}, {\"Date\": \"2017-11-21\", \"Continent\": \"EU\", \"Streams\": 47700}, {\"Date\": \"2017-11-21\", \"Continent\": \"NA\", \"Streams\": 53742}, {\"Date\": \"2017-11-21\", \"Continent\": \"SA\", \"Streams\": 177818}, {\"Date\": \"2017-11-22\", \"Continent\": \"AS\", \"Streams\": 78574}, {\"Date\": \"2017-11-22\", \"Continent\": \"EU\", \"Streams\": 69504}, {\"Date\": \"2017-11-22\", \"Continent\": \"NA\", \"Streams\": 57388}, {\"Date\": \"2017-11-22\", \"Continent\": \"SA\", \"Streams\": 157413}, {\"Date\": \"2017-11-23\", \"Continent\": \"AS\", \"Streams\": 83413}, {\"Date\": \"2017-11-23\", \"Continent\": \"EU\", \"Streams\": 60833}, {\"Date\": \"2017-11-23\", \"Continent\": \"NA\", \"Streams\": 61362}, {\"Date\": \"2017-11-23\", \"Continent\": \"SA\", \"Streams\": 145619}, {\"Date\": \"2017-11-24\", \"Continent\": \"AS\", \"Streams\": 81018}, {\"Date\": \"2017-11-24\", \"Continent\": \"EU\", \"Streams\": 16348}, {\"Date\": \"2017-11-24\", \"Continent\": \"NA\", \"Streams\": 60685}, {\"Date\": \"2017-11-24\", \"Continent\": \"SA\", \"Streams\": 110611}, {\"Date\": \"2017-11-25\", \"Continent\": \"AS\", \"Streams\": 73331}, {\"Date\": \"2017-11-25\", \"Continent\": \"EU\", \"Streams\": 44040}, {\"Date\": \"2017-11-25\", \"Continent\": \"NA\", \"Streams\": 54568}, {\"Date\": \"2017-11-25\", \"Continent\": \"SA\", \"Streams\": 86661}, {\"Date\": \"2017-11-26\", \"Continent\": \"AS\", \"Streams\": 71061}, {\"Date\": \"2017-11-26\", \"Continent\": \"EU\", \"Streams\": 110711}, {\"Date\": \"2017-11-26\", \"Continent\": \"NA\", \"Streams\": 45771}, {\"Date\": \"2017-11-26\", \"Continent\": \"SA\", \"Streams\": 88124}, {\"Date\": \"2017-11-27\", \"Continent\": \"AS\", \"Streams\": 78413}, {\"Date\": \"2017-11-27\", \"Continent\": \"EU\", \"Streams\": 76140}, {\"Date\": \"2017-11-27\", \"Continent\": \"NA\", \"Streams\": 54114}, {\"Date\": \"2017-11-27\", \"Continent\": \"SA\", \"Streams\": 105949}, {\"Date\": \"2017-11-28\", \"Continent\": \"AS\", \"Streams\": 81693}, {\"Date\": \"2017-11-28\", \"Continent\": \"EU\", \"Streams\": 75284}, {\"Date\": \"2017-11-28\", \"Continent\": \"NA\", \"Streams\": 58083}, {\"Date\": \"2017-11-28\", \"Continent\": \"SA\", \"Streams\": 107243}, {\"Date\": \"2017-11-29\", \"Continent\": \"AS\", \"Streams\": 78741}, {\"Date\": \"2017-11-29\", \"Continent\": \"EU\", \"Streams\": 127803}, {\"Date\": \"2017-11-29\", \"Continent\": \"NA\", \"Streams\": 57328}, {\"Date\": \"2017-11-29\", \"Continent\": \"SA\", \"Streams\": 103919}, {\"Date\": \"2017-11-30\", \"Continent\": \"AS\", \"Streams\": 87462}, {\"Date\": \"2017-11-30\", \"Continent\": \"EU\", \"Streams\": 172097}, {\"Date\": \"2017-11-30\", \"Continent\": \"NA\", \"Streams\": 59646}, {\"Date\": \"2017-11-30\", \"Continent\": \"SA\", \"Streams\": 106834}, {\"Date\": \"2017-12-01\", \"Continent\": \"AS\", \"Streams\": 71730}, {\"Date\": \"2017-12-01\", \"Continent\": \"EU\", \"Streams\": 303257}, {\"Date\": \"2017-12-01\", \"Continent\": \"NA\", \"Streams\": 58170}, {\"Date\": \"2017-12-01\", \"Continent\": \"SA\", \"Streams\": 54214}, {\"Date\": \"2017-12-02\", \"Continent\": \"AS\", \"Streams\": 74654}, {\"Date\": \"2017-12-02\", \"Continent\": \"EU\", \"Streams\": 379080}, {\"Date\": \"2017-12-02\", \"Continent\": \"NA\", \"Streams\": 53129}, {\"Date\": \"2017-12-02\", \"Continent\": \"SA\", \"Streams\": 34895}, {\"Date\": \"2017-12-03\", \"Continent\": \"AS\", \"Streams\": 67234}, {\"Date\": \"2017-12-03\", \"Continent\": \"EU\", \"Streams\": 436647}, {\"Date\": \"2017-12-03\", \"Continent\": \"NA\", \"Streams\": 43903}, {\"Date\": \"2017-12-03\", \"Continent\": \"SA\", \"Streams\": 31593}, {\"Date\": \"2017-12-04\", \"Continent\": \"AS\", \"Streams\": 71827}, {\"Date\": \"2017-12-04\", \"Continent\": \"EU\", \"Streams\": 308443}, {\"Date\": \"2017-12-04\", \"Continent\": \"NA\", \"Streams\": 54601}, {\"Date\": \"2017-12-04\", \"Continent\": \"SA\", \"Streams\": 103167}, {\"Date\": \"2017-12-05\", \"Continent\": \"AS\", \"Streams\": 79582}, {\"Date\": \"2017-12-05\", \"Continent\": \"EU\", \"Streams\": 301922}, {\"Date\": \"2017-12-05\", \"Continent\": \"NA\", \"Streams\": 57967}, {\"Date\": \"2017-12-05\", \"Continent\": \"SA\", \"Streams\": 104640}, {\"Date\": \"2017-12-06\", \"Continent\": \"AS\", \"Streams\": 76794}, {\"Date\": \"2017-12-06\", \"Continent\": \"EU\", \"Streams\": 344278}, {\"Date\": \"2017-12-06\", \"Continent\": \"NA\", \"Streams\": 58246}, {\"Date\": \"2017-12-06\", \"Continent\": \"SA\", \"Streams\": 104632}, {\"Date\": \"2017-12-07\", \"Continent\": \"AS\", \"Streams\": 77470}, {\"Date\": \"2017-12-07\", \"Continent\": \"EU\", \"Streams\": 327512}, {\"Date\": \"2017-12-07\", \"Continent\": \"NA\", \"Streams\": 59592}, {\"Date\": \"2017-12-07\", \"Continent\": \"SA\", \"Streams\": 93349}, {\"Date\": \"2017-12-08\", \"Continent\": \"AS\", \"Streams\": 73939}, {\"Date\": \"2017-12-08\", \"Continent\": \"EU\", \"Streams\": 398217}, {\"Date\": \"2017-12-08\", \"Continent\": \"NA\", \"Streams\": 54894}, {\"Date\": \"2017-12-08\", \"Continent\": \"SA\", \"Streams\": 30595}, {\"Date\": \"2017-12-09\", \"Continent\": \"AS\", \"Streams\": 69568}, {\"Date\": \"2017-12-09\", \"Continent\": \"EU\", \"Streams\": 490869}, {\"Date\": \"2017-12-09\", \"Continent\": \"NA\", \"Streams\": 51023}, {\"Date\": \"2017-12-09\", \"Continent\": \"SA\", \"Streams\": 28852}, {\"Date\": \"2017-12-10\", \"Continent\": \"AS\", \"Streams\": 68650}, {\"Date\": \"2017-12-10\", \"Continent\": \"EU\", \"Streams\": 542704}, {\"Date\": \"2017-12-10\", \"Continent\": \"NA\", \"Streams\": 43195}, {\"Date\": \"2017-12-10\", \"Continent\": \"OC\", \"Streams\": 27093}, {\"Date\": \"2017-12-10\", \"Continent\": \"SA\", \"Streams\": 69534}, {\"Date\": \"2017-12-11\", \"Continent\": \"AS\", \"Streams\": 76273}, {\"Date\": \"2017-12-11\", \"Continent\": \"EU\", \"Streams\": 402608}, {\"Date\": \"2017-12-11\", \"Continent\": \"NA\", \"Streams\": 53164}, {\"Date\": \"2017-12-11\", \"Continent\": \"SA\", \"Streams\": 100469}, {\"Date\": \"2017-12-12\", \"Continent\": \"AS\", \"Streams\": 82021}, {\"Date\": \"2017-12-12\", \"Continent\": \"EU\", \"Streams\": 381642}, {\"Date\": \"2017-12-12\", \"Continent\": \"NA\", \"Streams\": 54266}, {\"Date\": \"2017-12-12\", \"Continent\": \"SA\", \"Streams\": 102060}, {\"Date\": \"2017-12-13\", \"Continent\": \"AS\", \"Streams\": 75221}, {\"Date\": \"2017-12-13\", \"Continent\": \"EU\", \"Streams\": 391298}, {\"Date\": \"2017-12-13\", \"Continent\": \"NA\", \"Streams\": 53868}, {\"Date\": \"2017-12-13\", \"Continent\": \"OC\", \"Streams\": 29778}, {\"Date\": \"2017-12-13\", \"Continent\": \"SA\", \"Streams\": 101083}, {\"Date\": \"2017-12-14\", \"Continent\": \"AS\", \"Streams\": 74951}, {\"Date\": \"2017-12-14\", \"Continent\": \"EU\", \"Streams\": 412506}, {\"Date\": \"2017-12-14\", \"Continent\": \"NA\", \"Streams\": 56538}, {\"Date\": \"2017-12-14\", \"Continent\": \"OC\", \"Streams\": 32411}, {\"Date\": \"2017-12-14\", \"Continent\": \"SA\", \"Streams\": 49688}, {\"Date\": \"2017-12-15\", \"Continent\": \"AS\", \"Streams\": 68592}, {\"Date\": \"2017-12-15\", \"Continent\": \"EU\", \"Streams\": 443982}, {\"Date\": \"2017-12-15\", \"Continent\": \"NA\", \"Streams\": 53417}, {\"Date\": \"2017-12-15\", \"Continent\": \"OC\", \"Streams\": 34048}, {\"Date\": \"2017-12-15\", \"Continent\": \"SA\", \"Streams\": 34655}, {\"Date\": \"2017-12-16\", \"Continent\": \"AS\", \"Streams\": 66248}, {\"Date\": \"2017-12-16\", \"Continent\": \"EU\", \"Streams\": 558877}, {\"Date\": \"2017-12-16\", \"Continent\": \"NA\", \"Streams\": 48329}, {\"Date\": \"2017-12-16\", \"Continent\": \"OC\", \"Streams\": 37357}, {\"Date\": \"2017-12-16\", \"Continent\": \"SA\", \"Streams\": 30641}, {\"Date\": \"2017-12-17\", \"Continent\": \"AS\", \"Streams\": 66897}, {\"Date\": \"2017-12-17\", \"Continent\": \"EU\", \"Streams\": 547928}, {\"Date\": \"2017-12-17\", \"Continent\": \"NA\", \"Streams\": 41835}, {\"Date\": \"2017-12-17\", \"Continent\": \"OC\", \"Streams\": 38549}, {\"Date\": \"2017-12-17\", \"Continent\": \"SA\", \"Streams\": 25343}, {\"Date\": \"2017-12-18\", \"Continent\": \"AS\", \"Streams\": 67992}, {\"Date\": \"2017-12-18\", \"Continent\": \"EU\", \"Streams\": 445428}, {\"Date\": \"2017-12-18\", \"Continent\": \"NA\", \"Streams\": 51219}, {\"Date\": \"2017-12-18\", \"Continent\": \"OC\", \"Streams\": 37659}, {\"Date\": \"2017-12-18\", \"Continent\": \"SA\", \"Streams\": 48740}, {\"Date\": \"2017-12-19\", \"Continent\": \"AS\", \"Streams\": 73371}, {\"Date\": \"2017-12-19\", \"Continent\": \"EU\", \"Streams\": 467114}, {\"Date\": \"2017-12-19\", \"Continent\": \"NA\", \"Streams\": 54822}, {\"Date\": \"2017-12-19\", \"Continent\": \"OC\", \"Streams\": 41673}, {\"Date\": \"2017-12-19\", \"Continent\": \"SA\", \"Streams\": 36683}, {\"Date\": \"2017-12-20\", \"Continent\": \"AS\", \"Streams\": 70630}, {\"Date\": \"2017-12-20\", \"Continent\": \"EU\", \"Streams\": 544776}, {\"Date\": \"2017-12-20\", \"Continent\": \"NA\", \"Streams\": 54087}, {\"Date\": \"2017-12-20\", \"Continent\": \"OC\", \"Streams\": 46854}, {\"Date\": \"2017-12-20\", \"Continent\": \"SA\", \"Streams\": 38261}, {\"Date\": \"2017-12-21\", \"Continent\": \"AS\", \"Streams\": 71776}, {\"Date\": \"2017-12-21\", \"Continent\": \"EU\", \"Streams\": 560317}, {\"Date\": \"2017-12-21\", \"Continent\": \"NA\", \"Streams\": 54459}, {\"Date\": \"2017-12-21\", \"Continent\": \"OC\", \"Streams\": 58651}, {\"Date\": \"2017-12-21\", \"Continent\": \"SA\", \"Streams\": 36342}, {\"Date\": \"2017-12-22\", \"Continent\": \"AS\", \"Streams\": 68880}, {\"Date\": \"2017-12-22\", \"Continent\": \"EU\", \"Streams\": 703269}, {\"Date\": \"2017-12-22\", \"Continent\": \"NA\", \"Streams\": 52277}, {\"Date\": \"2017-12-22\", \"Continent\": \"OC\", \"Streams\": 67504}, {\"Date\": \"2017-12-22\", \"Continent\": \"SA\", \"Streams\": 33646}, {\"Date\": \"2017-12-23\", \"Continent\": \"AS\", \"Streams\": 69203}, {\"Date\": \"2017-12-23\", \"Continent\": \"EU\", \"Streams\": 862024}, {\"Date\": \"2017-12-23\", \"Continent\": \"NA\", \"Streams\": 48592}, {\"Date\": \"2017-12-23\", \"Continent\": \"OC\", \"Streams\": 86118}, {\"Date\": \"2017-12-23\", \"Continent\": \"SA\", \"Streams\": 27139}, {\"Date\": \"2017-12-24\", \"Continent\": \"AS\", \"Streams\": 110731}, {\"Date\": \"2017-12-24\", \"Continent\": \"EU\", \"Streams\": 1553343}, {\"Date\": \"2017-12-24\", \"Continent\": \"NA\", \"Streams\": 355775}, {\"Date\": \"2017-12-24\", \"Continent\": \"OC\", \"Streams\": 222932}, {\"Date\": \"2017-12-24\", \"Continent\": \"SA\", \"Streams\": 28795}, {\"Date\": \"2017-12-25\", \"Continent\": \"AS\", \"Streams\": 87991}, {\"Date\": \"2017-12-25\", \"Continent\": \"EU\", \"Streams\": 1205042}, {\"Date\": \"2017-12-25\", \"Continent\": \"NA\", \"Streams\": 415913}, {\"Date\": \"2017-12-25\", \"Continent\": \"OC\", \"Streams\": 191530}, {\"Date\": \"2017-12-25\", \"Continent\": \"SA\", \"Streams\": 32540}, {\"Date\": \"2017-12-26\", \"Continent\": \"AS\", \"Streams\": 63701}, {\"Date\": \"2017-12-26\", \"Continent\": \"EU\", \"Streams\": 406486}, {\"Date\": \"2017-12-26\", \"Continent\": \"NA\", \"Streams\": 45424}, {\"Date\": \"2017-12-26\", \"Continent\": \"SA\", \"Streams\": 33178}, {\"Date\": \"2017-12-27\", \"Continent\": \"AS\", \"Streams\": 89276}, {\"Date\": \"2017-12-27\", \"Continent\": \"EU\", \"Streams\": 90689}, {\"Date\": \"2017-12-27\", \"Continent\": \"NA\", \"Streams\": 49132}, {\"Date\": \"2017-12-27\", \"Continent\": \"SA\", \"Streams\": 35078}, {\"Date\": \"2017-12-28\", \"Continent\": \"AS\", \"Streams\": 91082}, {\"Date\": \"2017-12-28\", \"Continent\": \"EU\", \"Streams\": 119098}, {\"Date\": \"2017-12-28\", \"Continent\": \"NA\", \"Streams\": 50511}, {\"Date\": \"2017-12-28\", \"Continent\": \"SA\", \"Streams\": 34621}, {\"Date\": \"2017-12-29\", \"Continent\": \"AS\", \"Streams\": 87699}, {\"Date\": \"2017-12-29\", \"Continent\": \"EU\", \"Streams\": 73301}, {\"Date\": \"2017-12-29\", \"Continent\": \"NA\", \"Streams\": 50494}, {\"Date\": \"2017-12-29\", \"Continent\": \"SA\", \"Streams\": 33267}, {\"Date\": \"2017-12-30\", \"Continent\": \"AS\", \"Streams\": 80073}, {\"Date\": \"2017-12-30\", \"Continent\": \"EU\", \"Streams\": 60182}, {\"Date\": \"2017-12-30\", \"Continent\": \"NA\", \"Streams\": 46228}, {\"Date\": \"2017-12-30\", \"Continent\": \"SA\", \"Streams\": 27217}, {\"Date\": \"2017-12-31\", \"Continent\": \"AS\", \"Streams\": 42692}, {\"Date\": \"2017-12-31\", \"Continent\": \"EU\", \"Streams\": 133113}, {\"Date\": \"2017-12-31\", \"Continent\": \"NA\", \"Streams\": 43499}, {\"Date\": \"2017-12-31\", \"Continent\": \"SA\", \"Streams\": 1349}, {\"Date\": \"2018-01-01\", \"Continent\": \"AS\", \"Streams\": 65956}, {\"Date\": \"2018-01-01\", \"Continent\": \"EU\", \"Streams\": 69983}, {\"Date\": \"2018-01-01\", \"Continent\": \"NA\", \"Streams\": 2155}, {\"Date\": \"2018-01-01\", \"Continent\": \"SA\", \"Streams\": 1016}, {\"Date\": \"2018-01-02\", \"Continent\": \"AS\", \"Streams\": 92722}, {\"Date\": \"2018-01-02\", \"Continent\": \"EU\", \"Streams\": 88328}, {\"Date\": \"2018-01-02\", \"Continent\": \"NA\", \"Streams\": 45909}, {\"Date\": \"2018-01-02\", \"Continent\": \"SA\", \"Streams\": 46169}, {\"Date\": \"2018-01-03\", \"Continent\": \"AS\", \"Streams\": 91611}, {\"Date\": \"2018-01-03\", \"Continent\": \"EU\", \"Streams\": 42272}, {\"Date\": \"2018-01-03\", \"Continent\": \"NA\", \"Streams\": 50616}, {\"Date\": \"2018-01-03\", \"Continent\": \"SA\", \"Streams\": 33299}, {\"Date\": \"2018-01-04\", \"Continent\": \"AS\", \"Streams\": 91506}, {\"Date\": \"2018-01-04\", \"Continent\": \"EU\", \"Streams\": 55970}, {\"Date\": \"2018-01-04\", \"Continent\": \"NA\", \"Streams\": 52406}, {\"Date\": \"2018-01-04\", \"Continent\": \"SA\", \"Streams\": 33952}, {\"Date\": \"2018-01-05\", \"Continent\": \"AS\", \"Streams\": 91929}, {\"Date\": \"2018-01-05\", \"Continent\": \"EU\", \"Streams\": 34485}, {\"Date\": \"2018-01-05\", \"Continent\": \"NA\", \"Streams\": 53691}, {\"Date\": \"2018-01-05\", \"Continent\": \"SA\", \"Streams\": 33379}, {\"Date\": \"2018-01-06\", \"Continent\": \"AS\", \"Streams\": 78961}, {\"Date\": \"2018-01-06\", \"Continent\": \"EU\", \"Streams\": 33853}, {\"Date\": \"2018-01-06\", \"Continent\": \"NA\", \"Streams\": 48913}, {\"Date\": \"2018-01-06\", \"Continent\": \"SA\", \"Streams\": 27371}, {\"Date\": \"2018-01-07\", \"Continent\": \"AS\", \"Streams\": 81563}, {\"Date\": \"2018-01-07\", \"Continent\": \"EU\", \"Streams\": 35331}, {\"Date\": \"2018-01-07\", \"Continent\": \"NA\", \"Streams\": 42202}, {\"Date\": \"2018-01-07\", \"Continent\": \"SA\", \"Streams\": 25648}, {\"Date\": \"2018-01-08\", \"Continent\": \"AS\", \"Streams\": 93803}, {\"Date\": \"2018-01-08\", \"Continent\": \"EU\", \"Streams\": 44195}, {\"Date\": \"2018-01-08\", \"Continent\": \"NA\", \"Streams\": 52670}, {\"Date\": \"2018-01-08\", \"Continent\": \"SA\", \"Streams\": 47043}, {\"Date\": \"2018-01-09\", \"Continent\": \"AS\", \"Streams\": 103601}, {\"Date\": \"2018-01-09\", \"Continent\": \"EU\", \"Streams\": 36796}, {\"Date\": \"2018-01-09\", \"Continent\": \"NA\", \"Streams\": 54762}, {\"Date\": \"2018-01-09\", \"Continent\": \"SA\", \"Streams\": 34694}]}}, {\"mode\": \"vega-lite\"});\n",
              "</script>"
            ],
            "text/plain": [
              "alt.Chart(...)"
            ]
          },
          "execution_count": 39,
          "metadata": {},
          "output_type": "execute_result"
        }
      ],
      "source": [
        "# State what we want the X-axis to encode, and what for the Y-axis, finally, \n",
        "# what for the color channel\n",
        "# Data types (\"Q\": quantitative, \"O\": ordinal, \"N\": nominal, \"T\": \n",
        "# temporal) are stated with the delimiter \":\" after the column name\n",
        "# See documentation for more details\n",
        "\n",
        "alt.Chart(df_chart).mark_line().encode(\n",
        "    x=\"Date:T\",\n",
        "    y=\"Streams:Q\",\n",
        "    color=\"Continent:N\"\n",
        ")"
      ]
    },
    {
      "cell_type": "markdown",
      "metadata": {
        "colab_type": "text",
        "id": "qMjXMWDgkHMF"
      },
      "source": [
        "### Juxtaposition (side-by-side)"
      ]
    },
    {
      "cell_type": "markdown",
      "metadata": {
        "colab_type": "text",
        "id": "JSWqniSDq33i"
      },
      "source": [
        "Altair makes it very easy to put multiple charts together, see the [documentation](https://altair-viz.github.io/user_guide/compound_charts.html) for more examples and how to use this powerful feature."
      ]
    },
    {
      "cell_type": "code",
      "execution_count": 40,
      "metadata": {
        "colab": {
          "base_uri": "https://localhost:8080/",
          "height": 204
        },
        "colab_type": "code",
        "id": "dI3EeodakOXA",
        "outputId": "988bf7d4-637e-44d6-f9e2-a5208a7d55e3"
      },
      "outputs": [
        {
          "data": {
            "text/html": [
              "<div>\n",
              "<style scoped>\n",
              "    .dataframe tbody tr th:only-of-type {\n",
              "        vertical-align: middle;\n",
              "    }\n",
              "\n",
              "    .dataframe tbody tr th {\n",
              "        vertical-align: top;\n",
              "    }\n",
              "\n",
              "    .dataframe thead th {\n",
              "        text-align: right;\n",
              "    }\n",
              "</style>\n",
              "<table border=\"1\" class=\"dataframe\">\n",
              "  <thead>\n",
              "    <tr style=\"text-align: right;\">\n",
              "      <th></th>\n",
              "      <th>Position</th>\n",
              "      <th>Track Name</th>\n",
              "      <th>Artist</th>\n",
              "      <th>Streams</th>\n",
              "      <th>URL</th>\n",
              "      <th>Date</th>\n",
              "      <th>Region</th>\n",
              "    </tr>\n",
              "  </thead>\n",
              "  <tbody>\n",
              "    <tr>\n",
              "      <th>3127244</th>\n",
              "      <td>2</td>\n",
              "      <td>Something Just Like This</td>\n",
              "      <td>The Chainsmokers</td>\n",
              "      <td>4752225</td>\n",
              "      <td>https://open.spotify.com/track/6RUKPb4LETWmmr3...</td>\n",
              "      <td>2017-02-24</td>\n",
              "      <td>global</td>\n",
              "    </tr>\n",
              "    <tr>\n",
              "      <th>3127444</th>\n",
              "      <td>2</td>\n",
              "      <td>Something Just Like This</td>\n",
              "      <td>The Chainsmokers</td>\n",
              "      <td>4460815</td>\n",
              "      <td>https://open.spotify.com/track/6RUKPb4LETWmmr3...</td>\n",
              "      <td>2017-02-25</td>\n",
              "      <td>global</td>\n",
              "    </tr>\n",
              "    <tr>\n",
              "      <th>3127644</th>\n",
              "      <td>2</td>\n",
              "      <td>Something Just Like This</td>\n",
              "      <td>The Chainsmokers</td>\n",
              "      <td>3949869</td>\n",
              "      <td>https://open.spotify.com/track/6RUKPb4LETWmmr3...</td>\n",
              "      <td>2017-02-26</td>\n",
              "      <td>global</td>\n",
              "    </tr>\n",
              "    <tr>\n",
              "      <th>3127844</th>\n",
              "      <td>2</td>\n",
              "      <td>Something Just Like This</td>\n",
              "      <td>The Chainsmokers</td>\n",
              "      <td>4374275</td>\n",
              "      <td>https://open.spotify.com/track/6RUKPb4LETWmmr3...</td>\n",
              "      <td>2017-02-27</td>\n",
              "      <td>global</td>\n",
              "    </tr>\n",
              "    <tr>\n",
              "      <th>3128044</th>\n",
              "      <td>2</td>\n",
              "      <td>Something Just Like This</td>\n",
              "      <td>The Chainsmokers</td>\n",
              "      <td>4517368</td>\n",
              "      <td>https://open.spotify.com/track/6RUKPb4LETWmmr3...</td>\n",
              "      <td>2017-02-28</td>\n",
              "      <td>global</td>\n",
              "    </tr>\n",
              "  </tbody>\n",
              "</table>\n",
              "</div>"
            ],
            "text/plain": [
              "         Position                Track Name            Artist  Streams  \\\n",
              "3127244         2  Something Just Like This  The Chainsmokers  4752225   \n",
              "3127444         2  Something Just Like This  The Chainsmokers  4460815   \n",
              "3127644         2  Something Just Like This  The Chainsmokers  3949869   \n",
              "3127844         2  Something Just Like This  The Chainsmokers  4374275   \n",
              "3128044         2  Something Just Like This  The Chainsmokers  4517368   \n",
              "\n",
              "                                                       URL        Date  Region  \n",
              "3127244  https://open.spotify.com/track/6RUKPb4LETWmmr3...  2017-02-24  global  \n",
              "3127444  https://open.spotify.com/track/6RUKPb4LETWmmr3...  2017-02-25  global  \n",
              "3127644  https://open.spotify.com/track/6RUKPb4LETWmmr3...  2017-02-26  global  \n",
              "3127844  https://open.spotify.com/track/6RUKPb4LETWmmr3...  2017-02-27  global  \n",
              "3128044  https://open.spotify.com/track/6RUKPb4LETWmmr3...  2017-02-28  global  "
            ]
          },
          "execution_count": 40,
          "metadata": {},
          "output_type": "execute_result"
        }
      ],
      "source": [
        "# Filter out the song we want to visualize\n",
        "\n",
        "df_chart = df_daily_ranking_global[df_daily_ranking_global[\"Track Name\"] == \"Something Just Like This\"]\n",
        "df_chart.head()"
      ]
    },
    {
      "cell_type": "code",
      "execution_count": 41,
      "metadata": {
        "colab": {
          "base_uri": "https://localhost:8080/",
          "height": 374
        },
        "colab_type": "code",
        "id": "v0ZEFNaGkrs1",
        "outputId": "e46ebc45-9807-45de-8eb0-d8186169a589"
      },
      "outputs": [
        {
          "data": {
            "text/html": [
              "\n",
              "<div id=\"altair-viz-835d82aa884c4e02b136ef58138820fe\"></div>\n",
              "<script type=\"text/javascript\">\n",
              "  var VEGA_DEBUG = (typeof VEGA_DEBUG == \"undefined\") ? {} : VEGA_DEBUG;\n",
              "  (function(spec, embedOpt){\n",
              "    let outputDiv = document.currentScript.previousElementSibling;\n",
              "    if (outputDiv.id !== \"altair-viz-835d82aa884c4e02b136ef58138820fe\") {\n",
              "      outputDiv = document.getElementById(\"altair-viz-835d82aa884c4e02b136ef58138820fe\");\n",
              "    }\n",
              "    const paths = {\n",
              "      \"vega\": \"https://cdn.jsdelivr.net/npm//vega@5?noext\",\n",
              "      \"vega-lib\": \"https://cdn.jsdelivr.net/npm//vega-lib?noext\",\n",
              "      \"vega-lite\": \"https://cdn.jsdelivr.net/npm//vega-lite@4.17.0?noext\",\n",
              "      \"vega-embed\": \"https://cdn.jsdelivr.net/npm//vega-embed@6?noext\",\n",
              "    };\n",
              "\n",
              "    function maybeLoadScript(lib, version) {\n",
              "      var key = `${lib.replace(\"-\", \"\")}_version`;\n",
              "      return (VEGA_DEBUG[key] == version) ?\n",
              "        Promise.resolve(paths[lib]) :\n",
              "        new Promise(function(resolve, reject) {\n",
              "          var s = document.createElement('script');\n",
              "          document.getElementsByTagName(\"head\")[0].appendChild(s);\n",
              "          s.async = true;\n",
              "          s.onload = () => {\n",
              "            VEGA_DEBUG[key] = version;\n",
              "            return resolve(paths[lib]);\n",
              "          };\n",
              "          s.onerror = () => reject(`Error loading script: ${paths[lib]}`);\n",
              "          s.src = paths[lib];\n",
              "        });\n",
              "    }\n",
              "\n",
              "    function showError(err) {\n",
              "      outputDiv.innerHTML = `<div class=\"error\" style=\"color:red;\">${err}</div>`;\n",
              "      throw err;\n",
              "    }\n",
              "\n",
              "    function displayChart(vegaEmbed) {\n",
              "      vegaEmbed(outputDiv, spec, embedOpt)\n",
              "        .catch(err => showError(`Javascript Error: ${err.message}<br>This usually means there's a typo in your chart specification. See the javascript console for the full traceback.`));\n",
              "    }\n",
              "\n",
              "    if(typeof define === \"function\" && define.amd) {\n",
              "      requirejs.config({paths});\n",
              "      require([\"vega-embed\"], displayChart, err => showError(`Error loading script: ${err.message}`));\n",
              "    } else {\n",
              "      maybeLoadScript(\"vega\", \"5\")\n",
              "        .then(() => maybeLoadScript(\"vega-lite\", \"4.17.0\"))\n",
              "        .then(() => maybeLoadScript(\"vega-embed\", \"6\"))\n",
              "        .catch(showError)\n",
              "        .then(() => displayChart(vegaEmbed));\n",
              "    }\n",
              "  })({\"config\": {\"view\": {\"continuousWidth\": 400, \"continuousHeight\": 300}}, \"hconcat\": [{\"mark\": \"line\", \"encoding\": {\"x\": {\"field\": \"Date\", \"type\": \"temporal\"}, \"y\": {\"field\": \"Position\", \"scale\": {\"domain\": [200, 1], \"padding\": 1, \"zero\": false}, \"type\": \"quantitative\"}}}, {\"mark\": \"bar\", \"encoding\": {\"x\": {\"field\": \"Date\", \"type\": \"temporal\"}, \"y\": {\"field\": \"Streams\", \"type\": \"quantitative\"}}}], \"data\": {\"name\": \"data-0f62131b64ea8940bf124dc36fa6b856\"}, \"$schema\": \"https://vega.github.io/schema/vega-lite/v4.17.0.json\", \"datasets\": {\"data-0f62131b64ea8940bf124dc36fa6b856\": [{\"Position\": 2, \"Track Name\": \"Something Just Like This\", \"Artist\": \"The Chainsmokers\", \"Streams\": 4752225, \"URL\": \"https://open.spotify.com/track/6RUKPb4LETWmmr3iAEQktW\", \"Date\": \"2017-02-24\", \"Region\": \"global\"}, {\"Position\": 2, \"Track Name\": \"Something Just Like This\", \"Artist\": \"The Chainsmokers\", \"Streams\": 4460815, \"URL\": \"https://open.spotify.com/track/6RUKPb4LETWmmr3iAEQktW\", \"Date\": \"2017-02-25\", \"Region\": \"global\"}, {\"Position\": 2, \"Track Name\": \"Something Just Like This\", \"Artist\": \"The Chainsmokers\", \"Streams\": 3949869, \"URL\": \"https://open.spotify.com/track/6RUKPb4LETWmmr3iAEQktW\", \"Date\": \"2017-02-26\", \"Region\": \"global\"}, {\"Position\": 2, \"Track Name\": \"Something Just Like This\", \"Artist\": \"The Chainsmokers\", \"Streams\": 4374275, \"URL\": \"https://open.spotify.com/track/6RUKPb4LETWmmr3iAEQktW\", \"Date\": \"2017-02-27\", \"Region\": \"global\"}, {\"Position\": 2, \"Track Name\": \"Something Just Like This\", \"Artist\": \"The Chainsmokers\", \"Streams\": 4517368, \"URL\": \"https://open.spotify.com/track/6RUKPb4LETWmmr3iAEQktW\", \"Date\": \"2017-02-28\", \"Region\": \"global\"}, {\"Position\": 2, \"Track Name\": \"Something Just Like This\", \"Artist\": \"The Chainsmokers\", \"Streams\": 4581789, \"URL\": \"https://open.spotify.com/track/6RUKPb4LETWmmr3iAEQktW\", \"Date\": \"2017-03-01\", \"Region\": \"global\"}, {\"Position\": 2, \"Track Name\": \"Something Just Like This\", \"Artist\": \"The Chainsmokers\", \"Streams\": 4649721, \"URL\": \"https://open.spotify.com/track/6RUKPb4LETWmmr3iAEQktW\", \"Date\": \"2017-03-02\", \"Region\": \"global\"}, {\"Position\": 4, \"Track Name\": \"Something Just Like This\", \"Artist\": \"The Chainsmokers\", \"Streams\": 4547924, \"URL\": \"https://open.spotify.com/track/6RUKPb4LETWmmr3iAEQktW\", \"Date\": \"2017-03-03\", \"Region\": \"global\"}, {\"Position\": 4, \"Track Name\": \"Something Just Like This\", \"Artist\": \"The Chainsmokers\", \"Streams\": 4199867, \"URL\": \"https://open.spotify.com/track/6RUKPb4LETWmmr3iAEQktW\", \"Date\": \"2017-03-04\", \"Region\": \"global\"}, {\"Position\": 5, \"Track Name\": \"Something Just Like This\", \"Artist\": \"The Chainsmokers\", \"Streams\": 3733406, \"URL\": \"https://open.spotify.com/track/6RUKPb4LETWmmr3iAEQktW\", \"Date\": \"2017-03-05\", \"Region\": \"global\"}, {\"Position\": 5, \"Track Name\": \"Something Just Like This\", \"Artist\": \"The Chainsmokers\", \"Streams\": 4241126, \"URL\": \"https://open.spotify.com/track/6RUKPb4LETWmmr3iAEQktW\", \"Date\": \"2017-03-07\", \"Region\": \"global\"}, {\"Position\": 5, \"Track Name\": \"Something Just Like This\", \"Artist\": \"The Chainsmokers\", \"Streams\": 4190621, \"URL\": \"https://open.spotify.com/track/6RUKPb4LETWmmr3iAEQktW\", \"Date\": \"2017-03-08\", \"Region\": \"global\"}, {\"Position\": 4, \"Track Name\": \"Something Just Like This\", \"Artist\": \"The Chainsmokers\", \"Streams\": 4297129, \"URL\": \"https://open.spotify.com/track/6RUKPb4LETWmmr3iAEQktW\", \"Date\": \"2017-03-09\", \"Region\": \"global\"}, {\"Position\": 4, \"Track Name\": \"Something Just Like This\", \"Artist\": \"The Chainsmokers\", \"Streams\": 4352601, \"URL\": \"https://open.spotify.com/track/6RUKPb4LETWmmr3iAEQktW\", \"Date\": \"2017-03-10\", \"Region\": \"global\"}, {\"Position\": 4, \"Track Name\": \"Something Just Like This\", \"Artist\": \"The Chainsmokers\", \"Streams\": 4194847, \"URL\": \"https://open.spotify.com/track/6RUKPb4LETWmmr3iAEQktW\", \"Date\": \"2017-03-11\", \"Region\": \"global\"}, {\"Position\": 4, \"Track Name\": \"Something Just Like This\", \"Artist\": \"The Chainsmokers\", \"Streams\": 3749812, \"URL\": \"https://open.spotify.com/track/6RUKPb4LETWmmr3iAEQktW\", \"Date\": \"2017-03-12\", \"Region\": \"global\"}, {\"Position\": 4, \"Track Name\": \"Something Just Like This\", \"Artist\": \"The Chainsmokers\", \"Streams\": 4030370, \"URL\": \"https://open.spotify.com/track/6RUKPb4LETWmmr3iAEQktW\", \"Date\": \"2017-03-13\", \"Region\": \"global\"}, {\"Position\": 4, \"Track Name\": \"Something Just Like This\", \"Artist\": \"The Chainsmokers\", \"Streams\": 4022323, \"URL\": \"https://open.spotify.com/track/6RUKPb4LETWmmr3iAEQktW\", \"Date\": \"2017-03-14\", \"Region\": \"global\"}, {\"Position\": 4, \"Track Name\": \"Something Just Like This\", \"Artist\": \"The Chainsmokers\", \"Streams\": 4037428, \"URL\": \"https://open.spotify.com/track/6RUKPb4LETWmmr3iAEQktW\", \"Date\": \"2017-03-15\", \"Region\": \"global\"}, {\"Position\": 4, \"Track Name\": \"Something Just Like This\", \"Artist\": \"The Chainsmokers\", \"Streams\": 4080722, \"URL\": \"https://open.spotify.com/track/6RUKPb4LETWmmr3iAEQktW\", \"Date\": \"2017-03-16\", \"Region\": \"global\"}, {\"Position\": 4, \"Track Name\": \"Something Just Like This\", \"Artist\": \"The Chainsmokers\", \"Streams\": 4111140, \"URL\": \"https://open.spotify.com/track/6RUKPb4LETWmmr3iAEQktW\", \"Date\": \"2017-03-17\", \"Region\": \"global\"}, {\"Position\": 3, \"Track Name\": \"Something Just Like This\", \"Artist\": \"The Chainsmokers\", \"Streams\": 3989872, \"URL\": \"https://open.spotify.com/track/6RUKPb4LETWmmr3iAEQktW\", \"Date\": \"2017-03-18\", \"Region\": \"global\"}, {\"Position\": 7, \"Track Name\": \"Something Just Like This\", \"Artist\": \"The Chainsmokers\", \"Streams\": 3561983, \"URL\": \"https://open.spotify.com/track/6RUKPb4LETWmmr3iAEQktW\", \"Date\": \"2017-03-19\", \"Region\": \"global\"}, {\"Position\": 6, \"Track Name\": \"Something Just Like This\", \"Artist\": \"The Chainsmokers\", \"Streams\": 3745702, \"URL\": \"https://open.spotify.com/track/6RUKPb4LETWmmr3iAEQktW\", \"Date\": \"2017-03-20\", \"Region\": \"global\"}, {\"Position\": 5, \"Track Name\": \"Something Just Like This\", \"Artist\": \"The Chainsmokers\", \"Streams\": 3830283, \"URL\": \"https://open.spotify.com/track/6RUKPb4LETWmmr3iAEQktW\", \"Date\": \"2017-03-21\", \"Region\": \"global\"}, {\"Position\": 4, \"Track Name\": \"Something Just Like This\", \"Artist\": \"The Chainsmokers\", \"Streams\": 3855992, \"URL\": \"https://open.spotify.com/track/6RUKPb4LETWmmr3iAEQktW\", \"Date\": \"2017-03-22\", \"Region\": \"global\"}, {\"Position\": 4, \"Track Name\": \"Something Just Like This\", \"Artist\": \"The Chainsmokers\", \"Streams\": 3845747, \"URL\": \"https://open.spotify.com/track/6RUKPb4LETWmmr3iAEQktW\", \"Date\": \"2017-03-23\", \"Region\": \"global\"}, {\"Position\": 4, \"Track Name\": \"Something Just Like This\", \"Artist\": \"The Chainsmokers\", \"Streams\": 4011839, \"URL\": \"https://open.spotify.com/track/6RUKPb4LETWmmr3iAEQktW\", \"Date\": \"2017-03-24\", \"Region\": \"global\"}, {\"Position\": 4, \"Track Name\": \"Something Just Like This\", \"Artist\": \"The Chainsmokers\", \"Streams\": 3978468, \"URL\": \"https://open.spotify.com/track/6RUKPb4LETWmmr3iAEQktW\", \"Date\": \"2017-03-25\", \"Region\": \"global\"}, {\"Position\": 4, \"Track Name\": \"Something Just Like This\", \"Artist\": \"The Chainsmokers\", \"Streams\": 3463206, \"URL\": \"https://open.spotify.com/track/6RUKPb4LETWmmr3iAEQktW\", \"Date\": \"2017-03-26\", \"Region\": \"global\"}, {\"Position\": 4, \"Track Name\": \"Something Just Like This\", \"Artist\": \"The Chainsmokers\", \"Streams\": 3737358, \"URL\": \"https://open.spotify.com/track/6RUKPb4LETWmmr3iAEQktW\", \"Date\": \"2017-03-27\", \"Region\": \"global\"}, {\"Position\": 4, \"Track Name\": \"Something Just Like This\", \"Artist\": \"The Chainsmokers\", \"Streams\": 3848681, \"URL\": \"https://open.spotify.com/track/6RUKPb4LETWmmr3iAEQktW\", \"Date\": \"2017-03-28\", \"Region\": \"global\"}, {\"Position\": 4, \"Track Name\": \"Something Just Like This\", \"Artist\": \"The Chainsmokers\", \"Streams\": 3864901, \"URL\": \"https://open.spotify.com/track/6RUKPb4LETWmmr3iAEQktW\", \"Date\": \"2017-03-29\", \"Region\": \"global\"}, {\"Position\": 4, \"Track Name\": \"Something Just Like This\", \"Artist\": \"The Chainsmokers\", \"Streams\": 3862951, \"URL\": \"https://open.spotify.com/track/6RUKPb4LETWmmr3iAEQktW\", \"Date\": \"2017-03-30\", \"Region\": \"global\"}, {\"Position\": 4, \"Track Name\": \"Something Just Like This\", \"Artist\": \"The Chainsmokers\", \"Streams\": 4054795, \"URL\": \"https://open.spotify.com/track/6RUKPb4LETWmmr3iAEQktW\", \"Date\": \"2017-03-31\", \"Region\": \"global\"}, {\"Position\": 4, \"Track Name\": \"Something Just Like This\", \"Artist\": \"The Chainsmokers\", \"Streams\": 3890316, \"URL\": \"https://open.spotify.com/track/6RUKPb4LETWmmr3iAEQktW\", \"Date\": \"2017-04-01\", \"Region\": \"global\"}, {\"Position\": 4, \"Track Name\": \"Something Just Like This\", \"Artist\": \"The Chainsmokers\", \"Streams\": 3466544, \"URL\": \"https://open.spotify.com/track/6RUKPb4LETWmmr3iAEQktW\", \"Date\": \"2017-04-02\", \"Region\": \"global\"}, {\"Position\": 5, \"Track Name\": \"Something Just Like This\", \"Artist\": \"The Chainsmokers\", \"Streams\": 3713688, \"URL\": \"https://open.spotify.com/track/6RUKPb4LETWmmr3iAEQktW\", \"Date\": \"2017-04-03\", \"Region\": \"global\"}, {\"Position\": 5, \"Track Name\": \"Something Just Like This\", \"Artist\": \"The Chainsmokers\", \"Streams\": 3780838, \"URL\": \"https://open.spotify.com/track/6RUKPb4LETWmmr3iAEQktW\", \"Date\": \"2017-04-04\", \"Region\": \"global\"}, {\"Position\": 5, \"Track Name\": \"Something Just Like This\", \"Artist\": \"The Chainsmokers\", \"Streams\": 3790119, \"URL\": \"https://open.spotify.com/track/6RUKPb4LETWmmr3iAEQktW\", \"Date\": \"2017-04-05\", \"Region\": \"global\"}, {\"Position\": 5, \"Track Name\": \"Something Just Like This\", \"Artist\": \"The Chainsmokers\", \"Streams\": 3797881, \"URL\": \"https://open.spotify.com/track/6RUKPb4LETWmmr3iAEQktW\", \"Date\": \"2017-04-06\", \"Region\": \"global\"}, {\"Position\": 2, \"Track Name\": \"Something Just Like This\", \"Artist\": \"The Chainsmokers\", \"Streams\": 4872592, \"URL\": \"https://open.spotify.com/track/6RUKPb4LETWmmr3iAEQktW\", \"Date\": \"2017-04-07\", \"Region\": \"global\"}, {\"Position\": 2, \"Track Name\": \"Something Just Like This\", \"Artist\": \"The Chainsmokers\", \"Streams\": 4671355, \"URL\": \"https://open.spotify.com/track/6RUKPb4LETWmmr3iAEQktW\", \"Date\": \"2017-04-08\", \"Region\": \"global\"}, {\"Position\": 2, \"Track Name\": \"Something Just Like This\", \"Artist\": \"The Chainsmokers\", \"Streams\": 4042485, \"URL\": \"https://open.spotify.com/track/6RUKPb4LETWmmr3iAEQktW\", \"Date\": \"2017-04-09\", \"Region\": \"global\"}, {\"Position\": 2, \"Track Name\": \"Something Just Like This\", \"Artist\": \"The Chainsmokers\", \"Streams\": 4343539, \"URL\": \"https://open.spotify.com/track/6RUKPb4LETWmmr3iAEQktW\", \"Date\": \"2017-04-10\", \"Region\": \"global\"}, {\"Position\": 2, \"Track Name\": \"Something Just Like This\", \"Artist\": \"The Chainsmokers\", \"Streams\": 4299567, \"URL\": \"https://open.spotify.com/track/6RUKPb4LETWmmr3iAEQktW\", \"Date\": \"2017-04-11\", \"Region\": \"global\"}, {\"Position\": 2, \"Track Name\": \"Something Just Like This\", \"Artist\": \"The Chainsmokers\", \"Streams\": 4299214, \"URL\": \"https://open.spotify.com/track/6RUKPb4LETWmmr3iAEQktW\", \"Date\": \"2017-04-12\", \"Region\": \"global\"}, {\"Position\": 2, \"Track Name\": \"Something Just Like This\", \"Artist\": \"The Chainsmokers\", \"Streams\": 4280776, \"URL\": \"https://open.spotify.com/track/6RUKPb4LETWmmr3iAEQktW\", \"Date\": \"2017-04-13\", \"Region\": \"global\"}, {\"Position\": 6, \"Track Name\": \"Something Just Like This\", \"Artist\": \"The Chainsmokers\", \"Streams\": 4027515, \"URL\": \"https://open.spotify.com/track/6RUKPb4LETWmmr3iAEQktW\", \"Date\": \"2017-04-14\", \"Region\": \"global\"}, {\"Position\": 4, \"Track Name\": \"Something Just Like This\", \"Artist\": \"The Chainsmokers\", \"Streams\": 3728319, \"URL\": \"https://open.spotify.com/track/6RUKPb4LETWmmr3iAEQktW\", \"Date\": \"2017-04-15\", \"Region\": \"global\"}, {\"Position\": 4, \"Track Name\": \"Something Just Like This\", \"Artist\": \"The Chainsmokers\", \"Streams\": 3359262, \"URL\": \"https://open.spotify.com/track/6RUKPb4LETWmmr3iAEQktW\", \"Date\": \"2017-04-16\", \"Region\": \"global\"}, {\"Position\": 4, \"Track Name\": \"Something Just Like This\", \"Artist\": \"The Chainsmokers\", \"Streams\": 3744117, \"URL\": \"https://open.spotify.com/track/6RUKPb4LETWmmr3iAEQktW\", \"Date\": \"2017-04-17\", \"Region\": \"global\"}, {\"Position\": 5, \"Track Name\": \"Something Just Like This\", \"Artist\": \"The Chainsmokers\", \"Streams\": 3863631, \"URL\": \"https://open.spotify.com/track/6RUKPb4LETWmmr3iAEQktW\", \"Date\": \"2017-04-18\", \"Region\": \"global\"}, {\"Position\": 5, \"Track Name\": \"Something Just Like This\", \"Artist\": \"The Chainsmokers\", \"Streams\": 3808021, \"URL\": \"https://open.spotify.com/track/6RUKPb4LETWmmr3iAEQktW\", \"Date\": \"2017-04-19\", \"Region\": \"global\"}, {\"Position\": 5, \"Track Name\": \"Something Just Like This\", \"Artist\": \"The Chainsmokers\", \"Streams\": 3792579, \"URL\": \"https://open.spotify.com/track/6RUKPb4LETWmmr3iAEQktW\", \"Date\": \"2017-04-20\", \"Region\": \"global\"}, {\"Position\": 5, \"Track Name\": \"Something Just Like This\", \"Artist\": \"The Chainsmokers\", \"Streams\": 3912831, \"URL\": \"https://open.spotify.com/track/6RUKPb4LETWmmr3iAEQktW\", \"Date\": \"2017-04-21\", \"Region\": \"global\"}, {\"Position\": 4, \"Track Name\": \"Something Just Like This\", \"Artist\": \"The Chainsmokers\", \"Streams\": 3727966, \"URL\": \"https://open.spotify.com/track/6RUKPb4LETWmmr3iAEQktW\", \"Date\": \"2017-04-22\", \"Region\": \"global\"}, {\"Position\": 4, \"Track Name\": \"Something Just Like This\", \"Artist\": \"The Chainsmokers\", \"Streams\": 3252105, \"URL\": \"https://open.spotify.com/track/6RUKPb4LETWmmr3iAEQktW\", \"Date\": \"2017-04-23\", \"Region\": \"global\"}, {\"Position\": 4, \"Track Name\": \"Something Just Like This\", \"Artist\": \"The Chainsmokers\", \"Streams\": 3557569, \"URL\": \"https://open.spotify.com/track/6RUKPb4LETWmmr3iAEQktW\", \"Date\": \"2017-04-24\", \"Region\": \"global\"}, {\"Position\": 4, \"Track Name\": \"Something Just Like This\", \"Artist\": \"The Chainsmokers\", \"Streams\": 3610832, \"URL\": \"https://open.spotify.com/track/6RUKPb4LETWmmr3iAEQktW\", \"Date\": \"2017-04-25\", \"Region\": \"global\"}, {\"Position\": 4, \"Track Name\": \"Something Just Like This\", \"Artist\": \"The Chainsmokers\", \"Streams\": 3629554, \"URL\": \"https://open.spotify.com/track/6RUKPb4LETWmmr3iAEQktW\", \"Date\": \"2017-04-26\", \"Region\": \"global\"}, {\"Position\": 4, \"Track Name\": \"Something Just Like This\", \"Artist\": \"The Chainsmokers\", \"Streams\": 3571216, \"URL\": \"https://open.spotify.com/track/6RUKPb4LETWmmr3iAEQktW\", \"Date\": \"2017-04-27\", \"Region\": \"global\"}, {\"Position\": 4, \"Track Name\": \"Something Just Like This\", \"Artist\": \"The Chainsmokers\", \"Streams\": 3775808, \"URL\": \"https://open.spotify.com/track/6RUKPb4LETWmmr3iAEQktW\", \"Date\": \"2017-04-28\", \"Region\": \"global\"}, {\"Position\": 5, \"Track Name\": \"Something Just Like This\", \"Artist\": \"The Chainsmokers\", \"Streams\": 3617143, \"URL\": \"https://open.spotify.com/track/6RUKPb4LETWmmr3iAEQktW\", \"Date\": \"2017-04-29\", \"Region\": \"global\"}, {\"Position\": 5, \"Track Name\": \"Something Just Like This\", \"Artist\": \"The Chainsmokers\", \"Streams\": 3275587, \"URL\": \"https://open.spotify.com/track/6RUKPb4LETWmmr3iAEQktW\", \"Date\": \"2017-04-30\", \"Region\": \"global\"}, {\"Position\": 5, \"Track Name\": \"Something Just Like This\", \"Artist\": \"The Chainsmokers\", \"Streams\": 3301169, \"URL\": \"https://open.spotify.com/track/6RUKPb4LETWmmr3iAEQktW\", \"Date\": \"2017-05-01\", \"Region\": \"global\"}, {\"Position\": 5, \"Track Name\": \"Something Just Like This\", \"Artist\": \"The Chainsmokers\", \"Streams\": 3426148, \"URL\": \"https://open.spotify.com/track/6RUKPb4LETWmmr3iAEQktW\", \"Date\": \"2017-05-02\", \"Region\": \"global\"}, {\"Position\": 5, \"Track Name\": \"Something Just Like This\", \"Artist\": \"The Chainsmokers\", \"Streams\": 3468968, \"URL\": \"https://open.spotify.com/track/6RUKPb4LETWmmr3iAEQktW\", \"Date\": \"2017-05-03\", \"Region\": \"global\"}, {\"Position\": 5, \"Track Name\": \"Something Just Like This\", \"Artist\": \"The Chainsmokers\", \"Streams\": 3470726, \"URL\": \"https://open.spotify.com/track/6RUKPb4LETWmmr3iAEQktW\", \"Date\": \"2017-05-04\", \"Region\": \"global\"}, {\"Position\": 5, \"Track Name\": \"Something Just Like This\", \"Artist\": \"The Chainsmokers\", \"Streams\": 3622415, \"URL\": \"https://open.spotify.com/track/6RUKPb4LETWmmr3iAEQktW\", \"Date\": \"2017-05-05\", \"Region\": \"global\"}, {\"Position\": 5, \"Track Name\": \"Something Just Like This\", \"Artist\": \"The Chainsmokers\", \"Streams\": 3482658, \"URL\": \"https://open.spotify.com/track/6RUKPb4LETWmmr3iAEQktW\", \"Date\": \"2017-05-06\", \"Region\": \"global\"}, {\"Position\": 5, \"Track Name\": \"Something Just Like This\", \"Artist\": \"The Chainsmokers\", \"Streams\": 3040136, \"URL\": \"https://open.spotify.com/track/6RUKPb4LETWmmr3iAEQktW\", \"Date\": \"2017-05-07\", \"Region\": \"global\"}, {\"Position\": 5, \"Track Name\": \"Something Just Like This\", \"Artist\": \"The Chainsmokers\", \"Streams\": 3299136, \"URL\": \"https://open.spotify.com/track/6RUKPb4LETWmmr3iAEQktW\", \"Date\": \"2017-05-08\", \"Region\": \"global\"}, {\"Position\": 5, \"Track Name\": \"Something Just Like This\", \"Artist\": \"The Chainsmokers\", \"Streams\": 3346499, \"URL\": \"https://open.spotify.com/track/6RUKPb4LETWmmr3iAEQktW\", \"Date\": \"2017-05-09\", \"Region\": \"global\"}, {\"Position\": 5, \"Track Name\": \"Something Just Like This\", \"Artist\": \"The Chainsmokers\", \"Streams\": 3329542, \"URL\": \"https://open.spotify.com/track/6RUKPb4LETWmmr3iAEQktW\", \"Date\": \"2017-05-10\", \"Region\": \"global\"}, {\"Position\": 5, \"Track Name\": \"Something Just Like This\", \"Artist\": \"The Chainsmokers\", \"Streams\": 3332441, \"URL\": \"https://open.spotify.com/track/6RUKPb4LETWmmr3iAEQktW\", \"Date\": \"2017-05-11\", \"Region\": \"global\"}, {\"Position\": 6, \"Track Name\": \"Something Just Like This\", \"Artist\": \"The Chainsmokers\", \"Streams\": 3509797, \"URL\": \"https://open.spotify.com/track/6RUKPb4LETWmmr3iAEQktW\", \"Date\": \"2017-05-12\", \"Region\": \"global\"}, {\"Position\": 6, \"Track Name\": \"Something Just Like This\", \"Artist\": \"The Chainsmokers\", \"Streams\": 3342166, \"URL\": \"https://open.spotify.com/track/6RUKPb4LETWmmr3iAEQktW\", \"Date\": \"2017-05-13\", \"Region\": \"global\"}, {\"Position\": 6, \"Track Name\": \"Something Just Like This\", \"Artist\": \"The Chainsmokers\", \"Streams\": 2881595, \"URL\": \"https://open.spotify.com/track/6RUKPb4LETWmmr3iAEQktW\", \"Date\": \"2017-05-14\", \"Region\": \"global\"}, {\"Position\": 6, \"Track Name\": \"Something Just Like This\", \"Artist\": \"The Chainsmokers\", \"Streams\": 3144467, \"URL\": \"https://open.spotify.com/track/6RUKPb4LETWmmr3iAEQktW\", \"Date\": \"2017-05-15\", \"Region\": \"global\"}, {\"Position\": 6, \"Track Name\": \"Something Just Like This\", \"Artist\": \"The Chainsmokers\", \"Streams\": 3175398, \"URL\": \"https://open.spotify.com/track/6RUKPb4LETWmmr3iAEQktW\", \"Date\": \"2017-05-16\", \"Region\": \"global\"}, {\"Position\": 10, \"Track Name\": \"Something Just Like This\", \"Artist\": \"The Chainsmokers\", \"Streams\": 3011529, \"URL\": \"https://open.spotify.com/track/6RUKPb4LETWmmr3iAEQktW\", \"Date\": \"2017-05-17\", \"Region\": \"global\"}, {\"Position\": 13, \"Track Name\": \"Something Just Like This\", \"Artist\": \"The Chainsmokers\", \"Streams\": 2920894, \"URL\": \"https://open.spotify.com/track/6RUKPb4LETWmmr3iAEQktW\", \"Date\": \"2017-05-18\", \"Region\": \"global\"}, {\"Position\": 12, \"Track Name\": \"Something Just Like This\", \"Artist\": \"The Chainsmokers\", \"Streams\": 3054381, \"URL\": \"https://open.spotify.com/track/6RUKPb4LETWmmr3iAEQktW\", \"Date\": \"2017-05-19\", \"Region\": \"global\"}, {\"Position\": 13, \"Track Name\": \"Something Just Like This\", \"Artist\": \"The Chainsmokers\", \"Streams\": 2943450, \"URL\": \"https://open.spotify.com/track/6RUKPb4LETWmmr3iAEQktW\", \"Date\": \"2017-05-20\", \"Region\": \"global\"}, {\"Position\": 15, \"Track Name\": \"Something Just Like This\", \"Artist\": \"The Chainsmokers\", \"Streams\": 2574421, \"URL\": \"https://open.spotify.com/track/6RUKPb4LETWmmr3iAEQktW\", \"Date\": \"2017-05-21\", \"Region\": \"global\"}, {\"Position\": 13, \"Track Name\": \"Something Just Like This\", \"Artist\": \"The Chainsmokers\", \"Streams\": 2765594, \"URL\": \"https://open.spotify.com/track/6RUKPb4LETWmmr3iAEQktW\", \"Date\": \"2017-05-22\", \"Region\": \"global\"}, {\"Position\": 13, \"Track Name\": \"Something Just Like This\", \"Artist\": \"The Chainsmokers\", \"Streams\": 2794364, \"URL\": \"https://open.spotify.com/track/6RUKPb4LETWmmr3iAEQktW\", \"Date\": \"2017-05-23\", \"Region\": \"global\"}, {\"Position\": 13, \"Track Name\": \"Something Just Like This\", \"Artist\": \"The Chainsmokers\", \"Streams\": 2878946, \"URL\": \"https://open.spotify.com/track/6RUKPb4LETWmmr3iAEQktW\", \"Date\": \"2017-05-24\", \"Region\": \"global\"}, {\"Position\": 13, \"Track Name\": \"Something Just Like This\", \"Artist\": \"The Chainsmokers\", \"Streams\": 2892407, \"URL\": \"https://open.spotify.com/track/6RUKPb4LETWmmr3iAEQktW\", \"Date\": \"2017-05-25\", \"Region\": \"global\"}, {\"Position\": 12, \"Track Name\": \"Something Just Like This\", \"Artist\": \"The Chainsmokers\", \"Streams\": 3053539, \"URL\": \"https://open.spotify.com/track/6RUKPb4LETWmmr3iAEQktW\", \"Date\": \"2017-05-26\", \"Region\": \"global\"}, {\"Position\": 11, \"Track Name\": \"Something Just Like This\", \"Artist\": \"The Chainsmokers\", \"Streams\": 2852266, \"URL\": \"https://open.spotify.com/track/6RUKPb4LETWmmr3iAEQktW\", \"Date\": \"2017-05-27\", \"Region\": \"global\"}, {\"Position\": 11, \"Track Name\": \"Something Just Like This\", \"Artist\": \"The Chainsmokers\", \"Streams\": 2512677, \"URL\": \"https://open.spotify.com/track/6RUKPb4LETWmmr3iAEQktW\", \"Date\": \"2017-05-28\", \"Region\": \"global\"}, {\"Position\": 12, \"Track Name\": \"Something Just Like This\", \"Artist\": \"The Chainsmokers\", \"Streams\": 2628315, \"URL\": \"https://open.spotify.com/track/6RUKPb4LETWmmr3iAEQktW\", \"Date\": \"2017-05-29\", \"Region\": \"global\"}, {\"Position\": 11, \"Track Name\": \"Something Just Like This\", \"Artist\": \"The Chainsmokers\", \"Streams\": 2750302, \"URL\": \"https://open.spotify.com/track/6RUKPb4LETWmmr3iAEQktW\", \"Date\": \"2017-06-01\", \"Region\": \"global\"}, {\"Position\": 12, \"Track Name\": \"Something Just Like This\", \"Artist\": \"The Chainsmokers\", \"Streams\": 2634609, \"URL\": \"https://open.spotify.com/track/6RUKPb4LETWmmr3iAEQktW\", \"Date\": \"2017-06-03\", \"Region\": \"global\"}, {\"Position\": 12, \"Track Name\": \"Something Just Like This\", \"Artist\": \"The Chainsmokers\", \"Streams\": 2334476, \"URL\": \"https://open.spotify.com/track/6RUKPb4LETWmmr3iAEQktW\", \"Date\": \"2017-06-04\", \"Region\": \"global\"}, {\"Position\": 10, \"Track Name\": \"Something Just Like This\", \"Artist\": \"The Chainsmokers\", \"Streams\": 2608778, \"URL\": \"https://open.spotify.com/track/6RUKPb4LETWmmr3iAEQktW\", \"Date\": \"2017-06-05\", \"Region\": \"global\"}, {\"Position\": 10, \"Track Name\": \"Something Just Like This\", \"Artist\": \"The Chainsmokers\", \"Streams\": 2661267, \"URL\": \"https://open.spotify.com/track/6RUKPb4LETWmmr3iAEQktW\", \"Date\": \"2017-06-06\", \"Region\": \"global\"}, {\"Position\": 11, \"Track Name\": \"Something Just Like This\", \"Artist\": \"The Chainsmokers\", \"Streams\": 2702831, \"URL\": \"https://open.spotify.com/track/6RUKPb4LETWmmr3iAEQktW\", \"Date\": \"2017-06-07\", \"Region\": \"global\"}, {\"Position\": 12, \"Track Name\": \"Something Just Like This\", \"Artist\": \"The Chainsmokers\", \"Streams\": 2682091, \"URL\": \"https://open.spotify.com/track/6RUKPb4LETWmmr3iAEQktW\", \"Date\": \"2017-06-08\", \"Region\": \"global\"}, {\"Position\": 13, \"Track Name\": \"Something Just Like This\", \"Artist\": \"The Chainsmokers\", \"Streams\": 2780096, \"URL\": \"https://open.spotify.com/track/6RUKPb4LETWmmr3iAEQktW\", \"Date\": \"2017-06-09\", \"Region\": \"global\"}, {\"Position\": 13, \"Track Name\": \"Something Just Like This\", \"Artist\": \"The Chainsmokers\", \"Streams\": 2651469, \"URL\": \"https://open.spotify.com/track/6RUKPb4LETWmmr3iAEQktW\", \"Date\": \"2017-06-10\", \"Region\": \"global\"}, {\"Position\": 13, \"Track Name\": \"Something Just Like This\", \"Artist\": \"The Chainsmokers\", \"Streams\": 2329884, \"URL\": \"https://open.spotify.com/track/6RUKPb4LETWmmr3iAEQktW\", \"Date\": \"2017-06-11\", \"Region\": \"global\"}, {\"Position\": 13, \"Track Name\": \"Something Just Like This\", \"Artist\": \"The Chainsmokers\", \"Streams\": 2494080, \"URL\": \"https://open.spotify.com/track/6RUKPb4LETWmmr3iAEQktW\", \"Date\": \"2017-06-12\", \"Region\": \"global\"}, {\"Position\": 13, \"Track Name\": \"Something Just Like This\", \"Artist\": \"The Chainsmokers\", \"Streams\": 2550427, \"URL\": \"https://open.spotify.com/track/6RUKPb4LETWmmr3iAEQktW\", \"Date\": \"2017-06-13\", \"Region\": \"global\"}, {\"Position\": 13, \"Track Name\": \"Something Just Like This\", \"Artist\": \"The Chainsmokers\", \"Streams\": 2617333, \"URL\": \"https://open.spotify.com/track/6RUKPb4LETWmmr3iAEQktW\", \"Date\": \"2017-06-14\", \"Region\": \"global\"}, {\"Position\": 13, \"Track Name\": \"Something Just Like This\", \"Artist\": \"The Chainsmokers\", \"Streams\": 2622461, \"URL\": \"https://open.spotify.com/track/6RUKPb4LETWmmr3iAEQktW\", \"Date\": \"2017-06-15\", \"Region\": \"global\"}, {\"Position\": 13, \"Track Name\": \"Something Just Like This\", \"Artist\": \"The Chainsmokers\", \"Streams\": 2718243, \"URL\": \"https://open.spotify.com/track/6RUKPb4LETWmmr3iAEQktW\", \"Date\": \"2017-06-16\", \"Region\": \"global\"}, {\"Position\": 14, \"Track Name\": \"Something Just Like This\", \"Artist\": \"The Chainsmokers\", \"Streams\": 2629304, \"URL\": \"https://open.spotify.com/track/6RUKPb4LETWmmr3iAEQktW\", \"Date\": \"2017-06-17\", \"Region\": \"global\"}, {\"Position\": 15, \"Track Name\": \"Something Just Like This\", \"Artist\": \"The Chainsmokers\", \"Streams\": 2305371, \"URL\": \"https://open.spotify.com/track/6RUKPb4LETWmmr3iAEQktW\", \"Date\": \"2017-06-18\", \"Region\": \"global\"}, {\"Position\": 16, \"Track Name\": \"Something Just Like This\", \"Artist\": \"The Chainsmokers\", \"Streams\": 2451937, \"URL\": \"https://open.spotify.com/track/6RUKPb4LETWmmr3iAEQktW\", \"Date\": \"2017-06-19\", \"Region\": \"global\"}, {\"Position\": 16, \"Track Name\": \"Something Just Like This\", \"Artist\": \"The Chainsmokers\", \"Streams\": 2475220, \"URL\": \"https://open.spotify.com/track/6RUKPb4LETWmmr3iAEQktW\", \"Date\": \"2017-06-20\", \"Region\": \"global\"}, {\"Position\": 16, \"Track Name\": \"Something Just Like This\", \"Artist\": \"The Chainsmokers\", \"Streams\": 2498172, \"URL\": \"https://open.spotify.com/track/6RUKPb4LETWmmr3iAEQktW\", \"Date\": \"2017-06-21\", \"Region\": \"global\"}, {\"Position\": 16, \"Track Name\": \"Something Just Like This\", \"Artist\": \"The Chainsmokers\", \"Streams\": 2516315, \"URL\": \"https://open.spotify.com/track/6RUKPb4LETWmmr3iAEQktW\", \"Date\": \"2017-06-22\", \"Region\": \"global\"}, {\"Position\": 16, \"Track Name\": \"Something Just Like This\", \"Artist\": \"The Chainsmokers\", \"Streams\": 2613153, \"URL\": \"https://open.spotify.com/track/6RUKPb4LETWmmr3iAEQktW\", \"Date\": \"2017-06-23\", \"Region\": \"global\"}, {\"Position\": 17, \"Track Name\": \"Something Just Like This\", \"Artist\": \"The Chainsmokers\", \"Streams\": 2405998, \"URL\": \"https://open.spotify.com/track/6RUKPb4LETWmmr3iAEQktW\", \"Date\": \"2017-06-24\", \"Region\": \"global\"}, {\"Position\": 16, \"Track Name\": \"Something Just Like This\", \"Artist\": \"The Chainsmokers\", \"Streams\": 2124728, \"URL\": \"https://open.spotify.com/track/6RUKPb4LETWmmr3iAEQktW\", \"Date\": \"2017-06-25\", \"Region\": \"global\"}, {\"Position\": 16, \"Track Name\": \"Something Just Like This\", \"Artist\": \"The Chainsmokers\", \"Streams\": 2361923, \"URL\": \"https://open.spotify.com/track/6RUKPb4LETWmmr3iAEQktW\", \"Date\": \"2017-06-26\", \"Region\": \"global\"}, {\"Position\": 17, \"Track Name\": \"Something Just Like This\", \"Artist\": \"The Chainsmokers\", \"Streams\": 2380457, \"URL\": \"https://open.spotify.com/track/6RUKPb4LETWmmr3iAEQktW\", \"Date\": \"2017-06-27\", \"Region\": \"global\"}, {\"Position\": 17, \"Track Name\": \"Something Just Like This\", \"Artist\": \"The Chainsmokers\", \"Streams\": 2369030, \"URL\": \"https://open.spotify.com/track/6RUKPb4LETWmmr3iAEQktW\", \"Date\": \"2017-06-28\", \"Region\": \"global\"}, {\"Position\": 17, \"Track Name\": \"Something Just Like This\", \"Artist\": \"The Chainsmokers\", \"Streams\": 2370874, \"URL\": \"https://open.spotify.com/track/6RUKPb4LETWmmr3iAEQktW\", \"Date\": \"2017-06-29\", \"Region\": \"global\"}, {\"Position\": 17, \"Track Name\": \"Something Just Like This\", \"Artist\": \"The Chainsmokers\", \"Streams\": 2503562, \"URL\": \"https://open.spotify.com/track/6RUKPb4LETWmmr3iAEQktW\", \"Date\": \"2017-06-30\", \"Region\": \"global\"}, {\"Position\": 18, \"Track Name\": \"Something Just Like This\", \"Artist\": \"The Chainsmokers\", \"Streams\": 2389321, \"URL\": \"https://open.spotify.com/track/6RUKPb4LETWmmr3iAEQktW\", \"Date\": \"2017-07-01\", \"Region\": \"global\"}, {\"Position\": 17, \"Track Name\": \"Something Just Like This\", \"Artist\": \"The Chainsmokers\", \"Streams\": 2072624, \"URL\": \"https://open.spotify.com/track/6RUKPb4LETWmmr3iAEQktW\", \"Date\": \"2017-07-02\", \"Region\": \"global\"}, {\"Position\": 17, \"Track Name\": \"Something Just Like This\", \"Artist\": \"The Chainsmokers\", \"Streams\": 2258746, \"URL\": \"https://open.spotify.com/track/6RUKPb4LETWmmr3iAEQktW\", \"Date\": \"2017-07-03\", \"Region\": \"global\"}, {\"Position\": 14, \"Track Name\": \"Something Just Like This\", \"Artist\": \"The Chainsmokers\", \"Streams\": 2423412, \"URL\": \"https://open.spotify.com/track/6RUKPb4LETWmmr3iAEQktW\", \"Date\": \"2017-07-04\", \"Region\": \"global\"}, {\"Position\": 14, \"Track Name\": \"Something Just Like This\", \"Artist\": \"The Chainsmokers\", \"Streams\": 2395725, \"URL\": \"https://open.spotify.com/track/6RUKPb4LETWmmr3iAEQktW\", \"Date\": \"2017-07-05\", \"Region\": \"global\"}, {\"Position\": 16, \"Track Name\": \"Something Just Like This\", \"Artist\": \"The Chainsmokers\", \"Streams\": 2359441, \"URL\": \"https://open.spotify.com/track/6RUKPb4LETWmmr3iAEQktW\", \"Date\": \"2017-07-06\", \"Region\": \"global\"}, {\"Position\": 17, \"Track Name\": \"Something Just Like This\", \"Artist\": \"The Chainsmokers\", \"Streams\": 2471829, \"URL\": \"https://open.spotify.com/track/6RUKPb4LETWmmr3iAEQktW\", \"Date\": \"2017-07-07\", \"Region\": \"global\"}, {\"Position\": 17, \"Track Name\": \"Something Just Like This\", \"Artist\": \"The Chainsmokers\", \"Streams\": 2340211, \"URL\": \"https://open.spotify.com/track/6RUKPb4LETWmmr3iAEQktW\", \"Date\": \"2017-07-08\", \"Region\": \"global\"}, {\"Position\": 18, \"Track Name\": \"Something Just Like This\", \"Artist\": \"The Chainsmokers\", \"Streams\": 2058633, \"URL\": \"https://open.spotify.com/track/6RUKPb4LETWmmr3iAEQktW\", \"Date\": \"2017-07-09\", \"Region\": \"global\"}, {\"Position\": 16, \"Track Name\": \"Something Just Like This\", \"Artist\": \"The Chainsmokers\", \"Streams\": 2231042, \"URL\": \"https://open.spotify.com/track/6RUKPb4LETWmmr3iAEQktW\", \"Date\": \"2017-07-10\", \"Region\": \"global\"}, {\"Position\": 16, \"Track Name\": \"Something Just Like This\", \"Artist\": \"The Chainsmokers\", \"Streams\": 2242636, \"URL\": \"https://open.spotify.com/track/6RUKPb4LETWmmr3iAEQktW\", \"Date\": \"2017-07-11\", \"Region\": \"global\"}, {\"Position\": 16, \"Track Name\": \"Something Just Like This\", \"Artist\": \"The Chainsmokers\", \"Streams\": 2265576, \"URL\": \"https://open.spotify.com/track/6RUKPb4LETWmmr3iAEQktW\", \"Date\": \"2017-07-12\", \"Region\": \"global\"}, {\"Position\": 16, \"Track Name\": \"Something Just Like This\", \"Artist\": \"The Chainsmokers\", \"Streams\": 2279918, \"URL\": \"https://open.spotify.com/track/6RUKPb4LETWmmr3iAEQktW\", \"Date\": \"2017-07-13\", \"Region\": \"global\"}, {\"Position\": 17, \"Track Name\": \"Something Just Like This\", \"Artist\": \"The Chainsmokers\", \"Streams\": 2365945, \"URL\": \"https://open.spotify.com/track/6RUKPb4LETWmmr3iAEQktW\", \"Date\": \"2017-07-14\", \"Region\": \"global\"}, {\"Position\": 19, \"Track Name\": \"Something Just Like This\", \"Artist\": \"The Chainsmokers\", \"Streams\": 2242112, \"URL\": \"https://open.spotify.com/track/6RUKPb4LETWmmr3iAEQktW\", \"Date\": \"2017-07-15\", \"Region\": \"global\"}, {\"Position\": 19, \"Track Name\": \"Something Just Like This\", \"Artist\": \"The Chainsmokers\", \"Streams\": 1940964, \"URL\": \"https://open.spotify.com/track/6RUKPb4LETWmmr3iAEQktW\", \"Date\": \"2017-07-16\", \"Region\": \"global\"}, {\"Position\": 19, \"Track Name\": \"Something Just Like This\", \"Artist\": \"The Chainsmokers\", \"Streams\": 2109570, \"URL\": \"https://open.spotify.com/track/6RUKPb4LETWmmr3iAEQktW\", \"Date\": \"2017-07-17\", \"Region\": \"global\"}, {\"Position\": 20, \"Track Name\": \"Something Just Like This\", \"Artist\": \"The Chainsmokers\", \"Streams\": 2119318, \"URL\": \"https://open.spotify.com/track/6RUKPb4LETWmmr3iAEQktW\", \"Date\": \"2017-07-18\", \"Region\": \"global\"}, {\"Position\": 20, \"Track Name\": \"Something Just Like This\", \"Artist\": \"The Chainsmokers\", \"Streams\": 2101386, \"URL\": \"https://open.spotify.com/track/6RUKPb4LETWmmr3iAEQktW\", \"Date\": \"2017-07-19\", \"Region\": \"global\"}, {\"Position\": 21, \"Track Name\": \"Something Just Like This\", \"Artist\": \"The Chainsmokers\", \"Streams\": 2100573, \"URL\": \"https://open.spotify.com/track/6RUKPb4LETWmmr3iAEQktW\", \"Date\": \"2017-07-20\", \"Region\": \"global\"}, {\"Position\": 24, \"Track Name\": \"Something Just Like This\", \"Artist\": \"The Chainsmokers\", \"Streams\": 2163889, \"URL\": \"https://open.spotify.com/track/6RUKPb4LETWmmr3iAEQktW\", \"Date\": \"2017-07-21\", \"Region\": \"global\"}, {\"Position\": 21, \"Track Name\": \"Something Just Like This\", \"Artist\": \"The Chainsmokers\", \"Streams\": 2066391, \"URL\": \"https://open.spotify.com/track/6RUKPb4LETWmmr3iAEQktW\", \"Date\": \"2017-07-22\", \"Region\": \"global\"}, {\"Position\": 21, \"Track Name\": \"Something Just Like This\", \"Artist\": \"The Chainsmokers\", \"Streams\": 1798133, \"URL\": \"https://open.spotify.com/track/6RUKPb4LETWmmr3iAEQktW\", \"Date\": \"2017-07-23\", \"Region\": \"global\"}, {\"Position\": 20, \"Track Name\": \"Something Just Like This\", \"Artist\": \"The Chainsmokers\", \"Streams\": 1951259, \"URL\": \"https://open.spotify.com/track/6RUKPb4LETWmmr3iAEQktW\", \"Date\": \"2017-07-24\", \"Region\": \"global\"}, {\"Position\": 20, \"Track Name\": \"Something Just Like This\", \"Artist\": \"The Chainsmokers\", \"Streams\": 1985232, \"URL\": \"https://open.spotify.com/track/6RUKPb4LETWmmr3iAEQktW\", \"Date\": \"2017-07-25\", \"Region\": \"global\"}, {\"Position\": 20, \"Track Name\": \"Something Just Like This\", \"Artist\": \"The Chainsmokers\", \"Streams\": 1973177, \"URL\": \"https://open.spotify.com/track/6RUKPb4LETWmmr3iAEQktW\", \"Date\": \"2017-07-26\", \"Region\": \"global\"}, {\"Position\": 21, \"Track Name\": \"Something Just Like This\", \"Artist\": \"The Chainsmokers\", \"Streams\": 2007959, \"URL\": \"https://open.spotify.com/track/6RUKPb4LETWmmr3iAEQktW\", \"Date\": \"2017-07-27\", \"Region\": \"global\"}, {\"Position\": 21, \"Track Name\": \"Something Just Like This\", \"Artist\": \"The Chainsmokers\", \"Streams\": 2090682, \"URL\": \"https://open.spotify.com/track/6RUKPb4LETWmmr3iAEQktW\", \"Date\": \"2017-07-28\", \"Region\": \"global\"}, {\"Position\": 23, \"Track Name\": \"Something Just Like This\", \"Artist\": \"The Chainsmokers\", \"Streams\": 1992187, \"URL\": \"https://open.spotify.com/track/6RUKPb4LETWmmr3iAEQktW\", \"Date\": \"2017-07-29\", \"Region\": \"global\"}, {\"Position\": 23, \"Track Name\": \"Something Just Like This\", \"Artist\": \"The Chainsmokers\", \"Streams\": 1744488, \"URL\": \"https://open.spotify.com/track/6RUKPb4LETWmmr3iAEQktW\", \"Date\": \"2017-07-30\", \"Region\": \"global\"}, {\"Position\": 21, \"Track Name\": \"Something Just Like This\", \"Artist\": \"The Chainsmokers\", \"Streams\": 1917820, \"URL\": \"https://open.spotify.com/track/6RUKPb4LETWmmr3iAEQktW\", \"Date\": \"2017-07-31\", \"Region\": \"global\"}, {\"Position\": 22, \"Track Name\": \"Something Just Like This\", \"Artist\": \"The Chainsmokers\", \"Streams\": 1938822, \"URL\": \"https://open.spotify.com/track/6RUKPb4LETWmmr3iAEQktW\", \"Date\": \"2017-08-01\", \"Region\": \"global\"}, {\"Position\": 23, \"Track Name\": \"Something Just Like This\", \"Artist\": \"The Chainsmokers\", \"Streams\": 1919503, \"URL\": \"https://open.spotify.com/track/6RUKPb4LETWmmr3iAEQktW\", \"Date\": \"2017-08-02\", \"Region\": \"global\"}, {\"Position\": 23, \"Track Name\": \"Something Just Like This\", \"Artist\": \"The Chainsmokers\", \"Streams\": 1906932, \"URL\": \"https://open.spotify.com/track/6RUKPb4LETWmmr3iAEQktW\", \"Date\": \"2017-08-03\", \"Region\": \"global\"}, {\"Position\": 24, \"Track Name\": \"Something Just Like This\", \"Artist\": \"The Chainsmokers\", \"Streams\": 1978524, \"URL\": \"https://open.spotify.com/track/6RUKPb4LETWmmr3iAEQktW\", \"Date\": \"2017-08-04\", \"Region\": \"global\"}, {\"Position\": 26, \"Track Name\": \"Something Just Like This\", \"Artist\": \"The Chainsmokers\", \"Streams\": 1883242, \"URL\": \"https://open.spotify.com/track/6RUKPb4LETWmmr3iAEQktW\", \"Date\": \"2017-08-05\", \"Region\": \"global\"}, {\"Position\": 27, \"Track Name\": \"Something Just Like This\", \"Artist\": \"The Chainsmokers\", \"Streams\": 1653957, \"URL\": \"https://open.spotify.com/track/6RUKPb4LETWmmr3iAEQktW\", \"Date\": \"2017-08-06\", \"Region\": \"global\"}, {\"Position\": 23, \"Track Name\": \"Something Just Like This\", \"Artist\": \"The Chainsmokers\", \"Streams\": 1803403, \"URL\": \"https://open.spotify.com/track/6RUKPb4LETWmmr3iAEQktW\", \"Date\": \"2017-08-07\", \"Region\": \"global\"}, {\"Position\": 24, \"Track Name\": \"Something Just Like This\", \"Artist\": \"The Chainsmokers\", \"Streams\": 1810647, \"URL\": \"https://open.spotify.com/track/6RUKPb4LETWmmr3iAEQktW\", \"Date\": \"2017-08-08\", \"Region\": \"global\"}, {\"Position\": 25, \"Track Name\": \"Something Just Like This\", \"Artist\": \"The Chainsmokers\", \"Streams\": 1841516, \"URL\": \"https://open.spotify.com/track/6RUKPb4LETWmmr3iAEQktW\", \"Date\": \"2017-08-09\", \"Region\": \"global\"}, {\"Position\": 24, \"Track Name\": \"Something Just Like This\", \"Artist\": \"The Chainsmokers\", \"Streams\": 1854587, \"URL\": \"https://open.spotify.com/track/6RUKPb4LETWmmr3iAEQktW\", \"Date\": \"2017-08-10\", \"Region\": \"global\"}, {\"Position\": 25, \"Track Name\": \"Something Just Like This\", \"Artist\": \"The Chainsmokers\", \"Streams\": 1915241, \"URL\": \"https://open.spotify.com/track/6RUKPb4LETWmmr3iAEQktW\", \"Date\": \"2017-08-11\", \"Region\": \"global\"}, {\"Position\": 24, \"Track Name\": \"Something Just Like This\", \"Artist\": \"The Chainsmokers\", \"Streams\": 1807144, \"URL\": \"https://open.spotify.com/track/6RUKPb4LETWmmr3iAEQktW\", \"Date\": \"2017-08-12\", \"Region\": \"global\"}, {\"Position\": 25, \"Track Name\": \"Something Just Like This\", \"Artist\": \"The Chainsmokers\", \"Streams\": 1618049, \"URL\": \"https://open.spotify.com/track/6RUKPb4LETWmmr3iAEQktW\", \"Date\": \"2017-08-13\", \"Region\": \"global\"}, {\"Position\": 25, \"Track Name\": \"Something Just Like This\", \"Artist\": \"The Chainsmokers\", \"Streams\": 1731125, \"URL\": \"https://open.spotify.com/track/6RUKPb4LETWmmr3iAEQktW\", \"Date\": \"2017-08-14\", \"Region\": \"global\"}, {\"Position\": 27, \"Track Name\": \"Something Just Like This\", \"Artist\": \"The Chainsmokers\", \"Streams\": 1722968, \"URL\": \"https://open.spotify.com/track/6RUKPb4LETWmmr3iAEQktW\", \"Date\": \"2017-08-15\", \"Region\": \"global\"}, {\"Position\": 28, \"Track Name\": \"Something Just Like This\", \"Artist\": \"The Chainsmokers\", \"Streams\": 1715992, \"URL\": \"https://open.spotify.com/track/6RUKPb4LETWmmr3iAEQktW\", \"Date\": \"2017-08-16\", \"Region\": \"global\"}, {\"Position\": 28, \"Track Name\": \"Something Just Like This\", \"Artist\": \"The Chainsmokers\", \"Streams\": 1696476, \"URL\": \"https://open.spotify.com/track/6RUKPb4LETWmmr3iAEQktW\", \"Date\": \"2017-08-17\", \"Region\": \"global\"}, {\"Position\": 28, \"Track Name\": \"Something Just Like This\", \"Artist\": \"The Chainsmokers\", \"Streams\": 1759162, \"URL\": \"https://open.spotify.com/track/6RUKPb4LETWmmr3iAEQktW\", \"Date\": \"2017-08-18\", \"Region\": \"global\"}, {\"Position\": 30, \"Track Name\": \"Something Just Like This\", \"Artist\": \"The Chainsmokers\", \"Streams\": 1668676, \"URL\": \"https://open.spotify.com/track/6RUKPb4LETWmmr3iAEQktW\", \"Date\": \"2017-08-19\", \"Region\": \"global\"}, {\"Position\": 34, \"Track Name\": \"Something Just Like This\", \"Artist\": \"The Chainsmokers\", \"Streams\": 1468724, \"URL\": \"https://open.spotify.com/track/6RUKPb4LETWmmr3iAEQktW\", \"Date\": \"2017-08-20\", \"Region\": \"global\"}, {\"Position\": 32, \"Track Name\": \"Something Just Like This\", \"Artist\": \"The Chainsmokers\", \"Streams\": 1570926, \"URL\": \"https://open.spotify.com/track/6RUKPb4LETWmmr3iAEQktW\", \"Date\": \"2017-08-21\", \"Region\": \"global\"}, {\"Position\": 33, \"Track Name\": \"Something Just Like This\", \"Artist\": \"The Chainsmokers\", \"Streams\": 1614078, \"URL\": \"https://open.spotify.com/track/6RUKPb4LETWmmr3iAEQktW\", \"Date\": \"2017-08-22\", \"Region\": \"global\"}, {\"Position\": 33, \"Track Name\": \"Something Just Like This\", \"Artist\": \"The Chainsmokers\", \"Streams\": 1626886, \"URL\": \"https://open.spotify.com/track/6RUKPb4LETWmmr3iAEQktW\", \"Date\": \"2017-08-23\", \"Region\": \"global\"}, {\"Position\": 34, \"Track Name\": \"Something Just Like This\", \"Artist\": \"The Chainsmokers\", \"Streams\": 1605054, \"URL\": \"https://open.spotify.com/track/6RUKPb4LETWmmr3iAEQktW\", \"Date\": \"2017-08-24\", \"Region\": \"global\"}, {\"Position\": 35, \"Track Name\": \"Something Just Like This\", \"Artist\": \"The Chainsmokers\", \"Streams\": 1652208, \"URL\": \"https://open.spotify.com/track/6RUKPb4LETWmmr3iAEQktW\", \"Date\": \"2017-08-25\", \"Region\": \"global\"}, {\"Position\": 35, \"Track Name\": \"Something Just Like This\", \"Artist\": \"The Chainsmokers\", \"Streams\": 1593328, \"URL\": \"https://open.spotify.com/track/6RUKPb4LETWmmr3iAEQktW\", \"Date\": \"2017-08-26\", \"Region\": \"global\"}, {\"Position\": 36, \"Track Name\": \"Something Just Like This\", \"Artist\": \"The Chainsmokers\", \"Streams\": 1359879, \"URL\": \"https://open.spotify.com/track/6RUKPb4LETWmmr3iAEQktW\", \"Date\": \"2017-08-27\", \"Region\": \"global\"}, {\"Position\": 37, \"Track Name\": \"Something Just Like This\", \"Artist\": \"The Chainsmokers\", \"Streams\": 1487457, \"URL\": \"https://open.spotify.com/track/6RUKPb4LETWmmr3iAEQktW\", \"Date\": \"2017-08-28\", \"Region\": \"global\"}, {\"Position\": 40, \"Track Name\": \"Something Just Like This\", \"Artist\": \"The Chainsmokers\", \"Streams\": 1527917, \"URL\": \"https://open.spotify.com/track/6RUKPb4LETWmmr3iAEQktW\", \"Date\": \"2017-08-29\", \"Region\": \"global\"}, {\"Position\": 39, \"Track Name\": \"Something Just Like This\", \"Artist\": \"The Chainsmokers\", \"Streams\": 1553708, \"URL\": \"https://open.spotify.com/track/6RUKPb4LETWmmr3iAEQktW\", \"Date\": \"2017-08-30\", \"Region\": \"global\"}, {\"Position\": 40, \"Track Name\": \"Something Just Like This\", \"Artist\": \"The Chainsmokers\", \"Streams\": 1544921, \"URL\": \"https://open.spotify.com/track/6RUKPb4LETWmmr3iAEQktW\", \"Date\": \"2017-08-31\", \"Region\": \"global\"}, {\"Position\": 39, \"Track Name\": \"Something Just Like This\", \"Artist\": \"The Chainsmokers\", \"Streams\": 1614097, \"URL\": \"https://open.spotify.com/track/6RUKPb4LETWmmr3iAEQktW\", \"Date\": \"2017-09-01\", \"Region\": \"global\"}, {\"Position\": 40, \"Track Name\": \"Something Just Like This\", \"Artist\": \"The Chainsmokers\", \"Streams\": 1536883, \"URL\": \"https://open.spotify.com/track/6RUKPb4LETWmmr3iAEQktW\", \"Date\": \"2017-09-02\", \"Region\": \"global\"}, {\"Position\": 38, \"Track Name\": \"Something Just Like This\", \"Artist\": \"The Chainsmokers\", \"Streams\": 1358236, \"URL\": \"https://open.spotify.com/track/6RUKPb4LETWmmr3iAEQktW\", \"Date\": \"2017-09-03\", \"Region\": \"global\"}, {\"Position\": 39, \"Track Name\": \"Something Just Like This\", \"Artist\": \"The Chainsmokers\", \"Streams\": 1449289, \"URL\": \"https://open.spotify.com/track/6RUKPb4LETWmmr3iAEQktW\", \"Date\": \"2017-09-04\", \"Region\": \"global\"}, {\"Position\": 40, \"Track Name\": \"Something Just Like This\", \"Artist\": \"The Chainsmokers\", \"Streams\": 1445660, \"URL\": \"https://open.spotify.com/track/6RUKPb4LETWmmr3iAEQktW\", \"Date\": \"2017-09-05\", \"Region\": \"global\"}, {\"Position\": 40, \"Track Name\": \"Something Just Like This\", \"Artist\": \"The Chainsmokers\", \"Streams\": 1453926, \"URL\": \"https://open.spotify.com/track/6RUKPb4LETWmmr3iAEQktW\", \"Date\": \"2017-09-06\", \"Region\": \"global\"}, {\"Position\": 41, \"Track Name\": \"Something Just Like This\", \"Artist\": \"The Chainsmokers\", \"Streams\": 1440423, \"URL\": \"https://open.spotify.com/track/6RUKPb4LETWmmr3iAEQktW\", \"Date\": \"2017-09-07\", \"Region\": \"global\"}, {\"Position\": 43, \"Track Name\": \"Something Just Like This\", \"Artist\": \"The Chainsmokers\", \"Streams\": 1467330, \"URL\": \"https://open.spotify.com/track/6RUKPb4LETWmmr3iAEQktW\", \"Date\": \"2017-09-08\", \"Region\": \"global\"}, {\"Position\": 45, \"Track Name\": \"Something Just Like This\", \"Artist\": \"The Chainsmokers\", \"Streams\": 1399118, \"URL\": \"https://open.spotify.com/track/6RUKPb4LETWmmr3iAEQktW\", \"Date\": \"2017-09-09\", \"Region\": \"global\"}, {\"Position\": 44, \"Track Name\": \"Something Just Like This\", \"Artist\": \"The Chainsmokers\", \"Streams\": 1233564, \"URL\": \"https://open.spotify.com/track/6RUKPb4LETWmmr3iAEQktW\", \"Date\": \"2017-09-10\", \"Region\": \"global\"}, {\"Position\": 44, \"Track Name\": \"Something Just Like This\", \"Artist\": \"The Chainsmokers\", \"Streams\": 1321828, \"URL\": \"https://open.spotify.com/track/6RUKPb4LETWmmr3iAEQktW\", \"Date\": \"2017-09-11\", \"Region\": \"global\"}, {\"Position\": 44, \"Track Name\": \"Something Just Like This\", \"Artist\": \"The Chainsmokers\", \"Streams\": 1351492, \"URL\": \"https://open.spotify.com/track/6RUKPb4LETWmmr3iAEQktW\", \"Date\": \"2017-09-12\", \"Region\": \"global\"}, {\"Position\": 44, \"Track Name\": \"Something Just Like This\", \"Artist\": \"The Chainsmokers\", \"Streams\": 1370862, \"URL\": \"https://open.spotify.com/track/6RUKPb4LETWmmr3iAEQktW\", \"Date\": \"2017-09-13\", \"Region\": \"global\"}, {\"Position\": 44, \"Track Name\": \"Something Just Like This\", \"Artist\": \"The Chainsmokers\", \"Streams\": 1399797, \"URL\": \"https://open.spotify.com/track/6RUKPb4LETWmmr3iAEQktW\", \"Date\": \"2017-09-14\", \"Region\": \"global\"}, {\"Position\": 45, \"Track Name\": \"Something Just Like This\", \"Artist\": \"The Chainsmokers\", \"Streams\": 1453999, \"URL\": \"https://open.spotify.com/track/6RUKPb4LETWmmr3iAEQktW\", \"Date\": \"2017-09-15\", \"Region\": \"global\"}, {\"Position\": 47, \"Track Name\": \"Something Just Like This\", \"Artist\": \"The Chainsmokers\", \"Streams\": 1393122, \"URL\": \"https://open.spotify.com/track/6RUKPb4LETWmmr3iAEQktW\", \"Date\": \"2017-09-16\", \"Region\": \"global\"}, {\"Position\": 47, \"Track Name\": \"Something Just Like This\", \"Artist\": \"The Chainsmokers\", \"Streams\": 1217497, \"URL\": \"https://open.spotify.com/track/6RUKPb4LETWmmr3iAEQktW\", \"Date\": \"2017-09-17\", \"Region\": \"global\"}, {\"Position\": 46, \"Track Name\": \"Something Just Like This\", \"Artist\": \"The Chainsmokers\", \"Streams\": 1305491, \"URL\": \"https://open.spotify.com/track/6RUKPb4LETWmmr3iAEQktW\", \"Date\": \"2017-09-18\", \"Region\": \"global\"}, {\"Position\": 47, \"Track Name\": \"Something Just Like This\", \"Artist\": \"The Chainsmokers\", \"Streams\": 1307617, \"URL\": \"https://open.spotify.com/track/6RUKPb4LETWmmr3iAEQktW\", \"Date\": \"2017-09-19\", \"Region\": \"global\"}, {\"Position\": 47, \"Track Name\": \"Something Just Like This\", \"Artist\": \"The Chainsmokers\", \"Streams\": 1315509, \"URL\": \"https://open.spotify.com/track/6RUKPb4LETWmmr3iAEQktW\", \"Date\": \"2017-09-20\", \"Region\": \"global\"}, {\"Position\": 47, \"Track Name\": \"Something Just Like This\", \"Artist\": \"The Chainsmokers\", \"Streams\": 1336129, \"URL\": \"https://open.spotify.com/track/6RUKPb4LETWmmr3iAEQktW\", \"Date\": \"2017-09-21\", \"Region\": \"global\"}, {\"Position\": 47, \"Track Name\": \"Something Just Like This\", \"Artist\": \"The Chainsmokers\", \"Streams\": 1401406, \"URL\": \"https://open.spotify.com/track/6RUKPb4LETWmmr3iAEQktW\", \"Date\": \"2017-09-22\", \"Region\": \"global\"}, {\"Position\": 45, \"Track Name\": \"Something Just Like This\", \"Artist\": \"The Chainsmokers\", \"Streams\": 1353701, \"URL\": \"https://open.spotify.com/track/6RUKPb4LETWmmr3iAEQktW\", \"Date\": \"2017-09-23\", \"Region\": \"global\"}, {\"Position\": 47, \"Track Name\": \"Something Just Like This\", \"Artist\": \"The Chainsmokers\", \"Streams\": 1198853, \"URL\": \"https://open.spotify.com/track/6RUKPb4LETWmmr3iAEQktW\", \"Date\": \"2017-09-24\", \"Region\": \"global\"}, {\"Position\": 46, \"Track Name\": \"Something Just Like This\", \"Artist\": \"The Chainsmokers\", \"Streams\": 1271300, \"URL\": \"https://open.spotify.com/track/6RUKPb4LETWmmr3iAEQktW\", \"Date\": \"2017-09-25\", \"Region\": \"global\"}, {\"Position\": 46, \"Track Name\": \"Something Just Like This\", \"Artist\": \"The Chainsmokers\", \"Streams\": 1305043, \"URL\": \"https://open.spotify.com/track/6RUKPb4LETWmmr3iAEQktW\", \"Date\": \"2017-09-26\", \"Region\": \"global\"}, {\"Position\": 48, \"Track Name\": \"Something Just Like This\", \"Artist\": \"The Chainsmokers\", \"Streams\": 1317341, \"URL\": \"https://open.spotify.com/track/6RUKPb4LETWmmr3iAEQktW\", \"Date\": \"2017-09-27\", \"Region\": \"global\"}, {\"Position\": 48, \"Track Name\": \"Something Just Like This\", \"Artist\": \"The Chainsmokers\", \"Streams\": 1330161, \"URL\": \"https://open.spotify.com/track/6RUKPb4LETWmmr3iAEQktW\", \"Date\": \"2017-09-28\", \"Region\": \"global\"}, {\"Position\": 47, \"Track Name\": \"Something Just Like This\", \"Artist\": \"The Chainsmokers\", \"Streams\": 1407873, \"URL\": \"https://open.spotify.com/track/6RUKPb4LETWmmr3iAEQktW\", \"Date\": \"2017-09-29\", \"Region\": \"global\"}, {\"Position\": 47, \"Track Name\": \"Something Just Like This\", \"Artist\": \"The Chainsmokers\", \"Streams\": 1327291, \"URL\": \"https://open.spotify.com/track/6RUKPb4LETWmmr3iAEQktW\", \"Date\": \"2017-09-30\", \"Region\": \"global\"}, {\"Position\": 48, \"Track Name\": \"Something Just Like This\", \"Artist\": \"The Chainsmokers\", \"Streams\": 1159755, \"URL\": \"https://open.spotify.com/track/6RUKPb4LETWmmr3iAEQktW\", \"Date\": \"2017-10-01\", \"Region\": \"global\"}, {\"Position\": 48, \"Track Name\": \"Something Just Like This\", \"Artist\": \"The Chainsmokers\", \"Streams\": 1249696, \"URL\": \"https://open.spotify.com/track/6RUKPb4LETWmmr3iAEQktW\", \"Date\": \"2017-10-02\", \"Region\": \"global\"}, {\"Position\": 49, \"Track Name\": \"Something Just Like This\", \"Artist\": \"The Chainsmokers\", \"Streams\": 1277764, \"URL\": \"https://open.spotify.com/track/6RUKPb4LETWmmr3iAEQktW\", \"Date\": \"2017-10-03\", \"Region\": \"global\"}, {\"Position\": 50, \"Track Name\": \"Something Just Like This\", \"Artist\": \"The Chainsmokers\", \"Streams\": 1291017, \"URL\": \"https://open.spotify.com/track/6RUKPb4LETWmmr3iAEQktW\", \"Date\": \"2017-10-04\", \"Region\": \"global\"}, {\"Position\": 48, \"Track Name\": \"Something Just Like This\", \"Artist\": \"The Chainsmokers\", \"Streams\": 1288503, \"URL\": \"https://open.spotify.com/track/6RUKPb4LETWmmr3iAEQktW\", \"Date\": \"2017-10-05\", \"Region\": \"global\"}, {\"Position\": 48, \"Track Name\": \"Something Just Like This\", \"Artist\": \"The Chainsmokers\", \"Streams\": 1361767, \"URL\": \"https://open.spotify.com/track/6RUKPb4LETWmmr3iAEQktW\", \"Date\": \"2017-10-06\", \"Region\": \"global\"}, {\"Position\": 49, \"Track Name\": \"Something Just Like This\", \"Artist\": \"The Chainsmokers\", \"Streams\": 1309487, \"URL\": \"https://open.spotify.com/track/6RUKPb4LETWmmr3iAEQktW\", \"Date\": \"2017-10-07\", \"Region\": \"global\"}, {\"Position\": 49, \"Track Name\": \"Something Just Like This\", \"Artist\": \"The Chainsmokers\", \"Streams\": 1144319, \"URL\": \"https://open.spotify.com/track/6RUKPb4LETWmmr3iAEQktW\", \"Date\": \"2017-10-08\", \"Region\": \"global\"}, {\"Position\": 49, \"Track Name\": \"Something Just Like This\", \"Artist\": \"The Chainsmokers\", \"Streams\": 1230601, \"URL\": \"https://open.spotify.com/track/6RUKPb4LETWmmr3iAEQktW\", \"Date\": \"2017-10-09\", \"Region\": \"global\"}, {\"Position\": 51, \"Track Name\": \"Something Just Like This\", \"Artist\": \"The Chainsmokers\", \"Streams\": 1245668, \"URL\": \"https://open.spotify.com/track/6RUKPb4LETWmmr3iAEQktW\", \"Date\": \"2017-10-10\", \"Region\": \"global\"}, {\"Position\": 52, \"Track Name\": \"Something Just Like This\", \"Artist\": \"The Chainsmokers\", \"Streams\": 1201233, \"URL\": \"https://open.spotify.com/track/6RUKPb4LETWmmr3iAEQktW\", \"Date\": \"2017-10-11\", \"Region\": \"global\"}, {\"Position\": 55, \"Track Name\": \"Something Just Like This\", \"Artist\": \"The Chainsmokers\", \"Streams\": 1163221, \"URL\": \"https://open.spotify.com/track/6RUKPb4LETWmmr3iAEQktW\", \"Date\": \"2017-10-12\", \"Region\": \"global\"}, {\"Position\": 57, \"Track Name\": \"Something Just Like This\", \"Artist\": \"The Chainsmokers\", \"Streams\": 1217363, \"URL\": \"https://open.spotify.com/track/6RUKPb4LETWmmr3iAEQktW\", \"Date\": \"2017-10-13\", \"Region\": \"global\"}, {\"Position\": 57, \"Track Name\": \"Something Just Like This\", \"Artist\": \"The Chainsmokers\", \"Streams\": 1168854, \"URL\": \"https://open.spotify.com/track/6RUKPb4LETWmmr3iAEQktW\", \"Date\": \"2017-10-14\", \"Region\": \"global\"}, {\"Position\": 54, \"Track Name\": \"Something Just Like This\", \"Artist\": \"The Chainsmokers\", \"Streams\": 1037165, \"URL\": \"https://open.spotify.com/track/6RUKPb4LETWmmr3iAEQktW\", \"Date\": \"2017-10-15\", \"Region\": \"global\"}, {\"Position\": 55, \"Track Name\": \"Something Just Like This\", \"Artist\": \"The Chainsmokers\", \"Streams\": 1109085, \"URL\": \"https://open.spotify.com/track/6RUKPb4LETWmmr3iAEQktW\", \"Date\": \"2017-10-16\", \"Region\": \"global\"}, {\"Position\": 55, \"Track Name\": \"Something Just Like This\", \"Artist\": \"The Chainsmokers\", \"Streams\": 1131707, \"URL\": \"https://open.spotify.com/track/6RUKPb4LETWmmr3iAEQktW\", \"Date\": \"2017-10-17\", \"Region\": \"global\"}, {\"Position\": 55, \"Track Name\": \"Something Just Like This\", \"Artist\": \"The Chainsmokers\", \"Streams\": 1144096, \"URL\": \"https://open.spotify.com/track/6RUKPb4LETWmmr3iAEQktW\", \"Date\": \"2017-10-18\", \"Region\": \"global\"}, {\"Position\": 55, \"Track Name\": \"Something Just Like This\", \"Artist\": \"The Chainsmokers\", \"Streams\": 1149037, \"URL\": \"https://open.spotify.com/track/6RUKPb4LETWmmr3iAEQktW\", \"Date\": \"2017-10-19\", \"Region\": \"global\"}, {\"Position\": 60, \"Track Name\": \"Something Just Like This\", \"Artist\": \"The Chainsmokers\", \"Streams\": 1195544, \"URL\": \"https://open.spotify.com/track/6RUKPb4LETWmmr3iAEQktW\", \"Date\": \"2017-10-20\", \"Region\": \"global\"}, {\"Position\": 62, \"Track Name\": \"Something Just Like This\", \"Artist\": \"The Chainsmokers\", \"Streams\": 1127789, \"URL\": \"https://open.spotify.com/track/6RUKPb4LETWmmr3iAEQktW\", \"Date\": \"2017-10-21\", \"Region\": \"global\"}, {\"Position\": 58, \"Track Name\": \"Something Just Like This\", \"Artist\": \"The Chainsmokers\", \"Streams\": 987557, \"URL\": \"https://open.spotify.com/track/6RUKPb4LETWmmr3iAEQktW\", \"Date\": \"2017-10-22\", \"Region\": \"global\"}, {\"Position\": 59, \"Track Name\": \"Something Just Like This\", \"Artist\": \"The Chainsmokers\", \"Streams\": 1066186, \"URL\": \"https://open.spotify.com/track/6RUKPb4LETWmmr3iAEQktW\", \"Date\": \"2017-10-23\", \"Region\": \"global\"}, {\"Position\": 58, \"Track Name\": \"Something Just Like This\", \"Artist\": \"The Chainsmokers\", \"Streams\": 1080953, \"URL\": \"https://open.spotify.com/track/6RUKPb4LETWmmr3iAEQktW\", \"Date\": \"2017-10-24\", \"Region\": \"global\"}, {\"Position\": 61, \"Track Name\": \"Something Just Like This\", \"Artist\": \"The Chainsmokers\", \"Streams\": 1093468, \"URL\": \"https://open.spotify.com/track/6RUKPb4LETWmmr3iAEQktW\", \"Date\": \"2017-10-25\", \"Region\": \"global\"}, {\"Position\": 61, \"Track Name\": \"Something Just Like This\", \"Artist\": \"The Chainsmokers\", \"Streams\": 1107219, \"URL\": \"https://open.spotify.com/track/6RUKPb4LETWmmr3iAEQktW\", \"Date\": \"2017-10-26\", \"Region\": \"global\"}, {\"Position\": 63, \"Track Name\": \"Something Just Like This\", \"Artist\": \"The Chainsmokers\", \"Streams\": 1140050, \"URL\": \"https://open.spotify.com/track/6RUKPb4LETWmmr3iAEQktW\", \"Date\": \"2017-10-27\", \"Region\": \"global\"}, {\"Position\": 61, \"Track Name\": \"Something Just Like This\", \"Artist\": \"The Chainsmokers\", \"Streams\": 1068596, \"URL\": \"https://open.spotify.com/track/6RUKPb4LETWmmr3iAEQktW\", \"Date\": \"2017-10-28\", \"Region\": \"global\"}, {\"Position\": 61, \"Track Name\": \"Something Just Like This\", \"Artist\": \"The Chainsmokers\", \"Streams\": 943739, \"URL\": \"https://open.spotify.com/track/6RUKPb4LETWmmr3iAEQktW\", \"Date\": \"2017-10-29\", \"Region\": \"global\"}, {\"Position\": 62, \"Track Name\": \"Something Just Like This\", \"Artist\": \"The Chainsmokers\", \"Streams\": 1029263, \"URL\": \"https://open.spotify.com/track/6RUKPb4LETWmmr3iAEQktW\", \"Date\": \"2017-10-30\", \"Region\": \"global\"}, {\"Position\": 68, \"Track Name\": \"Something Just Like This\", \"Artist\": \"The Chainsmokers\", \"Streams\": 1035474, \"URL\": \"https://open.spotify.com/track/6RUKPb4LETWmmr3iAEQktW\", \"Date\": \"2017-10-31\", \"Region\": \"global\"}, {\"Position\": 66, \"Track Name\": \"Something Just Like This\", \"Artist\": \"The Chainsmokers\", \"Streams\": 1003151, \"URL\": \"https://open.spotify.com/track/6RUKPb4LETWmmr3iAEQktW\", \"Date\": \"2017-11-01\", \"Region\": \"global\"}, {\"Position\": 62, \"Track Name\": \"Something Just Like This\", \"Artist\": \"The Chainsmokers\", \"Streams\": 1040939, \"URL\": \"https://open.spotify.com/track/6RUKPb4LETWmmr3iAEQktW\", \"Date\": \"2017-11-02\", \"Region\": \"global\"}, {\"Position\": 67, \"Track Name\": \"Something Just Like This\", \"Artist\": \"The Chainsmokers\", \"Streams\": 1088900, \"URL\": \"https://open.spotify.com/track/6RUKPb4LETWmmr3iAEQktW\", \"Date\": \"2017-11-03\", \"Region\": \"global\"}, {\"Position\": 66, \"Track Name\": \"Something Just Like This\", \"Artist\": \"The Chainsmokers\", \"Streams\": 1034751, \"URL\": \"https://open.spotify.com/track/6RUKPb4LETWmmr3iAEQktW\", \"Date\": \"2017-11-04\", \"Region\": \"global\"}, {\"Position\": 62, \"Track Name\": \"Something Just Like This\", \"Artist\": \"The Chainsmokers\", \"Streams\": 914260, \"URL\": \"https://open.spotify.com/track/6RUKPb4LETWmmr3iAEQktW\", \"Date\": \"2017-11-05\", \"Region\": \"global\"}, {\"Position\": 65, \"Track Name\": \"Something Just Like This\", \"Artist\": \"The Chainsmokers\", \"Streams\": 988512, \"URL\": \"https://open.spotify.com/track/6RUKPb4LETWmmr3iAEQktW\", \"Date\": \"2017-11-06\", \"Region\": \"global\"}, {\"Position\": 59, \"Track Name\": \"Something Just Like This\", \"Artist\": \"The Chainsmokers\", \"Streams\": 1026632, \"URL\": \"https://open.spotify.com/track/6RUKPb4LETWmmr3iAEQktW\", \"Date\": \"2017-11-07\", \"Region\": \"global\"}, {\"Position\": 58, \"Track Name\": \"Something Just Like This\", \"Artist\": \"The Chainsmokers\", \"Streams\": 1060704, \"URL\": \"https://open.spotify.com/track/6RUKPb4LETWmmr3iAEQktW\", \"Date\": \"2017-11-08\", \"Region\": \"global\"}, {\"Position\": 58, \"Track Name\": \"Something Just Like This\", \"Artist\": \"The Chainsmokers\", \"Streams\": 1071239, \"URL\": \"https://open.spotify.com/track/6RUKPb4LETWmmr3iAEQktW\", \"Date\": \"2017-11-09\", \"Region\": \"global\"}, {\"Position\": 62, \"Track Name\": \"Something Just Like This\", \"Artist\": \"The Chainsmokers\", \"Streams\": 1118474, \"URL\": \"https://open.spotify.com/track/6RUKPb4LETWmmr3iAEQktW\", \"Date\": \"2017-11-10\", \"Region\": \"global\"}, {\"Position\": 65, \"Track Name\": \"Something Just Like This\", \"Artist\": \"The Chainsmokers\", \"Streams\": 1061945, \"URL\": \"https://open.spotify.com/track/6RUKPb4LETWmmr3iAEQktW\", \"Date\": \"2017-11-11\", \"Region\": \"global\"}, {\"Position\": 65, \"Track Name\": \"Something Just Like This\", \"Artist\": \"The Chainsmokers\", \"Streams\": 935556, \"URL\": \"https://open.spotify.com/track/6RUKPb4LETWmmr3iAEQktW\", \"Date\": \"2017-11-12\", \"Region\": \"global\"}, {\"Position\": 60, \"Track Name\": \"Something Just Like This\", \"Artist\": \"The Chainsmokers\", \"Streams\": 993504, \"URL\": \"https://open.spotify.com/track/6RUKPb4LETWmmr3iAEQktW\", \"Date\": \"2017-11-13\", \"Region\": \"global\"}, {\"Position\": 61, \"Track Name\": \"Something Just Like This\", \"Artist\": \"The Chainsmokers\", \"Streams\": 1029040, \"URL\": \"https://open.spotify.com/track/6RUKPb4LETWmmr3iAEQktW\", \"Date\": \"2017-11-14\", \"Region\": \"global\"}, {\"Position\": 58, \"Track Name\": \"Something Just Like This\", \"Artist\": \"The Chainsmokers\", \"Streams\": 1053700, \"URL\": \"https://open.spotify.com/track/6RUKPb4LETWmmr3iAEQktW\", \"Date\": \"2017-11-15\", \"Region\": \"global\"}, {\"Position\": 58, \"Track Name\": \"Something Just Like This\", \"Artist\": \"The Chainsmokers\", \"Streams\": 1052629, \"URL\": \"https://open.spotify.com/track/6RUKPb4LETWmmr3iAEQktW\", \"Date\": \"2017-11-16\", \"Region\": \"global\"}, {\"Position\": 62, \"Track Name\": \"Something Just Like This\", \"Artist\": \"The Chainsmokers\", \"Streams\": 1091035, \"URL\": \"https://open.spotify.com/track/6RUKPb4LETWmmr3iAEQktW\", \"Date\": \"2017-11-17\", \"Region\": \"global\"}, {\"Position\": 62, \"Track Name\": \"Something Just Like This\", \"Artist\": \"The Chainsmokers\", \"Streams\": 1049148, \"URL\": \"https://open.spotify.com/track/6RUKPb4LETWmmr3iAEQktW\", \"Date\": \"2017-11-18\", \"Region\": \"global\"}, {\"Position\": 63, \"Track Name\": \"Something Just Like This\", \"Artist\": \"The Chainsmokers\", \"Streams\": 923526, \"URL\": \"https://open.spotify.com/track/6RUKPb4LETWmmr3iAEQktW\", \"Date\": \"2017-11-19\", \"Region\": \"global\"}, {\"Position\": 59, \"Track Name\": \"Something Just Like This\", \"Artist\": \"The Chainsmokers\", \"Streams\": 994407, \"URL\": \"https://open.spotify.com/track/6RUKPb4LETWmmr3iAEQktW\", \"Date\": \"2017-11-20\", \"Region\": \"global\"}, {\"Position\": 61, \"Track Name\": \"Something Just Like This\", \"Artist\": \"The Chainsmokers\", \"Streams\": 1016253, \"URL\": \"https://open.spotify.com/track/6RUKPb4LETWmmr3iAEQktW\", \"Date\": \"2017-11-21\", \"Region\": \"global\"}, {\"Position\": 62, \"Track Name\": \"Something Just Like This\", \"Artist\": \"The Chainsmokers\", \"Streams\": 1034887, \"URL\": \"https://open.spotify.com/track/6RUKPb4LETWmmr3iAEQktW\", \"Date\": \"2017-11-22\", \"Region\": \"global\"}, {\"Position\": 63, \"Track Name\": \"Something Just Like This\", \"Artist\": \"The Chainsmokers\", \"Streams\": 998701, \"URL\": \"https://open.spotify.com/track/6RUKPb4LETWmmr3iAEQktW\", \"Date\": \"2017-11-23\", \"Region\": \"global\"}, {\"Position\": 64, \"Track Name\": \"Something Just Like This\", \"Artist\": \"The Chainsmokers\", \"Streams\": 1006521, \"URL\": \"https://open.spotify.com/track/6RUKPb4LETWmmr3iAEQktW\", \"Date\": \"2017-11-24\", \"Region\": \"global\"}, {\"Position\": 69, \"Track Name\": \"Something Just Like This\", \"Artist\": \"The Chainsmokers\", \"Streams\": 988153, \"URL\": \"https://open.spotify.com/track/6RUKPb4LETWmmr3iAEQktW\", \"Date\": \"2017-11-25\", \"Region\": \"global\"}, {\"Position\": 69, \"Track Name\": \"Something Just Like This\", \"Artist\": \"The Chainsmokers\", \"Streams\": 893394, \"URL\": \"https://open.spotify.com/track/6RUKPb4LETWmmr3iAEQktW\", \"Date\": \"2017-11-26\", \"Region\": \"global\"}, {\"Position\": 62, \"Track Name\": \"Something Just Like This\", \"Artist\": \"The Chainsmokers\", \"Streams\": 946698, \"URL\": \"https://open.spotify.com/track/6RUKPb4LETWmmr3iAEQktW\", \"Date\": \"2017-11-27\", \"Region\": \"global\"}, {\"Position\": 65, \"Track Name\": \"Something Just Like This\", \"Artist\": \"The Chainsmokers\", \"Streams\": 982307, \"URL\": \"https://open.spotify.com/track/6RUKPb4LETWmmr3iAEQktW\", \"Date\": \"2017-11-28\", \"Region\": \"global\"}, {\"Position\": 64, \"Track Name\": \"Something Just Like This\", \"Artist\": \"The Chainsmokers\", \"Streams\": 1001736, \"URL\": \"https://open.spotify.com/track/6RUKPb4LETWmmr3iAEQktW\", \"Date\": \"2017-11-29\", \"Region\": \"global\"}, {\"Position\": 63, \"Track Name\": \"Something Just Like This\", \"Artist\": \"The Chainsmokers\", \"Streams\": 1012024, \"URL\": \"https://open.spotify.com/track/6RUKPb4LETWmmr3iAEQktW\", \"Date\": \"2017-11-30\", \"Region\": \"global\"}, {\"Position\": 72, \"Track Name\": \"Something Just Like This\", \"Artist\": \"The Chainsmokers\", \"Streams\": 1022859, \"URL\": \"https://open.spotify.com/track/6RUKPb4LETWmmr3iAEQktW\", \"Date\": \"2017-12-01\", \"Region\": \"global\"}, {\"Position\": 80, \"Track Name\": \"Something Just Like This\", \"Artist\": \"The Chainsmokers\", \"Streams\": 963467, \"URL\": \"https://open.spotify.com/track/6RUKPb4LETWmmr3iAEQktW\", \"Date\": \"2017-12-02\", \"Region\": \"global\"}, {\"Position\": 83, \"Track Name\": \"Something Just Like This\", \"Artist\": \"The Chainsmokers\", \"Streams\": 857832, \"URL\": \"https://open.spotify.com/track/6RUKPb4LETWmmr3iAEQktW\", \"Date\": \"2017-12-03\", \"Region\": \"global\"}, {\"Position\": 72, \"Track Name\": \"Something Just Like This\", \"Artist\": \"The Chainsmokers\", \"Streams\": 939940, \"URL\": \"https://open.spotify.com/track/6RUKPb4LETWmmr3iAEQktW\", \"Date\": \"2017-12-04\", \"Region\": \"global\"}, {\"Position\": 60, \"Track Name\": \"Something Just Like This\", \"Artist\": \"The Chainsmokers\", \"Streams\": 1046170, \"URL\": \"https://open.spotify.com/track/6RUKPb4LETWmmr3iAEQktW\", \"Date\": \"2017-12-05\", \"Region\": \"global\"}, {\"Position\": 52, \"Track Name\": \"Something Just Like This\", \"Artist\": \"The Chainsmokers\", \"Streams\": 1162482, \"URL\": \"https://open.spotify.com/track/6RUKPb4LETWmmr3iAEQktW\", \"Date\": \"2017-12-06\", \"Region\": \"global\"}, {\"Position\": 49, \"Track Name\": \"Something Just Like This\", \"Artist\": \"The Chainsmokers\", \"Streams\": 1279325, \"URL\": \"https://open.spotify.com/track/6RUKPb4LETWmmr3iAEQktW\", \"Date\": \"2017-12-07\", \"Region\": \"global\"}, {\"Position\": 51, \"Track Name\": \"Something Just Like This\", \"Artist\": \"The Chainsmokers\", \"Streams\": 1304912, \"URL\": \"https://open.spotify.com/track/6RUKPb4LETWmmr3iAEQktW\", \"Date\": \"2017-12-08\", \"Region\": \"global\"}, {\"Position\": 56, \"Track Name\": \"Something Just Like This\", \"Artist\": \"The Chainsmokers\", \"Streams\": 1191749, \"URL\": \"https://open.spotify.com/track/6RUKPb4LETWmmr3iAEQktW\", \"Date\": \"2017-12-09\", \"Region\": \"global\"}, {\"Position\": 61, \"Track Name\": \"Something Just Like This\", \"Artist\": \"The Chainsmokers\", \"Streams\": 1023531, \"URL\": \"https://open.spotify.com/track/6RUKPb4LETWmmr3iAEQktW\", \"Date\": \"2017-12-10\", \"Region\": \"global\"}, {\"Position\": 55, \"Track Name\": \"Something Just Like This\", \"Artist\": \"The Chainsmokers\", \"Streams\": 1091603, \"URL\": \"https://open.spotify.com/track/6RUKPb4LETWmmr3iAEQktW\", \"Date\": \"2017-12-11\", \"Region\": \"global\"}, {\"Position\": 53, \"Track Name\": \"Something Just Like This\", \"Artist\": \"The Chainsmokers\", \"Streams\": 1133446, \"URL\": \"https://open.spotify.com/track/6RUKPb4LETWmmr3iAEQktW\", \"Date\": \"2017-12-12\", \"Region\": \"global\"}, {\"Position\": 52, \"Track Name\": \"Something Just Like This\", \"Artist\": \"The Chainsmokers\", \"Streams\": 1149704, \"URL\": \"https://open.spotify.com/track/6RUKPb4LETWmmr3iAEQktW\", \"Date\": \"2017-12-13\", \"Region\": \"global\"}, {\"Position\": 52, \"Track Name\": \"Something Just Like This\", \"Artist\": \"The Chainsmokers\", \"Streams\": 1139090, \"URL\": \"https://open.spotify.com/track/6RUKPb4LETWmmr3iAEQktW\", \"Date\": \"2017-12-14\", \"Region\": \"global\"}, {\"Position\": 67, \"Track Name\": \"Something Just Like This\", \"Artist\": \"The Chainsmokers\", \"Streams\": 1137304, \"URL\": \"https://open.spotify.com/track/6RUKPb4LETWmmr3iAEQktW\", \"Date\": \"2017-12-15\", \"Region\": \"global\"}, {\"Position\": 70, \"Track Name\": \"Something Just Like This\", \"Artist\": \"The Chainsmokers\", \"Streams\": 1082801, \"URL\": \"https://open.spotify.com/track/6RUKPb4LETWmmr3iAEQktW\", \"Date\": \"2017-12-16\", \"Region\": \"global\"}, {\"Position\": 68, \"Track Name\": \"Something Just Like This\", \"Artist\": \"The Chainsmokers\", \"Streams\": 957821, \"URL\": \"https://open.spotify.com/track/6RUKPb4LETWmmr3iAEQktW\", \"Date\": \"2017-12-17\", \"Region\": \"global\"}, {\"Position\": 63, \"Track Name\": \"Something Just Like This\", \"Artist\": \"The Chainsmokers\", \"Streams\": 1030941, \"URL\": \"https://open.spotify.com/track/6RUKPb4LETWmmr3iAEQktW\", \"Date\": \"2017-12-18\", \"Region\": \"global\"}, {\"Position\": 61, \"Track Name\": \"Something Just Like This\", \"Artist\": \"The Chainsmokers\", \"Streams\": 1083815, \"URL\": \"https://open.spotify.com/track/6RUKPb4LETWmmr3iAEQktW\", \"Date\": \"2017-12-19\", \"Region\": \"global\"}, {\"Position\": 61, \"Track Name\": \"Something Just Like This\", \"Artist\": \"The Chainsmokers\", \"Streams\": 1107312, \"URL\": \"https://open.spotify.com/track/6RUKPb4LETWmmr3iAEQktW\", \"Date\": \"2017-12-20\", \"Region\": \"global\"}, {\"Position\": 64, \"Track Name\": \"Something Just Like This\", \"Artist\": \"The Chainsmokers\", \"Streams\": 1110774, \"URL\": \"https://open.spotify.com/track/6RUKPb4LETWmmr3iAEQktW\", \"Date\": \"2017-12-21\", \"Region\": \"global\"}, {\"Position\": 78, \"Track Name\": \"Something Just Like This\", \"Artist\": \"The Chainsmokers\", \"Streams\": 1105957, \"URL\": \"https://open.spotify.com/track/6RUKPb4LETWmmr3iAEQktW\", \"Date\": \"2017-12-22\", \"Region\": \"global\"}, {\"Position\": 82, \"Track Name\": \"Something Just Like This\", \"Artist\": \"The Chainsmokers\", \"Streams\": 1036470, \"URL\": \"https://open.spotify.com/track/6RUKPb4LETWmmr3iAEQktW\", \"Date\": \"2017-12-23\", \"Region\": \"global\"}, {\"Position\": 120, \"Track Name\": \"Something Just Like This\", \"Artist\": \"The Chainsmokers\", \"Streams\": 949334, \"URL\": \"https://open.spotify.com/track/6RUKPb4LETWmmr3iAEQktW\", \"Date\": \"2017-12-24\", \"Region\": \"global\"}, {\"Position\": 129, \"Track Name\": \"Something Just Like This\", \"Artist\": \"The Chainsmokers\", \"Streams\": 838664, \"URL\": \"https://open.spotify.com/track/6RUKPb4LETWmmr3iAEQktW\", \"Date\": \"2017-12-25\", \"Region\": \"global\"}, {\"Position\": 52, \"Track Name\": \"Something Just Like This\", \"Artist\": \"The Chainsmokers\", \"Streams\": 991213, \"URL\": \"https://open.spotify.com/track/6RUKPb4LETWmmr3iAEQktW\", \"Date\": \"2017-12-26\", \"Region\": \"global\"}, {\"Position\": 49, \"Track Name\": \"Something Just Like This\", \"Artist\": \"The Chainsmokers\", \"Streams\": 1135699, \"URL\": \"https://open.spotify.com/track/6RUKPb4LETWmmr3iAEQktW\", \"Date\": \"2017-12-27\", \"Region\": \"global\"}, {\"Position\": 50, \"Track Name\": \"Something Just Like This\", \"Artist\": \"The Chainsmokers\", \"Streams\": 1205599, \"URL\": \"https://open.spotify.com/track/6RUKPb4LETWmmr3iAEQktW\", \"Date\": \"2017-12-28\", \"Region\": \"global\"}, {\"Position\": 49, \"Track Name\": \"Something Just Like This\", \"Artist\": \"The Chainsmokers\", \"Streams\": 1272106, \"URL\": \"https://open.spotify.com/track/6RUKPb4LETWmmr3iAEQktW\", \"Date\": \"2017-12-29\", \"Region\": \"global\"}, {\"Position\": 47, \"Track Name\": \"Something Just Like This\", \"Artist\": \"The Chainsmokers\", \"Streams\": 1258479, \"URL\": \"https://open.spotify.com/track/6RUKPb4LETWmmr3iAEQktW\", \"Date\": \"2017-12-30\", \"Region\": \"global\"}, {\"Position\": 33, \"Track Name\": \"Something Just Like This\", \"Artist\": \"The Chainsmokers\", \"Streams\": 1768960, \"URL\": \"https://open.spotify.com/track/6RUKPb4LETWmmr3iAEQktW\", \"Date\": \"2017-12-31\", \"Region\": \"global\"}, {\"Position\": 47, \"Track Name\": \"Something Just Like This\", \"Artist\": \"The Chainsmokers\", \"Streams\": 1103382, \"URL\": \"https://open.spotify.com/track/6RUKPb4LETWmmr3iAEQktW\", \"Date\": \"2018-01-01\", \"Region\": \"global\"}, {\"Position\": 48, \"Track Name\": \"Something Just Like This\", \"Artist\": \"The Chainsmokers\", \"Streams\": 1189918, \"URL\": \"https://open.spotify.com/track/6RUKPb4LETWmmr3iAEQktW\", \"Date\": \"2018-01-02\", \"Region\": \"global\"}, {\"Position\": 49, \"Track Name\": \"Something Just Like This\", \"Artist\": \"The Chainsmokers\", \"Streams\": 1197338, \"URL\": \"https://open.spotify.com/track/6RUKPb4LETWmmr3iAEQktW\", \"Date\": \"2018-01-03\", \"Region\": \"global\"}, {\"Position\": 48, \"Track Name\": \"Something Just Like This\", \"Artist\": \"The Chainsmokers\", \"Streams\": 1189036, \"URL\": \"https://open.spotify.com/track/6RUKPb4LETWmmr3iAEQktW\", \"Date\": \"2018-01-04\", \"Region\": \"global\"}, {\"Position\": 54, \"Track Name\": \"Something Just Like This\", \"Artist\": \"The Chainsmokers\", \"Streams\": 1220473, \"URL\": \"https://open.spotify.com/track/6RUKPb4LETWmmr3iAEQktW\", \"Date\": \"2018-01-05\", \"Region\": \"global\"}, {\"Position\": 55, \"Track Name\": \"Something Just Like This\", \"Artist\": \"The Chainsmokers\", \"Streams\": 1110269, \"URL\": \"https://open.spotify.com/track/6RUKPb4LETWmmr3iAEQktW\", \"Date\": \"2018-01-06\", \"Region\": \"global\"}, {\"Position\": 58, \"Track Name\": \"Something Just Like This\", \"Artist\": \"The Chainsmokers\", \"Streams\": 973303, \"URL\": \"https://open.spotify.com/track/6RUKPb4LETWmmr3iAEQktW\", \"Date\": \"2018-01-07\", \"Region\": \"global\"}, {\"Position\": 64, \"Track Name\": \"Something Just Like This\", \"Artist\": \"The Chainsmokers\", \"Streams\": 1024044, \"URL\": \"https://open.spotify.com/track/6RUKPb4LETWmmr3iAEQktW\", \"Date\": \"2018-01-08\", \"Region\": \"global\"}, {\"Position\": 66, \"Track Name\": \"Something Just Like This\", \"Artist\": \"The Chainsmokers\", \"Streams\": 1041692, \"URL\": \"https://open.spotify.com/track/6RUKPb4LETWmmr3iAEQktW\", \"Date\": \"2018-01-09\", \"Region\": \"global\"}]}}, {\"mode\": \"vega-lite\"});\n",
              "</script>"
            ],
            "text/plain": [
              "alt.HConcatChart(...)"
            ]
          },
          "execution_count": 41,
          "metadata": {},
          "output_type": "execute_result"
        }
      ],
      "source": [
        "# We store the return values in variables, and then we can use \"|\", \"&\" and \"+\" \n",
        "# to combine them as horizontally, vertically or overlay, see documentation for \n",
        "# more details\n",
        "\n",
        "position_chart = alt.Chart(df_chart).mark_line().encode(\n",
        "    x='Date:T',\n",
        "    y=alt.Y('Position:Q', scale=alt.Scale(zero=False, padding=1, domain=[200, 1]))\n",
        ")\n",
        "\n",
        "streams_chart = alt.Chart(df_chart).mark_bar().encode(\n",
        "    x='Date:T',\n",
        "    y='Streams:Q'\n",
        ")\n",
        "\n",
        "position_chart | streams_chart"
      ]
    },
    {
      "cell_type": "code",
      "execution_count": 42,
      "metadata": {
        "colab": {},
        "colab_type": "code",
        "id": "obCJRv6nn7aw"
      },
      "outputs": [],
      "source": [
        "################################################################################\n",
        "# TODO:                                                                        #\n",
        "# Try to visualize the trend of your favorite song!                            #\n",
        "################################################################################\n",
        "\n",
        "df_chart = df_daily_ranking_global[df_daily_ranking_global[\"Track Name\"] == \"Havana\"]\n",
        "df_chart.head()\n",
        "\n",
        "position_chart = alt.Chart(df_chart).mark_line().encode(\n",
        "    x='Date:T',\n",
        "    y=alt.Y('Position:Q', scale=alt.Scale(zero=False, padding=1, domain=[200, 1]))\n",
        ")\n",
        "\n",
        "################################################################################\n",
        "#                                 END OF YOUR CODE                             #\n",
        "################################################################################"
      ]
    },
    {
      "cell_type": "markdown",
      "metadata": {
        "colab_type": "text",
        "id": "zZRfkZXa3tKQ"
      },
      "source": [
        "### Interactions"
      ]
    },
    {
      "cell_type": "markdown",
      "metadata": {
        "colab_type": "text",
        "id": "Y-bVNixsr6wi"
      },
      "source": [
        "Interaction is very useful for exploring datasets. It was time consuming to make charts interactive, thanks to Altair (and the vega-lite behind the scene), it is much easier now. We will go through two examples, but there are more in the [documentation](https://altair-viz.github.io/user_guide/interactions.html), check it out!"
      ]
    },
    {
      "cell_type": "code",
      "execution_count": 43,
      "metadata": {
        "colab": {
          "base_uri": "https://localhost:8080/",
          "height": 204
        },
        "colab_type": "code",
        "id": "daCOujdic03B",
        "outputId": "b8b729c6-f4ad-48ac-9e11-142b9c11c37d"
      },
      "outputs": [
        {
          "data": {
            "text/html": [
              "<div>\n",
              "<style scoped>\n",
              "    .dataframe tbody tr th:only-of-type {\n",
              "        vertical-align: middle;\n",
              "    }\n",
              "\n",
              "    .dataframe tbody tr th {\n",
              "        vertical-align: top;\n",
              "    }\n",
              "\n",
              "    .dataframe thead th {\n",
              "        text-align: right;\n",
              "    }\n",
              "</style>\n",
              "<table border=\"1\" class=\"dataframe\">\n",
              "  <thead>\n",
              "    <tr style=\"text-align: right;\">\n",
              "      <th></th>\n",
              "      <th>Date</th>\n",
              "      <th>Track Name</th>\n",
              "      <th>Streams</th>\n",
              "    </tr>\n",
              "  </thead>\n",
              "  <tbody>\n",
              "    <tr>\n",
              "      <th>0</th>\n",
              "      <td>2017-01-01</td>\n",
              "      <td>Adventure Of A Lifetime</td>\n",
              "      <td>64682</td>\n",
              "    </tr>\n",
              "    <tr>\n",
              "      <th>1</th>\n",
              "      <td>2017-01-01</td>\n",
              "      <td>Everglow - Single Version</td>\n",
              "      <td>17622</td>\n",
              "    </tr>\n",
              "    <tr>\n",
              "      <th>2</th>\n",
              "      <td>2017-01-01</td>\n",
              "      <td>Everglow - Single Version, Radio Edit</td>\n",
              "      <td>48726</td>\n",
              "    </tr>\n",
              "    <tr>\n",
              "      <th>3</th>\n",
              "      <td>2017-01-01</td>\n",
              "      <td>Hymn For The Weekend</td>\n",
              "      <td>82932</td>\n",
              "    </tr>\n",
              "    <tr>\n",
              "      <th>4</th>\n",
              "      <td>2017-01-01</td>\n",
              "      <td>Hymn For The Weekend - Seeb Remix</td>\n",
              "      <td>203571</td>\n",
              "    </tr>\n",
              "  </tbody>\n",
              "</table>\n",
              "</div>"
            ],
            "text/plain": [
              "         Date                             Track Name  Streams\n",
              "0  2017-01-01                Adventure Of A Lifetime    64682\n",
              "1  2017-01-01              Everglow - Single Version    17622\n",
              "2  2017-01-01  Everglow - Single Version, Radio Edit    48726\n",
              "3  2017-01-01                   Hymn For The Weekend    82932\n",
              "4  2017-01-01      Hymn For The Weekend - Seeb Remix   203571"
            ]
          },
          "execution_count": 43,
          "metadata": {},
          "output_type": "execute_result"
        }
      ],
      "source": [
        "# Again, filter, groupby, aggregate, reset_index, apply the tricks we have \n",
        "# learnt in this tutorial\n",
        "\n",
        "df_chart = df_favorite_artist[df_favorite_artist['Continent'] == 'EU'].groupby(['Date', 'Track Name']).sum()['Streams'].reset_index()\n",
        "df_chart.head()"
      ]
    },
    {
      "cell_type": "code",
      "execution_count": 44,
      "metadata": {
        "colab": {
          "base_uri": "https://localhost:8080/",
          "height": 546
        },
        "colab_type": "code",
        "id": "PlbiZGrTcj19",
        "outputId": "0c50d6b0-8e09-4807-95ef-f495d708e500"
      },
      "outputs": [
        {
          "data": {
            "text/html": [
              "\n",
              "<div id=\"altair-viz-ac15544f5ed241cdb46d7ded016e00e4\"></div>\n",
              "<script type=\"text/javascript\">\n",
              "  var VEGA_DEBUG = (typeof VEGA_DEBUG == \"undefined\") ? {} : VEGA_DEBUG;\n",
              "  (function(spec, embedOpt){\n",
              "    let outputDiv = document.currentScript.previousElementSibling;\n",
              "    if (outputDiv.id !== \"altair-viz-ac15544f5ed241cdb46d7ded016e00e4\") {\n",
              "      outputDiv = document.getElementById(\"altair-viz-ac15544f5ed241cdb46d7ded016e00e4\");\n",
              "    }\n",
              "    const paths = {\n",
              "      \"vega\": \"https://cdn.jsdelivr.net/npm//vega@5?noext\",\n",
              "      \"vega-lib\": \"https://cdn.jsdelivr.net/npm//vega-lib?noext\",\n",
              "      \"vega-lite\": \"https://cdn.jsdelivr.net/npm//vega-lite@4.17.0?noext\",\n",
              "      \"vega-embed\": \"https://cdn.jsdelivr.net/npm//vega-embed@6?noext\",\n",
              "    };\n",
              "\n",
              "    function maybeLoadScript(lib, version) {\n",
              "      var key = `${lib.replace(\"-\", \"\")}_version`;\n",
              "      return (VEGA_DEBUG[key] == version) ?\n",
              "        Promise.resolve(paths[lib]) :\n",
              "        new Promise(function(resolve, reject) {\n",
              "          var s = document.createElement('script');\n",
              "          document.getElementsByTagName(\"head\")[0].appendChild(s);\n",
              "          s.async = true;\n",
              "          s.onload = () => {\n",
              "            VEGA_DEBUG[key] = version;\n",
              "            return resolve(paths[lib]);\n",
              "          };\n",
              "          s.onerror = () => reject(`Error loading script: ${paths[lib]}`);\n",
              "          s.src = paths[lib];\n",
              "        });\n",
              "    }\n",
              "\n",
              "    function showError(err) {\n",
              "      outputDiv.innerHTML = `<div class=\"error\" style=\"color:red;\">${err}</div>`;\n",
              "      throw err;\n",
              "    }\n",
              "\n",
              "    function displayChart(vegaEmbed) {\n",
              "      vegaEmbed(outputDiv, spec, embedOpt)\n",
              "        .catch(err => showError(`Javascript Error: ${err.message}<br>This usually means there's a typo in your chart specification. See the javascript console for the full traceback.`));\n",
              "    }\n",
              "\n",
              "    if(typeof define === \"function\" && define.amd) {\n",
              "      requirejs.config({paths});\n",
              "      require([\"vega-embed\"], displayChart, err => showError(`Error loading script: ${err.message}`));\n",
              "    } else {\n",
              "      maybeLoadScript(\"vega\", \"5\")\n",
              "        .then(() => maybeLoadScript(\"vega-lite\", \"4.17.0\"))\n",
              "        .then(() => maybeLoadScript(\"vega-embed\", \"6\"))\n",
              "        .catch(showError)\n",
              "        .then(() => displayChart(vegaEmbed));\n",
              "    }\n",
              "  })({\"config\": {\"view\": {\"continuousWidth\": 400, \"continuousHeight\": 300}}, \"data\": {\"name\": \"data-e4f7944191f856fa55f49c1e46acdd73\"}, \"mark\": \"line\", \"encoding\": {\"color\": {\"field\": \"Track Name\", \"type\": \"nominal\"}, \"x\": {\"field\": \"Date\", \"type\": \"temporal\"}, \"y\": {\"field\": \"Streams\", \"type\": \"quantitative\"}}, \"selection\": {\"selector001\": {\"type\": \"interval\", \"bind\": \"scales\"}}, \"$schema\": \"https://vega.github.io/schema/vega-lite/v4.17.0.json\", \"datasets\": {\"data-e4f7944191f856fa55f49c1e46acdd73\": [{\"Date\": \"2017-01-01\", \"Track Name\": \"Adventure Of A Lifetime\", \"Streams\": 64682}, {\"Date\": \"2017-01-01\", \"Track Name\": \"Everglow - Single Version\", \"Streams\": 17622}, {\"Date\": \"2017-01-01\", \"Track Name\": \"Everglow - Single Version, Radio Edit\", \"Streams\": 48726}, {\"Date\": \"2017-01-01\", \"Track Name\": \"Hymn For The Weekend\", \"Streams\": 82932}, {\"Date\": \"2017-01-01\", \"Track Name\": \"Hymn For The Weekend - Seeb Remix\", \"Streams\": 203571}, {\"Date\": \"2017-01-01\", \"Track Name\": \"The Scientist\", \"Streams\": 9786}, {\"Date\": \"2017-01-02\", \"Track Name\": \"Adventure Of A Lifetime\", \"Streams\": 72080}, {\"Date\": \"2017-01-02\", \"Track Name\": \"Everglow - Single Version\", \"Streams\": 25104}, {\"Date\": \"2017-01-02\", \"Track Name\": \"Everglow - Single Version, Radio Edit\", \"Streams\": 61611}, {\"Date\": \"2017-01-02\", \"Track Name\": \"Hymn For The Weekend\", \"Streams\": 96488}, {\"Date\": \"2017-01-02\", \"Track Name\": \"Hymn For The Weekend - Seeb Remix\", \"Streams\": 228656}, {\"Date\": \"2017-01-02\", \"Track Name\": \"The Scientist\", \"Streams\": 28389}, {\"Date\": \"2017-01-03\", \"Track Name\": \"Adventure Of A Lifetime\", \"Streams\": 80205}, {\"Date\": \"2017-01-03\", \"Track Name\": \"Everglow - Single Version\", \"Streams\": 26885}, {\"Date\": \"2017-01-03\", \"Track Name\": \"Everglow - Single Version, Radio Edit\", \"Streams\": 71375}, {\"Date\": \"2017-01-03\", \"Track Name\": \"Hymn For The Weekend\", \"Streams\": 89660}, {\"Date\": \"2017-01-03\", \"Track Name\": \"Hymn For The Weekend - Seeb Remix\", \"Streams\": 230331}, {\"Date\": \"2017-01-03\", \"Track Name\": \"The Scientist\", \"Streams\": 26971}, {\"Date\": \"2017-01-04\", \"Track Name\": \"Adventure Of A Lifetime\", \"Streams\": 70613}, {\"Date\": \"2017-01-04\", \"Track Name\": \"Everglow - Single Version\", \"Streams\": 29022}, {\"Date\": \"2017-01-04\", \"Track Name\": \"Everglow - Single Version, Radio Edit\", \"Streams\": 82416}, {\"Date\": \"2017-01-04\", \"Track Name\": \"Hymn For The Weekend\", \"Streams\": 89018}, {\"Date\": \"2017-01-04\", \"Track Name\": \"Hymn For The Weekend - Seeb Remix\", \"Streams\": 234109}, {\"Date\": \"2017-01-04\", \"Track Name\": \"The Scientist\", \"Streams\": 26658}, {\"Date\": \"2017-01-05\", \"Track Name\": \"Adventure Of A Lifetime\", \"Streams\": 66582}, {\"Date\": \"2017-01-05\", \"Track Name\": \"Everglow - Single Version\", \"Streams\": 32066}, {\"Date\": \"2017-01-05\", \"Track Name\": \"Everglow - Single Version, Radio Edit\", \"Streams\": 66239}, {\"Date\": \"2017-01-05\", \"Track Name\": \"Hymn For The Weekend\", \"Streams\": 88713}, {\"Date\": \"2017-01-05\", \"Track Name\": \"Hymn For The Weekend - Seeb Remix\", \"Streams\": 240058}, {\"Date\": \"2017-01-05\", \"Track Name\": \"The Scientist\", \"Streams\": 11008}, {\"Date\": \"2017-01-06\", \"Track Name\": \"Adventure Of A Lifetime\", \"Streams\": 73484}, {\"Date\": \"2017-01-06\", \"Track Name\": \"Everglow - Single Version\", \"Streams\": 17230}, {\"Date\": \"2017-01-06\", \"Track Name\": \"Everglow - Single Version, Radio Edit\", \"Streams\": 55054}, {\"Date\": \"2017-01-06\", \"Track Name\": \"Hymn For The Weekend\", \"Streams\": 47166}, {\"Date\": \"2017-01-06\", \"Track Name\": \"Hymn For The Weekend - Seeb Remix\", \"Streams\": 230796}, {\"Date\": \"2017-01-06\", \"Track Name\": \"The Scientist\", \"Streams\": 9747}, {\"Date\": \"2017-01-07\", \"Track Name\": \"Adventure Of A Lifetime\", \"Streams\": 67505}, {\"Date\": \"2017-01-07\", \"Track Name\": \"Everglow - Single Version\", \"Streams\": 19947}, {\"Date\": \"2017-01-07\", \"Track Name\": \"Everglow - Single Version, Radio Edit\", \"Streams\": 67853}, {\"Date\": \"2017-01-07\", \"Track Name\": \"Hymn For The Weekend\", \"Streams\": 87170}, {\"Date\": \"2017-01-07\", \"Track Name\": \"Hymn For The Weekend - Seeb Remix\", \"Streams\": 238339}, {\"Date\": \"2017-01-07\", \"Track Name\": \"The Scientist\", \"Streams\": 2827}, {\"Date\": \"2017-01-08\", \"Track Name\": \"Adventure Of A Lifetime\", \"Streams\": 61948}, {\"Date\": \"2017-01-08\", \"Track Name\": \"Everglow - Single Version\", \"Streams\": 19783}, {\"Date\": \"2017-01-08\", \"Track Name\": \"Everglow - Single Version, Radio Edit\", \"Streams\": 73306}, {\"Date\": \"2017-01-08\", \"Track Name\": \"Hymn For The Weekend\", \"Streams\": 75923}, {\"Date\": \"2017-01-08\", \"Track Name\": \"Hymn For The Weekend - Seeb Remix\", \"Streams\": 187764}, {\"Date\": \"2017-01-08\", \"Track Name\": \"The Scientist\", \"Streams\": 11044}, {\"Date\": \"2017-01-09\", \"Track Name\": \"A Sky Full of Stars\", \"Streams\": 47012}, {\"Date\": \"2017-01-09\", \"Track Name\": \"Adventure Of A Lifetime\", \"Streams\": 63023}, {\"Date\": \"2017-01-09\", \"Track Name\": \"Everglow - Single Version\", \"Streams\": 26275}, {\"Date\": \"2017-01-09\", \"Track Name\": \"Everglow - Single Version, Radio Edit\", \"Streams\": 64895}, {\"Date\": \"2017-01-09\", \"Track Name\": \"Hymn For The Weekend\", \"Streams\": 46428}, {\"Date\": \"2017-01-09\", \"Track Name\": \"Hymn For The Weekend - Seeb Remix\", \"Streams\": 198199}, {\"Date\": \"2017-01-09\", \"Track Name\": \"The Scientist\", \"Streams\": 25572}, {\"Date\": \"2017-01-10\", \"Track Name\": \"Adventure Of A Lifetime\", \"Streams\": 67064}, {\"Date\": \"2017-01-10\", \"Track Name\": \"Everglow - Single Version\", \"Streams\": 27166}, {\"Date\": \"2017-01-10\", \"Track Name\": \"Everglow - Single Version, Radio Edit\", \"Streams\": 74305}, {\"Date\": \"2017-01-10\", \"Track Name\": \"Hymn For The Weekend\", \"Streams\": 80125}, {\"Date\": \"2017-01-10\", \"Track Name\": \"Hymn For The Weekend - Seeb Remix\", \"Streams\": 198233}, {\"Date\": \"2017-01-10\", \"Track Name\": \"The Scientist\", \"Streams\": 24239}, {\"Date\": \"2017-01-11\", \"Track Name\": \"Adventure Of A Lifetime\", \"Streams\": 68189}, {\"Date\": \"2017-01-11\", \"Track Name\": \"Everglow - Single Version\", \"Streams\": 26928}, {\"Date\": \"2017-01-11\", \"Track Name\": \"Everglow - Single Version, Radio Edit\", \"Streams\": 85985}, {\"Date\": \"2017-01-11\", \"Track Name\": \"Hymn For The Weekend\", \"Streams\": 49900}, {\"Date\": \"2017-01-11\", \"Track Name\": \"Hymn For The Weekend - Seeb Remix\", \"Streams\": 211534}, {\"Date\": \"2017-01-11\", \"Track Name\": \"The Scientist\", \"Streams\": 24950}, {\"Date\": \"2017-01-12\", \"Track Name\": \"Adventure Of A Lifetime\", \"Streams\": 64402}, {\"Date\": \"2017-01-12\", \"Track Name\": \"Everglow - Single Version\", \"Streams\": 30299}, {\"Date\": \"2017-01-12\", \"Track Name\": \"Everglow - Single Version, Radio Edit\", \"Streams\": 73550}, {\"Date\": \"2017-01-12\", \"Track Name\": \"Hymn For The Weekend\", \"Streams\": 49424}, {\"Date\": \"2017-01-12\", \"Track Name\": \"Hymn For The Weekend - Seeb Remix\", \"Streams\": 211682}, {\"Date\": \"2017-01-12\", \"Track Name\": \"The Scientist\", \"Streams\": 25747}, {\"Date\": \"2017-01-13\", \"Track Name\": \"Adventure Of A Lifetime\", \"Streams\": 80322}, {\"Date\": \"2017-01-13\", \"Track Name\": \"Everglow - Single Version, Radio Edit\", \"Streams\": 64048}, {\"Date\": \"2017-01-13\", \"Track Name\": \"Hymn For The Weekend\", \"Streams\": 41505}, {\"Date\": \"2017-01-13\", \"Track Name\": \"Hymn For The Weekend - Seeb Remix\", \"Streams\": 229145}, {\"Date\": \"2017-01-13\", \"Track Name\": \"The Scientist\", \"Streams\": 2368}, {\"Date\": \"2017-01-14\", \"Track Name\": \"Adventure Of A Lifetime\", \"Streams\": 68665}, {\"Date\": \"2017-01-14\", \"Track Name\": \"Everglow - Single Version\", \"Streams\": 18035}, {\"Date\": \"2017-01-14\", \"Track Name\": \"Everglow - Single Version, Radio Edit\", \"Streams\": 73999}, {\"Date\": \"2017-01-14\", \"Track Name\": \"Hymn For The Weekend\", \"Streams\": 50919}, {\"Date\": \"2017-01-14\", \"Track Name\": \"Hymn For The Weekend - Seeb Remix\", \"Streams\": 244341}, {\"Date\": \"2017-01-14\", \"Track Name\": \"The Scientist\", \"Streams\": 2704}, {\"Date\": \"2017-01-15\", \"Track Name\": \"Adventure Of A Lifetime\", \"Streams\": 61372}, {\"Date\": \"2017-01-15\", \"Track Name\": \"Everglow - Single Version\", \"Streams\": 17233}, {\"Date\": \"2017-01-15\", \"Track Name\": \"Everglow - Single Version, Radio Edit\", \"Streams\": 76658}, {\"Date\": \"2017-01-15\", \"Track Name\": \"Hymn For The Weekend\", \"Streams\": 44259}, {\"Date\": \"2017-01-15\", \"Track Name\": \"Hymn For The Weekend - Seeb Remix\", \"Streams\": 181695}, {\"Date\": \"2017-01-15\", \"Track Name\": \"The Scientist\", \"Streams\": 2620}, {\"Date\": \"2017-01-16\", \"Track Name\": \"A Sky Full of Stars\", \"Streams\": 49037}, {\"Date\": \"2017-01-16\", \"Track Name\": \"Adventure Of A Lifetime\", \"Streams\": 60267}, {\"Date\": \"2017-01-16\", \"Track Name\": \"Everglow - Single Version\", \"Streams\": 24090}, {\"Date\": \"2017-01-16\", \"Track Name\": \"Everglow - Single Version, Radio Edit\", \"Streams\": 64781}, {\"Date\": \"2017-01-16\", \"Track Name\": \"Hymn For The Weekend\", \"Streams\": 42946}, {\"Date\": \"2017-01-16\", \"Track Name\": \"Hymn For The Weekend - Seeb Remix\", \"Streams\": 188357}, {\"Date\": \"2017-01-16\", \"Track Name\": \"The Scientist\", \"Streams\": 14435}, {\"Date\": \"2017-01-17\", \"Track Name\": \"Adventure Of A Lifetime\", \"Streams\": 66585}, {\"Date\": \"2017-01-17\", \"Track Name\": \"Everglow - Single Version\", \"Streams\": 25473}, {\"Date\": \"2017-01-17\", \"Track Name\": \"Everglow - Single Version, Radio Edit\", \"Streams\": 76544}, {\"Date\": \"2017-01-17\", \"Track Name\": \"Hymn For The Weekend\", \"Streams\": 46468}, {\"Date\": \"2017-01-17\", \"Track Name\": \"Hymn For The Weekend - Seeb Remix\", \"Streams\": 199526}, {\"Date\": \"2017-01-17\", \"Track Name\": \"The Scientist\", \"Streams\": 4198}, {\"Date\": \"2017-01-18\", \"Track Name\": \"Adventure Of A Lifetime\", \"Streams\": 66479}, {\"Date\": \"2017-01-18\", \"Track Name\": \"Everglow - Single Version\", \"Streams\": 24984}, {\"Date\": \"2017-01-18\", \"Track Name\": \"Everglow - Single Version, Radio Edit\", \"Streams\": 88930}, {\"Date\": \"2017-01-18\", \"Track Name\": \"Hymn For The Weekend\", \"Streams\": 46367}, {\"Date\": \"2017-01-18\", \"Track Name\": \"Hymn For The Weekend - Seeb Remix\", \"Streams\": 209366}, {\"Date\": \"2017-01-18\", \"Track Name\": \"The Scientist\", \"Streams\": 2095}, {\"Date\": \"2017-01-19\", \"Track Name\": \"A Head Full Of Dreams\", \"Streams\": 8824}, {\"Date\": \"2017-01-19\", \"Track Name\": \"Adventure Of A Lifetime\", \"Streams\": 65512}, {\"Date\": \"2017-01-19\", \"Track Name\": \"Everglow - Single Version\", \"Streams\": 19064}, {\"Date\": \"2017-01-19\", \"Track Name\": \"Everglow - Single Version, Radio Edit\", \"Streams\": 75392}, {\"Date\": \"2017-01-19\", \"Track Name\": \"Hymn For The Weekend\", \"Streams\": 47072}, {\"Date\": \"2017-01-19\", \"Track Name\": \"Hymn For The Weekend - Seeb Remix\", \"Streams\": 208444}, {\"Date\": \"2017-01-19\", \"Track Name\": \"The Scientist\", \"Streams\": 17928}, {\"Date\": \"2017-01-20\", \"Track Name\": \"Adventure Of A Lifetime\", \"Streams\": 63594}, {\"Date\": \"2017-01-20\", \"Track Name\": \"Everglow - Single Version\", \"Streams\": 17740}, {\"Date\": \"2017-01-20\", \"Track Name\": \"Everglow - Single Version, Radio Edit\", \"Streams\": 59842}, {\"Date\": \"2017-01-20\", \"Track Name\": \"Hymn For The Weekend\", \"Streams\": 49368}, {\"Date\": \"2017-01-20\", \"Track Name\": \"Hymn For The Weekend - Seeb Remix\", \"Streams\": 209494}, {\"Date\": \"2017-01-21\", \"Track Name\": \"Adventure Of A Lifetime\", \"Streams\": 62441}, {\"Date\": \"2017-01-21\", \"Track Name\": \"Everglow - Single Version\", \"Streams\": 16532}, {\"Date\": \"2017-01-21\", \"Track Name\": \"Everglow - Single Version, Radio Edit\", \"Streams\": 73235}, {\"Date\": \"2017-01-21\", \"Track Name\": \"Hymn For The Weekend\", \"Streams\": 47377}, {\"Date\": \"2017-01-21\", \"Track Name\": \"Hymn For The Weekend - Seeb Remix\", \"Streams\": 213186}, {\"Date\": \"2017-01-22\", \"Track Name\": \"Adventure Of A Lifetime\", \"Streams\": 44030}, {\"Date\": \"2017-01-22\", \"Track Name\": \"Everglow - Single Version\", \"Streams\": 17301}, {\"Date\": \"2017-01-22\", \"Track Name\": \"Everglow - Single Version, Radio Edit\", \"Streams\": 68756}, {\"Date\": \"2017-01-22\", \"Track Name\": \"Hymn For The Weekend\", \"Streams\": 41203}, {\"Date\": \"2017-01-22\", \"Track Name\": \"Hymn For The Weekend - Seeb Remix\", \"Streams\": 159664}, {\"Date\": \"2017-01-22\", \"Track Name\": \"The Scientist\", \"Streams\": 2434}, {\"Date\": \"2017-01-23\", \"Track Name\": \"Adventure Of A Lifetime\", \"Streams\": 57005}, {\"Date\": \"2017-01-23\", \"Track Name\": \"Everglow - Single Version\", \"Streams\": 14879}, {\"Date\": \"2017-01-23\", \"Track Name\": \"Everglow - Single Version, Radio Edit\", \"Streams\": 66008}, {\"Date\": \"2017-01-23\", \"Track Name\": \"Hymn For The Weekend\", \"Streams\": 42870}, {\"Date\": \"2017-01-23\", \"Track Name\": \"Hymn For The Weekend - Seeb Remix\", \"Streams\": 169906}, {\"Date\": \"2017-01-23\", \"Track Name\": \"The Scientist\", \"Streams\": 2141}, {\"Date\": \"2017-01-23\", \"Track Name\": \"Viva La Vida\", \"Streams\": 56426}, {\"Date\": \"2017-01-24\", \"Track Name\": \"A Head Full Of Dreams\", \"Streams\": 8749}, {\"Date\": \"2017-01-24\", \"Track Name\": \"Adventure Of A Lifetime\", \"Streams\": 64308}, {\"Date\": \"2017-01-24\", \"Track Name\": \"Everglow - Single Version\", \"Streams\": 16061}, {\"Date\": \"2017-01-24\", \"Track Name\": \"Everglow - Single Version, Radio Edit\", \"Streams\": 65726}, {\"Date\": \"2017-01-24\", \"Track Name\": \"Hymn For The Weekend\", \"Streams\": 43426}, {\"Date\": \"2017-01-24\", \"Track Name\": \"Hymn For The Weekend - Seeb Remix\", \"Streams\": 188060}, {\"Date\": \"2017-01-24\", \"Track Name\": \"The Scientist\", \"Streams\": 20097}, {\"Date\": \"2017-01-24\", \"Track Name\": \"Viva La Vida\", \"Streams\": 2534}, {\"Date\": \"2017-01-25\", \"Track Name\": \"A Head Full Of Dreams\", \"Streams\": 10398}, {\"Date\": \"2017-01-25\", \"Track Name\": \"Adventure Of A Lifetime\", \"Streams\": 63369}, {\"Date\": \"2017-01-25\", \"Track Name\": \"Everglow - Single Version\", \"Streams\": 16902}, {\"Date\": \"2017-01-25\", \"Track Name\": \"Everglow - Single Version, Radio Edit\", \"Streams\": 84391}, {\"Date\": \"2017-01-25\", \"Track Name\": \"Hymn For The Weekend\", \"Streams\": 45366}, {\"Date\": \"2017-01-25\", \"Track Name\": \"Hymn For The Weekend - Seeb Remix\", \"Streams\": 184600}, {\"Date\": \"2017-01-25\", \"Track Name\": \"The Scientist\", \"Streams\": 4496}, {\"Date\": \"2017-01-26\", \"Track Name\": \"Adventure Of A Lifetime\", \"Streams\": 60484}, {\"Date\": \"2017-01-26\", \"Track Name\": \"Everglow - Single Version\", \"Streams\": 17236}, {\"Date\": \"2017-01-26\", \"Track Name\": \"Everglow - Single Version, Radio Edit\", \"Streams\": 69833}, {\"Date\": \"2017-01-26\", \"Track Name\": \"Hymn For The Weekend\", \"Streams\": 44855}, {\"Date\": \"2017-01-26\", \"Track Name\": \"Hymn For The Weekend - Seeb Remix\", \"Streams\": 180774}, {\"Date\": \"2017-01-26\", \"Track Name\": \"The Scientist\", \"Streams\": 4412}, {\"Date\": \"2017-01-27\", \"Track Name\": \"Adventure Of A Lifetime\", \"Streams\": 61477}, {\"Date\": \"2017-01-27\", \"Track Name\": \"Everglow - Single Version, Radio Edit\", \"Streams\": 59418}, {\"Date\": \"2017-01-27\", \"Track Name\": \"Hymn For The Weekend\", \"Streams\": 32068}, {\"Date\": \"2017-01-27\", \"Track Name\": \"Hymn For The Weekend - Seeb Remix\", \"Streams\": 180839}, {\"Date\": \"2017-01-27\", \"Track Name\": \"The Scientist\", \"Streams\": 2273}, {\"Date\": \"2017-01-28\", \"Track Name\": \"A Head Full Of Dreams\", \"Streams\": 12845}, {\"Date\": \"2017-01-28\", \"Track Name\": \"Adventure Of A Lifetime\", \"Streams\": 46504}, {\"Date\": \"2017-01-28\", \"Track Name\": \"Everglow - Single Version, Radio Edit\", \"Streams\": 71073}, {\"Date\": \"2017-01-28\", \"Track Name\": \"Hymn For The Weekend\", \"Streams\": 28301}, {\"Date\": \"2017-01-28\", \"Track Name\": \"Hymn For The Weekend - Seeb Remix\", \"Streams\": 182940}, {\"Date\": \"2017-01-28\", \"Track Name\": \"The Scientist\", \"Streams\": 2708}, {\"Date\": \"2017-01-29\", \"Track Name\": \"Adventure Of A Lifetime\", \"Streams\": 42549}, {\"Date\": \"2017-01-29\", \"Track Name\": \"Everglow - Single Version\", \"Streams\": 16193}, {\"Date\": \"2017-01-29\", \"Track Name\": \"Everglow - Single Version, Radio Edit\", \"Streams\": 66416}, {\"Date\": \"2017-01-29\", \"Track Name\": \"Hymn For The Weekend\", \"Streams\": 15973}, {\"Date\": \"2017-01-29\", \"Track Name\": \"Hymn For The Weekend - Seeb Remix\", \"Streams\": 126512}, {\"Date\": \"2017-01-29\", \"Track Name\": \"The Scientist\", \"Streams\": 2298}, {\"Date\": \"2017-01-30\", \"Track Name\": \"Adventure Of A Lifetime\", \"Streams\": 40358}, {\"Date\": \"2017-01-30\", \"Track Name\": \"Everglow - Single Version, Radio Edit\", \"Streams\": 61405}, {\"Date\": \"2017-01-30\", \"Track Name\": \"Hymn For The Weekend\", \"Streams\": 8189}, {\"Date\": \"2017-01-30\", \"Track Name\": \"Hymn For The Weekend - Seeb Remix\", \"Streams\": 127809}, {\"Date\": \"2017-01-30\", \"Track Name\": \"The Scientist\", \"Streams\": 15377}, {\"Date\": \"2017-01-30\", \"Track Name\": \"Viva La Vida\", \"Streams\": 62826}, {\"Date\": \"2017-01-31\", \"Track Name\": \"Adventure Of A Lifetime\", \"Streams\": 61092}, {\"Date\": \"2017-01-31\", \"Track Name\": \"Everglow - Single Version, Radio Edit\", \"Streams\": 65291}, {\"Date\": \"2017-01-31\", \"Track Name\": \"Hymn For The Weekend\", \"Streams\": 8372}, {\"Date\": \"2017-01-31\", \"Track Name\": \"Hymn For The Weekend - Seeb Remix\", \"Streams\": 103723}, {\"Date\": \"2017-02-01\", \"Track Name\": \"A Head Full Of Dreams\", \"Streams\": 10813}, {\"Date\": \"2017-02-01\", \"Track Name\": \"Adventure Of A Lifetime\", \"Streams\": 46798}, {\"Date\": \"2017-02-01\", \"Track Name\": \"Everglow - Single Version, Radio Edit\", \"Streams\": 84190}, {\"Date\": \"2017-02-01\", \"Track Name\": \"Hymn For The Weekend\", \"Streams\": 6067}, {\"Date\": \"2017-02-01\", \"Track Name\": \"Hymn For The Weekend - Seeb Remix\", \"Streams\": 106470}, {\"Date\": \"2017-02-01\", \"Track Name\": \"The Scientist\", \"Streams\": 2284}, {\"Date\": \"2017-02-02\", \"Track Name\": \"Adventure Of A Lifetime\", \"Streams\": 44362}, {\"Date\": \"2017-02-02\", \"Track Name\": \"Everglow - Single Version\", \"Streams\": 16434}, {\"Date\": \"2017-02-02\", \"Track Name\": \"Everglow - Single Version, Radio Edit\", \"Streams\": 70306}, {\"Date\": \"2017-02-02\", \"Track Name\": \"Hymn For The Weekend\", \"Streams\": 6010}, {\"Date\": \"2017-02-02\", \"Track Name\": \"Hymn For The Weekend - Seeb Remix\", \"Streams\": 104820}, {\"Date\": \"2017-02-02\", \"Track Name\": \"The Scientist\", \"Streams\": 2356}, {\"Date\": \"2017-02-03\", \"Track Name\": \"Adventure Of A Lifetime\", \"Streams\": 61548}, {\"Date\": \"2017-02-03\", \"Track Name\": \"Everglow - Single Version, Radio Edit\", \"Streams\": 60576}, {\"Date\": \"2017-02-03\", \"Track Name\": \"Hymn For The Weekend\", \"Streams\": 18989}, {\"Date\": \"2017-02-03\", \"Track Name\": \"Hymn For The Weekend - Seeb Remix\", \"Streams\": 114187}, {\"Date\": \"2017-02-04\", \"Track Name\": \"Adventure Of A Lifetime\", \"Streams\": 45520}, {\"Date\": \"2017-02-04\", \"Track Name\": \"Everglow - Single Version, Radio Edit\", \"Streams\": 69420}, {\"Date\": \"2017-02-04\", \"Track Name\": \"Hymn For The Weekend\", \"Streams\": 17688}, {\"Date\": \"2017-02-04\", \"Track Name\": \"Hymn For The Weekend - Seeb Remix\", \"Streams\": 124259}, {\"Date\": \"2017-02-04\", \"Track Name\": \"The Scientist\", \"Streams\": 2755}, {\"Date\": \"2017-02-05\", \"Track Name\": \"Adventure Of A Lifetime\", \"Streams\": 42659}, {\"Date\": \"2017-02-05\", \"Track Name\": \"Everglow - Single Version, Radio Edit\", \"Streams\": 56651}, {\"Date\": \"2017-02-05\", \"Track Name\": \"Hymn For The Weekend\", \"Streams\": 4548}, {\"Date\": \"2017-02-05\", \"Track Name\": \"Hymn For The Weekend - Seeb Remix\", \"Streams\": 86792}, {\"Date\": \"2017-02-05\", \"Track Name\": \"The Scientist\", \"Streams\": 5201}, {\"Date\": \"2017-02-06\", \"Track Name\": \"Adventure Of A Lifetime\", \"Streams\": 68062}, {\"Date\": \"2017-02-06\", \"Track Name\": \"Everglow - Single Version, Radio Edit\", \"Streams\": 56958}, {\"Date\": \"2017-02-06\", \"Track Name\": \"Hymn For The Weekend\", \"Streams\": 5736}, {\"Date\": \"2017-02-06\", \"Track Name\": \"Hymn For The Weekend - Seeb Remix\", \"Streams\": 95939}, {\"Date\": \"2017-02-07\", \"Track Name\": \"Adventure Of A Lifetime\", \"Streams\": 52772}, {\"Date\": \"2017-02-07\", \"Track Name\": \"Everglow - Single Version, Radio Edit\", \"Streams\": 64305}, {\"Date\": \"2017-02-07\", \"Track Name\": \"Hymn For The Weekend\", \"Streams\": 5768}, {\"Date\": \"2017-02-07\", \"Track Name\": \"Hymn For The Weekend - Seeb Remix\", \"Streams\": 96777}, {\"Date\": \"2017-02-08\", \"Track Name\": \"A Head Full Of Dreams\", \"Streams\": 10138}, {\"Date\": \"2017-02-08\", \"Track Name\": \"Adventure Of A Lifetime\", \"Streams\": 65018}, {\"Date\": \"2017-02-08\", \"Track Name\": \"Everglow - Single Version\", \"Streams\": 15784}, {\"Date\": \"2017-02-08\", \"Track Name\": \"Everglow - Single Version, Radio Edit\", \"Streams\": 81022}, {\"Date\": \"2017-02-08\", \"Track Name\": \"Hymn For The Weekend\", \"Streams\": 5741}, {\"Date\": \"2017-02-08\", \"Track Name\": \"Hymn For The Weekend - Seeb Remix\", \"Streams\": 108880}, {\"Date\": \"2017-02-08\", \"Track Name\": \"The Scientist\", \"Streams\": 2313}, {\"Date\": \"2017-02-09\", \"Track Name\": \"Adventure Of A Lifetime\", \"Streams\": 46236}, {\"Date\": \"2017-02-09\", \"Track Name\": \"Everglow - Single Version\", \"Streams\": 15277}, {\"Date\": \"2017-02-09\", \"Track Name\": \"Everglow - Single Version, Radio Edit\", \"Streams\": 63686}, {\"Date\": \"2017-02-09\", \"Track Name\": \"Hymn For The Weekend\", \"Streams\": 5889}, {\"Date\": \"2017-02-09\", \"Track Name\": \"Hymn For The Weekend - Seeb Remix\", \"Streams\": 95440}, {\"Date\": \"2017-02-09\", \"Track Name\": \"The Scientist\", \"Streams\": 60052}, {\"Date\": \"2017-02-10\", \"Track Name\": \"Adventure Of A Lifetime\", \"Streams\": 46285}, {\"Date\": \"2017-02-10\", \"Track Name\": \"Everglow - Single Version, Radio Edit\", \"Streams\": 3464}, {\"Date\": \"2017-02-10\", \"Track Name\": \"Hymn For The Weekend\", \"Streams\": 6181}, {\"Date\": \"2017-02-10\", \"Track Name\": \"Hymn For The Weekend - Seeb Remix\", \"Streams\": 102299}, {\"Date\": \"2017-02-11\", \"Track Name\": \"Adventure Of A Lifetime\", \"Streams\": 42829}, {\"Date\": \"2017-02-11\", \"Track Name\": \"Everglow - Single Version, Radio Edit\", \"Streams\": 5704}, {\"Date\": \"2017-02-11\", \"Track Name\": \"Hymn For The Weekend\", \"Streams\": 8109}, {\"Date\": \"2017-02-11\", \"Track Name\": \"Hymn For The Weekend - Seeb Remix\", \"Streams\": 101117}, {\"Date\": \"2017-02-12\", \"Track Name\": \"Adventure Of A Lifetime\", \"Streams\": 40907}, {\"Date\": \"2017-02-12\", \"Track Name\": \"Everglow - Single Version, Radio Edit\", \"Streams\": 35522}, {\"Date\": \"2017-02-12\", \"Track Name\": \"Hymn For The Weekend\", \"Streams\": 4455}, {\"Date\": \"2017-02-12\", \"Track Name\": \"Hymn For The Weekend - Seeb Remix\", \"Streams\": 93620}, {\"Date\": \"2017-02-12\", \"Track Name\": \"The Scientist\", \"Streams\": 2643}, {\"Date\": \"2017-02-13\", \"Track Name\": \"Adventure Of A Lifetime\", \"Streams\": 58661}, {\"Date\": \"2017-02-13\", \"Track Name\": \"Hymn For The Weekend\", \"Streams\": 5242}, {\"Date\": \"2017-02-13\", \"Track Name\": \"Hymn For The Weekend - Seeb Remix\", \"Streams\": 82949}, {\"Date\": \"2017-02-14\", \"Track Name\": \"Adventure Of A Lifetime\", \"Streams\": 44400}, {\"Date\": \"2017-02-14\", \"Track Name\": \"Everglow - Single Version, Radio Edit\", \"Streams\": 14065}, {\"Date\": \"2017-02-14\", \"Track Name\": \"Hymn For The Weekend\", \"Streams\": 5276}, {\"Date\": \"2017-02-14\", \"Track Name\": \"Hymn For The Weekend - Seeb Remix\", \"Streams\": 78679}, {\"Date\": \"2017-02-14\", \"Track Name\": \"The Scientist\", \"Streams\": 14508}, {\"Date\": \"2017-02-14\", \"Track Name\": \"Us Against the World\", \"Streams\": 20458}, {\"Date\": \"2017-02-15\", \"Track Name\": \"Adventure Of A Lifetime\", \"Streams\": 49417}, {\"Date\": \"2017-02-15\", \"Track Name\": \"Everglow - Single Version, Radio Edit\", \"Streams\": 2959}, {\"Date\": \"2017-02-15\", \"Track Name\": \"Hymn For The Weekend\", \"Streams\": 5602}, {\"Date\": \"2017-02-15\", \"Track Name\": \"Hymn For The Weekend - Seeb Remix\", \"Streams\": 79520}, {\"Date\": \"2017-02-16\", \"Track Name\": \"Adventure Of A Lifetime\", \"Streams\": 47488}, {\"Date\": \"2017-02-16\", \"Track Name\": \"Hymn For The Weekend\", \"Streams\": 5683}, {\"Date\": \"2017-02-16\", \"Track Name\": \"Hymn For The Weekend - Seeb Remix\", \"Streams\": 80475}, {\"Date\": \"2017-02-17\", \"Track Name\": \"Adventure Of A Lifetime\", \"Streams\": 47095}, {\"Date\": \"2017-02-17\", \"Track Name\": \"Hymn For The Weekend\", \"Streams\": 5859}, {\"Date\": \"2017-02-17\", \"Track Name\": \"Hymn For The Weekend - Seeb Remix\", \"Streams\": 91291}, {\"Date\": \"2017-02-18\", \"Track Name\": \"Adventure Of A Lifetime\", \"Streams\": 44408}, {\"Date\": \"2017-02-18\", \"Track Name\": \"Hymn For The Weekend\", \"Streams\": 8176}, {\"Date\": \"2017-02-18\", \"Track Name\": \"Hymn For The Weekend - Seeb Remix\", \"Streams\": 85910}, {\"Date\": \"2017-02-19\", \"Track Name\": \"Adventure Of A Lifetime\", \"Streams\": 41460}, {\"Date\": \"2017-02-19\", \"Track Name\": \"Hymn For The Weekend\", \"Streams\": 4469}, {\"Date\": \"2017-02-19\", \"Track Name\": \"Hymn For The Weekend - Seeb Remix\", \"Streams\": 69116}, {\"Date\": \"2017-02-20\", \"Track Name\": \"Adventure Of A Lifetime\", \"Streams\": 60036}, {\"Date\": \"2017-02-20\", \"Track Name\": \"Hymn For The Weekend\", \"Streams\": 4442}, {\"Date\": \"2017-02-20\", \"Track Name\": \"Hymn For The Weekend - Seeb Remix\", \"Streams\": 73348}, {\"Date\": \"2017-02-21\", \"Track Name\": \"Adventure Of A Lifetime\", \"Streams\": 49229}, {\"Date\": \"2017-02-21\", \"Track Name\": \"Hymn For The Weekend\", \"Streams\": 4356}, {\"Date\": \"2017-02-21\", \"Track Name\": \"Hymn For The Weekend - Seeb Remix\", \"Streams\": 78500}, {\"Date\": \"2017-02-21\", \"Track Name\": \"The Scientist\", \"Streams\": 1992}, {\"Date\": \"2017-02-22\", \"Track Name\": \"Adventure Of A Lifetime\", \"Streams\": 46176}, {\"Date\": \"2017-02-22\", \"Track Name\": \"Hymn For The Weekend\", \"Streams\": 5461}, {\"Date\": \"2017-02-22\", \"Track Name\": \"Hymn For The Weekend - Seeb Remix\", \"Streams\": 74106}, {\"Date\": \"2017-02-22\", \"Track Name\": \"The Scientist\", \"Streams\": 10641}, {\"Date\": \"2017-02-23\", \"Track Name\": \"Adventure Of A Lifetime\", \"Streams\": 43445}, {\"Date\": \"2017-02-23\", \"Track Name\": \"Hymn For The Weekend\", \"Streams\": 5341}, {\"Date\": \"2017-02-23\", \"Track Name\": \"Hymn For The Weekend - Seeb Remix\", \"Streams\": 80146}, {\"Date\": \"2017-02-24\", \"Track Name\": \"Adventure Of A Lifetime\", \"Streams\": 47009}, {\"Date\": \"2017-02-24\", \"Track Name\": \"Hymn For The Weekend\", \"Streams\": 6013}, {\"Date\": \"2017-02-24\", \"Track Name\": \"Hymn For The Weekend - Seeb Remix\", \"Streams\": 86948}, {\"Date\": \"2017-02-25\", \"Track Name\": \"Adventure Of A Lifetime\", \"Streams\": 45073}, {\"Date\": \"2017-02-25\", \"Track Name\": \"Hymn For The Weekend\", \"Streams\": 7906}, {\"Date\": \"2017-02-25\", \"Track Name\": \"Hymn For The Weekend - Seeb Remix\", \"Streams\": 86191}, {\"Date\": \"2017-02-26\", \"Track Name\": \"Adventure Of A Lifetime\", \"Streams\": 40829}, {\"Date\": \"2017-02-26\", \"Track Name\": \"Hymn For The Weekend\", \"Streams\": 4306}, {\"Date\": \"2017-02-26\", \"Track Name\": \"Hymn For The Weekend - Seeb Remix\", \"Streams\": 66486}, {\"Date\": \"2017-02-27\", \"Track Name\": \"A Head Full Of Dreams\", \"Streams\": 11007}, {\"Date\": \"2017-02-27\", \"Track Name\": \"Adventure Of A Lifetime\", \"Streams\": 2315}, {\"Date\": \"2017-02-27\", \"Track Name\": \"Hymn For The Weekend\", \"Streams\": 4453}, {\"Date\": \"2017-02-27\", \"Track Name\": \"Hymn For The Weekend - Seeb Remix\", \"Streams\": 72110}, {\"Date\": \"2017-02-28\", \"Track Name\": \"Adventure Of A Lifetime\", \"Streams\": 1758}, {\"Date\": \"2017-02-28\", \"Track Name\": \"Hymn For The Weekend\", \"Streams\": 5531}, {\"Date\": \"2017-02-28\", \"Track Name\": \"Hymn For The Weekend - Seeb Remix\", \"Streams\": 74103}, {\"Date\": \"2017-02-28\", \"Track Name\": \"The Scientist\", \"Streams\": 1732}, {\"Date\": \"2017-03-01\", \"Track Name\": \"Adventure Of A Lifetime\", \"Streams\": 2460}, {\"Date\": \"2017-03-01\", \"Track Name\": \"Hymn For The Weekend\", \"Streams\": 5284}, {\"Date\": \"2017-03-01\", \"Track Name\": \"Hymn For The Weekend - Seeb Remix\", \"Streams\": 72656}, {\"Date\": \"2017-03-01\", \"Track Name\": \"The Scientist\", \"Streams\": 11316}, {\"Date\": \"2017-03-02\", \"Track Name\": \"Adventure Of A Lifetime\", \"Streams\": 2393}, {\"Date\": \"2017-03-02\", \"Track Name\": \"Hymn For The Weekend\", \"Streams\": 5725}, {\"Date\": \"2017-03-02\", \"Track Name\": \"Hymn For The Weekend - Seeb Remix\", \"Streams\": 76014}, {\"Date\": \"2017-03-02\", \"Track Name\": \"Hypnotised\", \"Streams\": 32691}, {\"Date\": \"2017-03-02\", \"Track Name\": \"The Scientist\", \"Streams\": 2054}, {\"Date\": \"2017-03-03\", \"Track Name\": \"Adventure Of A Lifetime\", \"Streams\": 2976}, {\"Date\": \"2017-03-03\", \"Track Name\": \"Hymn For The Weekend\", \"Streams\": 6058}, {\"Date\": \"2017-03-03\", \"Track Name\": \"Hymn For The Weekend - Seeb Remix\", \"Streams\": 87816}, {\"Date\": \"2017-03-03\", \"Track Name\": \"Hypnotised\", \"Streams\": 427441}, {\"Date\": \"2017-03-04\", \"Track Name\": \"Adventure Of A Lifetime\", \"Streams\": 1975}, {\"Date\": \"2017-03-04\", \"Track Name\": \"Hymn For The Weekend\", \"Streams\": 8262}, {\"Date\": \"2017-03-04\", \"Track Name\": \"Hymn For The Weekend - Seeb Remix\", \"Streams\": 83502}, {\"Date\": \"2017-03-04\", \"Track Name\": \"Hypnotised\", \"Streams\": 117094}, {\"Date\": \"2017-03-05\", \"Track Name\": \"Hymn For The Weekend\", \"Streams\": 4413}, {\"Date\": \"2017-03-05\", \"Track Name\": \"Hymn For The Weekend - Seeb Remix\", \"Streams\": 66003}, {\"Date\": \"2017-03-05\", \"Track Name\": \"Hypnotised\", \"Streams\": 81657}, {\"Date\": \"2017-03-05\", \"Track Name\": \"The Scientist\", \"Streams\": 4504}, {\"Date\": \"2017-03-06\", \"Track Name\": \"Adventure Of A Lifetime\", \"Streams\": 2440}, {\"Date\": \"2017-03-06\", \"Track Name\": \"Hymn For The Weekend\", \"Streams\": 5608}, {\"Date\": \"2017-03-06\", \"Track Name\": \"Hymn For The Weekend - Seeb Remix\", \"Streams\": 67449}, {\"Date\": \"2017-03-06\", \"Track Name\": \"Hypnotised\", \"Streams\": 81645}, {\"Date\": \"2017-03-06\", \"Track Name\": \"The Scientist\", \"Streams\": 2061}, {\"Date\": \"2017-03-07\", \"Track Name\": \"Adventure Of A Lifetime\", \"Streams\": 2191}, {\"Date\": \"2017-03-07\", \"Track Name\": \"Everglow - Single Version\", \"Streams\": 16646}, {\"Date\": \"2017-03-07\", \"Track Name\": \"Hymn For The Weekend\", \"Streams\": 5696}, {\"Date\": \"2017-03-07\", \"Track Name\": \"Hymn For The Weekend - Seeb Remix\", \"Streams\": 79198}, {\"Date\": \"2017-03-07\", \"Track Name\": \"Hypnotised\", \"Streams\": 79012}, {\"Date\": \"2017-03-07\", \"Track Name\": \"The Scientist\", \"Streams\": 2097}, {\"Date\": \"2017-03-08\", \"Track Name\": \"Adventure Of A Lifetime\", \"Streams\": 2423}, {\"Date\": \"2017-03-08\", \"Track Name\": \"Everglow - Single Version\", \"Streams\": 18744}, {\"Date\": \"2017-03-08\", \"Track Name\": \"Hymn For The Weekend\", \"Streams\": 5439}, {\"Date\": \"2017-03-08\", \"Track Name\": \"Hymn For The Weekend - Seeb Remix\", \"Streams\": 72298}, {\"Date\": \"2017-03-08\", \"Track Name\": \"Hypnotised\", \"Streams\": 37433}, {\"Date\": \"2017-03-09\", \"Track Name\": \"Adventure Of A Lifetime\", \"Streams\": 2487}, {\"Date\": \"2017-03-09\", \"Track Name\": \"Everglow - Single Version\", \"Streams\": 18939}, {\"Date\": \"2017-03-09\", \"Track Name\": \"Hymn For The Weekend\", \"Streams\": 5704}, {\"Date\": \"2017-03-09\", \"Track Name\": \"Hymn For The Weekend - Seeb Remix\", \"Streams\": 81206}, {\"Date\": \"2017-03-09\", \"Track Name\": \"Hypnotised\", \"Streams\": 25926}, {\"Date\": \"2017-03-09\", \"Track Name\": \"The Scientist\", \"Streams\": 2304}, {\"Date\": \"2017-03-10\", \"Track Name\": \"Adventure Of A Lifetime\", \"Streams\": 2999}, {\"Date\": \"2017-03-10\", \"Track Name\": \"Hymn For The Weekend\", \"Streams\": 6327}, {\"Date\": \"2017-03-10\", \"Track Name\": \"Hymn For The Weekend - Seeb Remix\", \"Streams\": 86070}, {\"Date\": \"2017-03-10\", \"Track Name\": \"Hypnotised\", \"Streams\": 39958}, {\"Date\": \"2017-03-11\", \"Track Name\": \"Hymn For The Weekend\", \"Streams\": 8554}, {\"Date\": \"2017-03-11\", \"Track Name\": \"Hymn For The Weekend - Seeb Remix\", \"Streams\": 84346}, {\"Date\": \"2017-03-12\", \"Track Name\": \"Everglow - Single Version\", \"Streams\": 17986}, {\"Date\": \"2017-03-12\", \"Track Name\": \"Hymn For The Weekend\", \"Streams\": 5570}, {\"Date\": \"2017-03-12\", \"Track Name\": \"Hymn For The Weekend - Seeb Remix\", \"Streams\": 67125}, {\"Date\": \"2017-03-13\", \"Track Name\": \"Adventure Of A Lifetime\", \"Streams\": 2380}, {\"Date\": \"2017-03-13\", \"Track Name\": \"Hymn For The Weekend\", \"Streams\": 5556}, {\"Date\": \"2017-03-13\", \"Track Name\": \"Hymn For The Weekend - Seeb Remix\", \"Streams\": 71254}, {\"Date\": \"2017-03-13\", \"Track Name\": \"Hypnotised\", \"Streams\": 10692}, {\"Date\": \"2017-03-14\", \"Track Name\": \"Adventure Of A Lifetime\", \"Streams\": 2122}, {\"Date\": \"2017-03-14\", \"Track Name\": \"Everglow - Single Version\", \"Streams\": 17238}, {\"Date\": \"2017-03-14\", \"Track Name\": \"Hymn For The Weekend\", \"Streams\": 5644}, {\"Date\": \"2017-03-14\", \"Track Name\": \"Hymn For The Weekend - Seeb Remix\", \"Streams\": 78123}, {\"Date\": \"2017-03-14\", \"Track Name\": \"Hypnotised\", \"Streams\": 10804}, {\"Date\": \"2017-03-15\", \"Track Name\": \"Adventure Of A Lifetime\", \"Streams\": 2442}, {\"Date\": \"2017-03-15\", \"Track Name\": \"Everglow - Single Version\", \"Streams\": 20134}, {\"Date\": \"2017-03-15\", \"Track Name\": \"Hymn For The Weekend\", \"Streams\": 5607}, {\"Date\": \"2017-03-15\", \"Track Name\": \"Hymn For The Weekend - Seeb Remix\", \"Streams\": 73963}, {\"Date\": \"2017-03-15\", \"Track Name\": \"Hypnotised\", \"Streams\": 11390}, {\"Date\": \"2017-03-16\", \"Track Name\": \"Adventure Of A Lifetime\", \"Streams\": 2339}, {\"Date\": \"2017-03-16\", \"Track Name\": \"Everglow - Single Version\", \"Streams\": 17047}, {\"Date\": \"2017-03-16\", \"Track Name\": \"Hymn For The Weekend\", \"Streams\": 5824}, {\"Date\": \"2017-03-16\", \"Track Name\": \"Hymn For The Weekend - Seeb Remix\", \"Streams\": 82538}, {\"Date\": \"2017-03-16\", \"Track Name\": \"Hypnotised\", \"Streams\": 11251}, {\"Date\": \"2017-03-17\", \"Track Name\": \"Adventure Of A Lifetime\", \"Streams\": 2849}, {\"Date\": \"2017-03-17\", \"Track Name\": \"Hymn For The Weekend\", \"Streams\": 5974}, {\"Date\": \"2017-03-17\", \"Track Name\": \"Hymn For The Weekend - Seeb Remix\", \"Streams\": 85481}, {\"Date\": \"2017-03-17\", \"Track Name\": \"Hypnotised\", \"Streams\": 11280}, {\"Date\": \"2017-03-18\", \"Track Name\": \"Hymn For The Weekend\", \"Streams\": 8293}, {\"Date\": \"2017-03-18\", \"Track Name\": \"Hymn For The Weekend - Seeb Remix\", \"Streams\": 77774}, {\"Date\": \"2017-03-18\", \"Track Name\": \"Hypnotised\", \"Streams\": 10105}, {\"Date\": \"2017-03-19\", \"Track Name\": \"Hymn For The Weekend\", \"Streams\": 4368}, {\"Date\": \"2017-03-19\", \"Track Name\": \"Hymn For The Weekend - Seeb Remix\", \"Streams\": 56677}, {\"Date\": \"2017-03-20\", \"Track Name\": \"Hymn For The Weekend\", \"Streams\": 4386}, {\"Date\": \"2017-03-20\", \"Track Name\": \"Hymn For The Weekend - Seeb Remix\", \"Streams\": 62978}, {\"Date\": \"2017-03-21\", \"Track Name\": \"Hymn For The Weekend\", \"Streams\": 4557}, {\"Date\": \"2017-03-21\", \"Track Name\": \"Hymn For The Weekend - Seeb Remix\", \"Streams\": 71200}, {\"Date\": \"2017-03-22\", \"Track Name\": \"Hymn For The Weekend\", \"Streams\": 5519}, {\"Date\": \"2017-03-22\", \"Track Name\": \"Hymn For The Weekend - Seeb Remix\", \"Streams\": 64633}, {\"Date\": \"2017-03-22\", \"Track Name\": \"Hypnotised\", \"Streams\": 14143}, {\"Date\": \"2017-03-23\", \"Track Name\": \"Hymn For The Weekend\", \"Streams\": 4562}, {\"Date\": \"2017-03-23\", \"Track Name\": \"Hymn For The Weekend - Seeb Remix\", \"Streams\": 76880}, {\"Date\": \"2017-03-24\", \"Track Name\": \"Adventure Of A Lifetime\", \"Streams\": 2940}, {\"Date\": \"2017-03-24\", \"Track Name\": \"Hymn For The Weekend\", \"Streams\": 4925}, {\"Date\": \"2017-03-24\", \"Track Name\": \"Hymn For The Weekend - Seeb Remix\", \"Streams\": 81631}, {\"Date\": \"2017-03-25\", \"Track Name\": \"Hymn For The Weekend\", \"Streams\": 5084}, {\"Date\": \"2017-03-25\", \"Track Name\": \"Hymn For The Weekend - Seeb Remix\", \"Streams\": 80513}, {\"Date\": \"2017-03-26\", \"Track Name\": \"Hymn For The Weekend\", \"Streams\": 4349}, {\"Date\": \"2017-03-26\", \"Track Name\": \"Hymn For The Weekend - Seeb Remix\", \"Streams\": 56353}, {\"Date\": \"2017-03-27\", \"Track Name\": \"Adventure Of A Lifetime\", \"Streams\": 2430}, {\"Date\": \"2017-03-27\", \"Track Name\": \"Hymn For The Weekend\", \"Streams\": 4530}, {\"Date\": \"2017-03-27\", \"Track Name\": \"Hymn For The Weekend - Seeb Remix\", \"Streams\": 70160}, {\"Date\": \"2017-03-28\", \"Track Name\": \"Adventure Of A Lifetime\", \"Streams\": 20528}, {\"Date\": \"2017-03-28\", \"Track Name\": \"Hymn For The Weekend\", \"Streams\": 4550}, {\"Date\": \"2017-03-28\", \"Track Name\": \"Hymn For The Weekend - Seeb Remix\", \"Streams\": 83266}, {\"Date\": \"2017-03-29\", \"Track Name\": \"Adventure Of A Lifetime\", \"Streams\": 19083}, {\"Date\": \"2017-03-29\", \"Track Name\": \"Hymn For The Weekend\", \"Streams\": 4437}, {\"Date\": \"2017-03-29\", \"Track Name\": \"Hymn For The Weekend - Seeb Remix\", \"Streams\": 71925}, {\"Date\": \"2017-03-30\", \"Track Name\": \"Adventure Of A Lifetime\", \"Streams\": 2411}, {\"Date\": \"2017-03-30\", \"Track Name\": \"Hymn For The Weekend\", \"Streams\": 4505}, {\"Date\": \"2017-03-30\", \"Track Name\": \"Hymn For The Weekend - Seeb Remix\", \"Streams\": 81162}, {\"Date\": \"2017-03-31\", \"Track Name\": \"Adventure Of A Lifetime\", \"Streams\": 3167}, {\"Date\": \"2017-03-31\", \"Track Name\": \"Hymn For The Weekend\", \"Streams\": 5094}, {\"Date\": \"2017-03-31\", \"Track Name\": \"Hymn For The Weekend - Seeb Remix\", \"Streams\": 80852}, {\"Date\": \"2017-04-01\", \"Track Name\": \"Hymn For The Weekend\", \"Streams\": 5092}, {\"Date\": \"2017-04-01\", \"Track Name\": \"Hymn For The Weekend - Seeb Remix\", \"Streams\": 74212}, {\"Date\": \"2017-04-02\", \"Track Name\": \"Hymn For The Weekend\", \"Streams\": 5484}, {\"Date\": \"2017-04-02\", \"Track Name\": \"Hymn For The Weekend - Seeb Remix\", \"Streams\": 40516}, {\"Date\": \"2017-04-03\", \"Track Name\": \"Adventure Of A Lifetime\", \"Streams\": 2418}, {\"Date\": \"2017-04-03\", \"Track Name\": \"Hymn For The Weekend\", \"Streams\": 4193}, {\"Date\": \"2017-04-03\", \"Track Name\": \"Hymn For The Weekend - Seeb Remix\", \"Streams\": 63379}, {\"Date\": \"2017-04-04\", \"Track Name\": \"Adventure Of A Lifetime\", \"Streams\": 19094}, {\"Date\": \"2017-04-04\", \"Track Name\": \"Hymn For The Weekend\", \"Streams\": 4242}, {\"Date\": \"2017-04-04\", \"Track Name\": \"Hymn For The Weekend - Seeb Remix\", \"Streams\": 78079}, {\"Date\": \"2017-04-05\", \"Track Name\": \"Adventure Of A Lifetime\", \"Streams\": 2484}, {\"Date\": \"2017-04-05\", \"Track Name\": \"Hymn For The Weekend\", \"Streams\": 4423}, {\"Date\": \"2017-04-05\", \"Track Name\": \"Hymn For The Weekend - Seeb Remix\", \"Streams\": 54625}, {\"Date\": \"2017-04-06\", \"Track Name\": \"Adventure Of A Lifetime\", \"Streams\": 2527}, {\"Date\": \"2017-04-06\", \"Track Name\": \"Clocks\", \"Streams\": 5234}, {\"Date\": \"2017-04-06\", \"Track Name\": \"Hymn For The Weekend\", \"Streams\": 4599}, {\"Date\": \"2017-04-06\", \"Track Name\": \"Hymn For The Weekend - Seeb Remix\", \"Streams\": 60554}, {\"Date\": \"2017-04-07\", \"Track Name\": \"Adventure Of A Lifetime\", \"Streams\": 3144}, {\"Date\": \"2017-04-07\", \"Track Name\": \"Hymn For The Weekend\", \"Streams\": 4717}, {\"Date\": \"2017-04-07\", \"Track Name\": \"Hymn For The Weekend - Seeb Remix\", \"Streams\": 61759}, {\"Date\": \"2017-04-08\", \"Track Name\": \"Hymn For The Weekend\", \"Streams\": 5024}, {\"Date\": \"2017-04-08\", \"Track Name\": \"Hymn For The Weekend - Seeb Remix\", \"Streams\": 73242}, {\"Date\": \"2017-04-09\", \"Track Name\": \"Hymn For The Weekend\", \"Streams\": 4075}, {\"Date\": \"2017-04-09\", \"Track Name\": \"Hymn For The Weekend - Seeb Remix\", \"Streams\": 31729}, {\"Date\": \"2017-04-09\", \"Track Name\": \"The Scientist\", \"Streams\": 1060}, {\"Date\": \"2017-04-09\", \"Track Name\": \"Viva La Vida\", \"Streams\": 37995}, {\"Date\": \"2017-04-10\", \"Track Name\": \"Adventure Of A Lifetime\", \"Streams\": 2467}, {\"Date\": \"2017-04-10\", \"Track Name\": \"Hymn For The Weekend\", \"Streams\": 4287}, {\"Date\": \"2017-04-10\", \"Track Name\": \"Hymn For The Weekend - Seeb Remix\", \"Streams\": 60703}, {\"Date\": \"2017-04-11\", \"Track Name\": \"Adventure Of A Lifetime\", \"Streams\": 19008}, {\"Date\": \"2017-04-11\", \"Track Name\": \"Hymn For The Weekend\", \"Streams\": 4265}, {\"Date\": \"2017-04-11\", \"Track Name\": \"Hymn For The Weekend - Seeb Remix\", \"Streams\": 74656}, {\"Date\": \"2017-04-12\", \"Track Name\": \"Adventure Of A Lifetime\", \"Streams\": 2397}, {\"Date\": \"2017-04-12\", \"Track Name\": \"Hymn For The Weekend\", \"Streams\": 4522}, {\"Date\": \"2017-04-12\", \"Track Name\": \"Hymn For The Weekend - Seeb Remix\", \"Streams\": 57861}, {\"Date\": \"2017-04-13\", \"Track Name\": \"Adventure Of A Lifetime\", \"Streams\": 2272}, {\"Date\": \"2017-04-13\", \"Track Name\": \"Hymn For The Weekend\", \"Streams\": 6367}, {\"Date\": \"2017-04-13\", \"Track Name\": \"Hymn For The Weekend - Seeb Remix\", \"Streams\": 56745}, {\"Date\": \"2017-04-14\", \"Track Name\": \"Adventure Of A Lifetime\", \"Streams\": 2009}, {\"Date\": \"2017-04-14\", \"Track Name\": \"Everglow - Single Version\", \"Streams\": 19694}, {\"Date\": \"2017-04-14\", \"Track Name\": \"Hymn For The Weekend\", \"Streams\": 4826}, {\"Date\": \"2017-04-14\", \"Track Name\": \"Hymn For The Weekend - Seeb Remix\", \"Streams\": 45186}, {\"Date\": \"2017-04-15\", \"Track Name\": \"Everglow - Single Version\", \"Streams\": 23238}, {\"Date\": \"2017-04-15\", \"Track Name\": \"Hymn For The Weekend\", \"Streams\": 4025}, {\"Date\": \"2017-04-15\", \"Track Name\": \"Hymn For The Weekend - Seeb Remix\", \"Streams\": 66976}, {\"Date\": \"2017-04-16\", \"Track Name\": \"Everglow - Single Version\", \"Streams\": 17698}, {\"Date\": \"2017-04-16\", \"Track Name\": \"Hymn For The Weekend\", \"Streams\": 3146}, {\"Date\": \"2017-04-16\", \"Track Name\": \"Hymn For The Weekend - Seeb Remix\", \"Streams\": 31973}, {\"Date\": \"2017-04-17\", \"Track Name\": \"Hymn For The Weekend\", \"Streams\": 3644}, {\"Date\": \"2017-04-17\", \"Track Name\": \"Hymn For The Weekend - Seeb Remix\", \"Streams\": 56320}, {\"Date\": \"2017-04-18\", \"Track Name\": \"Adventure Of A Lifetime\", \"Streams\": 18550}, {\"Date\": \"2017-04-18\", \"Track Name\": \"Hymn For The Weekend\", \"Streams\": 4258}, {\"Date\": \"2017-04-18\", \"Track Name\": \"Hymn For The Weekend - Seeb Remix\", \"Streams\": 55314}, {\"Date\": \"2017-04-19\", \"Track Name\": \"Adventure Of A Lifetime\", \"Streams\": 2141}, {\"Date\": \"2017-04-19\", \"Track Name\": \"Hymn For The Weekend\", \"Streams\": 4209}, {\"Date\": \"2017-04-19\", \"Track Name\": \"Hymn For The Weekend - Seeb Remix\", \"Streams\": 43032}, {\"Date\": \"2017-04-20\", \"Track Name\": \"Adventure Of A Lifetime\", \"Streams\": 2187}, {\"Date\": \"2017-04-20\", \"Track Name\": \"Hymn For The Weekend\", \"Streams\": 4189}, {\"Date\": \"2017-04-20\", \"Track Name\": \"Hymn For The Weekend - Seeb Remix\", \"Streams\": 42169}, {\"Date\": \"2017-04-21\", \"Track Name\": \"Adventure Of A Lifetime\", \"Streams\": 2855}, {\"Date\": \"2017-04-21\", \"Track Name\": \"Hymn For The Weekend\", \"Streams\": 4473}, {\"Date\": \"2017-04-21\", \"Track Name\": \"Hymn For The Weekend - Seeb Remix\", \"Streams\": 43598}, {\"Date\": \"2017-04-22\", \"Track Name\": \"Hymn For The Weekend\", \"Streams\": 4480}, {\"Date\": \"2017-04-22\", \"Track Name\": \"Hymn For The Weekend - Seeb Remix\", \"Streams\": 49813}, {\"Date\": \"2017-04-23\", \"Track Name\": \"Hymn For The Weekend\", \"Streams\": 3631}, {\"Date\": \"2017-04-23\", \"Track Name\": \"Hymn For The Weekend - Seeb Remix\", \"Streams\": 16530}, {\"Date\": \"2017-04-24\", \"Track Name\": \"Adventure Of A Lifetime\", \"Streams\": 2172}, {\"Date\": \"2017-04-24\", \"Track Name\": \"Hymn For The Weekend\", \"Streams\": 3868}, {\"Date\": \"2017-04-24\", \"Track Name\": \"Hymn For The Weekend - Seeb Remix\", \"Streams\": 45532}, {\"Date\": \"2017-04-25\", \"Track Name\": \"Adventure Of A Lifetime\", \"Streams\": 18392}, {\"Date\": \"2017-04-25\", \"Track Name\": \"Hymn For The Weekend\", \"Streams\": 5204}, {\"Date\": \"2017-04-25\", \"Track Name\": \"Hymn For The Weekend - Seeb Remix\", \"Streams\": 42577}, {\"Date\": \"2017-04-26\", \"Track Name\": \"Adventure Of A Lifetime\", \"Streams\": 2148}, {\"Date\": \"2017-04-26\", \"Track Name\": \"Hymn For The Weekend\", \"Streams\": 4075}, {\"Date\": \"2017-04-26\", \"Track Name\": \"Hymn For The Weekend - Seeb Remix\", \"Streams\": 38248}, {\"Date\": \"2017-04-27\", \"Track Name\": \"Adventure Of A Lifetime\", \"Streams\": 2123}, {\"Date\": \"2017-04-27\", \"Track Name\": \"Hymn For The Weekend\", \"Streams\": 4010}, {\"Date\": \"2017-04-27\", \"Track Name\": \"Hymn For The Weekend - Seeb Remix\", \"Streams\": 40155}, {\"Date\": \"2017-04-28\", \"Track Name\": \"Adventure Of A Lifetime\", \"Streams\": 2713}, {\"Date\": \"2017-04-28\", \"Track Name\": \"Hymn For The Weekend\", \"Streams\": 4535}, {\"Date\": \"2017-04-28\", \"Track Name\": \"Hymn For The Weekend - Seeb Remix\", \"Streams\": 43320}, {\"Date\": \"2017-04-29\", \"Track Name\": \"Hymn For The Weekend\", \"Streams\": 4542}, {\"Date\": \"2017-04-29\", \"Track Name\": \"Hymn For The Weekend - Seeb Remix\", \"Streams\": 34631}, {\"Date\": \"2017-04-30\", \"Track Name\": \"Hymn For The Weekend\", \"Streams\": 3872}, {\"Date\": \"2017-04-30\", \"Track Name\": \"Hymn For The Weekend - Seeb Remix\", \"Streams\": 30341}, {\"Date\": \"2017-05-01\", \"Track Name\": \"Hymn For The Weekend\", \"Streams\": 4050}, {\"Date\": \"2017-05-01\", \"Track Name\": \"Hymn For The Weekend - Seeb Remix\", \"Streams\": 24752}, {\"Date\": \"2017-05-02\", \"Track Name\": \"Adventure Of A Lifetime\", \"Streams\": 16994}, {\"Date\": \"2017-05-02\", \"Track Name\": \"Hymn For The Weekend\", \"Streams\": 4118}, {\"Date\": \"2017-05-02\", \"Track Name\": \"Hymn For The Weekend - Seeb Remix\", \"Streams\": 52466}, {\"Date\": \"2017-05-03\", \"Track Name\": \"Adventure Of A Lifetime\", \"Streams\": 2171}, {\"Date\": \"2017-05-03\", \"Track Name\": \"Hymn For The Weekend\", \"Streams\": 3833}, {\"Date\": \"2017-05-03\", \"Track Name\": \"Hymn For The Weekend - Seeb Remix\", \"Streams\": 37780}, {\"Date\": \"2017-05-04\", \"Track Name\": \"Hymn For The Weekend\", \"Streams\": 3956}, {\"Date\": \"2017-05-04\", \"Track Name\": \"Hymn For The Weekend - Seeb Remix\", \"Streams\": 38467}, {\"Date\": \"2017-05-04\", \"Track Name\": \"Viva La Vida\", \"Streams\": 58826}, {\"Date\": \"2017-05-05\", \"Track Name\": \"Adventure Of A Lifetime\", \"Streams\": 2702}, {\"Date\": \"2017-05-05\", \"Track Name\": \"Hymn For The Weekend\", \"Streams\": 4346}, {\"Date\": \"2017-05-05\", \"Track Name\": \"Hymn For The Weekend - Seeb Remix\", \"Streams\": 43451}, {\"Date\": \"2017-05-06\", \"Track Name\": \"Hymn For The Weekend\", \"Streams\": 4107}, {\"Date\": \"2017-05-06\", \"Track Name\": \"Hymn For The Weekend - Seeb Remix\", \"Streams\": 25851}, {\"Date\": \"2017-05-07\", \"Track Name\": \"Hymn For The Weekend\", \"Streams\": 3817}, {\"Date\": \"2017-05-07\", \"Track Name\": \"Hymn For The Weekend - Seeb Remix\", \"Streams\": 14848}, {\"Date\": \"2017-05-08\", \"Track Name\": \"Adventure Of A Lifetime\", \"Streams\": 2185}, {\"Date\": \"2017-05-08\", \"Track Name\": \"Hymn For The Weekend\", \"Streams\": 3964}, {\"Date\": \"2017-05-08\", \"Track Name\": \"Hymn For The Weekend - Seeb Remix\", \"Streams\": 18334}, {\"Date\": \"2017-05-09\", \"Track Name\": \"Adventure Of A Lifetime\", \"Streams\": 18072}, {\"Date\": \"2017-05-09\", \"Track Name\": \"Hymn For The Weekend\", \"Streams\": 3870}, {\"Date\": \"2017-05-09\", \"Track Name\": \"Hymn For The Weekend - Seeb Remix\", \"Streams\": 42320}, {\"Date\": \"2017-05-10\", \"Track Name\": \"Hymn For The Weekend - Seeb Remix\", \"Streams\": 35396}, {\"Date\": \"2017-05-11\", \"Track Name\": \"Adventure Of A Lifetime\", \"Streams\": 2141}, {\"Date\": \"2017-05-11\", \"Track Name\": \"Hymn For The Weekend\", \"Streams\": 4068}, {\"Date\": \"2017-05-11\", \"Track Name\": \"Hymn For The Weekend - Seeb Remix\", \"Streams\": 36591}, {\"Date\": \"2017-05-12\", \"Track Name\": \"Adventure Of A Lifetime\", \"Streams\": 2527}, {\"Date\": \"2017-05-12\", \"Track Name\": \"Hymn For The Weekend - Seeb Remix\", \"Streams\": 24772}, {\"Date\": \"2017-05-13\", \"Track Name\": \"Hymn For The Weekend - Seeb Remix\", \"Streams\": 20556}, {\"Date\": \"2017-05-16\", \"Track Name\": \"Hymn For The Weekend - Seeb Remix\", \"Streams\": 50834}, {\"Date\": \"2017-05-17\", \"Track Name\": \"Hymn For The Weekend - Seeb Remix\", \"Streams\": 28976}, {\"Date\": \"2017-05-19\", \"Track Name\": \"Hymn For The Weekend - Seeb Remix\", \"Streams\": 23749}, {\"Date\": \"2017-05-20\", \"Track Name\": \"Hymn For The Weekend - Seeb Remix\", \"Streams\": 19168}, {\"Date\": \"2017-05-22\", \"Track Name\": \"Hymn For The Weekend - Seeb Remix\", \"Streams\": 26680}, {\"Date\": \"2017-05-23\", \"Track Name\": \"Adventure Of A Lifetime\", \"Streams\": 16909}, {\"Date\": \"2017-05-23\", \"Track Name\": \"Hymn For The Weekend - Seeb Remix\", \"Streams\": 51160}, {\"Date\": \"2017-05-24\", \"Track Name\": \"Hymn For The Weekend - Seeb Remix\", \"Streams\": 39599}, {\"Date\": \"2017-05-25\", \"Track Name\": \"Hymn For The Weekend - Seeb Remix\", \"Streams\": 2338}, {\"Date\": \"2017-05-26\", \"Track Name\": \"Adventure Of A Lifetime\", \"Streams\": 2513}, {\"Date\": \"2017-05-26\", \"Track Name\": \"Hymn For The Weekend - Seeb Remix\", \"Streams\": 23072}, {\"Date\": \"2017-05-27\", \"Track Name\": \"Hymn For The Weekend - Seeb Remix\", \"Streams\": 21169}, {\"Date\": \"2017-05-29\", \"Track Name\": \"Hymn For The Weekend - Seeb Remix\", \"Streams\": 2280}, {\"Date\": \"2017-06-03\", \"Track Name\": \"Hymn For The Weekend - Seeb Remix\", \"Streams\": 18067}, {\"Date\": \"2017-06-04\", \"Track Name\": \"Fix You\", \"Streams\": 33918}, {\"Date\": \"2017-06-04\", \"Track Name\": \"Viva La Vida\", \"Streams\": 37718}, {\"Date\": \"2017-06-05\", \"Track Name\": \"Adventure Of A Lifetime\", \"Streams\": 2589}, {\"Date\": \"2017-06-05\", \"Track Name\": \"Fix You\", \"Streams\": 124431}, {\"Date\": \"2017-06-05\", \"Track Name\": \"Hymn For The Weekend\", \"Streams\": 49385}, {\"Date\": \"2017-06-05\", \"Track Name\": \"Hymn For The Weekend - Seeb Remix\", \"Streams\": 24820}, {\"Date\": \"2017-06-05\", \"Track Name\": \"The Scientist\", \"Streams\": 63470}, {\"Date\": \"2017-06-05\", \"Track Name\": \"Viva La Vida\", \"Streams\": 63516}, {\"Date\": \"2017-06-06\", \"Track Name\": \"Adventure Of A Lifetime\", \"Streams\": 2623}, {\"Date\": \"2017-06-06\", \"Track Name\": \"Fix You\", \"Streams\": 96832}, {\"Date\": \"2017-06-06\", \"Track Name\": \"Hymn For The Weekend\", \"Streams\": 5785}, {\"Date\": \"2017-06-06\", \"Track Name\": \"Hymn For The Weekend - Seeb Remix\", \"Streams\": 38460}, {\"Date\": \"2017-06-06\", \"Track Name\": \"The Scientist\", \"Streams\": 51360}, {\"Date\": \"2017-06-06\", \"Track Name\": \"Viva La Vida\", \"Streams\": 58770}, {\"Date\": \"2017-06-07\", \"Track Name\": \"Adventure Of A Lifetime\", \"Streams\": 2768}, {\"Date\": \"2017-06-07\", \"Track Name\": \"Fix You\", \"Streams\": 79582}, {\"Date\": \"2017-06-07\", \"Track Name\": \"Hymn For The Weekend\", \"Streams\": 7894}, {\"Date\": \"2017-06-07\", \"Track Name\": \"Hymn For The Weekend - Seeb Remix\", \"Streams\": 21577}, {\"Date\": \"2017-06-07\", \"Track Name\": \"The Scientist\", \"Streams\": 53654}, {\"Date\": \"2017-06-07\", \"Track Name\": \"Viva La Vida\", \"Streams\": 57013}, {\"Date\": \"2017-06-08\", \"Track Name\": \"Adventure Of A Lifetime\", \"Streams\": 2761}, {\"Date\": \"2017-06-08\", \"Track Name\": \"Fix You\", \"Streams\": 72073}, {\"Date\": \"2017-06-08\", \"Track Name\": \"Hymn For The Weekend\", \"Streams\": 6240}, {\"Date\": \"2017-06-08\", \"Track Name\": \"Hymn For The Weekend - Seeb Remix\", \"Streams\": 22642}, {\"Date\": \"2017-06-08\", \"Track Name\": \"The Scientist\", \"Streams\": 12559}, {\"Date\": \"2017-06-08\", \"Track Name\": \"Viva La Vida\", \"Streams\": 53064}, {\"Date\": \"2017-06-09\", \"Track Name\": \"Adventure Of A Lifetime\", \"Streams\": 2964}, {\"Date\": \"2017-06-09\", \"Track Name\": \"Fix You\", \"Streams\": 46508}, {\"Date\": \"2017-06-09\", \"Track Name\": \"Hymn For The Weekend\", \"Streams\": 6368}, {\"Date\": \"2017-06-09\", \"Track Name\": \"Hymn For The Weekend - Seeb Remix\", \"Streams\": 25110}, {\"Date\": \"2017-06-09\", \"Track Name\": \"The Scientist\", \"Streams\": 2685}, {\"Date\": \"2017-06-09\", \"Track Name\": \"Viva La Vida\", \"Streams\": 47074}, {\"Date\": \"2017-06-10\", \"Track Name\": \"Fix You\", \"Streams\": 45344}, {\"Date\": \"2017-06-10\", \"Track Name\": \"Hymn For The Weekend\", \"Streams\": 7776}, {\"Date\": \"2017-06-10\", \"Track Name\": \"Hymn For The Weekend - Seeb Remix\", \"Streams\": 23605}, {\"Date\": \"2017-06-10\", \"Track Name\": \"The Scientist\", \"Streams\": 5355}, {\"Date\": \"2017-06-10\", \"Track Name\": \"Viva La Vida\", \"Streams\": 51954}, {\"Date\": \"2017-06-11\", \"Track Name\": \"Adventure Of A Lifetime\", \"Streams\": 1978}, {\"Date\": \"2017-06-11\", \"Track Name\": \"Fix You\", \"Streams\": 59369}, {\"Date\": \"2017-06-11\", \"Track Name\": \"Hymn For The Weekend\", \"Streams\": 8306}, {\"Date\": \"2017-06-11\", \"Track Name\": \"Hymn For The Weekend - Seeb Remix\", \"Streams\": 16263}, {\"Date\": \"2017-06-11\", \"Track Name\": \"The Scientist\", \"Streams\": 12068}, {\"Date\": \"2017-06-11\", \"Track Name\": \"Viva La Vida\", \"Streams\": 48638}, {\"Date\": \"2017-06-12\", \"Track Name\": \"Adventure Of A Lifetime\", \"Streams\": 4906}, {\"Date\": \"2017-06-12\", \"Track Name\": \"Everglow\", \"Streams\": 2046}, {\"Date\": \"2017-06-12\", \"Track Name\": \"Fix You\", \"Streams\": 59737}, {\"Date\": \"2017-06-12\", \"Track Name\": \"Hymn For The Weekend\", \"Streams\": 9005}, {\"Date\": \"2017-06-12\", \"Track Name\": \"Hymn For The Weekend - Seeb Remix\", \"Streams\": 22431}, {\"Date\": \"2017-06-12\", \"Track Name\": \"Paradise\", \"Streams\": 2168}, {\"Date\": \"2017-06-12\", \"Track Name\": \"The Scientist\", \"Streams\": 12797}, {\"Date\": \"2017-06-12\", \"Track Name\": \"Viva La Vida\", \"Streams\": 45180}, {\"Date\": \"2017-06-12\", \"Track Name\": \"Yellow\", \"Streams\": 1961}, {\"Date\": \"2017-06-13\", \"Track Name\": \"Adventure Of A Lifetime\", \"Streams\": 1870}, {\"Date\": \"2017-06-13\", \"Track Name\": \"Fix You\", \"Streams\": 42630}, {\"Date\": \"2017-06-13\", \"Track Name\": \"Hymn For The Weekend\", \"Streams\": 8408}, {\"Date\": \"2017-06-13\", \"Track Name\": \"Hymn For The Weekend - Seeb Remix\", \"Streams\": 21681}, {\"Date\": \"2017-06-13\", \"Track Name\": \"The Scientist\", \"Streams\": 6373}, {\"Date\": \"2017-06-13\", \"Track Name\": \"Viva La Vida\", \"Streams\": 48172}, {\"Date\": \"2017-06-14\", \"Track Name\": \"Fix You\", \"Streams\": 3139}, {\"Date\": \"2017-06-14\", \"Track Name\": \"Hymn For The Weekend\", \"Streams\": 8607}, {\"Date\": \"2017-06-14\", \"Track Name\": \"Hymn For The Weekend - Seeb Remix\", \"Streams\": 22462}, {\"Date\": \"2017-06-14\", \"Track Name\": \"The Scientist\", \"Streams\": 5847}, {\"Date\": \"2017-06-14\", \"Track Name\": \"Viva La Vida\", \"Streams\": 44066}, {\"Date\": \"2017-06-15\", \"Track Name\": \"Fix You\", \"Streams\": 3134}, {\"Date\": \"2017-06-15\", \"Track Name\": \"Hymn For The Weekend\", \"Streams\": 6558}, {\"Date\": \"2017-06-15\", \"Track Name\": \"Hymn For The Weekend - Seeb Remix\", \"Streams\": 19893}, {\"Date\": \"2017-06-15\", \"Track Name\": \"The Scientist\", \"Streams\": 5558}, {\"Date\": \"2017-06-15\", \"Track Name\": \"Viva La Vida\", \"Streams\": 43077}, {\"Date\": \"2017-06-16\", \"Track Name\": \"All I Can Think About Is You\", \"Streams\": 336057}, {\"Date\": \"2017-06-16\", \"Track Name\": \"Hymn For The Weekend\", \"Streams\": 6827}, {\"Date\": \"2017-06-16\", \"Track Name\": \"Hymn For The Weekend - Seeb Remix\", \"Streams\": 25385}, {\"Date\": \"2017-06-16\", \"Track Name\": \"The Scientist\", \"Streams\": 1279}, {\"Date\": \"2017-06-17\", \"Track Name\": \"All I Can Think About Is You\", \"Streams\": 30694}, {\"Date\": \"2017-06-17\", \"Track Name\": \"Hymn For The Weekend\", \"Streams\": 6904}, {\"Date\": \"2017-06-17\", \"Track Name\": \"Hymn For The Weekend - Seeb Remix\", \"Streams\": 24622}, {\"Date\": \"2017-06-17\", \"Track Name\": \"The Scientist\", \"Streams\": 3466}, {\"Date\": \"2017-06-17\", \"Track Name\": \"Viva La Vida\", \"Streams\": 54211}, {\"Date\": \"2017-06-18\", \"Track Name\": \"Adventure Of A Lifetime\", \"Streams\": 4938}, {\"Date\": \"2017-06-18\", \"Track Name\": \"All I Can Think About Is You\", \"Streams\": 1936}, {\"Date\": \"2017-06-18\", \"Track Name\": \"Fix You\", \"Streams\": 17784}, {\"Date\": \"2017-06-18\", \"Track Name\": \"Hymn For The Weekend\", \"Streams\": 8347}, {\"Date\": \"2017-06-18\", \"Track Name\": \"Hymn For The Weekend - Seeb Remix\", \"Streams\": 21826}, {\"Date\": \"2017-06-18\", \"Track Name\": \"The Scientist\", \"Streams\": 10467}, {\"Date\": \"2017-06-18\", \"Track Name\": \"Viva La Vida\", \"Streams\": 50709}, {\"Date\": \"2017-06-19\", \"Track Name\": \"A Sky Full of Stars\", \"Streams\": 5172}, {\"Date\": \"2017-06-19\", \"Track Name\": \"Adventure Of A Lifetime\", \"Streams\": 6988}, {\"Date\": \"2017-06-19\", \"Track Name\": \"All I Can Think About Is You\", \"Streams\": 68013}, {\"Date\": \"2017-06-19\", \"Track Name\": \"Fix You\", \"Streams\": 5470}, {\"Date\": \"2017-06-19\", \"Track Name\": \"Hymn For The Weekend\", \"Streams\": 13661}, {\"Date\": \"2017-06-19\", \"Track Name\": \"Hymn For The Weekend - Seeb Remix\", \"Streams\": 25730}, {\"Date\": \"2017-06-19\", \"Track Name\": \"Paradise\", \"Streams\": 5648}, {\"Date\": \"2017-06-19\", \"Track Name\": \"The Scientist\", \"Streams\": 12579}, {\"Date\": \"2017-06-19\", \"Track Name\": \"Viva La Vida\", \"Streams\": 5531}, {\"Date\": \"2017-06-20\", \"Track Name\": \"Adventure Of A Lifetime\", \"Streams\": 5705}, {\"Date\": \"2017-06-20\", \"Track Name\": \"All I Can Think About Is You\", \"Streams\": 5570}, {\"Date\": \"2017-06-20\", \"Track Name\": \"Fix You\", \"Streams\": 19776}, {\"Date\": \"2017-06-20\", \"Track Name\": \"Hymn For The Weekend\", \"Streams\": 13212}, {\"Date\": \"2017-06-20\", \"Track Name\": \"Hymn For The Weekend - Seeb Remix\", \"Streams\": 21504}, {\"Date\": \"2017-06-20\", \"Track Name\": \"The Scientist\", \"Streams\": 12450}, {\"Date\": \"2017-06-20\", \"Track Name\": \"Viva La Vida\", \"Streams\": 45628}, {\"Date\": \"2017-06-21\", \"Track Name\": \"A Head Full Of Dreams\", \"Streams\": 3978}, {\"Date\": \"2017-06-21\", \"Track Name\": \"A Sky Full of Stars\", \"Streams\": 3518}, {\"Date\": \"2017-06-21\", \"Track Name\": \"Adventure Of A Lifetime\", \"Streams\": 11880}, {\"Date\": \"2017-06-21\", \"Track Name\": \"All I Can Think About Is You\", \"Streams\": 3558}, {\"Date\": \"2017-06-21\", \"Track Name\": \"Birds\", \"Streams\": 3251}, {\"Date\": \"2017-06-21\", \"Track Name\": \"Everglow\", \"Streams\": 3187}, {\"Date\": \"2017-06-21\", \"Track Name\": \"Fix You\", \"Streams\": 22139}, {\"Date\": \"2017-06-21\", \"Track Name\": \"Hymn For The Weekend\", \"Streams\": 14434}, {\"Date\": \"2017-06-21\", \"Track Name\": \"Hymn For The Weekend - Seeb Remix\", \"Streams\": 25988}, {\"Date\": \"2017-06-21\", \"Track Name\": \"Paradise\", \"Streams\": 4029}, {\"Date\": \"2017-06-21\", \"Track Name\": \"The Scientist\", \"Streams\": 13529}, {\"Date\": \"2017-06-21\", \"Track Name\": \"Viva La Vida\", \"Streams\": 7704}, {\"Date\": \"2017-06-21\", \"Track Name\": \"Yellow\", \"Streams\": 3206}, {\"Date\": \"2017-06-22\", \"Track Name\": \"A Head Full Of Dreams\", \"Streams\": 5657}, {\"Date\": \"2017-06-22\", \"Track Name\": \"A Sky Full of Stars\", \"Streams\": 4658}, {\"Date\": \"2017-06-22\", \"Track Name\": \"Adventure Of A Lifetime\", \"Streams\": 6422}, {\"Date\": \"2017-06-22\", \"Track Name\": \"All I Can Think About Is You\", \"Streams\": 4114}, {\"Date\": \"2017-06-22\", \"Track Name\": \"Birds\", \"Streams\": 4302}, {\"Date\": \"2017-06-22\", \"Track Name\": \"Clocks\", \"Streams\": 3402}, {\"Date\": \"2017-06-22\", \"Track Name\": \"Everglow\", \"Streams\": 4433}, {\"Date\": \"2017-06-22\", \"Track Name\": \"Fix You\", \"Streams\": 28238}, {\"Date\": \"2017-06-22\", \"Track Name\": \"Hymn For The Weekend\", \"Streams\": 15880}, {\"Date\": \"2017-06-22\", \"Track Name\": \"Hymn For The Weekend - Seeb Remix\", \"Streams\": 28492}, {\"Date\": \"2017-06-22\", \"Track Name\": \"Magic\", \"Streams\": 3701}, {\"Date\": \"2017-06-22\", \"Track Name\": \"Paradise\", \"Streams\": 5463}, {\"Date\": \"2017-06-22\", \"Track Name\": \"The Scientist\", \"Streams\": 10475}, {\"Date\": \"2017-06-22\", \"Track Name\": \"Up&Up\", \"Streams\": 4453}, {\"Date\": \"2017-06-22\", \"Track Name\": \"Viva La Vida\", \"Streams\": 9092}, {\"Date\": \"2017-06-22\", \"Track Name\": \"Yellow\", \"Streams\": 4723}, {\"Date\": \"2017-06-23\", \"Track Name\": \"A Head Full Of Dreams\", \"Streams\": 5114}, {\"Date\": \"2017-06-23\", \"Track Name\": \"A Sky Full of Stars\", \"Streams\": 4832}, {\"Date\": \"2017-06-23\", \"Track Name\": \"Adventure Of A Lifetime\", \"Streams\": 6121}, {\"Date\": \"2017-06-23\", \"Track Name\": \"Birds\", \"Streams\": 3563}, {\"Date\": \"2017-06-23\", \"Track Name\": \"Everglow\", \"Streams\": 4251}, {\"Date\": \"2017-06-23\", \"Track Name\": \"Fix You\", \"Streams\": 6664}, {\"Date\": \"2017-06-23\", \"Track Name\": \"Hymn For The Weekend\", \"Streams\": 14999}, {\"Date\": \"2017-06-23\", \"Track Name\": \"Hymn For The Weekend - Seeb Remix\", \"Streams\": 6948}, {\"Date\": \"2017-06-23\", \"Track Name\": \"Magic\", \"Streams\": 3716}, {\"Date\": \"2017-06-23\", \"Track Name\": \"Paradise\", \"Streams\": 5145}, {\"Date\": \"2017-06-23\", \"Track Name\": \"The Scientist\", \"Streams\": 7596}, {\"Date\": \"2017-06-23\", \"Track Name\": \"Up&Up\", \"Streams\": 4162}, {\"Date\": \"2017-06-23\", \"Track Name\": \"Viva La Vida\", \"Streams\": 5752}, {\"Date\": \"2017-06-23\", \"Track Name\": \"Yellow\", \"Streams\": 4241}, {\"Date\": \"2017-06-24\", \"Track Name\": \"A Head Full Of Dreams\", \"Streams\": 3660}, {\"Date\": \"2017-06-24\", \"Track Name\": \"A Sky Full of Stars\", \"Streams\": 3980}, {\"Date\": \"2017-06-24\", \"Track Name\": \"Adventure Of A Lifetime\", \"Streams\": 20846}, {\"Date\": \"2017-06-24\", \"Track Name\": \"Everglow\", \"Streams\": 3260}, {\"Date\": \"2017-06-24\", \"Track Name\": \"Fix You\", \"Streams\": 25654}, {\"Date\": \"2017-06-24\", \"Track Name\": \"Hymn For The Weekend\", \"Streams\": 30309}, {\"Date\": \"2017-06-24\", \"Track Name\": \"Hymn For The Weekend - Seeb Remix\", \"Streams\": 24989}, {\"Date\": \"2017-06-24\", \"Track Name\": \"Paradise\", \"Streams\": 3880}, {\"Date\": \"2017-06-24\", \"Track Name\": \"The Scientist\", \"Streams\": 25989}, {\"Date\": \"2017-06-24\", \"Track Name\": \"Viva La Vida\", \"Streams\": 50007}, {\"Date\": \"2017-06-24\", \"Track Name\": \"Yellow\", \"Streams\": 3375}, {\"Date\": \"2017-06-25\", \"Track Name\": \"A Head Full Of Dreams\", \"Streams\": 21748}, {\"Date\": \"2017-06-25\", \"Track Name\": \"A Sky Full of Stars\", \"Streams\": 24143}, {\"Date\": \"2017-06-25\", \"Track Name\": \"Adventure Of A Lifetime\", \"Streams\": 33766}, {\"Date\": \"2017-06-25\", \"Track Name\": \"Birds\", \"Streams\": 17625}, {\"Date\": \"2017-06-25\", \"Track Name\": \"Everglow\", \"Streams\": 19060}, {\"Date\": \"2017-06-25\", \"Track Name\": \"Fix You\", \"Streams\": 43856}, {\"Date\": \"2017-06-25\", \"Track Name\": \"Hymn For The Weekend\", \"Streams\": 46130}, {\"Date\": \"2017-06-25\", \"Track Name\": \"Hymn For The Weekend - Seeb Remix\", \"Streams\": 32907}, {\"Date\": \"2017-06-25\", \"Track Name\": \"Paradise\", \"Streams\": 28281}, {\"Date\": \"2017-06-25\", \"Track Name\": \"The Scientist\", \"Streams\": 43265}, {\"Date\": \"2017-06-25\", \"Track Name\": \"Up&Up\", \"Streams\": 15514}, {\"Date\": \"2017-06-25\", \"Track Name\": \"Viva La Vida\", \"Streams\": 67950}, {\"Date\": \"2017-06-25\", \"Track Name\": \"Yellow\", \"Streams\": 21522}, {\"Date\": \"2017-06-26\", \"Track Name\": \"A Head Full Of Dreams\", \"Streams\": 26651}, {\"Date\": \"2017-06-26\", \"Track Name\": \"A Sky Full of Stars\", \"Streams\": 27146}, {\"Date\": \"2017-06-26\", \"Track Name\": \"Adventure Of A Lifetime\", \"Streams\": 43133}, {\"Date\": \"2017-06-26\", \"Track Name\": \"Birds\", \"Streams\": 19498}, {\"Date\": \"2017-06-26\", \"Track Name\": \"Everglow\", \"Streams\": 24906}, {\"Date\": \"2017-06-26\", \"Track Name\": \"Every Teardrop Is a Waterfall\", \"Streams\": 17193}, {\"Date\": \"2017-06-26\", \"Track Name\": \"Fix You\", \"Streams\": 53457}, {\"Date\": \"2017-06-26\", \"Track Name\": \"Hymn For The Weekend\", \"Streams\": 55847}, {\"Date\": \"2017-06-26\", \"Track Name\": \"Hymn For The Weekend - Seeb Remix\", \"Streams\": 47275}, {\"Date\": \"2017-06-26\", \"Track Name\": \"Magic\", \"Streams\": 16738}, {\"Date\": \"2017-06-26\", \"Track Name\": \"Paradise\", \"Streams\": 32043}, {\"Date\": \"2017-06-26\", \"Track Name\": \"The Scientist\", \"Streams\": 54653}, {\"Date\": \"2017-06-26\", \"Track Name\": \"Up&Up\", \"Streams\": 19818}, {\"Date\": \"2017-06-26\", \"Track Name\": \"Viva La Vida\", \"Streams\": 38073}, {\"Date\": \"2017-06-26\", \"Track Name\": \"Yellow\", \"Streams\": 28274}, {\"Date\": \"2017-06-27\", \"Track Name\": \"A Head Full Of Dreams\", \"Streams\": 19946}, {\"Date\": \"2017-06-27\", \"Track Name\": \"A Sky Full of Stars\", \"Streams\": 23562}, {\"Date\": \"2017-06-27\", \"Track Name\": \"Adventure Of A Lifetime\", \"Streams\": 33889}, {\"Date\": \"2017-06-27\", \"Track Name\": \"Everglow\", \"Streams\": 21655}, {\"Date\": \"2017-06-27\", \"Track Name\": \"Fix You\", \"Streams\": 47361}, {\"Date\": \"2017-06-27\", \"Track Name\": \"Hymn For The Weekend\", \"Streams\": 47587}, {\"Date\": \"2017-06-27\", \"Track Name\": \"Hymn For The Weekend - Seeb Remix\", \"Streams\": 45338}, {\"Date\": \"2017-06-27\", \"Track Name\": \"Paradise\", \"Streams\": 27031}, {\"Date\": \"2017-06-27\", \"Track Name\": \"The Scientist\", \"Streams\": 44113}, {\"Date\": \"2017-06-27\", \"Track Name\": \"Up&Up\", \"Streams\": 16376}, {\"Date\": \"2017-06-27\", \"Track Name\": \"Viva La Vida\", \"Streams\": 71407}, {\"Date\": \"2017-06-27\", \"Track Name\": \"Yellow\", \"Streams\": 23759}, {\"Date\": \"2017-06-28\", \"Track Name\": \"A Sky Full of Stars\", \"Streams\": 17764}, {\"Date\": \"2017-06-28\", \"Track Name\": \"Adventure Of A Lifetime\", \"Streams\": 25192}, {\"Date\": \"2017-06-28\", \"Track Name\": \"Everglow\", \"Streams\": 16364}, {\"Date\": \"2017-06-28\", \"Track Name\": \"Fix You\", \"Streams\": 36699}, {\"Date\": \"2017-06-28\", \"Track Name\": \"Hymn For The Weekend\", \"Streams\": 35538}, {\"Date\": \"2017-06-28\", \"Track Name\": \"Hymn For The Weekend - Seeb Remix\", \"Streams\": 42011}, {\"Date\": \"2017-06-28\", \"Track Name\": \"Paradise\", \"Streams\": 20105}, {\"Date\": \"2017-06-28\", \"Track Name\": \"The Scientist\", \"Streams\": 37297}, {\"Date\": \"2017-06-28\", \"Track Name\": \"Viva La Vida\", \"Streams\": 27883}, {\"Date\": \"2017-06-28\", \"Track Name\": \"Yellow\", \"Streams\": 16725}, {\"Date\": \"2017-06-29\", \"Track Name\": \"Adventure Of A Lifetime\", \"Streams\": 21364}, {\"Date\": \"2017-06-29\", \"Track Name\": \"Fix You\", \"Streams\": 29835}, {\"Date\": \"2017-06-29\", \"Track Name\": \"Hymn For The Weekend\", \"Streams\": 30626}, {\"Date\": \"2017-06-29\", \"Track Name\": \"Hymn For The Weekend - Seeb Remix\", \"Streams\": 37811}, {\"Date\": \"2017-06-29\", \"Track Name\": \"Paradise\", \"Streams\": 16756}, {\"Date\": \"2017-06-29\", \"Track Name\": \"The Scientist\", \"Streams\": 33894}, {\"Date\": \"2017-06-29\", \"Track Name\": \"Viva La Vida\", \"Streams\": 24755}, {\"Date\": \"2017-06-30\", \"Track Name\": \"Adventure Of A Lifetime\", \"Streams\": 21654}, {\"Date\": \"2017-06-30\", \"Track Name\": \"Fix You\", \"Streams\": 26843}, {\"Date\": \"2017-06-30\", \"Track Name\": \"Hymn For The Weekend\", \"Streams\": 22743}, {\"Date\": \"2017-06-30\", \"Track Name\": \"Hymn For The Weekend - Seeb Remix\", \"Streams\": 42788}, {\"Date\": \"2017-06-30\", \"Track Name\": \"The Scientist\", \"Streams\": 27705}, {\"Date\": \"2017-06-30\", \"Track Name\": \"Viva La Vida\", \"Streams\": 19196}, {\"Date\": \"2017-07-01\", \"Track Name\": \"Adventure Of A Lifetime\", \"Streams\": 21100}, {\"Date\": \"2017-07-01\", \"Track Name\": \"Fix You\", \"Streams\": 27590}, {\"Date\": \"2017-07-01\", \"Track Name\": \"Hymn For The Weekend\", \"Streams\": 29692}, {\"Date\": \"2017-07-01\", \"Track Name\": \"Hymn For The Weekend - Seeb Remix\", \"Streams\": 41584}, {\"Date\": \"2017-07-01\", \"Track Name\": \"The Scientist\", \"Streams\": 28590}, {\"Date\": \"2017-07-01\", \"Track Name\": \"Viva La Vida\", \"Streams\": 47099}, {\"Date\": \"2017-07-02\", \"Track Name\": \"Adventure Of A Lifetime\", \"Streams\": 14865}, {\"Date\": \"2017-07-02\", \"Track Name\": \"Fix You\", \"Streams\": 23739}, {\"Date\": \"2017-07-02\", \"Track Name\": \"Hymn For The Weekend\", \"Streams\": 21594}, {\"Date\": \"2017-07-02\", \"Track Name\": \"Hymn For The Weekend - Seeb Remix\", \"Streams\": 20716}, {\"Date\": \"2017-07-02\", \"Track Name\": \"The Scientist\", \"Streams\": 24936}, {\"Date\": \"2017-07-02\", \"Track Name\": \"Viva La Vida\", \"Streams\": 45661}, {\"Date\": \"2017-07-03\", \"Track Name\": \"Fix You\", \"Streams\": 24106}, {\"Date\": \"2017-07-03\", \"Track Name\": \"Hymn For The Weekend\", \"Streams\": 18377}, {\"Date\": \"2017-07-03\", \"Track Name\": \"Hymn For The Weekend - Seeb Remix\", \"Streams\": 20823}, {\"Date\": \"2017-07-03\", \"Track Name\": \"The Scientist\", \"Streams\": 40871}, {\"Date\": \"2017-07-03\", \"Track Name\": \"Viva La Vida\", \"Streams\": 40135}, {\"Date\": \"2017-07-04\", \"Track Name\": \"Adventure Of A Lifetime\", \"Streams\": 3238}, {\"Date\": \"2017-07-04\", \"Track Name\": \"Fix You\", \"Streams\": 45461}, {\"Date\": \"2017-07-04\", \"Track Name\": \"Hymn For The Weekend\", \"Streams\": 25025}, {\"Date\": \"2017-07-04\", \"Track Name\": \"Hymn For The Weekend - Seeb Remix\", \"Streams\": 36078}, {\"Date\": \"2017-07-04\", \"Track Name\": \"The Scientist\", \"Streams\": 47080}, {\"Date\": \"2017-07-04\", \"Track Name\": \"Viva La Vida\", \"Streams\": 61743}, {\"Date\": \"2017-07-05\", \"Track Name\": \"Adventure Of A Lifetime\", \"Streams\": 3649}, {\"Date\": \"2017-07-05\", \"Track Name\": \"Fix You\", \"Streams\": 43096}, {\"Date\": \"2017-07-05\", \"Track Name\": \"Hymn For The Weekend\", \"Streams\": 25747}, {\"Date\": \"2017-07-05\", \"Track Name\": \"Hymn For The Weekend - Seeb Remix\", \"Streams\": 22367}, {\"Date\": \"2017-07-05\", \"Track Name\": \"The Scientist\", \"Streams\": 46187}, {\"Date\": \"2017-07-05\", \"Track Name\": \"Viva La Vida\", \"Streams\": 47684}, {\"Date\": \"2017-07-06\", \"Track Name\": \"Adventure Of A Lifetime\", \"Streams\": 3860}, {\"Date\": \"2017-07-06\", \"Track Name\": \"Fix You\", \"Streams\": 39802}, {\"Date\": \"2017-07-06\", \"Track Name\": \"Hymn For The Weekend\", \"Streams\": 21777}, {\"Date\": \"2017-07-06\", \"Track Name\": \"Hymn For The Weekend - Seeb Remix\", \"Streams\": 20484}, {\"Date\": \"2017-07-06\", \"Track Name\": \"The Scientist\", \"Streams\": 26174}, {\"Date\": \"2017-07-06\", \"Track Name\": \"Viva La Vida\", \"Streams\": 50261}, {\"Date\": \"2017-07-06\", \"Track Name\": \"Yellow\", \"Streams\": 3310}, {\"Date\": \"2017-07-07\", \"Track Name\": \"A Head Full Of Dreams\", \"Streams\": 4176}, {\"Date\": \"2017-07-07\", \"Track Name\": \"A L I E N S\", \"Streams\": 256978}, {\"Date\": \"2017-07-07\", \"Track Name\": \"A Sky Full of Stars\", \"Streams\": 3999}, {\"Date\": \"2017-07-07\", \"Track Name\": \"Adventure Of A Lifetime\", \"Streams\": 5335}, {\"Date\": \"2017-07-07\", \"Track Name\": \"Clocks\", \"Streams\": 3621}, {\"Date\": \"2017-07-07\", \"Track Name\": \"Fix You\", \"Streams\": 26132}, {\"Date\": \"2017-07-07\", \"Track Name\": \"Hymn For The Weekend\", \"Streams\": 23202}, {\"Date\": \"2017-07-07\", \"Track Name\": \"Hymn For The Weekend - Seeb Remix\", \"Streams\": 25371}, {\"Date\": \"2017-07-07\", \"Track Name\": \"Paradise\", \"Streams\": 4442}, {\"Date\": \"2017-07-07\", \"Track Name\": \"The Scientist\", \"Streams\": 26834}, {\"Date\": \"2017-07-07\", \"Track Name\": \"Viva La Vida\", \"Streams\": 6207}, {\"Date\": \"2017-07-07\", \"Track Name\": \"Yellow\", \"Streams\": 4291}, {\"Date\": \"2017-07-08\", \"Track Name\": \"A Head Full Of Dreams\", \"Streams\": 6749}, {\"Date\": \"2017-07-08\", \"Track Name\": \"A L I E N S\", \"Streams\": 4337}, {\"Date\": \"2017-07-08\", \"Track Name\": \"A Sky Full of Stars\", \"Streams\": 6196}, {\"Date\": \"2017-07-08\", \"Track Name\": \"Adventure Of A Lifetime\", \"Streams\": 8544}, {\"Date\": \"2017-07-08\", \"Track Name\": \"Birds\", \"Streams\": 4732}, {\"Date\": \"2017-07-08\", \"Track Name\": \"Charlie Brown\", \"Streams\": 5448}, {\"Date\": \"2017-07-08\", \"Track Name\": \"Clocks\", \"Streams\": 5647}, {\"Date\": \"2017-07-08\", \"Track Name\": \"Everglow\", \"Streams\": 4933}, {\"Date\": \"2017-07-08\", \"Track Name\": \"Every Teardrop Is a Waterfall\", \"Streams\": 5449}, {\"Date\": \"2017-07-08\", \"Track Name\": \"Fix You\", \"Streams\": 27845}, {\"Date\": \"2017-07-08\", \"Track Name\": \"Hymn For The Weekend\", \"Streams\": 11437}, {\"Date\": \"2017-07-08\", \"Track Name\": \"Hymn For The Weekend - Seeb Remix\", \"Streams\": 25894}, {\"Date\": \"2017-07-08\", \"Track Name\": \"Magic\", \"Streams\": 5349}, {\"Date\": \"2017-07-08\", \"Track Name\": \"Paradise\", \"Streams\": 7676}, {\"Date\": \"2017-07-08\", \"Track Name\": \"Princess of China\", \"Streams\": 3408}, {\"Date\": \"2017-07-08\", \"Track Name\": \"The Scientist\", \"Streams\": 28404}, {\"Date\": \"2017-07-08\", \"Track Name\": \"Up&Up\", \"Streams\": 5309}, {\"Date\": \"2017-07-08\", \"Track Name\": \"Viva La Vida\", \"Streams\": 56623}, {\"Date\": \"2017-07-08\", \"Track Name\": \"Yellow\", \"Streams\": 6764}, {\"Date\": \"2017-07-09\", \"Track Name\": \"A Head Full Of Dreams\", \"Streams\": 4887}, {\"Date\": \"2017-07-09\", \"Track Name\": \"A L I E N S\", \"Streams\": 2944}, {\"Date\": \"2017-07-09\", \"Track Name\": \"A Sky Full of Stars\", \"Streams\": 5669}, {\"Date\": \"2017-07-09\", \"Track Name\": \"Adventure Of A Lifetime\", \"Streams\": 6892}, {\"Date\": \"2017-07-09\", \"Track Name\": \"Birds\", \"Streams\": 3054}, {\"Date\": \"2017-07-09\", \"Track Name\": \"Charlie Brown\", \"Streams\": 4455}, {\"Date\": \"2017-07-09\", \"Track Name\": \"Clocks\", \"Streams\": 4105}, {\"Date\": \"2017-07-09\", \"Track Name\": \"Everglow\", \"Streams\": 3817}, {\"Date\": \"2017-07-09\", \"Track Name\": \"Every Teardrop Is a Waterfall\", \"Streams\": 3892}, {\"Date\": \"2017-07-09\", \"Track Name\": \"Fix You\", \"Streams\": 26205}, {\"Date\": \"2017-07-09\", \"Track Name\": \"Hymn For The Weekend\", \"Streams\": 7856}, {\"Date\": \"2017-07-09\", \"Track Name\": \"Hymn For The Weekend - Seeb Remix\", \"Streams\": 21996}, {\"Date\": \"2017-07-09\", \"Track Name\": \"Magic\", \"Streams\": 4221}, {\"Date\": \"2017-07-09\", \"Track Name\": \"Paradise\", \"Streams\": 5927}, {\"Date\": \"2017-07-09\", \"Track Name\": \"The Scientist\", \"Streams\": 26389}, {\"Date\": \"2017-07-09\", \"Track Name\": \"Up&Up\", \"Streams\": 4013}, {\"Date\": \"2017-07-09\", \"Track Name\": \"Viva La Vida\", \"Streams\": 51854}, {\"Date\": \"2017-07-09\", \"Track Name\": \"Yellow\", \"Streams\": 6084}, {\"Date\": \"2017-07-10\", \"Track Name\": \"A Head Full Of Dreams\", \"Streams\": 4257}, {\"Date\": \"2017-07-10\", \"Track Name\": \"A Sky Full of Stars\", \"Streams\": 5081}, {\"Date\": \"2017-07-10\", \"Track Name\": \"Adventure Of A Lifetime\", \"Streams\": 6084}, {\"Date\": \"2017-07-10\", \"Track Name\": \"Charlie Brown\", \"Streams\": 3859}, {\"Date\": \"2017-07-10\", \"Track Name\": \"Clocks\", \"Streams\": 3607}, {\"Date\": \"2017-07-10\", \"Track Name\": \"Everglow\", \"Streams\": 3637}, {\"Date\": \"2017-07-10\", \"Track Name\": \"Every Teardrop Is a Waterfall\", \"Streams\": 3585}, {\"Date\": \"2017-07-10\", \"Track Name\": \"Fix You\", \"Streams\": 25493}, {\"Date\": \"2017-07-10\", \"Track Name\": \"Hymn For The Weekend\", \"Streams\": 6596}, {\"Date\": \"2017-07-10\", \"Track Name\": \"Hymn For The Weekend - Seeb Remix\", \"Streams\": 22851}, {\"Date\": \"2017-07-10\", \"Track Name\": \"Magic\", \"Streams\": 3668}, {\"Date\": \"2017-07-10\", \"Track Name\": \"Paradise\", \"Streams\": 4892}, {\"Date\": \"2017-07-10\", \"Track Name\": \"The Scientist\", \"Streams\": 10436}, {\"Date\": \"2017-07-10\", \"Track Name\": \"Up&Up\", \"Streams\": 3463}, {\"Date\": \"2017-07-10\", \"Track Name\": \"Viva La Vida\", \"Streams\": 46473}, {\"Date\": \"2017-07-10\", \"Track Name\": \"Yellow\", \"Streams\": 5253}, {\"Date\": \"2017-07-11\", \"Track Name\": \"A Head Full Of Dreams\", \"Streams\": 3181}, {\"Date\": \"2017-07-11\", \"Track Name\": \"A Sky Full of Stars\", \"Streams\": 4129}, {\"Date\": \"2017-07-11\", \"Track Name\": \"Adventure Of A Lifetime\", \"Streams\": 4707}, {\"Date\": \"2017-07-11\", \"Track Name\": \"Charlie Brown\", \"Streams\": 3141}, {\"Date\": \"2017-07-11\", \"Track Name\": \"Fix You\", \"Streams\": 23776}, {\"Date\": \"2017-07-11\", \"Track Name\": \"Hymn For The Weekend\", \"Streams\": 5347}, {\"Date\": \"2017-07-11\", \"Track Name\": \"Hymn For The Weekend - Seeb Remix\", \"Streams\": 22247}, {\"Date\": \"2017-07-11\", \"Track Name\": \"Paradise\", \"Streams\": 3940}, {\"Date\": \"2017-07-11\", \"Track Name\": \"The Scientist\", \"Streams\": 43837}, {\"Date\": \"2017-07-11\", \"Track Name\": \"Viva La Vida\", \"Streams\": 51446}, {\"Date\": \"2017-07-11\", \"Track Name\": \"Yellow\", \"Streams\": 4064}, {\"Date\": \"2017-07-12\", \"Track Name\": \"A Sky Full of Stars\", \"Streams\": 3747}, {\"Date\": \"2017-07-12\", \"Track Name\": \"Adventure Of A Lifetime\", \"Streams\": 4385}, {\"Date\": \"2017-07-12\", \"Track Name\": \"Fix You\", \"Streams\": 22662}, {\"Date\": \"2017-07-12\", \"Track Name\": \"Hymn For The Weekend\", \"Streams\": 4767}, {\"Date\": \"2017-07-12\", \"Track Name\": \"Hymn For The Weekend - Seeb Remix\", \"Streams\": 20719}, {\"Date\": \"2017-07-12\", \"Track Name\": \"Paradise\", \"Streams\": 3491}, {\"Date\": \"2017-07-12\", \"Track Name\": \"The Scientist\", \"Streams\": 10033}, {\"Date\": \"2017-07-12\", \"Track Name\": \"Viva La Vida\", \"Streams\": 53048}, {\"Date\": \"2017-07-12\", \"Track Name\": \"Yellow\", \"Streams\": 3657}, {\"Date\": \"2017-07-13\", \"Track Name\": \"A Sky Full of Stars\", \"Streams\": 3362}, {\"Date\": \"2017-07-13\", \"Track Name\": \"Adventure Of A Lifetime\", \"Streams\": 3927}, {\"Date\": \"2017-07-13\", \"Track Name\": \"Fix You\", \"Streams\": 5431}, {\"Date\": \"2017-07-13\", \"Track Name\": \"Hymn For The Weekend\", \"Streams\": 4278}, {\"Date\": \"2017-07-13\", \"Track Name\": \"Hymn For The Weekend - Seeb Remix\", \"Streams\": 37947}, {\"Date\": \"2017-07-13\", \"Track Name\": \"The Scientist\", \"Streams\": 8021}, {\"Date\": \"2017-07-13\", \"Track Name\": \"Viva La Vida\", \"Streams\": 50328}, {\"Date\": \"2017-07-14\", \"Track Name\": \"A L I E N S\", \"Streams\": 235104}, {\"Date\": \"2017-07-14\", \"Track Name\": \"Adventure Of A Lifetime\", \"Streams\": 4036}, {\"Date\": \"2017-07-14\", \"Track Name\": \"All I Can Think About Is You\", \"Streams\": 376239}, {\"Date\": \"2017-07-14\", \"Track Name\": \"Fix You\", \"Streams\": 25199}, {\"Date\": \"2017-07-14\", \"Track Name\": \"Hymn For The Weekend\", \"Streams\": 5574}, {\"Date\": \"2017-07-14\", \"Track Name\": \"Hymn For The Weekend - Seeb Remix\", \"Streams\": 77747}, {\"Date\": \"2017-07-14\", \"Track Name\": \"Hypnotised - EP Mix\", \"Streams\": 78295}, {\"Date\": \"2017-07-14\", \"Track Name\": \"Miracles (Someone Special)\", \"Streams\": 567231}, {\"Date\": \"2017-07-14\", \"Track Name\": \"Something Just Like This - Tokyo Remix\", \"Streams\": 163476}, {\"Date\": \"2017-07-14\", \"Track Name\": \"The Scientist\", \"Streams\": 11000}, {\"Date\": \"2017-07-14\", \"Track Name\": \"Viva La Vida\", \"Streams\": 49564}, {\"Date\": \"2017-07-15\", \"Track Name\": \"A Sky Full of Stars\", \"Streams\": 3299}, {\"Date\": \"2017-07-15\", \"Track Name\": \"Adventure Of A Lifetime\", \"Streams\": 3822}, {\"Date\": \"2017-07-15\", \"Track Name\": \"All I Can Think About Is You\", \"Streams\": 59132}, {\"Date\": \"2017-07-15\", \"Track Name\": \"Fix You\", \"Streams\": 4889}, {\"Date\": \"2017-07-15\", \"Track Name\": \"Hymn For The Weekend\", \"Streams\": 5238}, {\"Date\": \"2017-07-15\", \"Track Name\": \"Hymn For The Weekend - Seeb Remix\", \"Streams\": 28613}, {\"Date\": \"2017-07-15\", \"Track Name\": \"Miracles (Someone Special)\", \"Streams\": 228049}, {\"Date\": \"2017-07-15\", \"Track Name\": \"The Scientist\", \"Streams\": 8041}, {\"Date\": \"2017-07-15\", \"Track Name\": \"Viva La Vida\", \"Streams\": 53088}, {\"Date\": \"2017-07-16\", \"Track Name\": \"A Sky Full of Stars\", \"Streams\": 2806}, {\"Date\": \"2017-07-16\", \"Track Name\": \"Adventure Of A Lifetime\", \"Streams\": 3306}, {\"Date\": \"2017-07-16\", \"Track Name\": \"All I Can Think About Is You\", \"Streams\": 2415}, {\"Date\": \"2017-07-16\", \"Track Name\": \"Fix You\", \"Streams\": 20294}, {\"Date\": \"2017-07-16\", \"Track Name\": \"Hymn For The Weekend\", \"Streams\": 4473}, {\"Date\": \"2017-07-16\", \"Track Name\": \"Hymn For The Weekend - Seeb Remix\", \"Streams\": 20216}, {\"Date\": \"2017-07-16\", \"Track Name\": \"Miracles (Someone Special)\", \"Streams\": 151806}, {\"Date\": \"2017-07-16\", \"Track Name\": \"The Scientist\", \"Streams\": 8602}, {\"Date\": \"2017-07-16\", \"Track Name\": \"Viva La Vida\", \"Streams\": 48236}, {\"Date\": \"2017-07-17\", \"Track Name\": \"Adventure Of A Lifetime\", \"Streams\": 2144}, {\"Date\": \"2017-07-17\", \"Track Name\": \"All I Can Think About Is You\", \"Streams\": 2621}, {\"Date\": \"2017-07-17\", \"Track Name\": \"Fix You\", \"Streams\": 20107}, {\"Date\": \"2017-07-17\", \"Track Name\": \"Hymn For The Weekend\", \"Streams\": 3527}, {\"Date\": \"2017-07-17\", \"Track Name\": \"Hymn For The Weekend - Seeb Remix\", \"Streams\": 20145}, {\"Date\": \"2017-07-17\", \"Track Name\": \"Miracles (Someone Special)\", \"Streams\": 163718}, {\"Date\": \"2017-07-17\", \"Track Name\": \"The Scientist\", \"Streams\": 9273}, {\"Date\": \"2017-07-17\", \"Track Name\": \"Viva La Vida\", \"Streams\": 48690}, {\"Date\": \"2017-07-18\", \"Track Name\": \"Fix You\", \"Streams\": 19929}, {\"Date\": \"2017-07-18\", \"Track Name\": \"Hymn For The Weekend\", \"Streams\": 3191}, {\"Date\": \"2017-07-18\", \"Track Name\": \"Hymn For The Weekend - Seeb Remix\", \"Streams\": 18209}, {\"Date\": \"2017-07-18\", \"Track Name\": \"Miracles (Someone Special)\", \"Streams\": 152101}, {\"Date\": \"2017-07-18\", \"Track Name\": \"The Scientist\", \"Streams\": 8973}, {\"Date\": \"2017-07-18\", \"Track Name\": \"Viva La Vida\", \"Streams\": 50668}, {\"Date\": \"2017-07-19\", \"Track Name\": \"Adventure Of A Lifetime\", \"Streams\": 2174}, {\"Date\": \"2017-07-19\", \"Track Name\": \"Fix You\", \"Streams\": 19452}, {\"Date\": \"2017-07-19\", \"Track Name\": \"Hymn For The Weekend\", \"Streams\": 3047}, {\"Date\": \"2017-07-19\", \"Track Name\": \"Hymn For The Weekend - Seeb Remix\", \"Streams\": 20351}, {\"Date\": \"2017-07-19\", \"Track Name\": \"Miracles (Someone Special)\", \"Streams\": 178186}, {\"Date\": \"2017-07-19\", \"Track Name\": \"The Scientist\", \"Streams\": 9152}, {\"Date\": \"2017-07-19\", \"Track Name\": \"Viva La Vida\", \"Streams\": 46097}, {\"Date\": \"2017-07-20\", \"Track Name\": \"All I Can Think About Is You\", \"Streams\": 2944}, {\"Date\": \"2017-07-20\", \"Track Name\": \"Fix You\", \"Streams\": 4019}, {\"Date\": \"2017-07-20\", \"Track Name\": \"Hymn For The Weekend - Seeb Remix\", \"Streams\": 17738}, {\"Date\": \"2017-07-20\", \"Track Name\": \"Miracles (Someone Special)\", \"Streams\": 204998}, {\"Date\": \"2017-07-20\", \"Track Name\": \"The Scientist\", \"Streams\": 6883}, {\"Date\": \"2017-07-20\", \"Track Name\": \"Viva La Vida\", \"Streams\": 48319}, {\"Date\": \"2017-07-21\", \"Track Name\": \"Fix You\", \"Streams\": 4003}, {\"Date\": \"2017-07-21\", \"Track Name\": \"Hymn For The Weekend - Seeb Remix\", \"Streams\": 23406}, {\"Date\": \"2017-07-21\", \"Track Name\": \"Miracles (Someone Special)\", \"Streams\": 76431}, {\"Date\": \"2017-07-21\", \"Track Name\": \"The Scientist\", \"Streams\": 3102}, {\"Date\": \"2017-07-21\", \"Track Name\": \"Viva La Vida\", \"Streams\": 4224}, {\"Date\": \"2017-07-22\", \"Track Name\": \"Fix You\", \"Streams\": 3828}, {\"Date\": \"2017-07-22\", \"Track Name\": \"Hymn For The Weekend - Seeb Remix\", \"Streams\": 18761}, {\"Date\": \"2017-07-22\", \"Track Name\": \"Miracles (Someone Special)\", \"Streams\": 77577}, {\"Date\": \"2017-07-22\", \"Track Name\": \"The Scientist\", \"Streams\": 6530}, {\"Date\": \"2017-07-22\", \"Track Name\": \"Viva La Vida\", \"Streams\": 48140}, {\"Date\": \"2017-07-23\", \"Track Name\": \"Fix You\", \"Streams\": 3513}, {\"Date\": \"2017-07-23\", \"Track Name\": \"Hymn For The Weekend - Seeb Remix\", \"Streams\": 15149}, {\"Date\": \"2017-07-23\", \"Track Name\": \"Miracles (Someone Special)\", \"Streams\": 60277}, {\"Date\": \"2017-07-23\", \"Track Name\": \"The Scientist\", \"Streams\": 6461}, {\"Date\": \"2017-07-23\", \"Track Name\": \"Viva La Vida\", \"Streams\": 45790}, {\"Date\": \"2017-07-24\", \"Track Name\": \"Fix You\", \"Streams\": 3489}, {\"Date\": \"2017-07-24\", \"Track Name\": \"Hymn For The Weekend - Seeb Remix\", \"Streams\": 16473}, {\"Date\": \"2017-07-24\", \"Track Name\": \"Miracles (Someone Special)\", \"Streams\": 63547}, {\"Date\": \"2017-07-24\", \"Track Name\": \"The Scientist\", \"Streams\": 6402}, {\"Date\": \"2017-07-24\", \"Track Name\": \"Viva La Vida\", \"Streams\": 3670}, {\"Date\": \"2017-07-25\", \"Track Name\": \"Fix You\", \"Streams\": 3471}, {\"Date\": \"2017-07-25\", \"Track Name\": \"Hymn For The Weekend - Seeb Remix\", \"Streams\": 16838}, {\"Date\": \"2017-07-25\", \"Track Name\": \"Miracles (Someone Special)\", \"Streams\": 81144}, {\"Date\": \"2017-07-25\", \"Track Name\": \"The Scientist\", \"Streams\": 6572}, {\"Date\": \"2017-07-25\", \"Track Name\": \"Viva La Vida\", \"Streams\": 3866}, {\"Date\": \"2017-07-26\", \"Track Name\": \"Fix You\", \"Streams\": 3432}, {\"Date\": \"2017-07-26\", \"Track Name\": \"Hymn For The Weekend - Seeb Remix\", \"Streams\": 19057}, {\"Date\": \"2017-07-26\", \"Track Name\": \"Miracles (Someone Special)\", \"Streams\": 75209}, {\"Date\": \"2017-07-26\", \"Track Name\": \"The Scientist\", \"Streams\": 6637}, {\"Date\": \"2017-07-26\", \"Track Name\": \"Viva La Vida\", \"Streams\": 3556}, {\"Date\": \"2017-07-27\", \"Track Name\": \"Fix You\", \"Streams\": 3491}, {\"Date\": \"2017-07-27\", \"Track Name\": \"Hymn For The Weekend - Seeb Remix\", \"Streams\": 16076}, {\"Date\": \"2017-07-27\", \"Track Name\": \"Miracles (Someone Special)\", \"Streams\": 53170}, {\"Date\": \"2017-07-27\", \"Track Name\": \"The Scientist\", \"Streams\": 6520}, {\"Date\": \"2017-07-27\", \"Track Name\": \"Viva La Vida\", \"Streams\": 3450}, {\"Date\": \"2017-07-28\", \"Track Name\": \"Hymn For The Weekend - Seeb Remix\", \"Streams\": 25495}, {\"Date\": \"2017-07-28\", \"Track Name\": \"Miracles (Someone Special)\", \"Streams\": 26047}, {\"Date\": \"2017-07-28\", \"Track Name\": \"Viva La Vida\", \"Streams\": 3555}, {\"Date\": \"2017-07-29\", \"Track Name\": \"Fix You\", \"Streams\": 3710}, {\"Date\": \"2017-07-29\", \"Track Name\": \"Hymn For The Weekend - Seeb Remix\", \"Streams\": 16800}, {\"Date\": \"2017-07-29\", \"Track Name\": \"Miracles (Someone Special)\", \"Streams\": 25412}, {\"Date\": \"2017-07-29\", \"Track Name\": \"The Scientist\", \"Streams\": 6516}, {\"Date\": \"2017-07-29\", \"Track Name\": \"Viva La Vida\", \"Streams\": 44398}, {\"Date\": \"2017-07-30\", \"Track Name\": \"Fix You\", \"Streams\": 3216}, {\"Date\": \"2017-07-30\", \"Track Name\": \"Hymn For The Weekend - Seeb Remix\", \"Streams\": 14374}, {\"Date\": \"2017-07-30\", \"Track Name\": \"Miracles (Someone Special)\", \"Streams\": 6158}, {\"Date\": \"2017-07-30\", \"Track Name\": \"The Scientist\", \"Streams\": 6259}, {\"Date\": \"2017-07-30\", \"Track Name\": \"Viva La Vida\", \"Streams\": 38614}, {\"Date\": \"2017-07-31\", \"Track Name\": \"Fix You\", \"Streams\": 3356}, {\"Date\": \"2017-07-31\", \"Track Name\": \"Hymn For The Weekend - Seeb Remix\", \"Streams\": 15984}, {\"Date\": \"2017-07-31\", \"Track Name\": \"Miracles (Someone Special)\", \"Streams\": 23580}, {\"Date\": \"2017-07-31\", \"Track Name\": \"The Scientist\", \"Streams\": 3470}, {\"Date\": \"2017-07-31\", \"Track Name\": \"Viva La Vida\", \"Streams\": 3403}, {\"Date\": \"2017-08-01\", \"Track Name\": \"Fix You\", \"Streams\": 3391}, {\"Date\": \"2017-08-01\", \"Track Name\": \"Hymn For The Weekend - Seeb Remix\", \"Streams\": 16360}, {\"Date\": \"2017-08-01\", \"Track Name\": \"Miracles (Someone Special)\", \"Streams\": 39269}, {\"Date\": \"2017-08-01\", \"Track Name\": \"The Scientist\", \"Streams\": 6033}, {\"Date\": \"2017-08-01\", \"Track Name\": \"Viva La Vida\", \"Streams\": 40148}, {\"Date\": \"2017-08-02\", \"Track Name\": \"Fix You\", \"Streams\": 3403}, {\"Date\": \"2017-08-02\", \"Track Name\": \"Hymn For The Weekend - Seeb Remix\", \"Streams\": 16115}, {\"Date\": \"2017-08-02\", \"Track Name\": \"Miracles (Someone Special)\", \"Streams\": 39671}, {\"Date\": \"2017-08-02\", \"Track Name\": \"The Scientist\", \"Streams\": 6431}, {\"Date\": \"2017-08-02\", \"Track Name\": \"Viva La Vida\", \"Streams\": 3327}, {\"Date\": \"2017-08-03\", \"Track Name\": \"Fix You\", \"Streams\": 3365}, {\"Date\": \"2017-08-03\", \"Track Name\": \"Hymn For The Weekend - Seeb Remix\", \"Streams\": 19025}, {\"Date\": \"2017-08-03\", \"Track Name\": \"Miracles (Someone Special)\", \"Streams\": 24730}, {\"Date\": \"2017-08-03\", \"Track Name\": \"The Scientist\", \"Streams\": 6447}, {\"Date\": \"2017-08-03\", \"Track Name\": \"Viva La Vida\", \"Streams\": 3471}, {\"Date\": \"2017-08-04\", \"Track Name\": \"Fix You\", \"Streams\": 3594}, {\"Date\": \"2017-08-04\", \"Track Name\": \"Hymn For The Weekend - Seeb Remix\", \"Streams\": 26625}, {\"Date\": \"2017-08-04\", \"Track Name\": \"Miracles (Someone Special)\", \"Streams\": 18440}, {\"Date\": \"2017-08-04\", \"Track Name\": \"The Scientist\", \"Streams\": 6518}, {\"Date\": \"2017-08-04\", \"Track Name\": \"Viva La Vida\", \"Streams\": 3626}, {\"Date\": \"2017-08-05\", \"Track Name\": \"Fix You\", \"Streams\": 3400}, {\"Date\": \"2017-08-05\", \"Track Name\": \"Hymn For The Weekend - Seeb Remix\", \"Streams\": 16540}, {\"Date\": \"2017-08-05\", \"Track Name\": \"Miracles (Someone Special)\", \"Streams\": 17485}, {\"Date\": \"2017-08-05\", \"Track Name\": \"The Scientist\", \"Streams\": 6266}, {\"Date\": \"2017-08-05\", \"Track Name\": \"Viva La Vida\", \"Streams\": 42738}, {\"Date\": \"2017-08-06\", \"Track Name\": \"Fix You\", \"Streams\": 16514}, {\"Date\": \"2017-08-06\", \"Track Name\": \"Hymn For The Weekend - Seeb Remix\", \"Streams\": 13274}, {\"Date\": \"2017-08-06\", \"Track Name\": \"Miracles (Someone Special)\", \"Streams\": 14906}, {\"Date\": \"2017-08-06\", \"Track Name\": \"The Scientist\", \"Streams\": 5940}, {\"Date\": \"2017-08-06\", \"Track Name\": \"Viva La Vida\", \"Streams\": 37799}, {\"Date\": \"2017-08-07\", \"Track Name\": \"Fix You\", \"Streams\": 3160}, {\"Date\": \"2017-08-07\", \"Track Name\": \"Hymn For The Weekend - Seeb Remix\", \"Streams\": 15144}, {\"Date\": \"2017-08-07\", \"Track Name\": \"Miracles (Someone Special)\", \"Streams\": 17057}, {\"Date\": \"2017-08-07\", \"Track Name\": \"The Scientist\", \"Streams\": 3002}, {\"Date\": \"2017-08-07\", \"Track Name\": \"Viva La Vida\", \"Streams\": 2965}, {\"Date\": \"2017-08-08\", \"Track Name\": \"Fix You\", \"Streams\": 3128}, {\"Date\": \"2017-08-08\", \"Track Name\": \"Hymn For The Weekend - Seeb Remix\", \"Streams\": 15701}, {\"Date\": \"2017-08-08\", \"Track Name\": \"Miracles (Someone Special)\", \"Streams\": 16217}, {\"Date\": \"2017-08-08\", \"Track Name\": \"The Scientist\", \"Streams\": 5784}, {\"Date\": \"2017-08-08\", \"Track Name\": \"Viva La Vida\", \"Streams\": 39263}, {\"Date\": \"2017-08-09\", \"Track Name\": \"Fix You\", \"Streams\": 3124}, {\"Date\": \"2017-08-09\", \"Track Name\": \"Hymn For The Weekend - Seeb Remix\", \"Streams\": 15001}, {\"Date\": \"2017-08-09\", \"Track Name\": \"Miracles (Someone Special)\", \"Streams\": 16953}, {\"Date\": \"2017-08-09\", \"Track Name\": \"The Scientist\", \"Streams\": 6183}, {\"Date\": \"2017-08-09\", \"Track Name\": \"Viva La Vida\", \"Streams\": 3233}, {\"Date\": \"2017-08-10\", \"Track Name\": \"Miracles (Someone Special)\", \"Streams\": 18067}, {\"Date\": \"2017-08-10\", \"Track Name\": \"The Scientist\", \"Streams\": 2898}, {\"Date\": \"2017-08-10\", \"Track Name\": \"Viva La Vida\", \"Streams\": 3279}, {\"Date\": \"2017-08-11\", \"Track Name\": \"Hymn For The Weekend - Seeb Remix\", \"Streams\": 68327}, {\"Date\": \"2017-08-11\", \"Track Name\": \"Miracles (Someone Special)\", \"Streams\": 18357}, {\"Date\": \"2017-08-12\", \"Track Name\": \"Fix You\", \"Streams\": 3172}, {\"Date\": \"2017-08-12\", \"Track Name\": \"Miracles (Someone Special)\", \"Streams\": 21773}, {\"Date\": \"2017-08-12\", \"Track Name\": \"The Scientist\", \"Streams\": 2994}, {\"Date\": \"2017-08-12\", \"Track Name\": \"Viva La Vida\", \"Streams\": 41303}, {\"Date\": \"2017-08-13\", \"Track Name\": \"Fix You\", \"Streams\": 2887}, {\"Date\": \"2017-08-13\", \"Track Name\": \"Miracles (Someone Special)\", \"Streams\": 16503}, {\"Date\": \"2017-08-13\", \"Track Name\": \"The Scientist\", \"Streams\": 6869}, {\"Date\": \"2017-08-13\", \"Track Name\": \"Viva La Vida\", \"Streams\": 41468}, {\"Date\": \"2017-08-14\", \"Track Name\": \"Miracles (Someone Special)\", \"Streams\": 17301}, {\"Date\": \"2017-08-14\", \"Track Name\": \"The Scientist\", \"Streams\": 2936}, {\"Date\": \"2017-08-14\", \"Track Name\": \"Viva La Vida\", \"Streams\": 3114}, {\"Date\": \"2017-08-15\", \"Track Name\": \"Fix You\", \"Streams\": 3159}, {\"Date\": \"2017-08-15\", \"Track Name\": \"Hymn For The Weekend - Seeb Remix\", \"Streams\": 15071}, {\"Date\": \"2017-08-15\", \"Track Name\": \"Miracles (Someone Special)\", \"Streams\": 16758}, {\"Date\": \"2017-08-15\", \"Track Name\": \"The Scientist\", \"Streams\": 2812}, {\"Date\": \"2017-08-15\", \"Track Name\": \"Viva La Vida\", \"Streams\": 3429}, {\"Date\": \"2017-08-16\", \"Track Name\": \"Miracles (Someone Special)\", \"Streams\": 18020}, {\"Date\": \"2017-08-16\", \"Track Name\": \"The Scientist\", \"Streams\": 6139}, {\"Date\": \"2017-08-16\", \"Track Name\": \"Viva La Vida\", \"Streams\": 3216}, {\"Date\": \"2017-08-17\", \"Track Name\": \"Miracles (Someone Special)\", \"Streams\": 19330}, {\"Date\": \"2017-08-17\", \"Track Name\": \"The Scientist\", \"Streams\": 6070}, {\"Date\": \"2017-08-18\", \"Track Name\": \"Hymn For The Weekend - Seeb Remix\", \"Streams\": 24848}, {\"Date\": \"2017-08-18\", \"Track Name\": \"Miracles (Someone Special)\", \"Streams\": 12962}, {\"Date\": \"2017-08-18\", \"Track Name\": \"The Scientist\", \"Streams\": 2955}, {\"Date\": \"2017-08-19\", \"Track Name\": \"Hymn For The Weekend - Seeb Remix\", \"Streams\": 9455}, {\"Date\": \"2017-08-19\", \"Track Name\": \"The Scientist\", \"Streams\": 3029}, {\"Date\": \"2017-08-19\", \"Track Name\": \"Viva La Vida\", \"Streams\": 41642}, {\"Date\": \"2017-08-20\", \"Track Name\": \"Fix You\", \"Streams\": 2893}, {\"Date\": \"2017-08-20\", \"Track Name\": \"The Scientist\", \"Streams\": 6952}, {\"Date\": \"2017-08-20\", \"Track Name\": \"Viva La Vida\", \"Streams\": 37659}, {\"Date\": \"2017-08-21\", \"Track Name\": \"Miracles (Someone Special)\", \"Streams\": 13206}, {\"Date\": \"2017-08-22\", \"Track Name\": \"Miracles (Someone Special)\", \"Streams\": 13991}, {\"Date\": \"2017-08-22\", \"Track Name\": \"Viva La Vida\", \"Streams\": 3331}, {\"Date\": \"2017-08-23\", \"Track Name\": \"Miracles (Someone Special)\", \"Streams\": 14281}, {\"Date\": \"2017-08-23\", \"Track Name\": \"Viva La Vida\", \"Streams\": 3243}, {\"Date\": \"2017-08-24\", \"Track Name\": \"Miracles (Someone Special)\", \"Streams\": 16356}, {\"Date\": \"2017-08-25\", \"Track Name\": \"Hymn For The Weekend - Seeb Remix\", \"Streams\": 4335}, {\"Date\": \"2017-08-25\", \"Track Name\": \"Miracles (Someone Special)\", \"Streams\": 18501}, {\"Date\": \"2017-08-26\", \"Track Name\": \"Miracles (Someone Special)\", \"Streams\": 18612}, {\"Date\": \"2017-08-26\", \"Track Name\": \"Viva La Vida\", \"Streams\": 3371}, {\"Date\": \"2017-08-27\", \"Track Name\": \"Miracles (Someone Special)\", \"Streams\": 17923}, {\"Date\": \"2017-08-27\", \"Track Name\": \"The Scientist\", \"Streams\": 2722}, {\"Date\": \"2017-08-27\", \"Track Name\": \"Viva La Vida\", \"Streams\": 36686}, {\"Date\": \"2017-08-28\", \"Track Name\": \"Miracles (Someone Special)\", \"Streams\": 17255}, {\"Date\": \"2017-08-29\", \"Track Name\": \"Miracles (Someone Special)\", \"Streams\": 16619}, {\"Date\": \"2017-08-29\", \"Track Name\": \"Viva La Vida\", \"Streams\": 3197}, {\"Date\": \"2017-08-30\", \"Track Name\": \"Miracles (Someone Special)\", \"Streams\": 34860}, {\"Date\": \"2017-08-31\", \"Track Name\": \"Miracles (Someone Special)\", \"Streams\": 33358}, {\"Date\": \"2017-09-01\", \"Track Name\": \"Hymn For The Weekend - Seeb Remix\", \"Streams\": 3947}, {\"Date\": \"2017-09-02\", \"Track Name\": \"Viva La Vida\", \"Streams\": 37358}, {\"Date\": \"2017-09-03\", \"Track Name\": \"The Scientist\", \"Streams\": 3875}, {\"Date\": \"2017-09-03\", \"Track Name\": \"Viva La Vida\", \"Streams\": 32115}, {\"Date\": \"2017-09-04\", \"Track Name\": \"Miracles (Someone Special)\", \"Streams\": 33690}, {\"Date\": \"2017-09-05\", \"Track Name\": \"Miracles (Someone Special)\", \"Streams\": 15979}, {\"Date\": \"2017-09-05\", \"Track Name\": \"Viva La Vida\", \"Streams\": 2981}, {\"Date\": \"2017-09-06\", \"Track Name\": \"Everglow - Single Version\", \"Streams\": 16000}, {\"Date\": \"2017-09-06\", \"Track Name\": \"Miracles (Someone Special)\", \"Streams\": 17542}, {\"Date\": \"2017-09-07\", \"Track Name\": \"Miracles (Someone Special)\", \"Streams\": 15701}, {\"Date\": \"2017-09-08\", \"Track Name\": \"Hymn For The Weekend - Seeb Remix\", \"Streams\": 4162}, {\"Date\": \"2017-09-09\", \"Track Name\": \"Miracles (Someone Special)\", \"Streams\": 14882}, {\"Date\": \"2017-09-09\", \"Track Name\": \"Viva La Vida\", \"Streams\": 3372}, {\"Date\": \"2017-09-10\", \"Track Name\": \"Fix You\", \"Streams\": 13400}, {\"Date\": \"2017-09-10\", \"Track Name\": \"The Scientist\", \"Streams\": 3993}, {\"Date\": \"2017-09-10\", \"Track Name\": \"Viva La Vida\", \"Streams\": 2968}, {\"Date\": \"2017-09-11\", \"Track Name\": \"Miracles (Someone Special)\", \"Streams\": 14810}, {\"Date\": \"2017-09-12\", \"Track Name\": \"Miracles (Someone Special)\", \"Streams\": 15480}, {\"Date\": \"2017-09-13\", \"Track Name\": \"Miracles (Someone Special)\", \"Streams\": 15596}, {\"Date\": \"2017-09-13\", \"Track Name\": \"The Scientist\", \"Streams\": 1274}, {\"Date\": \"2017-09-14\", \"Track Name\": \"Miracles (Someone Special)\", \"Streams\": 15922}, {\"Date\": \"2017-09-15\", \"Track Name\": \"Hymn For The Weekend - Seeb Remix\", \"Streams\": 5304}, {\"Date\": \"2017-09-15\", \"Track Name\": \"Miracles (Someone Special)\", \"Streams\": 18347}, {\"Date\": \"2017-09-16\", \"Track Name\": \"Viva La Vida\", \"Streams\": 3498}, {\"Date\": \"2017-09-17\", \"Track Name\": \"Fix You\", \"Streams\": 16205}, {\"Date\": \"2017-09-17\", \"Track Name\": \"The Scientist\", \"Streams\": 7094}, {\"Date\": \"2017-09-18\", \"Track Name\": \"Miracles (Someone Special)\", \"Streams\": 18130}, {\"Date\": \"2017-09-19\", \"Track Name\": \"Fix You\", \"Streams\": 14803}, {\"Date\": \"2017-09-19\", \"Track Name\": \"Miracles (Someone Special)\", \"Streams\": 18407}, {\"Date\": \"2017-09-20\", \"Track Name\": \"Miracles (Someone Special)\", \"Streams\": 14991}, {\"Date\": \"2017-09-21\", \"Track Name\": \"Miracles (Someone Special)\", \"Streams\": 18289}, {\"Date\": \"2017-09-21\", \"Track Name\": \"The Scientist\", \"Streams\": 1317}, {\"Date\": \"2017-09-22\", \"Track Name\": \"Hymn For The Weekend - Seeb Remix\", \"Streams\": 5067}, {\"Date\": \"2017-09-24\", \"Track Name\": \"Fix You\", \"Streams\": 13765}, {\"Date\": \"2017-09-24\", \"Track Name\": \"The Scientist\", \"Streams\": 1305}, {\"Date\": \"2017-09-26\", \"Track Name\": \"Miracles (Someone Special)\", \"Streams\": 18976}, {\"Date\": \"2017-09-26\", \"Track Name\": \"The Scientist\", \"Streams\": 2228}, {\"Date\": \"2017-09-27\", \"Track Name\": \"Miracles (Someone Special)\", \"Streams\": 40260}, {\"Date\": \"2017-09-27\", \"Track Name\": \"The Scientist\", \"Streams\": 2321}, {\"Date\": \"2017-09-29\", \"Track Name\": \"Hymn For The Weekend - Seeb Remix\", \"Streams\": 4076}, {\"Date\": \"2017-09-29\", \"Track Name\": \"The Scientist\", \"Streams\": 2592}, {\"Date\": \"2017-09-30\", \"Track Name\": \"The Scientist\", \"Streams\": 11986}, {\"Date\": \"2017-10-01\", \"Track Name\": \"Fix You\", \"Streams\": 18882}, {\"Date\": \"2017-10-01\", \"Track Name\": \"The Scientist\", \"Streams\": 28796}, {\"Date\": \"2017-10-02\", \"Track Name\": \"The Scientist\", \"Streams\": 7788}, {\"Date\": \"2017-10-03\", \"Track Name\": \"Fix You\", \"Streams\": 19671}, {\"Date\": \"2017-10-03\", \"Track Name\": \"The Scientist\", \"Streams\": 11107}, {\"Date\": \"2017-10-04\", \"Track Name\": \"Fix You\", \"Streams\": 19577}, {\"Date\": \"2017-10-04\", \"Track Name\": \"The Scientist\", \"Streams\": 11209}, {\"Date\": \"2017-10-05\", \"Track Name\": \"Fix You\", \"Streams\": 20915}, {\"Date\": \"2017-10-05\", \"Track Name\": \"The Scientist\", \"Streams\": 11956}, {\"Date\": \"2017-10-06\", \"Track Name\": \"Hymn For The Weekend - Seeb Remix\", \"Streams\": 4149}, {\"Date\": \"2017-10-06\", \"Track Name\": \"The Scientist\", \"Streams\": 2676}, {\"Date\": \"2017-10-07\", \"Track Name\": \"Everglow - Single Version\", \"Streams\": 31703}, {\"Date\": \"2017-10-07\", \"Track Name\": \"The Scientist\", \"Streams\": 6079}, {\"Date\": \"2017-10-07\", \"Track Name\": \"Viva La Vida\", \"Streams\": 3615}, {\"Date\": \"2017-10-08\", \"Track Name\": \"Everglow - Single Version\", \"Streams\": 27218}, {\"Date\": \"2017-10-08\", \"Track Name\": \"Fix You\", \"Streams\": 18185}, {\"Date\": \"2017-10-08\", \"Track Name\": \"The Scientist\", \"Streams\": 10517}, {\"Date\": \"2017-10-08\", \"Track Name\": \"Viva La Vida\", \"Streams\": 3167}, {\"Date\": \"2017-10-09\", \"Track Name\": \"Everglow - Single Version\", \"Streams\": 33659}, {\"Date\": \"2017-10-09\", \"Track Name\": \"Fix You\", \"Streams\": 15861}, {\"Date\": \"2017-10-09\", \"Track Name\": \"The Scientist\", \"Streams\": 7555}, {\"Date\": \"2017-10-10\", \"Track Name\": \"Everglow - Single Version\", \"Streams\": 18405}, {\"Date\": \"2017-10-10\", \"Track Name\": \"Fix You\", \"Streams\": 19141}, {\"Date\": \"2017-10-10\", \"Track Name\": \"Miracles (Someone Special)\", \"Streams\": 18185}, {\"Date\": \"2017-10-10\", \"Track Name\": \"The Scientist\", \"Streams\": 7431}, {\"Date\": \"2017-10-11\", \"Track Name\": \"Everglow - Single Version\", \"Streams\": 31869}, {\"Date\": \"2017-10-11\", \"Track Name\": \"Fix You\", \"Streams\": 15637}, {\"Date\": \"2017-10-11\", \"Track Name\": \"The Scientist\", \"Streams\": 7643}, {\"Date\": \"2017-10-12\", \"Track Name\": \"Everglow - Single Version\", \"Streams\": 23088}, {\"Date\": \"2017-10-12\", \"Track Name\": \"Fix You\", \"Streams\": 15983}, {\"Date\": \"2017-10-12\", \"Track Name\": \"The Scientist\", \"Streams\": 6231}, {\"Date\": \"2017-10-13\", \"Track Name\": \"Everglow - Single Version\", \"Streams\": 20891}, {\"Date\": \"2017-10-13\", \"Track Name\": \"Hymn For The Weekend - Seeb Remix\", \"Streams\": 5568}, {\"Date\": \"2017-10-13\", \"Track Name\": \"Miracles (Someone Special)\", \"Streams\": 16804}, {\"Date\": \"2017-10-13\", \"Track Name\": \"The Scientist\", \"Streams\": 2721}, {\"Date\": \"2017-10-14\", \"Track Name\": \"Everglow - Single Version\", \"Streams\": 30376}, {\"Date\": \"2017-10-14\", \"Track Name\": \"The Scientist\", \"Streams\": 2466}, {\"Date\": \"2017-10-15\", \"Track Name\": \"Everglow - Single Version\", \"Streams\": 30842}, {\"Date\": \"2017-10-15\", \"Track Name\": \"Fix You\", \"Streams\": 17181}, {\"Date\": \"2017-10-15\", \"Track Name\": \"The Scientist\", \"Streams\": 10148}, {\"Date\": \"2017-10-16\", \"Track Name\": \"Everglow - Single Version\", \"Streams\": 30871}, {\"Date\": \"2017-10-16\", \"Track Name\": \"Fix You\", \"Streams\": 17852}, {\"Date\": \"2017-10-16\", \"Track Name\": \"The Scientist\", \"Streams\": 8286}, {\"Date\": \"2017-10-17\", \"Track Name\": \"Everglow - Single Version\", \"Streams\": 20855}, {\"Date\": \"2017-10-17\", \"Track Name\": \"Fix You\", \"Streams\": 15832}, {\"Date\": \"2017-10-17\", \"Track Name\": \"The Scientist\", \"Streams\": 9026}, {\"Date\": \"2017-10-18\", \"Track Name\": \"Everglow - Single Version\", \"Streams\": 22700}, {\"Date\": \"2017-10-18\", \"Track Name\": \"Fix You\", \"Streams\": 15730}, {\"Date\": \"2017-10-18\", \"Track Name\": \"Miracles (Someone Special)\", \"Streams\": 18020}, {\"Date\": \"2017-10-18\", \"Track Name\": \"The Scientist\", \"Streams\": 10716}, {\"Date\": \"2017-10-19\", \"Track Name\": \"Everglow - Single Version\", \"Streams\": 22991}, {\"Date\": \"2017-10-19\", \"Track Name\": \"Fix You\", \"Streams\": 15695}, {\"Date\": \"2017-10-19\", \"Track Name\": \"The Scientist\", \"Streams\": 6308}, {\"Date\": \"2017-10-20\", \"Track Name\": \"Everglow - Single Version\", \"Streams\": 21523}, {\"Date\": \"2017-10-20\", \"Track Name\": \"Hymn For The Weekend - Seeb Remix\", \"Streams\": 4185}, {\"Date\": \"2017-10-21\", \"Track Name\": \"Everglow - Single Version\", \"Streams\": 20415}, {\"Date\": \"2017-10-21\", \"Track Name\": \"The Scientist\", \"Streams\": 2661}, {\"Date\": \"2017-10-22\", \"Track Name\": \"Everglow - Single Version\", \"Streams\": 21668}, {\"Date\": \"2017-10-22\", \"Track Name\": \"Fix You\", \"Streams\": 14061}, {\"Date\": \"2017-10-22\", \"Track Name\": \"The Scientist\", \"Streams\": 10464}, {\"Date\": \"2017-10-23\", \"Track Name\": \"Everglow - Single Version\", \"Streams\": 19082}, {\"Date\": \"2017-10-23\", \"Track Name\": \"The Scientist\", \"Streams\": 7169}, {\"Date\": \"2017-10-24\", \"Track Name\": \"Everglow - Single Version\", \"Streams\": 19545}, {\"Date\": \"2017-10-24\", \"Track Name\": \"Hymn For The Weekend\", \"Streams\": 5089}, {\"Date\": \"2017-10-24\", \"Track Name\": \"The Scientist\", \"Streams\": 7230}, {\"Date\": \"2017-10-25\", \"Track Name\": \"Everglow - Single Version\", \"Streams\": 22286}, {\"Date\": \"2017-10-25\", \"Track Name\": \"The Scientist\", \"Streams\": 4235}, {\"Date\": \"2017-10-26\", \"Track Name\": \"Everglow - Single Version\", \"Streams\": 22299}, {\"Date\": \"2017-10-26\", \"Track Name\": \"The Scientist\", \"Streams\": 2804}, {\"Date\": \"2017-10-27\", \"Track Name\": \"Everglow - Single Version\", \"Streams\": 21802}, {\"Date\": \"2017-10-27\", \"Track Name\": \"Hymn For The Weekend - Seeb Remix\", \"Streams\": 63420}, {\"Date\": \"2017-10-28\", \"Track Name\": \"Everglow - Single Version\", \"Streams\": 18611}, {\"Date\": \"2017-10-29\", \"Track Name\": \"Everglow - Single Version\", \"Streams\": 21731}, {\"Date\": \"2017-10-29\", \"Track Name\": \"Hymn For The Weekend\", \"Streams\": 5207}, {\"Date\": \"2017-10-29\", \"Track Name\": \"Hymn For The Weekend - Seeb Remix\", \"Streams\": 5092}, {\"Date\": \"2017-10-29\", \"Track Name\": \"The Scientist\", \"Streams\": 1316}, {\"Date\": \"2017-10-30\", \"Track Name\": \"Everglow - Single Version\", \"Streams\": 20856}, {\"Date\": \"2017-10-30\", \"Track Name\": \"Hymn For The Weekend - Seeb Remix\", \"Streams\": 5887}, {\"Date\": \"2017-10-30\", \"Track Name\": \"The Scientist\", \"Streams\": 4031}, {\"Date\": \"2017-10-31\", \"Track Name\": \"Everglow - Single Version\", \"Streams\": 20535}, {\"Date\": \"2017-11-01\", \"Track Name\": \"Everglow - Single Version\", \"Streams\": 24693}, {\"Date\": \"2017-11-01\", \"Track Name\": \"Hymn For The Weekend - Seeb Remix\", \"Streams\": 4692}, {\"Date\": \"2017-11-01\", \"Track Name\": \"The Scientist\", \"Streams\": 3721}, {\"Date\": \"2017-11-02\", \"Track Name\": \"Everglow - Single Version\", \"Streams\": 24195}, {\"Date\": \"2017-11-02\", \"Track Name\": \"Fix You\", \"Streams\": 63193}, {\"Date\": \"2017-11-02\", \"Track Name\": \"Hymn For The Weekend - Seeb Remix\", \"Streams\": 5147}, {\"Date\": \"2017-11-02\", \"Track Name\": \"The Scientist\", \"Streams\": 2751}, {\"Date\": \"2017-11-03\", \"Track Name\": \"Everglow - Single Version\", \"Streams\": 22032}, {\"Date\": \"2017-11-03\", \"Track Name\": \"Hymn For The Weekend - Seeb Remix\", \"Streams\": 59900}, {\"Date\": \"2017-11-04\", \"Track Name\": \"Everglow - Single Version\", \"Streams\": 22359}, {\"Date\": \"2017-11-04\", \"Track Name\": \"Hymn For The Weekend - Seeb Remix\", \"Streams\": 6172}, {\"Date\": \"2017-11-05\", \"Track Name\": \"Everglow - Single Version\", \"Streams\": 21078}, {\"Date\": \"2017-11-05\", \"Track Name\": \"Hymn For The Weekend - Seeb Remix\", \"Streams\": 5211}, {\"Date\": \"2017-11-05\", \"Track Name\": \"The Scientist\", \"Streams\": 2315}, {\"Date\": \"2017-11-06\", \"Track Name\": \"Everglow - Single Version\", \"Streams\": 20274}, {\"Date\": \"2017-11-06\", \"Track Name\": \"Hymn For The Weekend - Seeb Remix\", \"Streams\": 5882}, {\"Date\": \"2017-11-06\", \"Track Name\": \"The Scientist\", \"Streams\": 2513}, {\"Date\": \"2017-11-07\", \"Track Name\": \"Everglow - Single Version\", \"Streams\": 19989}, {\"Date\": \"2017-11-07\", \"Track Name\": \"Hymn For The Weekend - Seeb Remix\", \"Streams\": 16215}, {\"Date\": \"2017-11-07\", \"Track Name\": \"The Scientist\", \"Streams\": 2606}, {\"Date\": \"2017-11-08\", \"Track Name\": \"Everglow - Single Version\", \"Streams\": 23160}, {\"Date\": \"2017-11-08\", \"Track Name\": \"Hymn For The Weekend - Seeb Remix\", \"Streams\": 6758}, {\"Date\": \"2017-11-09\", \"Track Name\": \"Everglow - Single Version\", \"Streams\": 23131}, {\"Date\": \"2017-11-09\", \"Track Name\": \"Hymn For The Weekend - Seeb Remix\", \"Streams\": 5409}, {\"Date\": \"2017-11-09\", \"Track Name\": \"The Scientist\", \"Streams\": 7127}, {\"Date\": \"2017-11-10\", \"Track Name\": \"Everglow - Single Version\", \"Streams\": 21250}, {\"Date\": \"2017-11-10\", \"Track Name\": \"Hymn For The Weekend - Seeb Remix\", \"Streams\": 6082}, {\"Date\": \"2017-11-11\", \"Track Name\": \"Everglow - Single Version\", \"Streams\": 32186}, {\"Date\": \"2017-11-11\", \"Track Name\": \"Hymn For The Weekend - Seeb Remix\", \"Streams\": 6332}, {\"Date\": \"2017-11-12\", \"Track Name\": \"Everglow - Single Version\", \"Streams\": 30898}, {\"Date\": \"2017-11-12\", \"Track Name\": \"Hymn For The Weekend\", \"Streams\": 5203}, {\"Date\": \"2017-11-12\", \"Track Name\": \"Hymn For The Weekend - Seeb Remix\", \"Streams\": 5276}, {\"Date\": \"2017-11-12\", \"Track Name\": \"The Scientist\", \"Streams\": 7721}, {\"Date\": \"2017-11-13\", \"Track Name\": \"Everglow - Single Version\", \"Streams\": 28555}, {\"Date\": \"2017-11-13\", \"Track Name\": \"Hymn For The Weekend - Seeb Remix\", \"Streams\": 6211}, {\"Date\": \"2017-11-13\", \"Track Name\": \"The Scientist\", \"Streams\": 5540}, {\"Date\": \"2017-11-14\", \"Track Name\": \"Christmas Lights\", \"Streams\": 11231}, {\"Date\": \"2017-11-14\", \"Track Name\": \"Everglow - Single Version\", \"Streams\": 17227}, {\"Date\": \"2017-11-14\", \"Track Name\": \"The Scientist\", \"Streams\": 6945}, {\"Date\": \"2017-11-15\", \"Track Name\": \"Everglow\", \"Streams\": 5387}, {\"Date\": \"2017-11-15\", \"Track Name\": \"Everglow - Single Version\", \"Streams\": 19882}, {\"Date\": \"2017-11-15\", \"Track Name\": \"Hymn For The Weekend - Seeb Remix\", \"Streams\": 6801}, {\"Date\": \"2017-11-15\", \"Track Name\": \"The Scientist\", \"Streams\": 7466}, {\"Date\": \"2017-11-16\", \"Track Name\": \"Everglow - Single Version\", \"Streams\": 32377}, {\"Date\": \"2017-11-16\", \"Track Name\": \"The Scientist\", \"Streams\": 5842}, {\"Date\": \"2017-11-17\", \"Track Name\": \"Hymn For The Weekend - Seeb Remix\", \"Streams\": 6340}, {\"Date\": \"2017-11-18\", \"Track Name\": \"Everglow - Single Version\", \"Streams\": 10365}, {\"Date\": \"2017-11-18\", \"Track Name\": \"Hymn For The Weekend - Seeb Remix\", \"Streams\": 6057}, {\"Date\": \"2017-11-18\", \"Track Name\": \"The Scientist\", \"Streams\": 2335}, {\"Date\": \"2017-11-19\", \"Track Name\": \"Christmas Lights\", \"Streams\": 9600}, {\"Date\": \"2017-11-19\", \"Track Name\": \"Everglow - Single Version\", \"Streams\": 24961}, {\"Date\": \"2017-11-19\", \"Track Name\": \"Hymn For The Weekend - Seeb Remix\", \"Streams\": 5201}, {\"Date\": \"2017-11-19\", \"Track Name\": \"The Scientist\", \"Streams\": 7469}, {\"Date\": \"2017-11-20\", \"Track Name\": \"Christmas Lights\", \"Streams\": 12755}, {\"Date\": \"2017-11-20\", \"Track Name\": \"Everglow - Single Version\", \"Streams\": 29388}, {\"Date\": \"2017-11-20\", \"Track Name\": \"Everglow - Single Version, Radio Edit\", \"Streams\": 10082}, {\"Date\": \"2017-11-20\", \"Track Name\": \"Hymn For The Weekend - Seeb Remix\", \"Streams\": 5978}, {\"Date\": \"2017-11-20\", \"Track Name\": \"The Scientist\", \"Streams\": 2637}, {\"Date\": \"2017-11-21\", \"Track Name\": \"Christmas Lights\", \"Streams\": 13992}, {\"Date\": \"2017-11-21\", \"Track Name\": \"Everglow - Single Version\", \"Streams\": 18674}, {\"Date\": \"2017-11-21\", \"Track Name\": \"Everglow - Single Version, Radio Edit\", \"Streams\": 11949}, {\"Date\": \"2017-11-21\", \"Track Name\": \"The Scientist\", \"Streams\": 3085}, {\"Date\": \"2017-11-22\", \"Track Name\": \"Christmas Lights\", \"Streams\": 15342}, {\"Date\": \"2017-11-22\", \"Track Name\": \"Everglow - Single Version\", \"Streams\": 31742}, {\"Date\": \"2017-11-22\", \"Track Name\": \"Everglow - Single Version, Radio Edit\", \"Streams\": 11706}, {\"Date\": \"2017-11-22\", \"Track Name\": \"Hymn For The Weekend - Seeb Remix\", \"Streams\": 7249}, {\"Date\": \"2017-11-22\", \"Track Name\": \"The Scientist\", \"Streams\": 3465}, {\"Date\": \"2017-11-23\", \"Track Name\": \"Christmas Lights\", \"Streams\": 13966}, {\"Date\": \"2017-11-23\", \"Track Name\": \"Everglow - Single Version\", \"Streams\": 29717}, {\"Date\": \"2017-11-23\", \"Track Name\": \"Everglow - Single Version, Radio Edit\", \"Streams\": 11152}, {\"Date\": \"2017-11-23\", \"Track Name\": \"The Scientist\", \"Streams\": 5998}, {\"Date\": \"2017-11-24\", \"Track Name\": \"Christmas Lights\", \"Streams\": 13652}, {\"Date\": \"2017-11-24\", \"Track Name\": \"The Scientist\", \"Streams\": 2696}, {\"Date\": \"2017-11-25\", \"Track Name\": \"Christmas Lights\", \"Streams\": 31501}, {\"Date\": \"2017-11-25\", \"Track Name\": \"Everglow - Single Version\", \"Streams\": 10070}, {\"Date\": \"2017-11-25\", \"Track Name\": \"The Scientist\", \"Streams\": 2469}, {\"Date\": \"2017-11-26\", \"Track Name\": \"A Sky Full of Stars\", \"Streams\": 5742}, {\"Date\": \"2017-11-26\", \"Track Name\": \"Christmas Lights\", \"Streams\": 85133}, {\"Date\": \"2017-11-26\", \"Track Name\": \"Everglow - Single Version, Radio Edit\", \"Streams\": 11652}, {\"Date\": \"2017-11-26\", \"Track Name\": \"The Scientist\", \"Streams\": 8184}, {\"Date\": \"2017-11-27\", \"Track Name\": \"Christmas Lights\", \"Streams\": 31703}, {\"Date\": \"2017-11-27\", \"Track Name\": \"Everglow - Single Version\", \"Streams\": 28682}, {\"Date\": \"2017-11-27\", \"Track Name\": \"Everglow - Single Version, Radio Edit\", \"Streams\": 13177}, {\"Date\": \"2017-11-27\", \"Track Name\": \"The Scientist\", \"Streams\": 2578}, {\"Date\": \"2017-11-28\", \"Track Name\": \"Christmas Lights\", \"Streams\": 37750}, {\"Date\": \"2017-11-28\", \"Track Name\": \"Everglow - Single Version\", \"Streams\": 17338}, {\"Date\": \"2017-11-28\", \"Track Name\": \"Everglow - Single Version, Radio Edit\", \"Streams\": 17631}, {\"Date\": \"2017-11-28\", \"Track Name\": \"The Scientist\", \"Streams\": 2565}, {\"Date\": \"2017-11-29\", \"Track Name\": \"Christmas Lights\", \"Streams\": 82073}, {\"Date\": \"2017-11-29\", \"Track Name\": \"Everglow - Single Version\", \"Streams\": 20051}, {\"Date\": \"2017-11-29\", \"Track Name\": \"Everglow - Single Version, Radio Edit\", \"Streams\": 19612}, {\"Date\": \"2017-11-29\", \"Track Name\": \"Hymn For The Weekend - Seeb Remix\", \"Streams\": 6067}, {\"Date\": \"2017-11-30\", \"Track Name\": \"Christmas Lights\", \"Streams\": 129202}, {\"Date\": \"2017-11-30\", \"Track Name\": \"Everglow - Single Version\", \"Streams\": 18903}, {\"Date\": \"2017-11-30\", \"Track Name\": \"Everglow - Single Version, Radio Edit\", \"Streams\": 23992}, {\"Date\": \"2017-12-01\", \"Track Name\": \"Christmas Lights\", \"Streams\": 272768}, {\"Date\": \"2017-12-01\", \"Track Name\": \"Everglow - Single Version, Radio Edit\", \"Streams\": 30489}, {\"Date\": \"2017-12-02\", \"Track Name\": \"Christmas Lights\", \"Streams\": 345493}, {\"Date\": \"2017-12-02\", \"Track Name\": \"Everglow - Single Version, Radio Edit\", \"Streams\": 33587}, {\"Date\": \"2017-12-03\", \"Track Name\": \"Christmas Lights\", \"Streams\": 400945}, {\"Date\": \"2017-12-03\", \"Track Name\": \"Everglow - Single Version, Radio Edit\", \"Streams\": 35702}, {\"Date\": \"2017-12-04\", \"Track Name\": \"Christmas Lights\", \"Streams\": 251012}, {\"Date\": \"2017-12-04\", \"Track Name\": \"Everglow - Single Version\", \"Streams\": 17955}, {\"Date\": \"2017-12-04\", \"Track Name\": \"Everglow - Single Version, Radio Edit\", \"Streams\": 39476}, {\"Date\": \"2017-12-05\", \"Track Name\": \"Christmas Lights\", \"Streams\": 243651}, {\"Date\": \"2017-12-05\", \"Track Name\": \"Everglow - Single Version\", \"Streams\": 17944}, {\"Date\": \"2017-12-05\", \"Track Name\": \"Everglow - Single Version, Radio Edit\", \"Streams\": 40327}, {\"Date\": \"2017-12-06\", \"Track Name\": \"Christmas Lights\", \"Streams\": 280421}, {\"Date\": \"2017-12-06\", \"Track Name\": \"Everglow - Single Version\", \"Streams\": 22637}, {\"Date\": \"2017-12-06\", \"Track Name\": \"Everglow - Single Version, Radio Edit\", \"Streams\": 41220}, {\"Date\": \"2017-12-07\", \"Track Name\": \"Christmas Lights\", \"Streams\": 287057}, {\"Date\": \"2017-12-07\", \"Track Name\": \"Everglow - Single Version, Radio Edit\", \"Streams\": 40455}, {\"Date\": \"2017-12-08\", \"Track Name\": \"Christmas Lights\", \"Streams\": 356493}, {\"Date\": \"2017-12-08\", \"Track Name\": \"Everglow - Single Version, Radio Edit\", \"Streams\": 41724}, {\"Date\": \"2017-12-09\", \"Track Name\": \"Christmas Lights\", \"Streams\": 445946}, {\"Date\": \"2017-12-09\", \"Track Name\": \"Everglow - Single Version, Radio Edit\", \"Streams\": 44923}, {\"Date\": \"2017-12-10\", \"Track Name\": \"2000 Miles\", \"Streams\": 7081}, {\"Date\": \"2017-12-10\", \"Track Name\": \"Christmas Lights\", \"Streams\": 491370}, {\"Date\": \"2017-12-10\", \"Track Name\": \"Everglow - Single Version, Radio Edit\", \"Streams\": 42053}, {\"Date\": \"2017-12-10\", \"Track Name\": \"The Scientist\", \"Streams\": 2200}, {\"Date\": \"2017-12-11\", \"Track Name\": \"Christmas Lights\", \"Streams\": 339199}, {\"Date\": \"2017-12-11\", \"Track Name\": \"Everglow - Single Version\", \"Streams\": 18699}, {\"Date\": \"2017-12-11\", \"Track Name\": \"Everglow - Single Version, Radio Edit\", \"Streams\": 42273}, {\"Date\": \"2017-12-11\", \"Track Name\": \"The Scientist\", \"Streams\": 2437}, {\"Date\": \"2017-12-12\", \"Track Name\": \"Christmas Lights\", \"Streams\": 317781}, {\"Date\": \"2017-12-12\", \"Track Name\": \"Everglow - Single Version\", \"Streams\": 19006}, {\"Date\": \"2017-12-12\", \"Track Name\": \"Everglow - Single Version, Radio Edit\", \"Streams\": 42369}, {\"Date\": \"2017-12-12\", \"Track Name\": \"The Scientist\", \"Streams\": 2486}, {\"Date\": \"2017-12-13\", \"Track Name\": \"Christmas Lights\", \"Streams\": 326962}, {\"Date\": \"2017-12-13\", \"Track Name\": \"Everglow - Single Version\", \"Streams\": 20660}, {\"Date\": \"2017-12-13\", \"Track Name\": \"Everglow - Single Version, Radio Edit\", \"Streams\": 43676}, {\"Date\": \"2017-12-14\", \"Track Name\": \"Christmas Lights\", \"Streams\": 346187}, {\"Date\": \"2017-12-14\", \"Track Name\": \"Everglow - Single Version\", \"Streams\": 18850}, {\"Date\": \"2017-12-14\", \"Track Name\": \"Everglow - Single Version, Radio Edit\", \"Streams\": 44908}, {\"Date\": \"2017-12-14\", \"Track Name\": \"The Scientist\", \"Streams\": 2561}, {\"Date\": \"2017-12-15\", \"Track Name\": \"Christmas Lights\", \"Streams\": 398792}, {\"Date\": \"2017-12-15\", \"Track Name\": \"Everglow - Single Version, Radio Edit\", \"Streams\": 45190}, {\"Date\": \"2017-12-16\", \"Track Name\": \"Christmas Lights\", \"Streams\": 508980}, {\"Date\": \"2017-12-16\", \"Track Name\": \"Everglow - Single Version, Radio Edit\", \"Streams\": 49897}, {\"Date\": \"2017-12-17\", \"Track Name\": \"Christmas Lights\", \"Streams\": 504656}, {\"Date\": \"2017-12-17\", \"Track Name\": \"Everglow - Single Version, Radio Edit\", \"Streams\": 43272}, {\"Date\": \"2017-12-18\", \"Track Name\": \"Christmas Lights\", \"Streams\": 397485}, {\"Date\": \"2017-12-18\", \"Track Name\": \"Everglow - Single Version, Radio Edit\", \"Streams\": 47943}, {\"Date\": \"2017-12-19\", \"Track Name\": \"Christmas Lights\", \"Streams\": 418739}, {\"Date\": \"2017-12-19\", \"Track Name\": \"Everglow - Single Version, Radio Edit\", \"Streams\": 48375}, {\"Date\": \"2017-12-20\", \"Track Name\": \"Christmas Lights\", \"Streams\": 469198}, {\"Date\": \"2017-12-20\", \"Track Name\": \"Everglow - Single Version\", \"Streams\": 22104}, {\"Date\": \"2017-12-20\", \"Track Name\": \"Everglow - Single Version, Radio Edit\", \"Streams\": 53474}, {\"Date\": \"2017-12-21\", \"Track Name\": \"Christmas Lights\", \"Streams\": 501422}, {\"Date\": \"2017-12-21\", \"Track Name\": \"Everglow - Single Version, Radio Edit\", \"Streams\": 58895}, {\"Date\": \"2017-12-22\", \"Track Name\": \"Christmas Lights\", \"Streams\": 609054}, {\"Date\": \"2017-12-22\", \"Track Name\": \"Everglow - Single Version, Radio Edit\", \"Streams\": 68492}, {\"Date\": \"2017-12-22\", \"Track Name\": \"Have Yourself A Merry Little Christmas (Jo Whiley / BBC Radio 1 Session)\", \"Streams\": 25723}, {\"Date\": \"2017-12-23\", \"Track Name\": \"Christmas Lights\", \"Streams\": 752011}, {\"Date\": \"2017-12-23\", \"Track Name\": \"Christmas Lights - Live From Spotify London\", \"Streams\": 5021}, {\"Date\": \"2017-12-23\", \"Track Name\": \"Everglow - Single Version, Radio Edit\", \"Streams\": 70397}, {\"Date\": \"2017-12-23\", \"Track Name\": \"Have Yourself A Merry Little Christmas (Jo Whiley / BBC Radio 1 Session)\", \"Streams\": 34595}, {\"Date\": \"2017-12-24\", \"Track Name\": \"Christmas Lights\", \"Streams\": 1325907}, {\"Date\": \"2017-12-24\", \"Track Name\": \"Christmas Lights - Live From Spotify London\", \"Streams\": 86903}, {\"Date\": \"2017-12-24\", \"Track Name\": \"Everglow - Single Version, Radio Edit\", \"Streams\": 72504}, {\"Date\": \"2017-12-24\", \"Track Name\": \"Have Yourself A Merry Little Christmas (Jo Whiley / BBC Radio 1 Session)\", \"Streams\": 68029}, {\"Date\": \"2017-12-25\", \"Track Name\": \"Christmas Lights\", \"Streams\": 881605}, {\"Date\": \"2017-12-25\", \"Track Name\": \"Christmas Lights - Live From Spotify London\", \"Streams\": 202478}, {\"Date\": \"2017-12-25\", \"Track Name\": \"Everglow - Single Version, Radio Edit\", \"Streams\": 35574}, {\"Date\": \"2017-12-25\", \"Track Name\": \"Have Yourself A Merry Little Christmas (Jo Whiley / BBC Radio 1 Session)\", \"Streams\": 85385}, {\"Date\": \"2017-12-26\", \"Track Name\": \"Christmas Lights\", \"Streams\": 314060}, {\"Date\": \"2017-12-26\", \"Track Name\": \"Everglow - Single Version, Radio Edit\", \"Streams\": 26632}, {\"Date\": \"2017-12-26\", \"Track Name\": \"Fix You\", \"Streams\": 21868}, {\"Date\": \"2017-12-26\", \"Track Name\": \"Have Yourself A Merry Little Christmas (Jo Whiley / BBC Radio 1 Session)\", \"Streams\": 43926}, {\"Date\": \"2017-12-27\", \"Track Name\": \"Christmas Lights\", \"Streams\": 18248}, {\"Date\": \"2017-12-27\", \"Track Name\": \"Everglow - Single Version\", \"Streams\": 23625}, {\"Date\": \"2017-12-27\", \"Track Name\": \"Everglow - Single Version, Radio Edit\", \"Streams\": 23545}, {\"Date\": \"2017-12-27\", \"Track Name\": \"Fix You\", \"Streams\": 21380}, {\"Date\": \"2017-12-27\", \"Track Name\": \"The Scientist\", \"Streams\": 3891}, {\"Date\": \"2017-12-28\", \"Track Name\": \"Christmas Lights\", \"Streams\": 12596}, {\"Date\": \"2017-12-28\", \"Track Name\": \"Everglow - Single Version\", \"Streams\": 16787}, {\"Date\": \"2017-12-28\", \"Track Name\": \"Everglow - Single Version, Radio Edit\", \"Streams\": 22152}, {\"Date\": \"2017-12-28\", \"Track Name\": \"Fix You\", \"Streams\": 19114}, {\"Date\": \"2017-12-28\", \"Track Name\": \"The Scientist\", \"Streams\": 3541}, {\"Date\": \"2017-12-28\", \"Track Name\": \"Yellow\", \"Streams\": 44908}, {\"Date\": \"2017-12-29\", \"Track Name\": \"Christmas Lights\", \"Streams\": 10196}, {\"Date\": \"2017-12-29\", \"Track Name\": \"Everglow - Single Version\", \"Streams\": 19301}, {\"Date\": \"2017-12-29\", \"Track Name\": \"Everglow - Single Version, Radio Edit\", \"Streams\": 20668}, {\"Date\": \"2017-12-29\", \"Track Name\": \"Fix You\", \"Streams\": 19540}, {\"Date\": \"2017-12-29\", \"Track Name\": \"The Scientist\", \"Streams\": 3596}, {\"Date\": \"2017-12-30\", \"Track Name\": \"Everglow - Single Version\", \"Streams\": 21940}, {\"Date\": \"2017-12-30\", \"Track Name\": \"Everglow - Single Version, Radio Edit\", \"Streams\": 16719}, {\"Date\": \"2017-12-30\", \"Track Name\": \"Fix You\", \"Streams\": 17982}, {\"Date\": \"2017-12-30\", \"Track Name\": \"The Scientist\", \"Streams\": 3541}, {\"Date\": \"2017-12-31\", \"Track Name\": \"Everglow - Single Version, Radio Edit\", \"Streams\": 17176}, {\"Date\": \"2017-12-31\", \"Track Name\": \"Fix You\", \"Streams\": 24151}, {\"Date\": \"2017-12-31\", \"Track Name\": \"Hymn For The Weekend - Seeb Remix\", \"Streams\": 91786}, {\"Date\": \"2018-01-01\", \"Track Name\": \"Everglow - Single Version\", \"Streams\": 14815}, {\"Date\": \"2018-01-01\", \"Track Name\": \"Everglow - Single Version, Radio Edit\", \"Streams\": 10738}, {\"Date\": \"2018-01-01\", \"Track Name\": \"Fix You\", \"Streams\": 16911}, {\"Date\": \"2018-01-01\", \"Track Name\": \"Hymn For The Weekend - Seeb Remix\", \"Streams\": 12748}, {\"Date\": \"2018-01-01\", \"Track Name\": \"Viva La Vida\", \"Streams\": 14771}, {\"Date\": \"2018-01-02\", \"Track Name\": \"Everglow - Single Version\", \"Streams\": 16622}, {\"Date\": \"2018-01-02\", \"Track Name\": \"Everglow - Single Version, Radio Edit\", \"Streams\": 15058}, {\"Date\": \"2018-01-02\", \"Track Name\": \"Fix You\", \"Streams\": 17688}, {\"Date\": \"2018-01-02\", \"Track Name\": \"Hymn For The Weekend - Seeb Remix\", \"Streams\": 17510}, {\"Date\": \"2018-01-02\", \"Track Name\": \"The Scientist\", \"Streams\": 3617}, {\"Date\": \"2018-01-02\", \"Track Name\": \"Viva La Vida\", \"Streams\": 17833}, {\"Date\": \"2018-01-03\", \"Track Name\": \"Everglow - Single Version\", \"Streams\": 22146}, {\"Date\": \"2018-01-03\", \"Track Name\": \"Everglow - Single Version, Radio Edit\", \"Streams\": 16369}, {\"Date\": \"2018-01-03\", \"Track Name\": \"The Scientist\", \"Streams\": 3757}, {\"Date\": \"2018-01-04\", \"Track Name\": \"Everglow - Single Version\", \"Streams\": 16755}, {\"Date\": \"2018-01-04\", \"Track Name\": \"Everglow - Single Version, Radio Edit\", \"Streams\": 15945}, {\"Date\": \"2018-01-04\", \"Track Name\": \"Hymn For The Weekend - Seeb Remix\", \"Streams\": 19684}, {\"Date\": \"2018-01-04\", \"Track Name\": \"The Scientist\", \"Streams\": 3586}, {\"Date\": \"2018-01-05\", \"Track Name\": \"Everglow - Single Version\", \"Streams\": 17607}, {\"Date\": \"2018-01-05\", \"Track Name\": \"Everglow - Single Version, Radio Edit\", \"Streams\": 13324}, {\"Date\": \"2018-01-05\", \"Track Name\": \"The Scientist\", \"Streams\": 3554}, {\"Date\": \"2018-01-06\", \"Track Name\": \"Everglow - Single Version\", \"Streams\": 16862}, {\"Date\": \"2018-01-06\", \"Track Name\": \"Everglow - Single Version, Radio Edit\", \"Streams\": 13236}, {\"Date\": \"2018-01-06\", \"Track Name\": \"The Scientist\", \"Streams\": 3755}, {\"Date\": \"2018-01-07\", \"Track Name\": \"Everglow - Single Version\", \"Streams\": 18420}, {\"Date\": \"2018-01-07\", \"Track Name\": \"Everglow - Single Version, Radio Edit\", \"Streams\": 10930}, {\"Date\": \"2018-01-07\", \"Track Name\": \"The Scientist\", \"Streams\": 5981}, {\"Date\": \"2018-01-08\", \"Track Name\": \"Everglow - Single Version\", \"Streams\": 23065}, {\"Date\": \"2018-01-08\", \"Track Name\": \"Everglow - Single Version, Radio Edit\", \"Streams\": 15226}, {\"Date\": \"2018-01-08\", \"Track Name\": \"The Scientist\", \"Streams\": 5904}, {\"Date\": \"2018-01-09\", \"Track Name\": \"Everglow - Single Version\", \"Streams\": 17277}, {\"Date\": \"2018-01-09\", \"Track Name\": \"Everglow - Single Version, Radio Edit\", \"Streams\": 13478}, {\"Date\": \"2018-01-09\", \"Track Name\": \"The Scientist\", \"Streams\": 6041}]}}, {\"mode\": \"vega-lite\"});\n",
              "</script>"
            ],
            "text/plain": [
              "alt.Chart(...)"
            ]
          },
          "execution_count": 44,
          "metadata": {},
          "output_type": "execute_result"
        }
      ],
      "source": [
        "# Add a scale interaction to allow pan and zoom. Use your scroll wheel to zoom  \n",
        "# and drag-and-drop to pan. More interaction techniques in documentation\n",
        "\n",
        "scales = alt.selection_interval(bind='scales')\n",
        "alt.Chart(df_chart).mark_line().encode(\n",
        "    x=\"Date:T\",\n",
        "    y=\"Streams:Q\",\n",
        "    color=\"Track Name:N\"\n",
        ").add_selection(\n",
        "    scales\n",
        ")"
      ]
    },
    {
      "cell_type": "code",
      "execution_count": 45,
      "metadata": {
        "colab": {
          "base_uri": "https://localhost:8080/",
          "height": 690
        },
        "colab_type": "code",
        "id": "fpVcYV9UBz03",
        "outputId": "bb2ba32d-e699-464b-a071-9569916ced16"
      },
      "outputs": [
        {
          "data": {
            "text/html": [
              "\n",
              "<div id=\"altair-viz-8f2792e07f65423f87d6e81234049ada\"></div>\n",
              "<script type=\"text/javascript\">\n",
              "  var VEGA_DEBUG = (typeof VEGA_DEBUG == \"undefined\") ? {} : VEGA_DEBUG;\n",
              "  (function(spec, embedOpt){\n",
              "    let outputDiv = document.currentScript.previousElementSibling;\n",
              "    if (outputDiv.id !== \"altair-viz-8f2792e07f65423f87d6e81234049ada\") {\n",
              "      outputDiv = document.getElementById(\"altair-viz-8f2792e07f65423f87d6e81234049ada\");\n",
              "    }\n",
              "    const paths = {\n",
              "      \"vega\": \"https://cdn.jsdelivr.net/npm//vega@5?noext\",\n",
              "      \"vega-lib\": \"https://cdn.jsdelivr.net/npm//vega-lib?noext\",\n",
              "      \"vega-lite\": \"https://cdn.jsdelivr.net/npm//vega-lite@4.17.0?noext\",\n",
              "      \"vega-embed\": \"https://cdn.jsdelivr.net/npm//vega-embed@6?noext\",\n",
              "    };\n",
              "\n",
              "    function maybeLoadScript(lib, version) {\n",
              "      var key = `${lib.replace(\"-\", \"\")}_version`;\n",
              "      return (VEGA_DEBUG[key] == version) ?\n",
              "        Promise.resolve(paths[lib]) :\n",
              "        new Promise(function(resolve, reject) {\n",
              "          var s = document.createElement('script');\n",
              "          document.getElementsByTagName(\"head\")[0].appendChild(s);\n",
              "          s.async = true;\n",
              "          s.onload = () => {\n",
              "            VEGA_DEBUG[key] = version;\n",
              "            return resolve(paths[lib]);\n",
              "          };\n",
              "          s.onerror = () => reject(`Error loading script: ${paths[lib]}`);\n",
              "          s.src = paths[lib];\n",
              "        });\n",
              "    }\n",
              "\n",
              "    function showError(err) {\n",
              "      outputDiv.innerHTML = `<div class=\"error\" style=\"color:red;\">${err}</div>`;\n",
              "      throw err;\n",
              "    }\n",
              "\n",
              "    function displayChart(vegaEmbed) {\n",
              "      vegaEmbed(outputDiv, spec, embedOpt)\n",
              "        .catch(err => showError(`Javascript Error: ${err.message}<br>This usually means there's a typo in your chart specification. See the javascript console for the full traceback.`));\n",
              "    }\n",
              "\n",
              "    if(typeof define === \"function\" && define.amd) {\n",
              "      requirejs.config({paths});\n",
              "      require([\"vega-embed\"], displayChart, err => showError(`Error loading script: ${err.message}`));\n",
              "    } else {\n",
              "      maybeLoadScript(\"vega\", \"5\")\n",
              "        .then(() => maybeLoadScript(\"vega-lite\", \"4.17.0\"))\n",
              "        .then(() => maybeLoadScript(\"vega-embed\", \"6\"))\n",
              "        .catch(showError)\n",
              "        .then(() => displayChart(vegaEmbed));\n",
              "    }\n",
              "  })({\"config\": {\"view\": {\"continuousWidth\": 400, \"continuousHeight\": 300}}, \"hconcat\": [{\"mark\": \"line\", \"encoding\": {\"color\": {\"condition\": {\"field\": \"Track Name\", \"legend\": null, \"type\": \"nominal\", \"selection\": \"selector002\"}, \"value\": \"lightgray\"}, \"tooltip\": [{\"field\": \"Track Name\", \"type\": \"nominal\"}, {\"field\": \"Streams\", \"type\": \"quantitative\"}, {\"field\": \"Date\", \"type\": \"nominal\"}], \"x\": {\"field\": \"Date\", \"type\": \"temporal\"}, \"y\": {\"field\": \"Streams\", \"type\": \"quantitative\"}}}, {\"mark\": \"square\", \"encoding\": {\"color\": {\"condition\": {\"field\": \"Track Name\", \"legend\": null, \"type\": \"nominal\", \"selection\": \"selector002\"}, \"value\": \"lightgray\"}, \"y\": {\"axis\": {\"orient\": \"right\"}, \"field\": \"Track Name\", \"type\": \"nominal\"}}, \"selection\": {\"selector002\": {\"type\": \"multi\", \"fields\": [\"Track Name\"]}}}], \"data\": {\"name\": \"data-e4f7944191f856fa55f49c1e46acdd73\"}, \"$schema\": \"https://vega.github.io/schema/vega-lite/v4.17.0.json\", \"datasets\": {\"data-e4f7944191f856fa55f49c1e46acdd73\": [{\"Date\": \"2017-01-01\", \"Track Name\": \"Adventure Of A Lifetime\", \"Streams\": 64682}, {\"Date\": \"2017-01-01\", \"Track Name\": \"Everglow - Single Version\", \"Streams\": 17622}, {\"Date\": \"2017-01-01\", \"Track Name\": \"Everglow - Single Version, Radio Edit\", \"Streams\": 48726}, {\"Date\": \"2017-01-01\", \"Track Name\": \"Hymn For The Weekend\", \"Streams\": 82932}, {\"Date\": \"2017-01-01\", \"Track Name\": \"Hymn For The Weekend - Seeb Remix\", \"Streams\": 203571}, {\"Date\": \"2017-01-01\", \"Track Name\": \"The Scientist\", \"Streams\": 9786}, {\"Date\": \"2017-01-02\", \"Track Name\": \"Adventure Of A Lifetime\", \"Streams\": 72080}, {\"Date\": \"2017-01-02\", \"Track Name\": \"Everglow - Single Version\", \"Streams\": 25104}, {\"Date\": \"2017-01-02\", \"Track Name\": \"Everglow - Single Version, Radio Edit\", \"Streams\": 61611}, {\"Date\": \"2017-01-02\", \"Track Name\": \"Hymn For The Weekend\", \"Streams\": 96488}, {\"Date\": \"2017-01-02\", \"Track Name\": \"Hymn For The Weekend - Seeb Remix\", \"Streams\": 228656}, {\"Date\": \"2017-01-02\", \"Track Name\": \"The Scientist\", \"Streams\": 28389}, {\"Date\": \"2017-01-03\", \"Track Name\": \"Adventure Of A Lifetime\", \"Streams\": 80205}, {\"Date\": \"2017-01-03\", \"Track Name\": \"Everglow - Single Version\", \"Streams\": 26885}, {\"Date\": \"2017-01-03\", \"Track Name\": \"Everglow - Single Version, Radio Edit\", \"Streams\": 71375}, {\"Date\": \"2017-01-03\", \"Track Name\": \"Hymn For The Weekend\", \"Streams\": 89660}, {\"Date\": \"2017-01-03\", \"Track Name\": \"Hymn For The Weekend - Seeb Remix\", \"Streams\": 230331}, {\"Date\": \"2017-01-03\", \"Track Name\": \"The Scientist\", \"Streams\": 26971}, {\"Date\": \"2017-01-04\", \"Track Name\": \"Adventure Of A Lifetime\", \"Streams\": 70613}, {\"Date\": \"2017-01-04\", \"Track Name\": \"Everglow - Single Version\", \"Streams\": 29022}, {\"Date\": \"2017-01-04\", \"Track Name\": \"Everglow - Single Version, Radio Edit\", \"Streams\": 82416}, {\"Date\": \"2017-01-04\", \"Track Name\": \"Hymn For The Weekend\", \"Streams\": 89018}, {\"Date\": \"2017-01-04\", \"Track Name\": \"Hymn For The Weekend - Seeb Remix\", \"Streams\": 234109}, {\"Date\": \"2017-01-04\", \"Track Name\": \"The Scientist\", \"Streams\": 26658}, {\"Date\": \"2017-01-05\", \"Track Name\": \"Adventure Of A Lifetime\", \"Streams\": 66582}, {\"Date\": \"2017-01-05\", \"Track Name\": \"Everglow - Single Version\", \"Streams\": 32066}, {\"Date\": \"2017-01-05\", \"Track Name\": \"Everglow - Single Version, Radio Edit\", \"Streams\": 66239}, {\"Date\": \"2017-01-05\", \"Track Name\": \"Hymn For The Weekend\", \"Streams\": 88713}, {\"Date\": \"2017-01-05\", \"Track Name\": \"Hymn For The Weekend - Seeb Remix\", \"Streams\": 240058}, {\"Date\": \"2017-01-05\", \"Track Name\": \"The Scientist\", \"Streams\": 11008}, {\"Date\": \"2017-01-06\", \"Track Name\": \"Adventure Of A Lifetime\", \"Streams\": 73484}, {\"Date\": \"2017-01-06\", \"Track Name\": \"Everglow - Single Version\", \"Streams\": 17230}, {\"Date\": \"2017-01-06\", \"Track Name\": \"Everglow - Single Version, Radio Edit\", \"Streams\": 55054}, {\"Date\": \"2017-01-06\", \"Track Name\": \"Hymn For The Weekend\", \"Streams\": 47166}, {\"Date\": \"2017-01-06\", \"Track Name\": \"Hymn For The Weekend - Seeb Remix\", \"Streams\": 230796}, {\"Date\": \"2017-01-06\", \"Track Name\": \"The Scientist\", \"Streams\": 9747}, {\"Date\": \"2017-01-07\", \"Track Name\": \"Adventure Of A Lifetime\", \"Streams\": 67505}, {\"Date\": \"2017-01-07\", \"Track Name\": \"Everglow - Single Version\", \"Streams\": 19947}, {\"Date\": \"2017-01-07\", \"Track Name\": \"Everglow - Single Version, Radio Edit\", \"Streams\": 67853}, {\"Date\": \"2017-01-07\", \"Track Name\": \"Hymn For The Weekend\", \"Streams\": 87170}, {\"Date\": \"2017-01-07\", \"Track Name\": \"Hymn For The Weekend - Seeb Remix\", \"Streams\": 238339}, {\"Date\": \"2017-01-07\", \"Track Name\": \"The Scientist\", \"Streams\": 2827}, {\"Date\": \"2017-01-08\", \"Track Name\": \"Adventure Of A Lifetime\", \"Streams\": 61948}, {\"Date\": \"2017-01-08\", \"Track Name\": \"Everglow - Single Version\", \"Streams\": 19783}, {\"Date\": \"2017-01-08\", \"Track Name\": \"Everglow - Single Version, Radio Edit\", \"Streams\": 73306}, {\"Date\": \"2017-01-08\", \"Track Name\": \"Hymn For The Weekend\", \"Streams\": 75923}, {\"Date\": \"2017-01-08\", \"Track Name\": \"Hymn For The Weekend - Seeb Remix\", \"Streams\": 187764}, {\"Date\": \"2017-01-08\", \"Track Name\": \"The Scientist\", \"Streams\": 11044}, {\"Date\": \"2017-01-09\", \"Track Name\": \"A Sky Full of Stars\", \"Streams\": 47012}, {\"Date\": \"2017-01-09\", \"Track Name\": \"Adventure Of A Lifetime\", \"Streams\": 63023}, {\"Date\": \"2017-01-09\", \"Track Name\": \"Everglow - Single Version\", \"Streams\": 26275}, {\"Date\": \"2017-01-09\", \"Track Name\": \"Everglow - Single Version, Radio Edit\", \"Streams\": 64895}, {\"Date\": \"2017-01-09\", \"Track Name\": \"Hymn For The Weekend\", \"Streams\": 46428}, {\"Date\": \"2017-01-09\", \"Track Name\": \"Hymn For The Weekend - Seeb Remix\", \"Streams\": 198199}, {\"Date\": \"2017-01-09\", \"Track Name\": \"The Scientist\", \"Streams\": 25572}, {\"Date\": \"2017-01-10\", \"Track Name\": \"Adventure Of A Lifetime\", \"Streams\": 67064}, {\"Date\": \"2017-01-10\", \"Track Name\": \"Everglow - Single Version\", \"Streams\": 27166}, {\"Date\": \"2017-01-10\", \"Track Name\": \"Everglow - Single Version, Radio Edit\", \"Streams\": 74305}, {\"Date\": \"2017-01-10\", \"Track Name\": \"Hymn For The Weekend\", \"Streams\": 80125}, {\"Date\": \"2017-01-10\", \"Track Name\": \"Hymn For The Weekend - Seeb Remix\", \"Streams\": 198233}, {\"Date\": \"2017-01-10\", \"Track Name\": \"The Scientist\", \"Streams\": 24239}, {\"Date\": \"2017-01-11\", \"Track Name\": \"Adventure Of A Lifetime\", \"Streams\": 68189}, {\"Date\": \"2017-01-11\", \"Track Name\": \"Everglow - Single Version\", \"Streams\": 26928}, {\"Date\": \"2017-01-11\", \"Track Name\": \"Everglow - Single Version, Radio Edit\", \"Streams\": 85985}, {\"Date\": \"2017-01-11\", \"Track Name\": \"Hymn For The Weekend\", \"Streams\": 49900}, {\"Date\": \"2017-01-11\", \"Track Name\": \"Hymn For The Weekend - Seeb Remix\", \"Streams\": 211534}, {\"Date\": \"2017-01-11\", \"Track Name\": \"The Scientist\", \"Streams\": 24950}, {\"Date\": \"2017-01-12\", \"Track Name\": \"Adventure Of A Lifetime\", \"Streams\": 64402}, {\"Date\": \"2017-01-12\", \"Track Name\": \"Everglow - Single Version\", \"Streams\": 30299}, {\"Date\": \"2017-01-12\", \"Track Name\": \"Everglow - Single Version, Radio Edit\", \"Streams\": 73550}, {\"Date\": \"2017-01-12\", \"Track Name\": \"Hymn For The Weekend\", \"Streams\": 49424}, {\"Date\": \"2017-01-12\", \"Track Name\": \"Hymn For The Weekend - Seeb Remix\", \"Streams\": 211682}, {\"Date\": \"2017-01-12\", \"Track Name\": \"The Scientist\", \"Streams\": 25747}, {\"Date\": \"2017-01-13\", \"Track Name\": \"Adventure Of A Lifetime\", \"Streams\": 80322}, {\"Date\": \"2017-01-13\", \"Track Name\": \"Everglow - Single Version, Radio Edit\", \"Streams\": 64048}, {\"Date\": \"2017-01-13\", \"Track Name\": \"Hymn For The Weekend\", \"Streams\": 41505}, {\"Date\": \"2017-01-13\", \"Track Name\": \"Hymn For The Weekend - Seeb Remix\", \"Streams\": 229145}, {\"Date\": \"2017-01-13\", \"Track Name\": \"The Scientist\", \"Streams\": 2368}, {\"Date\": \"2017-01-14\", \"Track Name\": \"Adventure Of A Lifetime\", \"Streams\": 68665}, {\"Date\": \"2017-01-14\", \"Track Name\": \"Everglow - Single Version\", \"Streams\": 18035}, {\"Date\": \"2017-01-14\", \"Track Name\": \"Everglow - Single Version, Radio Edit\", \"Streams\": 73999}, {\"Date\": \"2017-01-14\", \"Track Name\": \"Hymn For The Weekend\", \"Streams\": 50919}, {\"Date\": \"2017-01-14\", \"Track Name\": \"Hymn For The Weekend - Seeb Remix\", \"Streams\": 244341}, {\"Date\": \"2017-01-14\", \"Track Name\": \"The Scientist\", \"Streams\": 2704}, {\"Date\": \"2017-01-15\", \"Track Name\": \"Adventure Of A Lifetime\", \"Streams\": 61372}, {\"Date\": \"2017-01-15\", \"Track Name\": \"Everglow - Single Version\", \"Streams\": 17233}, {\"Date\": \"2017-01-15\", \"Track Name\": \"Everglow - Single Version, Radio Edit\", \"Streams\": 76658}, {\"Date\": \"2017-01-15\", \"Track Name\": \"Hymn For The Weekend\", \"Streams\": 44259}, {\"Date\": \"2017-01-15\", \"Track Name\": \"Hymn For The Weekend - Seeb Remix\", \"Streams\": 181695}, {\"Date\": \"2017-01-15\", \"Track Name\": \"The Scientist\", \"Streams\": 2620}, {\"Date\": \"2017-01-16\", \"Track Name\": \"A Sky Full of Stars\", \"Streams\": 49037}, {\"Date\": \"2017-01-16\", \"Track Name\": \"Adventure Of A Lifetime\", \"Streams\": 60267}, {\"Date\": \"2017-01-16\", \"Track Name\": \"Everglow - Single Version\", \"Streams\": 24090}, {\"Date\": \"2017-01-16\", \"Track Name\": \"Everglow - Single Version, Radio Edit\", \"Streams\": 64781}, {\"Date\": \"2017-01-16\", \"Track Name\": \"Hymn For The Weekend\", \"Streams\": 42946}, {\"Date\": \"2017-01-16\", \"Track Name\": \"Hymn For The Weekend - Seeb Remix\", \"Streams\": 188357}, {\"Date\": \"2017-01-16\", \"Track Name\": \"The Scientist\", \"Streams\": 14435}, {\"Date\": \"2017-01-17\", \"Track Name\": \"Adventure Of A Lifetime\", \"Streams\": 66585}, {\"Date\": \"2017-01-17\", \"Track Name\": \"Everglow - Single Version\", \"Streams\": 25473}, {\"Date\": \"2017-01-17\", \"Track Name\": \"Everglow - Single Version, Radio Edit\", \"Streams\": 76544}, {\"Date\": \"2017-01-17\", \"Track Name\": \"Hymn For The Weekend\", \"Streams\": 46468}, {\"Date\": \"2017-01-17\", \"Track Name\": \"Hymn For The Weekend - Seeb Remix\", \"Streams\": 199526}, {\"Date\": \"2017-01-17\", \"Track Name\": \"The Scientist\", \"Streams\": 4198}, {\"Date\": \"2017-01-18\", \"Track Name\": \"Adventure Of A Lifetime\", \"Streams\": 66479}, {\"Date\": \"2017-01-18\", \"Track Name\": \"Everglow - Single Version\", \"Streams\": 24984}, {\"Date\": \"2017-01-18\", \"Track Name\": \"Everglow - Single Version, Radio Edit\", \"Streams\": 88930}, {\"Date\": \"2017-01-18\", \"Track Name\": \"Hymn For The Weekend\", \"Streams\": 46367}, {\"Date\": \"2017-01-18\", \"Track Name\": \"Hymn For The Weekend - Seeb Remix\", \"Streams\": 209366}, {\"Date\": \"2017-01-18\", \"Track Name\": \"The Scientist\", \"Streams\": 2095}, {\"Date\": \"2017-01-19\", \"Track Name\": \"A Head Full Of Dreams\", \"Streams\": 8824}, {\"Date\": \"2017-01-19\", \"Track Name\": \"Adventure Of A Lifetime\", \"Streams\": 65512}, {\"Date\": \"2017-01-19\", \"Track Name\": \"Everglow - Single Version\", \"Streams\": 19064}, {\"Date\": \"2017-01-19\", \"Track Name\": \"Everglow - Single Version, Radio Edit\", \"Streams\": 75392}, {\"Date\": \"2017-01-19\", \"Track Name\": \"Hymn For The Weekend\", \"Streams\": 47072}, {\"Date\": \"2017-01-19\", \"Track Name\": \"Hymn For The Weekend - Seeb Remix\", \"Streams\": 208444}, {\"Date\": \"2017-01-19\", \"Track Name\": \"The Scientist\", \"Streams\": 17928}, {\"Date\": \"2017-01-20\", \"Track Name\": \"Adventure Of A Lifetime\", \"Streams\": 63594}, {\"Date\": \"2017-01-20\", \"Track Name\": \"Everglow - Single Version\", \"Streams\": 17740}, {\"Date\": \"2017-01-20\", \"Track Name\": \"Everglow - Single Version, Radio Edit\", \"Streams\": 59842}, {\"Date\": \"2017-01-20\", \"Track Name\": \"Hymn For The Weekend\", \"Streams\": 49368}, {\"Date\": \"2017-01-20\", \"Track Name\": \"Hymn For The Weekend - Seeb Remix\", \"Streams\": 209494}, {\"Date\": \"2017-01-21\", \"Track Name\": \"Adventure Of A Lifetime\", \"Streams\": 62441}, {\"Date\": \"2017-01-21\", \"Track Name\": \"Everglow - Single Version\", \"Streams\": 16532}, {\"Date\": \"2017-01-21\", \"Track Name\": \"Everglow - Single Version, Radio Edit\", \"Streams\": 73235}, {\"Date\": \"2017-01-21\", \"Track Name\": \"Hymn For The Weekend\", \"Streams\": 47377}, {\"Date\": \"2017-01-21\", \"Track Name\": \"Hymn For The Weekend - Seeb Remix\", \"Streams\": 213186}, {\"Date\": \"2017-01-22\", \"Track Name\": \"Adventure Of A Lifetime\", \"Streams\": 44030}, {\"Date\": \"2017-01-22\", \"Track Name\": \"Everglow - Single Version\", \"Streams\": 17301}, {\"Date\": \"2017-01-22\", \"Track Name\": \"Everglow - Single Version, Radio Edit\", \"Streams\": 68756}, {\"Date\": \"2017-01-22\", \"Track Name\": \"Hymn For The Weekend\", \"Streams\": 41203}, {\"Date\": \"2017-01-22\", \"Track Name\": \"Hymn For The Weekend - Seeb Remix\", \"Streams\": 159664}, {\"Date\": \"2017-01-22\", \"Track Name\": \"The Scientist\", \"Streams\": 2434}, {\"Date\": \"2017-01-23\", \"Track Name\": \"Adventure Of A Lifetime\", \"Streams\": 57005}, {\"Date\": \"2017-01-23\", \"Track Name\": \"Everglow - Single Version\", \"Streams\": 14879}, {\"Date\": \"2017-01-23\", \"Track Name\": \"Everglow - Single Version, Radio Edit\", \"Streams\": 66008}, {\"Date\": \"2017-01-23\", \"Track Name\": \"Hymn For The Weekend\", \"Streams\": 42870}, {\"Date\": \"2017-01-23\", \"Track Name\": \"Hymn For The Weekend - Seeb Remix\", \"Streams\": 169906}, {\"Date\": \"2017-01-23\", \"Track Name\": \"The Scientist\", \"Streams\": 2141}, {\"Date\": \"2017-01-23\", \"Track Name\": \"Viva La Vida\", \"Streams\": 56426}, {\"Date\": \"2017-01-24\", \"Track Name\": \"A Head Full Of Dreams\", \"Streams\": 8749}, {\"Date\": \"2017-01-24\", \"Track Name\": \"Adventure Of A Lifetime\", \"Streams\": 64308}, {\"Date\": \"2017-01-24\", \"Track Name\": \"Everglow - Single Version\", \"Streams\": 16061}, {\"Date\": \"2017-01-24\", \"Track Name\": \"Everglow - Single Version, Radio Edit\", \"Streams\": 65726}, {\"Date\": \"2017-01-24\", \"Track Name\": \"Hymn For The Weekend\", \"Streams\": 43426}, {\"Date\": \"2017-01-24\", \"Track Name\": \"Hymn For The Weekend - Seeb Remix\", \"Streams\": 188060}, {\"Date\": \"2017-01-24\", \"Track Name\": \"The Scientist\", \"Streams\": 20097}, {\"Date\": \"2017-01-24\", \"Track Name\": \"Viva La Vida\", \"Streams\": 2534}, {\"Date\": \"2017-01-25\", \"Track Name\": \"A Head Full Of Dreams\", \"Streams\": 10398}, {\"Date\": \"2017-01-25\", \"Track Name\": \"Adventure Of A Lifetime\", \"Streams\": 63369}, {\"Date\": \"2017-01-25\", \"Track Name\": \"Everglow - Single Version\", \"Streams\": 16902}, {\"Date\": \"2017-01-25\", \"Track Name\": \"Everglow - Single Version, Radio Edit\", \"Streams\": 84391}, {\"Date\": \"2017-01-25\", \"Track Name\": \"Hymn For The Weekend\", \"Streams\": 45366}, {\"Date\": \"2017-01-25\", \"Track Name\": \"Hymn For The Weekend - Seeb Remix\", \"Streams\": 184600}, {\"Date\": \"2017-01-25\", \"Track Name\": \"The Scientist\", \"Streams\": 4496}, {\"Date\": \"2017-01-26\", \"Track Name\": \"Adventure Of A Lifetime\", \"Streams\": 60484}, {\"Date\": \"2017-01-26\", \"Track Name\": \"Everglow - Single Version\", \"Streams\": 17236}, {\"Date\": \"2017-01-26\", \"Track Name\": \"Everglow - Single Version, Radio Edit\", \"Streams\": 69833}, {\"Date\": \"2017-01-26\", \"Track Name\": \"Hymn For The Weekend\", \"Streams\": 44855}, {\"Date\": \"2017-01-26\", \"Track Name\": \"Hymn For The Weekend - Seeb Remix\", \"Streams\": 180774}, {\"Date\": \"2017-01-26\", \"Track Name\": \"The Scientist\", \"Streams\": 4412}, {\"Date\": \"2017-01-27\", \"Track Name\": \"Adventure Of A Lifetime\", \"Streams\": 61477}, {\"Date\": \"2017-01-27\", \"Track Name\": \"Everglow - Single Version, Radio Edit\", \"Streams\": 59418}, {\"Date\": \"2017-01-27\", \"Track Name\": \"Hymn For The Weekend\", \"Streams\": 32068}, {\"Date\": \"2017-01-27\", \"Track Name\": \"Hymn For The Weekend - Seeb Remix\", \"Streams\": 180839}, {\"Date\": \"2017-01-27\", \"Track Name\": \"The Scientist\", \"Streams\": 2273}, {\"Date\": \"2017-01-28\", \"Track Name\": \"A Head Full Of Dreams\", \"Streams\": 12845}, {\"Date\": \"2017-01-28\", \"Track Name\": \"Adventure Of A Lifetime\", \"Streams\": 46504}, {\"Date\": \"2017-01-28\", \"Track Name\": \"Everglow - Single Version, Radio Edit\", \"Streams\": 71073}, {\"Date\": \"2017-01-28\", \"Track Name\": \"Hymn For The Weekend\", \"Streams\": 28301}, {\"Date\": \"2017-01-28\", \"Track Name\": \"Hymn For The Weekend - Seeb Remix\", \"Streams\": 182940}, {\"Date\": \"2017-01-28\", \"Track Name\": \"The Scientist\", \"Streams\": 2708}, {\"Date\": \"2017-01-29\", \"Track Name\": \"Adventure Of A Lifetime\", \"Streams\": 42549}, {\"Date\": \"2017-01-29\", \"Track Name\": \"Everglow - Single Version\", \"Streams\": 16193}, {\"Date\": \"2017-01-29\", \"Track Name\": \"Everglow - Single Version, Radio Edit\", \"Streams\": 66416}, {\"Date\": \"2017-01-29\", \"Track Name\": \"Hymn For The Weekend\", \"Streams\": 15973}, {\"Date\": \"2017-01-29\", \"Track Name\": \"Hymn For The Weekend - Seeb Remix\", \"Streams\": 126512}, {\"Date\": \"2017-01-29\", \"Track Name\": \"The Scientist\", \"Streams\": 2298}, {\"Date\": \"2017-01-30\", \"Track Name\": \"Adventure Of A Lifetime\", \"Streams\": 40358}, {\"Date\": \"2017-01-30\", \"Track Name\": \"Everglow - Single Version, Radio Edit\", \"Streams\": 61405}, {\"Date\": \"2017-01-30\", \"Track Name\": \"Hymn For The Weekend\", \"Streams\": 8189}, {\"Date\": \"2017-01-30\", \"Track Name\": \"Hymn For The Weekend - Seeb Remix\", \"Streams\": 127809}, {\"Date\": \"2017-01-30\", \"Track Name\": \"The Scientist\", \"Streams\": 15377}, {\"Date\": \"2017-01-30\", \"Track Name\": \"Viva La Vida\", \"Streams\": 62826}, {\"Date\": \"2017-01-31\", \"Track Name\": \"Adventure Of A Lifetime\", \"Streams\": 61092}, {\"Date\": \"2017-01-31\", \"Track Name\": \"Everglow - Single Version, Radio Edit\", \"Streams\": 65291}, {\"Date\": \"2017-01-31\", \"Track Name\": \"Hymn For The Weekend\", \"Streams\": 8372}, {\"Date\": \"2017-01-31\", \"Track Name\": \"Hymn For The Weekend - Seeb Remix\", \"Streams\": 103723}, {\"Date\": \"2017-02-01\", \"Track Name\": \"A Head Full Of Dreams\", \"Streams\": 10813}, {\"Date\": \"2017-02-01\", \"Track Name\": \"Adventure Of A Lifetime\", \"Streams\": 46798}, {\"Date\": \"2017-02-01\", \"Track Name\": \"Everglow - Single Version, Radio Edit\", \"Streams\": 84190}, {\"Date\": \"2017-02-01\", \"Track Name\": \"Hymn For The Weekend\", \"Streams\": 6067}, {\"Date\": \"2017-02-01\", \"Track Name\": \"Hymn For The Weekend - Seeb Remix\", \"Streams\": 106470}, {\"Date\": \"2017-02-01\", \"Track Name\": \"The Scientist\", \"Streams\": 2284}, {\"Date\": \"2017-02-02\", \"Track Name\": \"Adventure Of A Lifetime\", \"Streams\": 44362}, {\"Date\": \"2017-02-02\", \"Track Name\": \"Everglow - Single Version\", \"Streams\": 16434}, {\"Date\": \"2017-02-02\", \"Track Name\": \"Everglow - Single Version, Radio Edit\", \"Streams\": 70306}, {\"Date\": \"2017-02-02\", \"Track Name\": \"Hymn For The Weekend\", \"Streams\": 6010}, {\"Date\": \"2017-02-02\", \"Track Name\": \"Hymn For The Weekend - Seeb Remix\", \"Streams\": 104820}, {\"Date\": \"2017-02-02\", \"Track Name\": \"The Scientist\", \"Streams\": 2356}, {\"Date\": \"2017-02-03\", \"Track Name\": \"Adventure Of A Lifetime\", \"Streams\": 61548}, {\"Date\": \"2017-02-03\", \"Track Name\": \"Everglow - Single Version, Radio Edit\", \"Streams\": 60576}, {\"Date\": \"2017-02-03\", \"Track Name\": \"Hymn For The Weekend\", \"Streams\": 18989}, {\"Date\": \"2017-02-03\", \"Track Name\": \"Hymn For The Weekend - Seeb Remix\", \"Streams\": 114187}, {\"Date\": \"2017-02-04\", \"Track Name\": \"Adventure Of A Lifetime\", \"Streams\": 45520}, {\"Date\": \"2017-02-04\", \"Track Name\": \"Everglow - Single Version, Radio Edit\", \"Streams\": 69420}, {\"Date\": \"2017-02-04\", \"Track Name\": \"Hymn For The Weekend\", \"Streams\": 17688}, {\"Date\": \"2017-02-04\", \"Track Name\": \"Hymn For The Weekend - Seeb Remix\", \"Streams\": 124259}, {\"Date\": \"2017-02-04\", \"Track Name\": \"The Scientist\", \"Streams\": 2755}, {\"Date\": \"2017-02-05\", \"Track Name\": \"Adventure Of A Lifetime\", \"Streams\": 42659}, {\"Date\": \"2017-02-05\", \"Track Name\": \"Everglow - Single Version, Radio Edit\", \"Streams\": 56651}, {\"Date\": \"2017-02-05\", \"Track Name\": \"Hymn For The Weekend\", \"Streams\": 4548}, {\"Date\": \"2017-02-05\", \"Track Name\": \"Hymn For The Weekend - Seeb Remix\", \"Streams\": 86792}, {\"Date\": \"2017-02-05\", \"Track Name\": \"The Scientist\", \"Streams\": 5201}, {\"Date\": \"2017-02-06\", \"Track Name\": \"Adventure Of A Lifetime\", \"Streams\": 68062}, {\"Date\": \"2017-02-06\", \"Track Name\": \"Everglow - Single Version, Radio Edit\", \"Streams\": 56958}, {\"Date\": \"2017-02-06\", \"Track Name\": \"Hymn For The Weekend\", \"Streams\": 5736}, {\"Date\": \"2017-02-06\", \"Track Name\": \"Hymn For The Weekend - Seeb Remix\", \"Streams\": 95939}, {\"Date\": \"2017-02-07\", \"Track Name\": \"Adventure Of A Lifetime\", \"Streams\": 52772}, {\"Date\": \"2017-02-07\", \"Track Name\": \"Everglow - Single Version, Radio Edit\", \"Streams\": 64305}, {\"Date\": \"2017-02-07\", \"Track Name\": \"Hymn For The Weekend\", \"Streams\": 5768}, {\"Date\": \"2017-02-07\", \"Track Name\": \"Hymn For The Weekend - Seeb Remix\", \"Streams\": 96777}, {\"Date\": \"2017-02-08\", \"Track Name\": \"A Head Full Of Dreams\", \"Streams\": 10138}, {\"Date\": \"2017-02-08\", \"Track Name\": \"Adventure Of A Lifetime\", \"Streams\": 65018}, {\"Date\": \"2017-02-08\", \"Track Name\": \"Everglow - Single Version\", \"Streams\": 15784}, {\"Date\": \"2017-02-08\", \"Track Name\": \"Everglow - Single Version, Radio Edit\", \"Streams\": 81022}, {\"Date\": \"2017-02-08\", \"Track Name\": \"Hymn For The Weekend\", \"Streams\": 5741}, {\"Date\": \"2017-02-08\", \"Track Name\": \"Hymn For The Weekend - Seeb Remix\", \"Streams\": 108880}, {\"Date\": \"2017-02-08\", \"Track Name\": \"The Scientist\", \"Streams\": 2313}, {\"Date\": \"2017-02-09\", \"Track Name\": \"Adventure Of A Lifetime\", \"Streams\": 46236}, {\"Date\": \"2017-02-09\", \"Track Name\": \"Everglow - Single Version\", \"Streams\": 15277}, {\"Date\": \"2017-02-09\", \"Track Name\": \"Everglow - Single Version, Radio Edit\", \"Streams\": 63686}, {\"Date\": \"2017-02-09\", \"Track Name\": \"Hymn For The Weekend\", \"Streams\": 5889}, {\"Date\": \"2017-02-09\", \"Track Name\": \"Hymn For The Weekend - Seeb Remix\", \"Streams\": 95440}, {\"Date\": \"2017-02-09\", \"Track Name\": \"The Scientist\", \"Streams\": 60052}, {\"Date\": \"2017-02-10\", \"Track Name\": \"Adventure Of A Lifetime\", \"Streams\": 46285}, {\"Date\": \"2017-02-10\", \"Track Name\": \"Everglow - Single Version, Radio Edit\", \"Streams\": 3464}, {\"Date\": \"2017-02-10\", \"Track Name\": \"Hymn For The Weekend\", \"Streams\": 6181}, {\"Date\": \"2017-02-10\", \"Track Name\": \"Hymn For The Weekend - Seeb Remix\", \"Streams\": 102299}, {\"Date\": \"2017-02-11\", \"Track Name\": \"Adventure Of A Lifetime\", \"Streams\": 42829}, {\"Date\": \"2017-02-11\", \"Track Name\": \"Everglow - Single Version, Radio Edit\", \"Streams\": 5704}, {\"Date\": \"2017-02-11\", \"Track Name\": \"Hymn For The Weekend\", \"Streams\": 8109}, {\"Date\": \"2017-02-11\", \"Track Name\": \"Hymn For The Weekend - Seeb Remix\", \"Streams\": 101117}, {\"Date\": \"2017-02-12\", \"Track Name\": \"Adventure Of A Lifetime\", \"Streams\": 40907}, {\"Date\": \"2017-02-12\", \"Track Name\": \"Everglow - Single Version, Radio Edit\", \"Streams\": 35522}, {\"Date\": \"2017-02-12\", \"Track Name\": \"Hymn For The Weekend\", \"Streams\": 4455}, {\"Date\": \"2017-02-12\", \"Track Name\": \"Hymn For The Weekend - Seeb Remix\", \"Streams\": 93620}, {\"Date\": \"2017-02-12\", \"Track Name\": \"The Scientist\", \"Streams\": 2643}, {\"Date\": \"2017-02-13\", \"Track Name\": \"Adventure Of A Lifetime\", \"Streams\": 58661}, {\"Date\": \"2017-02-13\", \"Track Name\": \"Hymn For The Weekend\", \"Streams\": 5242}, {\"Date\": \"2017-02-13\", \"Track Name\": \"Hymn For The Weekend - Seeb Remix\", \"Streams\": 82949}, {\"Date\": \"2017-02-14\", \"Track Name\": \"Adventure Of A Lifetime\", \"Streams\": 44400}, {\"Date\": \"2017-02-14\", \"Track Name\": \"Everglow - Single Version, Radio Edit\", \"Streams\": 14065}, {\"Date\": \"2017-02-14\", \"Track Name\": \"Hymn For The Weekend\", \"Streams\": 5276}, {\"Date\": \"2017-02-14\", \"Track Name\": \"Hymn For The Weekend - Seeb Remix\", \"Streams\": 78679}, {\"Date\": \"2017-02-14\", \"Track Name\": \"The Scientist\", \"Streams\": 14508}, {\"Date\": \"2017-02-14\", \"Track Name\": \"Us Against the World\", \"Streams\": 20458}, {\"Date\": \"2017-02-15\", \"Track Name\": \"Adventure Of A Lifetime\", \"Streams\": 49417}, {\"Date\": \"2017-02-15\", \"Track Name\": \"Everglow - Single Version, Radio Edit\", \"Streams\": 2959}, {\"Date\": \"2017-02-15\", \"Track Name\": \"Hymn For The Weekend\", \"Streams\": 5602}, {\"Date\": \"2017-02-15\", \"Track Name\": \"Hymn For The Weekend - Seeb Remix\", \"Streams\": 79520}, {\"Date\": \"2017-02-16\", \"Track Name\": \"Adventure Of A Lifetime\", \"Streams\": 47488}, {\"Date\": \"2017-02-16\", \"Track Name\": \"Hymn For The Weekend\", \"Streams\": 5683}, {\"Date\": \"2017-02-16\", \"Track Name\": \"Hymn For The Weekend - Seeb Remix\", \"Streams\": 80475}, {\"Date\": \"2017-02-17\", \"Track Name\": \"Adventure Of A Lifetime\", \"Streams\": 47095}, {\"Date\": \"2017-02-17\", \"Track Name\": \"Hymn For The Weekend\", \"Streams\": 5859}, {\"Date\": \"2017-02-17\", \"Track Name\": \"Hymn For The Weekend - Seeb Remix\", \"Streams\": 91291}, {\"Date\": \"2017-02-18\", \"Track Name\": \"Adventure Of A Lifetime\", \"Streams\": 44408}, {\"Date\": \"2017-02-18\", \"Track Name\": \"Hymn For The Weekend\", \"Streams\": 8176}, {\"Date\": \"2017-02-18\", \"Track Name\": \"Hymn For The Weekend - Seeb Remix\", \"Streams\": 85910}, {\"Date\": \"2017-02-19\", \"Track Name\": \"Adventure Of A Lifetime\", \"Streams\": 41460}, {\"Date\": \"2017-02-19\", \"Track Name\": \"Hymn For The Weekend\", \"Streams\": 4469}, {\"Date\": \"2017-02-19\", \"Track Name\": \"Hymn For The Weekend - Seeb Remix\", \"Streams\": 69116}, {\"Date\": \"2017-02-20\", \"Track Name\": \"Adventure Of A Lifetime\", \"Streams\": 60036}, {\"Date\": \"2017-02-20\", \"Track Name\": \"Hymn For The Weekend\", \"Streams\": 4442}, {\"Date\": \"2017-02-20\", \"Track Name\": \"Hymn For The Weekend - Seeb Remix\", \"Streams\": 73348}, {\"Date\": \"2017-02-21\", \"Track Name\": \"Adventure Of A Lifetime\", \"Streams\": 49229}, {\"Date\": \"2017-02-21\", \"Track Name\": \"Hymn For The Weekend\", \"Streams\": 4356}, {\"Date\": \"2017-02-21\", \"Track Name\": \"Hymn For The Weekend - Seeb Remix\", \"Streams\": 78500}, {\"Date\": \"2017-02-21\", \"Track Name\": \"The Scientist\", \"Streams\": 1992}, {\"Date\": \"2017-02-22\", \"Track Name\": \"Adventure Of A Lifetime\", \"Streams\": 46176}, {\"Date\": \"2017-02-22\", \"Track Name\": \"Hymn For The Weekend\", \"Streams\": 5461}, {\"Date\": \"2017-02-22\", \"Track Name\": \"Hymn For The Weekend - Seeb Remix\", \"Streams\": 74106}, {\"Date\": \"2017-02-22\", \"Track Name\": \"The Scientist\", \"Streams\": 10641}, {\"Date\": \"2017-02-23\", \"Track Name\": \"Adventure Of A Lifetime\", \"Streams\": 43445}, {\"Date\": \"2017-02-23\", \"Track Name\": \"Hymn For The Weekend\", \"Streams\": 5341}, {\"Date\": \"2017-02-23\", \"Track Name\": \"Hymn For The Weekend - Seeb Remix\", \"Streams\": 80146}, {\"Date\": \"2017-02-24\", \"Track Name\": \"Adventure Of A Lifetime\", \"Streams\": 47009}, {\"Date\": \"2017-02-24\", \"Track Name\": \"Hymn For The Weekend\", \"Streams\": 6013}, {\"Date\": \"2017-02-24\", \"Track Name\": \"Hymn For The Weekend - Seeb Remix\", \"Streams\": 86948}, {\"Date\": \"2017-02-25\", \"Track Name\": \"Adventure Of A Lifetime\", \"Streams\": 45073}, {\"Date\": \"2017-02-25\", \"Track Name\": \"Hymn For The Weekend\", \"Streams\": 7906}, {\"Date\": \"2017-02-25\", \"Track Name\": \"Hymn For The Weekend - Seeb Remix\", \"Streams\": 86191}, {\"Date\": \"2017-02-26\", \"Track Name\": \"Adventure Of A Lifetime\", \"Streams\": 40829}, {\"Date\": \"2017-02-26\", \"Track Name\": \"Hymn For The Weekend\", \"Streams\": 4306}, {\"Date\": \"2017-02-26\", \"Track Name\": \"Hymn For The Weekend - Seeb Remix\", \"Streams\": 66486}, {\"Date\": \"2017-02-27\", \"Track Name\": \"A Head Full Of Dreams\", \"Streams\": 11007}, {\"Date\": \"2017-02-27\", \"Track Name\": \"Adventure Of A Lifetime\", \"Streams\": 2315}, {\"Date\": \"2017-02-27\", \"Track Name\": \"Hymn For The Weekend\", \"Streams\": 4453}, {\"Date\": \"2017-02-27\", \"Track Name\": \"Hymn For The Weekend - Seeb Remix\", \"Streams\": 72110}, {\"Date\": \"2017-02-28\", \"Track Name\": \"Adventure Of A Lifetime\", \"Streams\": 1758}, {\"Date\": \"2017-02-28\", \"Track Name\": \"Hymn For The Weekend\", \"Streams\": 5531}, {\"Date\": \"2017-02-28\", \"Track Name\": \"Hymn For The Weekend - Seeb Remix\", \"Streams\": 74103}, {\"Date\": \"2017-02-28\", \"Track Name\": \"The Scientist\", \"Streams\": 1732}, {\"Date\": \"2017-03-01\", \"Track Name\": \"Adventure Of A Lifetime\", \"Streams\": 2460}, {\"Date\": \"2017-03-01\", \"Track Name\": \"Hymn For The Weekend\", \"Streams\": 5284}, {\"Date\": \"2017-03-01\", \"Track Name\": \"Hymn For The Weekend - Seeb Remix\", \"Streams\": 72656}, {\"Date\": \"2017-03-01\", \"Track Name\": \"The Scientist\", \"Streams\": 11316}, {\"Date\": \"2017-03-02\", \"Track Name\": \"Adventure Of A Lifetime\", \"Streams\": 2393}, {\"Date\": \"2017-03-02\", \"Track Name\": \"Hymn For The Weekend\", \"Streams\": 5725}, {\"Date\": \"2017-03-02\", \"Track Name\": \"Hymn For The Weekend - Seeb Remix\", \"Streams\": 76014}, {\"Date\": \"2017-03-02\", \"Track Name\": \"Hypnotised\", \"Streams\": 32691}, {\"Date\": \"2017-03-02\", \"Track Name\": \"The Scientist\", \"Streams\": 2054}, {\"Date\": \"2017-03-03\", \"Track Name\": \"Adventure Of A Lifetime\", \"Streams\": 2976}, {\"Date\": \"2017-03-03\", \"Track Name\": \"Hymn For The Weekend\", \"Streams\": 6058}, {\"Date\": \"2017-03-03\", \"Track Name\": \"Hymn For The Weekend - Seeb Remix\", \"Streams\": 87816}, {\"Date\": \"2017-03-03\", \"Track Name\": \"Hypnotised\", \"Streams\": 427441}, {\"Date\": \"2017-03-04\", \"Track Name\": \"Adventure Of A Lifetime\", \"Streams\": 1975}, {\"Date\": \"2017-03-04\", \"Track Name\": \"Hymn For The Weekend\", \"Streams\": 8262}, {\"Date\": \"2017-03-04\", \"Track Name\": \"Hymn For The Weekend - Seeb Remix\", \"Streams\": 83502}, {\"Date\": \"2017-03-04\", \"Track Name\": \"Hypnotised\", \"Streams\": 117094}, {\"Date\": \"2017-03-05\", \"Track Name\": \"Hymn For The Weekend\", \"Streams\": 4413}, {\"Date\": \"2017-03-05\", \"Track Name\": \"Hymn For The Weekend - Seeb Remix\", \"Streams\": 66003}, {\"Date\": \"2017-03-05\", \"Track Name\": \"Hypnotised\", \"Streams\": 81657}, {\"Date\": \"2017-03-05\", \"Track Name\": \"The Scientist\", \"Streams\": 4504}, {\"Date\": \"2017-03-06\", \"Track Name\": \"Adventure Of A Lifetime\", \"Streams\": 2440}, {\"Date\": \"2017-03-06\", \"Track Name\": \"Hymn For The Weekend\", \"Streams\": 5608}, {\"Date\": \"2017-03-06\", \"Track Name\": \"Hymn For The Weekend - Seeb Remix\", \"Streams\": 67449}, {\"Date\": \"2017-03-06\", \"Track Name\": \"Hypnotised\", \"Streams\": 81645}, {\"Date\": \"2017-03-06\", \"Track Name\": \"The Scientist\", \"Streams\": 2061}, {\"Date\": \"2017-03-07\", \"Track Name\": \"Adventure Of A Lifetime\", \"Streams\": 2191}, {\"Date\": \"2017-03-07\", \"Track Name\": \"Everglow - Single Version\", \"Streams\": 16646}, {\"Date\": \"2017-03-07\", \"Track Name\": \"Hymn For The Weekend\", \"Streams\": 5696}, {\"Date\": \"2017-03-07\", \"Track Name\": \"Hymn For The Weekend - Seeb Remix\", \"Streams\": 79198}, {\"Date\": \"2017-03-07\", \"Track Name\": \"Hypnotised\", \"Streams\": 79012}, {\"Date\": \"2017-03-07\", \"Track Name\": \"The Scientist\", \"Streams\": 2097}, {\"Date\": \"2017-03-08\", \"Track Name\": \"Adventure Of A Lifetime\", \"Streams\": 2423}, {\"Date\": \"2017-03-08\", \"Track Name\": \"Everglow - Single Version\", \"Streams\": 18744}, {\"Date\": \"2017-03-08\", \"Track Name\": \"Hymn For The Weekend\", \"Streams\": 5439}, {\"Date\": \"2017-03-08\", \"Track Name\": \"Hymn For The Weekend - Seeb Remix\", \"Streams\": 72298}, {\"Date\": \"2017-03-08\", \"Track Name\": \"Hypnotised\", \"Streams\": 37433}, {\"Date\": \"2017-03-09\", \"Track Name\": \"Adventure Of A Lifetime\", \"Streams\": 2487}, {\"Date\": \"2017-03-09\", \"Track Name\": \"Everglow - Single Version\", \"Streams\": 18939}, {\"Date\": \"2017-03-09\", \"Track Name\": \"Hymn For The Weekend\", \"Streams\": 5704}, {\"Date\": \"2017-03-09\", \"Track Name\": \"Hymn For The Weekend - Seeb Remix\", \"Streams\": 81206}, {\"Date\": \"2017-03-09\", \"Track Name\": \"Hypnotised\", \"Streams\": 25926}, {\"Date\": \"2017-03-09\", \"Track Name\": \"The Scientist\", \"Streams\": 2304}, {\"Date\": \"2017-03-10\", \"Track Name\": \"Adventure Of A Lifetime\", \"Streams\": 2999}, {\"Date\": \"2017-03-10\", \"Track Name\": \"Hymn For The Weekend\", \"Streams\": 6327}, {\"Date\": \"2017-03-10\", \"Track Name\": \"Hymn For The Weekend - Seeb Remix\", \"Streams\": 86070}, {\"Date\": \"2017-03-10\", \"Track Name\": \"Hypnotised\", \"Streams\": 39958}, {\"Date\": \"2017-03-11\", \"Track Name\": \"Hymn For The Weekend\", \"Streams\": 8554}, {\"Date\": \"2017-03-11\", \"Track Name\": \"Hymn For The Weekend - Seeb Remix\", \"Streams\": 84346}, {\"Date\": \"2017-03-12\", \"Track Name\": \"Everglow - Single Version\", \"Streams\": 17986}, {\"Date\": \"2017-03-12\", \"Track Name\": \"Hymn For The Weekend\", \"Streams\": 5570}, {\"Date\": \"2017-03-12\", \"Track Name\": \"Hymn For The Weekend - Seeb Remix\", \"Streams\": 67125}, {\"Date\": \"2017-03-13\", \"Track Name\": \"Adventure Of A Lifetime\", \"Streams\": 2380}, {\"Date\": \"2017-03-13\", \"Track Name\": \"Hymn For The Weekend\", \"Streams\": 5556}, {\"Date\": \"2017-03-13\", \"Track Name\": \"Hymn For The Weekend - Seeb Remix\", \"Streams\": 71254}, {\"Date\": \"2017-03-13\", \"Track Name\": \"Hypnotised\", \"Streams\": 10692}, {\"Date\": \"2017-03-14\", \"Track Name\": \"Adventure Of A Lifetime\", \"Streams\": 2122}, {\"Date\": \"2017-03-14\", \"Track Name\": \"Everglow - Single Version\", \"Streams\": 17238}, {\"Date\": \"2017-03-14\", \"Track Name\": \"Hymn For The Weekend\", \"Streams\": 5644}, {\"Date\": \"2017-03-14\", \"Track Name\": \"Hymn For The Weekend - Seeb Remix\", \"Streams\": 78123}, {\"Date\": \"2017-03-14\", \"Track Name\": \"Hypnotised\", \"Streams\": 10804}, {\"Date\": \"2017-03-15\", \"Track Name\": \"Adventure Of A Lifetime\", \"Streams\": 2442}, {\"Date\": \"2017-03-15\", \"Track Name\": \"Everglow - Single Version\", \"Streams\": 20134}, {\"Date\": \"2017-03-15\", \"Track Name\": \"Hymn For The Weekend\", \"Streams\": 5607}, {\"Date\": \"2017-03-15\", \"Track Name\": \"Hymn For The Weekend - Seeb Remix\", \"Streams\": 73963}, {\"Date\": \"2017-03-15\", \"Track Name\": \"Hypnotised\", \"Streams\": 11390}, {\"Date\": \"2017-03-16\", \"Track Name\": \"Adventure Of A Lifetime\", \"Streams\": 2339}, {\"Date\": \"2017-03-16\", \"Track Name\": \"Everglow - Single Version\", \"Streams\": 17047}, {\"Date\": \"2017-03-16\", \"Track Name\": \"Hymn For The Weekend\", \"Streams\": 5824}, {\"Date\": \"2017-03-16\", \"Track Name\": \"Hymn For The Weekend - Seeb Remix\", \"Streams\": 82538}, {\"Date\": \"2017-03-16\", \"Track Name\": \"Hypnotised\", \"Streams\": 11251}, {\"Date\": \"2017-03-17\", \"Track Name\": \"Adventure Of A Lifetime\", \"Streams\": 2849}, {\"Date\": \"2017-03-17\", \"Track Name\": \"Hymn For The Weekend\", \"Streams\": 5974}, {\"Date\": \"2017-03-17\", \"Track Name\": \"Hymn For The Weekend - Seeb Remix\", \"Streams\": 85481}, {\"Date\": \"2017-03-17\", \"Track Name\": \"Hypnotised\", \"Streams\": 11280}, {\"Date\": \"2017-03-18\", \"Track Name\": \"Hymn For The Weekend\", \"Streams\": 8293}, {\"Date\": \"2017-03-18\", \"Track Name\": \"Hymn For The Weekend - Seeb Remix\", \"Streams\": 77774}, {\"Date\": \"2017-03-18\", \"Track Name\": \"Hypnotised\", \"Streams\": 10105}, {\"Date\": \"2017-03-19\", \"Track Name\": \"Hymn For The Weekend\", \"Streams\": 4368}, {\"Date\": \"2017-03-19\", \"Track Name\": \"Hymn For The Weekend - Seeb Remix\", \"Streams\": 56677}, {\"Date\": \"2017-03-20\", \"Track Name\": \"Hymn For The Weekend\", \"Streams\": 4386}, {\"Date\": \"2017-03-20\", \"Track Name\": \"Hymn For The Weekend - Seeb Remix\", \"Streams\": 62978}, {\"Date\": \"2017-03-21\", \"Track Name\": \"Hymn For The Weekend\", \"Streams\": 4557}, {\"Date\": \"2017-03-21\", \"Track Name\": \"Hymn For The Weekend - Seeb Remix\", \"Streams\": 71200}, {\"Date\": \"2017-03-22\", \"Track Name\": \"Hymn For The Weekend\", \"Streams\": 5519}, {\"Date\": \"2017-03-22\", \"Track Name\": \"Hymn For The Weekend - Seeb Remix\", \"Streams\": 64633}, {\"Date\": \"2017-03-22\", \"Track Name\": \"Hypnotised\", \"Streams\": 14143}, {\"Date\": \"2017-03-23\", \"Track Name\": \"Hymn For The Weekend\", \"Streams\": 4562}, {\"Date\": \"2017-03-23\", \"Track Name\": \"Hymn For The Weekend - Seeb Remix\", \"Streams\": 76880}, {\"Date\": \"2017-03-24\", \"Track Name\": \"Adventure Of A Lifetime\", \"Streams\": 2940}, {\"Date\": \"2017-03-24\", \"Track Name\": \"Hymn For The Weekend\", \"Streams\": 4925}, {\"Date\": \"2017-03-24\", \"Track Name\": \"Hymn For The Weekend - Seeb Remix\", \"Streams\": 81631}, {\"Date\": \"2017-03-25\", \"Track Name\": \"Hymn For The Weekend\", \"Streams\": 5084}, {\"Date\": \"2017-03-25\", \"Track Name\": \"Hymn For The Weekend - Seeb Remix\", \"Streams\": 80513}, {\"Date\": \"2017-03-26\", \"Track Name\": \"Hymn For The Weekend\", \"Streams\": 4349}, {\"Date\": \"2017-03-26\", \"Track Name\": \"Hymn For The Weekend - Seeb Remix\", \"Streams\": 56353}, {\"Date\": \"2017-03-27\", \"Track Name\": \"Adventure Of A Lifetime\", \"Streams\": 2430}, {\"Date\": \"2017-03-27\", \"Track Name\": \"Hymn For The Weekend\", \"Streams\": 4530}, {\"Date\": \"2017-03-27\", \"Track Name\": \"Hymn For The Weekend - Seeb Remix\", \"Streams\": 70160}, {\"Date\": \"2017-03-28\", \"Track Name\": \"Adventure Of A Lifetime\", \"Streams\": 20528}, {\"Date\": \"2017-03-28\", \"Track Name\": \"Hymn For The Weekend\", \"Streams\": 4550}, {\"Date\": \"2017-03-28\", \"Track Name\": \"Hymn For The Weekend - Seeb Remix\", \"Streams\": 83266}, {\"Date\": \"2017-03-29\", \"Track Name\": \"Adventure Of A Lifetime\", \"Streams\": 19083}, {\"Date\": \"2017-03-29\", \"Track Name\": \"Hymn For The Weekend\", \"Streams\": 4437}, {\"Date\": \"2017-03-29\", \"Track Name\": \"Hymn For The Weekend - Seeb Remix\", \"Streams\": 71925}, {\"Date\": \"2017-03-30\", \"Track Name\": \"Adventure Of A Lifetime\", \"Streams\": 2411}, {\"Date\": \"2017-03-30\", \"Track Name\": \"Hymn For The Weekend\", \"Streams\": 4505}, {\"Date\": \"2017-03-30\", \"Track Name\": \"Hymn For The Weekend - Seeb Remix\", \"Streams\": 81162}, {\"Date\": \"2017-03-31\", \"Track Name\": \"Adventure Of A Lifetime\", \"Streams\": 3167}, {\"Date\": \"2017-03-31\", \"Track Name\": \"Hymn For The Weekend\", \"Streams\": 5094}, {\"Date\": \"2017-03-31\", \"Track Name\": \"Hymn For The Weekend - Seeb Remix\", \"Streams\": 80852}, {\"Date\": \"2017-04-01\", \"Track Name\": \"Hymn For The Weekend\", \"Streams\": 5092}, {\"Date\": \"2017-04-01\", \"Track Name\": \"Hymn For The Weekend - Seeb Remix\", \"Streams\": 74212}, {\"Date\": \"2017-04-02\", \"Track Name\": \"Hymn For The Weekend\", \"Streams\": 5484}, {\"Date\": \"2017-04-02\", \"Track Name\": \"Hymn For The Weekend - Seeb Remix\", \"Streams\": 40516}, {\"Date\": \"2017-04-03\", \"Track Name\": \"Adventure Of A Lifetime\", \"Streams\": 2418}, {\"Date\": \"2017-04-03\", \"Track Name\": \"Hymn For The Weekend\", \"Streams\": 4193}, {\"Date\": \"2017-04-03\", \"Track Name\": \"Hymn For The Weekend - Seeb Remix\", \"Streams\": 63379}, {\"Date\": \"2017-04-04\", \"Track Name\": \"Adventure Of A Lifetime\", \"Streams\": 19094}, {\"Date\": \"2017-04-04\", \"Track Name\": \"Hymn For The Weekend\", \"Streams\": 4242}, {\"Date\": \"2017-04-04\", \"Track Name\": \"Hymn For The Weekend - Seeb Remix\", \"Streams\": 78079}, {\"Date\": \"2017-04-05\", \"Track Name\": \"Adventure Of A Lifetime\", \"Streams\": 2484}, {\"Date\": \"2017-04-05\", \"Track Name\": \"Hymn For The Weekend\", \"Streams\": 4423}, {\"Date\": \"2017-04-05\", \"Track Name\": \"Hymn For The Weekend - Seeb Remix\", \"Streams\": 54625}, {\"Date\": \"2017-04-06\", \"Track Name\": \"Adventure Of A Lifetime\", \"Streams\": 2527}, {\"Date\": \"2017-04-06\", \"Track Name\": \"Clocks\", \"Streams\": 5234}, {\"Date\": \"2017-04-06\", \"Track Name\": \"Hymn For The Weekend\", \"Streams\": 4599}, {\"Date\": \"2017-04-06\", \"Track Name\": \"Hymn For The Weekend - Seeb Remix\", \"Streams\": 60554}, {\"Date\": \"2017-04-07\", \"Track Name\": \"Adventure Of A Lifetime\", \"Streams\": 3144}, {\"Date\": \"2017-04-07\", \"Track Name\": \"Hymn For The Weekend\", \"Streams\": 4717}, {\"Date\": \"2017-04-07\", \"Track Name\": \"Hymn For The Weekend - Seeb Remix\", \"Streams\": 61759}, {\"Date\": \"2017-04-08\", \"Track Name\": \"Hymn For The Weekend\", \"Streams\": 5024}, {\"Date\": \"2017-04-08\", \"Track Name\": \"Hymn For The Weekend - Seeb Remix\", \"Streams\": 73242}, {\"Date\": \"2017-04-09\", \"Track Name\": \"Hymn For The Weekend\", \"Streams\": 4075}, {\"Date\": \"2017-04-09\", \"Track Name\": \"Hymn For The Weekend - Seeb Remix\", \"Streams\": 31729}, {\"Date\": \"2017-04-09\", \"Track Name\": \"The Scientist\", \"Streams\": 1060}, {\"Date\": \"2017-04-09\", \"Track Name\": \"Viva La Vida\", \"Streams\": 37995}, {\"Date\": \"2017-04-10\", \"Track Name\": \"Adventure Of A Lifetime\", \"Streams\": 2467}, {\"Date\": \"2017-04-10\", \"Track Name\": \"Hymn For The Weekend\", \"Streams\": 4287}, {\"Date\": \"2017-04-10\", \"Track Name\": \"Hymn For The Weekend - Seeb Remix\", \"Streams\": 60703}, {\"Date\": \"2017-04-11\", \"Track Name\": \"Adventure Of A Lifetime\", \"Streams\": 19008}, {\"Date\": \"2017-04-11\", \"Track Name\": \"Hymn For The Weekend\", \"Streams\": 4265}, {\"Date\": \"2017-04-11\", \"Track Name\": \"Hymn For The Weekend - Seeb Remix\", \"Streams\": 74656}, {\"Date\": \"2017-04-12\", \"Track Name\": \"Adventure Of A Lifetime\", \"Streams\": 2397}, {\"Date\": \"2017-04-12\", \"Track Name\": \"Hymn For The Weekend\", \"Streams\": 4522}, {\"Date\": \"2017-04-12\", \"Track Name\": \"Hymn For The Weekend - Seeb Remix\", \"Streams\": 57861}, {\"Date\": \"2017-04-13\", \"Track Name\": \"Adventure Of A Lifetime\", \"Streams\": 2272}, {\"Date\": \"2017-04-13\", \"Track Name\": \"Hymn For The Weekend\", \"Streams\": 6367}, {\"Date\": \"2017-04-13\", \"Track Name\": \"Hymn For The Weekend - Seeb Remix\", \"Streams\": 56745}, {\"Date\": \"2017-04-14\", \"Track Name\": \"Adventure Of A Lifetime\", \"Streams\": 2009}, {\"Date\": \"2017-04-14\", \"Track Name\": \"Everglow - Single Version\", \"Streams\": 19694}, {\"Date\": \"2017-04-14\", \"Track Name\": \"Hymn For The Weekend\", \"Streams\": 4826}, {\"Date\": \"2017-04-14\", \"Track Name\": \"Hymn For The Weekend - Seeb Remix\", \"Streams\": 45186}, {\"Date\": \"2017-04-15\", \"Track Name\": \"Everglow - Single Version\", \"Streams\": 23238}, {\"Date\": \"2017-04-15\", \"Track Name\": \"Hymn For The Weekend\", \"Streams\": 4025}, {\"Date\": \"2017-04-15\", \"Track Name\": \"Hymn For The Weekend - Seeb Remix\", \"Streams\": 66976}, {\"Date\": \"2017-04-16\", \"Track Name\": \"Everglow - Single Version\", \"Streams\": 17698}, {\"Date\": \"2017-04-16\", \"Track Name\": \"Hymn For The Weekend\", \"Streams\": 3146}, {\"Date\": \"2017-04-16\", \"Track Name\": \"Hymn For The Weekend - Seeb Remix\", \"Streams\": 31973}, {\"Date\": \"2017-04-17\", \"Track Name\": \"Hymn For The Weekend\", \"Streams\": 3644}, {\"Date\": \"2017-04-17\", \"Track Name\": \"Hymn For The Weekend - Seeb Remix\", \"Streams\": 56320}, {\"Date\": \"2017-04-18\", \"Track Name\": \"Adventure Of A Lifetime\", \"Streams\": 18550}, {\"Date\": \"2017-04-18\", \"Track Name\": \"Hymn For The Weekend\", \"Streams\": 4258}, {\"Date\": \"2017-04-18\", \"Track Name\": \"Hymn For The Weekend - Seeb Remix\", \"Streams\": 55314}, {\"Date\": \"2017-04-19\", \"Track Name\": \"Adventure Of A Lifetime\", \"Streams\": 2141}, {\"Date\": \"2017-04-19\", \"Track Name\": \"Hymn For The Weekend\", \"Streams\": 4209}, {\"Date\": \"2017-04-19\", \"Track Name\": \"Hymn For The Weekend - Seeb Remix\", \"Streams\": 43032}, {\"Date\": \"2017-04-20\", \"Track Name\": \"Adventure Of A Lifetime\", \"Streams\": 2187}, {\"Date\": \"2017-04-20\", \"Track Name\": \"Hymn For The Weekend\", \"Streams\": 4189}, {\"Date\": \"2017-04-20\", \"Track Name\": \"Hymn For The Weekend - Seeb Remix\", \"Streams\": 42169}, {\"Date\": \"2017-04-21\", \"Track Name\": \"Adventure Of A Lifetime\", \"Streams\": 2855}, {\"Date\": \"2017-04-21\", \"Track Name\": \"Hymn For The Weekend\", \"Streams\": 4473}, {\"Date\": \"2017-04-21\", \"Track Name\": \"Hymn For The Weekend - Seeb Remix\", \"Streams\": 43598}, {\"Date\": \"2017-04-22\", \"Track Name\": \"Hymn For The Weekend\", \"Streams\": 4480}, {\"Date\": \"2017-04-22\", \"Track Name\": \"Hymn For The Weekend - Seeb Remix\", \"Streams\": 49813}, {\"Date\": \"2017-04-23\", \"Track Name\": \"Hymn For The Weekend\", \"Streams\": 3631}, {\"Date\": \"2017-04-23\", \"Track Name\": \"Hymn For The Weekend - Seeb Remix\", \"Streams\": 16530}, {\"Date\": \"2017-04-24\", \"Track Name\": \"Adventure Of A Lifetime\", \"Streams\": 2172}, {\"Date\": \"2017-04-24\", \"Track Name\": \"Hymn For The Weekend\", \"Streams\": 3868}, {\"Date\": \"2017-04-24\", \"Track Name\": \"Hymn For The Weekend - Seeb Remix\", \"Streams\": 45532}, {\"Date\": \"2017-04-25\", \"Track Name\": \"Adventure Of A Lifetime\", \"Streams\": 18392}, {\"Date\": \"2017-04-25\", \"Track Name\": \"Hymn For The Weekend\", \"Streams\": 5204}, {\"Date\": \"2017-04-25\", \"Track Name\": \"Hymn For The Weekend - Seeb Remix\", \"Streams\": 42577}, {\"Date\": \"2017-04-26\", \"Track Name\": \"Adventure Of A Lifetime\", \"Streams\": 2148}, {\"Date\": \"2017-04-26\", \"Track Name\": \"Hymn For The Weekend\", \"Streams\": 4075}, {\"Date\": \"2017-04-26\", \"Track Name\": \"Hymn For The Weekend - Seeb Remix\", \"Streams\": 38248}, {\"Date\": \"2017-04-27\", \"Track Name\": \"Adventure Of A Lifetime\", \"Streams\": 2123}, {\"Date\": \"2017-04-27\", \"Track Name\": \"Hymn For The Weekend\", \"Streams\": 4010}, {\"Date\": \"2017-04-27\", \"Track Name\": \"Hymn For The Weekend - Seeb Remix\", \"Streams\": 40155}, {\"Date\": \"2017-04-28\", \"Track Name\": \"Adventure Of A Lifetime\", \"Streams\": 2713}, {\"Date\": \"2017-04-28\", \"Track Name\": \"Hymn For The Weekend\", \"Streams\": 4535}, {\"Date\": \"2017-04-28\", \"Track Name\": \"Hymn For The Weekend - Seeb Remix\", \"Streams\": 43320}, {\"Date\": \"2017-04-29\", \"Track Name\": \"Hymn For The Weekend\", \"Streams\": 4542}, {\"Date\": \"2017-04-29\", \"Track Name\": \"Hymn For The Weekend - Seeb Remix\", \"Streams\": 34631}, {\"Date\": \"2017-04-30\", \"Track Name\": \"Hymn For The Weekend\", \"Streams\": 3872}, {\"Date\": \"2017-04-30\", \"Track Name\": \"Hymn For The Weekend - Seeb Remix\", \"Streams\": 30341}, {\"Date\": \"2017-05-01\", \"Track Name\": \"Hymn For The Weekend\", \"Streams\": 4050}, {\"Date\": \"2017-05-01\", \"Track Name\": \"Hymn For The Weekend - Seeb Remix\", \"Streams\": 24752}, {\"Date\": \"2017-05-02\", \"Track Name\": \"Adventure Of A Lifetime\", \"Streams\": 16994}, {\"Date\": \"2017-05-02\", \"Track Name\": \"Hymn For The Weekend\", \"Streams\": 4118}, {\"Date\": \"2017-05-02\", \"Track Name\": \"Hymn For The Weekend - Seeb Remix\", \"Streams\": 52466}, {\"Date\": \"2017-05-03\", \"Track Name\": \"Adventure Of A Lifetime\", \"Streams\": 2171}, {\"Date\": \"2017-05-03\", \"Track Name\": \"Hymn For The Weekend\", \"Streams\": 3833}, {\"Date\": \"2017-05-03\", \"Track Name\": \"Hymn For The Weekend - Seeb Remix\", \"Streams\": 37780}, {\"Date\": \"2017-05-04\", \"Track Name\": \"Hymn For The Weekend\", \"Streams\": 3956}, {\"Date\": \"2017-05-04\", \"Track Name\": \"Hymn For The Weekend - Seeb Remix\", \"Streams\": 38467}, {\"Date\": \"2017-05-04\", \"Track Name\": \"Viva La Vida\", \"Streams\": 58826}, {\"Date\": \"2017-05-05\", \"Track Name\": \"Adventure Of A Lifetime\", \"Streams\": 2702}, {\"Date\": \"2017-05-05\", \"Track Name\": \"Hymn For The Weekend\", \"Streams\": 4346}, {\"Date\": \"2017-05-05\", \"Track Name\": \"Hymn For The Weekend - Seeb Remix\", \"Streams\": 43451}, {\"Date\": \"2017-05-06\", \"Track Name\": \"Hymn For The Weekend\", \"Streams\": 4107}, {\"Date\": \"2017-05-06\", \"Track Name\": \"Hymn For The Weekend - Seeb Remix\", \"Streams\": 25851}, {\"Date\": \"2017-05-07\", \"Track Name\": \"Hymn For The Weekend\", \"Streams\": 3817}, {\"Date\": \"2017-05-07\", \"Track Name\": \"Hymn For The Weekend - Seeb Remix\", \"Streams\": 14848}, {\"Date\": \"2017-05-08\", \"Track Name\": \"Adventure Of A Lifetime\", \"Streams\": 2185}, {\"Date\": \"2017-05-08\", \"Track Name\": \"Hymn For The Weekend\", \"Streams\": 3964}, {\"Date\": \"2017-05-08\", \"Track Name\": \"Hymn For The Weekend - Seeb Remix\", \"Streams\": 18334}, {\"Date\": \"2017-05-09\", \"Track Name\": \"Adventure Of A Lifetime\", \"Streams\": 18072}, {\"Date\": \"2017-05-09\", \"Track Name\": \"Hymn For The Weekend\", \"Streams\": 3870}, {\"Date\": \"2017-05-09\", \"Track Name\": \"Hymn For The Weekend - Seeb Remix\", \"Streams\": 42320}, {\"Date\": \"2017-05-10\", \"Track Name\": \"Hymn For The Weekend - Seeb Remix\", \"Streams\": 35396}, {\"Date\": \"2017-05-11\", \"Track Name\": \"Adventure Of A Lifetime\", \"Streams\": 2141}, {\"Date\": \"2017-05-11\", \"Track Name\": \"Hymn For The Weekend\", \"Streams\": 4068}, {\"Date\": \"2017-05-11\", \"Track Name\": \"Hymn For The Weekend - Seeb Remix\", \"Streams\": 36591}, {\"Date\": \"2017-05-12\", \"Track Name\": \"Adventure Of A Lifetime\", \"Streams\": 2527}, {\"Date\": \"2017-05-12\", \"Track Name\": \"Hymn For The Weekend - Seeb Remix\", \"Streams\": 24772}, {\"Date\": \"2017-05-13\", \"Track Name\": \"Hymn For The Weekend - Seeb Remix\", \"Streams\": 20556}, {\"Date\": \"2017-05-16\", \"Track Name\": \"Hymn For The Weekend - Seeb Remix\", \"Streams\": 50834}, {\"Date\": \"2017-05-17\", \"Track Name\": \"Hymn For The Weekend - Seeb Remix\", \"Streams\": 28976}, {\"Date\": \"2017-05-19\", \"Track Name\": \"Hymn For The Weekend - Seeb Remix\", \"Streams\": 23749}, {\"Date\": \"2017-05-20\", \"Track Name\": \"Hymn For The Weekend - Seeb Remix\", \"Streams\": 19168}, {\"Date\": \"2017-05-22\", \"Track Name\": \"Hymn For The Weekend - Seeb Remix\", \"Streams\": 26680}, {\"Date\": \"2017-05-23\", \"Track Name\": \"Adventure Of A Lifetime\", \"Streams\": 16909}, {\"Date\": \"2017-05-23\", \"Track Name\": \"Hymn For The Weekend - Seeb Remix\", \"Streams\": 51160}, {\"Date\": \"2017-05-24\", \"Track Name\": \"Hymn For The Weekend - Seeb Remix\", \"Streams\": 39599}, {\"Date\": \"2017-05-25\", \"Track Name\": \"Hymn For The Weekend - Seeb Remix\", \"Streams\": 2338}, {\"Date\": \"2017-05-26\", \"Track Name\": \"Adventure Of A Lifetime\", \"Streams\": 2513}, {\"Date\": \"2017-05-26\", \"Track Name\": \"Hymn For The Weekend - Seeb Remix\", \"Streams\": 23072}, {\"Date\": \"2017-05-27\", \"Track Name\": \"Hymn For The Weekend - Seeb Remix\", \"Streams\": 21169}, {\"Date\": \"2017-05-29\", \"Track Name\": \"Hymn For The Weekend - Seeb Remix\", \"Streams\": 2280}, {\"Date\": \"2017-06-03\", \"Track Name\": \"Hymn For The Weekend - Seeb Remix\", \"Streams\": 18067}, {\"Date\": \"2017-06-04\", \"Track Name\": \"Fix You\", \"Streams\": 33918}, {\"Date\": \"2017-06-04\", \"Track Name\": \"Viva La Vida\", \"Streams\": 37718}, {\"Date\": \"2017-06-05\", \"Track Name\": \"Adventure Of A Lifetime\", \"Streams\": 2589}, {\"Date\": \"2017-06-05\", \"Track Name\": \"Fix You\", \"Streams\": 124431}, {\"Date\": \"2017-06-05\", \"Track Name\": \"Hymn For The Weekend\", \"Streams\": 49385}, {\"Date\": \"2017-06-05\", \"Track Name\": \"Hymn For The Weekend - Seeb Remix\", \"Streams\": 24820}, {\"Date\": \"2017-06-05\", \"Track Name\": \"The Scientist\", \"Streams\": 63470}, {\"Date\": \"2017-06-05\", \"Track Name\": \"Viva La Vida\", \"Streams\": 63516}, {\"Date\": \"2017-06-06\", \"Track Name\": \"Adventure Of A Lifetime\", \"Streams\": 2623}, {\"Date\": \"2017-06-06\", \"Track Name\": \"Fix You\", \"Streams\": 96832}, {\"Date\": \"2017-06-06\", \"Track Name\": \"Hymn For The Weekend\", \"Streams\": 5785}, {\"Date\": \"2017-06-06\", \"Track Name\": \"Hymn For The Weekend - Seeb Remix\", \"Streams\": 38460}, {\"Date\": \"2017-06-06\", \"Track Name\": \"The Scientist\", \"Streams\": 51360}, {\"Date\": \"2017-06-06\", \"Track Name\": \"Viva La Vida\", \"Streams\": 58770}, {\"Date\": \"2017-06-07\", \"Track Name\": \"Adventure Of A Lifetime\", \"Streams\": 2768}, {\"Date\": \"2017-06-07\", \"Track Name\": \"Fix You\", \"Streams\": 79582}, {\"Date\": \"2017-06-07\", \"Track Name\": \"Hymn For The Weekend\", \"Streams\": 7894}, {\"Date\": \"2017-06-07\", \"Track Name\": \"Hymn For The Weekend - Seeb Remix\", \"Streams\": 21577}, {\"Date\": \"2017-06-07\", \"Track Name\": \"The Scientist\", \"Streams\": 53654}, {\"Date\": \"2017-06-07\", \"Track Name\": \"Viva La Vida\", \"Streams\": 57013}, {\"Date\": \"2017-06-08\", \"Track Name\": \"Adventure Of A Lifetime\", \"Streams\": 2761}, {\"Date\": \"2017-06-08\", \"Track Name\": \"Fix You\", \"Streams\": 72073}, {\"Date\": \"2017-06-08\", \"Track Name\": \"Hymn For The Weekend\", \"Streams\": 6240}, {\"Date\": \"2017-06-08\", \"Track Name\": \"Hymn For The Weekend - Seeb Remix\", \"Streams\": 22642}, {\"Date\": \"2017-06-08\", \"Track Name\": \"The Scientist\", \"Streams\": 12559}, {\"Date\": \"2017-06-08\", \"Track Name\": \"Viva La Vida\", \"Streams\": 53064}, {\"Date\": \"2017-06-09\", \"Track Name\": \"Adventure Of A Lifetime\", \"Streams\": 2964}, {\"Date\": \"2017-06-09\", \"Track Name\": \"Fix You\", \"Streams\": 46508}, {\"Date\": \"2017-06-09\", \"Track Name\": \"Hymn For The Weekend\", \"Streams\": 6368}, {\"Date\": \"2017-06-09\", \"Track Name\": \"Hymn For The Weekend - Seeb Remix\", \"Streams\": 25110}, {\"Date\": \"2017-06-09\", \"Track Name\": \"The Scientist\", \"Streams\": 2685}, {\"Date\": \"2017-06-09\", \"Track Name\": \"Viva La Vida\", \"Streams\": 47074}, {\"Date\": \"2017-06-10\", \"Track Name\": \"Fix You\", \"Streams\": 45344}, {\"Date\": \"2017-06-10\", \"Track Name\": \"Hymn For The Weekend\", \"Streams\": 7776}, {\"Date\": \"2017-06-10\", \"Track Name\": \"Hymn For The Weekend - Seeb Remix\", \"Streams\": 23605}, {\"Date\": \"2017-06-10\", \"Track Name\": \"The Scientist\", \"Streams\": 5355}, {\"Date\": \"2017-06-10\", \"Track Name\": \"Viva La Vida\", \"Streams\": 51954}, {\"Date\": \"2017-06-11\", \"Track Name\": \"Adventure Of A Lifetime\", \"Streams\": 1978}, {\"Date\": \"2017-06-11\", \"Track Name\": \"Fix You\", \"Streams\": 59369}, {\"Date\": \"2017-06-11\", \"Track Name\": \"Hymn For The Weekend\", \"Streams\": 8306}, {\"Date\": \"2017-06-11\", \"Track Name\": \"Hymn For The Weekend - Seeb Remix\", \"Streams\": 16263}, {\"Date\": \"2017-06-11\", \"Track Name\": \"The Scientist\", \"Streams\": 12068}, {\"Date\": \"2017-06-11\", \"Track Name\": \"Viva La Vida\", \"Streams\": 48638}, {\"Date\": \"2017-06-12\", \"Track Name\": \"Adventure Of A Lifetime\", \"Streams\": 4906}, {\"Date\": \"2017-06-12\", \"Track Name\": \"Everglow\", \"Streams\": 2046}, {\"Date\": \"2017-06-12\", \"Track Name\": \"Fix You\", \"Streams\": 59737}, {\"Date\": \"2017-06-12\", \"Track Name\": \"Hymn For The Weekend\", \"Streams\": 9005}, {\"Date\": \"2017-06-12\", \"Track Name\": \"Hymn For The Weekend - Seeb Remix\", \"Streams\": 22431}, {\"Date\": \"2017-06-12\", \"Track Name\": \"Paradise\", \"Streams\": 2168}, {\"Date\": \"2017-06-12\", \"Track Name\": \"The Scientist\", \"Streams\": 12797}, {\"Date\": \"2017-06-12\", \"Track Name\": \"Viva La Vida\", \"Streams\": 45180}, {\"Date\": \"2017-06-12\", \"Track Name\": \"Yellow\", \"Streams\": 1961}, {\"Date\": \"2017-06-13\", \"Track Name\": \"Adventure Of A Lifetime\", \"Streams\": 1870}, {\"Date\": \"2017-06-13\", \"Track Name\": \"Fix You\", \"Streams\": 42630}, {\"Date\": \"2017-06-13\", \"Track Name\": \"Hymn For The Weekend\", \"Streams\": 8408}, {\"Date\": \"2017-06-13\", \"Track Name\": \"Hymn For The Weekend - Seeb Remix\", \"Streams\": 21681}, {\"Date\": \"2017-06-13\", \"Track Name\": \"The Scientist\", \"Streams\": 6373}, {\"Date\": \"2017-06-13\", \"Track Name\": \"Viva La Vida\", \"Streams\": 48172}, {\"Date\": \"2017-06-14\", \"Track Name\": \"Fix You\", \"Streams\": 3139}, {\"Date\": \"2017-06-14\", \"Track Name\": \"Hymn For The Weekend\", \"Streams\": 8607}, {\"Date\": \"2017-06-14\", \"Track Name\": \"Hymn For The Weekend - Seeb Remix\", \"Streams\": 22462}, {\"Date\": \"2017-06-14\", \"Track Name\": \"The Scientist\", \"Streams\": 5847}, {\"Date\": \"2017-06-14\", \"Track Name\": \"Viva La Vida\", \"Streams\": 44066}, {\"Date\": \"2017-06-15\", \"Track Name\": \"Fix You\", \"Streams\": 3134}, {\"Date\": \"2017-06-15\", \"Track Name\": \"Hymn For The Weekend\", \"Streams\": 6558}, {\"Date\": \"2017-06-15\", \"Track Name\": \"Hymn For The Weekend - Seeb Remix\", \"Streams\": 19893}, {\"Date\": \"2017-06-15\", \"Track Name\": \"The Scientist\", \"Streams\": 5558}, {\"Date\": \"2017-06-15\", \"Track Name\": \"Viva La Vida\", \"Streams\": 43077}, {\"Date\": \"2017-06-16\", \"Track Name\": \"All I Can Think About Is You\", \"Streams\": 336057}, {\"Date\": \"2017-06-16\", \"Track Name\": \"Hymn For The Weekend\", \"Streams\": 6827}, {\"Date\": \"2017-06-16\", \"Track Name\": \"Hymn For The Weekend - Seeb Remix\", \"Streams\": 25385}, {\"Date\": \"2017-06-16\", \"Track Name\": \"The Scientist\", \"Streams\": 1279}, {\"Date\": \"2017-06-17\", \"Track Name\": \"All I Can Think About Is You\", \"Streams\": 30694}, {\"Date\": \"2017-06-17\", \"Track Name\": \"Hymn For The Weekend\", \"Streams\": 6904}, {\"Date\": \"2017-06-17\", \"Track Name\": \"Hymn For The Weekend - Seeb Remix\", \"Streams\": 24622}, {\"Date\": \"2017-06-17\", \"Track Name\": \"The Scientist\", \"Streams\": 3466}, {\"Date\": \"2017-06-17\", \"Track Name\": \"Viva La Vida\", \"Streams\": 54211}, {\"Date\": \"2017-06-18\", \"Track Name\": \"Adventure Of A Lifetime\", \"Streams\": 4938}, {\"Date\": \"2017-06-18\", \"Track Name\": \"All I Can Think About Is You\", \"Streams\": 1936}, {\"Date\": \"2017-06-18\", \"Track Name\": \"Fix You\", \"Streams\": 17784}, {\"Date\": \"2017-06-18\", \"Track Name\": \"Hymn For The Weekend\", \"Streams\": 8347}, {\"Date\": \"2017-06-18\", \"Track Name\": \"Hymn For The Weekend - Seeb Remix\", \"Streams\": 21826}, {\"Date\": \"2017-06-18\", \"Track Name\": \"The Scientist\", \"Streams\": 10467}, {\"Date\": \"2017-06-18\", \"Track Name\": \"Viva La Vida\", \"Streams\": 50709}, {\"Date\": \"2017-06-19\", \"Track Name\": \"A Sky Full of Stars\", \"Streams\": 5172}, {\"Date\": \"2017-06-19\", \"Track Name\": \"Adventure Of A Lifetime\", \"Streams\": 6988}, {\"Date\": \"2017-06-19\", \"Track Name\": \"All I Can Think About Is You\", \"Streams\": 68013}, {\"Date\": \"2017-06-19\", \"Track Name\": \"Fix You\", \"Streams\": 5470}, {\"Date\": \"2017-06-19\", \"Track Name\": \"Hymn For The Weekend\", \"Streams\": 13661}, {\"Date\": \"2017-06-19\", \"Track Name\": \"Hymn For The Weekend - Seeb Remix\", \"Streams\": 25730}, {\"Date\": \"2017-06-19\", \"Track Name\": \"Paradise\", \"Streams\": 5648}, {\"Date\": \"2017-06-19\", \"Track Name\": \"The Scientist\", \"Streams\": 12579}, {\"Date\": \"2017-06-19\", \"Track Name\": \"Viva La Vida\", \"Streams\": 5531}, {\"Date\": \"2017-06-20\", \"Track Name\": \"Adventure Of A Lifetime\", \"Streams\": 5705}, {\"Date\": \"2017-06-20\", \"Track Name\": \"All I Can Think About Is You\", \"Streams\": 5570}, {\"Date\": \"2017-06-20\", \"Track Name\": \"Fix You\", \"Streams\": 19776}, {\"Date\": \"2017-06-20\", \"Track Name\": \"Hymn For The Weekend\", \"Streams\": 13212}, {\"Date\": \"2017-06-20\", \"Track Name\": \"Hymn For The Weekend - Seeb Remix\", \"Streams\": 21504}, {\"Date\": \"2017-06-20\", \"Track Name\": \"The Scientist\", \"Streams\": 12450}, {\"Date\": \"2017-06-20\", \"Track Name\": \"Viva La Vida\", \"Streams\": 45628}, {\"Date\": \"2017-06-21\", \"Track Name\": \"A Head Full Of Dreams\", \"Streams\": 3978}, {\"Date\": \"2017-06-21\", \"Track Name\": \"A Sky Full of Stars\", \"Streams\": 3518}, {\"Date\": \"2017-06-21\", \"Track Name\": \"Adventure Of A Lifetime\", \"Streams\": 11880}, {\"Date\": \"2017-06-21\", \"Track Name\": \"All I Can Think About Is You\", \"Streams\": 3558}, {\"Date\": \"2017-06-21\", \"Track Name\": \"Birds\", \"Streams\": 3251}, {\"Date\": \"2017-06-21\", \"Track Name\": \"Everglow\", \"Streams\": 3187}, {\"Date\": \"2017-06-21\", \"Track Name\": \"Fix You\", \"Streams\": 22139}, {\"Date\": \"2017-06-21\", \"Track Name\": \"Hymn For The Weekend\", \"Streams\": 14434}, {\"Date\": \"2017-06-21\", \"Track Name\": \"Hymn For The Weekend - Seeb Remix\", \"Streams\": 25988}, {\"Date\": \"2017-06-21\", \"Track Name\": \"Paradise\", \"Streams\": 4029}, {\"Date\": \"2017-06-21\", \"Track Name\": \"The Scientist\", \"Streams\": 13529}, {\"Date\": \"2017-06-21\", \"Track Name\": \"Viva La Vida\", \"Streams\": 7704}, {\"Date\": \"2017-06-21\", \"Track Name\": \"Yellow\", \"Streams\": 3206}, {\"Date\": \"2017-06-22\", \"Track Name\": \"A Head Full Of Dreams\", \"Streams\": 5657}, {\"Date\": \"2017-06-22\", \"Track Name\": \"A Sky Full of Stars\", \"Streams\": 4658}, {\"Date\": \"2017-06-22\", \"Track Name\": \"Adventure Of A Lifetime\", \"Streams\": 6422}, {\"Date\": \"2017-06-22\", \"Track Name\": \"All I Can Think About Is You\", \"Streams\": 4114}, {\"Date\": \"2017-06-22\", \"Track Name\": \"Birds\", \"Streams\": 4302}, {\"Date\": \"2017-06-22\", \"Track Name\": \"Clocks\", \"Streams\": 3402}, {\"Date\": \"2017-06-22\", \"Track Name\": \"Everglow\", \"Streams\": 4433}, {\"Date\": \"2017-06-22\", \"Track Name\": \"Fix You\", \"Streams\": 28238}, {\"Date\": \"2017-06-22\", \"Track Name\": \"Hymn For The Weekend\", \"Streams\": 15880}, {\"Date\": \"2017-06-22\", \"Track Name\": \"Hymn For The Weekend - Seeb Remix\", \"Streams\": 28492}, {\"Date\": \"2017-06-22\", \"Track Name\": \"Magic\", \"Streams\": 3701}, {\"Date\": \"2017-06-22\", \"Track Name\": \"Paradise\", \"Streams\": 5463}, {\"Date\": \"2017-06-22\", \"Track Name\": \"The Scientist\", \"Streams\": 10475}, {\"Date\": \"2017-06-22\", \"Track Name\": \"Up&Up\", \"Streams\": 4453}, {\"Date\": \"2017-06-22\", \"Track Name\": \"Viva La Vida\", \"Streams\": 9092}, {\"Date\": \"2017-06-22\", \"Track Name\": \"Yellow\", \"Streams\": 4723}, {\"Date\": \"2017-06-23\", \"Track Name\": \"A Head Full Of Dreams\", \"Streams\": 5114}, {\"Date\": \"2017-06-23\", \"Track Name\": \"A Sky Full of Stars\", \"Streams\": 4832}, {\"Date\": \"2017-06-23\", \"Track Name\": \"Adventure Of A Lifetime\", \"Streams\": 6121}, {\"Date\": \"2017-06-23\", \"Track Name\": \"Birds\", \"Streams\": 3563}, {\"Date\": \"2017-06-23\", \"Track Name\": \"Everglow\", \"Streams\": 4251}, {\"Date\": \"2017-06-23\", \"Track Name\": \"Fix You\", \"Streams\": 6664}, {\"Date\": \"2017-06-23\", \"Track Name\": \"Hymn For The Weekend\", \"Streams\": 14999}, {\"Date\": \"2017-06-23\", \"Track Name\": \"Hymn For The Weekend - Seeb Remix\", \"Streams\": 6948}, {\"Date\": \"2017-06-23\", \"Track Name\": \"Magic\", \"Streams\": 3716}, {\"Date\": \"2017-06-23\", \"Track Name\": \"Paradise\", \"Streams\": 5145}, {\"Date\": \"2017-06-23\", \"Track Name\": \"The Scientist\", \"Streams\": 7596}, {\"Date\": \"2017-06-23\", \"Track Name\": \"Up&Up\", \"Streams\": 4162}, {\"Date\": \"2017-06-23\", \"Track Name\": \"Viva La Vida\", \"Streams\": 5752}, {\"Date\": \"2017-06-23\", \"Track Name\": \"Yellow\", \"Streams\": 4241}, {\"Date\": \"2017-06-24\", \"Track Name\": \"A Head Full Of Dreams\", \"Streams\": 3660}, {\"Date\": \"2017-06-24\", \"Track Name\": \"A Sky Full of Stars\", \"Streams\": 3980}, {\"Date\": \"2017-06-24\", \"Track Name\": \"Adventure Of A Lifetime\", \"Streams\": 20846}, {\"Date\": \"2017-06-24\", \"Track Name\": \"Everglow\", \"Streams\": 3260}, {\"Date\": \"2017-06-24\", \"Track Name\": \"Fix You\", \"Streams\": 25654}, {\"Date\": \"2017-06-24\", \"Track Name\": \"Hymn For The Weekend\", \"Streams\": 30309}, {\"Date\": \"2017-06-24\", \"Track Name\": \"Hymn For The Weekend - Seeb Remix\", \"Streams\": 24989}, {\"Date\": \"2017-06-24\", \"Track Name\": \"Paradise\", \"Streams\": 3880}, {\"Date\": \"2017-06-24\", \"Track Name\": \"The Scientist\", \"Streams\": 25989}, {\"Date\": \"2017-06-24\", \"Track Name\": \"Viva La Vida\", \"Streams\": 50007}, {\"Date\": \"2017-06-24\", \"Track Name\": \"Yellow\", \"Streams\": 3375}, {\"Date\": \"2017-06-25\", \"Track Name\": \"A Head Full Of Dreams\", \"Streams\": 21748}, {\"Date\": \"2017-06-25\", \"Track Name\": \"A Sky Full of Stars\", \"Streams\": 24143}, {\"Date\": \"2017-06-25\", \"Track Name\": \"Adventure Of A Lifetime\", \"Streams\": 33766}, {\"Date\": \"2017-06-25\", \"Track Name\": \"Birds\", \"Streams\": 17625}, {\"Date\": \"2017-06-25\", \"Track Name\": \"Everglow\", \"Streams\": 19060}, {\"Date\": \"2017-06-25\", \"Track Name\": \"Fix You\", \"Streams\": 43856}, {\"Date\": \"2017-06-25\", \"Track Name\": \"Hymn For The Weekend\", \"Streams\": 46130}, {\"Date\": \"2017-06-25\", \"Track Name\": \"Hymn For The Weekend - Seeb Remix\", \"Streams\": 32907}, {\"Date\": \"2017-06-25\", \"Track Name\": \"Paradise\", \"Streams\": 28281}, {\"Date\": \"2017-06-25\", \"Track Name\": \"The Scientist\", \"Streams\": 43265}, {\"Date\": \"2017-06-25\", \"Track Name\": \"Up&Up\", \"Streams\": 15514}, {\"Date\": \"2017-06-25\", \"Track Name\": \"Viva La Vida\", \"Streams\": 67950}, {\"Date\": \"2017-06-25\", \"Track Name\": \"Yellow\", \"Streams\": 21522}, {\"Date\": \"2017-06-26\", \"Track Name\": \"A Head Full Of Dreams\", \"Streams\": 26651}, {\"Date\": \"2017-06-26\", \"Track Name\": \"A Sky Full of Stars\", \"Streams\": 27146}, {\"Date\": \"2017-06-26\", \"Track Name\": \"Adventure Of A Lifetime\", \"Streams\": 43133}, {\"Date\": \"2017-06-26\", \"Track Name\": \"Birds\", \"Streams\": 19498}, {\"Date\": \"2017-06-26\", \"Track Name\": \"Everglow\", \"Streams\": 24906}, {\"Date\": \"2017-06-26\", \"Track Name\": \"Every Teardrop Is a Waterfall\", \"Streams\": 17193}, {\"Date\": \"2017-06-26\", \"Track Name\": \"Fix You\", \"Streams\": 53457}, {\"Date\": \"2017-06-26\", \"Track Name\": \"Hymn For The Weekend\", \"Streams\": 55847}, {\"Date\": \"2017-06-26\", \"Track Name\": \"Hymn For The Weekend - Seeb Remix\", \"Streams\": 47275}, {\"Date\": \"2017-06-26\", \"Track Name\": \"Magic\", \"Streams\": 16738}, {\"Date\": \"2017-06-26\", \"Track Name\": \"Paradise\", \"Streams\": 32043}, {\"Date\": \"2017-06-26\", \"Track Name\": \"The Scientist\", \"Streams\": 54653}, {\"Date\": \"2017-06-26\", \"Track Name\": \"Up&Up\", \"Streams\": 19818}, {\"Date\": \"2017-06-26\", \"Track Name\": \"Viva La Vida\", \"Streams\": 38073}, {\"Date\": \"2017-06-26\", \"Track Name\": \"Yellow\", \"Streams\": 28274}, {\"Date\": \"2017-06-27\", \"Track Name\": \"A Head Full Of Dreams\", \"Streams\": 19946}, {\"Date\": \"2017-06-27\", \"Track Name\": \"A Sky Full of Stars\", \"Streams\": 23562}, {\"Date\": \"2017-06-27\", \"Track Name\": \"Adventure Of A Lifetime\", \"Streams\": 33889}, {\"Date\": \"2017-06-27\", \"Track Name\": \"Everglow\", \"Streams\": 21655}, {\"Date\": \"2017-06-27\", \"Track Name\": \"Fix You\", \"Streams\": 47361}, {\"Date\": \"2017-06-27\", \"Track Name\": \"Hymn For The Weekend\", \"Streams\": 47587}, {\"Date\": \"2017-06-27\", \"Track Name\": \"Hymn For The Weekend - Seeb Remix\", \"Streams\": 45338}, {\"Date\": \"2017-06-27\", \"Track Name\": \"Paradise\", \"Streams\": 27031}, {\"Date\": \"2017-06-27\", \"Track Name\": \"The Scientist\", \"Streams\": 44113}, {\"Date\": \"2017-06-27\", \"Track Name\": \"Up&Up\", \"Streams\": 16376}, {\"Date\": \"2017-06-27\", \"Track Name\": \"Viva La Vida\", \"Streams\": 71407}, {\"Date\": \"2017-06-27\", \"Track Name\": \"Yellow\", \"Streams\": 23759}, {\"Date\": \"2017-06-28\", \"Track Name\": \"A Sky Full of Stars\", \"Streams\": 17764}, {\"Date\": \"2017-06-28\", \"Track Name\": \"Adventure Of A Lifetime\", \"Streams\": 25192}, {\"Date\": \"2017-06-28\", \"Track Name\": \"Everglow\", \"Streams\": 16364}, {\"Date\": \"2017-06-28\", \"Track Name\": \"Fix You\", \"Streams\": 36699}, {\"Date\": \"2017-06-28\", \"Track Name\": \"Hymn For The Weekend\", \"Streams\": 35538}, {\"Date\": \"2017-06-28\", \"Track Name\": \"Hymn For The Weekend - Seeb Remix\", \"Streams\": 42011}, {\"Date\": \"2017-06-28\", \"Track Name\": \"Paradise\", \"Streams\": 20105}, {\"Date\": \"2017-06-28\", \"Track Name\": \"The Scientist\", \"Streams\": 37297}, {\"Date\": \"2017-06-28\", \"Track Name\": \"Viva La Vida\", \"Streams\": 27883}, {\"Date\": \"2017-06-28\", \"Track Name\": \"Yellow\", \"Streams\": 16725}, {\"Date\": \"2017-06-29\", \"Track Name\": \"Adventure Of A Lifetime\", \"Streams\": 21364}, {\"Date\": \"2017-06-29\", \"Track Name\": \"Fix You\", \"Streams\": 29835}, {\"Date\": \"2017-06-29\", \"Track Name\": \"Hymn For The Weekend\", \"Streams\": 30626}, {\"Date\": \"2017-06-29\", \"Track Name\": \"Hymn For The Weekend - Seeb Remix\", \"Streams\": 37811}, {\"Date\": \"2017-06-29\", \"Track Name\": \"Paradise\", \"Streams\": 16756}, {\"Date\": \"2017-06-29\", \"Track Name\": \"The Scientist\", \"Streams\": 33894}, {\"Date\": \"2017-06-29\", \"Track Name\": \"Viva La Vida\", \"Streams\": 24755}, {\"Date\": \"2017-06-30\", \"Track Name\": \"Adventure Of A Lifetime\", \"Streams\": 21654}, {\"Date\": \"2017-06-30\", \"Track Name\": \"Fix You\", \"Streams\": 26843}, {\"Date\": \"2017-06-30\", \"Track Name\": \"Hymn For The Weekend\", \"Streams\": 22743}, {\"Date\": \"2017-06-30\", \"Track Name\": \"Hymn For The Weekend - Seeb Remix\", \"Streams\": 42788}, {\"Date\": \"2017-06-30\", \"Track Name\": \"The Scientist\", \"Streams\": 27705}, {\"Date\": \"2017-06-30\", \"Track Name\": \"Viva La Vida\", \"Streams\": 19196}, {\"Date\": \"2017-07-01\", \"Track Name\": \"Adventure Of A Lifetime\", \"Streams\": 21100}, {\"Date\": \"2017-07-01\", \"Track Name\": \"Fix You\", \"Streams\": 27590}, {\"Date\": \"2017-07-01\", \"Track Name\": \"Hymn For The Weekend\", \"Streams\": 29692}, {\"Date\": \"2017-07-01\", \"Track Name\": \"Hymn For The Weekend - Seeb Remix\", \"Streams\": 41584}, {\"Date\": \"2017-07-01\", \"Track Name\": \"The Scientist\", \"Streams\": 28590}, {\"Date\": \"2017-07-01\", \"Track Name\": \"Viva La Vida\", \"Streams\": 47099}, {\"Date\": \"2017-07-02\", \"Track Name\": \"Adventure Of A Lifetime\", \"Streams\": 14865}, {\"Date\": \"2017-07-02\", \"Track Name\": \"Fix You\", \"Streams\": 23739}, {\"Date\": \"2017-07-02\", \"Track Name\": \"Hymn For The Weekend\", \"Streams\": 21594}, {\"Date\": \"2017-07-02\", \"Track Name\": \"Hymn For The Weekend - Seeb Remix\", \"Streams\": 20716}, {\"Date\": \"2017-07-02\", \"Track Name\": \"The Scientist\", \"Streams\": 24936}, {\"Date\": \"2017-07-02\", \"Track Name\": \"Viva La Vida\", \"Streams\": 45661}, {\"Date\": \"2017-07-03\", \"Track Name\": \"Fix You\", \"Streams\": 24106}, {\"Date\": \"2017-07-03\", \"Track Name\": \"Hymn For The Weekend\", \"Streams\": 18377}, {\"Date\": \"2017-07-03\", \"Track Name\": \"Hymn For The Weekend - Seeb Remix\", \"Streams\": 20823}, {\"Date\": \"2017-07-03\", \"Track Name\": \"The Scientist\", \"Streams\": 40871}, {\"Date\": \"2017-07-03\", \"Track Name\": \"Viva La Vida\", \"Streams\": 40135}, {\"Date\": \"2017-07-04\", \"Track Name\": \"Adventure Of A Lifetime\", \"Streams\": 3238}, {\"Date\": \"2017-07-04\", \"Track Name\": \"Fix You\", \"Streams\": 45461}, {\"Date\": \"2017-07-04\", \"Track Name\": \"Hymn For The Weekend\", \"Streams\": 25025}, {\"Date\": \"2017-07-04\", \"Track Name\": \"Hymn For The Weekend - Seeb Remix\", \"Streams\": 36078}, {\"Date\": \"2017-07-04\", \"Track Name\": \"The Scientist\", \"Streams\": 47080}, {\"Date\": \"2017-07-04\", \"Track Name\": \"Viva La Vida\", \"Streams\": 61743}, {\"Date\": \"2017-07-05\", \"Track Name\": \"Adventure Of A Lifetime\", \"Streams\": 3649}, {\"Date\": \"2017-07-05\", \"Track Name\": \"Fix You\", \"Streams\": 43096}, {\"Date\": \"2017-07-05\", \"Track Name\": \"Hymn For The Weekend\", \"Streams\": 25747}, {\"Date\": \"2017-07-05\", \"Track Name\": \"Hymn For The Weekend - Seeb Remix\", \"Streams\": 22367}, {\"Date\": \"2017-07-05\", \"Track Name\": \"The Scientist\", \"Streams\": 46187}, {\"Date\": \"2017-07-05\", \"Track Name\": \"Viva La Vida\", \"Streams\": 47684}, {\"Date\": \"2017-07-06\", \"Track Name\": \"Adventure Of A Lifetime\", \"Streams\": 3860}, {\"Date\": \"2017-07-06\", \"Track Name\": \"Fix You\", \"Streams\": 39802}, {\"Date\": \"2017-07-06\", \"Track Name\": \"Hymn For The Weekend\", \"Streams\": 21777}, {\"Date\": \"2017-07-06\", \"Track Name\": \"Hymn For The Weekend - Seeb Remix\", \"Streams\": 20484}, {\"Date\": \"2017-07-06\", \"Track Name\": \"The Scientist\", \"Streams\": 26174}, {\"Date\": \"2017-07-06\", \"Track Name\": \"Viva La Vida\", \"Streams\": 50261}, {\"Date\": \"2017-07-06\", \"Track Name\": \"Yellow\", \"Streams\": 3310}, {\"Date\": \"2017-07-07\", \"Track Name\": \"A Head Full Of Dreams\", \"Streams\": 4176}, {\"Date\": \"2017-07-07\", \"Track Name\": \"A L I E N S\", \"Streams\": 256978}, {\"Date\": \"2017-07-07\", \"Track Name\": \"A Sky Full of Stars\", \"Streams\": 3999}, {\"Date\": \"2017-07-07\", \"Track Name\": \"Adventure Of A Lifetime\", \"Streams\": 5335}, {\"Date\": \"2017-07-07\", \"Track Name\": \"Clocks\", \"Streams\": 3621}, {\"Date\": \"2017-07-07\", \"Track Name\": \"Fix You\", \"Streams\": 26132}, {\"Date\": \"2017-07-07\", \"Track Name\": \"Hymn For The Weekend\", \"Streams\": 23202}, {\"Date\": \"2017-07-07\", \"Track Name\": \"Hymn For The Weekend - Seeb Remix\", \"Streams\": 25371}, {\"Date\": \"2017-07-07\", \"Track Name\": \"Paradise\", \"Streams\": 4442}, {\"Date\": \"2017-07-07\", \"Track Name\": \"The Scientist\", \"Streams\": 26834}, {\"Date\": \"2017-07-07\", \"Track Name\": \"Viva La Vida\", \"Streams\": 6207}, {\"Date\": \"2017-07-07\", \"Track Name\": \"Yellow\", \"Streams\": 4291}, {\"Date\": \"2017-07-08\", \"Track Name\": \"A Head Full Of Dreams\", \"Streams\": 6749}, {\"Date\": \"2017-07-08\", \"Track Name\": \"A L I E N S\", \"Streams\": 4337}, {\"Date\": \"2017-07-08\", \"Track Name\": \"A Sky Full of Stars\", \"Streams\": 6196}, {\"Date\": \"2017-07-08\", \"Track Name\": \"Adventure Of A Lifetime\", \"Streams\": 8544}, {\"Date\": \"2017-07-08\", \"Track Name\": \"Birds\", \"Streams\": 4732}, {\"Date\": \"2017-07-08\", \"Track Name\": \"Charlie Brown\", \"Streams\": 5448}, {\"Date\": \"2017-07-08\", \"Track Name\": \"Clocks\", \"Streams\": 5647}, {\"Date\": \"2017-07-08\", \"Track Name\": \"Everglow\", \"Streams\": 4933}, {\"Date\": \"2017-07-08\", \"Track Name\": \"Every Teardrop Is a Waterfall\", \"Streams\": 5449}, {\"Date\": \"2017-07-08\", \"Track Name\": \"Fix You\", \"Streams\": 27845}, {\"Date\": \"2017-07-08\", \"Track Name\": \"Hymn For The Weekend\", \"Streams\": 11437}, {\"Date\": \"2017-07-08\", \"Track Name\": \"Hymn For The Weekend - Seeb Remix\", \"Streams\": 25894}, {\"Date\": \"2017-07-08\", \"Track Name\": \"Magic\", \"Streams\": 5349}, {\"Date\": \"2017-07-08\", \"Track Name\": \"Paradise\", \"Streams\": 7676}, {\"Date\": \"2017-07-08\", \"Track Name\": \"Princess of China\", \"Streams\": 3408}, {\"Date\": \"2017-07-08\", \"Track Name\": \"The Scientist\", \"Streams\": 28404}, {\"Date\": \"2017-07-08\", \"Track Name\": \"Up&Up\", \"Streams\": 5309}, {\"Date\": \"2017-07-08\", \"Track Name\": \"Viva La Vida\", \"Streams\": 56623}, {\"Date\": \"2017-07-08\", \"Track Name\": \"Yellow\", \"Streams\": 6764}, {\"Date\": \"2017-07-09\", \"Track Name\": \"A Head Full Of Dreams\", \"Streams\": 4887}, {\"Date\": \"2017-07-09\", \"Track Name\": \"A L I E N S\", \"Streams\": 2944}, {\"Date\": \"2017-07-09\", \"Track Name\": \"A Sky Full of Stars\", \"Streams\": 5669}, {\"Date\": \"2017-07-09\", \"Track Name\": \"Adventure Of A Lifetime\", \"Streams\": 6892}, {\"Date\": \"2017-07-09\", \"Track Name\": \"Birds\", \"Streams\": 3054}, {\"Date\": \"2017-07-09\", \"Track Name\": \"Charlie Brown\", \"Streams\": 4455}, {\"Date\": \"2017-07-09\", \"Track Name\": \"Clocks\", \"Streams\": 4105}, {\"Date\": \"2017-07-09\", \"Track Name\": \"Everglow\", \"Streams\": 3817}, {\"Date\": \"2017-07-09\", \"Track Name\": \"Every Teardrop Is a Waterfall\", \"Streams\": 3892}, {\"Date\": \"2017-07-09\", \"Track Name\": \"Fix You\", \"Streams\": 26205}, {\"Date\": \"2017-07-09\", \"Track Name\": \"Hymn For The Weekend\", \"Streams\": 7856}, {\"Date\": \"2017-07-09\", \"Track Name\": \"Hymn For The Weekend - Seeb Remix\", \"Streams\": 21996}, {\"Date\": \"2017-07-09\", \"Track Name\": \"Magic\", \"Streams\": 4221}, {\"Date\": \"2017-07-09\", \"Track Name\": \"Paradise\", \"Streams\": 5927}, {\"Date\": \"2017-07-09\", \"Track Name\": \"The Scientist\", \"Streams\": 26389}, {\"Date\": \"2017-07-09\", \"Track Name\": \"Up&Up\", \"Streams\": 4013}, {\"Date\": \"2017-07-09\", \"Track Name\": \"Viva La Vida\", \"Streams\": 51854}, {\"Date\": \"2017-07-09\", \"Track Name\": \"Yellow\", \"Streams\": 6084}, {\"Date\": \"2017-07-10\", \"Track Name\": \"A Head Full Of Dreams\", \"Streams\": 4257}, {\"Date\": \"2017-07-10\", \"Track Name\": \"A Sky Full of Stars\", \"Streams\": 5081}, {\"Date\": \"2017-07-10\", \"Track Name\": \"Adventure Of A Lifetime\", \"Streams\": 6084}, {\"Date\": \"2017-07-10\", \"Track Name\": \"Charlie Brown\", \"Streams\": 3859}, {\"Date\": \"2017-07-10\", \"Track Name\": \"Clocks\", \"Streams\": 3607}, {\"Date\": \"2017-07-10\", \"Track Name\": \"Everglow\", \"Streams\": 3637}, {\"Date\": \"2017-07-10\", \"Track Name\": \"Every Teardrop Is a Waterfall\", \"Streams\": 3585}, {\"Date\": \"2017-07-10\", \"Track Name\": \"Fix You\", \"Streams\": 25493}, {\"Date\": \"2017-07-10\", \"Track Name\": \"Hymn For The Weekend\", \"Streams\": 6596}, {\"Date\": \"2017-07-10\", \"Track Name\": \"Hymn For The Weekend - Seeb Remix\", \"Streams\": 22851}, {\"Date\": \"2017-07-10\", \"Track Name\": \"Magic\", \"Streams\": 3668}, {\"Date\": \"2017-07-10\", \"Track Name\": \"Paradise\", \"Streams\": 4892}, {\"Date\": \"2017-07-10\", \"Track Name\": \"The Scientist\", \"Streams\": 10436}, {\"Date\": \"2017-07-10\", \"Track Name\": \"Up&Up\", \"Streams\": 3463}, {\"Date\": \"2017-07-10\", \"Track Name\": \"Viva La Vida\", \"Streams\": 46473}, {\"Date\": \"2017-07-10\", \"Track Name\": \"Yellow\", \"Streams\": 5253}, {\"Date\": \"2017-07-11\", \"Track Name\": \"A Head Full Of Dreams\", \"Streams\": 3181}, {\"Date\": \"2017-07-11\", \"Track Name\": \"A Sky Full of Stars\", \"Streams\": 4129}, {\"Date\": \"2017-07-11\", \"Track Name\": \"Adventure Of A Lifetime\", \"Streams\": 4707}, {\"Date\": \"2017-07-11\", \"Track Name\": \"Charlie Brown\", \"Streams\": 3141}, {\"Date\": \"2017-07-11\", \"Track Name\": \"Fix You\", \"Streams\": 23776}, {\"Date\": \"2017-07-11\", \"Track Name\": \"Hymn For The Weekend\", \"Streams\": 5347}, {\"Date\": \"2017-07-11\", \"Track Name\": \"Hymn For The Weekend - Seeb Remix\", \"Streams\": 22247}, {\"Date\": \"2017-07-11\", \"Track Name\": \"Paradise\", \"Streams\": 3940}, {\"Date\": \"2017-07-11\", \"Track Name\": \"The Scientist\", \"Streams\": 43837}, {\"Date\": \"2017-07-11\", \"Track Name\": \"Viva La Vida\", \"Streams\": 51446}, {\"Date\": \"2017-07-11\", \"Track Name\": \"Yellow\", \"Streams\": 4064}, {\"Date\": \"2017-07-12\", \"Track Name\": \"A Sky Full of Stars\", \"Streams\": 3747}, {\"Date\": \"2017-07-12\", \"Track Name\": \"Adventure Of A Lifetime\", \"Streams\": 4385}, {\"Date\": \"2017-07-12\", \"Track Name\": \"Fix You\", \"Streams\": 22662}, {\"Date\": \"2017-07-12\", \"Track Name\": \"Hymn For The Weekend\", \"Streams\": 4767}, {\"Date\": \"2017-07-12\", \"Track Name\": \"Hymn For The Weekend - Seeb Remix\", \"Streams\": 20719}, {\"Date\": \"2017-07-12\", \"Track Name\": \"Paradise\", \"Streams\": 3491}, {\"Date\": \"2017-07-12\", \"Track Name\": \"The Scientist\", \"Streams\": 10033}, {\"Date\": \"2017-07-12\", \"Track Name\": \"Viva La Vida\", \"Streams\": 53048}, {\"Date\": \"2017-07-12\", \"Track Name\": \"Yellow\", \"Streams\": 3657}, {\"Date\": \"2017-07-13\", \"Track Name\": \"A Sky Full of Stars\", \"Streams\": 3362}, {\"Date\": \"2017-07-13\", \"Track Name\": \"Adventure Of A Lifetime\", \"Streams\": 3927}, {\"Date\": \"2017-07-13\", \"Track Name\": \"Fix You\", \"Streams\": 5431}, {\"Date\": \"2017-07-13\", \"Track Name\": \"Hymn For The Weekend\", \"Streams\": 4278}, {\"Date\": \"2017-07-13\", \"Track Name\": \"Hymn For The Weekend - Seeb Remix\", \"Streams\": 37947}, {\"Date\": \"2017-07-13\", \"Track Name\": \"The Scientist\", \"Streams\": 8021}, {\"Date\": \"2017-07-13\", \"Track Name\": \"Viva La Vida\", \"Streams\": 50328}, {\"Date\": \"2017-07-14\", \"Track Name\": \"A L I E N S\", \"Streams\": 235104}, {\"Date\": \"2017-07-14\", \"Track Name\": \"Adventure Of A Lifetime\", \"Streams\": 4036}, {\"Date\": \"2017-07-14\", \"Track Name\": \"All I Can Think About Is You\", \"Streams\": 376239}, {\"Date\": \"2017-07-14\", \"Track Name\": \"Fix You\", \"Streams\": 25199}, {\"Date\": \"2017-07-14\", \"Track Name\": \"Hymn For The Weekend\", \"Streams\": 5574}, {\"Date\": \"2017-07-14\", \"Track Name\": \"Hymn For The Weekend - Seeb Remix\", \"Streams\": 77747}, {\"Date\": \"2017-07-14\", \"Track Name\": \"Hypnotised - EP Mix\", \"Streams\": 78295}, {\"Date\": \"2017-07-14\", \"Track Name\": \"Miracles (Someone Special)\", \"Streams\": 567231}, {\"Date\": \"2017-07-14\", \"Track Name\": \"Something Just Like This - Tokyo Remix\", \"Streams\": 163476}, {\"Date\": \"2017-07-14\", \"Track Name\": \"The Scientist\", \"Streams\": 11000}, {\"Date\": \"2017-07-14\", \"Track Name\": \"Viva La Vida\", \"Streams\": 49564}, {\"Date\": \"2017-07-15\", \"Track Name\": \"A Sky Full of Stars\", \"Streams\": 3299}, {\"Date\": \"2017-07-15\", \"Track Name\": \"Adventure Of A Lifetime\", \"Streams\": 3822}, {\"Date\": \"2017-07-15\", \"Track Name\": \"All I Can Think About Is You\", \"Streams\": 59132}, {\"Date\": \"2017-07-15\", \"Track Name\": \"Fix You\", \"Streams\": 4889}, {\"Date\": \"2017-07-15\", \"Track Name\": \"Hymn For The Weekend\", \"Streams\": 5238}, {\"Date\": \"2017-07-15\", \"Track Name\": \"Hymn For The Weekend - Seeb Remix\", \"Streams\": 28613}, {\"Date\": \"2017-07-15\", \"Track Name\": \"Miracles (Someone Special)\", \"Streams\": 228049}, {\"Date\": \"2017-07-15\", \"Track Name\": \"The Scientist\", \"Streams\": 8041}, {\"Date\": \"2017-07-15\", \"Track Name\": \"Viva La Vida\", \"Streams\": 53088}, {\"Date\": \"2017-07-16\", \"Track Name\": \"A Sky Full of Stars\", \"Streams\": 2806}, {\"Date\": \"2017-07-16\", \"Track Name\": \"Adventure Of A Lifetime\", \"Streams\": 3306}, {\"Date\": \"2017-07-16\", \"Track Name\": \"All I Can Think About Is You\", \"Streams\": 2415}, {\"Date\": \"2017-07-16\", \"Track Name\": \"Fix You\", \"Streams\": 20294}, {\"Date\": \"2017-07-16\", \"Track Name\": \"Hymn For The Weekend\", \"Streams\": 4473}, {\"Date\": \"2017-07-16\", \"Track Name\": \"Hymn For The Weekend - Seeb Remix\", \"Streams\": 20216}, {\"Date\": \"2017-07-16\", \"Track Name\": \"Miracles (Someone Special)\", \"Streams\": 151806}, {\"Date\": \"2017-07-16\", \"Track Name\": \"The Scientist\", \"Streams\": 8602}, {\"Date\": \"2017-07-16\", \"Track Name\": \"Viva La Vida\", \"Streams\": 48236}, {\"Date\": \"2017-07-17\", \"Track Name\": \"Adventure Of A Lifetime\", \"Streams\": 2144}, {\"Date\": \"2017-07-17\", \"Track Name\": \"All I Can Think About Is You\", \"Streams\": 2621}, {\"Date\": \"2017-07-17\", \"Track Name\": \"Fix You\", \"Streams\": 20107}, {\"Date\": \"2017-07-17\", \"Track Name\": \"Hymn For The Weekend\", \"Streams\": 3527}, {\"Date\": \"2017-07-17\", \"Track Name\": \"Hymn For The Weekend - Seeb Remix\", \"Streams\": 20145}, {\"Date\": \"2017-07-17\", \"Track Name\": \"Miracles (Someone Special)\", \"Streams\": 163718}, {\"Date\": \"2017-07-17\", \"Track Name\": \"The Scientist\", \"Streams\": 9273}, {\"Date\": \"2017-07-17\", \"Track Name\": \"Viva La Vida\", \"Streams\": 48690}, {\"Date\": \"2017-07-18\", \"Track Name\": \"Fix You\", \"Streams\": 19929}, {\"Date\": \"2017-07-18\", \"Track Name\": \"Hymn For The Weekend\", \"Streams\": 3191}, {\"Date\": \"2017-07-18\", \"Track Name\": \"Hymn For The Weekend - Seeb Remix\", \"Streams\": 18209}, {\"Date\": \"2017-07-18\", \"Track Name\": \"Miracles (Someone Special)\", \"Streams\": 152101}, {\"Date\": \"2017-07-18\", \"Track Name\": \"The Scientist\", \"Streams\": 8973}, {\"Date\": \"2017-07-18\", \"Track Name\": \"Viva La Vida\", \"Streams\": 50668}, {\"Date\": \"2017-07-19\", \"Track Name\": \"Adventure Of A Lifetime\", \"Streams\": 2174}, {\"Date\": \"2017-07-19\", \"Track Name\": \"Fix You\", \"Streams\": 19452}, {\"Date\": \"2017-07-19\", \"Track Name\": \"Hymn For The Weekend\", \"Streams\": 3047}, {\"Date\": \"2017-07-19\", \"Track Name\": \"Hymn For The Weekend - Seeb Remix\", \"Streams\": 20351}, {\"Date\": \"2017-07-19\", \"Track Name\": \"Miracles (Someone Special)\", \"Streams\": 178186}, {\"Date\": \"2017-07-19\", \"Track Name\": \"The Scientist\", \"Streams\": 9152}, {\"Date\": \"2017-07-19\", \"Track Name\": \"Viva La Vida\", \"Streams\": 46097}, {\"Date\": \"2017-07-20\", \"Track Name\": \"All I Can Think About Is You\", \"Streams\": 2944}, {\"Date\": \"2017-07-20\", \"Track Name\": \"Fix You\", \"Streams\": 4019}, {\"Date\": \"2017-07-20\", \"Track Name\": \"Hymn For The Weekend - Seeb Remix\", \"Streams\": 17738}, {\"Date\": \"2017-07-20\", \"Track Name\": \"Miracles (Someone Special)\", \"Streams\": 204998}, {\"Date\": \"2017-07-20\", \"Track Name\": \"The Scientist\", \"Streams\": 6883}, {\"Date\": \"2017-07-20\", \"Track Name\": \"Viva La Vida\", \"Streams\": 48319}, {\"Date\": \"2017-07-21\", \"Track Name\": \"Fix You\", \"Streams\": 4003}, {\"Date\": \"2017-07-21\", \"Track Name\": \"Hymn For The Weekend - Seeb Remix\", \"Streams\": 23406}, {\"Date\": \"2017-07-21\", \"Track Name\": \"Miracles (Someone Special)\", \"Streams\": 76431}, {\"Date\": \"2017-07-21\", \"Track Name\": \"The Scientist\", \"Streams\": 3102}, {\"Date\": \"2017-07-21\", \"Track Name\": \"Viva La Vida\", \"Streams\": 4224}, {\"Date\": \"2017-07-22\", \"Track Name\": \"Fix You\", \"Streams\": 3828}, {\"Date\": \"2017-07-22\", \"Track Name\": \"Hymn For The Weekend - Seeb Remix\", \"Streams\": 18761}, {\"Date\": \"2017-07-22\", \"Track Name\": \"Miracles (Someone Special)\", \"Streams\": 77577}, {\"Date\": \"2017-07-22\", \"Track Name\": \"The Scientist\", \"Streams\": 6530}, {\"Date\": \"2017-07-22\", \"Track Name\": \"Viva La Vida\", \"Streams\": 48140}, {\"Date\": \"2017-07-23\", \"Track Name\": \"Fix You\", \"Streams\": 3513}, {\"Date\": \"2017-07-23\", \"Track Name\": \"Hymn For The Weekend - Seeb Remix\", \"Streams\": 15149}, {\"Date\": \"2017-07-23\", \"Track Name\": \"Miracles (Someone Special)\", \"Streams\": 60277}, {\"Date\": \"2017-07-23\", \"Track Name\": \"The Scientist\", \"Streams\": 6461}, {\"Date\": \"2017-07-23\", \"Track Name\": \"Viva La Vida\", \"Streams\": 45790}, {\"Date\": \"2017-07-24\", \"Track Name\": \"Fix You\", \"Streams\": 3489}, {\"Date\": \"2017-07-24\", \"Track Name\": \"Hymn For The Weekend - Seeb Remix\", \"Streams\": 16473}, {\"Date\": \"2017-07-24\", \"Track Name\": \"Miracles (Someone Special)\", \"Streams\": 63547}, {\"Date\": \"2017-07-24\", \"Track Name\": \"The Scientist\", \"Streams\": 6402}, {\"Date\": \"2017-07-24\", \"Track Name\": \"Viva La Vida\", \"Streams\": 3670}, {\"Date\": \"2017-07-25\", \"Track Name\": \"Fix You\", \"Streams\": 3471}, {\"Date\": \"2017-07-25\", \"Track Name\": \"Hymn For The Weekend - Seeb Remix\", \"Streams\": 16838}, {\"Date\": \"2017-07-25\", \"Track Name\": \"Miracles (Someone Special)\", \"Streams\": 81144}, {\"Date\": \"2017-07-25\", \"Track Name\": \"The Scientist\", \"Streams\": 6572}, {\"Date\": \"2017-07-25\", \"Track Name\": \"Viva La Vida\", \"Streams\": 3866}, {\"Date\": \"2017-07-26\", \"Track Name\": \"Fix You\", \"Streams\": 3432}, {\"Date\": \"2017-07-26\", \"Track Name\": \"Hymn For The Weekend - Seeb Remix\", \"Streams\": 19057}, {\"Date\": \"2017-07-26\", \"Track Name\": \"Miracles (Someone Special)\", \"Streams\": 75209}, {\"Date\": \"2017-07-26\", \"Track Name\": \"The Scientist\", \"Streams\": 6637}, {\"Date\": \"2017-07-26\", \"Track Name\": \"Viva La Vida\", \"Streams\": 3556}, {\"Date\": \"2017-07-27\", \"Track Name\": \"Fix You\", \"Streams\": 3491}, {\"Date\": \"2017-07-27\", \"Track Name\": \"Hymn For The Weekend - Seeb Remix\", \"Streams\": 16076}, {\"Date\": \"2017-07-27\", \"Track Name\": \"Miracles (Someone Special)\", \"Streams\": 53170}, {\"Date\": \"2017-07-27\", \"Track Name\": \"The Scientist\", \"Streams\": 6520}, {\"Date\": \"2017-07-27\", \"Track Name\": \"Viva La Vida\", \"Streams\": 3450}, {\"Date\": \"2017-07-28\", \"Track Name\": \"Hymn For The Weekend - Seeb Remix\", \"Streams\": 25495}, {\"Date\": \"2017-07-28\", \"Track Name\": \"Miracles (Someone Special)\", \"Streams\": 26047}, {\"Date\": \"2017-07-28\", \"Track Name\": \"Viva La Vida\", \"Streams\": 3555}, {\"Date\": \"2017-07-29\", \"Track Name\": \"Fix You\", \"Streams\": 3710}, {\"Date\": \"2017-07-29\", \"Track Name\": \"Hymn For The Weekend - Seeb Remix\", \"Streams\": 16800}, {\"Date\": \"2017-07-29\", \"Track Name\": \"Miracles (Someone Special)\", \"Streams\": 25412}, {\"Date\": \"2017-07-29\", \"Track Name\": \"The Scientist\", \"Streams\": 6516}, {\"Date\": \"2017-07-29\", \"Track Name\": \"Viva La Vida\", \"Streams\": 44398}, {\"Date\": \"2017-07-30\", \"Track Name\": \"Fix You\", \"Streams\": 3216}, {\"Date\": \"2017-07-30\", \"Track Name\": \"Hymn For The Weekend - Seeb Remix\", \"Streams\": 14374}, {\"Date\": \"2017-07-30\", \"Track Name\": \"Miracles (Someone Special)\", \"Streams\": 6158}, {\"Date\": \"2017-07-30\", \"Track Name\": \"The Scientist\", \"Streams\": 6259}, {\"Date\": \"2017-07-30\", \"Track Name\": \"Viva La Vida\", \"Streams\": 38614}, {\"Date\": \"2017-07-31\", \"Track Name\": \"Fix You\", \"Streams\": 3356}, {\"Date\": \"2017-07-31\", \"Track Name\": \"Hymn For The Weekend - Seeb Remix\", \"Streams\": 15984}, {\"Date\": \"2017-07-31\", \"Track Name\": \"Miracles (Someone Special)\", \"Streams\": 23580}, {\"Date\": \"2017-07-31\", \"Track Name\": \"The Scientist\", \"Streams\": 3470}, {\"Date\": \"2017-07-31\", \"Track Name\": \"Viva La Vida\", \"Streams\": 3403}, {\"Date\": \"2017-08-01\", \"Track Name\": \"Fix You\", \"Streams\": 3391}, {\"Date\": \"2017-08-01\", \"Track Name\": \"Hymn For The Weekend - Seeb Remix\", \"Streams\": 16360}, {\"Date\": \"2017-08-01\", \"Track Name\": \"Miracles (Someone Special)\", \"Streams\": 39269}, {\"Date\": \"2017-08-01\", \"Track Name\": \"The Scientist\", \"Streams\": 6033}, {\"Date\": \"2017-08-01\", \"Track Name\": \"Viva La Vida\", \"Streams\": 40148}, {\"Date\": \"2017-08-02\", \"Track Name\": \"Fix You\", \"Streams\": 3403}, {\"Date\": \"2017-08-02\", \"Track Name\": \"Hymn For The Weekend - Seeb Remix\", \"Streams\": 16115}, {\"Date\": \"2017-08-02\", \"Track Name\": \"Miracles (Someone Special)\", \"Streams\": 39671}, {\"Date\": \"2017-08-02\", \"Track Name\": \"The Scientist\", \"Streams\": 6431}, {\"Date\": \"2017-08-02\", \"Track Name\": \"Viva La Vida\", \"Streams\": 3327}, {\"Date\": \"2017-08-03\", \"Track Name\": \"Fix You\", \"Streams\": 3365}, {\"Date\": \"2017-08-03\", \"Track Name\": \"Hymn For The Weekend - Seeb Remix\", \"Streams\": 19025}, {\"Date\": \"2017-08-03\", \"Track Name\": \"Miracles (Someone Special)\", \"Streams\": 24730}, {\"Date\": \"2017-08-03\", \"Track Name\": \"The Scientist\", \"Streams\": 6447}, {\"Date\": \"2017-08-03\", \"Track Name\": \"Viva La Vida\", \"Streams\": 3471}, {\"Date\": \"2017-08-04\", \"Track Name\": \"Fix You\", \"Streams\": 3594}, {\"Date\": \"2017-08-04\", \"Track Name\": \"Hymn For The Weekend - Seeb Remix\", \"Streams\": 26625}, {\"Date\": \"2017-08-04\", \"Track Name\": \"Miracles (Someone Special)\", \"Streams\": 18440}, {\"Date\": \"2017-08-04\", \"Track Name\": \"The Scientist\", \"Streams\": 6518}, {\"Date\": \"2017-08-04\", \"Track Name\": \"Viva La Vida\", \"Streams\": 3626}, {\"Date\": \"2017-08-05\", \"Track Name\": \"Fix You\", \"Streams\": 3400}, {\"Date\": \"2017-08-05\", \"Track Name\": \"Hymn For The Weekend - Seeb Remix\", \"Streams\": 16540}, {\"Date\": \"2017-08-05\", \"Track Name\": \"Miracles (Someone Special)\", \"Streams\": 17485}, {\"Date\": \"2017-08-05\", \"Track Name\": \"The Scientist\", \"Streams\": 6266}, {\"Date\": \"2017-08-05\", \"Track Name\": \"Viva La Vida\", \"Streams\": 42738}, {\"Date\": \"2017-08-06\", \"Track Name\": \"Fix You\", \"Streams\": 16514}, {\"Date\": \"2017-08-06\", \"Track Name\": \"Hymn For The Weekend - Seeb Remix\", \"Streams\": 13274}, {\"Date\": \"2017-08-06\", \"Track Name\": \"Miracles (Someone Special)\", \"Streams\": 14906}, {\"Date\": \"2017-08-06\", \"Track Name\": \"The Scientist\", \"Streams\": 5940}, {\"Date\": \"2017-08-06\", \"Track Name\": \"Viva La Vida\", \"Streams\": 37799}, {\"Date\": \"2017-08-07\", \"Track Name\": \"Fix You\", \"Streams\": 3160}, {\"Date\": \"2017-08-07\", \"Track Name\": \"Hymn For The Weekend - Seeb Remix\", \"Streams\": 15144}, {\"Date\": \"2017-08-07\", \"Track Name\": \"Miracles (Someone Special)\", \"Streams\": 17057}, {\"Date\": \"2017-08-07\", \"Track Name\": \"The Scientist\", \"Streams\": 3002}, {\"Date\": \"2017-08-07\", \"Track Name\": \"Viva La Vida\", \"Streams\": 2965}, {\"Date\": \"2017-08-08\", \"Track Name\": \"Fix You\", \"Streams\": 3128}, {\"Date\": \"2017-08-08\", \"Track Name\": \"Hymn For The Weekend - Seeb Remix\", \"Streams\": 15701}, {\"Date\": \"2017-08-08\", \"Track Name\": \"Miracles (Someone Special)\", \"Streams\": 16217}, {\"Date\": \"2017-08-08\", \"Track Name\": \"The Scientist\", \"Streams\": 5784}, {\"Date\": \"2017-08-08\", \"Track Name\": \"Viva La Vida\", \"Streams\": 39263}, {\"Date\": \"2017-08-09\", \"Track Name\": \"Fix You\", \"Streams\": 3124}, {\"Date\": \"2017-08-09\", \"Track Name\": \"Hymn For The Weekend - Seeb Remix\", \"Streams\": 15001}, {\"Date\": \"2017-08-09\", \"Track Name\": \"Miracles (Someone Special)\", \"Streams\": 16953}, {\"Date\": \"2017-08-09\", \"Track Name\": \"The Scientist\", \"Streams\": 6183}, {\"Date\": \"2017-08-09\", \"Track Name\": \"Viva La Vida\", \"Streams\": 3233}, {\"Date\": \"2017-08-10\", \"Track Name\": \"Miracles (Someone Special)\", \"Streams\": 18067}, {\"Date\": \"2017-08-10\", \"Track Name\": \"The Scientist\", \"Streams\": 2898}, {\"Date\": \"2017-08-10\", \"Track Name\": \"Viva La Vida\", \"Streams\": 3279}, {\"Date\": \"2017-08-11\", \"Track Name\": \"Hymn For The Weekend - Seeb Remix\", \"Streams\": 68327}, {\"Date\": \"2017-08-11\", \"Track Name\": \"Miracles (Someone Special)\", \"Streams\": 18357}, {\"Date\": \"2017-08-12\", \"Track Name\": \"Fix You\", \"Streams\": 3172}, {\"Date\": \"2017-08-12\", \"Track Name\": \"Miracles (Someone Special)\", \"Streams\": 21773}, {\"Date\": \"2017-08-12\", \"Track Name\": \"The Scientist\", \"Streams\": 2994}, {\"Date\": \"2017-08-12\", \"Track Name\": \"Viva La Vida\", \"Streams\": 41303}, {\"Date\": \"2017-08-13\", \"Track Name\": \"Fix You\", \"Streams\": 2887}, {\"Date\": \"2017-08-13\", \"Track Name\": \"Miracles (Someone Special)\", \"Streams\": 16503}, {\"Date\": \"2017-08-13\", \"Track Name\": \"The Scientist\", \"Streams\": 6869}, {\"Date\": \"2017-08-13\", \"Track Name\": \"Viva La Vida\", \"Streams\": 41468}, {\"Date\": \"2017-08-14\", \"Track Name\": \"Miracles (Someone Special)\", \"Streams\": 17301}, {\"Date\": \"2017-08-14\", \"Track Name\": \"The Scientist\", \"Streams\": 2936}, {\"Date\": \"2017-08-14\", \"Track Name\": \"Viva La Vida\", \"Streams\": 3114}, {\"Date\": \"2017-08-15\", \"Track Name\": \"Fix You\", \"Streams\": 3159}, {\"Date\": \"2017-08-15\", \"Track Name\": \"Hymn For The Weekend - Seeb Remix\", \"Streams\": 15071}, {\"Date\": \"2017-08-15\", \"Track Name\": \"Miracles (Someone Special)\", \"Streams\": 16758}, {\"Date\": \"2017-08-15\", \"Track Name\": \"The Scientist\", \"Streams\": 2812}, {\"Date\": \"2017-08-15\", \"Track Name\": \"Viva La Vida\", \"Streams\": 3429}, {\"Date\": \"2017-08-16\", \"Track Name\": \"Miracles (Someone Special)\", \"Streams\": 18020}, {\"Date\": \"2017-08-16\", \"Track Name\": \"The Scientist\", \"Streams\": 6139}, {\"Date\": \"2017-08-16\", \"Track Name\": \"Viva La Vida\", \"Streams\": 3216}, {\"Date\": \"2017-08-17\", \"Track Name\": \"Miracles (Someone Special)\", \"Streams\": 19330}, {\"Date\": \"2017-08-17\", \"Track Name\": \"The Scientist\", \"Streams\": 6070}, {\"Date\": \"2017-08-18\", \"Track Name\": \"Hymn For The Weekend - Seeb Remix\", \"Streams\": 24848}, {\"Date\": \"2017-08-18\", \"Track Name\": \"Miracles (Someone Special)\", \"Streams\": 12962}, {\"Date\": \"2017-08-18\", \"Track Name\": \"The Scientist\", \"Streams\": 2955}, {\"Date\": \"2017-08-19\", \"Track Name\": \"Hymn For The Weekend - Seeb Remix\", \"Streams\": 9455}, {\"Date\": \"2017-08-19\", \"Track Name\": \"The Scientist\", \"Streams\": 3029}, {\"Date\": \"2017-08-19\", \"Track Name\": \"Viva La Vida\", \"Streams\": 41642}, {\"Date\": \"2017-08-20\", \"Track Name\": \"Fix You\", \"Streams\": 2893}, {\"Date\": \"2017-08-20\", \"Track Name\": \"The Scientist\", \"Streams\": 6952}, {\"Date\": \"2017-08-20\", \"Track Name\": \"Viva La Vida\", \"Streams\": 37659}, {\"Date\": \"2017-08-21\", \"Track Name\": \"Miracles (Someone Special)\", \"Streams\": 13206}, {\"Date\": \"2017-08-22\", \"Track Name\": \"Miracles (Someone Special)\", \"Streams\": 13991}, {\"Date\": \"2017-08-22\", \"Track Name\": \"Viva La Vida\", \"Streams\": 3331}, {\"Date\": \"2017-08-23\", \"Track Name\": \"Miracles (Someone Special)\", \"Streams\": 14281}, {\"Date\": \"2017-08-23\", \"Track Name\": \"Viva La Vida\", \"Streams\": 3243}, {\"Date\": \"2017-08-24\", \"Track Name\": \"Miracles (Someone Special)\", \"Streams\": 16356}, {\"Date\": \"2017-08-25\", \"Track Name\": \"Hymn For The Weekend - Seeb Remix\", \"Streams\": 4335}, {\"Date\": \"2017-08-25\", \"Track Name\": \"Miracles (Someone Special)\", \"Streams\": 18501}, {\"Date\": \"2017-08-26\", \"Track Name\": \"Miracles (Someone Special)\", \"Streams\": 18612}, {\"Date\": \"2017-08-26\", \"Track Name\": \"Viva La Vida\", \"Streams\": 3371}, {\"Date\": \"2017-08-27\", \"Track Name\": \"Miracles (Someone Special)\", \"Streams\": 17923}, {\"Date\": \"2017-08-27\", \"Track Name\": \"The Scientist\", \"Streams\": 2722}, {\"Date\": \"2017-08-27\", \"Track Name\": \"Viva La Vida\", \"Streams\": 36686}, {\"Date\": \"2017-08-28\", \"Track Name\": \"Miracles (Someone Special)\", \"Streams\": 17255}, {\"Date\": \"2017-08-29\", \"Track Name\": \"Miracles (Someone Special)\", \"Streams\": 16619}, {\"Date\": \"2017-08-29\", \"Track Name\": \"Viva La Vida\", \"Streams\": 3197}, {\"Date\": \"2017-08-30\", \"Track Name\": \"Miracles (Someone Special)\", \"Streams\": 34860}, {\"Date\": \"2017-08-31\", \"Track Name\": \"Miracles (Someone Special)\", \"Streams\": 33358}, {\"Date\": \"2017-09-01\", \"Track Name\": \"Hymn For The Weekend - Seeb Remix\", \"Streams\": 3947}, {\"Date\": \"2017-09-02\", \"Track Name\": \"Viva La Vida\", \"Streams\": 37358}, {\"Date\": \"2017-09-03\", \"Track Name\": \"The Scientist\", \"Streams\": 3875}, {\"Date\": \"2017-09-03\", \"Track Name\": \"Viva La Vida\", \"Streams\": 32115}, {\"Date\": \"2017-09-04\", \"Track Name\": \"Miracles (Someone Special)\", \"Streams\": 33690}, {\"Date\": \"2017-09-05\", \"Track Name\": \"Miracles (Someone Special)\", \"Streams\": 15979}, {\"Date\": \"2017-09-05\", \"Track Name\": \"Viva La Vida\", \"Streams\": 2981}, {\"Date\": \"2017-09-06\", \"Track Name\": \"Everglow - Single Version\", \"Streams\": 16000}, {\"Date\": \"2017-09-06\", \"Track Name\": \"Miracles (Someone Special)\", \"Streams\": 17542}, {\"Date\": \"2017-09-07\", \"Track Name\": \"Miracles (Someone Special)\", \"Streams\": 15701}, {\"Date\": \"2017-09-08\", \"Track Name\": \"Hymn For The Weekend - Seeb Remix\", \"Streams\": 4162}, {\"Date\": \"2017-09-09\", \"Track Name\": \"Miracles (Someone Special)\", \"Streams\": 14882}, {\"Date\": \"2017-09-09\", \"Track Name\": \"Viva La Vida\", \"Streams\": 3372}, {\"Date\": \"2017-09-10\", \"Track Name\": \"Fix You\", \"Streams\": 13400}, {\"Date\": \"2017-09-10\", \"Track Name\": \"The Scientist\", \"Streams\": 3993}, {\"Date\": \"2017-09-10\", \"Track Name\": \"Viva La Vida\", \"Streams\": 2968}, {\"Date\": \"2017-09-11\", \"Track Name\": \"Miracles (Someone Special)\", \"Streams\": 14810}, {\"Date\": \"2017-09-12\", \"Track Name\": \"Miracles (Someone Special)\", \"Streams\": 15480}, {\"Date\": \"2017-09-13\", \"Track Name\": \"Miracles (Someone Special)\", \"Streams\": 15596}, {\"Date\": \"2017-09-13\", \"Track Name\": \"The Scientist\", \"Streams\": 1274}, {\"Date\": \"2017-09-14\", \"Track Name\": \"Miracles (Someone Special)\", \"Streams\": 15922}, {\"Date\": \"2017-09-15\", \"Track Name\": \"Hymn For The Weekend - Seeb Remix\", \"Streams\": 5304}, {\"Date\": \"2017-09-15\", \"Track Name\": \"Miracles (Someone Special)\", \"Streams\": 18347}, {\"Date\": \"2017-09-16\", \"Track Name\": \"Viva La Vida\", \"Streams\": 3498}, {\"Date\": \"2017-09-17\", \"Track Name\": \"Fix You\", \"Streams\": 16205}, {\"Date\": \"2017-09-17\", \"Track Name\": \"The Scientist\", \"Streams\": 7094}, {\"Date\": \"2017-09-18\", \"Track Name\": \"Miracles (Someone Special)\", \"Streams\": 18130}, {\"Date\": \"2017-09-19\", \"Track Name\": \"Fix You\", \"Streams\": 14803}, {\"Date\": \"2017-09-19\", \"Track Name\": \"Miracles (Someone Special)\", \"Streams\": 18407}, {\"Date\": \"2017-09-20\", \"Track Name\": \"Miracles (Someone Special)\", \"Streams\": 14991}, {\"Date\": \"2017-09-21\", \"Track Name\": \"Miracles (Someone Special)\", \"Streams\": 18289}, {\"Date\": \"2017-09-21\", \"Track Name\": \"The Scientist\", \"Streams\": 1317}, {\"Date\": \"2017-09-22\", \"Track Name\": \"Hymn For The Weekend - Seeb Remix\", \"Streams\": 5067}, {\"Date\": \"2017-09-24\", \"Track Name\": \"Fix You\", \"Streams\": 13765}, {\"Date\": \"2017-09-24\", \"Track Name\": \"The Scientist\", \"Streams\": 1305}, {\"Date\": \"2017-09-26\", \"Track Name\": \"Miracles (Someone Special)\", \"Streams\": 18976}, {\"Date\": \"2017-09-26\", \"Track Name\": \"The Scientist\", \"Streams\": 2228}, {\"Date\": \"2017-09-27\", \"Track Name\": \"Miracles (Someone Special)\", \"Streams\": 40260}, {\"Date\": \"2017-09-27\", \"Track Name\": \"The Scientist\", \"Streams\": 2321}, {\"Date\": \"2017-09-29\", \"Track Name\": \"Hymn For The Weekend - Seeb Remix\", \"Streams\": 4076}, {\"Date\": \"2017-09-29\", \"Track Name\": \"The Scientist\", \"Streams\": 2592}, {\"Date\": \"2017-09-30\", \"Track Name\": \"The Scientist\", \"Streams\": 11986}, {\"Date\": \"2017-10-01\", \"Track Name\": \"Fix You\", \"Streams\": 18882}, {\"Date\": \"2017-10-01\", \"Track Name\": \"The Scientist\", \"Streams\": 28796}, {\"Date\": \"2017-10-02\", \"Track Name\": \"The Scientist\", \"Streams\": 7788}, {\"Date\": \"2017-10-03\", \"Track Name\": \"Fix You\", \"Streams\": 19671}, {\"Date\": \"2017-10-03\", \"Track Name\": \"The Scientist\", \"Streams\": 11107}, {\"Date\": \"2017-10-04\", \"Track Name\": \"Fix You\", \"Streams\": 19577}, {\"Date\": \"2017-10-04\", \"Track Name\": \"The Scientist\", \"Streams\": 11209}, {\"Date\": \"2017-10-05\", \"Track Name\": \"Fix You\", \"Streams\": 20915}, {\"Date\": \"2017-10-05\", \"Track Name\": \"The Scientist\", \"Streams\": 11956}, {\"Date\": \"2017-10-06\", \"Track Name\": \"Hymn For The Weekend - Seeb Remix\", \"Streams\": 4149}, {\"Date\": \"2017-10-06\", \"Track Name\": \"The Scientist\", \"Streams\": 2676}, {\"Date\": \"2017-10-07\", \"Track Name\": \"Everglow - Single Version\", \"Streams\": 31703}, {\"Date\": \"2017-10-07\", \"Track Name\": \"The Scientist\", \"Streams\": 6079}, {\"Date\": \"2017-10-07\", \"Track Name\": \"Viva La Vida\", \"Streams\": 3615}, {\"Date\": \"2017-10-08\", \"Track Name\": \"Everglow - Single Version\", \"Streams\": 27218}, {\"Date\": \"2017-10-08\", \"Track Name\": \"Fix You\", \"Streams\": 18185}, {\"Date\": \"2017-10-08\", \"Track Name\": \"The Scientist\", \"Streams\": 10517}, {\"Date\": \"2017-10-08\", \"Track Name\": \"Viva La Vida\", \"Streams\": 3167}, {\"Date\": \"2017-10-09\", \"Track Name\": \"Everglow - Single Version\", \"Streams\": 33659}, {\"Date\": \"2017-10-09\", \"Track Name\": \"Fix You\", \"Streams\": 15861}, {\"Date\": \"2017-10-09\", \"Track Name\": \"The Scientist\", \"Streams\": 7555}, {\"Date\": \"2017-10-10\", \"Track Name\": \"Everglow - Single Version\", \"Streams\": 18405}, {\"Date\": \"2017-10-10\", \"Track Name\": \"Fix You\", \"Streams\": 19141}, {\"Date\": \"2017-10-10\", \"Track Name\": \"Miracles (Someone Special)\", \"Streams\": 18185}, {\"Date\": \"2017-10-10\", \"Track Name\": \"The Scientist\", \"Streams\": 7431}, {\"Date\": \"2017-10-11\", \"Track Name\": \"Everglow - Single Version\", \"Streams\": 31869}, {\"Date\": \"2017-10-11\", \"Track Name\": \"Fix You\", \"Streams\": 15637}, {\"Date\": \"2017-10-11\", \"Track Name\": \"The Scientist\", \"Streams\": 7643}, {\"Date\": \"2017-10-12\", \"Track Name\": \"Everglow - Single Version\", \"Streams\": 23088}, {\"Date\": \"2017-10-12\", \"Track Name\": \"Fix You\", \"Streams\": 15983}, {\"Date\": \"2017-10-12\", \"Track Name\": \"The Scientist\", \"Streams\": 6231}, {\"Date\": \"2017-10-13\", \"Track Name\": \"Everglow - Single Version\", \"Streams\": 20891}, {\"Date\": \"2017-10-13\", \"Track Name\": \"Hymn For The Weekend - Seeb Remix\", \"Streams\": 5568}, {\"Date\": \"2017-10-13\", \"Track Name\": \"Miracles (Someone Special)\", \"Streams\": 16804}, {\"Date\": \"2017-10-13\", \"Track Name\": \"The Scientist\", \"Streams\": 2721}, {\"Date\": \"2017-10-14\", \"Track Name\": \"Everglow - Single Version\", \"Streams\": 30376}, {\"Date\": \"2017-10-14\", \"Track Name\": \"The Scientist\", \"Streams\": 2466}, {\"Date\": \"2017-10-15\", \"Track Name\": \"Everglow - Single Version\", \"Streams\": 30842}, {\"Date\": \"2017-10-15\", \"Track Name\": \"Fix You\", \"Streams\": 17181}, {\"Date\": \"2017-10-15\", \"Track Name\": \"The Scientist\", \"Streams\": 10148}, {\"Date\": \"2017-10-16\", \"Track Name\": \"Everglow - Single Version\", \"Streams\": 30871}, {\"Date\": \"2017-10-16\", \"Track Name\": \"Fix You\", \"Streams\": 17852}, {\"Date\": \"2017-10-16\", \"Track Name\": \"The Scientist\", \"Streams\": 8286}, {\"Date\": \"2017-10-17\", \"Track Name\": \"Everglow - Single Version\", \"Streams\": 20855}, {\"Date\": \"2017-10-17\", \"Track Name\": \"Fix You\", \"Streams\": 15832}, {\"Date\": \"2017-10-17\", \"Track Name\": \"The Scientist\", \"Streams\": 9026}, {\"Date\": \"2017-10-18\", \"Track Name\": \"Everglow - Single Version\", \"Streams\": 22700}, {\"Date\": \"2017-10-18\", \"Track Name\": \"Fix You\", \"Streams\": 15730}, {\"Date\": \"2017-10-18\", \"Track Name\": \"Miracles (Someone Special)\", \"Streams\": 18020}, {\"Date\": \"2017-10-18\", \"Track Name\": \"The Scientist\", \"Streams\": 10716}, {\"Date\": \"2017-10-19\", \"Track Name\": \"Everglow - Single Version\", \"Streams\": 22991}, {\"Date\": \"2017-10-19\", \"Track Name\": \"Fix You\", \"Streams\": 15695}, {\"Date\": \"2017-10-19\", \"Track Name\": \"The Scientist\", \"Streams\": 6308}, {\"Date\": \"2017-10-20\", \"Track Name\": \"Everglow - Single Version\", \"Streams\": 21523}, {\"Date\": \"2017-10-20\", \"Track Name\": \"Hymn For The Weekend - Seeb Remix\", \"Streams\": 4185}, {\"Date\": \"2017-10-21\", \"Track Name\": \"Everglow - Single Version\", \"Streams\": 20415}, {\"Date\": \"2017-10-21\", \"Track Name\": \"The Scientist\", \"Streams\": 2661}, {\"Date\": \"2017-10-22\", \"Track Name\": \"Everglow - Single Version\", \"Streams\": 21668}, {\"Date\": \"2017-10-22\", \"Track Name\": \"Fix You\", \"Streams\": 14061}, {\"Date\": \"2017-10-22\", \"Track Name\": \"The Scientist\", \"Streams\": 10464}, {\"Date\": \"2017-10-23\", \"Track Name\": \"Everglow - Single Version\", \"Streams\": 19082}, {\"Date\": \"2017-10-23\", \"Track Name\": \"The Scientist\", \"Streams\": 7169}, {\"Date\": \"2017-10-24\", \"Track Name\": \"Everglow - Single Version\", \"Streams\": 19545}, {\"Date\": \"2017-10-24\", \"Track Name\": \"Hymn For The Weekend\", \"Streams\": 5089}, {\"Date\": \"2017-10-24\", \"Track Name\": \"The Scientist\", \"Streams\": 7230}, {\"Date\": \"2017-10-25\", \"Track Name\": \"Everglow - Single Version\", \"Streams\": 22286}, {\"Date\": \"2017-10-25\", \"Track Name\": \"The Scientist\", \"Streams\": 4235}, {\"Date\": \"2017-10-26\", \"Track Name\": \"Everglow - Single Version\", \"Streams\": 22299}, {\"Date\": \"2017-10-26\", \"Track Name\": \"The Scientist\", \"Streams\": 2804}, {\"Date\": \"2017-10-27\", \"Track Name\": \"Everglow - Single Version\", \"Streams\": 21802}, {\"Date\": \"2017-10-27\", \"Track Name\": \"Hymn For The Weekend - Seeb Remix\", \"Streams\": 63420}, {\"Date\": \"2017-10-28\", \"Track Name\": \"Everglow - Single Version\", \"Streams\": 18611}, {\"Date\": \"2017-10-29\", \"Track Name\": \"Everglow - Single Version\", \"Streams\": 21731}, {\"Date\": \"2017-10-29\", \"Track Name\": \"Hymn For The Weekend\", \"Streams\": 5207}, {\"Date\": \"2017-10-29\", \"Track Name\": \"Hymn For The Weekend - Seeb Remix\", \"Streams\": 5092}, {\"Date\": \"2017-10-29\", \"Track Name\": \"The Scientist\", \"Streams\": 1316}, {\"Date\": \"2017-10-30\", \"Track Name\": \"Everglow - Single Version\", \"Streams\": 20856}, {\"Date\": \"2017-10-30\", \"Track Name\": \"Hymn For The Weekend - Seeb Remix\", \"Streams\": 5887}, {\"Date\": \"2017-10-30\", \"Track Name\": \"The Scientist\", \"Streams\": 4031}, {\"Date\": \"2017-10-31\", \"Track Name\": \"Everglow - Single Version\", \"Streams\": 20535}, {\"Date\": \"2017-11-01\", \"Track Name\": \"Everglow - Single Version\", \"Streams\": 24693}, {\"Date\": \"2017-11-01\", \"Track Name\": \"Hymn For The Weekend - Seeb Remix\", \"Streams\": 4692}, {\"Date\": \"2017-11-01\", \"Track Name\": \"The Scientist\", \"Streams\": 3721}, {\"Date\": \"2017-11-02\", \"Track Name\": \"Everglow - Single Version\", \"Streams\": 24195}, {\"Date\": \"2017-11-02\", \"Track Name\": \"Fix You\", \"Streams\": 63193}, {\"Date\": \"2017-11-02\", \"Track Name\": \"Hymn For The Weekend - Seeb Remix\", \"Streams\": 5147}, {\"Date\": \"2017-11-02\", \"Track Name\": \"The Scientist\", \"Streams\": 2751}, {\"Date\": \"2017-11-03\", \"Track Name\": \"Everglow - Single Version\", \"Streams\": 22032}, {\"Date\": \"2017-11-03\", \"Track Name\": \"Hymn For The Weekend - Seeb Remix\", \"Streams\": 59900}, {\"Date\": \"2017-11-04\", \"Track Name\": \"Everglow - Single Version\", \"Streams\": 22359}, {\"Date\": \"2017-11-04\", \"Track Name\": \"Hymn For The Weekend - Seeb Remix\", \"Streams\": 6172}, {\"Date\": \"2017-11-05\", \"Track Name\": \"Everglow - Single Version\", \"Streams\": 21078}, {\"Date\": \"2017-11-05\", \"Track Name\": \"Hymn For The Weekend - Seeb Remix\", \"Streams\": 5211}, {\"Date\": \"2017-11-05\", \"Track Name\": \"The Scientist\", \"Streams\": 2315}, {\"Date\": \"2017-11-06\", \"Track Name\": \"Everglow - Single Version\", \"Streams\": 20274}, {\"Date\": \"2017-11-06\", \"Track Name\": \"Hymn For The Weekend - Seeb Remix\", \"Streams\": 5882}, {\"Date\": \"2017-11-06\", \"Track Name\": \"The Scientist\", \"Streams\": 2513}, {\"Date\": \"2017-11-07\", \"Track Name\": \"Everglow - Single Version\", \"Streams\": 19989}, {\"Date\": \"2017-11-07\", \"Track Name\": \"Hymn For The Weekend - Seeb Remix\", \"Streams\": 16215}, {\"Date\": \"2017-11-07\", \"Track Name\": \"The Scientist\", \"Streams\": 2606}, {\"Date\": \"2017-11-08\", \"Track Name\": \"Everglow - Single Version\", \"Streams\": 23160}, {\"Date\": \"2017-11-08\", \"Track Name\": \"Hymn For The Weekend - Seeb Remix\", \"Streams\": 6758}, {\"Date\": \"2017-11-09\", \"Track Name\": \"Everglow - Single Version\", \"Streams\": 23131}, {\"Date\": \"2017-11-09\", \"Track Name\": \"Hymn For The Weekend - Seeb Remix\", \"Streams\": 5409}, {\"Date\": \"2017-11-09\", \"Track Name\": \"The Scientist\", \"Streams\": 7127}, {\"Date\": \"2017-11-10\", \"Track Name\": \"Everglow - Single Version\", \"Streams\": 21250}, {\"Date\": \"2017-11-10\", \"Track Name\": \"Hymn For The Weekend - Seeb Remix\", \"Streams\": 6082}, {\"Date\": \"2017-11-11\", \"Track Name\": \"Everglow - Single Version\", \"Streams\": 32186}, {\"Date\": \"2017-11-11\", \"Track Name\": \"Hymn For The Weekend - Seeb Remix\", \"Streams\": 6332}, {\"Date\": \"2017-11-12\", \"Track Name\": \"Everglow - Single Version\", \"Streams\": 30898}, {\"Date\": \"2017-11-12\", \"Track Name\": \"Hymn For The Weekend\", \"Streams\": 5203}, {\"Date\": \"2017-11-12\", \"Track Name\": \"Hymn For The Weekend - Seeb Remix\", \"Streams\": 5276}, {\"Date\": \"2017-11-12\", \"Track Name\": \"The Scientist\", \"Streams\": 7721}, {\"Date\": \"2017-11-13\", \"Track Name\": \"Everglow - Single Version\", \"Streams\": 28555}, {\"Date\": \"2017-11-13\", \"Track Name\": \"Hymn For The Weekend - Seeb Remix\", \"Streams\": 6211}, {\"Date\": \"2017-11-13\", \"Track Name\": \"The Scientist\", \"Streams\": 5540}, {\"Date\": \"2017-11-14\", \"Track Name\": \"Christmas Lights\", \"Streams\": 11231}, {\"Date\": \"2017-11-14\", \"Track Name\": \"Everglow - Single Version\", \"Streams\": 17227}, {\"Date\": \"2017-11-14\", \"Track Name\": \"The Scientist\", \"Streams\": 6945}, {\"Date\": \"2017-11-15\", \"Track Name\": \"Everglow\", \"Streams\": 5387}, {\"Date\": \"2017-11-15\", \"Track Name\": \"Everglow - Single Version\", \"Streams\": 19882}, {\"Date\": \"2017-11-15\", \"Track Name\": \"Hymn For The Weekend - Seeb Remix\", \"Streams\": 6801}, {\"Date\": \"2017-11-15\", \"Track Name\": \"The Scientist\", \"Streams\": 7466}, {\"Date\": \"2017-11-16\", \"Track Name\": \"Everglow - Single Version\", \"Streams\": 32377}, {\"Date\": \"2017-11-16\", \"Track Name\": \"The Scientist\", \"Streams\": 5842}, {\"Date\": \"2017-11-17\", \"Track Name\": \"Hymn For The Weekend - Seeb Remix\", \"Streams\": 6340}, {\"Date\": \"2017-11-18\", \"Track Name\": \"Everglow - Single Version\", \"Streams\": 10365}, {\"Date\": \"2017-11-18\", \"Track Name\": \"Hymn For The Weekend - Seeb Remix\", \"Streams\": 6057}, {\"Date\": \"2017-11-18\", \"Track Name\": \"The Scientist\", \"Streams\": 2335}, {\"Date\": \"2017-11-19\", \"Track Name\": \"Christmas Lights\", \"Streams\": 9600}, {\"Date\": \"2017-11-19\", \"Track Name\": \"Everglow - Single Version\", \"Streams\": 24961}, {\"Date\": \"2017-11-19\", \"Track Name\": \"Hymn For The Weekend - Seeb Remix\", \"Streams\": 5201}, {\"Date\": \"2017-11-19\", \"Track Name\": \"The Scientist\", \"Streams\": 7469}, {\"Date\": \"2017-11-20\", \"Track Name\": \"Christmas Lights\", \"Streams\": 12755}, {\"Date\": \"2017-11-20\", \"Track Name\": \"Everglow - Single Version\", \"Streams\": 29388}, {\"Date\": \"2017-11-20\", \"Track Name\": \"Everglow - Single Version, Radio Edit\", \"Streams\": 10082}, {\"Date\": \"2017-11-20\", \"Track Name\": \"Hymn For The Weekend - Seeb Remix\", \"Streams\": 5978}, {\"Date\": \"2017-11-20\", \"Track Name\": \"The Scientist\", \"Streams\": 2637}, {\"Date\": \"2017-11-21\", \"Track Name\": \"Christmas Lights\", \"Streams\": 13992}, {\"Date\": \"2017-11-21\", \"Track Name\": \"Everglow - Single Version\", \"Streams\": 18674}, {\"Date\": \"2017-11-21\", \"Track Name\": \"Everglow - Single Version, Radio Edit\", \"Streams\": 11949}, {\"Date\": \"2017-11-21\", \"Track Name\": \"The Scientist\", \"Streams\": 3085}, {\"Date\": \"2017-11-22\", \"Track Name\": \"Christmas Lights\", \"Streams\": 15342}, {\"Date\": \"2017-11-22\", \"Track Name\": \"Everglow - Single Version\", \"Streams\": 31742}, {\"Date\": \"2017-11-22\", \"Track Name\": \"Everglow - Single Version, Radio Edit\", \"Streams\": 11706}, {\"Date\": \"2017-11-22\", \"Track Name\": \"Hymn For The Weekend - Seeb Remix\", \"Streams\": 7249}, {\"Date\": \"2017-11-22\", \"Track Name\": \"The Scientist\", \"Streams\": 3465}, {\"Date\": \"2017-11-23\", \"Track Name\": \"Christmas Lights\", \"Streams\": 13966}, {\"Date\": \"2017-11-23\", \"Track Name\": \"Everglow - Single Version\", \"Streams\": 29717}, {\"Date\": \"2017-11-23\", \"Track Name\": \"Everglow - Single Version, Radio Edit\", \"Streams\": 11152}, {\"Date\": \"2017-11-23\", \"Track Name\": \"The Scientist\", \"Streams\": 5998}, {\"Date\": \"2017-11-24\", \"Track Name\": \"Christmas Lights\", \"Streams\": 13652}, {\"Date\": \"2017-11-24\", \"Track Name\": \"The Scientist\", \"Streams\": 2696}, {\"Date\": \"2017-11-25\", \"Track Name\": \"Christmas Lights\", \"Streams\": 31501}, {\"Date\": \"2017-11-25\", \"Track Name\": \"Everglow - Single Version\", \"Streams\": 10070}, {\"Date\": \"2017-11-25\", \"Track Name\": \"The Scientist\", \"Streams\": 2469}, {\"Date\": \"2017-11-26\", \"Track Name\": \"A Sky Full of Stars\", \"Streams\": 5742}, {\"Date\": \"2017-11-26\", \"Track Name\": \"Christmas Lights\", \"Streams\": 85133}, {\"Date\": \"2017-11-26\", \"Track Name\": \"Everglow - Single Version, Radio Edit\", \"Streams\": 11652}, {\"Date\": \"2017-11-26\", \"Track Name\": \"The Scientist\", \"Streams\": 8184}, {\"Date\": \"2017-11-27\", \"Track Name\": \"Christmas Lights\", \"Streams\": 31703}, {\"Date\": \"2017-11-27\", \"Track Name\": \"Everglow - Single Version\", \"Streams\": 28682}, {\"Date\": \"2017-11-27\", \"Track Name\": \"Everglow - Single Version, Radio Edit\", \"Streams\": 13177}, {\"Date\": \"2017-11-27\", \"Track Name\": \"The Scientist\", \"Streams\": 2578}, {\"Date\": \"2017-11-28\", \"Track Name\": \"Christmas Lights\", \"Streams\": 37750}, {\"Date\": \"2017-11-28\", \"Track Name\": \"Everglow - Single Version\", \"Streams\": 17338}, {\"Date\": \"2017-11-28\", \"Track Name\": \"Everglow - Single Version, Radio Edit\", \"Streams\": 17631}, {\"Date\": \"2017-11-28\", \"Track Name\": \"The Scientist\", \"Streams\": 2565}, {\"Date\": \"2017-11-29\", \"Track Name\": \"Christmas Lights\", \"Streams\": 82073}, {\"Date\": \"2017-11-29\", \"Track Name\": \"Everglow - Single Version\", \"Streams\": 20051}, {\"Date\": \"2017-11-29\", \"Track Name\": \"Everglow - Single Version, Radio Edit\", \"Streams\": 19612}, {\"Date\": \"2017-11-29\", \"Track Name\": \"Hymn For The Weekend - Seeb Remix\", \"Streams\": 6067}, {\"Date\": \"2017-11-30\", \"Track Name\": \"Christmas Lights\", \"Streams\": 129202}, {\"Date\": \"2017-11-30\", \"Track Name\": \"Everglow - Single Version\", \"Streams\": 18903}, {\"Date\": \"2017-11-30\", \"Track Name\": \"Everglow - Single Version, Radio Edit\", \"Streams\": 23992}, {\"Date\": \"2017-12-01\", \"Track Name\": \"Christmas Lights\", \"Streams\": 272768}, {\"Date\": \"2017-12-01\", \"Track Name\": \"Everglow - Single Version, Radio Edit\", \"Streams\": 30489}, {\"Date\": \"2017-12-02\", \"Track Name\": \"Christmas Lights\", \"Streams\": 345493}, {\"Date\": \"2017-12-02\", \"Track Name\": \"Everglow - Single Version, Radio Edit\", \"Streams\": 33587}, {\"Date\": \"2017-12-03\", \"Track Name\": \"Christmas Lights\", \"Streams\": 400945}, {\"Date\": \"2017-12-03\", \"Track Name\": \"Everglow - Single Version, Radio Edit\", \"Streams\": 35702}, {\"Date\": \"2017-12-04\", \"Track Name\": \"Christmas Lights\", \"Streams\": 251012}, {\"Date\": \"2017-12-04\", \"Track Name\": \"Everglow - Single Version\", \"Streams\": 17955}, {\"Date\": \"2017-12-04\", \"Track Name\": \"Everglow - Single Version, Radio Edit\", \"Streams\": 39476}, {\"Date\": \"2017-12-05\", \"Track Name\": \"Christmas Lights\", \"Streams\": 243651}, {\"Date\": \"2017-12-05\", \"Track Name\": \"Everglow - Single Version\", \"Streams\": 17944}, {\"Date\": \"2017-12-05\", \"Track Name\": \"Everglow - Single Version, Radio Edit\", \"Streams\": 40327}, {\"Date\": \"2017-12-06\", \"Track Name\": \"Christmas Lights\", \"Streams\": 280421}, {\"Date\": \"2017-12-06\", \"Track Name\": \"Everglow - Single Version\", \"Streams\": 22637}, {\"Date\": \"2017-12-06\", \"Track Name\": \"Everglow - Single Version, Radio Edit\", \"Streams\": 41220}, {\"Date\": \"2017-12-07\", \"Track Name\": \"Christmas Lights\", \"Streams\": 287057}, {\"Date\": \"2017-12-07\", \"Track Name\": \"Everglow - Single Version, Radio Edit\", \"Streams\": 40455}, {\"Date\": \"2017-12-08\", \"Track Name\": \"Christmas Lights\", \"Streams\": 356493}, {\"Date\": \"2017-12-08\", \"Track Name\": \"Everglow - Single Version, Radio Edit\", \"Streams\": 41724}, {\"Date\": \"2017-12-09\", \"Track Name\": \"Christmas Lights\", \"Streams\": 445946}, {\"Date\": \"2017-12-09\", \"Track Name\": \"Everglow - Single Version, Radio Edit\", \"Streams\": 44923}, {\"Date\": \"2017-12-10\", \"Track Name\": \"2000 Miles\", \"Streams\": 7081}, {\"Date\": \"2017-12-10\", \"Track Name\": \"Christmas Lights\", \"Streams\": 491370}, {\"Date\": \"2017-12-10\", \"Track Name\": \"Everglow - Single Version, Radio Edit\", \"Streams\": 42053}, {\"Date\": \"2017-12-10\", \"Track Name\": \"The Scientist\", \"Streams\": 2200}, {\"Date\": \"2017-12-11\", \"Track Name\": \"Christmas Lights\", \"Streams\": 339199}, {\"Date\": \"2017-12-11\", \"Track Name\": \"Everglow - Single Version\", \"Streams\": 18699}, {\"Date\": \"2017-12-11\", \"Track Name\": \"Everglow - Single Version, Radio Edit\", \"Streams\": 42273}, {\"Date\": \"2017-12-11\", \"Track Name\": \"The Scientist\", \"Streams\": 2437}, {\"Date\": \"2017-12-12\", \"Track Name\": \"Christmas Lights\", \"Streams\": 317781}, {\"Date\": \"2017-12-12\", \"Track Name\": \"Everglow - Single Version\", \"Streams\": 19006}, {\"Date\": \"2017-12-12\", \"Track Name\": \"Everglow - Single Version, Radio Edit\", \"Streams\": 42369}, {\"Date\": \"2017-12-12\", \"Track Name\": \"The Scientist\", \"Streams\": 2486}, {\"Date\": \"2017-12-13\", \"Track Name\": \"Christmas Lights\", \"Streams\": 326962}, {\"Date\": \"2017-12-13\", \"Track Name\": \"Everglow - Single Version\", \"Streams\": 20660}, {\"Date\": \"2017-12-13\", \"Track Name\": \"Everglow - Single Version, Radio Edit\", \"Streams\": 43676}, {\"Date\": \"2017-12-14\", \"Track Name\": \"Christmas Lights\", \"Streams\": 346187}, {\"Date\": \"2017-12-14\", \"Track Name\": \"Everglow - Single Version\", \"Streams\": 18850}, {\"Date\": \"2017-12-14\", \"Track Name\": \"Everglow - Single Version, Radio Edit\", \"Streams\": 44908}, {\"Date\": \"2017-12-14\", \"Track Name\": \"The Scientist\", \"Streams\": 2561}, {\"Date\": \"2017-12-15\", \"Track Name\": \"Christmas Lights\", \"Streams\": 398792}, {\"Date\": \"2017-12-15\", \"Track Name\": \"Everglow - Single Version, Radio Edit\", \"Streams\": 45190}, {\"Date\": \"2017-12-16\", \"Track Name\": \"Christmas Lights\", \"Streams\": 508980}, {\"Date\": \"2017-12-16\", \"Track Name\": \"Everglow - Single Version, Radio Edit\", \"Streams\": 49897}, {\"Date\": \"2017-12-17\", \"Track Name\": \"Christmas Lights\", \"Streams\": 504656}, {\"Date\": \"2017-12-17\", \"Track Name\": \"Everglow - Single Version, Radio Edit\", \"Streams\": 43272}, {\"Date\": \"2017-12-18\", \"Track Name\": \"Christmas Lights\", \"Streams\": 397485}, {\"Date\": \"2017-12-18\", \"Track Name\": \"Everglow - Single Version, Radio Edit\", \"Streams\": 47943}, {\"Date\": \"2017-12-19\", \"Track Name\": \"Christmas Lights\", \"Streams\": 418739}, {\"Date\": \"2017-12-19\", \"Track Name\": \"Everglow - Single Version, Radio Edit\", \"Streams\": 48375}, {\"Date\": \"2017-12-20\", \"Track Name\": \"Christmas Lights\", \"Streams\": 469198}, {\"Date\": \"2017-12-20\", \"Track Name\": \"Everglow - Single Version\", \"Streams\": 22104}, {\"Date\": \"2017-12-20\", \"Track Name\": \"Everglow - Single Version, Radio Edit\", \"Streams\": 53474}, {\"Date\": \"2017-12-21\", \"Track Name\": \"Christmas Lights\", \"Streams\": 501422}, {\"Date\": \"2017-12-21\", \"Track Name\": \"Everglow - Single Version, Radio Edit\", \"Streams\": 58895}, {\"Date\": \"2017-12-22\", \"Track Name\": \"Christmas Lights\", \"Streams\": 609054}, {\"Date\": \"2017-12-22\", \"Track Name\": \"Everglow - Single Version, Radio Edit\", \"Streams\": 68492}, {\"Date\": \"2017-12-22\", \"Track Name\": \"Have Yourself A Merry Little Christmas (Jo Whiley / BBC Radio 1 Session)\", \"Streams\": 25723}, {\"Date\": \"2017-12-23\", \"Track Name\": \"Christmas Lights\", \"Streams\": 752011}, {\"Date\": \"2017-12-23\", \"Track Name\": \"Christmas Lights - Live From Spotify London\", \"Streams\": 5021}, {\"Date\": \"2017-12-23\", \"Track Name\": \"Everglow - Single Version, Radio Edit\", \"Streams\": 70397}, {\"Date\": \"2017-12-23\", \"Track Name\": \"Have Yourself A Merry Little Christmas (Jo Whiley / BBC Radio 1 Session)\", \"Streams\": 34595}, {\"Date\": \"2017-12-24\", \"Track Name\": \"Christmas Lights\", \"Streams\": 1325907}, {\"Date\": \"2017-12-24\", \"Track Name\": \"Christmas Lights - Live From Spotify London\", \"Streams\": 86903}, {\"Date\": \"2017-12-24\", \"Track Name\": \"Everglow - Single Version, Radio Edit\", \"Streams\": 72504}, {\"Date\": \"2017-12-24\", \"Track Name\": \"Have Yourself A Merry Little Christmas (Jo Whiley / BBC Radio 1 Session)\", \"Streams\": 68029}, {\"Date\": \"2017-12-25\", \"Track Name\": \"Christmas Lights\", \"Streams\": 881605}, {\"Date\": \"2017-12-25\", \"Track Name\": \"Christmas Lights - Live From Spotify London\", \"Streams\": 202478}, {\"Date\": \"2017-12-25\", \"Track Name\": \"Everglow - Single Version, Radio Edit\", \"Streams\": 35574}, {\"Date\": \"2017-12-25\", \"Track Name\": \"Have Yourself A Merry Little Christmas (Jo Whiley / BBC Radio 1 Session)\", \"Streams\": 85385}, {\"Date\": \"2017-12-26\", \"Track Name\": \"Christmas Lights\", \"Streams\": 314060}, {\"Date\": \"2017-12-26\", \"Track Name\": \"Everglow - Single Version, Radio Edit\", \"Streams\": 26632}, {\"Date\": \"2017-12-26\", \"Track Name\": \"Fix You\", \"Streams\": 21868}, {\"Date\": \"2017-12-26\", \"Track Name\": \"Have Yourself A Merry Little Christmas (Jo Whiley / BBC Radio 1 Session)\", \"Streams\": 43926}, {\"Date\": \"2017-12-27\", \"Track Name\": \"Christmas Lights\", \"Streams\": 18248}, {\"Date\": \"2017-12-27\", \"Track Name\": \"Everglow - Single Version\", \"Streams\": 23625}, {\"Date\": \"2017-12-27\", \"Track Name\": \"Everglow - Single Version, Radio Edit\", \"Streams\": 23545}, {\"Date\": \"2017-12-27\", \"Track Name\": \"Fix You\", \"Streams\": 21380}, {\"Date\": \"2017-12-27\", \"Track Name\": \"The Scientist\", \"Streams\": 3891}, {\"Date\": \"2017-12-28\", \"Track Name\": \"Christmas Lights\", \"Streams\": 12596}, {\"Date\": \"2017-12-28\", \"Track Name\": \"Everglow - Single Version\", \"Streams\": 16787}, {\"Date\": \"2017-12-28\", \"Track Name\": \"Everglow - Single Version, Radio Edit\", \"Streams\": 22152}, {\"Date\": \"2017-12-28\", \"Track Name\": \"Fix You\", \"Streams\": 19114}, {\"Date\": \"2017-12-28\", \"Track Name\": \"The Scientist\", \"Streams\": 3541}, {\"Date\": \"2017-12-28\", \"Track Name\": \"Yellow\", \"Streams\": 44908}, {\"Date\": \"2017-12-29\", \"Track Name\": \"Christmas Lights\", \"Streams\": 10196}, {\"Date\": \"2017-12-29\", \"Track Name\": \"Everglow - Single Version\", \"Streams\": 19301}, {\"Date\": \"2017-12-29\", \"Track Name\": \"Everglow - Single Version, Radio Edit\", \"Streams\": 20668}, {\"Date\": \"2017-12-29\", \"Track Name\": \"Fix You\", \"Streams\": 19540}, {\"Date\": \"2017-12-29\", \"Track Name\": \"The Scientist\", \"Streams\": 3596}, {\"Date\": \"2017-12-30\", \"Track Name\": \"Everglow - Single Version\", \"Streams\": 21940}, {\"Date\": \"2017-12-30\", \"Track Name\": \"Everglow - Single Version, Radio Edit\", \"Streams\": 16719}, {\"Date\": \"2017-12-30\", \"Track Name\": \"Fix You\", \"Streams\": 17982}, {\"Date\": \"2017-12-30\", \"Track Name\": \"The Scientist\", \"Streams\": 3541}, {\"Date\": \"2017-12-31\", \"Track Name\": \"Everglow - Single Version, Radio Edit\", \"Streams\": 17176}, {\"Date\": \"2017-12-31\", \"Track Name\": \"Fix You\", \"Streams\": 24151}, {\"Date\": \"2017-12-31\", \"Track Name\": \"Hymn For The Weekend - Seeb Remix\", \"Streams\": 91786}, {\"Date\": \"2018-01-01\", \"Track Name\": \"Everglow - Single Version\", \"Streams\": 14815}, {\"Date\": \"2018-01-01\", \"Track Name\": \"Everglow - Single Version, Radio Edit\", \"Streams\": 10738}, {\"Date\": \"2018-01-01\", \"Track Name\": \"Fix You\", \"Streams\": 16911}, {\"Date\": \"2018-01-01\", \"Track Name\": \"Hymn For The Weekend - Seeb Remix\", \"Streams\": 12748}, {\"Date\": \"2018-01-01\", \"Track Name\": \"Viva La Vida\", \"Streams\": 14771}, {\"Date\": \"2018-01-02\", \"Track Name\": \"Everglow - Single Version\", \"Streams\": 16622}, {\"Date\": \"2018-01-02\", \"Track Name\": \"Everglow - Single Version, Radio Edit\", \"Streams\": 15058}, {\"Date\": \"2018-01-02\", \"Track Name\": \"Fix You\", \"Streams\": 17688}, {\"Date\": \"2018-01-02\", \"Track Name\": \"Hymn For The Weekend - Seeb Remix\", \"Streams\": 17510}, {\"Date\": \"2018-01-02\", \"Track Name\": \"The Scientist\", \"Streams\": 3617}, {\"Date\": \"2018-01-02\", \"Track Name\": \"Viva La Vida\", \"Streams\": 17833}, {\"Date\": \"2018-01-03\", \"Track Name\": \"Everglow - Single Version\", \"Streams\": 22146}, {\"Date\": \"2018-01-03\", \"Track Name\": \"Everglow - Single Version, Radio Edit\", \"Streams\": 16369}, {\"Date\": \"2018-01-03\", \"Track Name\": \"The Scientist\", \"Streams\": 3757}, {\"Date\": \"2018-01-04\", \"Track Name\": \"Everglow - Single Version\", \"Streams\": 16755}, {\"Date\": \"2018-01-04\", \"Track Name\": \"Everglow - Single Version, Radio Edit\", \"Streams\": 15945}, {\"Date\": \"2018-01-04\", \"Track Name\": \"Hymn For The Weekend - Seeb Remix\", \"Streams\": 19684}, {\"Date\": \"2018-01-04\", \"Track Name\": \"The Scientist\", \"Streams\": 3586}, {\"Date\": \"2018-01-05\", \"Track Name\": \"Everglow - Single Version\", \"Streams\": 17607}, {\"Date\": \"2018-01-05\", \"Track Name\": \"Everglow - Single Version, Radio Edit\", \"Streams\": 13324}, {\"Date\": \"2018-01-05\", \"Track Name\": \"The Scientist\", \"Streams\": 3554}, {\"Date\": \"2018-01-06\", \"Track Name\": \"Everglow - Single Version\", \"Streams\": 16862}, {\"Date\": \"2018-01-06\", \"Track Name\": \"Everglow - Single Version, Radio Edit\", \"Streams\": 13236}, {\"Date\": \"2018-01-06\", \"Track Name\": \"The Scientist\", \"Streams\": 3755}, {\"Date\": \"2018-01-07\", \"Track Name\": \"Everglow - Single Version\", \"Streams\": 18420}, {\"Date\": \"2018-01-07\", \"Track Name\": \"Everglow - Single Version, Radio Edit\", \"Streams\": 10930}, {\"Date\": \"2018-01-07\", \"Track Name\": \"The Scientist\", \"Streams\": 5981}, {\"Date\": \"2018-01-08\", \"Track Name\": \"Everglow - Single Version\", \"Streams\": 23065}, {\"Date\": \"2018-01-08\", \"Track Name\": \"Everglow - Single Version, Radio Edit\", \"Streams\": 15226}, {\"Date\": \"2018-01-08\", \"Track Name\": \"The Scientist\", \"Streams\": 5904}, {\"Date\": \"2018-01-09\", \"Track Name\": \"Everglow - Single Version\", \"Streams\": 17277}, {\"Date\": \"2018-01-09\", \"Track Name\": \"Everglow - Single Version, Radio Edit\", \"Streams\": 13478}, {\"Date\": \"2018-01-09\", \"Track Name\": \"The Scientist\", \"Streams\": 6041}]}}, {\"mode\": \"vega-lite\"});\n",
              "</script>"
            ],
            "text/plain": [
              "alt.HConcatChart(...)"
            ]
          },
          "execution_count": 45,
          "metadata": {},
          "output_type": "execute_result"
        }
      ],
      "source": [
        "# Interactively focus on data of interest (gray-out other data). We need to make\n",
        "# a chart, and a selector ponel. The recommended way is to make two charts, \n",
        "# putting them side-by-side, just like the juxtaposition example above. Try to \n",
        "# click on the squares in the lengend, it acts like a highlighter.\n",
        "\n",
        "selection = alt.selection_multi(fields=['Track Name'])\n",
        "color = alt.condition(selection,\n",
        "                      alt.Color('Track Name:N', legend=None),\n",
        "                      alt.value('lightgray'))\n",
        "chart = alt.Chart(df_chart).mark_line().encode(\n",
        "    x=\"Date:T\",\n",
        "    y=\"Streams:Q\",\n",
        "    color=color,\n",
        "    tooltip=[\"Track Name\", \"Streams\", \"Date\"]\n",
        ")\n",
        "\n",
        "legend = alt.Chart(df_chart).mark_square().encode(\n",
        "    y=alt.Y('Track Name:N', axis=alt.Axis(orient='right')),\n",
        "    color=color\n",
        ").add_selection(\n",
        "    selection\n",
        ")\n",
        "\n",
        "chart | legend"
      ]
    }
  ],
  "metadata": {
    "colab": {
      "collapsed_sections": [],
      "name": "T05:pandas-and-visualization.ipynb",
      "provenance": [],
      "toc_visible": true,
      "version": "0.3.2"
    },
    "kernelspec": {
      "display_name": "Python 3.10.4 ('ml')",
      "language": "python",
      "name": "python3"
    },
    "language_info": {
      "codemirror_mode": {
        "name": "ipython",
        "version": 3
      },
      "file_extension": ".py",
      "mimetype": "text/x-python",
      "name": "python",
      "nbconvert_exporter": "python",
      "pygments_lexer": "ipython3",
      "version": "3.10.4"
    },
    "vscode": {
      "interpreter": {
        "hash": "b13c84f26b03b81837babb7d6bb182b97bb46d822613cfd30489287e68eae110"
      }
    }
  },
  "nbformat": 4,
  "nbformat_minor": 0
}
