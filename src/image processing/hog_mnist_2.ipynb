{
 "cells": [
  {
   "cell_type": "markdown",
   "metadata": {},
   "source": [
    "# Image Processing: Histogram of Oriented Gradients (HOG) with MNIST Dataset"
   ]
  },
  {
   "cell_type": "code",
   "execution_count": 351,
   "metadata": {},
   "outputs": [],
   "source": [
    "import torch\n",
    "import torch.nn as nn\n",
    "from torchvision.datasets import MNIST\n",
    "from torchvision import transforms\n",
    "from torch.utils.data import DataLoader\n",
    "from sklearn.preprocessing import OneHotEncoder\n",
    "from skimage.feature import hog\n",
    "from sklearn import metrics\n",
    "import matplotlib.pyplot as plt\n",
    "import numpy as np\n",
    "import itertools\n",
    "import random"
   ]
  },
  {
   "cell_type": "code",
   "execution_count": 352,
   "metadata": {},
   "outputs": [],
   "source": [
    "def apply_hog(img, o = 9, ppc = (8, 8), cpb = (2, 2)):\n",
    "    # apply HOG to image\n",
    "    features = hog(\n",
    "        img,\n",
    "        orientations = o,\n",
    "        pixels_per_cell = ppc,\n",
    "        cells_per_block = cpb,\n",
    "    )\n",
    "\n",
    "    return features"
   ]
  },
  {
   "cell_type": "code",
   "execution_count": 353,
   "metadata": {},
   "outputs": [
    {
     "name": "stdout",
     "output_type": "stream",
     "text": [
      "cuda:0\n"
     ]
    }
   ],
   "source": [
    "# set GPU\n",
    "device = torch.device(\"cuda:0\" if torch.cuda.is_available() else \"cpu\")\n",
    "print(device)"
   ]
  },
  {
   "cell_type": "markdown",
   "metadata": {},
   "source": [
    "The `MNIST` class loads in the data.\n",
    "- Train set size: 60000\n",
    "- Test set size: 10000\n",
    "\n",
    "All images have size $28\\times 28$ pixels."
   ]
  },
  {
   "cell_type": "code",
   "execution_count": 354,
   "metadata": {},
   "outputs": [],
   "source": [
    "# load datasets and transform to tensors\n",
    "mnist_train = MNIST(\"./data/\", download = True, transform = transforms.ToTensor())\n",
    "mnist_test = MNIST(\"./data/\", train = False, download = True, transform = transforms.ToTensor())"
   ]
  },
  {
   "cell_type": "markdown",
   "metadata": {},
   "source": [
    "**NOTE:** The `ToTensor()` method transform a `PIL` image into a Torch tensor!"
   ]
  },
  {
   "cell_type": "code",
   "execution_count": 355,
   "metadata": {},
   "outputs": [
    {
     "data": {
      "image/png": "[encoded data removed]",
      "text/plain": [
       "<Figure size 640x480 with 1 Axes>"
      ]
     },
     "metadata": {},
     "output_type": "display_data"
    },
    {
     "name": "stdout",
     "output_type": "stream",
     "text": [
      "Image Shape: torch.Size([28, 28])\n",
      "Target: tensor(5)\n",
      "\n",
      "Train Set (Image): torch.Size([60000, 28, 28])\n",
      "Train Set (Target): torch.Size([60000])\n",
      "\n",
      "Test Set (Image): torch.Size([10000, 28, 28])\n",
      "Test Set (Target): torch.Size([10000])\n"
     ]
    }
   ],
   "source": [
    "# sample = first image\n",
    "sample_image = mnist_train.data[0, :, :]\n",
    "sample_target = mnist_train.targets[0]\n",
    "\n",
    "# show image\n",
    "plt.imshow(sample_image, cmap = \"gray\")\n",
    "plt.axis(\"off\")\n",
    "plt.show()\n",
    "\n",
    "print(\"Image Shape:\", sample_image.shape)\n",
    "print(\"Target:\", sample_target)\n",
    "print()\n",
    "print(\"Train Set (Image):\", mnist_train.data.shape)\n",
    "print(\"Train Set (Target):\", mnist_train.targets.shape)\n",
    "print()\n",
    "print(\"Test Set (Image):\", mnist_test.data.shape)\n",
    "print(\"Test Set (Target):\", mnist_test.targets.shape)"
   ]
  },
  {
   "cell_type": "code",
   "execution_count": 356,
   "metadata": {},
   "outputs": [
    {
     "name": "stdout",
     "output_type": "stream",
     "text": [
      "tensor([5, 0, 4,  ..., 5, 6, 8])\n",
      "torch.Size([60000])\n",
      "tensor([[5, 0, 4,  ..., 5, 6, 8]])\n"
     ]
    }
   ],
   "source": [
    "targets = mnist_train.targets\n",
    "print(targets)\n",
    "print(targets.shape)\n",
    "print(targets.reshape(1, -1))"
   ]
  },
  {
   "cell_type": "markdown",
   "metadata": {},
   "source": [
    "Apply `OneHotEncoder` to the targets. Each label will be expanded to 10 dimensions.\n",
    "- `reshape(-1, 1)`: changes the dimensions of the target into a $N\\times 1$ vector\n",
    "- `reshape(1, -1)`: changes the dimensions of the target into a $1\\times N$ vector (**not what we want**)"
   ]
  },
  {
   "cell_type": "code",
   "execution_count": 357,
   "metadata": {},
   "outputs": [
    {
     "name": "stdout",
     "output_type": "stream",
     "text": [
      "['x0_0', 'x0_1', 'x0_2', 'x0_3', 'x0_4', 'x0_5', 'x0_6', 'x0_7', 'x0_8', 'x0_9']\n",
      "[[0. 0. 0. 0. 0. 0. 0. 0. 0. 1.]]\n"
     ]
    }
   ],
   "source": [
    "# initialize one hot encoder for targets\n",
    "enc = OneHotEncoder(sparse = False)\n",
    "enc.fit(targets.reshape(-1, 1))\n",
    "print(list(enc.get_feature_names_out()))\n",
    "print(enc.transform([[9]]))"
   ]
  },
  {
   "cell_type": "markdown",
   "metadata": {},
   "source": [
    "**NOTE:** The `OneHotEncoder` needs the input to be reshaped by `reshape(-1, 1)`!"
   ]
  },
  {
   "cell_type": "markdown",
   "metadata": {},
   "source": [
    "The HOG function with the following parameters outputs a 1D feature array of size 144.\n",
    "- `orientations = 9`\n",
    "- `pixels_per_cell = (8, 8)`\n",
    "- `cells_per_block = (2, 2)`"
   ]
  },
  {
   "cell_type": "code",
   "execution_count": 358,
   "metadata": {},
   "outputs": [
    {
     "name": "stdout",
     "output_type": "stream",
     "text": [
      "(144,)\n"
     ]
    }
   ],
   "source": [
    "# apply HOG to sample image\n",
    "sample_features = apply_hog(sample_image)\n",
    "print(sample_features.shape)"
   ]
  },
  {
   "cell_type": "code",
   "execution_count": 359,
   "metadata": {},
   "outputs": [],
   "source": [
    "# define SVM model\n",
    "INPUT_FEATURES = sample_features.shape[0]\n",
    "OUTPUT_CLASSES = 10\n",
    "\n",
    "model = nn.Linear(144, 10).to(device)\n",
    "criterion = nn.CrossEntropyLoss()\n",
    "optimizer = torch.optim.Adam(model.parameters(), lr = 0.01)"
   ]
  },
  {
   "cell_type": "code",
   "execution_count": 360,
   "metadata": {},
   "outputs": [],
   "source": [
    "# initialize data loader\n",
    "BATCH_SIZE = 128\n",
    "train_loader = DataLoader(mnist_train, batch_size = BATCH_SIZE, shuffle = True)\n",
    "test_loader = DataLoader(mnist_test, batch_size = BATCH_SIZE, shuffle = False)"
   ]
  },
  {
   "cell_type": "markdown",
   "metadata": {},
   "source": [
    "The model will traverse the entire dataset `num_epochs` times. In each epoch, the model will be trained at `BATCH_SIZE` samples at a time.\n",
    "1. Transform each batch of labels with `OneHotEncoder` after reshaping (*fitted previously*).\n",
    "   1. Convert to `torch` tensor.\n",
    "   2. Convert to `LongTensor` (*categorical target*)\n",
    "2. Extract HOG features from *each* image from the batch of images.\n",
    "   1. Convert to `numpy` array.\n",
    "   2. Convert from `numpy` to `torch` tensor.\n",
    "   3. Send to GPU device.\n",
    "3. Forward and backward passes."
   ]
  },
  {
   "cell_type": "code",
   "execution_count": 361,
   "metadata": {},
   "outputs": [
    {
     "name": "stdout",
     "output_type": "stream",
     "text": [
      "Original: torch.Size([128, 1, 28, 28]) torch.Size([128])\n",
      "Label Transform: torch.Size([128, 10])\n",
      "Image Transform: torch.Size([128, 144])\n"
     ]
    }
   ],
   "source": [
    "counter = 0\n",
    "for it in range(1):\n",
    "    for images, labels in train_loader:\n",
    "        if counter >= 1:\n",
    "            break\n",
    "        print(\"Original:\", images.shape, labels.shape)\n",
    "        labels = torch.from_numpy(enc.transform(labels.reshape(-1, 1))).type(torch.LongTensor).to(device)\n",
    "        print(\"Label Transform:\", labels.shape)\n",
    "        features = torch.from_numpy(np.array([ apply_hog(img[0]) for img in images ])).to(device)\n",
    "        print(\"Image Transform:\", features.shape)\n",
    "\n",
    "        counter += 1"
   ]
  },
  {
   "cell_type": "code",
   "execution_count": 362,
   "metadata": {},
   "outputs": [],
   "source": [
    "# train model\n",
    "losses = []\n",
    "num_epochs = 8\n",
    "for it in range(num_epochs):\n",
    "    for images, labels in train_loader:\n",
    "        # apply OneHotEncoder to labels (after reshaping)\n",
    "        labels = enc.transform(labels.reshape(-1, 1))\n",
    "        labels = torch.from_numpy(labels).to(device)\n",
    "\n",
    "        # apply HOG to images and convert to tensors\n",
    "        features = np.array([ apply_hog(img[0]) for img in images ])\n",
    "        features = torch.from_numpy(features).to(device)\n",
    "        \n",
    "        # forward pass\n",
    "        outputs = model(features)\n",
    "        loss = criterion(outputs, labels)\n",
    "        losses.append(loss.item())\n",
    "\n",
    "        # backward pass\n",
    "        loss.backward()\n",
    "\n",
    "        # update parameters\n",
    "        optimizer.step()\n",
    "        optimizer.zero_grad()"
   ]
  },
  {
   "cell_type": "code",
   "execution_count": null,
   "metadata": {},
   "outputs": [
    {
     "data": {
      "image/png": "[encoded data removed]",
      "text/plain": [
       "<Figure size 640x480 with 1 Axes>"
      ]
     },
     "metadata": {},
     "output_type": "display_data"
    }
   ],
   "source": [
    "# plot loss\n",
    "plt.plot(losses, c = \"salmon\")\n",
    "plt.title(\"Loss\")\n",
    "plt.xlabel(\"Iteration\")\n",
    "plt.ylabel(\"Loss\")\n",
    "plt.show()"
   ]
  },
  {
   "cell_type": "markdown",
   "metadata": {},
   "source": [
    "We make a sample prediction.\n",
    "- `cpu()`: send it back to CPU\n",
    "- `detach()`: returns a new Tensor, detached from the current graph\n",
    "- `numpy()`: convert to numpy"
   ]
  },
  {
   "cell_type": "code",
   "execution_count": null,
   "metadata": {},
   "outputs": [
    {
     "data": {
      "image/png": "[encoded data removed]",
      "text/plain": [
       "<Figure size 640x480 with 1 Axes>"
      ]
     },
     "metadata": {},
     "output_type": "display_data"
    },
    {
     "name": "stdout",
     "output_type": "stream",
     "text": [
      "Target: tensor(3)\n"
     ]
    }
   ],
   "source": [
    "# make sample prediction\n",
    "idx = random.randint(0, len(mnist_test.data))\n",
    "\n",
    "# select random data point\n",
    "sample_test = mnist_test.data[idx, :, :]\n",
    "sample_target = mnist_test.targets[idx]\n",
    "\n",
    "# apply HOG to sample test image\n",
    "sample_test_tensor = torch.tensor(apply_hog(sample_test)).to(device).float()\n",
    "prediction = enc.inverse_transform(model(sample_test_tensor).cpu().detach().numpy().reshape(1, -1))\n",
    "\n",
    "# plot\n",
    "plt.imshow(sample_test, cmap = \"gray\")\n",
    "plt.axis(\"off\")\n",
    "plt.title(\"Predicted: {}\\nTrue: {}\".format(prediction.item(), sample_target))\n",
    "plt.show()\n",
    "print(\"Target:\", sample_target)\n"
   ]
  },
  {
   "cell_type": "code",
   "execution_count": null,
   "metadata": {},
   "outputs": [],
   "source": [
    "# make predictions\n",
    "predicted = model(torch.tensor(\n",
    "    np.array([ apply_hog(img) for img in mnist_test.data ])\n",
    ").to(device).float())\n",
    "predicted = enc.inverse_transform(predicted.cpu().detach().numpy())"
   ]
  },
  {
   "cell_type": "code",
   "execution_count": null,
   "metadata": {},
   "outputs": [
    {
     "data": {
      "image/png": "[encoded data removed]",
      "text/plain": [
       "<Figure size 640x480 with 2 Axes>"
      ]
     },
     "metadata": {},
     "output_type": "display_data"
    }
   ],
   "source": [
    "# construct confusion matrix\n",
    "matrix = metrics.ConfusionMatrixDisplay.from_predictions(mnist_test.targets.numpy(), predicted)"
   ]
  },
  {
   "cell_type": "code",
   "execution_count": null,
   "metadata": {},
   "outputs": [
    {
     "name": "stdout",
     "output_type": "stream",
     "text": [
      "Accuracy: 0.1462\n"
     ]
    }
   ],
   "source": [
    "accuracy = metrics.accuracy_score(mnist_test.targets.numpy(), predicted)\n",
    "print(\"Accuracy:\", accuracy)"
   ]
  },
  {
   "cell_type": "code",
   "execution_count": null,
   "metadata": {},
   "outputs": [],
   "source": []
  }
 ],
 "metadata": {
  "kernelspec": {
   "display_name": "Python 3.10.4 ('ml')",
   "language": "python",
   "name": "python3"
  },
  "language_info": {
   "codemirror_mode": {
    "name": "ipython",
    "version": 3
   },
   "file_extension": ".py",
   "mimetype": "text/x-python",
   "name": "python",
   "nbconvert_exporter": "python",
   "pygments_lexer": "ipython3",
   "version": "3.10.4"
  },
  "orig_nbformat": 4,
  "vscode": {
   "interpreter": {
    "hash": "b13c84f26b03b81837babb7d6bb182b97bb46d822613cfd30489287e68eae110"
   }
  }
 },
 "nbformat": 4,
 "nbformat_minor": 2
}
