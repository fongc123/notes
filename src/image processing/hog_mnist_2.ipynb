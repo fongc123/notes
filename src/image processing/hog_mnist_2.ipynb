{
 "cells": [
  {
   "cell_type": "markdown",
   "metadata": {},
   "source": [
    "# Image Processing: Histogram of Oriented Gradients (HOG) with MNIST Dataset"
   ]
  },
  {
   "cell_type": "code",
   "execution_count": 52,
   "metadata": {},
   "outputs": [],
   "source": [
    "import torch\n",
    "import torch.nn as nn\n",
    "from torchvision.datasets import MNIST\n",
    "from torchvision import transforms\n",
    "from torch.utils.data import DataLoader\n",
    "from sklearn.preprocessing import OneHotEncoder\n",
    "from skimage.feature import hog\n",
    "from sklearn.metrics import accuracy_score, confusion_matrix\n",
    "import matplotlib.pyplot as plt\n",
    "import numpy as np\n",
    "import itertools"
   ]
  },
  {
   "cell_type": "code",
   "execution_count": 36,
   "metadata": {},
   "outputs": [],
   "source": [
    "def apply_hog(img, o = 9, ppc = (8, 8), cpb = (2, 2)):\n",
    "    # apply HOG to image\n",
    "    features = hog(\n",
    "        img,\n",
    "        orientations = o,\n",
    "        pixels_per_cell = ppc,\n",
    "        cells_per_block = cpb,\n",
    "    )\n",
    "\n",
    "    return features"
   ]
  },
  {
   "cell_type": "code",
   "execution_count": 2,
   "metadata": {},
   "outputs": [
    {
     "name": "stdout",
     "output_type": "stream",
     "text": [
      "cuda:0\n"
     ]
    }
   ],
   "source": [
    "# set GPU\n",
    "device = torch.device(\"cuda:0\" if torch.cuda.is_available() else \"cpu\")\n",
    "print(device)"
   ]
  },
  {
   "cell_type": "markdown",
   "metadata": {},
   "source": [
    "The `MNIST` class loads in the data.\n",
    "- Train set size: 60000\n",
    "- Test set size: 10000\n",
    "\n",
    "All images have size $28\\times 28$ pixels."
   ]
  },
  {
   "cell_type": "code",
   "execution_count": 53,
   "metadata": {},
   "outputs": [],
   "source": [
    "# load datasets and transform to tensors\n",
    "mnist_train = MNIST(\"./data/\", download = True, transform = transforms.ToTensor())\n",
    "mnist_test = MNIST(\"./data/\", train = False, download = True, transform = transforms.ToTensor())"
   ]
  },
  {
   "cell_type": "markdown",
   "metadata": {},
   "source": [
    "**NOTE:** The `ToTensor()` method transform a `PIL` image into a Torch tensor!"
   ]
  },
  {
   "cell_type": "code",
   "execution_count": 54,
   "metadata": {},
   "outputs": [
    {
     "data": {
      "image/png": "[encoded data removed]",
      "text/plain": [
       "<Figure size 640x480 with 1 Axes>"
      ]
     },
     "metadata": {},
     "output_type": "display_data"
    },
    {
     "name": "stdout",
     "output_type": "stream",
     "text": [
      "Image Shape: torch.Size([28, 28])\n",
      "Target: tensor(5)\n",
      "\n",
      "Train Set (Image): torch.Size([60000, 28, 28])\n",
      "Train Set (Target): torch.Size([60000])\n",
      "\n",
      "Test Set (Image): torch.Size([10000, 28, 28])\n",
      "Test Set (Target): torch.Size([10000])\n"
     ]
    }
   ],
   "source": [
    "# sample = first image\n",
    "sample_image = mnist_train.data[0, :, :]\n",
    "sample_target = mnist_train.targets[0]\n",
    "\n",
    "# show image\n",
    "plt.imshow(sample_image, cmap = \"gray\")\n",
    "plt.axis(\"off\")\n",
    "plt.show()\n",
    "\n",
    "print(\"Image Shape:\", sample_image.shape)\n",
    "print(\"Target:\", sample_target)\n",
    "print()\n",
    "print(\"Train Set (Image):\", mnist_train.data.shape)\n",
    "print(\"Train Set (Target):\", mnist_train.targets.shape)\n",
    "print()\n",
    "print(\"Test Set (Image):\", mnist_test.data.shape)\n",
    "print(\"Test Set (Target):\", mnist_test.targets.shape)"
   ]
  },
  {
   "cell_type": "code",
   "execution_count": 89,
   "metadata": {},
   "outputs": [
    {
     "name": "stdout",
     "output_type": "stream",
     "text": [
      "tensor([5, 0, 4,  ..., 5, 6, 8])\n",
      "torch.Size([60000])\n",
      "tensor([[5, 0, 4,  ..., 5, 6, 8]])\n"
     ]
    }
   ],
   "source": [
    "targets = mnist_train.targets\n",
    "print(targets)\n",
    "print(targets.shape)\n",
    "print(targets.reshape(1, -1))"
   ]
  },
  {
   "cell_type": "markdown",
   "metadata": {},
   "source": [
    "Apply `OneHotEncoder` to the targets. Each label will be expanded to 10 dimensions.\n",
    "- `reshape(-1, 1)`: changes the dimensions of the target into a $N\\times 1$ vector\n",
    "- `reshape(1, -1)`: changes the dimensions of the target into a $1\\times N$ vector (**not what we want**)"
   ]
  },
  {
   "cell_type": "code",
   "execution_count": 80,
   "metadata": {},
   "outputs": [
    {
     "name": "stdout",
     "output_type": "stream",
     "text": [
      "['x0_0', 'x0_1', 'x0_2', 'x0_3', 'x0_4', 'x0_5', 'x0_6', 'x0_7', 'x0_8', 'x0_9']\n",
      "[[0. 1. 0. 0. 0. 0. 0. 0. 0. 0.]]\n"
     ]
    }
   ],
   "source": [
    "# initialize one hot encoder for targets\n",
    "enc = OneHotEncoder(sparse = False)\n",
    "enc.fit(targets.reshape(-1, 1))\n",
    "print(list(enc.get_feature_names_out()))\n",
    "print(enc.transform([[1]]))"
   ]
  },
  {
   "cell_type": "markdown",
   "metadata": {},
   "source": [
    "**NOTE:** The `OneHotEncoder` needs the input to be reshaped by `reshape(-1, 1)`!"
   ]
  },
  {
   "cell_type": "markdown",
   "metadata": {},
   "source": [
    "The HOG function with the following parameters outputs a 1D feature array of size 144.\n",
    "- `orientations = 9`\n",
    "- `pixels_per_cell = (8, 8)`\n",
    "- `cells_per_block = (2, 2)`"
   ]
  },
  {
   "cell_type": "code",
   "execution_count": 58,
   "metadata": {},
   "outputs": [
    {
     "name": "stdout",
     "output_type": "stream",
     "text": [
      "(144,)\n"
     ]
    }
   ],
   "source": [
    "# apply HOG to sample image\n",
    "sample_features = apply_hog(sample_image)\n",
    "print(sample_features.shape)"
   ]
  },
  {
   "cell_type": "code",
   "execution_count": 63,
   "metadata": {},
   "outputs": [],
   "source": [
    "# define SVM model\n",
    "INPUT_FEATURES = sample_features.shape[0]\n",
    "OUTPUT_CLASSES = 10\n",
    "\n",
    "model = nn.Linear(144, 10).to(device)\n",
    "criterion = nn.MultiLabelMarginLoss()\n",
    "optimizer = torch.optim.SGD(model.parameters(), lr = 0.01)"
   ]
  },
  {
   "cell_type": "code",
   "execution_count": 64,
   "metadata": {},
   "outputs": [],
   "source": [
    "# initialize data loader\n",
    "BATCH_SIZE = 128\n",
    "train_loader = DataLoader(mnist_train, batch_size = BATCH_SIZE, shuffle = True)\n",
    "test_loader = DataLoader(mnist_test, batch_size = BATCH_SIZE, shuffle = False)"
   ]
  },
  {
   "cell_type": "markdown",
   "metadata": {},
   "source": [
    "The model will traverse the entire dataset `num_epochs` times. In each epoch, the model will be trained at `BATCH_SIZE` samples at a time."
   ]
  },
  {
   "cell_type": "code",
   "execution_count": 122,
   "metadata": {},
   "outputs": [
    {
     "name": "stdout",
     "output_type": "stream",
     "text": [
      "<class 'torch.Tensor'> <class 'numpy.ndarray'>\n",
      "(128, 144)\n",
      "<class 'torch.Tensor'> <class 'numpy.ndarray'>\n",
      "(128, 144)\n"
     ]
    }
   ],
   "source": [
    "# train model\n",
    "counter = 0\n",
    "\n",
    "losses = []\n",
    "num_epochs = 2\n",
    "for it in range(num_epochs):\n",
    "    for images, labels in train_loader:\n",
    "        # apply OneHotEncoder to labels (after reshaping)\n",
    "        labels = enc.transform(labels.reshape(-1, 1))\n",
    "\n",
    "        # apply HOG to images\n",
    "        print(type(images), type(labels))\n",
    "        features = np.array([ apply_hog(img[0]) for img in images ])\n",
    "        print(features.shape)\n",
    "\n",
    "        # convert to tensors\n",
    "        features = torch.from_numpy(features).float().to(device)\n",
    "        labels = torch.from_numpy(labels).float().to(device)\n",
    "\n",
    "        counter += 1\n",
    "        if counter >= 0:\n",
    "            break"
   ]
  },
  {
   "cell_type": "code",
   "execution_count": 126,
   "metadata": {},
   "outputs": [
    {
     "ename": "AttributeError",
     "evalue": "'Tensor' object has no attribute 'transforms'",
     "output_type": "error",
     "traceback": [
      "\u001b[1;31m---------------------------------------------------------------------------\u001b[0m",
      "\u001b[1;31mAttributeError\u001b[0m                            Traceback (most recent call last)",
      "Cell \u001b[1;32mIn [126], line 1\u001b[0m\n\u001b[1;32m----> 1\u001b[0m torch\u001b[39m.\u001b[39mtensor([ \u001b[39m1\u001b[39m, \u001b[39m2\u001b[39m, \u001b[39m3\u001b[39m])\u001b[39m.\u001b[39mtransforms\u001b[39m.\u001b[39mLambda(apply_hog)\n",
      "\u001b[1;31mAttributeError\u001b[0m: 'Tensor' object has no attribute 'transforms'"
     ]
    }
   ],
   "source": [
    "torch.tensor([ 1, 2, 3]).transforms.Lambda(apply_hog)"
   ]
  },
  {
   "cell_type": "code",
   "execution_count": null,
   "metadata": {},
   "outputs": [],
   "source": []
  }
 ],
 "metadata": {
  "kernelspec": {
   "display_name": "Python 3.10.4 ('ml')",
   "language": "python",
   "name": "python3"
  },
  "language_info": {
   "codemirror_mode": {
    "name": "ipython",
    "version": 3
   },
   "file_extension": ".py",
   "mimetype": "text/x-python",
   "name": "python",
   "nbconvert_exporter": "python",
   "pygments_lexer": "ipython3",
   "version": "3.10.4"
  },
  "orig_nbformat": 4,
  "vscode": {
   "interpreter": {
    "hash": "b13c84f26b03b81837babb7d6bb182b97bb46d822613cfd30489287e68eae110"
   }
  }
 },
 "nbformat": 4,
 "nbformat_minor": 2
}
